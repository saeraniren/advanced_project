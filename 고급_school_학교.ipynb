{
 "cells": [
  {
   "cell_type": "code",
   "execution_count": 1,
   "id": "ac9a1c74",
   "metadata": {},
   "outputs": [],
   "source": [
    "import pandas as pd\n",
    "import numpy as np\n",
    "import matplotlib.pyplot as plt\n",
    "import seaborn as sns\n",
    "import os\n",
    "import matplotlib.font_manager as fm\n",
    "import koreanize_matplotlib\n",
    "\n",
    "# 폰트 경로 확인 및 설정\n",
    "font_path = '/usr/share/fonts/truetype/nanum/NanumGothic.ttf'  # 설치된 폰트 경로\n",
    "font_name = fm.FontProperties(fname=font_path).get_name()\n",
    "plt.rc('font', family=font_name)\n",
    "\n",
    "# 한글 깨짐 방지 - 마이너스 기호 처리\n",
    "plt.rcParams['axes.unicode_minus'] = False"
   ]
  },
  {
   "cell_type": "code",
   "execution_count": 2,
   "id": "543d08e3",
   "metadata": {},
   "outputs": [
    {
     "data": {
      "text/html": [
       "<div>\n",
       "<style scoped>\n",
       "    .dataframe tbody tr th:only-of-type {\n",
       "        vertical-align: middle;\n",
       "    }\n",
       "\n",
       "    .dataframe tbody tr th {\n",
       "        vertical-align: top;\n",
       "    }\n",
       "\n",
       "    .dataframe thead th {\n",
       "        text-align: right;\n",
       "    }\n",
       "</style>\n",
       "<table border=\"1\" class=\"dataframe\">\n",
       "  <thead>\n",
       "    <tr style=\"text-align: right;\">\n",
       "      <th></th>\n",
       "      <th>id</th>\n",
       "      <th>address</th>\n",
       "      <th>student_count</th>\n",
       "      <th>school_type</th>\n",
       "    </tr>\n",
       "  </thead>\n",
       "  <tbody>\n",
       "    <tr>\n",
       "      <th>0</th>\n",
       "      <td>4</td>\n",
       "      <td>충청북도 충주시</td>\n",
       "      <td>239</td>\n",
       "      <td>H</td>\n",
       "    </tr>\n",
       "    <tr>\n",
       "      <th>1</th>\n",
       "      <td>5</td>\n",
       "      <td>충청북도 충주시</td>\n",
       "      <td>160</td>\n",
       "      <td>M</td>\n",
       "    </tr>\n",
       "    <tr>\n",
       "      <th>2</th>\n",
       "      <td>6</td>\n",
       "      <td>충청북도 충주시</td>\n",
       "      <td>200</td>\n",
       "      <td>H</td>\n",
       "    </tr>\n",
       "    <tr>\n",
       "      <th>3</th>\n",
       "      <td>7</td>\n",
       "      <td>충청북도 충주시</td>\n",
       "      <td>114</td>\n",
       "      <td>H</td>\n",
       "    </tr>\n",
       "    <tr>\n",
       "      <th>4</th>\n",
       "      <td>8</td>\n",
       "      <td>충청북도 충주시</td>\n",
       "      <td>139</td>\n",
       "      <td>M</td>\n",
       "    </tr>\n",
       "    <tr>\n",
       "      <th>...</th>\n",
       "      <td>...</td>\n",
       "      <td>...</td>\n",
       "      <td>...</td>\n",
       "      <td>...</td>\n",
       "    </tr>\n",
       "    <tr>\n",
       "      <th>5946</th>\n",
       "      <td>5960</td>\n",
       "      <td>경상남도 양산시</td>\n",
       "      <td>166</td>\n",
       "      <td>H</td>\n",
       "    </tr>\n",
       "    <tr>\n",
       "      <th>5947</th>\n",
       "      <td>5961</td>\n",
       "      <td>인천광역시 서구</td>\n",
       "      <td>77</td>\n",
       "      <td>M</td>\n",
       "    </tr>\n",
       "    <tr>\n",
       "      <th>5948</th>\n",
       "      <td>5963</td>\n",
       "      <td>경북 김천시</td>\n",
       "      <td>17</td>\n",
       "      <td>H</td>\n",
       "    </tr>\n",
       "    <tr>\n",
       "      <th>5949</th>\n",
       "      <td>5964</td>\n",
       "      <td>-</td>\n",
       "      <td>1</td>\n",
       "      <td>H</td>\n",
       "    </tr>\n",
       "    <tr>\n",
       "      <th>5950</th>\n",
       "      <td>5965</td>\n",
       "      <td>경기도 동두천시</td>\n",
       "      <td>37</td>\n",
       "      <td>H</td>\n",
       "    </tr>\n",
       "  </tbody>\n",
       "</table>\n",
       "<p>5951 rows × 4 columns</p>\n",
       "</div>"
      ],
      "text/plain": [
       "        id   address  student_count school_type\n",
       "0        4  충청북도 충주시            239           H\n",
       "1        5  충청북도 충주시            160           M\n",
       "2        6  충청북도 충주시            200           H\n",
       "3        7  충청북도 충주시            114           H\n",
       "4        8  충청북도 충주시            139           M\n",
       "...    ...       ...            ...         ...\n",
       "5946  5960  경상남도 양산시            166           H\n",
       "5947  5961  인천광역시 서구             77           M\n",
       "5948  5963    경북 김천시             17           H\n",
       "5949  5964         -              1           H\n",
       "5950  5965  경기도 동두천시             37           H\n",
       "\n",
       "[5951 rows x 4 columns]"
      ]
     },
     "execution_count": 2,
     "metadata": {},
     "output_type": "execute_result"
    }
   ],
   "source": [
    "# 서비스 계정 키 경로 설정\n",
    "os.environ[\"GOOGLE_APPLICATION_CREDENTIALS\"] = r\"/home/eunyu/sprintda05-eunyu-a9946f7dea9c.json\"\n",
    "\n",
    "# GCS의 Parquet 파일 경로\n",
    "gcs_path = 'gs://final_project_enuyu/data/final_project/votes/accounts_school.parquet'\n",
    "\n",
    "# 데이터 불러오기\n",
    "school_df = pd.read_parquet(gcs_path, engine='pyarrow')\n",
    "school_df"
   ]
  },
  {
   "cell_type": "code",
   "execution_count": 3,
   "id": "70490372",
   "metadata": {},
   "outputs": [
    {
     "name": "stdout",
     "output_type": "stream",
     "text": [
      "<class 'pandas.core.frame.DataFrame'>\n",
      "RangeIndex: 5951 entries, 0 to 5950\n",
      "Data columns (total 4 columns):\n",
      " #   Column         Non-Null Count  Dtype \n",
      "---  ------         --------------  ----- \n",
      " 0   id             5951 non-null   int64 \n",
      " 1   address        5951 non-null   object\n",
      " 2   student_count  5951 non-null   int64 \n",
      " 3   school_type    5951 non-null   object\n",
      "dtypes: int64(2), object(2)\n",
      "memory usage: 186.1+ KB\n"
     ]
    }
   ],
   "source": [
    "school_df.info()"
   ]
  },
  {
   "cell_type": "code",
   "execution_count": 4,
   "id": "ca963ce0",
   "metadata": {},
   "outputs": [
    {
     "data": {
      "text/plain": [
       "id               0\n",
       "address          0\n",
       "student_count    0\n",
       "school_type      0\n",
       "dtype: int64"
      ]
     },
     "execution_count": 4,
     "metadata": {},
     "output_type": "execute_result"
    }
   ],
   "source": [
    "school_df.isnull().sum()"
   ]
  },
  {
   "cell_type": "code",
   "execution_count": null,
   "id": "868bc4fa",
   "metadata": {},
   "outputs": [
    {
     "data": {
      "text/html": [
       "<div>\n",
       "<style scoped>\n",
       "    .dataframe tbody tr th:only-of-type {\n",
       "        vertical-align: middle;\n",
       "    }\n",
       "\n",
       "    .dataframe tbody tr th {\n",
       "        vertical-align: top;\n",
       "    }\n",
       "\n",
       "    .dataframe thead th {\n",
       "        text-align: right;\n",
       "    }\n",
       "</style>\n",
       "<table border=\"1\" class=\"dataframe\">\n",
       "  <thead>\n",
       "    <tr style=\"text-align: right;\">\n",
       "      <th></th>\n",
       "      <th>id</th>\n",
       "      <th>address</th>\n",
       "      <th>student_count</th>\n",
       "      <th>school_type</th>\n",
       "    </tr>\n",
       "  </thead>\n",
       "  <tbody>\n",
       "    <tr>\n",
       "      <th>count</th>\n",
       "      <td>5951.000000</td>\n",
       "      <td>5951</td>\n",
       "      <td>5951.000000</td>\n",
       "      <td>5951</td>\n",
       "    </tr>\n",
       "    <tr>\n",
       "      <th>unique</th>\n",
       "      <td>NaN</td>\n",
       "      <td>278</td>\n",
       "      <td>NaN</td>\n",
       "      <td>2</td>\n",
       "    </tr>\n",
       "    <tr>\n",
       "      <th>top</th>\n",
       "      <td>NaN</td>\n",
       "      <td>경기도 화성시</td>\n",
       "      <td>NaN</td>\n",
       "      <td>M</td>\n",
       "    </tr>\n",
       "    <tr>\n",
       "      <th>freq</th>\n",
       "      <td>NaN</td>\n",
       "      <td>78</td>\n",
       "      <td>NaN</td>\n",
       "      <td>3290</td>\n",
       "    </tr>\n",
       "    <tr>\n",
       "      <th>mean</th>\n",
       "      <td>2981.026046</td>\n",
       "      <td>NaN</td>\n",
       "      <td>113.772979</td>\n",
       "      <td>NaN</td>\n",
       "    </tr>\n",
       "    <tr>\n",
       "      <th>std</th>\n",
       "      <td>1719.084020</td>\n",
       "      <td>NaN</td>\n",
       "      <td>102.863428</td>\n",
       "      <td>NaN</td>\n",
       "    </tr>\n",
       "    <tr>\n",
       "      <th>min</th>\n",
       "      <td>4.000000</td>\n",
       "      <td>NaN</td>\n",
       "      <td>0.000000</td>\n",
       "      <td>NaN</td>\n",
       "    </tr>\n",
       "    <tr>\n",
       "      <th>25%</th>\n",
       "      <td>1493.500000</td>\n",
       "      <td>NaN</td>\n",
       "      <td>16.000000</td>\n",
       "      <td>NaN</td>\n",
       "    </tr>\n",
       "    <tr>\n",
       "      <th>50%</th>\n",
       "      <td>2981.000000</td>\n",
       "      <td>NaN</td>\n",
       "      <td>97.000000</td>\n",
       "      <td>NaN</td>\n",
       "    </tr>\n",
       "    <tr>\n",
       "      <th>75%</th>\n",
       "      <td>4469.500000</td>\n",
       "      <td>NaN</td>\n",
       "      <td>183.000000</td>\n",
       "      <td>NaN</td>\n",
       "    </tr>\n",
       "    <tr>\n",
       "      <th>max</th>\n",
       "      <td>5965.000000</td>\n",
       "      <td>NaN</td>\n",
       "      <td>578.000000</td>\n",
       "      <td>NaN</td>\n",
       "    </tr>\n",
       "  </tbody>\n",
       "</table>\n",
       "</div>"
      ],
      "text/plain": [
       "                 id  address  student_count school_type\n",
       "count   5951.000000     5951    5951.000000        5951\n",
       "unique          NaN      278            NaN           2\n",
       "top             NaN  경기도 화성시            NaN           M\n",
       "freq            NaN       78            NaN        3290\n",
       "mean    2981.026046      NaN     113.772979         NaN\n",
       "std     1719.084020      NaN     102.863428         NaN\n",
       "min        4.000000      NaN       0.000000         NaN\n",
       "25%     1493.500000      NaN      16.000000         NaN\n",
       "50%     2981.000000      NaN      97.000000         NaN\n",
       "75%     4469.500000      NaN     183.000000         NaN\n",
       "max     5965.000000      NaN     578.000000         NaN"
      ]
     },
     "execution_count": 5,
     "metadata": {},
     "output_type": "execute_result"
    }
   ],
   "source": [
    "school_df.describe(include='all')"
   ]
  },
  {
   "cell_type": "markdown",
   "id": "32ae0c7b",
   "metadata": {},
   "source": [
    "#### 학교id 고유 5951"
   ]
  },
  {
   "cell_type": "code",
   "execution_count": 7,
   "id": "ac5ca084",
   "metadata": {},
   "outputs": [
    {
     "data": {
      "text/plain": [
       "5951"
      ]
     },
     "execution_count": 7,
     "metadata": {},
     "output_type": "execute_result"
    }
   ],
   "source": [
    "# qusetion_record에서 참여한 유저 수\n",
    "school_df['id'].nunique()"
   ]
  },
  {
   "cell_type": "markdown",
   "id": "2f67d71d",
   "metadata": {},
   "source": [
    "#### student_count = 0인 학교 확인"
   ]
  },
  {
   "cell_type": "code",
   "execution_count": 6,
   "id": "a9bcd372",
   "metadata": {},
   "outputs": [
    {
     "name": "stdout",
     "output_type": "stream",
     "text": [
      "학생 수가 0명인 학교 수: 387\n"
     ]
    },
    {
     "data": {
      "text/plain": [
       "address\n",
       "전라남도 신안군    8\n",
       "경상북도 청송군    7\n",
       "강원도 영월군     7\n",
       "경상북도 영천시    6\n",
       "강원도 삼척시     6\n",
       "충청북도 제천시    6\n",
       "경상북도 상주시    5\n",
       "전라북도 익산시    5\n",
       "경상북도 의성군    5\n",
       "경상남도 진주시    5\n",
       "Name: count, dtype: int64"
      ]
     },
     "execution_count": 6,
     "metadata": {},
     "output_type": "execute_result"
    }
   ],
   "source": [
    "# student_count가 0인 학교 필터링\n",
    "zero_students = school_df[school_df['student_count'] == 0]\n",
    "print(f\"학생 수가 0명인 학교 수: {len(zero_students)}\")\n",
    "zero_students['school_type'].value_counts()\n",
    "zero_students['address'].value_counts().head(10)"
   ]
  },
  {
   "cell_type": "markdown",
   "id": "6681707b",
   "metadata": {},
   "source": [
    "#### school_type별 평균 학생 수"
   ]
  },
  {
   "cell_type": "code",
   "execution_count": 7,
   "id": "1f303339",
   "metadata": {},
   "outputs": [
    {
     "name": "stdout",
     "output_type": "stream",
     "text": [
      "school_type별 평균 학생 수:\n",
      "school_type\n",
      "H    141.349117\n",
      "M     91.468997\n",
      "Name: student_count, dtype: float64\n"
     ]
    }
   ],
   "source": [
    "# school_type별 student_count 평균\n",
    "school_type_avg = school_df.groupby('school_type')['student_count'].mean()\n",
    "print(\"school_type별 평균 학생 수:\")\n",
    "print(school_type_avg)"
   ]
  },
  {
   "cell_type": "markdown",
   "id": "d2318cad",
   "metadata": {},
   "source": [
    "#### 지역별 학교 수 분포 (address)"
   ]
  },
  {
   "cell_type": "code",
   "execution_count": 8,
   "id": "f2065bf1",
   "metadata": {},
   "outputs": [
    {
     "name": "stdout",
     "output_type": "stream",
     "text": [
      "학교 수가 많은 상위 10개 지역:\n",
      "address\n",
      "경기도 화성시        78\n",
      "경기도 부천시        60\n",
      "경상남도 김해시       58\n",
      "경기도 남양주시       58\n",
      "대구광역시 달서구      56\n",
      "서울특별시 노원구      54\n",
      "경기도 성남시 분당구    53\n",
      "서울특별시 송파구      52\n",
      "제주특별자치도 제주시    52\n",
      "광주광역시 북구       52\n",
      "Name: count, dtype: int64\n"
     ]
    }
   ],
   "source": [
    "# address별 학교 수 카운트\n",
    "address_count = school_df['address'].value_counts().head(10)\n",
    "print(\"학교 수가 많은 상위 10개 지역:\")\n",
    "print(address_count)"
   ]
  },
  {
   "cell_type": "markdown",
   "id": "3c9d5724",
   "metadata": {},
   "source": [
    "#### 이상치 탐지 (학생 수가 500명 이상인 학교)"
   ]
  },
  {
   "cell_type": "code",
   "execution_count": 11,
   "id": "f65c0015",
   "metadata": {},
   "outputs": [
    {
     "name": "stdout",
     "output_type": "stream",
     "text": [
      "학생 수가 500명 이상인 학교 수: 5\n"
     ]
    },
    {
     "data": {
      "text/html": [
       "<div>\n",
       "<style scoped>\n",
       "    .dataframe tbody tr th:only-of-type {\n",
       "        vertical-align: middle;\n",
       "    }\n",
       "\n",
       "    .dataframe tbody tr th {\n",
       "        vertical-align: top;\n",
       "    }\n",
       "\n",
       "    .dataframe thead th {\n",
       "        text-align: right;\n",
       "    }\n",
       "</style>\n",
       "<table border=\"1\" class=\"dataframe\">\n",
       "  <thead>\n",
       "    <tr style=\"text-align: right;\">\n",
       "      <th></th>\n",
       "      <th>id</th>\n",
       "      <th>address</th>\n",
       "      <th>student_count</th>\n",
       "      <th>school_type</th>\n",
       "    </tr>\n",
       "  </thead>\n",
       "  <tbody>\n",
       "    <tr>\n",
       "      <th>365</th>\n",
       "      <td>369</td>\n",
       "      <td>충청남도 아산시</td>\n",
       "      <td>578</td>\n",
       "      <td>H</td>\n",
       "    </tr>\n",
       "    <tr>\n",
       "      <th>1713</th>\n",
       "      <td>1719</td>\n",
       "      <td>울산광역시 울주군</td>\n",
       "      <td>550</td>\n",
       "      <td>H</td>\n",
       "    </tr>\n",
       "    <tr>\n",
       "      <th>4509</th>\n",
       "      <td>4516</td>\n",
       "      <td>경기도 화성시</td>\n",
       "      <td>507</td>\n",
       "      <td>H</td>\n",
       "    </tr>\n",
       "    <tr>\n",
       "      <th>5365</th>\n",
       "      <td>5372</td>\n",
       "      <td>경기도 남양주시</td>\n",
       "      <td>505</td>\n",
       "      <td>H</td>\n",
       "    </tr>\n",
       "    <tr>\n",
       "      <th>5513</th>\n",
       "      <td>5520</td>\n",
       "      <td>경기도 광명시</td>\n",
       "      <td>500</td>\n",
       "      <td>M</td>\n",
       "    </tr>\n",
       "  </tbody>\n",
       "</table>\n",
       "</div>"
      ],
      "text/plain": [
       "        id    address  student_count school_type\n",
       "365    369   충청남도 아산시            578           H\n",
       "1713  1719  울산광역시 울주군            550           H\n",
       "4509  4516    경기도 화성시            507           H\n",
       "5365  5372   경기도 남양주시            505           H\n",
       "5513  5520    경기도 광명시            500           M"
      ]
     },
     "execution_count": 11,
     "metadata": {},
     "output_type": "execute_result"
    }
   ],
   "source": [
    "# student_count가 500명 이상인 경우 필터링\n",
    "outliers = school_df[school_df['student_count'] >= 500]\n",
    "print(f\"학생 수가 500명 이상인 학교 수: {len(outliers)}\")\n",
    "outliers[['id', 'address', 'student_count', 'school_type']].sort_values(by='student_count', ascending=False).head()"
   ]
  },
  {
   "cell_type": "code",
   "execution_count": null,
   "id": "7d099500",
   "metadata": {},
   "outputs": [],
   "source": []
  },
  {
   "cell_type": "code",
   "execution_count": null,
   "id": "becbe2c6",
   "metadata": {},
   "outputs": [],
   "source": []
  },
  {
   "cell_type": "code",
   "execution_count": null,
   "id": "a71fabad",
   "metadata": {},
   "outputs": [],
   "source": []
  },
  {
   "cell_type": "code",
   "execution_count": null,
   "id": "b6be6e9a",
   "metadata": {},
   "outputs": [],
   "source": []
  },
  {
   "cell_type": "code",
   "execution_count": null,
   "id": "e674857a",
   "metadata": {},
   "outputs": [],
   "source": []
  }
 ],
 "metadata": {
  "kernelspec": {
   "display_name": "Python 3",
   "language": "python",
   "name": "python3"
  },
  "language_info": {
   "codemirror_mode": {
    "name": "ipython",
    "version": 3
   },
   "file_extension": ".py",
   "mimetype": "text/x-python",
   "name": "python",
   "nbconvert_exporter": "python",
   "pygments_lexer": "ipython3",
   "version": "3.12.3"
  }
 },
 "nbformat": 4,
 "nbformat_minor": 5
}
