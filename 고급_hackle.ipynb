{
 "cells": [
  {
   "cell_type": "code",
   "execution_count": 1,
   "id": "4c54383c",
   "metadata": {},
   "outputs": [],
   "source": [
    "import pandas as pd\n",
    "import numpy as np\n",
    "import matplotlib.pyplot as plt\n",
    "import seaborn as sns\n",
    "import os\n",
    "import matplotlib.font_manager as fm\n",
    "import koreanize_matplotlib\n",
    "\n",
    "# 폰트 경로 확인 및 설정\n",
    "font_path = '/usr/share/fonts/truetype/nanum/NanumGothic.ttf'  # 설치된 폰트 경로\n",
    "font_name = fm.FontProperties(fname=font_path).get_name()\n",
    "plt.rc('font', family=font_name)\n",
    "\n",
    "# 한글 깨짐 방지 - 마이너스 기호 처리\n",
    "plt.rcParams['axes.unicode_minus'] = False"
   ]
  },
  {
   "cell_type": "markdown",
   "id": "0ef9d1c5",
   "metadata": {},
   "source": [
    "---"
   ]
  },
  {
   "cell_type": "markdown",
   "id": "b3a23867",
   "metadata": {},
   "source": [
    "# 1. hackle_events"
   ]
  },
  {
   "cell_type": "code",
   "execution_count": 2,
   "id": "e234af9b",
   "metadata": {},
   "outputs": [
    {
     "data": {
      "text/html": [
       "<div>\n",
       "<style scoped>\n",
       "    .dataframe tbody tr th:only-of-type {\n",
       "        vertical-align: middle;\n",
       "    }\n",
       "\n",
       "    .dataframe tbody tr th {\n",
       "        vertical-align: top;\n",
       "    }\n",
       "\n",
       "    .dataframe thead th {\n",
       "        text-align: right;\n",
       "    }\n",
       "</style>\n",
       "<table border=\"1\" class=\"dataframe\">\n",
       "  <thead>\n",
       "    <tr style=\"text-align: right;\">\n",
       "      <th></th>\n",
       "      <th>event_id</th>\n",
       "      <th>event_datetime</th>\n",
       "      <th>event_key</th>\n",
       "      <th>session_id</th>\n",
       "      <th>id</th>\n",
       "      <th>item_name</th>\n",
       "      <th>page_name</th>\n",
       "      <th>friend_count</th>\n",
       "      <th>votes_count</th>\n",
       "      <th>heart_balance</th>\n",
       "      <th>question_id</th>\n",
       "    </tr>\n",
       "  </thead>\n",
       "  <tbody>\n",
       "    <tr>\n",
       "      <th>0</th>\n",
       "      <td>00000533-3f1c-4b3b-81f1-0c8f35754b4e</td>\n",
       "      <td>2023-07-18 19:40:17</td>\n",
       "      <td>$session_start</td>\n",
       "      <td>4OzYh3seq3VKytpSn5pvQkZNQii1</td>\n",
       "      <td>00000533-3f1c-4b3b-81f1-0c8f35754b4e</td>\n",
       "      <td></td>\n",
       "      <td></td>\n",
       "      <td>NaN</td>\n",
       "      <td>NaN</td>\n",
       "      <td>NaN</td>\n",
       "      <td>NaN</td>\n",
       "    </tr>\n",
       "    <tr>\n",
       "      <th>1</th>\n",
       "      <td>00000716-27e9-4e72-a602-d0ce61784b06</td>\n",
       "      <td>2023-07-18 21:07:24</td>\n",
       "      <td>click_question_open</td>\n",
       "      <td>8QXy31PQxbW9qLzq0Y1dhR8Ypm52</td>\n",
       "      <td>00000716-27e9-4e72-a602-d0ce61784b06</td>\n",
       "      <td></td>\n",
       "      <td></td>\n",
       "      <td>64.0</td>\n",
       "      <td>436.0</td>\n",
       "      <td>4830.0</td>\n",
       "      <td>NaN</td>\n",
       "    </tr>\n",
       "    <tr>\n",
       "      <th>2</th>\n",
       "      <td>000007c8-68ce-40e6-9b1e-f0e34e8ff9cc</td>\n",
       "      <td>2023-08-06 20:18:03</td>\n",
       "      <td>click_bottom_navigation_profile</td>\n",
       "      <td>6bcea65d-9f40-46fc-888c-700fe707483f</td>\n",
       "      <td>000007c8-68ce-40e6-9b1e-f0e34e8ff9cc</td>\n",
       "      <td></td>\n",
       "      <td></td>\n",
       "      <td>26.0</td>\n",
       "      <td>174.0</td>\n",
       "      <td>4729.0</td>\n",
       "      <td>NaN</td>\n",
       "    </tr>\n",
       "    <tr>\n",
       "      <th>3</th>\n",
       "      <td>00000981-5e2a-4111-993e-4f1891ad9a53</td>\n",
       "      <td>2023-08-05 01:46:10</td>\n",
       "      <td>view_shop</td>\n",
       "      <td>XVYNT6zfhFWqIg9omwg2AHDjTLx2</td>\n",
       "      <td>00000981-5e2a-4111-993e-4f1891ad9a53</td>\n",
       "      <td></td>\n",
       "      <td></td>\n",
       "      <td>61.0</td>\n",
       "      <td>44.0</td>\n",
       "      <td>142.0</td>\n",
       "      <td>NaN</td>\n",
       "    </tr>\n",
       "    <tr>\n",
       "      <th>4</th>\n",
       "      <td>00000a7a-ba72-4332-b4a9-7910670aaeb2</td>\n",
       "      <td>2023-07-24 15:03:37</td>\n",
       "      <td>click_bottom_navigation_lab</td>\n",
       "      <td>XFB2SPiGfjbVhvJ3Q3DBsaT3m2B3</td>\n",
       "      <td>00000a7a-ba72-4332-b4a9-7910670aaeb2</td>\n",
       "      <td></td>\n",
       "      <td></td>\n",
       "      <td>119.0</td>\n",
       "      <td>545.0</td>\n",
       "      <td>3287.0</td>\n",
       "      <td>NaN</td>\n",
       "    </tr>\n",
       "    <tr>\n",
       "      <th>...</th>\n",
       "      <td>...</td>\n",
       "      <td>...</td>\n",
       "      <td>...</td>\n",
       "      <td>...</td>\n",
       "      <td>...</td>\n",
       "      <td>...</td>\n",
       "      <td>...</td>\n",
       "      <td>...</td>\n",
       "      <td>...</td>\n",
       "      <td>...</td>\n",
       "      <td>...</td>\n",
       "    </tr>\n",
       "    <tr>\n",
       "      <th>11441314</th>\n",
       "      <td>fffff54e-e730-418f-8080-4eff7e2641f2</td>\n",
       "      <td>2023-08-08 01:40:00</td>\n",
       "      <td>view_timeline_tap</td>\n",
       "      <td>n9RSY5wNfvURIV3sKeXZiYWiVSD3</td>\n",
       "      <td>fffff54e-e730-418f-8080-4eff7e2641f2</td>\n",
       "      <td></td>\n",
       "      <td></td>\n",
       "      <td>27.0</td>\n",
       "      <td>92.0</td>\n",
       "      <td>326.0</td>\n",
       "      <td>NaN</td>\n",
       "    </tr>\n",
       "    <tr>\n",
       "      <th>11441315</th>\n",
       "      <td>fffff57d-6c79-46b3-a87b-4bfa900ef11b</td>\n",
       "      <td>2023-07-23 09:30:22</td>\n",
       "      <td>skip_question</td>\n",
       "      <td>CB3F11FD-4B78-4496-96E7-3B4174C123E9</td>\n",
       "      <td>fffff57d-6c79-46b3-a87b-4bfa900ef11b</td>\n",
       "      <td></td>\n",
       "      <td></td>\n",
       "      <td>0.0</td>\n",
       "      <td>0.0</td>\n",
       "      <td>300.0</td>\n",
       "      <td>799.0</td>\n",
       "    </tr>\n",
       "    <tr>\n",
       "      <th>11441316</th>\n",
       "      <td>fffff632-2d70-4190-addd-6ae2f2399876</td>\n",
       "      <td>2023-07-18 18:13:30</td>\n",
       "      <td>view_lab_tap</td>\n",
       "      <td>AwpRr0ll7bTfFV22MIXHDASEpz72</td>\n",
       "      <td>fffff632-2d70-4190-addd-6ae2f2399876</td>\n",
       "      <td></td>\n",
       "      <td></td>\n",
       "      <td>29.0</td>\n",
       "      <td>97.0</td>\n",
       "      <td>284.0</td>\n",
       "      <td>NaN</td>\n",
       "    </tr>\n",
       "    <tr>\n",
       "      <th>11441317</th>\n",
       "      <td>fffffb07-af2f-4cce-a26e-1dcc97c74b14</td>\n",
       "      <td>2023-07-21 15:37:27</td>\n",
       "      <td>view_timeline_tap</td>\n",
       "      <td>H8oiWwKxRiYByNykbb2GsVYd8JU2</td>\n",
       "      <td>fffffb07-af2f-4cce-a26e-1dcc97c74b14</td>\n",
       "      <td></td>\n",
       "      <td></td>\n",
       "      <td>49.0</td>\n",
       "      <td>527.0</td>\n",
       "      <td>932.0</td>\n",
       "      <td>NaN</td>\n",
       "    </tr>\n",
       "    <tr>\n",
       "      <th>11441318</th>\n",
       "      <td>fffffeac-675f-4c6e-900a-a422ed9bd57c</td>\n",
       "      <td>2023-07-22 02:31:16</td>\n",
       "      <td>$session_start</td>\n",
       "      <td>4GRqxdquqEPpUFf4w9dNoMHwVCh2</td>\n",
       "      <td>fffffeac-675f-4c6e-900a-a422ed9bd57c</td>\n",
       "      <td></td>\n",
       "      <td></td>\n",
       "      <td>NaN</td>\n",
       "      <td>NaN</td>\n",
       "      <td>NaN</td>\n",
       "      <td>NaN</td>\n",
       "    </tr>\n",
       "  </tbody>\n",
       "</table>\n",
       "<p>11441319 rows × 11 columns</p>\n",
       "</div>"
      ],
      "text/plain": [
       "                                      event_id      event_datetime  \\\n",
       "0         00000533-3f1c-4b3b-81f1-0c8f35754b4e 2023-07-18 19:40:17   \n",
       "1         00000716-27e9-4e72-a602-d0ce61784b06 2023-07-18 21:07:24   \n",
       "2         000007c8-68ce-40e6-9b1e-f0e34e8ff9cc 2023-08-06 20:18:03   \n",
       "3         00000981-5e2a-4111-993e-4f1891ad9a53 2023-08-05 01:46:10   \n",
       "4         00000a7a-ba72-4332-b4a9-7910670aaeb2 2023-07-24 15:03:37   \n",
       "...                                        ...                 ...   \n",
       "11441314  fffff54e-e730-418f-8080-4eff7e2641f2 2023-08-08 01:40:00   \n",
       "11441315  fffff57d-6c79-46b3-a87b-4bfa900ef11b 2023-07-23 09:30:22   \n",
       "11441316  fffff632-2d70-4190-addd-6ae2f2399876 2023-07-18 18:13:30   \n",
       "11441317  fffffb07-af2f-4cce-a26e-1dcc97c74b14 2023-07-21 15:37:27   \n",
       "11441318  fffffeac-675f-4c6e-900a-a422ed9bd57c 2023-07-22 02:31:16   \n",
       "\n",
       "                                event_key  \\\n",
       "0                          $session_start   \n",
       "1                     click_question_open   \n",
       "2         click_bottom_navigation_profile   \n",
       "3                               view_shop   \n",
       "4             click_bottom_navigation_lab   \n",
       "...                                   ...   \n",
       "11441314                view_timeline_tap   \n",
       "11441315                    skip_question   \n",
       "11441316                     view_lab_tap   \n",
       "11441317                view_timeline_tap   \n",
       "11441318                   $session_start   \n",
       "\n",
       "                                    session_id  \\\n",
       "0                 4OzYh3seq3VKytpSn5pvQkZNQii1   \n",
       "1                 8QXy31PQxbW9qLzq0Y1dhR8Ypm52   \n",
       "2         6bcea65d-9f40-46fc-888c-700fe707483f   \n",
       "3                 XVYNT6zfhFWqIg9omwg2AHDjTLx2   \n",
       "4                 XFB2SPiGfjbVhvJ3Q3DBsaT3m2B3   \n",
       "...                                        ...   \n",
       "11441314          n9RSY5wNfvURIV3sKeXZiYWiVSD3   \n",
       "11441315  CB3F11FD-4B78-4496-96E7-3B4174C123E9   \n",
       "11441316          AwpRr0ll7bTfFV22MIXHDASEpz72   \n",
       "11441317          H8oiWwKxRiYByNykbb2GsVYd8JU2   \n",
       "11441318          4GRqxdquqEPpUFf4w9dNoMHwVCh2   \n",
       "\n",
       "                                            id item_name page_name  \\\n",
       "0         00000533-3f1c-4b3b-81f1-0c8f35754b4e                       \n",
       "1         00000716-27e9-4e72-a602-d0ce61784b06                       \n",
       "2         000007c8-68ce-40e6-9b1e-f0e34e8ff9cc                       \n",
       "3         00000981-5e2a-4111-993e-4f1891ad9a53                       \n",
       "4         00000a7a-ba72-4332-b4a9-7910670aaeb2                       \n",
       "...                                        ...       ...       ...   \n",
       "11441314  fffff54e-e730-418f-8080-4eff7e2641f2                       \n",
       "11441315  fffff57d-6c79-46b3-a87b-4bfa900ef11b                       \n",
       "11441316  fffff632-2d70-4190-addd-6ae2f2399876                       \n",
       "11441317  fffffb07-af2f-4cce-a26e-1dcc97c74b14                       \n",
       "11441318  fffffeac-675f-4c6e-900a-a422ed9bd57c                       \n",
       "\n",
       "          friend_count  votes_count  heart_balance  question_id  \n",
       "0                  NaN          NaN            NaN          NaN  \n",
       "1                 64.0        436.0         4830.0          NaN  \n",
       "2                 26.0        174.0         4729.0          NaN  \n",
       "3                 61.0         44.0          142.0          NaN  \n",
       "4                119.0        545.0         3287.0          NaN  \n",
       "...                ...          ...            ...          ...  \n",
       "11441314          27.0         92.0          326.0          NaN  \n",
       "11441315           0.0          0.0          300.0        799.0  \n",
       "11441316          29.0         97.0          284.0          NaN  \n",
       "11441317          49.0        527.0          932.0          NaN  \n",
       "11441318           NaN          NaN            NaN          NaN  \n",
       "\n",
       "[11441319 rows x 11 columns]"
      ]
     },
     "execution_count": 2,
     "metadata": {},
     "output_type": "execute_result"
    }
   ],
   "source": [
    "# 서비스 계정 키 경로 설정\n",
    "os.environ[\"GOOGLE_APPLICATION_CREDENTIALS\"] = r\"/home/eunyu/sprintda05-eunyu-a9946f7dea9c.json\"\n",
    "# GCS의 Parquet 파일 경로\n",
    "gcs_path = 'gs://final_project_enuyu/data/final_project/hackle/hackle_events.parquet'\n",
    "\n",
    "# 데이터 불러오기\n",
    "hackle_events_df = pd.read_parquet(gcs_path, engine='pyarrow')\n",
    "hackle_events_df"
   ]
  },
  {
   "cell_type": "code",
   "execution_count": 15,
   "id": "fc1c8a83",
   "metadata": {},
   "outputs": [
    {
     "name": "stdout",
     "output_type": "stream",
     "text": [
      "<class 'pandas.core.frame.DataFrame'>\n",
      "RangeIndex: 11441319 entries, 0 to 11441318\n",
      "Data columns (total 11 columns):\n",
      " #   Column          Dtype         \n",
      "---  ------          -----         \n",
      " 0   event_id        object        \n",
      " 1   event_datetime  datetime64[ms]\n",
      " 2   event_key       object        \n",
      " 3   session_id      object        \n",
      " 4   id              object        \n",
      " 5   item_name       object        \n",
      " 6   page_name       object        \n",
      " 7   friend_count    float64       \n",
      " 8   votes_count     float64       \n",
      " 9   heart_balance   float64       \n",
      " 10  question_id     float64       \n",
      "dtypes: datetime64[ms](1), float64(4), object(6)\n",
      "memory usage: 960.2+ MB\n"
     ]
    }
   ],
   "source": [
    "hackle_events_df.info()"
   ]
  },
  {
   "cell_type": "code",
   "execution_count": 16,
   "id": "cf1f6980",
   "metadata": {},
   "outputs": [
    {
     "data": {
      "text/plain": [
       "event_id                 0\n",
       "event_datetime           0\n",
       "event_key                0\n",
       "session_id               0\n",
       "id                       0\n",
       "item_name                0\n",
       "page_name                0\n",
       "friend_count        752556\n",
       "votes_count         754554\n",
       "heart_balance       728643\n",
       "question_id       10991835\n",
       "dtype: int64"
      ]
     },
     "execution_count": 16,
     "metadata": {},
     "output_type": "execute_result"
    }
   ],
   "source": [
    "hackle_events_df.isnull().sum()"
   ]
  },
  {
   "cell_type": "code",
   "execution_count": null,
   "id": "caa7878e",
   "metadata": {},
   "outputs": [],
   "source": []
  },
  {
   "cell_type": "code",
   "execution_count": 39,
   "id": "207d8c11",
   "metadata": {},
   "outputs": [
    {
     "name": "stdout",
     "output_type": "stream",
     "text": [
      "item_name 값 있는 row 수: 11441319\n",
      "page_name 값 있는 row 수: 11441319\n",
      "item_name\n",
      "           11428280\n",
      "무료충전소          7617\n",
      "777 하트         3258\n",
      "1000 하트        1112\n",
      "200 하트         1001\n",
      "4000 하트          51\n",
      "Name: count, dtype: int64\n",
      "page_name\n",
      "           10652540\n",
      "home         518348\n",
      "notice       229358\n",
      "profile       14627\n",
      "학년선택          10714\n",
      "반선택            8592\n",
      "학교선택           1904\n",
      "번호인증           1246\n",
      "아이디입력          1072\n",
      "성별선택           1057\n",
      "Name: count, dtype: int64\n"
     ]
    }
   ],
   "source": [
    "# 실제 값 있는 row 수\n",
    "print(\"item_name 값 있는 row 수:\", hackle_events_df['item_name'].notnull().sum())\n",
    "print(\"page_name 값 있는 row 수:\", hackle_events_df['page_name'].notnull().sum())\n",
    "\n",
    "# 고유값 상위 분포\n",
    "print(hackle_events_df['item_name'].value_counts().head(10))\n",
    "print(hackle_events_df['page_name'].value_counts().head(10))\n"
   ]
  },
  {
   "cell_type": "code",
   "execution_count": null,
   "id": "35a1fa58",
   "metadata": {},
   "outputs": [],
   "source": []
  },
  {
   "cell_type": "code",
   "execution_count": 40,
   "id": "101960e6",
   "metadata": {},
   "outputs": [
    {
     "data": {
      "text/plain": [
       "nan"
      ]
     },
     "execution_count": 40,
     "metadata": {},
     "output_type": "execute_result"
    }
   ],
   "source": [
    "hackle_events_df[hackle_events_df['event_key'] == 'view_item']['item_name'].notnull().mean()\n"
   ]
  },
  {
   "cell_type": "code",
   "execution_count": 41,
   "id": "7c75d902",
   "metadata": {},
   "outputs": [
    {
     "name": "stdout",
     "output_type": "stream",
     "text": [
      "두 컬럼 모두 비어 있는 row 비율: 0.0 %\n"
     ]
    }
   ],
   "source": [
    "both_missing = hackle_events_df['item_name'].isnull() & hackle_events_df['page_name'].isnull()\n",
    "print(\"두 컬럼 모두 비어 있는 row 비율:\", both_missing.mean() * 100, \"%\")\n"
   ]
  },
  {
   "cell_type": "code",
   "execution_count": null,
   "id": "ea057540",
   "metadata": {},
   "outputs": [],
   "source": []
  },
  {
   "cell_type": "code",
   "execution_count": 42,
   "id": "d2077396",
   "metadata": {},
   "outputs": [
    {
     "data": {
      "text/plain": [
       "event_key\n",
       "view_lab_tap                         1266665\n",
       "view_timeline_tap                    1194508\n",
       "$session_start                       1036852\n",
       "launch_app                            986388\n",
       "click_question_open                   816801\n",
       "click_bottom_navigation_questions     769163\n",
       "click_bottom_navigation_profile       653507\n",
       "$session_end                          649658\n",
       "click_bottom_navigation_timeline      536051\n",
       "skip_question                         454981\n",
       "click_bottom_navigation_lab           453683\n",
       "view_profile_tap                      413294\n",
       "view_questions_tap                    353400\n",
       "click_appbar_alarm_center             253541\n",
       "click_notice_detail                   229358\n",
       "click_question_start                  220385\n",
       "click_random_ask_shuffle              184217\n",
       "click_attendance                      157737\n",
       "complete_question                     154105\n",
       "click_appbar_chat_rooms               148422\n",
       "click_question_ask                    136766\n",
       "click_question_share                   69241\n",
       "click_timeline_chat_start              50186\n",
       "click_appbar_friend_plus               49545\n",
       "view_login                             49275\n",
       "click_appbar_setting                   26685\n",
       "view_shop                              26607\n",
       "view_signup                            25630\n",
       "click_random_ask_normal                18653\n",
       "click_profile_ask                      14627\n",
       "click_purchase                         13039\n",
       "click_random_ask_other                 11075\n",
       "view_home_tap                           5392\n",
       "click_friend_invite                     3221\n",
       "complete_purchase                       2201\n",
       "click_copy_profile_link_profile         1703\n",
       "click_community_chat                    1335\n",
       "click_invite_friend                     1054\n",
       "complete_signup                          974\n",
       "click_autoadd_contact                    918\n",
       "button                                   428\n",
       "click_copy_profile_link_ask               40\n",
       "view_friendplus_tap                        7\n",
       "click_notice                               1\n",
       "Name: count, dtype: int64"
      ]
     },
     "execution_count": 42,
     "metadata": {},
     "output_type": "execute_result"
    }
   ],
   "source": [
    "hackle_events_df[hackle_events_df['item_name'].notnull()]['event_key'].value_counts()\n",
    "hackle_events_df[hackle_events_df['page_name'].notnull()]['event_key'].value_counts()\n"
   ]
  },
  {
   "cell_type": "code",
   "execution_count": null,
   "id": "4fc8f4b6",
   "metadata": {},
   "outputs": [],
   "source": []
  },
  {
   "cell_type": "markdown",
   "id": "7ad5529a",
   "metadata": {},
   "source": [
    "#### item_name, page_name이 공백이 아닌 유저"
   ]
  },
  {
   "cell_type": "code",
   "execution_count": 43,
   "id": "2e245752",
   "metadata": {},
   "outputs": [
    {
     "name": "stdout",
     "output_type": "stream",
     "text": [
      "item_name이 있는 유저 수: 13,039\n",
      "page_name이 있는 유저 수: 788,779\n",
      "둘 다 있는 유저 수: 0\n"
     ]
    }
   ],
   "source": [
    "# 1. item_name이 공백이 아닌 유저\n",
    "item_users = set(hackle_events_df[hackle_events_df['item_name'].str.strip() != '']['id'])\n",
    "\n",
    "# 2. page_name이 공백이 아닌 유저\n",
    "page_users = set(hackle_events_df[hackle_events_df['page_name'].str.strip() != '']['id'])\n",
    "\n",
    "# 3. 둘 다 있는 유저\n",
    "both_users = item_users & page_users\n",
    "\n",
    "# 4. 개수 출력\n",
    "print(f\"item_name이 있는 유저 수: {len(item_users):,}\")\n",
    "print(f\"page_name이 있는 유저 수: {len(page_users):,}\")\n",
    "print(f\"둘 다 있는 유저 수: {len(both_users):,}\")\n"
   ]
  },
  {
   "cell_type": "code",
   "execution_count": 52,
   "id": "f4854c44",
   "metadata": {},
   "outputs": [
    {
     "data": {
      "text/plain": [
       "event_key\n",
       "click_purchase    13039\n",
       "Name: count, dtype: int64"
      ]
     },
     "execution_count": 52,
     "metadata": {},
     "output_type": "execute_result"
    }
   ],
   "source": [
    "hackle_events_df[hackle_events_df['item_name'].str.strip() != '']['event_key'].value_counts().head(10)"
   ]
  },
  {
   "cell_type": "markdown",
   "id": "594a34a2",
   "metadata": {},
   "source": [
    "- 상품 구매 관련 이벤트에만 item_name이 채워짐\n",
    "   - 아마도 하트 구매, 아이템 결제, 무료충전소 클릭 등에서만 발생\n",
    "   - 해당 유저는 \"실제 과금/구매 또는 광고 참여 행동\"을 보인 유저"
   ]
  },
  {
   "cell_type": "code",
   "execution_count": null,
   "id": "a6b5cebc",
   "metadata": {},
   "outputs": [],
   "source": []
  },
  {
   "cell_type": "code",
   "execution_count": 53,
   "id": "01393c9f",
   "metadata": {},
   "outputs": [
    {
     "data": {
      "text/plain": [
       "event_key\n",
       "click_notice_detail     229358\n",
       "click_question_start    220385\n",
       "click_attendance        157737\n",
       "click_question_ask      136766\n",
       "view_signup              25630\n",
       "click_profile_ask        14627\n",
       "click_friend_invite       3221\n",
       "click_invite_friend       1054\n",
       "click_notice                 1\n",
       "Name: count, dtype: int64"
      ]
     },
     "execution_count": 53,
     "metadata": {},
     "output_type": "execute_result"
    }
   ],
   "source": [
    "hackle_events_df[hackle_events_df['page_name'].str.strip() != '']['event_key'].value_counts().head(10)\n"
   ]
  },
  {
   "cell_type": "markdown",
   "id": "274f4ea8",
   "metadata": {},
   "source": [
    "→ 대부분 서비스 내부 기능 탐색, 참여, 진입을 의미                 \n",
    "→ 유입 이후의 행동 기반 분석에 사용 가능            "
   ]
  },
  {
   "cell_type": "code",
   "execution_count": null,
   "id": "1b1ebfd8",
   "metadata": {},
   "outputs": [],
   "source": []
  },
  {
   "cell_type": "code",
   "execution_count": 55,
   "id": "afcd4c52",
   "metadata": {},
   "outputs": [],
   "source": [
    "# 두 유저군의 friend/vote/heart 차이\n",
    "\n",
    "user_summary_df = (\n",
    "    hackle_events_df\n",
    "    .groupby('id')[['friend_count', 'votes_count', 'heart_balance']]\n",
    "    .max()  # 또는 .mean(), .last()\n",
    "    .reset_index()\n",
    ")\n"
   ]
  },
  {
   "cell_type": "code",
   "execution_count": null,
   "id": "f1ae1070",
   "metadata": {},
   "outputs": [],
   "source": [
    "# 유저 ID 추출\n",
    "item_user_ids = set(hackle_events_df[hackle_events_df['item_name'].str.strip() != '']['id'])\n",
    "page_user_ids = set(hackle_events_df[hackle_events_df['page_name'].str.strip() != '']['id'])\n",
    "\n",
    "# user_type 열 생성\n",
    "def classify_user(uid):\n",
    "    if uid in item_user_ids:\n",
    "        return 'item_user'\n",
    "    elif uid in page_user_ids:\n",
    "        return 'page_user'\n",
    "    else:\n",
    "        return 'other'\n",
    "\n",
    "user_summary_df['user_type'] = user_summary_df['id'].apply(classify_user)\n"
   ]
  },
  {
   "cell_type": "code",
   "execution_count": 57,
   "id": "64a861a4",
   "metadata": {},
   "outputs": [
    {
     "data": {
      "text/html": [
       "<div>\n",
       "<style scoped>\n",
       "    .dataframe tbody tr th:only-of-type {\n",
       "        vertical-align: middle;\n",
       "    }\n",
       "\n",
       "    .dataframe tbody tr th {\n",
       "        vertical-align: top;\n",
       "    }\n",
       "\n",
       "    .dataframe thead th {\n",
       "        text-align: right;\n",
       "    }\n",
       "</style>\n",
       "<table border=\"1\" class=\"dataframe\">\n",
       "  <thead>\n",
       "    <tr style=\"text-align: right;\">\n",
       "      <th></th>\n",
       "      <th>friend_count</th>\n",
       "      <th>votes_count</th>\n",
       "      <th>heart_balance</th>\n",
       "    </tr>\n",
       "    <tr>\n",
       "      <th>user_type</th>\n",
       "      <th></th>\n",
       "      <th></th>\n",
       "      <th></th>\n",
       "    </tr>\n",
       "  </thead>\n",
       "  <tbody>\n",
       "    <tr>\n",
       "      <th>item_user</th>\n",
       "      <td>48.364905</td>\n",
       "      <td>189.858808</td>\n",
       "      <td>1376.577805</td>\n",
       "    </tr>\n",
       "    <tr>\n",
       "      <th>other</th>\n",
       "      <td>54.465785</td>\n",
       "      <td>258.005967</td>\n",
       "      <td>16137.693244</td>\n",
       "    </tr>\n",
       "    <tr>\n",
       "      <th>page_user</th>\n",
       "      <td>52.876720</td>\n",
       "      <td>249.027746</td>\n",
       "      <td>18212.326916</td>\n",
       "    </tr>\n",
       "  </tbody>\n",
       "</table>\n",
       "</div>"
      ],
      "text/plain": [
       "           friend_count  votes_count  heart_balance\n",
       "user_type                                          \n",
       "item_user     48.364905   189.858808    1376.577805\n",
       "other         54.465785   258.005967   16137.693244\n",
       "page_user     52.876720   249.027746   18212.326916"
      ]
     },
     "execution_count": 57,
     "metadata": {},
     "output_type": "execute_result"
    }
   ],
   "source": [
    "user_summary_df.groupby('user_type')[['friend_count', 'votes_count', 'heart_balance']].mean()\n"
   ]
  },
  {
   "cell_type": "markdown",
   "id": "6faa40c4",
   "metadata": {},
   "source": [
    "- item_user는 하트가 적다?\n",
    "→ 실제 구매 전 단계에서 이탈했을 가능성           \n",
    "→ 또는 충전 UI만 진입하고 전환 실패한 사용자일 수 있음                                   \n",
    "                      \n",
    "- page_user는 평균적으로 하트가 많다                                                         \n",
    "→ UI 탐색 활동이 많고, 다양한 기능 사용을 통해 보상 획득                                       \n",
    "→ 활성 유저 또는 충성 유저 후보                      \n",
    "                     \n",
    "- other는 은근히 우수한 유저다                                      \n",
    "→ 명시적으로 구매나 탐색 기록은 없지만 보유 자산은 높음   "
   ]
  },
  {
   "cell_type": "code",
   "execution_count": null,
   "id": "69501b8a",
   "metadata": {},
   "outputs": [],
   "source": [
    "                      "
   ]
  },
  {
   "cell_type": "code",
   "execution_count": null,
   "id": "47f35e79",
   "metadata": {},
   "outputs": [],
   "source": []
  },
  {
   "cell_type": "code",
   "execution_count": 17,
   "id": "c982a758",
   "metadata": {},
   "outputs": [
    {
     "data": {
      "text/html": [
       "<div>\n",
       "<style scoped>\n",
       "    .dataframe tbody tr th:only-of-type {\n",
       "        vertical-align: middle;\n",
       "    }\n",
       "\n",
       "    .dataframe tbody tr th {\n",
       "        vertical-align: top;\n",
       "    }\n",
       "\n",
       "    .dataframe thead th {\n",
       "        text-align: right;\n",
       "    }\n",
       "</style>\n",
       "<table border=\"1\" class=\"dataframe\">\n",
       "  <thead>\n",
       "    <tr style=\"text-align: right;\">\n",
       "      <th></th>\n",
       "      <th>event_id</th>\n",
       "      <th>event_datetime</th>\n",
       "      <th>event_key</th>\n",
       "      <th>session_id</th>\n",
       "      <th>id</th>\n",
       "      <th>item_name</th>\n",
       "      <th>page_name</th>\n",
       "      <th>friend_count</th>\n",
       "      <th>votes_count</th>\n",
       "      <th>heart_balance</th>\n",
       "      <th>question_id</th>\n",
       "    </tr>\n",
       "  </thead>\n",
       "  <tbody>\n",
       "    <tr>\n",
       "      <th>count</th>\n",
       "      <td>11441319</td>\n",
       "      <td>11441319</td>\n",
       "      <td>11441319</td>\n",
       "      <td>11441319</td>\n",
       "      <td>11441319</td>\n",
       "      <td>11441319</td>\n",
       "      <td>11441319</td>\n",
       "      <td>1.068876e+07</td>\n",
       "      <td>1.068676e+07</td>\n",
       "      <td>1.071268e+07</td>\n",
       "      <td>449484.000000</td>\n",
       "    </tr>\n",
       "    <tr>\n",
       "      <th>unique</th>\n",
       "      <td>11441319</td>\n",
       "      <td>NaN</td>\n",
       "      <td>44</td>\n",
       "      <td>253616</td>\n",
       "      <td>11441319</td>\n",
       "      <td>6</td>\n",
       "      <td>13</td>\n",
       "      <td>NaN</td>\n",
       "      <td>NaN</td>\n",
       "      <td>NaN</td>\n",
       "      <td>NaN</td>\n",
       "    </tr>\n",
       "    <tr>\n",
       "      <th>top</th>\n",
       "      <td>00000533-3f1c-4b3b-81f1-0c8f35754b4e</td>\n",
       "      <td>NaN</td>\n",
       "      <td>view_lab_tap</td>\n",
       "      <td>A40CA2FA-CEB6-4E94-857D-7C229ECC2598</td>\n",
       "      <td>00000533-3f1c-4b3b-81f1-0c8f35754b4e</td>\n",
       "      <td></td>\n",
       "      <td></td>\n",
       "      <td>NaN</td>\n",
       "      <td>NaN</td>\n",
       "      <td>NaN</td>\n",
       "      <td>NaN</td>\n",
       "    </tr>\n",
       "    <tr>\n",
       "      <th>freq</th>\n",
       "      <td>1</td>\n",
       "      <td>NaN</td>\n",
       "      <td>1266665</td>\n",
       "      <td>8157</td>\n",
       "      <td>1</td>\n",
       "      <td>11428280</td>\n",
       "      <td>10652540</td>\n",
       "      <td>NaN</td>\n",
       "      <td>NaN</td>\n",
       "      <td>NaN</td>\n",
       "      <td>NaN</td>\n",
       "    </tr>\n",
       "    <tr>\n",
       "      <th>mean</th>\n",
       "      <td>NaN</td>\n",
       "      <td>2023-07-29 01:58:17.236000</td>\n",
       "      <td>NaN</td>\n",
       "      <td>NaN</td>\n",
       "      <td>NaN</td>\n",
       "      <td>NaN</td>\n",
       "      <td>NaN</td>\n",
       "      <td>5.434357e+01</td>\n",
       "      <td>2.572742e+02</td>\n",
       "      <td>1.626929e+04</td>\n",
       "      <td>2766.385262</td>\n",
       "    </tr>\n",
       "    <tr>\n",
       "      <th>min</th>\n",
       "      <td>NaN</td>\n",
       "      <td>2023-07-18 00:00:00</td>\n",
       "      <td>NaN</td>\n",
       "      <td>NaN</td>\n",
       "      <td>NaN</td>\n",
       "      <td>NaN</td>\n",
       "      <td>NaN</td>\n",
       "      <td>0.000000e+00</td>\n",
       "      <td>0.000000e+00</td>\n",
       "      <td>0.000000e+00</td>\n",
       "      <td>99.000000</td>\n",
       "    </tr>\n",
       "    <tr>\n",
       "      <th>25%</th>\n",
       "      <td>NaN</td>\n",
       "      <td>2023-07-22 21:31:17</td>\n",
       "      <td>NaN</td>\n",
       "      <td>NaN</td>\n",
       "      <td>NaN</td>\n",
       "      <td>NaN</td>\n",
       "      <td>NaN</td>\n",
       "      <td>3.200000e+01</td>\n",
       "      <td>9.700000e+01</td>\n",
       "      <td>4.340000e+02</td>\n",
       "      <td>1393.000000</td>\n",
       "    </tr>\n",
       "    <tr>\n",
       "      <th>50%</th>\n",
       "      <td>NaN</td>\n",
       "      <td>2023-07-28 17:08:58</td>\n",
       "      <td>NaN</td>\n",
       "      <td>NaN</td>\n",
       "      <td>NaN</td>\n",
       "      <td>NaN</td>\n",
       "      <td>NaN</td>\n",
       "      <td>4.900000e+01</td>\n",
       "      <td>2.100000e+02</td>\n",
       "      <td>1.249000e+03</td>\n",
       "      <td>2569.000000</td>\n",
       "    </tr>\n",
       "    <tr>\n",
       "      <th>75%</th>\n",
       "      <td>NaN</td>\n",
       "      <td>2023-08-04 17:59:10</td>\n",
       "      <td>NaN</td>\n",
       "      <td>NaN</td>\n",
       "      <td>NaN</td>\n",
       "      <td>NaN</td>\n",
       "      <td>NaN</td>\n",
       "      <td>7.100000e+01</td>\n",
       "      <td>3.620000e+02</td>\n",
       "      <td>3.188000e+03</td>\n",
       "      <td>4459.000000</td>\n",
       "    </tr>\n",
       "    <tr>\n",
       "      <th>max</th>\n",
       "      <td>NaN</td>\n",
       "      <td>2023-08-10 23:59:59</td>\n",
       "      <td>NaN</td>\n",
       "      <td>NaN</td>\n",
       "      <td>NaN</td>\n",
       "      <td>NaN</td>\n",
       "      <td>NaN</td>\n",
       "      <td>1.365000e+03</td>\n",
       "      <td>3.017000e+03</td>\n",
       "      <td>8.849998e+08</td>\n",
       "      <td>5133.000000</td>\n",
       "    </tr>\n",
       "    <tr>\n",
       "      <th>std</th>\n",
       "      <td>NaN</td>\n",
       "      <td>NaN</td>\n",
       "      <td>NaN</td>\n",
       "      <td>NaN</td>\n",
       "      <td>NaN</td>\n",
       "      <td>NaN</td>\n",
       "      <td>NaN</td>\n",
       "      <td>3.350798e+01</td>\n",
       "      <td>2.180682e+02</td>\n",
       "      <td>3.317340e+06</td>\n",
       "      <td>1599.967343</td>\n",
       "    </tr>\n",
       "  </tbody>\n",
       "</table>\n",
       "</div>"
      ],
      "text/plain": [
       "                                    event_id              event_datetime  \\\n",
       "count                               11441319                    11441319   \n",
       "unique                              11441319                         NaN   \n",
       "top     00000533-3f1c-4b3b-81f1-0c8f35754b4e                         NaN   \n",
       "freq                                       1                         NaN   \n",
       "mean                                     NaN  2023-07-29 01:58:17.236000   \n",
       "min                                      NaN         2023-07-18 00:00:00   \n",
       "25%                                      NaN         2023-07-22 21:31:17   \n",
       "50%                                      NaN         2023-07-28 17:08:58   \n",
       "75%                                      NaN         2023-08-04 17:59:10   \n",
       "max                                      NaN         2023-08-10 23:59:59   \n",
       "std                                      NaN                         NaN   \n",
       "\n",
       "           event_key                            session_id  \\\n",
       "count       11441319                              11441319   \n",
       "unique            44                                253616   \n",
       "top     view_lab_tap  A40CA2FA-CEB6-4E94-857D-7C229ECC2598   \n",
       "freq         1266665                                  8157   \n",
       "mean             NaN                                   NaN   \n",
       "min              NaN                                   NaN   \n",
       "25%              NaN                                   NaN   \n",
       "50%              NaN                                   NaN   \n",
       "75%              NaN                                   NaN   \n",
       "max              NaN                                   NaN   \n",
       "std              NaN                                   NaN   \n",
       "\n",
       "                                          id item_name page_name  \\\n",
       "count                               11441319  11441319  11441319   \n",
       "unique                              11441319         6        13   \n",
       "top     00000533-3f1c-4b3b-81f1-0c8f35754b4e                       \n",
       "freq                                       1  11428280  10652540   \n",
       "mean                                     NaN       NaN       NaN   \n",
       "min                                      NaN       NaN       NaN   \n",
       "25%                                      NaN       NaN       NaN   \n",
       "50%                                      NaN       NaN       NaN   \n",
       "75%                                      NaN       NaN       NaN   \n",
       "max                                      NaN       NaN       NaN   \n",
       "std                                      NaN       NaN       NaN   \n",
       "\n",
       "        friend_count   votes_count  heart_balance    question_id  \n",
       "count   1.068876e+07  1.068676e+07   1.071268e+07  449484.000000  \n",
       "unique           NaN           NaN            NaN            NaN  \n",
       "top              NaN           NaN            NaN            NaN  \n",
       "freq             NaN           NaN            NaN            NaN  \n",
       "mean    5.434357e+01  2.572742e+02   1.626929e+04    2766.385262  \n",
       "min     0.000000e+00  0.000000e+00   0.000000e+00      99.000000  \n",
       "25%     3.200000e+01  9.700000e+01   4.340000e+02    1393.000000  \n",
       "50%     4.900000e+01  2.100000e+02   1.249000e+03    2569.000000  \n",
       "75%     7.100000e+01  3.620000e+02   3.188000e+03    4459.000000  \n",
       "max     1.365000e+03  3.017000e+03   8.849998e+08    5133.000000  \n",
       "std     3.350798e+01  2.180682e+02   3.317340e+06    1599.967343  "
      ]
     },
     "execution_count": 17,
     "metadata": {},
     "output_type": "execute_result"
    }
   ],
   "source": [
    "hackle_events_df.describe(include='all')"
   ]
  },
  {
   "cell_type": "code",
   "execution_count": null,
   "id": "dc413f75",
   "metadata": {},
   "outputs": [],
   "source": []
  },
  {
   "cell_type": "markdown",
   "id": "0e23881f",
   "metadata": {},
   "source": [
    "#### 이벤트 유형(event_key) 분포"
   ]
  },
  {
   "cell_type": "code",
   "execution_count": 18,
   "id": "d211d644",
   "metadata": {},
   "outputs": [
    {
     "data": {
      "text/plain": [
       "event_key\n",
       "view_lab_tap                         1266665\n",
       "view_timeline_tap                    1194508\n",
       "$session_start                       1036852\n",
       "launch_app                            986388\n",
       "click_question_open                   816801\n",
       "click_bottom_navigation_questions     769163\n",
       "click_bottom_navigation_profile       653507\n",
       "$session_end                          649658\n",
       "click_bottom_navigation_timeline      536051\n",
       "skip_question                         454981\n",
       "click_bottom_navigation_lab           453683\n",
       "view_profile_tap                      413294\n",
       "view_questions_tap                    353400\n",
       "click_appbar_alarm_center             253541\n",
       "click_notice_detail                   229358\n",
       "click_question_start                  220385\n",
       "click_random_ask_shuffle              184217\n",
       "click_attendance                      157737\n",
       "complete_question                     154105\n",
       "click_appbar_chat_rooms               148422\n",
       "click_question_ask                    136766\n",
       "click_question_share                   69241\n",
       "click_timeline_chat_start              50186\n",
       "click_appbar_friend_plus               49545\n",
       "view_login                             49275\n",
       "click_appbar_setting                   26685\n",
       "view_shop                              26607\n",
       "view_signup                            25630\n",
       "click_random_ask_normal                18653\n",
       "click_profile_ask                      14627\n",
       "click_purchase                         13039\n",
       "click_random_ask_other                 11075\n",
       "view_home_tap                           5392\n",
       "click_friend_invite                     3221\n",
       "complete_purchase                       2201\n",
       "click_copy_profile_link_profile         1703\n",
       "click_community_chat                    1335\n",
       "click_invite_friend                     1054\n",
       "complete_signup                          974\n",
       "click_autoadd_contact                    918\n",
       "button                                   428\n",
       "click_copy_profile_link_ask               40\n",
       "view_friendplus_tap                        7\n",
       "click_notice                               1\n",
       "Name: count, dtype: int64"
      ]
     },
     "execution_count": 18,
     "metadata": {},
     "output_type": "execute_result"
    }
   ],
   "source": [
    "hackle_events_df['event_key'].value_counts()"
   ]
  },
  {
   "cell_type": "code",
   "execution_count": null,
   "id": "24f4a8f1",
   "metadata": {},
   "outputs": [],
   "source": []
  },
  {
   "cell_type": "markdown",
   "id": "7cd9eec2",
   "metadata": {},
   "source": [
    "#### 사용자별 가장 많이 발생한 이벤트 유형"
   ]
  },
  {
   "cell_type": "code",
   "execution_count": 19,
   "id": "368b26f4",
   "metadata": {},
   "outputs": [
    {
     "data": {
      "text/html": [
       "<div>\n",
       "<style scoped>\n",
       "    .dataframe tbody tr th:only-of-type {\n",
       "        vertical-align: middle;\n",
       "    }\n",
       "\n",
       "    .dataframe tbody tr th {\n",
       "        vertical-align: top;\n",
       "    }\n",
       "\n",
       "    .dataframe thead th {\n",
       "        text-align: right;\n",
       "    }\n",
       "</style>\n",
       "<table border=\"1\" class=\"dataframe\">\n",
       "  <thead>\n",
       "    <tr style=\"text-align: right;\">\n",
       "      <th></th>\n",
       "      <th>id</th>\n",
       "      <th>event_key</th>\n",
       "      <th>count</th>\n",
       "    </tr>\n",
       "  </thead>\n",
       "  <tbody>\n",
       "    <tr>\n",
       "      <th>0</th>\n",
       "      <td>00000533-3f1c-4b3b-81f1-0c8f35754b4e</td>\n",
       "      <td>$session_start</td>\n",
       "      <td>1</td>\n",
       "    </tr>\n",
       "    <tr>\n",
       "      <th>1</th>\n",
       "      <td>00000716-27e9-4e72-a602-d0ce61784b06</td>\n",
       "      <td>click_question_open</td>\n",
       "      <td>1</td>\n",
       "    </tr>\n",
       "    <tr>\n",
       "      <th>2</th>\n",
       "      <td>000007c8-68ce-40e6-9b1e-f0e34e8ff9cc</td>\n",
       "      <td>click_bottom_navigation_profile</td>\n",
       "      <td>1</td>\n",
       "    </tr>\n",
       "    <tr>\n",
       "      <th>3</th>\n",
       "      <td>00000981-5e2a-4111-993e-4f1891ad9a53</td>\n",
       "      <td>view_shop</td>\n",
       "      <td>1</td>\n",
       "    </tr>\n",
       "    <tr>\n",
       "      <th>4</th>\n",
       "      <td>00000a7a-ba72-4332-b4a9-7910670aaeb2</td>\n",
       "      <td>click_bottom_navigation_lab</td>\n",
       "      <td>1</td>\n",
       "    </tr>\n",
       "  </tbody>\n",
       "</table>\n",
       "</div>"
      ],
      "text/plain": [
       "                                     id                        event_key  \\\n",
       "0  00000533-3f1c-4b3b-81f1-0c8f35754b4e                   $session_start   \n",
       "1  00000716-27e9-4e72-a602-d0ce61784b06              click_question_open   \n",
       "2  000007c8-68ce-40e6-9b1e-f0e34e8ff9cc  click_bottom_navigation_profile   \n",
       "3  00000981-5e2a-4111-993e-4f1891ad9a53                        view_shop   \n",
       "4  00000a7a-ba72-4332-b4a9-7910670aaeb2      click_bottom_navigation_lab   \n",
       "\n",
       "   count  \n",
       "0      1  \n",
       "1      1  \n",
       "2      1  \n",
       "3      1  \n",
       "4      1  "
      ]
     },
     "execution_count": 19,
     "metadata": {},
     "output_type": "execute_result"
    }
   ],
   "source": [
    "# 사용자별, 이벤트별 발생 횟수 집계\n",
    "user_event_counts = hackle_events_df.groupby(['id', 'event_key']).size().reset_index(name='count')\n",
    "\n",
    "# 사용자별 가장 많이 발생한 이벤트만 추출\n",
    "user_top_events = user_event_counts.sort_values(['id', 'count'], ascending=[True, False]) \\\n",
    "                                   .drop_duplicates(subset=['id'])\n",
    "\n",
    "# 결과 확인\n",
    "user_top_events.head()\n",
    "\n"
   ]
  },
  {
   "cell_type": "code",
   "execution_count": 20,
   "id": "094a5955",
   "metadata": {},
   "outputs": [
    {
     "data": {
      "text/plain": [
       "event_key\n",
       "view_lab_tap                         1266665\n",
       "view_timeline_tap                    1194508\n",
       "$session_start                       1036852\n",
       "launch_app                            986388\n",
       "click_question_open                   816801\n",
       "click_bottom_navigation_questions     769163\n",
       "click_bottom_navigation_profile       653507\n",
       "$session_end                          649658\n",
       "click_bottom_navigation_timeline      536051\n",
       "skip_question                         454981\n",
       "Name: count, dtype: int64"
      ]
     },
     "execution_count": 20,
     "metadata": {},
     "output_type": "execute_result"
    }
   ],
   "source": [
    "# 사용자들이 가장 많이 한 top 이벤트 유형은?\n",
    "\n",
    "user_top_events['event_key'].value_counts().head(10)\n"
   ]
  },
  {
   "cell_type": "code",
   "execution_count": null,
   "id": "4679aa7d",
   "metadata": {},
   "outputs": [],
   "source": []
  },
  {
   "cell_type": "markdown",
   "id": "2e32af41",
   "metadata": {},
   "source": [
    "#### 시간 흐름에 따른 이벤트 수 추이"
   ]
  },
  {
   "cell_type": "code",
   "execution_count": 21,
   "id": "41a77dac",
   "metadata": {},
   "outputs": [
    {
     "data": {
      "text/plain": [
       "<Axes: title={'center': '일별 이벤트 발생 수'}, xlabel='date'>"
      ]
     },
     "execution_count": 21,
     "metadata": {},
     "output_type": "execute_result"
    },
    {
     "data": {
      "image/png": "[encoded data removed]",
      "text/plain": [
       "<Figure size 1200x400 with 1 Axes>"
      ]
     },
     "metadata": {},
     "output_type": "display_data"
    }
   ],
   "source": [
    "hackle_events_df['event_datetime'] = pd.to_datetime(hackle_events_df['event_datetime'])\n",
    "hackle_events_df['date'] = hackle_events_df['event_datetime'].dt.date\n",
    "\n",
    "hackle_events_df['date'].value_counts().sort_index().plot(figsize=(12, 4), title='일별 이벤트 발생 수')"
   ]
  },
  {
   "cell_type": "markdown",
   "id": "a140ccb3",
   "metadata": {},
   "source": [
    "- 피크 (최대): 약 8월 6일 경, 800,000건 이상의 이벤트 발생 → 사용자 활동 집중\n",
    "- 최저점: 약 8월 2일 경, 250,000건 이하 → 활동 급감\n",
    "- 전반적으로 주기적 패턴(증감 반복)이 보임 → 주말/주중 차이일 가능성\n",
    "- 7월 17일부터 8월 10일까지 약 25일간의 활동 추이"
   ]
  },
  {
   "cell_type": "code",
   "execution_count": null,
   "id": "9051dc79",
   "metadata": {},
   "outputs": [],
   "source": []
  },
  {
   "cell_type": "markdown",
   "id": "3de29fc6",
   "metadata": {},
   "source": [
    "#### 요일별 이벤트 평균 수"
   ]
  },
  {
   "cell_type": "code",
   "execution_count": 22,
   "id": "cb2642a6",
   "metadata": {},
   "outputs": [
    {
     "data": {
      "image/png": "[encoded data removed]",
      "text/plain": [
       "<Figure size 800x400 with 1 Axes>"
      ]
     },
     "metadata": {},
     "output_type": "display_data"
    }
   ],
   "source": [
    "hackle_events_df['event_datetime'] = pd.to_datetime(hackle_events_df['event_datetime'])\n",
    "hackle_events_df['weekday'] = hackle_events_df['event_datetime'].dt.day_name()\n",
    "\n",
    "weekday_counts = hackle_events_df.groupby('weekday').size().reindex([\n",
    "    'Monday', 'Tuesday', 'Wednesday', 'Thursday', 'Friday', 'Saturday', 'Sunday'\n",
    "])\n",
    "\n",
    "weekday_counts.plot(kind='bar', title='요일별 이벤트 발생 수', figsize=(8, 4))\n",
    "plt.ylabel('이벤트 수')\n",
    "plt.xticks(rotation=45)\n",
    "plt.tight_layout()\n",
    "plt.show()"
   ]
  },
  {
   "cell_type": "markdown",
   "id": "9499a84c",
   "metadata": {},
   "source": [
    "- 금요일과 일요일에 이벤트 수가 가장 많음\n",
    "- 월요일이 가장 적음 → 사용자 활동이 주중 초반보다 주말에 더 활발함을 나타냄\n",
    "- 서비스 특성상 주말/금요일 밤에 접속하는 사용자 수가 많을 가능성\n",
    "- 캠페인이나 알림, 푸시 타이밍이 주말에 몰려 있을 수도 있음"
   ]
  },
  {
   "cell_type": "code",
   "execution_count": null,
   "id": "f9b24aac",
   "metadata": {},
   "outputs": [],
   "source": []
  },
  {
   "cell_type": "markdown",
   "id": "d7d2a25e",
   "metadata": {},
   "source": [
    "#### 시간대별 이벤트"
   ]
  },
  {
   "cell_type": "code",
   "execution_count": 23,
   "id": "0e4bf0e9",
   "metadata": {},
   "outputs": [
    {
     "data": {
      "image/png": "[encoded data removed]",
      "text/plain": [
       "<Figure size 1000x400 with 1 Axes>"
      ]
     },
     "metadata": {},
     "output_type": "display_data"
    }
   ],
   "source": [
    "hackle_events_df['hour'] = hackle_events_df['event_datetime'].dt.hour\n",
    "hackle_events_df['hour'].value_counts().sort_index().plot(kind='line', title='시간대별 이벤트 발생 수', figsize=(10, 4))\n",
    "plt.xlabel('시간대 (Hour)')\n",
    "plt.ylabel('이벤트 수')\n",
    "plt.grid(True)\n",
    "plt.tight_layout()\n",
    "plt.show()"
   ]
  },
  {
   "cell_type": "markdown",
   "id": "f8cc5950",
   "metadata": {},
   "source": [
    "- 최고 활동 시간대: 오후 8시 (20시)\n",
    "- 정오부터 점점 증가하며, 20시에 피크 → 퇴근/하교 후 시간대에 활동 집중\n",
    "- 자정~오전 7시까지는 활동 저조 → 자연스러운 야간 휴식 패턴 반영\n",
    "\n"
   ]
  },
  {
   "cell_type": "code",
   "execution_count": null,
   "id": "7734988a",
   "metadata": {},
   "outputs": [],
   "source": []
  },
  {
   "cell_type": "markdown",
   "id": "1990b13c",
   "metadata": {},
   "source": [
    "#### 이벤트 유형별 일별 추이 비교"
   ]
  },
  {
   "cell_type": "code",
   "execution_count": 24,
   "id": "461a61a1",
   "metadata": {},
   "outputs": [
    {
     "data": {
      "image/png": "[encoded data removed]",
      "text/plain": [
       "<Figure size 1200x400 with 1 Axes>"
      ]
     },
     "metadata": {},
     "output_type": "display_data"
    }
   ],
   "source": [
    "top_events = hackle_events_df['event_key'].value_counts().head(3).index\n",
    "subset = hackle_events_df[hackle_events_df['event_key'].isin(top_events)]\n",
    "\n",
    "event_daily = subset.groupby(['date', 'event_key']).size().unstack().fillna(0)\n",
    "\n",
    "event_daily.plot(figsize=(12, 4), title='상위 이벤트 유형별 일별 발생 수')\n",
    "plt.ylabel('이벤트 수')\n",
    "plt.xlabel('날짜')\n",
    "plt.tight_layout()\n",
    "plt.show()\n"
   ]
  },
  {
   "cell_type": "markdown",
   "id": "da789da6",
   "metadata": {},
   "source": [
    "- $session_start, view_lab_tap, view_timeline_tap 모두 유사한 추세를 보임\n",
    "- 8월 초~중순에 급증한 시점이 반복적으로 보임 → 이 시기에 이벤트/프로모션, 또는 사용자 유입 증가 가능성\n",
    "- 세 이벤트 모두 함께 증가/감소 → 행동 흐름 상 함께 발생 가능성 높음"
   ]
  },
  {
   "cell_type": "code",
   "execution_count": null,
   "id": "4be5e777",
   "metadata": {},
   "outputs": [],
   "source": []
  },
  {
   "cell_type": "code",
   "execution_count": null,
   "id": "34df4747",
   "metadata": {},
   "outputs": [],
   "source": []
  },
  {
   "cell_type": "markdown",
   "id": "a3b485fe",
   "metadata": {},
   "source": [
    "#### 페이지별 이벤트 발생량"
   ]
  },
  {
   "cell_type": "code",
   "execution_count": 25,
   "id": "b3746989",
   "metadata": {},
   "outputs": [
    {
     "data": {
      "text/plain": [
       "<Axes: title={'center': '페이지별 이벤트 수'}, ylabel='page_name'>"
      ]
     },
     "execution_count": 25,
     "metadata": {},
     "output_type": "execute_result"
    },
    {
     "data": {
      "image/png": "[encoded data removed]",
      "text/plain": [
       "<Figure size 640x480 with 1 Axes>"
      ]
     },
     "metadata": {},
     "output_type": "display_data"
    }
   ],
   "source": [
    "hackle_events_df['page_name'].value_counts().head(10).plot(kind='barh', title='페이지별 이벤트 수')"
   ]
  },
  {
   "cell_type": "code",
   "execution_count": null,
   "id": "560253fe",
   "metadata": {},
   "outputs": [],
   "source": []
  },
  {
   "cell_type": "code",
   "execution_count": 26,
   "id": "dc4c8479",
   "metadata": {},
   "outputs": [
    {
     "name": "stdout",
     "output_type": "stream",
     "text": [
      "100000 / 100000\n"
     ]
    }
   ],
   "source": [
    "# 데이터 일부 샘플링 (예: 10만 건)\n",
    "sample_df = hackle_events_df.sample(n=100000, random_state=42)\n",
    "\n",
    "# datetime 형식 변환\n",
    "sample_df['event_datetime'] = pd.to_datetime(sample_df['event_datetime'])\n",
    "\n",
    "# 정렬 및 duration 계산\n",
    "sample_df = sample_df.sort_values(['id', 'session_id', 'event_datetime'])\n",
    "sample_df['next_event_time'] = sample_df.groupby(['id', 'session_id'])['event_datetime'].shift(-1)\n",
    "sample_df['duration'] = (sample_df['next_event_time'] - sample_df['event_datetime']).dt.total_seconds()\n",
    "\n",
    "# duration NaN 확인\n",
    "print(sample_df['duration'].isna().sum(), '/', len(sample_df))\n"
   ]
  },
  {
   "cell_type": "code",
   "execution_count": null,
   "id": "720aa6d1",
   "metadata": {},
   "outputs": [],
   "source": []
  },
  {
   "cell_type": "code",
   "execution_count": 27,
   "id": "203409c7",
   "metadata": {},
   "outputs": [
    {
     "name": "stdout",
     "output_type": "stream",
     "text": [
      "이벤트 1개뿐인 세션 수: 2786\n"
     ]
    }
   ],
   "source": [
    "# 이벤트가 1개뿐인 세션 수\n",
    "single_event_sessions = hackle_events_df.groupby('session_id').size().eq(1).sum()\n",
    "print(f\"이벤트 1개뿐인 세션 수: {single_event_sessions}\")\n"
   ]
  },
  {
   "cell_type": "code",
   "execution_count": null,
   "id": "1f731f62",
   "metadata": {},
   "outputs": [],
   "source": []
  },
  {
   "cell_type": "code",
   "execution_count": null,
   "id": "59749bcd",
   "metadata": {},
   "outputs": [],
   "source": []
  },
  {
   "cell_type": "markdown",
   "id": "dceffd38",
   "metadata": {},
   "source": [
    "#### heart_balance / votes_count / friend_count 분포"
   ]
  },
  {
   "cell_type": "code",
   "execution_count": 28,
   "id": "ea391077",
   "metadata": {},
   "outputs": [
    {
     "data": {
      "text/plain": [
       "array([[<Axes: title={'center': 'friend_count'}>,\n",
       "        <Axes: title={'center': 'votes_count'}>],\n",
       "       [<Axes: title={'center': 'heart_balance'}>, <Axes: >]],\n",
       "      dtype=object)"
      ]
     },
     "execution_count": 28,
     "metadata": {},
     "output_type": "execute_result"
    },
    {
     "data": {
      "image/png": "[encoded data removed]",
      "text/plain": [
       "<Figure size 1500x600 with 4 Axes>"
      ]
     },
     "metadata": {},
     "output_type": "display_data"
    }
   ],
   "source": [
    "cols = ['friend_count', 'votes_count', 'heart_balance']\n",
    "hackle_events_df[cols].hist(bins=50, figsize=(15, 6))"
   ]
  },
  {
   "cell_type": "markdown",
   "id": "e5de96fc",
   "metadata": {},
   "source": [
    "- 대부분의 유저가 친구 수 0~100명 사이에 분포. 일부 유저는 1000명 이상까지 있음\n",
    "- 투표 수가 많지 않은 유저가 대부분. 일부 유저만 수백~천 단위\n",
    "- 거의 모든 유저가 매우 적은 하트 잔고를 가짐. 소수 유저가 수억 단위 하트 소유 → 극단적 이상치 존재"
   ]
  },
  {
   "cell_type": "code",
   "execution_count": null,
   "id": "ded97df2",
   "metadata": {},
   "outputs": [],
   "source": []
  },
  {
   "cell_type": "code",
   "execution_count": 29,
   "id": "320330c6",
   "metadata": {},
   "outputs": [
    {
     "name": "stdout",
     "output_type": "stream",
     "text": [
      "                                            id  heart_balance\n",
      "1006182   16850d17-06ce-4bc6-a72b-10757b7cd659    884999804.0\n",
      "9713235   d94966f1-2e16-432e-80e7-ffc00eafc2d4    884999804.0\n",
      "5268630   75cb81e8-4bfd-4645-a891-b58fc97df458    884999804.0\n",
      "5991425   85fe57ba-ba48-452a-bbc5-52df977c0e63    884999804.0\n",
      "7196402   a101278d-7df5-44ca-bf32-39a3579e12f8    884999804.0\n",
      "260955    05d5cd0b-d045-4b88-ad37-4a9a19060fcc    884999804.0\n",
      "8930111   c7cbd8ec-2988-4b1f-8cf2-a432e93c922a    884999804.0\n",
      "10195314  e41ad51d-261f-46b8-8045-133e05b1358e    884999804.0\n",
      "7810866   aec37578-60cd-4ba5-8dfb-08ddf2c64f20    884999804.0\n",
      "3488374   4e016293-f359-45f1-985a-07eb5e3f5971    884999804.0\n"
     ]
    }
   ],
   "source": [
    "# 상위 하트 보유 유저 Top 10 확인\n",
    "\n",
    "top_heart_users = hackle_events_df[['id', 'heart_balance']].sort_values(by='heart_balance', ascending=False).dropna()\n",
    "top_heart_users = top_heart_users.drop_duplicates(subset='id')  # 유저별로 1건만\n",
    "\n",
    "# 상위 10명 출력\n",
    "print(top_heart_users.head(10))"
   ]
  },
  {
   "cell_type": "code",
   "execution_count": 30,
   "id": "920f79b8",
   "metadata": {},
   "outputs": [
    {
     "name": "stdout",
     "output_type": "stream",
     "text": [
      "하트 잔고 분위수 (단위: 개수):\n",
      "0.900     6518.0\n",
      "0.950    10120.0\n",
      "0.990    20073.0\n",
      "0.999    38037.0\n",
      "Name: heart_balance, dtype: float64\n"
     ]
    }
   ],
   "source": [
    "# 하트 수 기준 분위수 확인\n",
    "\n",
    "quantiles = hackle_events_df['heart_balance'].quantile([0.9, 0.95, 0.99, 0.999])\n",
    "print(\"하트 잔고 분위수 (단위: 개수):\")\n",
    "print(quantiles)"
   ]
  },
  {
   "cell_type": "code",
   "execution_count": 31,
   "id": "950a7e35",
   "metadata": {},
   "outputs": [
    {
     "name": "stdout",
     "output_type": "stream",
     "text": [
      "하트 잔고가 1억 이상인 유저 수: 160\n"
     ]
    }
   ],
   "source": [
    "# 하트 1억 이상 보유한 유저 수\n",
    "\n",
    "high_heart_users = hackle_events_df[hackle_events_df['heart_balance'] >= 1e8]\n",
    "high_heart_count = high_heart_users['id'].nunique()\n",
    "\n",
    "print(f\"하트 잔고가 1억 이상인 유저 수: {high_heart_count}\")"
   ]
  },
  {
   "cell_type": "code",
   "execution_count": null,
   "id": "3fadc962",
   "metadata": {},
   "outputs": [],
   "source": []
  },
  {
   "cell_type": "code",
   "execution_count": 32,
   "id": "4dfa59c1",
   "metadata": {},
   "outputs": [
    {
     "name": "stdout",
     "output_type": "stream",
     "text": [
      "is_high_heart\n",
      "False    11441159\n",
      "True          160\n",
      "dtype: int64\n"
     ]
    }
   ],
   "source": [
    "# high_heart_users와 원본 병합하여 행동 비교\n",
    "high_ids = high_heart_users['id'].unique()\n",
    "hackle_events_df['is_high_heart'] = hackle_events_df['id'].isin(high_ids)\n",
    "\n",
    "# 이벤트 수 비교\n",
    "event_counts = hackle_events_df.groupby('is_high_heart').size()\n",
    "print(event_counts)"
   ]
  },
  {
   "cell_type": "code",
   "execution_count": null,
   "id": "752931fb",
   "metadata": {},
   "outputs": [],
   "source": []
  },
  {
   "cell_type": "code",
   "execution_count": 34,
   "id": "79f6b6be",
   "metadata": {},
   "outputs": [
    {
     "name": "stdout",
     "output_type": "stream",
     "text": [
      "1000명 이상 친구를 가진 유저 수: 63\n"
     ]
    },
    {
     "data": {
      "text/html": [
       "<div>\n",
       "<style scoped>\n",
       "    .dataframe tbody tr th:only-of-type {\n",
       "        vertical-align: middle;\n",
       "    }\n",
       "\n",
       "    .dataframe tbody tr th {\n",
       "        vertical-align: top;\n",
       "    }\n",
       "\n",
       "    .dataframe thead th {\n",
       "        text-align: right;\n",
       "    }\n",
       "</style>\n",
       "<table border=\"1\" class=\"dataframe\">\n",
       "  <thead>\n",
       "    <tr style=\"text-align: right;\">\n",
       "      <th></th>\n",
       "      <th>event_id</th>\n",
       "      <th>event_datetime</th>\n",
       "      <th>event_key</th>\n",
       "      <th>session_id</th>\n",
       "      <th>id</th>\n",
       "      <th>item_name</th>\n",
       "      <th>page_name</th>\n",
       "      <th>friend_count</th>\n",
       "      <th>votes_count</th>\n",
       "      <th>heart_balance</th>\n",
       "      <th>question_id</th>\n",
       "      <th>date</th>\n",
       "      <th>weekday</th>\n",
       "      <th>hour</th>\n",
       "      <th>is_high_heart</th>\n",
       "    </tr>\n",
       "  </thead>\n",
       "  <tbody>\n",
       "    <tr>\n",
       "      <th>7547676</th>\n",
       "      <td>a8e22026-c749-4e50-a532-2c73a27e13d0</td>\n",
       "      <td>2023-07-20 18:10:54</td>\n",
       "      <td>launch_app</td>\n",
       "      <td>4b6PjoCgNbR9iA00M5fBVYVTdAE2</td>\n",
       "      <td>a8e22026-c749-4e50-a532-2c73a27e13d0</td>\n",
       "      <td></td>\n",
       "      <td></td>\n",
       "      <td>1365.0</td>\n",
       "      <td>826.0</td>\n",
       "      <td>8831.0</td>\n",
       "      <td>NaN</td>\n",
       "      <td>2023-07-20</td>\n",
       "      <td>Thursday</td>\n",
       "      <td>18</td>\n",
       "      <td>False</td>\n",
       "    </tr>\n",
       "    <tr>\n",
       "      <th>5037067</th>\n",
       "      <td>709f2c00-7eb1-4f4e-9c3a-33b41918923c</td>\n",
       "      <td>2023-07-20 18:10:54</td>\n",
       "      <td>$session_start</td>\n",
       "      <td>4b6PjoCgNbR9iA00M5fBVYVTdAE2</td>\n",
       "      <td>709f2c00-7eb1-4f4e-9c3a-33b41918923c</td>\n",
       "      <td></td>\n",
       "      <td></td>\n",
       "      <td>1365.0</td>\n",
       "      <td>826.0</td>\n",
       "      <td>8831.0</td>\n",
       "      <td>NaN</td>\n",
       "      <td>2023-07-20</td>\n",
       "      <td>Thursday</td>\n",
       "      <td>18</td>\n",
       "      <td>False</td>\n",
       "    </tr>\n",
       "    <tr>\n",
       "      <th>175672</th>\n",
       "      <td>03eefba2-bed3-416c-8a12-f4a188b90f98</td>\n",
       "      <td>2023-07-24 04:03:36</td>\n",
       "      <td>click_appbar_friend_plus</td>\n",
       "      <td>ae4d67ed-324e-4133-8d86-a441f2d29e40</td>\n",
       "      <td>03eefba2-bed3-416c-8a12-f4a188b90f98</td>\n",
       "      <td></td>\n",
       "      <td></td>\n",
       "      <td>1261.0</td>\n",
       "      <td>251.0</td>\n",
       "      <td>3851.0</td>\n",
       "      <td>NaN</td>\n",
       "      <td>2023-07-24</td>\n",
       "      <td>Monday</td>\n",
       "      <td>4</td>\n",
       "      <td>False</td>\n",
       "    </tr>\n",
       "    <tr>\n",
       "      <th>6056038</th>\n",
       "      <td>877126eb-29c9-417b-9e6e-3e25117c3dce</td>\n",
       "      <td>2023-07-24 04:04:55</td>\n",
       "      <td>click_question_ask</td>\n",
       "      <td>ae4d67ed-324e-4133-8d86-a441f2d29e40</td>\n",
       "      <td>877126eb-29c9-417b-9e6e-3e25117c3dce</td>\n",
       "      <td></td>\n",
       "      <td>home</td>\n",
       "      <td>1261.0</td>\n",
       "      <td>251.0</td>\n",
       "      <td>3851.0</td>\n",
       "      <td>NaN</td>\n",
       "      <td>2023-07-24</td>\n",
       "      <td>Monday</td>\n",
       "      <td>4</td>\n",
       "      <td>False</td>\n",
       "    </tr>\n",
       "    <tr>\n",
       "      <th>6386249</th>\n",
       "      <td>8ed75f06-5eaa-4e24-8c7b-f6082255beb7</td>\n",
       "      <td>2023-07-20 20:17:28</td>\n",
       "      <td>click_bottom_navigation_profile</td>\n",
       "      <td>ae4d67ed-324e-4133-8d86-a441f2d29e40</td>\n",
       "      <td>8ed75f06-5eaa-4e24-8c7b-f6082255beb7</td>\n",
       "      <td></td>\n",
       "      <td></td>\n",
       "      <td>1261.0</td>\n",
       "      <td>251.0</td>\n",
       "      <td>3851.0</td>\n",
       "      <td>NaN</td>\n",
       "      <td>2023-07-20</td>\n",
       "      <td>Thursday</td>\n",
       "      <td>20</td>\n",
       "      <td>False</td>\n",
       "    </tr>\n",
       "  </tbody>\n",
       "</table>\n",
       "</div>"
      ],
      "text/plain": [
       "                                     event_id      event_datetime  \\\n",
       "7547676  a8e22026-c749-4e50-a532-2c73a27e13d0 2023-07-20 18:10:54   \n",
       "5037067  709f2c00-7eb1-4f4e-9c3a-33b41918923c 2023-07-20 18:10:54   \n",
       "175672   03eefba2-bed3-416c-8a12-f4a188b90f98 2023-07-24 04:03:36   \n",
       "6056038  877126eb-29c9-417b-9e6e-3e25117c3dce 2023-07-24 04:04:55   \n",
       "6386249  8ed75f06-5eaa-4e24-8c7b-f6082255beb7 2023-07-20 20:17:28   \n",
       "\n",
       "                               event_key  \\\n",
       "7547676                       launch_app   \n",
       "5037067                   $session_start   \n",
       "175672          click_appbar_friend_plus   \n",
       "6056038               click_question_ask   \n",
       "6386249  click_bottom_navigation_profile   \n",
       "\n",
       "                                   session_id  \\\n",
       "7547676          4b6PjoCgNbR9iA00M5fBVYVTdAE2   \n",
       "5037067          4b6PjoCgNbR9iA00M5fBVYVTdAE2   \n",
       "175672   ae4d67ed-324e-4133-8d86-a441f2d29e40   \n",
       "6056038  ae4d67ed-324e-4133-8d86-a441f2d29e40   \n",
       "6386249  ae4d67ed-324e-4133-8d86-a441f2d29e40   \n",
       "\n",
       "                                           id item_name page_name  \\\n",
       "7547676  a8e22026-c749-4e50-a532-2c73a27e13d0                       \n",
       "5037067  709f2c00-7eb1-4f4e-9c3a-33b41918923c                       \n",
       "175672   03eefba2-bed3-416c-8a12-f4a188b90f98                       \n",
       "6056038  877126eb-29c9-417b-9e6e-3e25117c3dce                home   \n",
       "6386249  8ed75f06-5eaa-4e24-8c7b-f6082255beb7                       \n",
       "\n",
       "         friend_count  votes_count  heart_balance  question_id        date  \\\n",
       "7547676        1365.0        826.0         8831.0          NaN  2023-07-20   \n",
       "5037067        1365.0        826.0         8831.0          NaN  2023-07-20   \n",
       "175672         1261.0        251.0         3851.0          NaN  2023-07-24   \n",
       "6056038        1261.0        251.0         3851.0          NaN  2023-07-24   \n",
       "6386249        1261.0        251.0         3851.0          NaN  2023-07-20   \n",
       "\n",
       "          weekday  hour  is_high_heart  \n",
       "7547676  Thursday    18          False  \n",
       "5037067  Thursday    18          False  \n",
       "175672     Monday     4          False  \n",
       "6056038    Monday     4          False  \n",
       "6386249  Thursday    20          False  "
      ]
     },
     "execution_count": 34,
     "metadata": {},
     "output_type": "execute_result"
    }
   ],
   "source": [
    "# 친구 수 1000명 이상 유저\n",
    "\n",
    "high_friend_users = hackle_events_df[hackle_events_df['friend_count'] >= 1000]\n",
    "print(f\"1000명 이상 친구를 가진 유저 수: {len(high_friend_users)}\")\n",
    "high_friend_users.sort_values('friend_count', ascending=False).head()"
   ]
  },
  {
   "cell_type": "code",
   "execution_count": 35,
   "id": "17b3487f",
   "metadata": {},
   "outputs": [
    {
     "name": "stdout",
     "output_type": "stream",
     "text": [
      "1000개 이상 투표를 한 유저 수: 98433\n"
     ]
    },
    {
     "data": {
      "text/html": [
       "<div>\n",
       "<style scoped>\n",
       "    .dataframe tbody tr th:only-of-type {\n",
       "        vertical-align: middle;\n",
       "    }\n",
       "\n",
       "    .dataframe tbody tr th {\n",
       "        vertical-align: top;\n",
       "    }\n",
       "\n",
       "    .dataframe thead th {\n",
       "        text-align: right;\n",
       "    }\n",
       "</style>\n",
       "<table border=\"1\" class=\"dataframe\">\n",
       "  <thead>\n",
       "    <tr style=\"text-align: right;\">\n",
       "      <th></th>\n",
       "      <th>event_id</th>\n",
       "      <th>event_datetime</th>\n",
       "      <th>event_key</th>\n",
       "      <th>session_id</th>\n",
       "      <th>id</th>\n",
       "      <th>item_name</th>\n",
       "      <th>page_name</th>\n",
       "      <th>friend_count</th>\n",
       "      <th>votes_count</th>\n",
       "      <th>heart_balance</th>\n",
       "      <th>question_id</th>\n",
       "      <th>date</th>\n",
       "      <th>weekday</th>\n",
       "      <th>hour</th>\n",
       "      <th>is_high_heart</th>\n",
       "    </tr>\n",
       "  </thead>\n",
       "  <tbody>\n",
       "    <tr>\n",
       "      <th>8636924</th>\n",
       "      <td>c140c027-01da-4b6a-a2e5-246d218586be</td>\n",
       "      <td>2023-08-09 12:12:29</td>\n",
       "      <td>click_question_start</td>\n",
       "      <td>10EE881B-F308-4735-9AEA-C7F9666A3A70</td>\n",
       "      <td>c140c027-01da-4b6a-a2e5-246d218586be</td>\n",
       "      <td></td>\n",
       "      <td>home</td>\n",
       "      <td>33.0</td>\n",
       "      <td>3017.0</td>\n",
       "      <td>70143.0</td>\n",
       "      <td>NaN</td>\n",
       "      <td>2023-08-09</td>\n",
       "      <td>Wednesday</td>\n",
       "      <td>12</td>\n",
       "      <td>False</td>\n",
       "    </tr>\n",
       "    <tr>\n",
       "      <th>4016127</th>\n",
       "      <td>59c9a07d-515d-4e37-aa0a-665a421463d9</td>\n",
       "      <td>2023-08-10 12:24:37</td>\n",
       "      <td>click_notice_detail</td>\n",
       "      <td>10EE881B-F308-4735-9AEA-C7F9666A3A70</td>\n",
       "      <td>59c9a07d-515d-4e37-aa0a-665a421463d9</td>\n",
       "      <td></td>\n",
       "      <td>notice</td>\n",
       "      <td>33.0</td>\n",
       "      <td>3017.0</td>\n",
       "      <td>70143.0</td>\n",
       "      <td>NaN</td>\n",
       "      <td>2023-08-10</td>\n",
       "      <td>Thursday</td>\n",
       "      <td>12</td>\n",
       "      <td>False</td>\n",
       "    </tr>\n",
       "    <tr>\n",
       "      <th>582922</th>\n",
       "      <td>0d0a3d96-4ec7-4243-9d1a-9dc32009a3d4</td>\n",
       "      <td>2023-08-10 01:47:28</td>\n",
       "      <td>$session_start</td>\n",
       "      <td>10EE881B-F308-4735-9AEA-C7F9666A3A70</td>\n",
       "      <td>0d0a3d96-4ec7-4243-9d1a-9dc32009a3d4</td>\n",
       "      <td></td>\n",
       "      <td></td>\n",
       "      <td>33.0</td>\n",
       "      <td>3017.0</td>\n",
       "      <td>70143.0</td>\n",
       "      <td>NaN</td>\n",
       "      <td>2023-08-10</td>\n",
       "      <td>Thursday</td>\n",
       "      <td>1</td>\n",
       "      <td>False</td>\n",
       "    </tr>\n",
       "    <tr>\n",
       "      <th>2377115</th>\n",
       "      <td>352c289c-6bc7-4950-ba48-709d87f50ff2</td>\n",
       "      <td>2023-08-09 12:39:07</td>\n",
       "      <td>click_notice_detail</td>\n",
       "      <td>10EE881B-F308-4735-9AEA-C7F9666A3A70</td>\n",
       "      <td>352c289c-6bc7-4950-ba48-709d87f50ff2</td>\n",
       "      <td></td>\n",
       "      <td>notice</td>\n",
       "      <td>33.0</td>\n",
       "      <td>3017.0</td>\n",
       "      <td>70143.0</td>\n",
       "      <td>NaN</td>\n",
       "      <td>2023-08-09</td>\n",
       "      <td>Wednesday</td>\n",
       "      <td>12</td>\n",
       "      <td>False</td>\n",
       "    </tr>\n",
       "    <tr>\n",
       "      <th>11354249</th>\n",
       "      <td>fe0b44da-0ff0-4609-b8d3-2a2f9f0a6d55</td>\n",
       "      <td>2023-08-09 22:39:18</td>\n",
       "      <td>click_notice_detail</td>\n",
       "      <td>10EE881B-F308-4735-9AEA-C7F9666A3A70</td>\n",
       "      <td>fe0b44da-0ff0-4609-b8d3-2a2f9f0a6d55</td>\n",
       "      <td></td>\n",
       "      <td>notice</td>\n",
       "      <td>33.0</td>\n",
       "      <td>3017.0</td>\n",
       "      <td>70143.0</td>\n",
       "      <td>NaN</td>\n",
       "      <td>2023-08-09</td>\n",
       "      <td>Wednesday</td>\n",
       "      <td>22</td>\n",
       "      <td>False</td>\n",
       "    </tr>\n",
       "  </tbody>\n",
       "</table>\n",
       "</div>"
      ],
      "text/plain": [
       "                                      event_id      event_datetime  \\\n",
       "8636924   c140c027-01da-4b6a-a2e5-246d218586be 2023-08-09 12:12:29   \n",
       "4016127   59c9a07d-515d-4e37-aa0a-665a421463d9 2023-08-10 12:24:37   \n",
       "582922    0d0a3d96-4ec7-4243-9d1a-9dc32009a3d4 2023-08-10 01:47:28   \n",
       "2377115   352c289c-6bc7-4950-ba48-709d87f50ff2 2023-08-09 12:39:07   \n",
       "11354249  fe0b44da-0ff0-4609-b8d3-2a2f9f0a6d55 2023-08-09 22:39:18   \n",
       "\n",
       "                     event_key                            session_id  \\\n",
       "8636924   click_question_start  10EE881B-F308-4735-9AEA-C7F9666A3A70   \n",
       "4016127    click_notice_detail  10EE881B-F308-4735-9AEA-C7F9666A3A70   \n",
       "582922          $session_start  10EE881B-F308-4735-9AEA-C7F9666A3A70   \n",
       "2377115    click_notice_detail  10EE881B-F308-4735-9AEA-C7F9666A3A70   \n",
       "11354249   click_notice_detail  10EE881B-F308-4735-9AEA-C7F9666A3A70   \n",
       "\n",
       "                                            id item_name page_name  \\\n",
       "8636924   c140c027-01da-4b6a-a2e5-246d218586be                home   \n",
       "4016127   59c9a07d-515d-4e37-aa0a-665a421463d9              notice   \n",
       "582922    0d0a3d96-4ec7-4243-9d1a-9dc32009a3d4                       \n",
       "2377115   352c289c-6bc7-4950-ba48-709d87f50ff2              notice   \n",
       "11354249  fe0b44da-0ff0-4609-b8d3-2a2f9f0a6d55              notice   \n",
       "\n",
       "          friend_count  votes_count  heart_balance  question_id        date  \\\n",
       "8636924           33.0       3017.0        70143.0          NaN  2023-08-09   \n",
       "4016127           33.0       3017.0        70143.0          NaN  2023-08-10   \n",
       "582922            33.0       3017.0        70143.0          NaN  2023-08-10   \n",
       "2377115           33.0       3017.0        70143.0          NaN  2023-08-09   \n",
       "11354249          33.0       3017.0        70143.0          NaN  2023-08-09   \n",
       "\n",
       "            weekday  hour  is_high_heart  \n",
       "8636924   Wednesday    12          False  \n",
       "4016127    Thursday    12          False  \n",
       "582922     Thursday     1          False  \n",
       "2377115   Wednesday    12          False  \n",
       "11354249  Wednesday    22          False  "
      ]
     },
     "execution_count": 35,
     "metadata": {},
     "output_type": "execute_result"
    }
   ],
   "source": [
    "# 투표 수 1000개 이상 유저\n",
    "\n",
    "high_vote_users = hackle_events_df[hackle_events_df['votes_count'] >= 1000]\n",
    "print(f\"1000개 이상 투표를 한 유저 수: {len(high_vote_users)}\")\n",
    "high_vote_users.sort_values('votes_count', ascending=False).head()"
   ]
  },
  {
   "cell_type": "code",
   "execution_count": 58,
   "id": "8172dbe8",
   "metadata": {},
   "outputs": [
    {
     "name": "stdout",
     "output_type": "stream",
     "text": [
      "친구수 또는 투표수 기준 이상 사용자 수: 98496\n"
     ]
    }
   ],
   "source": [
    "# 친구 수 or 투표 수 기준 상위 유저 병합 확인\n",
    "\n",
    "outlier_users = hackle_events_df[\n",
    "    (hackle_events_df['friend_count'] >= 1000) | (hackle_events_df['votes_count'] >= 1000)\n",
    "]\n",
    "print(f\"친구수 또는 투표수 기준 이상 사용자 수: {len(outlier_users)}\")"
   ]
  },
  {
   "cell_type": "code",
   "execution_count": 38,
   "id": "29568b02",
   "metadata": {},
   "outputs": [
    {
     "data": {
      "text/html": [
       "<div>\n",
       "<style scoped>\n",
       "    .dataframe tbody tr th:only-of-type {\n",
       "        vertical-align: middle;\n",
       "    }\n",
       "\n",
       "    .dataframe tbody tr th {\n",
       "        vertical-align: top;\n",
       "    }\n",
       "\n",
       "    .dataframe thead th {\n",
       "        text-align: right;\n",
       "    }\n",
       "</style>\n",
       "<table border=\"1\" class=\"dataframe\">\n",
       "  <thead>\n",
       "    <tr style=\"text-align: right;\">\n",
       "      <th></th>\n",
       "      <th>heart_balance</th>\n",
       "      <th>friend_count</th>\n",
       "      <th>votes_count</th>\n",
       "    </tr>\n",
       "    <tr>\n",
       "      <th>is_outlier</th>\n",
       "      <th></th>\n",
       "      <th></th>\n",
       "      <th></th>\n",
       "    </tr>\n",
       "  </thead>\n",
       "  <tbody>\n",
       "    <tr>\n",
       "      <th>False</th>\n",
       "      <td>16335.552150</td>\n",
       "      <td>54.080158</td>\n",
       "      <td>248.266136</td>\n",
       "    </tr>\n",
       "    <tr>\n",
       "      <th>True</th>\n",
       "      <td>9129.000548</td>\n",
       "      <td>82.665296</td>\n",
       "      <td>1225.640056</td>\n",
       "    </tr>\n",
       "  </tbody>\n",
       "</table>\n",
       "</div>"
      ],
      "text/plain": [
       "            heart_balance  friend_count  votes_count\n",
       "is_outlier                                          \n",
       "False        16335.552150     54.080158   248.266136\n",
       "True          9129.000548     82.665296  1225.640056"
      ]
     },
     "execution_count": 38,
     "metadata": {},
     "output_type": "execute_result"
    }
   ],
   "source": [
    "hackle_events_df['is_outlier'] = (\n",
    "    (hackle_events_df['friend_count'] >= 1000) | (hackle_events_df['votes_count'] >= 1000)\n",
    ")\n",
    "\n",
    "hackle_events_df.groupby('is_outlier')[['heart_balance', 'friend_count', 'votes_count']].mean()\n"
   ]
  },
  {
   "cell_type": "code",
   "execution_count": null,
   "id": "25467909",
   "metadata": {},
   "outputs": [],
   "source": []
  },
  {
   "cell_type": "code",
   "execution_count": null,
   "id": "464a1999",
   "metadata": {},
   "outputs": [],
   "source": []
  },
  {
   "cell_type": "code",
   "execution_count": null,
   "id": "c1915297",
   "metadata": {},
   "outputs": [],
   "source": []
  },
  {
   "cell_type": "markdown",
   "id": "52e8b051",
   "metadata": {},
   "source": [
    "#### 질문(question_id) 기준으로 많이 조회된 질문 Top 10"
   ]
  },
  {
   "cell_type": "code",
   "execution_count": 21,
   "id": "5cddf188",
   "metadata": {},
   "outputs": [
    {
     "data": {
      "text/plain": [
       "question_id\n",
       "1629.0    403\n",
       "5051.0    342\n",
       "4435.0    338\n",
       "5127.0    334\n",
       "5039.0    329\n",
       "5007.0    327\n",
       "2518.0    317\n",
       "4240.0    316\n",
       "4884.0    311\n",
       "4583.0    310\n",
       "Name: count, dtype: int64"
      ]
     },
     "execution_count": 21,
     "metadata": {},
     "output_type": "execute_result"
    }
   ],
   "source": [
    "\n",
    "hackle_events_df['question_id'].value_counts().dropna().head(10)"
   ]
  },
  {
   "cell_type": "code",
   "execution_count": null,
   "id": "75d5cb34",
   "metadata": {},
   "outputs": [],
   "source": []
  },
  {
   "cell_type": "markdown",
   "id": "63a258db",
   "metadata": {},
   "source": [
    "#### click_friend_invite 이벤트 이후 행동 흐름 분석"
   ]
  },
  {
   "cell_type": "code",
   "execution_count": 4,
   "id": "78c37af2",
   "metadata": {},
   "outputs": [
    {
     "name": "stdout",
     "output_type": "stream",
     "text": [
      "['event_id', 'event_datetime', 'event_key', 'session_id', 'id', 'item_name', 'page_name', 'friend_count', 'votes_count', 'heart_balance', 'question_id']\n"
     ]
    }
   ],
   "source": [
    "print(hackle_events_df.columns.tolist())\n"
   ]
  },
  {
   "cell_type": "code",
   "execution_count": 11,
   "id": "2a5106e2",
   "metadata": {},
   "outputs": [
    {
     "data": {
      "text/html": [
       "<div>\n",
       "<style scoped>\n",
       "    .dataframe tbody tr th:only-of-type {\n",
       "        vertical-align: middle;\n",
       "    }\n",
       "\n",
       "    .dataframe tbody tr th {\n",
       "        vertical-align: top;\n",
       "    }\n",
       "\n",
       "    .dataframe thead th {\n",
       "        text-align: right;\n",
       "    }\n",
       "</style>\n",
       "<table border=\"1\" class=\"dataframe\">\n",
       "  <thead>\n",
       "    <tr style=\"text-align: right;\">\n",
       "      <th></th>\n",
       "      <th>event_id</th>\n",
       "      <th>event_datetime</th>\n",
       "      <th>event_key</th>\n",
       "      <th>session_id</th>\n",
       "      <th>user_id</th>\n",
       "      <th>item_name</th>\n",
       "      <th>page_name</th>\n",
       "      <th>friend_count</th>\n",
       "      <th>votes_count</th>\n",
       "      <th>heart_balance</th>\n",
       "      <th>question_id</th>\n",
       "    </tr>\n",
       "  </thead>\n",
       "  <tbody>\n",
       "    <tr>\n",
       "      <th>4739</th>\n",
       "      <td>001bd0f0-c572-413b-8bfb-38319c9eb143</td>\n",
       "      <td>2023-07-28 08:04:58</td>\n",
       "      <td>click_friend_invite</td>\n",
       "      <td>45b9991b-0117-4116-bf61-d6026a19fd19</td>\n",
       "      <td>001bd0f0-c572-413b-8bfb-38319c9eb143</td>\n",
       "      <td></td>\n",
       "      <td>home</td>\n",
       "      <td>17.0</td>\n",
       "      <td>4.0</td>\n",
       "      <td>442.0</td>\n",
       "      <td>NaN</td>\n",
       "    </tr>\n",
       "  </tbody>\n",
       "</table>\n",
       "</div>"
      ],
      "text/plain": [
       "                                  event_id      event_datetime  \\\n",
       "4739  001bd0f0-c572-413b-8bfb-38319c9eb143 2023-07-28 08:04:58   \n",
       "\n",
       "                event_key                            session_id  \\\n",
       "4739  click_friend_invite  45b9991b-0117-4116-bf61-d6026a19fd19   \n",
       "\n",
       "                                   user_id item_name page_name  friend_count  \\\n",
       "4739  001bd0f0-c572-413b-8bfb-38319c9eb143                home          17.0   \n",
       "\n",
       "      votes_count  heart_balance  question_id  \n",
       "4739          4.0          442.0          NaN  "
      ]
     },
     "execution_count": 11,
     "metadata": {},
     "output_type": "execute_result"
    }
   ],
   "source": [
    "# 초대한 유저 1~2명만 샘플로 추출\n",
    "sample_user = inviter_df['user_id'].unique()[0]\n",
    "\n",
    "# 해당 유저의 전체 행동 시계열 확인\n",
    "hackle_events_df[hackle_events_df['user_id'] == sample_user].sort_values('event_datetime')\n"
   ]
  },
  {
   "cell_type": "code",
   "execution_count": 12,
   "id": "5cacbde3",
   "metadata": {},
   "outputs": [
    {
     "name": "stdout",
     "output_type": "stream",
     "text": [
      "초대한 유저 수: 3221\n",
      "전체 이벤트 유저 수: 11441319\n"
     ]
    }
   ],
   "source": [
    "print(\"초대한 유저 수:\", inviter_df['user_id'].nunique())\n",
    "print(\"전체 이벤트 유저 수:\", hackle_events_df['user_id'].nunique())\n"
   ]
  },
  {
   "cell_type": "code",
   "execution_count": null,
   "id": "a9b5ab8e",
   "metadata": {},
   "outputs": [],
   "source": []
  },
  {
   "cell_type": "markdown",
   "id": "26fe2795",
   "metadata": {},
   "source": [
    "---"
   ]
  },
  {
   "cell_type": "markdown",
   "id": "e2ba8897",
   "metadata": {},
   "source": [
    "# 2. hackle_properties"
   ]
  },
  {
   "cell_type": "code",
   "execution_count": 3,
   "id": "74c84175",
   "metadata": {},
   "outputs": [
    {
     "data": {
      "text/html": [
       "<div>\n",
       "<style scoped>\n",
       "    .dataframe tbody tr th:only-of-type {\n",
       "        vertical-align: middle;\n",
       "    }\n",
       "\n",
       "    .dataframe tbody tr th {\n",
       "        vertical-align: top;\n",
       "    }\n",
       "\n",
       "    .dataframe thead th {\n",
       "        text-align: right;\n",
       "    }\n",
       "</style>\n",
       "<table border=\"1\" class=\"dataframe\">\n",
       "  <thead>\n",
       "    <tr style=\"text-align: right;\">\n",
       "      <th></th>\n",
       "      <th>id</th>\n",
       "      <th>session_id</th>\n",
       "      <th>user_id</th>\n",
       "      <th>language</th>\n",
       "      <th>osname</th>\n",
       "      <th>osversion</th>\n",
       "      <th>versionname</th>\n",
       "      <th>device_id</th>\n",
       "    </tr>\n",
       "  </thead>\n",
       "  <tbody>\n",
       "    <tr>\n",
       "      <th>0</th>\n",
       "      <td>1</td>\n",
       "      <td>4OzYh3seq3VKytpSn5pvQkZNQii1</td>\n",
       "      <td></td>\n",
       "      <td>ko-KR</td>\n",
       "      <td>iOS</td>\n",
       "      <td>16.0</td>\n",
       "      <td>2.0.0</td>\n",
       "      <td>590E7C79-CBA0-44D8-8BE3-3C9BFABBBC74</td>\n",
       "    </tr>\n",
       "    <tr>\n",
       "      <th>1</th>\n",
       "      <td>2</td>\n",
       "      <td>8QXy31PQxbW9qLzq0Y1dhR8Ypm52</td>\n",
       "      <td>1046711</td>\n",
       "      <td>ko-KR</td>\n",
       "      <td>iOS</td>\n",
       "      <td>16.5.1</td>\n",
       "      <td>2.0.3</td>\n",
       "      <td>D5417226-F71B-4A9E-A180-CD072F2AB279</td>\n",
       "    </tr>\n",
       "    <tr>\n",
       "      <th>2</th>\n",
       "      <td>3</td>\n",
       "      <td>6bcea65d-9f40-46fc-888c-700fe707483f</td>\n",
       "      <td>1545130</td>\n",
       "      <td>ko</td>\n",
       "      <td>Android</td>\n",
       "      <td>13</td>\n",
       "      <td>2.0.5</td>\n",
       "      <td>6bcea65d-9f40-46fc-888c-700fe707483f</td>\n",
       "    </tr>\n",
       "    <tr>\n",
       "      <th>3</th>\n",
       "      <td>4</td>\n",
       "      <td>XVYNT6zfhFWqIg9omwg2AHDjTLx2</td>\n",
       "      <td>1224793</td>\n",
       "      <td>ko</td>\n",
       "      <td>Android</td>\n",
       "      <td>13</td>\n",
       "      <td>2.0.5</td>\n",
       "      <td>a05c1595-3e05-434b-8684-218b528bd725</td>\n",
       "    </tr>\n",
       "    <tr>\n",
       "      <th>4</th>\n",
       "      <td>5</td>\n",
       "      <td>XFB2SPiGfjbVhvJ3Q3DBsaT3m2B3</td>\n",
       "      <td>1329450</td>\n",
       "      <td>ko-US</td>\n",
       "      <td>iOS</td>\n",
       "      <td>16.5.1</td>\n",
       "      <td>2.0.5</td>\n",
       "      <td>EAC6C0B3-7CE8-40EA-8A91-9977C0BA5EF3</td>\n",
       "    </tr>\n",
       "  </tbody>\n",
       "</table>\n",
       "</div>"
      ],
      "text/plain": [
       "   id                            session_id  user_id language   osname  \\\n",
       "0   1          4OzYh3seq3VKytpSn5pvQkZNQii1             ko-KR      iOS   \n",
       "1   2          8QXy31PQxbW9qLzq0Y1dhR8Ypm52  1046711    ko-KR      iOS   \n",
       "2   3  6bcea65d-9f40-46fc-888c-700fe707483f  1545130       ko  Android   \n",
       "3   4          XVYNT6zfhFWqIg9omwg2AHDjTLx2  1224793       ko  Android   \n",
       "4   5          XFB2SPiGfjbVhvJ3Q3DBsaT3m2B3  1329450    ko-US      iOS   \n",
       "\n",
       "  osversion versionname                             device_id  \n",
       "0      16.0       2.0.0  590E7C79-CBA0-44D8-8BE3-3C9BFABBBC74  \n",
       "1    16.5.1       2.0.3  D5417226-F71B-4A9E-A180-CD072F2AB279  \n",
       "2        13       2.0.5  6bcea65d-9f40-46fc-888c-700fe707483f  \n",
       "3        13       2.0.5  a05c1595-3e05-434b-8684-218b528bd725  \n",
       "4    16.5.1       2.0.5  EAC6C0B3-7CE8-40EA-8A91-9977C0BA5EF3  "
      ]
     },
     "execution_count": 3,
     "metadata": {},
     "output_type": "execute_result"
    }
   ],
   "source": [
    "# 서비스 계정 키 경로 설정\n",
    "os.environ[\"GOOGLE_APPLICATION_CREDENTIALS\"] = r\"/home/eunyu/sprintda05-eunyu-a9946f7dea9c.json\"\n",
    "# GCS의 Parquet 파일 경로\n",
    "gcs_path = 'gs://final_project_enuyu/data/final_project/hackle/hackle_properties.parquet'\n",
    "\n",
    "# 데이터 불러오기\n",
    "hackle_properties_df = pd.read_parquet(gcs_path, engine='pyarrow')\n",
    "hackle_properties_df.head()"
   ]
  },
  {
   "cell_type": "code",
   "execution_count": 4,
   "id": "b0d02b39",
   "metadata": {},
   "outputs": [
    {
     "data": {
      "text/plain": [
       "(525350, 8)"
      ]
     },
     "execution_count": 4,
     "metadata": {},
     "output_type": "execute_result"
    }
   ],
   "source": [
    "hackle_properties_df.shape\n"
   ]
  },
  {
   "cell_type": "code",
   "execution_count": 5,
   "id": "817ac1fa",
   "metadata": {},
   "outputs": [
    {
     "name": "stdout",
     "output_type": "stream",
     "text": [
      "<class 'pandas.core.frame.DataFrame'>\n",
      "RangeIndex: 525350 entries, 0 to 525349\n",
      "Data columns (total 8 columns):\n",
      " #   Column       Non-Null Count   Dtype \n",
      "---  ------       --------------   ----- \n",
      " 0   id           525350 non-null  int64 \n",
      " 1   session_id   525350 non-null  object\n",
      " 2   user_id      525350 non-null  object\n",
      " 3   language     525350 non-null  object\n",
      " 4   osname       525350 non-null  object\n",
      " 5   osversion    525350 non-null  object\n",
      " 6   versionname  525350 non-null  object\n",
      " 7   device_id    525350 non-null  object\n",
      "dtypes: int64(1), object(7)\n",
      "memory usage: 32.1+ MB\n"
     ]
    }
   ],
   "source": [
    "hackle_properties_df.info()"
   ]
  },
  {
   "cell_type": "code",
   "execution_count": 6,
   "id": "d9011b26",
   "metadata": {},
   "outputs": [
    {
     "data": {
      "text/plain": [
       "id             0\n",
       "session_id     0\n",
       "user_id        0\n",
       "language       0\n",
       "osname         0\n",
       "osversion      0\n",
       "versionname    0\n",
       "device_id      0\n",
       "dtype: int64"
      ]
     },
     "execution_count": 6,
     "metadata": {},
     "output_type": "execute_result"
    }
   ],
   "source": [
    "hackle_properties_df.isnull().sum()"
   ]
  },
  {
   "cell_type": "code",
   "execution_count": 15,
   "id": "f7bd6a19",
   "metadata": {},
   "outputs": [
    {
     "data": {
      "text/plain": [
       "id                 0\n",
       "session_id         0\n",
       "user_id        82255\n",
       "language           0\n",
       "osname             0\n",
       "osversion          0\n",
       "versionname        0\n",
       "device_id          0\n",
       "dtype: int64"
      ]
     },
     "execution_count": 15,
     "metadata": {},
     "output_type": "execute_result"
    }
   ],
   "source": [
    "(hackle_properties_df == '').sum()"
   ]
  },
  {
   "cell_type": "code",
   "execution_count": 7,
   "id": "15c2c564",
   "metadata": {},
   "outputs": [
    {
     "data": {
      "text/html": [
       "<div>\n",
       "<style scoped>\n",
       "    .dataframe tbody tr th:only-of-type {\n",
       "        vertical-align: middle;\n",
       "    }\n",
       "\n",
       "    .dataframe tbody tr th {\n",
       "        vertical-align: top;\n",
       "    }\n",
       "\n",
       "    .dataframe thead th {\n",
       "        text-align: right;\n",
       "    }\n",
       "</style>\n",
       "<table border=\"1\" class=\"dataframe\">\n",
       "  <thead>\n",
       "    <tr style=\"text-align: right;\">\n",
       "      <th></th>\n",
       "      <th>id</th>\n",
       "      <th>session_id</th>\n",
       "      <th>user_id</th>\n",
       "      <th>language</th>\n",
       "      <th>osname</th>\n",
       "      <th>osversion</th>\n",
       "      <th>versionname</th>\n",
       "      <th>device_id</th>\n",
       "    </tr>\n",
       "  </thead>\n",
       "  <tbody>\n",
       "    <tr>\n",
       "      <th>count</th>\n",
       "      <td>525350.000000</td>\n",
       "      <td>525350</td>\n",
       "      <td>525350</td>\n",
       "      <td>525350</td>\n",
       "      <td>525350</td>\n",
       "      <td>525350</td>\n",
       "      <td>525350</td>\n",
       "      <td>525350</td>\n",
       "    </tr>\n",
       "    <tr>\n",
       "      <th>unique</th>\n",
       "      <td>NaN</td>\n",
       "      <td>253616</td>\n",
       "      <td>327381</td>\n",
       "      <td>151</td>\n",
       "      <td>2</td>\n",
       "      <td>74</td>\n",
       "      <td>16</td>\n",
       "      <td>251720</td>\n",
       "    </tr>\n",
       "    <tr>\n",
       "      <th>top</th>\n",
       "      <td>NaN</td>\n",
       "      <td>040914e1-61ac-40ef-b76a-718066d880dc</td>\n",
       "      <td></td>\n",
       "      <td>ko-KR</td>\n",
       "      <td>iOS</td>\n",
       "      <td>16.5.1</td>\n",
       "      <td>2.0.5</td>\n",
       "      <td>040914e1-61ac-40ef-b76a-718066d880dc</td>\n",
       "    </tr>\n",
       "    <tr>\n",
       "      <th>freq</th>\n",
       "      <td>NaN</td>\n",
       "      <td>9</td>\n",
       "      <td>82255</td>\n",
       "      <td>340900</td>\n",
       "      <td>359479</td>\n",
       "      <td>218699</td>\n",
       "      <td>309644</td>\n",
       "      <td>9</td>\n",
       "    </tr>\n",
       "    <tr>\n",
       "      <th>mean</th>\n",
       "      <td>262675.500000</td>\n",
       "      <td>NaN</td>\n",
       "      <td>NaN</td>\n",
       "      <td>NaN</td>\n",
       "      <td>NaN</td>\n",
       "      <td>NaN</td>\n",
       "      <td>NaN</td>\n",
       "      <td>NaN</td>\n",
       "    </tr>\n",
       "    <tr>\n",
       "      <th>std</th>\n",
       "      <td>151655.626297</td>\n",
       "      <td>NaN</td>\n",
       "      <td>NaN</td>\n",
       "      <td>NaN</td>\n",
       "      <td>NaN</td>\n",
       "      <td>NaN</td>\n",
       "      <td>NaN</td>\n",
       "      <td>NaN</td>\n",
       "    </tr>\n",
       "    <tr>\n",
       "      <th>min</th>\n",
       "      <td>1.000000</td>\n",
       "      <td>NaN</td>\n",
       "      <td>NaN</td>\n",
       "      <td>NaN</td>\n",
       "      <td>NaN</td>\n",
       "      <td>NaN</td>\n",
       "      <td>NaN</td>\n",
       "      <td>NaN</td>\n",
       "    </tr>\n",
       "    <tr>\n",
       "      <th>25%</th>\n",
       "      <td>131338.250000</td>\n",
       "      <td>NaN</td>\n",
       "      <td>NaN</td>\n",
       "      <td>NaN</td>\n",
       "      <td>NaN</td>\n",
       "      <td>NaN</td>\n",
       "      <td>NaN</td>\n",
       "      <td>NaN</td>\n",
       "    </tr>\n",
       "    <tr>\n",
       "      <th>50%</th>\n",
       "      <td>262675.500000</td>\n",
       "      <td>NaN</td>\n",
       "      <td>NaN</td>\n",
       "      <td>NaN</td>\n",
       "      <td>NaN</td>\n",
       "      <td>NaN</td>\n",
       "      <td>NaN</td>\n",
       "      <td>NaN</td>\n",
       "    </tr>\n",
       "    <tr>\n",
       "      <th>75%</th>\n",
       "      <td>394012.750000</td>\n",
       "      <td>NaN</td>\n",
       "      <td>NaN</td>\n",
       "      <td>NaN</td>\n",
       "      <td>NaN</td>\n",
       "      <td>NaN</td>\n",
       "      <td>NaN</td>\n",
       "      <td>NaN</td>\n",
       "    </tr>\n",
       "    <tr>\n",
       "      <th>max</th>\n",
       "      <td>525350.000000</td>\n",
       "      <td>NaN</td>\n",
       "      <td>NaN</td>\n",
       "      <td>NaN</td>\n",
       "      <td>NaN</td>\n",
       "      <td>NaN</td>\n",
       "      <td>NaN</td>\n",
       "      <td>NaN</td>\n",
       "    </tr>\n",
       "  </tbody>\n",
       "</table>\n",
       "</div>"
      ],
      "text/plain": [
       "                   id                            session_id user_id language  \\\n",
       "count   525350.000000                                525350  525350   525350   \n",
       "unique            NaN                                253616  327381      151   \n",
       "top               NaN  040914e1-61ac-40ef-b76a-718066d880dc            ko-KR   \n",
       "freq              NaN                                     9   82255   340900   \n",
       "mean    262675.500000                                   NaN     NaN      NaN   \n",
       "std     151655.626297                                   NaN     NaN      NaN   \n",
       "min          1.000000                                   NaN     NaN      NaN   \n",
       "25%     131338.250000                                   NaN     NaN      NaN   \n",
       "50%     262675.500000                                   NaN     NaN      NaN   \n",
       "75%     394012.750000                                   NaN     NaN      NaN   \n",
       "max     525350.000000                                   NaN     NaN      NaN   \n",
       "\n",
       "        osname osversion versionname                             device_id  \n",
       "count   525350    525350      525350                                525350  \n",
       "unique       2        74          16                                251720  \n",
       "top        iOS    16.5.1       2.0.5  040914e1-61ac-40ef-b76a-718066d880dc  \n",
       "freq    359479    218699      309644                                     9  \n",
       "mean       NaN       NaN         NaN                                   NaN  \n",
       "std        NaN       NaN         NaN                                   NaN  \n",
       "min        NaN       NaN         NaN                                   NaN  \n",
       "25%        NaN       NaN         NaN                                   NaN  \n",
       "50%        NaN       NaN         NaN                                   NaN  \n",
       "75%        NaN       NaN         NaN                                   NaN  \n",
       "max        NaN       NaN         NaN                                   NaN  "
      ]
     },
     "execution_count": 7,
     "metadata": {},
     "output_type": "execute_result"
    }
   ],
   "source": [
    "hackle_properties_df.describe(include='all')"
   ]
  },
  {
   "cell_type": "code",
   "execution_count": null,
   "id": "b09d95e2",
   "metadata": {},
   "outputs": [],
   "source": []
  },
  {
   "cell_type": "code",
   "execution_count": 8,
   "id": "0a427459",
   "metadata": {},
   "outputs": [
    {
     "name": "stdout",
     "output_type": "stream",
     "text": [
      "271734\n",
      "273630\n",
      "197969\n"
     ]
    }
   ],
   "source": [
    "print(hackle_properties_df['session_id'].duplicated().sum())\n",
    "print(hackle_properties_df['device_id'].duplicated().sum())\n",
    "print(hackle_properties_df['user_id'].duplicated().sum())"
   ]
  },
  {
   "cell_type": "code",
   "execution_count": 9,
   "id": "44707674",
   "metadata": {},
   "outputs": [
    {
     "data": {
      "text/plain": [
       "device_id\n",
       "040914e1-61ac-40ef-b76a-718066d880dc    9\n",
       "2EFB7401-B868-4E88-A91D-5C0D34AA45E5    8\n",
       "09D46910-FB6E-4ECF-A425-D117D0BDC2BB    8\n",
       "63799B19-7B7C-4D84-85D2-912708D0BD80    7\n",
       "D4F83BFB-0670-4D5E-8D9B-9D7B4BFC4AED    7\n",
       "A35959B2-82B3-4FE6-A1C8-620CD6FF37DA    7\n",
       "3639406E-3302-4856-82A4-371852CCF57E    7\n",
       "75B6230F-5EB8-49E6-9A25-4B279FD4AAFE    7\n",
       "0FFE3878-EBA3-4386-8C4A-B3D867DC8B7F    7\n",
       "083d6d9e-88b4-4646-8901-14a789f502b5    7\n",
       "Name: count, dtype: int64"
      ]
     },
     "execution_count": 9,
     "metadata": {},
     "output_type": "execute_result"
    }
   ],
   "source": [
    "hackle_properties_df['device_id'].value_counts().head(10)"
   ]
  },
  {
   "cell_type": "markdown",
   "id": "0f7bb73e",
   "metadata": {},
   "source": [
    "- device_id 기준 상위 10개 다중 사용 디바이스의 이벤트 수는 매우 높다 (7~9회)                    \n",
    "- 자동화된 접근 또는 특정 테스트 디바이스일 가능성                "
   ]
  },
  {
   "cell_type": "markdown",
   "id": "288600a1",
   "metadata": {},
   "source": []
  },
  {
   "cell_type": "code",
   "execution_count": 10,
   "id": "0c7a9562",
   "metadata": {},
   "outputs": [
    {
     "data": {
      "text/plain": [
       "language\n",
       "ko-KR         340900\n",
       "ko            164682\n",
       "en-KR           9658\n",
       "ko-US           4931\n",
       "en              1122\n",
       "en-GB            513\n",
       "en-US            502\n",
       "ko-JP            465\n",
       "ko-CA            330\n",
       "ja-KR            306\n",
       "ko-GP            267\n",
       "ko-GH            119\n",
       "ko-CN            110\n",
       "ko-GU            108\n",
       "ko-GG             88\n",
       "ru-KR             81\n",
       "ko-GB             74\n",
       "ja                60\n",
       "ko-AU             56\n",
       "zh-Hans-KR        54\n",
       "Name: count, dtype: int64"
      ]
     },
     "execution_count": 10,
     "metadata": {},
     "output_type": "execute_result"
    }
   ],
   "source": [
    "hackle_properties_df['language'].value_counts().head(20)"
   ]
  },
  {
   "cell_type": "code",
   "execution_count": 11,
   "id": "91b531d8",
   "metadata": {},
   "outputs": [
    {
     "data": {
      "text/plain": [
       "array(['iOS', 'Android'], dtype=object)"
      ]
     },
     "execution_count": 11,
     "metadata": {},
     "output_type": "execute_result"
    }
   ],
   "source": [
    "hackle_properties_df['osname'].unique()"
   ]
  },
  {
   "cell_type": "code",
   "execution_count": 12,
   "id": "91bf1d91",
   "metadata": {},
   "outputs": [
    {
     "data": {
      "text/plain": [
       "osversion\n",
       "16.5.1    218699\n",
       "13        112112\n",
       "12         32611\n",
       "16.6       31126\n",
       "16.3.1     22012\n",
       "16.0       19622\n",
       "16.2       14389\n",
       "10         10229\n",
       "16.1.1      9890\n",
       "11          6521\n",
       "Name: count, dtype: int64"
      ]
     },
     "execution_count": 12,
     "metadata": {},
     "output_type": "execute_result"
    }
   ],
   "source": [
    "hackle_properties_df['osversion'].value_counts().head(10)"
   ]
  },
  {
   "cell_type": "markdown",
   "id": "04edd6fc",
   "metadata": {},
   "source": [
    "- 16.5.1 버전이 약 41% 차지 (218,699/525,350)"
   ]
  },
  {
   "cell_type": "code",
   "execution_count": null,
   "id": "abdfb460",
   "metadata": {},
   "outputs": [],
   "source": []
  },
  {
   "cell_type": "code",
   "execution_count": null,
   "id": "df56b8d3",
   "metadata": {},
   "outputs": [
    {
     "data": {
      "text/plain": [
       "count    327381.000000\n",
       "mean          1.247626\n",
       "std         136.665205\n",
       "min           1.000000\n",
       "25%           1.000000\n",
       "50%           1.000000\n",
       "75%           1.000000\n",
       "max       78197.000000\n",
       "Name: session_id, dtype: float64"
      ]
     },
     "execution_count": 13,
     "metadata": {},
     "output_type": "execute_result"
    }
   ],
   "source": [
    "# 다중 세션 사용자\n",
    "\n",
    "hackle_properties_df.groupby('user_id')['session_id'].nunique().describe()"
   ]
  },
  {
   "cell_type": "code",
   "execution_count": null,
   "id": "6de03a69",
   "metadata": {},
   "outputs": [
    {
     "data": {
      "text/plain": [
       "count    327381.000000\n",
       "mean          1.246545\n",
       "std         135.350918\n",
       "min           1.000000\n",
       "25%           1.000000\n",
       "50%           1.000000\n",
       "75%           1.000000\n",
       "max       77445.000000\n",
       "Name: device_id, dtype: float64"
      ]
     },
     "execution_count": 14,
     "metadata": {},
     "output_type": "execute_result"
    }
   ],
   "source": [
    "# 다중 기기 사용자\n",
    "\n",
    "hackle_properties_df.groupby('user_id')['device_id'].nunique().describe()"
   ]
  },
  {
   "cell_type": "code",
   "execution_count": null,
   "id": "ddcef9e9",
   "metadata": {},
   "outputs": [],
   "source": []
  },
  {
   "cell_type": "markdown",
   "id": "d3b48f6b",
   "metadata": {},
   "source": [
    "#### 사용자 행동 기반 세분화"
   ]
  },
  {
   "cell_type": "code",
   "execution_count": 16,
   "id": "fe8e9a17",
   "metadata": {},
   "outputs": [],
   "source": [
    "# 'user_id'가 빈 문자열인 경우 익명 유저로 분류\n",
    "hackle_properties_df['is_anonymous'] = hackle_properties_df['user_id'] == ''"
   ]
  },
  {
   "cell_type": "code",
   "execution_count": 17,
   "id": "477996a4",
   "metadata": {},
   "outputs": [],
   "source": [
    "# user_id별 session_id 개수 계산\n",
    "session_count = hackle_properties_df.groupby('user_id')['session_id'].nunique()\n",
    "\n",
    "# 고빈도/저빈도 기준: 중위수 이상을 고빈도로 설정\n",
    "median_sessions = session_count.median()\n",
    "user_freq_class = session_count.apply(lambda x: 'high' if x >= median_sessions else 'low')\n",
    "\n",
    "# 결과를 원본에 병합\n",
    "hackle_properties_df = hackle_properties_df.merge(user_freq_class.rename('session_freq_class'), left_on='user_id', right_index=True, how='left')\n"
   ]
  },
  {
   "cell_type": "code",
   "execution_count": 18,
   "id": "55d22e92",
   "metadata": {},
   "outputs": [],
   "source": [
    "# user_id별 device_id 고유 개수\n",
    "device_count = hackle_properties_df.groupby('user_id')['device_id'].nunique()\n",
    "\n",
    "# 단일 vs 다중 기준: device 수 == 1 → 단일\n",
    "user_device_class = device_count.apply(lambda x: 'single' if x == 1 else 'multiple')\n",
    "\n",
    "# 결과 병합\n",
    "hackle_properties_df = hackle_properties_df.merge(user_device_class.rename('device_class'), left_on='user_id', right_index=True, how='left')\n"
   ]
  },
  {
   "cell_type": "code",
   "execution_count": 19,
   "id": "87976ee0",
   "metadata": {},
   "outputs": [
    {
     "data": {
      "text/html": [
       "<div>\n",
       "<style scoped>\n",
       "    .dataframe tbody tr th:only-of-type {\n",
       "        vertical-align: middle;\n",
       "    }\n",
       "\n",
       "    .dataframe tbody tr th {\n",
       "        vertical-align: top;\n",
       "    }\n",
       "\n",
       "    .dataframe thead th {\n",
       "        text-align: right;\n",
       "    }\n",
       "</style>\n",
       "<table border=\"1\" class=\"dataframe\">\n",
       "  <thead>\n",
       "    <tr style=\"text-align: right;\">\n",
       "      <th></th>\n",
       "      <th>is_anonymous</th>\n",
       "      <th>session_freq_class</th>\n",
       "      <th>device_class</th>\n",
       "      <th>user_count</th>\n",
       "    </tr>\n",
       "  </thead>\n",
       "  <tbody>\n",
       "    <tr>\n",
       "      <th>0</th>\n",
       "      <td>False</td>\n",
       "      <td>high</td>\n",
       "      <td>multiple</td>\n",
       "      <td>7666</td>\n",
       "    </tr>\n",
       "    <tr>\n",
       "      <th>1</th>\n",
       "      <td>False</td>\n",
       "      <td>high</td>\n",
       "      <td>single</td>\n",
       "      <td>435429</td>\n",
       "    </tr>\n",
       "    <tr>\n",
       "      <th>2</th>\n",
       "      <td>True</td>\n",
       "      <td>high</td>\n",
       "      <td>multiple</td>\n",
       "      <td>82255</td>\n",
       "    </tr>\n",
       "  </tbody>\n",
       "</table>\n",
       "</div>"
      ],
      "text/plain": [
       "   is_anonymous session_freq_class device_class  user_count\n",
       "0         False               high     multiple        7666\n",
       "1         False               high       single      435429\n",
       "2          True               high     multiple       82255"
      ]
     },
     "execution_count": 19,
     "metadata": {},
     "output_type": "execute_result"
    }
   ],
   "source": [
    "# 로그인 유무: is_anonymous\n",
    "# 접속 빈도: session_freq_class\n",
    "# 디바이스 수: device_class\n",
    "\n",
    "# 조합 예시\n",
    "hackle_properties_df.groupby(['is_anonymous', 'session_freq_class', 'device_class']).size().reset_index(name='user_count')\n"
   ]
  },
  {
   "cell_type": "markdown",
   "id": "af098c03",
   "metadata": {},
   "source": [
    "- 로그인 유저\t고빈도\t단일 디바이스\t435,429\n",
    "   - 일반적인 정규 사용자. 세션이 많지만 하나의 디바이스만 사용\n",
    "- 로그인 유저\t고빈도\t다중 디바이스\t7,666\n",
    "   - 여러 디바이스로 접속. 공유 계정 또는 의심 사용자 가능성\n",
    "- 익명 유저\t고빈도\t다중 디바이스\t82,255\n",
    "   - 로그인 없이 여러 디바이스로 자주 접속. 비정상/테스트/봇 가능성 매우 높음"
   ]
  },
  {
   "cell_type": "code",
   "execution_count": null,
   "id": "fa415a89",
   "metadata": {},
   "outputs": [],
   "source": []
  },
  {
   "cell_type": "code",
   "execution_count": 20,
   "id": "f7bb8cd7",
   "metadata": {},
   "outputs": [
    {
     "data": {
      "text/plain": [
       "language\n",
       "ko-KR    54989\n",
       "ko       24071\n",
       "en-KR     1510\n",
       "ko-US      812\n",
       "en         171\n",
       "en-US       92\n",
       "ko-JP       88\n",
       "en-GB       82\n",
       "ja-KR       60\n",
       "ko-CA       43\n",
       "Name: count, dtype: int64"
      ]
     },
     "execution_count": 20,
     "metadata": {},
     "output_type": "execute_result"
    }
   ],
   "source": [
    "anon_mult_users = hackle_properties_df[\n",
    "    (hackle_properties_df['is_anonymous']) &\n",
    "    (hackle_properties_df['device_class'] == 'multiple')\n",
    "]\n",
    "anon_mult_users['language'].value_counts().head(10)"
   ]
  },
  {
   "cell_type": "code",
   "execution_count": null,
   "id": "b684a110",
   "metadata": {},
   "outputs": [],
   "source": []
  },
  {
   "cell_type": "code",
   "execution_count": 21,
   "id": "8164a0df",
   "metadata": {},
   "outputs": [
    {
     "data": {
      "text/plain": [
       "user_id\n",
       "1578652    17\n",
       "1459833    13\n",
       "1571506    13\n",
       "1285353    12\n",
       "1239584    12\n",
       "1388873    12\n",
       "855879     12\n",
       "910934     11\n",
       "1398551    10\n",
       "1301920    10\n",
       "Name: count, dtype: int64"
      ]
     },
     "execution_count": 21,
     "metadata": {},
     "output_type": "execute_result"
    }
   ],
   "source": [
    "login_multi_users = hackle_properties_df[\n",
    "    (~hackle_properties_df['is_anonymous']) &\n",
    "    (hackle_properties_df['device_class'] == 'multiple')\n",
    "]\n",
    "login_multi_users['user_id'].value_counts().head(10)"
   ]
  },
  {
   "cell_type": "code",
   "execution_count": null,
   "id": "aa9c0cee",
   "metadata": {},
   "outputs": [],
   "source": []
  },
  {
   "cell_type": "code",
   "execution_count": 22,
   "id": "f206b6a9",
   "metadata": {},
   "outputs": [
    {
     "data": {
      "image/png": "[encoded data removed]",
      "text/plain": [
       "<Figure size 640x480 with 1 Axes>"
      ]
     },
     "metadata": {},
     "output_type": "display_data"
    }
   ],
   "source": [
    "sns.boxplot(data=hackle_properties_df, x='device_class', y=hackle_properties_df.groupby('user_id')['device_id'].transform('nunique'))\n",
    "plt.title(\"디바이스 수에 따른 사용자 분포\")\n",
    "plt.show()"
   ]
  },
  {
   "cell_type": "code",
   "execution_count": null,
   "id": "dad016bc",
   "metadata": {},
   "outputs": [],
   "source": []
  },
  {
   "cell_type": "code",
   "execution_count": null,
   "id": "d40fea2f",
   "metadata": {},
   "outputs": [],
   "source": []
  },
  {
   "cell_type": "markdown",
   "id": "05b7629b",
   "metadata": {},
   "source": [
    "---"
   ]
  },
  {
   "cell_type": "markdown",
   "id": "184991c6",
   "metadata": {},
   "source": [
    "# 3. device_properties"
   ]
  },
  {
   "cell_type": "code",
   "execution_count": 24,
   "id": "32a71f15",
   "metadata": {},
   "outputs": [
    {
     "data": {
      "text/html": [
       "<div>\n",
       "<style scoped>\n",
       "    .dataframe tbody tr th:only-of-type {\n",
       "        vertical-align: middle;\n",
       "    }\n",
       "\n",
       "    .dataframe tbody tr th {\n",
       "        vertical-align: top;\n",
       "    }\n",
       "\n",
       "    .dataframe thead th {\n",
       "        text-align: right;\n",
       "    }\n",
       "</style>\n",
       "<table border=\"1\" class=\"dataframe\">\n",
       "  <thead>\n",
       "    <tr style=\"text-align: right;\">\n",
       "      <th></th>\n",
       "      <th>id</th>\n",
       "      <th>device_id</th>\n",
       "      <th>device_model</th>\n",
       "      <th>device_vendor</th>\n",
       "    </tr>\n",
       "  </thead>\n",
       "  <tbody>\n",
       "    <tr>\n",
       "      <th>0</th>\n",
       "      <td>1</td>\n",
       "      <td>000007C9-E103-4EB5-9777-A9084D4952DF</td>\n",
       "      <td>iPhone14,7</td>\n",
       "      <td>Apple</td>\n",
       "    </tr>\n",
       "    <tr>\n",
       "      <th>1</th>\n",
       "      <td>2</td>\n",
       "      <td>00002245-458F-4CDD-8533-B448CD43DBD2</td>\n",
       "      <td>iPhone14,7</td>\n",
       "      <td>Apple</td>\n",
       "    </tr>\n",
       "    <tr>\n",
       "      <th>2</th>\n",
       "      <td>3</td>\n",
       "      <td>00012620-313A-4502-9F8D-8DAB7443215B</td>\n",
       "      <td>iPhone14,5</td>\n",
       "      <td>Apple</td>\n",
       "    </tr>\n",
       "    <tr>\n",
       "      <th>3</th>\n",
       "      <td>4</td>\n",
       "      <td>000137bc-80de-4bb5-b61d-df7f217a4501</td>\n",
       "      <td>SM-F711N</td>\n",
       "      <td>samsung</td>\n",
       "    </tr>\n",
       "    <tr>\n",
       "      <th>4</th>\n",
       "      <td>5</td>\n",
       "      <td>000227D6-B782-4367-91C4-486B76DF9E37</td>\n",
       "      <td>iPhone12,3</td>\n",
       "      <td>Apple</td>\n",
       "    </tr>\n",
       "    <tr>\n",
       "      <th>...</th>\n",
       "      <td>...</td>\n",
       "      <td>...</td>\n",
       "      <td>...</td>\n",
       "      <td>...</td>\n",
       "    </tr>\n",
       "    <tr>\n",
       "      <th>252375</th>\n",
       "      <td>252376</td>\n",
       "      <td>FFFE54E6-48F9-4262-A487-94E944B1B68C</td>\n",
       "      <td>iPhone14,4</td>\n",
       "      <td>Apple</td>\n",
       "    </tr>\n",
       "    <tr>\n",
       "      <th>252376</th>\n",
       "      <td>252377</td>\n",
       "      <td>FFFE80D2-6B57-41AF-9CD6-8E616CC7BFDE</td>\n",
       "      <td>iPhone14,7</td>\n",
       "      <td>Apple</td>\n",
       "    </tr>\n",
       "    <tr>\n",
       "      <th>252377</th>\n",
       "      <td>252378</td>\n",
       "      <td>FFFED16A-DAF6-40A1-865D-29C4D1302DA5</td>\n",
       "      <td>iPhone14,4</td>\n",
       "      <td>Apple</td>\n",
       "    </tr>\n",
       "    <tr>\n",
       "      <th>252378</th>\n",
       "      <td>252379</td>\n",
       "      <td>FFFEEA5E-C4D9-4BB7-A9E4-3715455B69AD</td>\n",
       "      <td>iPhone12,8</td>\n",
       "      <td>Apple</td>\n",
       "    </tr>\n",
       "    <tr>\n",
       "      <th>252379</th>\n",
       "      <td>252380</td>\n",
       "      <td>FFFEF44A-ADDD-42BB-9594-698C10FDDDA9</td>\n",
       "      <td>iPhone13,2</td>\n",
       "      <td>Apple</td>\n",
       "    </tr>\n",
       "  </tbody>\n",
       "</table>\n",
       "<p>252380 rows × 4 columns</p>\n",
       "</div>"
      ],
      "text/plain": [
       "            id                             device_id device_model  \\\n",
       "0            1  000007C9-E103-4EB5-9777-A9084D4952DF   iPhone14,7   \n",
       "1            2  00002245-458F-4CDD-8533-B448CD43DBD2   iPhone14,7   \n",
       "2            3  00012620-313A-4502-9F8D-8DAB7443215B   iPhone14,5   \n",
       "3            4  000137bc-80de-4bb5-b61d-df7f217a4501     SM-F711N   \n",
       "4            5  000227D6-B782-4367-91C4-486B76DF9E37   iPhone12,3   \n",
       "...        ...                                   ...          ...   \n",
       "252375  252376  FFFE54E6-48F9-4262-A487-94E944B1B68C   iPhone14,4   \n",
       "252376  252377  FFFE80D2-6B57-41AF-9CD6-8E616CC7BFDE   iPhone14,7   \n",
       "252377  252378  FFFED16A-DAF6-40A1-865D-29C4D1302DA5   iPhone14,4   \n",
       "252378  252379  FFFEEA5E-C4D9-4BB7-A9E4-3715455B69AD   iPhone12,8   \n",
       "252379  252380  FFFEF44A-ADDD-42BB-9594-698C10FDDDA9   iPhone13,2   \n",
       "\n",
       "       device_vendor  \n",
       "0              Apple  \n",
       "1              Apple  \n",
       "2              Apple  \n",
       "3            samsung  \n",
       "4              Apple  \n",
       "...              ...  \n",
       "252375         Apple  \n",
       "252376         Apple  \n",
       "252377         Apple  \n",
       "252378         Apple  \n",
       "252379         Apple  \n",
       "\n",
       "[252380 rows x 4 columns]"
      ]
     },
     "execution_count": 24,
     "metadata": {},
     "output_type": "execute_result"
    }
   ],
   "source": [
    "# 서비스 계정 키 경로 설정\n",
    "os.environ[\"GOOGLE_APPLICATION_CREDENTIALS\"] = r\"/home/eunyu/sprintda05-eunyu-a9946f7dea9c.json\"\n",
    "# GCS의 Parquet 파일 경로\n",
    "gcs_path = 'gs://final_project_enuyu/data/final_project/hackle/device_properties.parquet'\n",
    "\n",
    "# 데이터 불러오기\n",
    "device_properties_df = pd.read_parquet(gcs_path, engine='pyarrow')\n",
    "device_properties_df"
   ]
  },
  {
   "cell_type": "code",
   "execution_count": 25,
   "id": "f2068d3c",
   "metadata": {},
   "outputs": [
    {
     "name": "stdout",
     "output_type": "stream",
     "text": [
      "<class 'pandas.core.frame.DataFrame'>\n",
      "RangeIndex: 252380 entries, 0 to 252379\n",
      "Data columns (total 4 columns):\n",
      " #   Column         Non-Null Count   Dtype \n",
      "---  ------         --------------   ----- \n",
      " 0   id             252380 non-null  int64 \n",
      " 1   device_id      252380 non-null  object\n",
      " 2   device_model   252380 non-null  object\n",
      " 3   device_vendor  252380 non-null  object\n",
      "dtypes: int64(1), object(3)\n",
      "memory usage: 7.7+ MB\n"
     ]
    }
   ],
   "source": [
    "device_properties_df.info()"
   ]
  },
  {
   "cell_type": "code",
   "execution_count": 26,
   "id": "a9b45d4f",
   "metadata": {},
   "outputs": [
    {
     "data": {
      "text/plain": [
       "id               0\n",
       "device_id        0\n",
       "device_model     0\n",
       "device_vendor    0\n",
       "dtype: int64"
      ]
     },
     "execution_count": 26,
     "metadata": {},
     "output_type": "execute_result"
    }
   ],
   "source": [
    "device_properties_df.isnull().sum()"
   ]
  },
  {
   "cell_type": "code",
   "execution_count": 27,
   "id": "37c25fa7",
   "metadata": {},
   "outputs": [
    {
     "data": {
      "text/html": [
       "<div>\n",
       "<style scoped>\n",
       "    .dataframe tbody tr th:only-of-type {\n",
       "        vertical-align: middle;\n",
       "    }\n",
       "\n",
       "    .dataframe tbody tr th {\n",
       "        vertical-align: top;\n",
       "    }\n",
       "\n",
       "    .dataframe thead th {\n",
       "        text-align: right;\n",
       "    }\n",
       "</style>\n",
       "<table border=\"1\" class=\"dataframe\">\n",
       "  <thead>\n",
       "    <tr style=\"text-align: right;\">\n",
       "      <th></th>\n",
       "      <th>id</th>\n",
       "      <th>device_id</th>\n",
       "      <th>device_model</th>\n",
       "      <th>device_vendor</th>\n",
       "    </tr>\n",
       "  </thead>\n",
       "  <tbody>\n",
       "    <tr>\n",
       "      <th>count</th>\n",
       "      <td>252380.000000</td>\n",
       "      <td>252380</td>\n",
       "      <td>252380</td>\n",
       "      <td>252380</td>\n",
       "    </tr>\n",
       "    <tr>\n",
       "      <th>unique</th>\n",
       "      <td>NaN</td>\n",
       "      <td>251720</td>\n",
       "      <td>522</td>\n",
       "      <td>36</td>\n",
       "    </tr>\n",
       "    <tr>\n",
       "      <th>top</th>\n",
       "      <td>NaN</td>\n",
       "      <td>5dab2e2f-54fd-4c4d-9996-1cccfa6c7428</td>\n",
       "      <td>iPhone14,5</td>\n",
       "      <td>Apple</td>\n",
       "    </tr>\n",
       "    <tr>\n",
       "      <th>freq</th>\n",
       "      <td>NaN</td>\n",
       "      <td>2</td>\n",
       "      <td>27656</td>\n",
       "      <td>174444</td>\n",
       "    </tr>\n",
       "    <tr>\n",
       "      <th>mean</th>\n",
       "      <td>126190.500000</td>\n",
       "      <td>NaN</td>\n",
       "      <td>NaN</td>\n",
       "      <td>NaN</td>\n",
       "    </tr>\n",
       "    <tr>\n",
       "      <th>std</th>\n",
       "      <td>72855.974806</td>\n",
       "      <td>NaN</td>\n",
       "      <td>NaN</td>\n",
       "      <td>NaN</td>\n",
       "    </tr>\n",
       "    <tr>\n",
       "      <th>min</th>\n",
       "      <td>1.000000</td>\n",
       "      <td>NaN</td>\n",
       "      <td>NaN</td>\n",
       "      <td>NaN</td>\n",
       "    </tr>\n",
       "    <tr>\n",
       "      <th>25%</th>\n",
       "      <td>63095.750000</td>\n",
       "      <td>NaN</td>\n",
       "      <td>NaN</td>\n",
       "      <td>NaN</td>\n",
       "    </tr>\n",
       "    <tr>\n",
       "      <th>50%</th>\n",
       "      <td>126190.500000</td>\n",
       "      <td>NaN</td>\n",
       "      <td>NaN</td>\n",
       "      <td>NaN</td>\n",
       "    </tr>\n",
       "    <tr>\n",
       "      <th>75%</th>\n",
       "      <td>189285.250000</td>\n",
       "      <td>NaN</td>\n",
       "      <td>NaN</td>\n",
       "      <td>NaN</td>\n",
       "    </tr>\n",
       "    <tr>\n",
       "      <th>max</th>\n",
       "      <td>252380.000000</td>\n",
       "      <td>NaN</td>\n",
       "      <td>NaN</td>\n",
       "      <td>NaN</td>\n",
       "    </tr>\n",
       "  </tbody>\n",
       "</table>\n",
       "</div>"
      ],
      "text/plain": [
       "                   id                             device_id device_model  \\\n",
       "count   252380.000000                                252380       252380   \n",
       "unique            NaN                                251720          522   \n",
       "top               NaN  5dab2e2f-54fd-4c4d-9996-1cccfa6c7428   iPhone14,5   \n",
       "freq              NaN                                     2        27656   \n",
       "mean    126190.500000                                   NaN          NaN   \n",
       "std      72855.974806                                   NaN          NaN   \n",
       "min          1.000000                                   NaN          NaN   \n",
       "25%      63095.750000                                   NaN          NaN   \n",
       "50%     126190.500000                                   NaN          NaN   \n",
       "75%     189285.250000                                   NaN          NaN   \n",
       "max     252380.000000                                   NaN          NaN   \n",
       "\n",
       "       device_vendor  \n",
       "count         252380  \n",
       "unique            36  \n",
       "top            Apple  \n",
       "freq          174444  \n",
       "mean             NaN  \n",
       "std              NaN  \n",
       "min              NaN  \n",
       "25%              NaN  \n",
       "50%              NaN  \n",
       "75%              NaN  \n",
       "max              NaN  "
      ]
     },
     "execution_count": 27,
     "metadata": {},
     "output_type": "execute_result"
    }
   ],
   "source": [
    "device_properties_df.describe(include='all')"
   ]
  },
  {
   "cell_type": "code",
   "execution_count": null,
   "id": "04c34b38",
   "metadata": {},
   "outputs": [],
   "source": []
  },
  {
   "cell_type": "code",
   "execution_count": 28,
   "id": "ed8aaeeb",
   "metadata": {},
   "outputs": [
    {
     "data": {
      "text/plain": [
       "device_vendor\n",
       "Apple       69.119582\n",
       "samsung     30.068547\n",
       "LGE          0.625248\n",
       "Xiaomi       0.112529\n",
       "OnePlus      0.019415\n",
       "Google       0.012283\n",
       "LENOVO       0.009509\n",
       "Chinoe       0.007528\n",
       "FYD          0.002774\n",
       "motorola     0.002377\n",
       "Name: proportion, dtype: float64"
      ]
     },
     "execution_count": 28,
     "metadata": {},
     "output_type": "execute_result"
    }
   ],
   "source": [
    "device_properties_df['device_vendor'].value_counts(normalize=True).head(10) * 100"
   ]
  },
  {
   "cell_type": "code",
   "execution_count": 30,
   "id": "d917151e",
   "metadata": {},
   "outputs": [
    {
     "data": {
      "text/plain": [
       "(            id                             device_id device_model  \\\n",
       " 0            1  000007C9-E103-4EB5-9777-A9084D4952DF   iPhone14,7   \n",
       " 1            2  00002245-458F-4CDD-8533-B448CD43DBD2   iPhone14,7   \n",
       " 2            3  00012620-313A-4502-9F8D-8DAB7443215B   iPhone14,5   \n",
       " 6            7  00039F52-AC9A-4474-A645-DFE225C56753   iPhone14,7   \n",
       " 9           10  0004F43C-3A7A-4DE4-A02B-55AFDF07E9AD   iPhone14,4   \n",
       " ...        ...                                   ...          ...   \n",
       " 252372  252373  FFFD88D6-7B5D-4F92-9ADC-3DD413177588   iPhone15,2   \n",
       " 252373  252374  FFFDBEFD-0039-437C-9EF3-EBCAD41FD544   iPhone14,5   \n",
       " 252375  252376  FFFE54E6-48F9-4262-A487-94E944B1B68C   iPhone14,4   \n",
       " 252376  252377  FFFE80D2-6B57-41AF-9CD6-8E616CC7BFDE   iPhone14,7   \n",
       " 252377  252378  FFFED16A-DAF6-40A1-865D-29C4D1302DA5   iPhone14,4   \n",
       " \n",
       "        device_vendor  \n",
       " 0              Apple  \n",
       " 1              Apple  \n",
       " 2              Apple  \n",
       " 6              Apple  \n",
       " 9              Apple  \n",
       " ...              ...  \n",
       " 252372         Apple  \n",
       " 252373         Apple  \n",
       " 252375         Apple  \n",
       " 252376         Apple  \n",
       " 252377         Apple  \n",
       " \n",
       " [94666 rows x 4 columns],\n",
       "             id                             device_id device_model  \\\n",
       " 82132    82133  5361e8ae-2eb1-46b4-af53-00c92e0815ad     SM-N915K   \n",
       " 82633    82634  53d89f50-467b-40fb-891e-e3c8d189fc0f     SM-J710K   \n",
       " 89999    90000  5b42509a-5c6a-4c8c-9255-73c25a982026     SM-N9810   \n",
       " 90613    90614  5bdae042-3e20-4e72-93ce-6f9623f61d6c   23049PCD8G   \n",
       " 251614  251615  ff2c6404-d7bf-4d49-879f-ad3aafc2e49e     SM-N975U   \n",
       " \n",
       "        device_vendor  \n",
       " 82132        samsung  \n",
       " 82633        samsung  \n",
       " 89999        samsung  \n",
       " 90613         Xiaomi  \n",
       " 251614       samsung  )"
      ]
     },
     "execution_count": 30,
     "metadata": {},
     "output_type": "execute_result"
    }
   ],
   "source": [
    "top_models = device_properties_df['device_model'].value_counts().head(5).index\n",
    "bottom_models = device_properties_df['device_model'].value_counts().tail(5).index\n",
    "\n",
    "top_df = device_properties_df[device_properties_df['device_model'].isin(top_models)]\n",
    "bottom_df = device_properties_df[device_properties_df['device_model'].isin(bottom_models)]\n",
    "\n",
    "top_df, bottom_df"
   ]
  },
  {
   "cell_type": "code",
   "execution_count": null,
   "id": "ccefd6d6",
   "metadata": {},
   "outputs": [],
   "source": []
  },
  {
   "cell_type": "markdown",
   "id": "fda720da",
   "metadata": {},
   "source": [
    "---"
   ]
  },
  {
   "cell_type": "markdown",
   "id": "c6958b2c",
   "metadata": {},
   "source": [
    "# 4. user_properties"
   ]
  },
  {
   "cell_type": "code",
   "execution_count": 3,
   "id": "a25edf8d",
   "metadata": {},
   "outputs": [
    {
     "data": {
      "text/html": [
       "<div>\n",
       "<style scoped>\n",
       "    .dataframe tbody tr th:only-of-type {\n",
       "        vertical-align: middle;\n",
       "    }\n",
       "\n",
       "    .dataframe tbody tr th {\n",
       "        vertical-align: top;\n",
       "    }\n",
       "\n",
       "    .dataframe thead th {\n",
       "        text-align: right;\n",
       "    }\n",
       "</style>\n",
       "<table border=\"1\" class=\"dataframe\">\n",
       "  <thead>\n",
       "    <tr style=\"text-align: right;\">\n",
       "      <th></th>\n",
       "      <th>user_id</th>\n",
       "      <th>class</th>\n",
       "      <th>gender</th>\n",
       "      <th>grade</th>\n",
       "      <th>school_id</th>\n",
       "    </tr>\n",
       "  </thead>\n",
       "  <tbody>\n",
       "    <tr>\n",
       "      <th>0</th>\n",
       "      <td>1000000</td>\n",
       "      <td>1</td>\n",
       "      <td>M</td>\n",
       "      <td>1</td>\n",
       "      <td>1885</td>\n",
       "    </tr>\n",
       "    <tr>\n",
       "      <th>1</th>\n",
       "      <td>1000009</td>\n",
       "      <td>10</td>\n",
       "      <td>F</td>\n",
       "      <td>2</td>\n",
       "      <td>3869</td>\n",
       "    </tr>\n",
       "    <tr>\n",
       "      <th>2</th>\n",
       "      <td>1000012</td>\n",
       "      <td>10</td>\n",
       "      <td>F</td>\n",
       "      <td>1</td>\n",
       "      <td>5091</td>\n",
       "    </tr>\n",
       "    <tr>\n",
       "      <th>3</th>\n",
       "      <td>1000013</td>\n",
       "      <td>8</td>\n",
       "      <td>F</td>\n",
       "      <td>2</td>\n",
       "      <td>1743</td>\n",
       "    </tr>\n",
       "    <tr>\n",
       "      <th>4</th>\n",
       "      <td>1000015</td>\n",
       "      <td>2</td>\n",
       "      <td>F</td>\n",
       "      <td>3</td>\n",
       "      <td>5078</td>\n",
       "    </tr>\n",
       "    <tr>\n",
       "      <th>...</th>\n",
       "      <td>...</td>\n",
       "      <td>...</td>\n",
       "      <td>...</td>\n",
       "      <td>...</td>\n",
       "      <td>...</td>\n",
       "    </tr>\n",
       "    <tr>\n",
       "      <th>230814</th>\n",
       "      <td>999992</td>\n",
       "      <td>1</td>\n",
       "      <td>M</td>\n",
       "      <td>2</td>\n",
       "      <td>2240</td>\n",
       "    </tr>\n",
       "    <tr>\n",
       "      <th>230815</th>\n",
       "      <td>999996</td>\n",
       "      <td>5</td>\n",
       "      <td>M</td>\n",
       "      <td>2</td>\n",
       "      <td>365</td>\n",
       "    </tr>\n",
       "    <tr>\n",
       "      <th>230816</th>\n",
       "      <td>999997</td>\n",
       "      <td>2</td>\n",
       "      <td>M</td>\n",
       "      <td>3</td>\n",
       "      <td>2502</td>\n",
       "    </tr>\n",
       "    <tr>\n",
       "      <th>230817</th>\n",
       "      <td>nhj4wh46MAf5K0IHDu4DGyRsdWn2</td>\n",
       "      <td>5</td>\n",
       "      <td>F</td>\n",
       "      <td>2</td>\n",
       "      <td>3499</td>\n",
       "    </tr>\n",
       "    <tr>\n",
       "      <th>230818</th>\n",
       "      <td>nmbzA4awkiRGXX26fT6wpoxURY43</td>\n",
       "      <td>1</td>\n",
       "      <td>F</td>\n",
       "      <td>1</td>\n",
       "      <td>5407</td>\n",
       "    </tr>\n",
       "  </tbody>\n",
       "</table>\n",
       "<p>230819 rows × 5 columns</p>\n",
       "</div>"
      ],
      "text/plain": [
       "                             user_id  class gender  grade  school_id\n",
       "0                            1000000      1      M      1       1885\n",
       "1                            1000009     10      F      2       3869\n",
       "2                            1000012     10      F      1       5091\n",
       "3                            1000013      8      F      2       1743\n",
       "4                            1000015      2      F      3       5078\n",
       "...                              ...    ...    ...    ...        ...\n",
       "230814                        999992      1      M      2       2240\n",
       "230815                        999996      5      M      2        365\n",
       "230816                        999997      2      M      3       2502\n",
       "230817  nhj4wh46MAf5K0IHDu4DGyRsdWn2      5      F      2       3499\n",
       "230818  nmbzA4awkiRGXX26fT6wpoxURY43      1      F      1       5407\n",
       "\n",
       "[230819 rows x 5 columns]"
      ]
     },
     "execution_count": 3,
     "metadata": {},
     "output_type": "execute_result"
    }
   ],
   "source": [
    "# 서비스 계정 키 경로 설정\n",
    "os.environ[\"GOOGLE_APPLICATION_CREDENTIALS\"] = r\"/home/eunyu/sprintda05-eunyu-a9946f7dea9c.json\"\n",
    "# GCS의 Parquet 파일 경로\n",
    "gcs_path = 'gs://final_project_enuyu/data/final_project/hackle/user_properties.parquet'\n",
    "\n",
    "# 데이터 불러오기\n",
    "user_properties_df = pd.read_parquet(gcs_path, engine='pyarrow')\n",
    "user_properties_df"
   ]
  },
  {
   "cell_type": "code",
   "execution_count": 4,
   "id": "8efc3f82",
   "metadata": {},
   "outputs": [
    {
     "name": "stdout",
     "output_type": "stream",
     "text": [
      "<class 'pandas.core.frame.DataFrame'>\n",
      "RangeIndex: 230819 entries, 0 to 230818\n",
      "Data columns (total 5 columns):\n",
      " #   Column     Non-Null Count   Dtype \n",
      "---  ------     --------------   ----- \n",
      " 0   user_id    230819 non-null  object\n",
      " 1   class      230819 non-null  int64 \n",
      " 2   gender     230819 non-null  object\n",
      " 3   grade      230819 non-null  int64 \n",
      " 4   school_id  230819 non-null  int64 \n",
      "dtypes: int64(3), object(2)\n",
      "memory usage: 8.8+ MB\n"
     ]
    }
   ],
   "source": [
    "user_properties_df.info()"
   ]
  },
  {
   "cell_type": "code",
   "execution_count": 5,
   "id": "63cd3ef1",
   "metadata": {},
   "outputs": [
    {
     "data": {
      "text/plain": [
       "user_id      0\n",
       "class        0\n",
       "gender       0\n",
       "grade        0\n",
       "school_id    0\n",
       "dtype: int64"
      ]
     },
     "execution_count": 5,
     "metadata": {},
     "output_type": "execute_result"
    }
   ],
   "source": [
    "user_properties_df.isnull().sum()"
   ]
  },
  {
   "cell_type": "code",
   "execution_count": 7,
   "id": "c652bc08",
   "metadata": {},
   "outputs": [
    {
     "data": {
      "text/html": [
       "<div>\n",
       "<style scoped>\n",
       "    .dataframe tbody tr th:only-of-type {\n",
       "        vertical-align: middle;\n",
       "    }\n",
       "\n",
       "    .dataframe tbody tr th {\n",
       "        vertical-align: top;\n",
       "    }\n",
       "\n",
       "    .dataframe thead th {\n",
       "        text-align: right;\n",
       "    }\n",
       "</style>\n",
       "<table border=\"1\" class=\"dataframe\">\n",
       "  <thead>\n",
       "    <tr style=\"text-align: right;\">\n",
       "      <th></th>\n",
       "      <th>user_id</th>\n",
       "      <th>class</th>\n",
       "      <th>gender</th>\n",
       "      <th>grade</th>\n",
       "      <th>school_id</th>\n",
       "    </tr>\n",
       "  </thead>\n",
       "  <tbody>\n",
       "    <tr>\n",
       "      <th>count</th>\n",
       "      <td>230819</td>\n",
       "      <td>230819.000000</td>\n",
       "      <td>230819</td>\n",
       "      <td>230819.000000</td>\n",
       "      <td>230819.000000</td>\n",
       "    </tr>\n",
       "    <tr>\n",
       "      <th>unique</th>\n",
       "      <td>230819</td>\n",
       "      <td>NaN</td>\n",
       "      <td>2</td>\n",
       "      <td>NaN</td>\n",
       "      <td>NaN</td>\n",
       "    </tr>\n",
       "    <tr>\n",
       "      <th>top</th>\n",
       "      <td>1000000</td>\n",
       "      <td>NaN</td>\n",
       "      <td>F</td>\n",
       "      <td>NaN</td>\n",
       "      <td>NaN</td>\n",
       "    </tr>\n",
       "    <tr>\n",
       "      <th>freq</th>\n",
       "      <td>1</td>\n",
       "      <td>NaN</td>\n",
       "      <td>132610</td>\n",
       "      <td>NaN</td>\n",
       "      <td>NaN</td>\n",
       "    </tr>\n",
       "    <tr>\n",
       "      <th>mean</th>\n",
       "      <td>NaN</td>\n",
       "      <td>4.594999</td>\n",
       "      <td>NaN</td>\n",
       "      <td>2.002197</td>\n",
       "      <td>3083.383335</td>\n",
       "    </tr>\n",
       "    <tr>\n",
       "      <th>std</th>\n",
       "      <td>NaN</td>\n",
       "      <td>3.151979</td>\n",
       "      <td>NaN</td>\n",
       "      <td>0.762048</td>\n",
       "      <td>1711.671162</td>\n",
       "    </tr>\n",
       "    <tr>\n",
       "      <th>min</th>\n",
       "      <td>NaN</td>\n",
       "      <td>1.000000</td>\n",
       "      <td>NaN</td>\n",
       "      <td>1.000000</td>\n",
       "      <td>1.000000</td>\n",
       "    </tr>\n",
       "    <tr>\n",
       "      <th>25%</th>\n",
       "      <td>NaN</td>\n",
       "      <td>2.000000</td>\n",
       "      <td>NaN</td>\n",
       "      <td>1.000000</td>\n",
       "      <td>1594.000000</td>\n",
       "    </tr>\n",
       "    <tr>\n",
       "      <th>50%</th>\n",
       "      <td>NaN</td>\n",
       "      <td>4.000000</td>\n",
       "      <td>NaN</td>\n",
       "      <td>2.000000</td>\n",
       "      <td>3138.000000</td>\n",
       "    </tr>\n",
       "    <tr>\n",
       "      <th>75%</th>\n",
       "      <td>NaN</td>\n",
       "      <td>6.000000</td>\n",
       "      <td>NaN</td>\n",
       "      <td>3.000000</td>\n",
       "      <td>4640.000000</td>\n",
       "    </tr>\n",
       "    <tr>\n",
       "      <th>max</th>\n",
       "      <td>NaN</td>\n",
       "      <td>20.000000</td>\n",
       "      <td>NaN</td>\n",
       "      <td>3.000000</td>\n",
       "      <td>5964.000000</td>\n",
       "    </tr>\n",
       "  </tbody>\n",
       "</table>\n",
       "</div>"
      ],
      "text/plain": [
       "        user_id          class  gender          grade      school_id\n",
       "count    230819  230819.000000  230819  230819.000000  230819.000000\n",
       "unique   230819            NaN       2            NaN            NaN\n",
       "top     1000000            NaN       F            NaN            NaN\n",
       "freq          1            NaN  132610            NaN            NaN\n",
       "mean        NaN       4.594999     NaN       2.002197    3083.383335\n",
       "std         NaN       3.151979     NaN       0.762048    1711.671162\n",
       "min         NaN       1.000000     NaN       1.000000       1.000000\n",
       "25%         NaN       2.000000     NaN       1.000000    1594.000000\n",
       "50%         NaN       4.000000     NaN       2.000000    3138.000000\n",
       "75%         NaN       6.000000     NaN       3.000000    4640.000000\n",
       "max         NaN      20.000000     NaN       3.000000    5964.000000"
      ]
     },
     "execution_count": 7,
     "metadata": {},
     "output_type": "execute_result"
    }
   ],
   "source": [
    "user_properties_df.describe(include='all')"
   ]
  },
  {
   "cell_type": "code",
   "execution_count": null,
   "id": "fd28245c",
   "metadata": {},
   "outputs": [],
   "source": []
  },
  {
   "cell_type": "code",
   "execution_count": 8,
   "id": "1e03b475",
   "metadata": {},
   "outputs": [
    {
     "data": {
      "image/png": "[encoded data removed]",
      "text/plain": [
       "<Figure size 640x480 with 1 Axes>"
      ]
     },
     "metadata": {},
     "output_type": "display_data"
    }
   ],
   "source": [
    "sns.countplot(data=user_properties_df, x='gender')\n",
    "plt.title('성별 분포')\n",
    "plt.show()"
   ]
  },
  {
   "cell_type": "markdown",
   "id": "9d9590d5",
   "metadata": {},
   "source": [
    "- 여성(F): 약 132,610명 (약 57.4%)\n",
    "- 남성(M): 약 98,209명 (약 42.6%)\n",
    "- 전체적으로 여학생 비중이 더 높음"
   ]
  },
  {
   "cell_type": "code",
   "execution_count": null,
   "id": "2b320b57",
   "metadata": {},
   "outputs": [],
   "source": []
  },
  {
   "cell_type": "code",
   "execution_count": 9,
   "id": "47a69547",
   "metadata": {},
   "outputs": [
    {
     "data": {
      "image/png": "[encoded data removed]",
      "text/plain": [
       "<Figure size 640x480 with 1 Axes>"
      ]
     },
     "metadata": {},
     "output_type": "display_data"
    }
   ],
   "source": [
    "sns.countplot(data=user_properties_df, x='grade')\n",
    "plt.title('학년 분포')\n",
    "plt.show()\n"
   ]
  },
  {
   "cell_type": "code",
   "execution_count": 10,
   "id": "7c3d884e",
   "metadata": {},
   "outputs": [
    {
     "data": {
      "text/html": [
       "<div>\n",
       "<style scoped>\n",
       "    .dataframe tbody tr th:only-of-type {\n",
       "        vertical-align: middle;\n",
       "    }\n",
       "\n",
       "    .dataframe tbody tr th {\n",
       "        vertical-align: top;\n",
       "    }\n",
       "\n",
       "    .dataframe thead th {\n",
       "        text-align: right;\n",
       "    }\n",
       "</style>\n",
       "<table border=\"1\" class=\"dataframe\">\n",
       "  <thead>\n",
       "    <tr style=\"text-align: right;\">\n",
       "      <th>gender</th>\n",
       "      <th>F</th>\n",
       "      <th>M</th>\n",
       "    </tr>\n",
       "    <tr>\n",
       "      <th>grade</th>\n",
       "      <th></th>\n",
       "      <th></th>\n",
       "    </tr>\n",
       "  </thead>\n",
       "  <tbody>\n",
       "    <tr>\n",
       "      <th>1</th>\n",
       "      <td>0.547157</td>\n",
       "      <td>0.452843</td>\n",
       "    </tr>\n",
       "    <tr>\n",
       "      <th>2</th>\n",
       "      <td>0.606140</td>\n",
       "      <td>0.393860</td>\n",
       "    </tr>\n",
       "    <tr>\n",
       "      <th>3</th>\n",
       "      <td>0.556188</td>\n",
       "      <td>0.443812</td>\n",
       "    </tr>\n",
       "  </tbody>\n",
       "</table>\n",
       "</div>"
      ],
      "text/plain": [
       "gender         F         M\n",
       "grade                     \n",
       "1       0.547157  0.452843\n",
       "2       0.606140  0.393860\n",
       "3       0.556188  0.443812"
      ]
     },
     "execution_count": 10,
     "metadata": {},
     "output_type": "execute_result"
    }
   ],
   "source": [
    "pd.crosstab(user_properties_df['grade'], user_properties_df['gender'], normalize='index')"
   ]
  },
  {
   "cell_type": "markdown",
   "id": "46f4f9b9",
   "metadata": {},
   "source": [
    "- 2학년은 여학생 비중이 가장 높음              \n",
    "→ 타겟 세분화 전략 시 2학년 여학생 = 핵심 사용자층"
   ]
  },
  {
   "cell_type": "code",
   "execution_count": null,
   "id": "3bfc0587",
   "metadata": {},
   "outputs": [],
   "source": []
  },
  {
   "cell_type": "code",
   "execution_count": 11,
   "id": "1a545fff",
   "metadata": {},
   "outputs": [
    {
     "data": {
      "image/png": "[encoded data removed]",
      "text/plain": [
       "<Figure size 640x480 with 1 Axes>"
      ]
     },
     "metadata": {},
     "output_type": "display_data"
    }
   ],
   "source": [
    "user_properties_df['school_id'].value_counts().head(10).plot(kind='bar')\n",
    "plt.title('상위 10개 학교의 사용자 수')\n",
    "plt.xlabel('school_id')\n",
    "plt.ylabel('user_count')\n",
    "plt.show()"
   ]
  },
  {
   "cell_type": "code",
   "execution_count": 12,
   "id": "075a0cd8",
   "metadata": {},
   "outputs": [
    {
     "data": {
      "text/html": [
       "<div>\n",
       "<style scoped>\n",
       "    .dataframe tbody tr th:only-of-type {\n",
       "        vertical-align: middle;\n",
       "    }\n",
       "\n",
       "    .dataframe tbody tr th {\n",
       "        vertical-align: top;\n",
       "    }\n",
       "\n",
       "    .dataframe thead th {\n",
       "        text-align: right;\n",
       "    }\n",
       "</style>\n",
       "<table border=\"1\" class=\"dataframe\">\n",
       "  <thead>\n",
       "    <tr style=\"text-align: right;\">\n",
       "      <th>class</th>\n",
       "      <th>1</th>\n",
       "      <th>2</th>\n",
       "      <th>3</th>\n",
       "      <th>4</th>\n",
       "      <th>5</th>\n",
       "      <th>6</th>\n",
       "      <th>7</th>\n",
       "      <th>8</th>\n",
       "      <th>9</th>\n",
       "      <th>10</th>\n",
       "      <th>11</th>\n",
       "      <th>12</th>\n",
       "      <th>13</th>\n",
       "      <th>14</th>\n",
       "      <th>15</th>\n",
       "      <th>16</th>\n",
       "      <th>17</th>\n",
       "      <th>18</th>\n",
       "      <th>19</th>\n",
       "      <th>20</th>\n",
       "    </tr>\n",
       "    <tr>\n",
       "      <th>grade</th>\n",
       "      <th></th>\n",
       "      <th></th>\n",
       "      <th></th>\n",
       "      <th></th>\n",
       "      <th></th>\n",
       "      <th></th>\n",
       "      <th></th>\n",
       "      <th></th>\n",
       "      <th></th>\n",
       "      <th></th>\n",
       "      <th></th>\n",
       "      <th></th>\n",
       "      <th></th>\n",
       "      <th></th>\n",
       "      <th></th>\n",
       "      <th></th>\n",
       "      <th></th>\n",
       "      <th></th>\n",
       "      <th></th>\n",
       "      <th></th>\n",
       "    </tr>\n",
       "  </thead>\n",
       "  <tbody>\n",
       "    <tr>\n",
       "      <th>1</th>\n",
       "      <td>9176</td>\n",
       "      <td>8753</td>\n",
       "      <td>8110</td>\n",
       "      <td>7532</td>\n",
       "      <td>7110</td>\n",
       "      <td>6478</td>\n",
       "      <td>5838</td>\n",
       "      <td>4821</td>\n",
       "      <td>3360</td>\n",
       "      <td>2714</td>\n",
       "      <td>1346</td>\n",
       "      <td>907</td>\n",
       "      <td>363</td>\n",
       "      <td>163</td>\n",
       "      <td>39</td>\n",
       "      <td>4</td>\n",
       "      <td>4</td>\n",
       "      <td>5</td>\n",
       "      <td>2</td>\n",
       "      <td>42</td>\n",
       "    </tr>\n",
       "    <tr>\n",
       "      <th>2</th>\n",
       "      <td>15948</td>\n",
       "      <td>14234</td>\n",
       "      <td>13024</td>\n",
       "      <td>11842</td>\n",
       "      <td>10410</td>\n",
       "      <td>8708</td>\n",
       "      <td>6876</td>\n",
       "      <td>5178</td>\n",
       "      <td>3574</td>\n",
       "      <td>2671</td>\n",
       "      <td>1221</td>\n",
       "      <td>727</td>\n",
       "      <td>275</td>\n",
       "      <td>144</td>\n",
       "      <td>99</td>\n",
       "      <td>53</td>\n",
       "      <td>50</td>\n",
       "      <td>75</td>\n",
       "      <td>47</td>\n",
       "      <td>1622</td>\n",
       "    </tr>\n",
       "    <tr>\n",
       "      <th>3</th>\n",
       "      <td>11456</td>\n",
       "      <td>10557</td>\n",
       "      <td>9657</td>\n",
       "      <td>8719</td>\n",
       "      <td>7455</td>\n",
       "      <td>6152</td>\n",
       "      <td>4648</td>\n",
       "      <td>3335</td>\n",
       "      <td>2107</td>\n",
       "      <td>1573</td>\n",
       "      <td>744</td>\n",
       "      <td>406</td>\n",
       "      <td>165</td>\n",
       "      <td>113</td>\n",
       "      <td>52</td>\n",
       "      <td>10</td>\n",
       "      <td>13</td>\n",
       "      <td>11</td>\n",
       "      <td>8</td>\n",
       "      <td>93</td>\n",
       "    </tr>\n",
       "  </tbody>\n",
       "</table>\n",
       "</div>"
      ],
      "text/plain": [
       "class     1      2      3      4      5     6     7     8     9     10    11  \\\n",
       "grade                                                                          \n",
       "1       9176   8753   8110   7532   7110  6478  5838  4821  3360  2714  1346   \n",
       "2      15948  14234  13024  11842  10410  8708  6876  5178  3574  2671  1221   \n",
       "3      11456  10557   9657   8719   7455  6152  4648  3335  2107  1573   744   \n",
       "\n",
       "class   12   13   14  15  16  17  18  19    20  \n",
       "grade                                           \n",
       "1      907  363  163  39   4   4   5   2    42  \n",
       "2      727  275  144  99  53  50  75  47  1622  \n",
       "3      406  165  113  52  10  13  11   8    93  "
      ]
     },
     "execution_count": 12,
     "metadata": {},
     "output_type": "execute_result"
    }
   ],
   "source": [
    "user_properties_df.groupby(['grade', 'class']).size().unstack().fillna(0).astype(int)"
   ]
  },
  {
   "cell_type": "code",
   "execution_count": null,
   "id": "a2457f33",
   "metadata": {},
   "outputs": [],
   "source": []
  },
  {
   "cell_type": "markdown",
   "id": "1e398f2f",
   "metadata": {},
   "source": [
    "---"
   ]
  },
  {
   "cell_type": "markdown",
   "id": "cc7b5bd1",
   "metadata": {},
   "source": [
    "---"
   ]
  },
  {
   "cell_type": "markdown",
   "id": "5e9ce274",
   "metadata": {},
   "source": [
    "# 추가 hackle"
   ]
  },
  {
   "cell_type": "code",
   "execution_count": 2,
   "id": "4933a856",
   "metadata": {},
   "outputs": [],
   "source": [
    "import pandas as pd\n",
    "import numpy as np\n",
    "import matplotlib.pyplot as plt\n",
    "import seaborn as sns\n",
    "import os\n",
    "import matplotlib.font_manager as fm\n",
    "import koreanize_matplotlib\n",
    "\n",
    "# 폰트 경로 확인 및 설정\n",
    "font_path = '/usr/share/fonts/truetype/nanum/NanumGothic.ttf'  # 설치된 폰트 경로\n",
    "font_name = fm.FontProperties(fname=font_path).get_name()\n",
    "plt.rc('font', family=font_name)\n",
    "\n",
    "# 한글 깨짐 방지 - 마이너스 기호 처리\n",
    "plt.rcParams['axes.unicode_minus'] = False"
   ]
  },
  {
   "cell_type": "markdown",
   "id": "04e67173",
   "metadata": {},
   "source": [
    "## 0430 ~ 0505"
   ]
  },
  {
   "cell_type": "code",
   "execution_count": 2,
   "id": "ec87315d",
   "metadata": {},
   "outputs": [
    {
     "data": {
      "text/html": [
       "<div>\n",
       "<style scoped>\n",
       "    .dataframe tbody tr th:only-of-type {\n",
       "        vertical-align: middle;\n",
       "    }\n",
       "\n",
       "    .dataframe tbody tr th {\n",
       "        vertical-align: top;\n",
       "    }\n",
       "\n",
       "    .dataframe thead th {\n",
       "        text-align: right;\n",
       "    }\n",
       "</style>\n",
       "<table border=\"1\" class=\"dataframe\">\n",
       "  <thead>\n",
       "    <tr style=\"text-align: right;\">\n",
       "      <th></th>\n",
       "      <th>Asia/Seoul</th>\n",
       "      <th>event_key</th>\n",
       "      <th>session_id</th>\n",
       "      <th>user_id</th>\n",
       "      <th>value</th>\n",
       "      <th>user_properties</th>\n",
       "      <th>hackle_properties</th>\n",
       "      <th>event_properties</th>\n",
       "      <th>id</th>\n",
       "      <th>device_id</th>\n",
       "    </tr>\n",
       "  </thead>\n",
       "  <tbody>\n",
       "    <tr>\n",
       "      <th>0</th>\n",
       "      <td>2023-05-01T00:00:00.024Z</td>\n",
       "      <td>button</td>\n",
       "      <td>jgGFnoyc6GWuGIEgjp3nUoKRQbF3</td>\n",
       "      <td>None</td>\n",
       "      <td>0.0</td>\n",
       "      <td>[]</td>\n",
       "      <td>{'language': 'ko-KR', 'isapp': 'true', 'osvers...</td>\n",
       "      <td>{'description': '다음', 'location': 'signotherin...</td>\n",
       "      <td>96d1336f-744b-4deb-a6a4-207494419dbf</td>\n",
       "      <td>cfc34eab-6930-488b-8109-70d37cec7dae</td>\n",
       "    </tr>\n",
       "    <tr>\n",
       "      <th>1</th>\n",
       "      <td>2023-05-01T00:00:00.025Z</td>\n",
       "      <td>button</td>\n",
       "      <td>n3PI8GZnRFOKpJslIRgckMeRiln1</td>\n",
       "      <td>None</td>\n",
       "      <td>0.0</td>\n",
       "      <td>[]</td>\n",
       "      <td>{'language': 'ko-CA', 'isapp': 'true', 'osvers...</td>\n",
       "      <td>{'description': 'vote 선택', 'location': 'homevo...</td>\n",
       "      <td>2825d1b1-8325-42e2-88eb-8cae61d3a26d</td>\n",
       "      <td>0dde2ecb-ff03-440f-98f3-94f20978b796</td>\n",
       "    </tr>\n",
       "    <tr>\n",
       "      <th>2</th>\n",
       "      <td>2023-05-01T00:00:00.029Z</td>\n",
       "      <td>button</td>\n",
       "      <td>L31Dl8vRtdWPJ8XC0gGs1mPwzJH2</td>\n",
       "      <td>None</td>\n",
       "      <td>0.0</td>\n",
       "      <td>[]</td>\n",
       "      <td>{'language': 'ko', 'isapp': 'true', 'osversion...</td>\n",
       "      <td>{'description': '친구선택', 'location': 'homeenque...</td>\n",
       "      <td>335b0a36-9ecf-41a9-b7d2-e27125e521ef</td>\n",
       "      <td>b50774ed-24ce-49e1-9383-945ff3aea9ff</td>\n",
       "    </tr>\n",
       "    <tr>\n",
       "      <th>3</th>\n",
       "      <td>2023-05-01T00:00:00.036Z</td>\n",
       "      <td>button</td>\n",
       "      <td>QjToElcYNkVxszJDHBhqtITlzDJ3</td>\n",
       "      <td>None</td>\n",
       "      <td>0.0</td>\n",
       "      <td>[]</td>\n",
       "      <td>{'language': 'ko', 'isapp': 'true', 'osversion...</td>\n",
       "      <td>{'description': '이름 셔플!', 'location': 'homeenq...</td>\n",
       "      <td>b730bb6a-589a-4074-89a1-87f11a03f9d6</td>\n",
       "      <td>0999c6b6-c579-4c0f-916c-9a113010f84a</td>\n",
       "    </tr>\n",
       "    <tr>\n",
       "      <th>4</th>\n",
       "      <td>2023-05-01T00:00:00.063Z</td>\n",
       "      <td>button</td>\n",
       "      <td>VRpXf303RGU730fIO4EjWstzAJi1</td>\n",
       "      <td>None</td>\n",
       "      <td>0.0</td>\n",
       "      <td>[]</td>\n",
       "      <td>{'language': 'ko-KR', 'isapp': 'true', 'osvers...</td>\n",
       "      <td>{'description': '앱바 뒤로가기', 'location': 'homefr...</td>\n",
       "      <td>c2a5fd3f-92d5-4864-8e0e-63e563898499</td>\n",
       "      <td>45985493-ed35-4cc5-935f-1bcf922e213c</td>\n",
       "    </tr>\n",
       "    <tr>\n",
       "      <th>...</th>\n",
       "      <td>...</td>\n",
       "      <td>...</td>\n",
       "      <td>...</td>\n",
       "      <td>...</td>\n",
       "      <td>...</td>\n",
       "      <td>...</td>\n",
       "      <td>...</td>\n",
       "      <td>...</td>\n",
       "      <td>...</td>\n",
       "      <td>...</td>\n",
       "    </tr>\n",
       "    <tr>\n",
       "      <th>8588417</th>\n",
       "      <td>2023-05-06T23:59:59.168Z</td>\n",
       "      <td>$session_end</td>\n",
       "      <td>96348488-4d6a-49a8-8995-452718157fd7</td>\n",
       "      <td>None</td>\n",
       "      <td>0.0</td>\n",
       "      <td>[]</td>\n",
       "      <td>{'language': 'ko', 'isapp': 'true', 'osversion...</td>\n",
       "      <td>{'description': None, 'location': None, 'sessi...</td>\n",
       "      <td>8f2fe201-6e6a-49c8-9988-b6f7ac540372</td>\n",
       "      <td>96348488-4d6a-49a8-8995-452718157fd7</td>\n",
       "    </tr>\n",
       "    <tr>\n",
       "      <th>8588418</th>\n",
       "      <td>2023-05-06T23:59:59.496Z</td>\n",
       "      <td>$session_end</td>\n",
       "      <td>9e9c7a7a-5efc-470b-8ecf-e3f6a102bda6</td>\n",
       "      <td>None</td>\n",
       "      <td>0.0</td>\n",
       "      <td>[]</td>\n",
       "      <td>{'language': 'ko', 'isapp': 'true', 'osversion...</td>\n",
       "      <td>{'description': None, 'location': None, 'sessi...</td>\n",
       "      <td>c0eaf066-9638-41f2-88cd-2dddca84ac4b</td>\n",
       "      <td>9e9c7a7a-5efc-470b-8ecf-e3f6a102bda6</td>\n",
       "    </tr>\n",
       "    <tr>\n",
       "      <th>8588419</th>\n",
       "      <td>2023-05-06T23:59:59.543Z</td>\n",
       "      <td>$session_end</td>\n",
       "      <td>60DD632C-010F-4689-A997-1E17E7368C9F</td>\n",
       "      <td>None</td>\n",
       "      <td>0.0</td>\n",
       "      <td>[]</td>\n",
       "      <td>{'language': 'ko-KR', 'isapp': 'true', 'osvers...</td>\n",
       "      <td>{'description': None, 'location': None, 'sessi...</td>\n",
       "      <td>76ae7486-ca23-4911-9f9b-ceed6b4b0f23</td>\n",
       "      <td>60dd632c-010f-4689-a997-1e17e7368c9f</td>\n",
       "    </tr>\n",
       "    <tr>\n",
       "      <th>8588420</th>\n",
       "      <td>2023-05-06T23:59:59.602Z</td>\n",
       "      <td>$session_start</td>\n",
       "      <td>lfu6e5HTwdQvbkSmOHppzJA585N2</td>\n",
       "      <td>None</td>\n",
       "      <td>0.0</td>\n",
       "      <td>[]</td>\n",
       "      <td>{'language': 'ko-KR', 'isapp': 'true', 'osvers...</td>\n",
       "      <td>{'description': None, 'location': None, 'sessi...</td>\n",
       "      <td>f460a877-eba1-45bd-9fbf-2604efce6d82</td>\n",
       "      <td>d9246f1a-f9cf-440f-ba36-07ed71836c4a</td>\n",
       "    </tr>\n",
       "    <tr>\n",
       "      <th>8588421</th>\n",
       "      <td>2023-05-06T23:59:59.865Z</td>\n",
       "      <td>$session_start</td>\n",
       "      <td>B7CcMRIZMfR8R0Kx0BQLXY74Bv72</td>\n",
       "      <td>None</td>\n",
       "      <td>0.0</td>\n",
       "      <td>[]</td>\n",
       "      <td>{'language': 'ko-KR', 'isapp': 'true', 'osvers...</td>\n",
       "      <td>{'description': None, 'location': None, 'sessi...</td>\n",
       "      <td>b6adeb1e-5dc0-4c92-841a-8c0d5e779bea</td>\n",
       "      <td>6c63ff3c-3a04-4861-8c20-d05154d987ea</td>\n",
       "    </tr>\n",
       "  </tbody>\n",
       "</table>\n",
       "<p>8588422 rows × 10 columns</p>\n",
       "</div>"
      ],
      "text/plain": [
       "                       Asia/Seoul       event_key  \\\n",
       "0        2023-05-01T00:00:00.024Z          button   \n",
       "1        2023-05-01T00:00:00.025Z          button   \n",
       "2        2023-05-01T00:00:00.029Z          button   \n",
       "3        2023-05-01T00:00:00.036Z          button   \n",
       "4        2023-05-01T00:00:00.063Z          button   \n",
       "...                           ...             ...   \n",
       "8588417  2023-05-06T23:59:59.168Z    $session_end   \n",
       "8588418  2023-05-06T23:59:59.496Z    $session_end   \n",
       "8588419  2023-05-06T23:59:59.543Z    $session_end   \n",
       "8588420  2023-05-06T23:59:59.602Z  $session_start   \n",
       "8588421  2023-05-06T23:59:59.865Z  $session_start   \n",
       "\n",
       "                                   session_id user_id  value user_properties  \\\n",
       "0                jgGFnoyc6GWuGIEgjp3nUoKRQbF3    None    0.0              []   \n",
       "1                n3PI8GZnRFOKpJslIRgckMeRiln1    None    0.0              []   \n",
       "2                L31Dl8vRtdWPJ8XC0gGs1mPwzJH2    None    0.0              []   \n",
       "3                QjToElcYNkVxszJDHBhqtITlzDJ3    None    0.0              []   \n",
       "4                VRpXf303RGU730fIO4EjWstzAJi1    None    0.0              []   \n",
       "...                                       ...     ...    ...             ...   \n",
       "8588417  96348488-4d6a-49a8-8995-452718157fd7    None    0.0              []   \n",
       "8588418  9e9c7a7a-5efc-470b-8ecf-e3f6a102bda6    None    0.0              []   \n",
       "8588419  60DD632C-010F-4689-A997-1E17E7368C9F    None    0.0              []   \n",
       "8588420          lfu6e5HTwdQvbkSmOHppzJA585N2    None    0.0              []   \n",
       "8588421          B7CcMRIZMfR8R0Kx0BQLXY74Bv72    None    0.0              []   \n",
       "\n",
       "                                         hackle_properties  \\\n",
       "0        {'language': 'ko-KR', 'isapp': 'true', 'osvers...   \n",
       "1        {'language': 'ko-CA', 'isapp': 'true', 'osvers...   \n",
       "2        {'language': 'ko', 'isapp': 'true', 'osversion...   \n",
       "3        {'language': 'ko', 'isapp': 'true', 'osversion...   \n",
       "4        {'language': 'ko-KR', 'isapp': 'true', 'osvers...   \n",
       "...                                                    ...   \n",
       "8588417  {'language': 'ko', 'isapp': 'true', 'osversion...   \n",
       "8588418  {'language': 'ko', 'isapp': 'true', 'osversion...   \n",
       "8588419  {'language': 'ko-KR', 'isapp': 'true', 'osvers...   \n",
       "8588420  {'language': 'ko-KR', 'isapp': 'true', 'osvers...   \n",
       "8588421  {'language': 'ko-KR', 'isapp': 'true', 'osvers...   \n",
       "\n",
       "                                          event_properties  \\\n",
       "0        {'description': '다음', 'location': 'signotherin...   \n",
       "1        {'description': 'vote 선택', 'location': 'homevo...   \n",
       "2        {'description': '친구선택', 'location': 'homeenque...   \n",
       "3        {'description': '이름 셔플!', 'location': 'homeenq...   \n",
       "4        {'description': '앱바 뒤로가기', 'location': 'homefr...   \n",
       "...                                                    ...   \n",
       "8588417  {'description': None, 'location': None, 'sessi...   \n",
       "8588418  {'description': None, 'location': None, 'sessi...   \n",
       "8588419  {'description': None, 'location': None, 'sessi...   \n",
       "8588420  {'description': None, 'location': None, 'sessi...   \n",
       "8588421  {'description': None, 'location': None, 'sessi...   \n",
       "\n",
       "                                           id  \\\n",
       "0        96d1336f-744b-4deb-a6a4-207494419dbf   \n",
       "1        2825d1b1-8325-42e2-88eb-8cae61d3a26d   \n",
       "2        335b0a36-9ecf-41a9-b7d2-e27125e521ef   \n",
       "3        b730bb6a-589a-4074-89a1-87f11a03f9d6   \n",
       "4        c2a5fd3f-92d5-4864-8e0e-63e563898499   \n",
       "...                                       ...   \n",
       "8588417  8f2fe201-6e6a-49c8-9988-b6f7ac540372   \n",
       "8588418  c0eaf066-9638-41f2-88cd-2dddca84ac4b   \n",
       "8588419  76ae7486-ca23-4911-9f9b-ceed6b4b0f23   \n",
       "8588420  f460a877-eba1-45bd-9fbf-2604efce6d82   \n",
       "8588421  b6adeb1e-5dc0-4c92-841a-8c0d5e779bea   \n",
       "\n",
       "                                    device_id  \n",
       "0        cfc34eab-6930-488b-8109-70d37cec7dae  \n",
       "1        0dde2ecb-ff03-440f-98f3-94f20978b796  \n",
       "2        b50774ed-24ce-49e1-9383-945ff3aea9ff  \n",
       "3        0999c6b6-c579-4c0f-916c-9a113010f84a  \n",
       "4        45985493-ed35-4cc5-935f-1bcf922e213c  \n",
       "...                                       ...  \n",
       "8588417  96348488-4d6a-49a8-8995-452718157fd7  \n",
       "8588418  9e9c7a7a-5efc-470b-8ecf-e3f6a102bda6  \n",
       "8588419  60dd632c-010f-4689-a997-1e17e7368c9f  \n",
       "8588420  d9246f1a-f9cf-440f-ba36-07ed71836c4a  \n",
       "8588421  6c63ff3c-3a04-4861-8c20-d05154d987ea  \n",
       "\n",
       "[8588422 rows x 10 columns]"
      ]
     },
     "execution_count": 2,
     "metadata": {},
     "output_type": "execute_result"
    }
   ],
   "source": [
    "\n",
    "# 서비스 계정 키 경로 설정\n",
    "os.environ[\"GOOGLE_APPLICATION_CREDENTIALS\"] = r\"/home/eunyu/sprintda05-eunyu-a9946f7dea9c.json\"\n",
    "\n",
    "# GCS의 Parquet 파일 경로\n",
    "gcs_path = 'gs://final_project_enuyu/data/추가hackle데이터/2023-04-30.parquet'\n",
    "\n",
    "# 데이터 불러오기\n",
    "hackle_230430_df = pd.read_parquet(gcs_path, engine='pyarrow')\n",
    "hackle_230430_df"
   ]
  },
  {
   "cell_type": "code",
   "execution_count": null,
   "id": "05265a85",
   "metadata": {},
   "outputs": [],
   "source": []
  },
  {
   "cell_type": "markdown",
   "id": "36caf635",
   "metadata": {},
   "source": [
    "---"
   ]
  },
  {
   "cell_type": "markdown",
   "id": "b5d19be1",
   "metadata": {},
   "source": [
    "## 0506 ~ 0511"
   ]
  },
  {
   "cell_type": "code",
   "execution_count": 3,
   "id": "cf03b563",
   "metadata": {},
   "outputs": [
    {
     "data": {
      "text/html": [
       "<div>\n",
       "<style scoped>\n",
       "    .dataframe tbody tr th:only-of-type {\n",
       "        vertical-align: middle;\n",
       "    }\n",
       "\n",
       "    .dataframe tbody tr th {\n",
       "        vertical-align: top;\n",
       "    }\n",
       "\n",
       "    .dataframe thead th {\n",
       "        text-align: right;\n",
       "    }\n",
       "</style>\n",
       "<table border=\"1\" class=\"dataframe\">\n",
       "  <thead>\n",
       "    <tr style=\"text-align: right;\">\n",
       "      <th></th>\n",
       "      <th>Asia/Seoul</th>\n",
       "      <th>event_key</th>\n",
       "      <th>session_id</th>\n",
       "      <th>user_id</th>\n",
       "      <th>value</th>\n",
       "      <th>user_properties</th>\n",
       "      <th>hackle_properties</th>\n",
       "      <th>event_properties</th>\n",
       "      <th>id</th>\n",
       "      <th>device_id</th>\n",
       "    </tr>\n",
       "  </thead>\n",
       "  <tbody>\n",
       "    <tr>\n",
       "      <th>0</th>\n",
       "      <td>2023-05-07T00:00:00.014Z</td>\n",
       "      <td>$session_end</td>\n",
       "      <td>OoWMTpTWpUa4m8I1RiKOk75Xnvs1</td>\n",
       "      <td>None</td>\n",
       "      <td>0.0</td>\n",
       "      <td>[]</td>\n",
       "      <td>{'language': 'ko-KR', 'isapp': 'true', 'osvers...</td>\n",
       "      <td>{'sessionid': '1683384973159.076d488c'}</td>\n",
       "      <td>af49a3ac-cf10-49c9-a846-75c6350a331e</td>\n",
       "      <td>498dbc0f-4537-41dc-93ec-f4406302a3b0</td>\n",
       "    </tr>\n",
       "    <tr>\n",
       "      <th>1</th>\n",
       "      <td>2023-05-07T00:00:00.159Z</td>\n",
       "      <td>$session_end</td>\n",
       "      <td>CrFi87nvwiVvHExxP9uSfIHOmBy1</td>\n",
       "      <td>None</td>\n",
       "      <td>0.0</td>\n",
       "      <td>[]</td>\n",
       "      <td>{'language': 'ko-KR', 'isapp': 'true', 'osvers...</td>\n",
       "      <td>{'sessionid': '1683377977126.ecbb48be'}</td>\n",
       "      <td>ea3608d7-51f7-417f-9560-484896fb265d</td>\n",
       "      <td>7770afa8-e228-4736-aa2a-658ebe2e3d25</td>\n",
       "    </tr>\n",
       "    <tr>\n",
       "      <th>2</th>\n",
       "      <td>2023-05-07T00:00:00.244Z</td>\n",
       "      <td>$session_end</td>\n",
       "      <td>W6frWgWJtbWTJwdm6eVWPGKwY2Y2</td>\n",
       "      <td>None</td>\n",
       "      <td>0.0</td>\n",
       "      <td>[]</td>\n",
       "      <td>{'language': 'ko-KR', 'isapp': 'true', 'osvers...</td>\n",
       "      <td>{'sessionid': '1683385158861.10bc1ad8'}</td>\n",
       "      <td>0d9da666-4047-4d40-a5ac-992876799cf4</td>\n",
       "      <td>9fbdc45d-a74a-4d9f-9d40-0f400b72877e</td>\n",
       "    </tr>\n",
       "    <tr>\n",
       "      <th>3</th>\n",
       "      <td>2023-05-07T00:00:00.255Z</td>\n",
       "      <td>$session_start</td>\n",
       "      <td>4EFB4D45-0AAF-424A-8E4E-2F19249C8892</td>\n",
       "      <td>None</td>\n",
       "      <td>0.0</td>\n",
       "      <td>[]</td>\n",
       "      <td>{'language': 'ko-KR', 'isapp': 'true', 'osvers...</td>\n",
       "      <td>{'sessionid': '1683385200255.b26bcb8c'}</td>\n",
       "      <td>947d1fff-5e4c-44e2-b106-f23cddbe0dc4</td>\n",
       "      <td>4efb4d45-0aaf-424a-8e4e-2f19249c8892</td>\n",
       "    </tr>\n",
       "    <tr>\n",
       "      <th>4</th>\n",
       "      <td>2023-05-07T00:00:00.316Z</td>\n",
       "      <td>$session_start</td>\n",
       "      <td>JdxVFvtz6AcxxOZVvl6plHayjYJ3</td>\n",
       "      <td>None</td>\n",
       "      <td>0.0</td>\n",
       "      <td>[]</td>\n",
       "      <td>{'language': 'ko', 'isapp': 'true', 'osversion...</td>\n",
       "      <td>{'sessionid': '1683385200316.4c60e55a'}</td>\n",
       "      <td>28e3afe4-098a-4bef-a699-4e3fa325b3ab</td>\n",
       "      <td>96348488-4d6a-49a8-8995-452718157fd7</td>\n",
       "    </tr>\n",
       "  </tbody>\n",
       "</table>\n",
       "</div>"
      ],
      "text/plain": [
       "                 Asia/Seoul       event_key  \\\n",
       "0  2023-05-07T00:00:00.014Z    $session_end   \n",
       "1  2023-05-07T00:00:00.159Z    $session_end   \n",
       "2  2023-05-07T00:00:00.244Z    $session_end   \n",
       "3  2023-05-07T00:00:00.255Z  $session_start   \n",
       "4  2023-05-07T00:00:00.316Z  $session_start   \n",
       "\n",
       "                             session_id user_id  value user_properties  \\\n",
       "0          OoWMTpTWpUa4m8I1RiKOk75Xnvs1    None    0.0              []   \n",
       "1          CrFi87nvwiVvHExxP9uSfIHOmBy1    None    0.0              []   \n",
       "2          W6frWgWJtbWTJwdm6eVWPGKwY2Y2    None    0.0              []   \n",
       "3  4EFB4D45-0AAF-424A-8E4E-2F19249C8892    None    0.0              []   \n",
       "4          JdxVFvtz6AcxxOZVvl6plHayjYJ3    None    0.0              []   \n",
       "\n",
       "                                   hackle_properties  \\\n",
       "0  {'language': 'ko-KR', 'isapp': 'true', 'osvers...   \n",
       "1  {'language': 'ko-KR', 'isapp': 'true', 'osvers...   \n",
       "2  {'language': 'ko-KR', 'isapp': 'true', 'osvers...   \n",
       "3  {'language': 'ko-KR', 'isapp': 'true', 'osvers...   \n",
       "4  {'language': 'ko', 'isapp': 'true', 'osversion...   \n",
       "\n",
       "                          event_properties  \\\n",
       "0  {'sessionid': '1683384973159.076d488c'}   \n",
       "1  {'sessionid': '1683377977126.ecbb48be'}   \n",
       "2  {'sessionid': '1683385158861.10bc1ad8'}   \n",
       "3  {'sessionid': '1683385200255.b26bcb8c'}   \n",
       "4  {'sessionid': '1683385200316.4c60e55a'}   \n",
       "\n",
       "                                     id                             device_id  \n",
       "0  af49a3ac-cf10-49c9-a846-75c6350a331e  498dbc0f-4537-41dc-93ec-f4406302a3b0  \n",
       "1  ea3608d7-51f7-417f-9560-484896fb265d  7770afa8-e228-4736-aa2a-658ebe2e3d25  \n",
       "2  0d9da666-4047-4d40-a5ac-992876799cf4  9fbdc45d-a74a-4d9f-9d40-0f400b72877e  \n",
       "3  947d1fff-5e4c-44e2-b106-f23cddbe0dc4  4efb4d45-0aaf-424a-8e4e-2f19249c8892  \n",
       "4  28e3afe4-098a-4bef-a699-4e3fa325b3ab  96348488-4d6a-49a8-8995-452718157fd7  "
      ]
     },
     "execution_count": 3,
     "metadata": {},
     "output_type": "execute_result"
    }
   ],
   "source": [
    "\n",
    "# 서비스 계정 키 경로 설정\n",
    "os.environ[\"GOOGLE_APPLICATION_CREDENTIALS\"] = r\"/home/eunyu/sprintda05-eunyu-a9946f7dea9c.json\"\n",
    "\n",
    "# GCS의 Parquet 파일 경로\n",
    "gcs_path = 'gs://final_project_enuyu/data/추가hackle데이터/2023-05-06.parquet'\n",
    "\n",
    "# 데이터 불러오기\n",
    "hackle_230506_df = pd.read_parquet(gcs_path, engine='pyarrow')\n",
    "hackle_230506_df.head()"
   ]
  },
  {
   "cell_type": "code",
   "execution_count": null,
   "id": "7cb8cd67",
   "metadata": {},
   "outputs": [],
   "source": []
  },
  {
   "cell_type": "markdown",
   "id": "978bb951",
   "metadata": {},
   "source": [
    "---"
   ]
  },
  {
   "cell_type": "markdown",
   "id": "1f01ea10",
   "metadata": {},
   "source": [
    "## 0512~ 0517"
   ]
  },
  {
   "cell_type": "code",
   "execution_count": 2,
   "id": "66b7236e",
   "metadata": {},
   "outputs": [
    {
     "ename": "",
     "evalue": "",
     "output_type": "error",
     "traceback": [
      "\u001b[1;31mThe Kernel crashed while executing code in the current cell or a previous cell. \n",
      "\u001b[1;31mPlease review the code in the cell(s) to identify a possible cause of the failure. \n",
      "\u001b[1;31mClick <a href='https://aka.ms/vscodeJupyterKernelCrash'>here</a> for more info. \n",
      "\u001b[1;31mView Jupyter <a href='command:jupyter.viewOutput'>log</a> for further details."
     ]
    }
   ],
   "source": [
    "\n",
    "# 서비스 계정 키 경로 설정\n",
    "os.environ[\"GOOGLE_APPLICATION_CREDENTIALS\"] = r\"/home/eunyu/sprintda05-eunyu-a9946f7dea9c.json\"\n",
    "\n",
    "# GCS의 Parquet 파일 경로\n",
    "gcs_path = 'gs://final_project_enuyu/data/추가hackle데이터/2023-05-12.parquet'\n",
    "\n",
    "# 데이터 불러오기\n",
    "hackle_230512_df = pd.read_parquet(gcs_path, engine='pyarrow')\n",
    "hackle_230512_df.head()"
   ]
  },
  {
   "cell_type": "code",
   "execution_count": null,
   "id": "7f0fe2c1",
   "metadata": {},
   "outputs": [],
   "source": []
  },
  {
   "cell_type": "code",
   "execution_count": null,
   "id": "1ba97e8e",
   "metadata": {},
   "outputs": [],
   "source": []
  },
  {
   "cell_type": "markdown",
   "id": "b1cd8e98",
   "metadata": {},
   "source": [
    "---"
   ]
  },
  {
   "cell_type": "markdown",
   "id": "4e96b14a",
   "metadata": {},
   "source": [
    "## 0518 ~ 0523"
   ]
  },
  {
   "cell_type": "code",
   "execution_count": 3,
   "id": "551ec285",
   "metadata": {},
   "outputs": [
    {
     "data": {
      "text/html": [
       "<div>\n",
       "<style scoped>\n",
       "    .dataframe tbody tr th:only-of-type {\n",
       "        vertical-align: middle;\n",
       "    }\n",
       "\n",
       "    .dataframe tbody tr th {\n",
       "        vertical-align: top;\n",
       "    }\n",
       "\n",
       "    .dataframe thead th {\n",
       "        text-align: right;\n",
       "    }\n",
       "</style>\n",
       "<table border=\"1\" class=\"dataframe\">\n",
       "  <thead>\n",
       "    <tr style=\"text-align: right;\">\n",
       "      <th></th>\n",
       "      <th>Asia/Seoul</th>\n",
       "      <th>event_key</th>\n",
       "      <th>session_id</th>\n",
       "      <th>user_id</th>\n",
       "      <th>value</th>\n",
       "      <th>user_properties</th>\n",
       "      <th>hackle_properties</th>\n",
       "      <th>event_properties</th>\n",
       "      <th>id</th>\n",
       "      <th>device_id</th>\n",
       "    </tr>\n",
       "  </thead>\n",
       "  <tbody>\n",
       "    <tr>\n",
       "      <th>0</th>\n",
       "      <td>2023-05-19T00:00:00.033Z</td>\n",
       "      <td>$session_start</td>\n",
       "      <td>nALWgF7izudSzKXArsiAOaYYsr23</td>\n",
       "      <td>None</td>\n",
       "      <td>0.0</td>\n",
       "      <td>[]</td>\n",
       "      <td>{'language': 'ko-KR', 'isapp': 'true', 'osvers...</td>\n",
       "      <td>{'sessionid': '1684422000033.4a700b18'}</td>\n",
       "      <td>6fca7599-9f28-4cc1-9345-f97622e4b4fa</td>\n",
       "      <td>c370e36d-b84c-4c97-af37-db356caf1741</td>\n",
       "    </tr>\n",
       "    <tr>\n",
       "      <th>1</th>\n",
       "      <td>2023-05-19T00:00:00.038Z</td>\n",
       "      <td>$session_end</td>\n",
       "      <td>E9A0131C-A70A-4917-88D8-257223F0A767</td>\n",
       "      <td>None</td>\n",
       "      <td>0.0</td>\n",
       "      <td>[]</td>\n",
       "      <td>{'language': 'ko-KR', 'isapp': 'true', 'osvers...</td>\n",
       "      <td>{'sessionid': '1684421975647.1dc71535'}</td>\n",
       "      <td>2446011e-cad8-4a3b-9f5e-be8a0cad502f</td>\n",
       "      <td>e9a0131c-a70a-4917-88d8-257223f0a767</td>\n",
       "    </tr>\n",
       "    <tr>\n",
       "      <th>2</th>\n",
       "      <td>2023-05-19T00:00:00.068Z</td>\n",
       "      <td>$session_start</td>\n",
       "      <td>euhK4oLwdGPVT6sPNNN1Rs7xEKz1</td>\n",
       "      <td>None</td>\n",
       "      <td>0.0</td>\n",
       "      <td>[]</td>\n",
       "      <td>{'language': 'ko-KR', 'isapp': 'true', 'osvers...</td>\n",
       "      <td>{'sessionid': '1684422000068.2f677e10'}</td>\n",
       "      <td>9d7899af-f7b5-4620-89b6-b5f1c5a6e3f1</td>\n",
       "      <td>2ab9b1b1-41a7-4f6e-af31-85daac4509ea</td>\n",
       "    </tr>\n",
       "    <tr>\n",
       "      <th>3</th>\n",
       "      <td>2023-05-19T00:00:00.087Z</td>\n",
       "      <td>$session_start</td>\n",
       "      <td>TYAFQPAWozbqfQ3I296QuXJnWrx1</td>\n",
       "      <td>None</td>\n",
       "      <td>0.0</td>\n",
       "      <td>[]</td>\n",
       "      <td>{'language': 'ko-KR', 'isapp': 'true', 'osvers...</td>\n",
       "      <td>{'sessionid': '1684422000087.caece7d8'}</td>\n",
       "      <td>e5bb81b9-d29d-4a31-9157-3e91ee53f7ff</td>\n",
       "      <td>c3236b64-a328-4743-8afd-461f85f1f1e0</td>\n",
       "    </tr>\n",
       "    <tr>\n",
       "      <th>4</th>\n",
       "      <td>2023-05-19T00:00:00.102Z</td>\n",
       "      <td>$session_start</td>\n",
       "      <td>XhhuxAQvEcXdlD1JjbPC8H3AF602</td>\n",
       "      <td>None</td>\n",
       "      <td>0.0</td>\n",
       "      <td>[]</td>\n",
       "      <td>{'language': 'ko-KR', 'isapp': 'true', 'osvers...</td>\n",
       "      <td>{'sessionid': '1684422000102.f169ebee'}</td>\n",
       "      <td>8d10a9bb-6929-4e69-98fe-6f59dfcbd96a</td>\n",
       "      <td>efe3418d-ad59-4a20-a5f9-43d2195d1a08</td>\n",
       "    </tr>\n",
       "  </tbody>\n",
       "</table>\n",
       "</div>"
      ],
      "text/plain": [
       "                 Asia/Seoul       event_key  \\\n",
       "0  2023-05-19T00:00:00.033Z  $session_start   \n",
       "1  2023-05-19T00:00:00.038Z    $session_end   \n",
       "2  2023-05-19T00:00:00.068Z  $session_start   \n",
       "3  2023-05-19T00:00:00.087Z  $session_start   \n",
       "4  2023-05-19T00:00:00.102Z  $session_start   \n",
       "\n",
       "                             session_id user_id  value user_properties  \\\n",
       "0          nALWgF7izudSzKXArsiAOaYYsr23    None    0.0              []   \n",
       "1  E9A0131C-A70A-4917-88D8-257223F0A767    None    0.0              []   \n",
       "2          euhK4oLwdGPVT6sPNNN1Rs7xEKz1    None    0.0              []   \n",
       "3          TYAFQPAWozbqfQ3I296QuXJnWrx1    None    0.0              []   \n",
       "4          XhhuxAQvEcXdlD1JjbPC8H3AF602    None    0.0              []   \n",
       "\n",
       "                                   hackle_properties  \\\n",
       "0  {'language': 'ko-KR', 'isapp': 'true', 'osvers...   \n",
       "1  {'language': 'ko-KR', 'isapp': 'true', 'osvers...   \n",
       "2  {'language': 'ko-KR', 'isapp': 'true', 'osvers...   \n",
       "3  {'language': 'ko-KR', 'isapp': 'true', 'osvers...   \n",
       "4  {'language': 'ko-KR', 'isapp': 'true', 'osvers...   \n",
       "\n",
       "                          event_properties  \\\n",
       "0  {'sessionid': '1684422000033.4a700b18'}   \n",
       "1  {'sessionid': '1684421975647.1dc71535'}   \n",
       "2  {'sessionid': '1684422000068.2f677e10'}   \n",
       "3  {'sessionid': '1684422000087.caece7d8'}   \n",
       "4  {'sessionid': '1684422000102.f169ebee'}   \n",
       "\n",
       "                                     id                             device_id  \n",
       "0  6fca7599-9f28-4cc1-9345-f97622e4b4fa  c370e36d-b84c-4c97-af37-db356caf1741  \n",
       "1  2446011e-cad8-4a3b-9f5e-be8a0cad502f  e9a0131c-a70a-4917-88d8-257223f0a767  \n",
       "2  9d7899af-f7b5-4620-89b6-b5f1c5a6e3f1  2ab9b1b1-41a7-4f6e-af31-85daac4509ea  \n",
       "3  e5bb81b9-d29d-4a31-9157-3e91ee53f7ff  c3236b64-a328-4743-8afd-461f85f1f1e0  \n",
       "4  8d10a9bb-6929-4e69-98fe-6f59dfcbd96a  efe3418d-ad59-4a20-a5f9-43d2195d1a08  "
      ]
     },
     "execution_count": 3,
     "metadata": {},
     "output_type": "execute_result"
    }
   ],
   "source": [
    "\n",
    "# 서비스 계정 키 경로 설정\n",
    "os.environ[\"GOOGLE_APPLICATION_CREDENTIALS\"] = r\"/home/eunyu/sprintda05-eunyu-a9946f7dea9c.json\"\n",
    "\n",
    "# GCS의 Parquet 파일 경로\n",
    "gcs_path = 'gs://final_project_enuyu/data/추가hackle데이터/2023-05-18.parquet'\n",
    "\n",
    "# 데이터 불러오기\n",
    "hackle_230518_df = pd.read_parquet(gcs_path, engine='pyarrow')\n",
    "hackle_230518_df.head()"
   ]
  },
  {
   "cell_type": "code",
   "execution_count": null,
   "id": "d2ccc769",
   "metadata": {},
   "outputs": [],
   "source": []
  },
  {
   "cell_type": "markdown",
   "id": "573b99bd",
   "metadata": {},
   "source": [
    "---"
   ]
  },
  {
   "cell_type": "markdown",
   "id": "48efb432",
   "metadata": {},
   "source": [
    "## 0524 ~ 0616"
   ]
  },
  {
   "cell_type": "code",
   "execution_count": 3,
   "id": "e01c0ab7",
   "metadata": {},
   "outputs": [
    {
     "data": {
      "text/html": [
       "<div>\n",
       "<style scoped>\n",
       "    .dataframe tbody tr th:only-of-type {\n",
       "        vertical-align: middle;\n",
       "    }\n",
       "\n",
       "    .dataframe tbody tr th {\n",
       "        vertical-align: top;\n",
       "    }\n",
       "\n",
       "    .dataframe thead th {\n",
       "        text-align: right;\n",
       "    }\n",
       "</style>\n",
       "<table border=\"1\" class=\"dataframe\">\n",
       "  <thead>\n",
       "    <tr style=\"text-align: right;\">\n",
       "      <th></th>\n",
       "      <th>Asia/Seoul</th>\n",
       "      <th>event_key</th>\n",
       "      <th>session_id</th>\n",
       "      <th>user_id</th>\n",
       "      <th>value</th>\n",
       "      <th>user_properties</th>\n",
       "      <th>hackle_properties</th>\n",
       "      <th>event_properties</th>\n",
       "      <th>id</th>\n",
       "      <th>device_id</th>\n",
       "    </tr>\n",
       "  </thead>\n",
       "  <tbody>\n",
       "    <tr>\n",
       "      <th>0</th>\n",
       "      <td>2023-05-25T00:00:00.219Z</td>\n",
       "      <td>$session_start</td>\n",
       "      <td>TeeVVRGrpuXE5q6f7pAu9ULVNvG3</td>\n",
       "      <td>None</td>\n",
       "      <td>0.0</td>\n",
       "      <td>[]</td>\n",
       "      <td>{'language': 'ko-KR', 'isapp': 'true', 'osvers...</td>\n",
       "      <td>{'sessionid': '1684940400219.62ee4573'}</td>\n",
       "      <td>75b35f77-565e-47d2-b12e-91848a30b6e4</td>\n",
       "      <td>b6afceaa-cc9c-4a66-b92f-9e202f9eb328</td>\n",
       "    </tr>\n",
       "    <tr>\n",
       "      <th>1</th>\n",
       "      <td>2023-05-25T00:00:00.224Z</td>\n",
       "      <td>$session_start</td>\n",
       "      <td>9tcpOeHvyldCUXMgRyFVQI86rf13</td>\n",
       "      <td>None</td>\n",
       "      <td>0.0</td>\n",
       "      <td>[]</td>\n",
       "      <td>{'language': 'ko-KR', 'isapp': 'true', 'osvers...</td>\n",
       "      <td>{'sessionid': '1684940400224.df939c47'}</td>\n",
       "      <td>20a73b83-a331-4d0f-8d96-09ccb796ba4e</td>\n",
       "      <td>54a8af4d-47bf-4951-87c2-1817b26d1c31</td>\n",
       "    </tr>\n",
       "    <tr>\n",
       "      <th>2</th>\n",
       "      <td>2023-05-25T00:00:00.275Z</td>\n",
       "      <td>$session_start</td>\n",
       "      <td>aiDrtN8uHiQXRXmLMJhf27hKA4B3</td>\n",
       "      <td>None</td>\n",
       "      <td>0.0</td>\n",
       "      <td>[]</td>\n",
       "      <td>{'language': 'ko-KR', 'isapp': 'true', 'osvers...</td>\n",
       "      <td>{'sessionid': '1684940400275.457b984b'}</td>\n",
       "      <td>eb282c48-17e1-46b7-badd-8a2145901ffe</td>\n",
       "      <td>b08ee1df-0bc6-4b38-9474-8cbc55fd6f17</td>\n",
       "    </tr>\n",
       "    <tr>\n",
       "      <th>3</th>\n",
       "      <td>2023-05-25T00:00:00.369Z</td>\n",
       "      <td>$session_start</td>\n",
       "      <td>Oqmt3cCrCQZAa0TT3B4s2kTOG1k1</td>\n",
       "      <td>None</td>\n",
       "      <td>0.0</td>\n",
       "      <td>[]</td>\n",
       "      <td>{'language': 'ko-KR', 'isapp': 'true', 'osvers...</td>\n",
       "      <td>{'sessionid': '1684940400369.db2cd3ea'}</td>\n",
       "      <td>f466ccc8-f453-4008-b319-47a28ae844f9</td>\n",
       "      <td>ace73d0e-04d6-4d03-9460-a0a1143253f7</td>\n",
       "    </tr>\n",
       "    <tr>\n",
       "      <th>4</th>\n",
       "      <td>2023-05-25T00:00:00.493Z</td>\n",
       "      <td>$session_start</td>\n",
       "      <td>GA1Nz2ehK2TmsRcqBzXQn6hkDHH2</td>\n",
       "      <td>None</td>\n",
       "      <td>0.0</td>\n",
       "      <td>[]</td>\n",
       "      <td>{'language': 'ko-KR', 'isapp': 'true', 'osvers...</td>\n",
       "      <td>{'sessionid': '1684940400493.8e886f45'}</td>\n",
       "      <td>a7c5252f-0969-423d-8098-3372c9614a47</td>\n",
       "      <td>2adda5ce-1d37-43cd-8cbd-c75c06f84f74</td>\n",
       "    </tr>\n",
       "  </tbody>\n",
       "</table>\n",
       "</div>"
      ],
      "text/plain": [
       "                 Asia/Seoul       event_key                    session_id  \\\n",
       "0  2023-05-25T00:00:00.219Z  $session_start  TeeVVRGrpuXE5q6f7pAu9ULVNvG3   \n",
       "1  2023-05-25T00:00:00.224Z  $session_start  9tcpOeHvyldCUXMgRyFVQI86rf13   \n",
       "2  2023-05-25T00:00:00.275Z  $session_start  aiDrtN8uHiQXRXmLMJhf27hKA4B3   \n",
       "3  2023-05-25T00:00:00.369Z  $session_start  Oqmt3cCrCQZAa0TT3B4s2kTOG1k1   \n",
       "4  2023-05-25T00:00:00.493Z  $session_start  GA1Nz2ehK2TmsRcqBzXQn6hkDHH2   \n",
       "\n",
       "  user_id  value user_properties  \\\n",
       "0    None    0.0              []   \n",
       "1    None    0.0              []   \n",
       "2    None    0.0              []   \n",
       "3    None    0.0              []   \n",
       "4    None    0.0              []   \n",
       "\n",
       "                                   hackle_properties  \\\n",
       "0  {'language': 'ko-KR', 'isapp': 'true', 'osvers...   \n",
       "1  {'language': 'ko-KR', 'isapp': 'true', 'osvers...   \n",
       "2  {'language': 'ko-KR', 'isapp': 'true', 'osvers...   \n",
       "3  {'language': 'ko-KR', 'isapp': 'true', 'osvers...   \n",
       "4  {'language': 'ko-KR', 'isapp': 'true', 'osvers...   \n",
       "\n",
       "                          event_properties  \\\n",
       "0  {'sessionid': '1684940400219.62ee4573'}   \n",
       "1  {'sessionid': '1684940400224.df939c47'}   \n",
       "2  {'sessionid': '1684940400275.457b984b'}   \n",
       "3  {'sessionid': '1684940400369.db2cd3ea'}   \n",
       "4  {'sessionid': '1684940400493.8e886f45'}   \n",
       "\n",
       "                                     id                             device_id  \n",
       "0  75b35f77-565e-47d2-b12e-91848a30b6e4  b6afceaa-cc9c-4a66-b92f-9e202f9eb328  \n",
       "1  20a73b83-a331-4d0f-8d96-09ccb796ba4e  54a8af4d-47bf-4951-87c2-1817b26d1c31  \n",
       "2  eb282c48-17e1-46b7-badd-8a2145901ffe  b08ee1df-0bc6-4b38-9474-8cbc55fd6f17  \n",
       "3  f466ccc8-f453-4008-b319-47a28ae844f9  ace73d0e-04d6-4d03-9460-a0a1143253f7  \n",
       "4  a7c5252f-0969-423d-8098-3372c9614a47  2adda5ce-1d37-43cd-8cbd-c75c06f84f74  "
      ]
     },
     "execution_count": 3,
     "metadata": {},
     "output_type": "execute_result"
    }
   ],
   "source": [
    "# 서비스 계정 키 경로 설정\n",
    "os.environ[\"GOOGLE_APPLICATION_CREDENTIALS\"] = r\"/home/eunyu/sprintda05-eunyu-a9946f7dea9c.json\"\n",
    "\n",
    "# GCS의 Parquet 파일 경로\n",
    "gcs_path = 'gs://final_project_enuyu/data/추가hackle데이터/2023-05-24.parquet'\n",
    "\n",
    "# 데이터 불러오기\n",
    "hackle_230524_df = pd.read_parquet(gcs_path, engine='pyarrow')\n",
    "hackle_230524_df.head()"
   ]
  },
  {
   "cell_type": "code",
   "execution_count": null,
   "id": "174c09a6",
   "metadata": {},
   "outputs": [],
   "source": []
  },
  {
   "cell_type": "code",
   "execution_count": null,
   "id": "444ec44f",
   "metadata": {},
   "outputs": [],
   "source": []
  },
  {
   "cell_type": "markdown",
   "id": "4444d9a2",
   "metadata": {},
   "source": [
    "---"
   ]
  },
  {
   "cell_type": "markdown",
   "id": "af659f5c",
   "metadata": {},
   "source": [
    "## 0617 ~ 0622"
   ]
  },
  {
   "cell_type": "code",
   "execution_count": null,
   "id": "c9fd44f7",
   "metadata": {},
   "outputs": [],
   "source": []
  }
 ],
 "metadata": {
  "kernelspec": {
   "display_name": "Python 3",
   "language": "python",
   "name": "python3"
  },
  "language_info": {
   "codemirror_mode": {
    "name": "ipython",
    "version": 3
   },
   "file_extension": ".py",
   "mimetype": "text/x-python",
   "name": "python",
   "nbconvert_exporter": "python",
   "pygments_lexer": "ipython3",
   "version": "3.12.3"
  }
 },
 "nbformat": 4,
 "nbformat_minor": 5
}
