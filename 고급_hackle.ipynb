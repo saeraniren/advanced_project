{
 "cells": [
  {
   "cell_type": "code",
   "execution_count": 1,
   "id": "4c54383c",
   "metadata": {},
   "outputs": [],
   "source": [
    "import pandas as pd\n",
    "import numpy as np\n",
    "import matplotlib.pyplot as plt\n",
    "import seaborn as sns\n",
    "import os\n",
    "import matplotlib.font_manager as fm\n",
    "import koreanize_matplotlib\n",
    "\n",
    "# 폰트 경로 확인 및 설정\n",
    "font_path = '/usr/share/fonts/truetype/nanum/NanumGothic.ttf'  # 설치된 폰트 경로\n",
    "font_name = fm.FontProperties(fname=font_path).get_name()\n",
    "plt.rc('font', family=font_name)\n",
    "\n",
    "# 한글 깨짐 방지 - 마이너스 기호 처리\n",
    "plt.rcParams['axes.unicode_minus'] = False"
   ]
  },
  {
   "cell_type": "markdown",
   "id": "0ef9d1c5",
   "metadata": {},
   "source": [
    "---"
   ]
  },
  {
   "cell_type": "markdown",
   "id": "b3a23867",
   "metadata": {},
   "source": [
    "# 1. hackle_events"
   ]
  },
  {
   "cell_type": "code",
   "execution_count": 2,
   "id": "e234af9b",
   "metadata": {},
   "outputs": [
    {
     "data": {
      "text/html": [
       "<div>\n",
       "<style scoped>\n",
       "    .dataframe tbody tr th:only-of-type {\n",
       "        vertical-align: middle;\n",
       "    }\n",
       "\n",
       "    .dataframe tbody tr th {\n",
       "        vertical-align: top;\n",
       "    }\n",
       "\n",
       "    .dataframe thead th {\n",
       "        text-align: right;\n",
       "    }\n",
       "</style>\n",
       "<table border=\"1\" class=\"dataframe\">\n",
       "  <thead>\n",
       "    <tr style=\"text-align: right;\">\n",
       "      <th></th>\n",
       "      <th>event_id</th>\n",
       "      <th>event_datetime</th>\n",
       "      <th>event_key</th>\n",
       "      <th>session_id</th>\n",
       "      <th>id</th>\n",
       "      <th>item_name</th>\n",
       "      <th>page_name</th>\n",
       "      <th>friend_count</th>\n",
       "      <th>votes_count</th>\n",
       "      <th>heart_balance</th>\n",
       "      <th>question_id</th>\n",
       "    </tr>\n",
       "  </thead>\n",
       "  <tbody>\n",
       "    <tr>\n",
       "      <th>0</th>\n",
       "      <td>00000533-3f1c-4b3b-81f1-0c8f35754b4e</td>\n",
       "      <td>2023-07-18 19:40:17</td>\n",
       "      <td>$session_start</td>\n",
       "      <td>4OzYh3seq3VKytpSn5pvQkZNQii1</td>\n",
       "      <td>00000533-3f1c-4b3b-81f1-0c8f35754b4e</td>\n",
       "      <td></td>\n",
       "      <td></td>\n",
       "      <td>NaN</td>\n",
       "      <td>NaN</td>\n",
       "      <td>NaN</td>\n",
       "      <td>NaN</td>\n",
       "    </tr>\n",
       "    <tr>\n",
       "      <th>1</th>\n",
       "      <td>00000716-27e9-4e72-a602-d0ce61784b06</td>\n",
       "      <td>2023-07-18 21:07:24</td>\n",
       "      <td>click_question_open</td>\n",
       "      <td>8QXy31PQxbW9qLzq0Y1dhR8Ypm52</td>\n",
       "      <td>00000716-27e9-4e72-a602-d0ce61784b06</td>\n",
       "      <td></td>\n",
       "      <td></td>\n",
       "      <td>64.0</td>\n",
       "      <td>436.0</td>\n",
       "      <td>4830.0</td>\n",
       "      <td>NaN</td>\n",
       "    </tr>\n",
       "    <tr>\n",
       "      <th>2</th>\n",
       "      <td>000007c8-68ce-40e6-9b1e-f0e34e8ff9cc</td>\n",
       "      <td>2023-08-06 20:18:03</td>\n",
       "      <td>click_bottom_navigation_profile</td>\n",
       "      <td>6bcea65d-9f40-46fc-888c-700fe707483f</td>\n",
       "      <td>000007c8-68ce-40e6-9b1e-f0e34e8ff9cc</td>\n",
       "      <td></td>\n",
       "      <td></td>\n",
       "      <td>26.0</td>\n",
       "      <td>174.0</td>\n",
       "      <td>4729.0</td>\n",
       "      <td>NaN</td>\n",
       "    </tr>\n",
       "    <tr>\n",
       "      <th>3</th>\n",
       "      <td>00000981-5e2a-4111-993e-4f1891ad9a53</td>\n",
       "      <td>2023-08-05 01:46:10</td>\n",
       "      <td>view_shop</td>\n",
       "      <td>XVYNT6zfhFWqIg9omwg2AHDjTLx2</td>\n",
       "      <td>00000981-5e2a-4111-993e-4f1891ad9a53</td>\n",
       "      <td></td>\n",
       "      <td></td>\n",
       "      <td>61.0</td>\n",
       "      <td>44.0</td>\n",
       "      <td>142.0</td>\n",
       "      <td>NaN</td>\n",
       "    </tr>\n",
       "    <tr>\n",
       "      <th>4</th>\n",
       "      <td>00000a7a-ba72-4332-b4a9-7910670aaeb2</td>\n",
       "      <td>2023-07-24 15:03:37</td>\n",
       "      <td>click_bottom_navigation_lab</td>\n",
       "      <td>XFB2SPiGfjbVhvJ3Q3DBsaT3m2B3</td>\n",
       "      <td>00000a7a-ba72-4332-b4a9-7910670aaeb2</td>\n",
       "      <td></td>\n",
       "      <td></td>\n",
       "      <td>119.0</td>\n",
       "      <td>545.0</td>\n",
       "      <td>3287.0</td>\n",
       "      <td>NaN</td>\n",
       "    </tr>\n",
       "    <tr>\n",
       "      <th>...</th>\n",
       "      <td>...</td>\n",
       "      <td>...</td>\n",
       "      <td>...</td>\n",
       "      <td>...</td>\n",
       "      <td>...</td>\n",
       "      <td>...</td>\n",
       "      <td>...</td>\n",
       "      <td>...</td>\n",
       "      <td>...</td>\n",
       "      <td>...</td>\n",
       "      <td>...</td>\n",
       "    </tr>\n",
       "    <tr>\n",
       "      <th>11441314</th>\n",
       "      <td>fffff54e-e730-418f-8080-4eff7e2641f2</td>\n",
       "      <td>2023-08-08 01:40:00</td>\n",
       "      <td>view_timeline_tap</td>\n",
       "      <td>n9RSY5wNfvURIV3sKeXZiYWiVSD3</td>\n",
       "      <td>fffff54e-e730-418f-8080-4eff7e2641f2</td>\n",
       "      <td></td>\n",
       "      <td></td>\n",
       "      <td>27.0</td>\n",
       "      <td>92.0</td>\n",
       "      <td>326.0</td>\n",
       "      <td>NaN</td>\n",
       "    </tr>\n",
       "    <tr>\n",
       "      <th>11441315</th>\n",
       "      <td>fffff57d-6c79-46b3-a87b-4bfa900ef11b</td>\n",
       "      <td>2023-07-23 09:30:22</td>\n",
       "      <td>skip_question</td>\n",
       "      <td>CB3F11FD-4B78-4496-96E7-3B4174C123E9</td>\n",
       "      <td>fffff57d-6c79-46b3-a87b-4bfa900ef11b</td>\n",
       "      <td></td>\n",
       "      <td></td>\n",
       "      <td>0.0</td>\n",
       "      <td>0.0</td>\n",
       "      <td>300.0</td>\n",
       "      <td>799.0</td>\n",
       "    </tr>\n",
       "    <tr>\n",
       "      <th>11441316</th>\n",
       "      <td>fffff632-2d70-4190-addd-6ae2f2399876</td>\n",
       "      <td>2023-07-18 18:13:30</td>\n",
       "      <td>view_lab_tap</td>\n",
       "      <td>AwpRr0ll7bTfFV22MIXHDASEpz72</td>\n",
       "      <td>fffff632-2d70-4190-addd-6ae2f2399876</td>\n",
       "      <td></td>\n",
       "      <td></td>\n",
       "      <td>29.0</td>\n",
       "      <td>97.0</td>\n",
       "      <td>284.0</td>\n",
       "      <td>NaN</td>\n",
       "    </tr>\n",
       "    <tr>\n",
       "      <th>11441317</th>\n",
       "      <td>fffffb07-af2f-4cce-a26e-1dcc97c74b14</td>\n",
       "      <td>2023-07-21 15:37:27</td>\n",
       "      <td>view_timeline_tap</td>\n",
       "      <td>H8oiWwKxRiYByNykbb2GsVYd8JU2</td>\n",
       "      <td>fffffb07-af2f-4cce-a26e-1dcc97c74b14</td>\n",
       "      <td></td>\n",
       "      <td></td>\n",
       "      <td>49.0</td>\n",
       "      <td>527.0</td>\n",
       "      <td>932.0</td>\n",
       "      <td>NaN</td>\n",
       "    </tr>\n",
       "    <tr>\n",
       "      <th>11441318</th>\n",
       "      <td>fffffeac-675f-4c6e-900a-a422ed9bd57c</td>\n",
       "      <td>2023-07-22 02:31:16</td>\n",
       "      <td>$session_start</td>\n",
       "      <td>4GRqxdquqEPpUFf4w9dNoMHwVCh2</td>\n",
       "      <td>fffffeac-675f-4c6e-900a-a422ed9bd57c</td>\n",
       "      <td></td>\n",
       "      <td></td>\n",
       "      <td>NaN</td>\n",
       "      <td>NaN</td>\n",
       "      <td>NaN</td>\n",
       "      <td>NaN</td>\n",
       "    </tr>\n",
       "  </tbody>\n",
       "</table>\n",
       "<p>11441319 rows × 11 columns</p>\n",
       "</div>"
      ],
      "text/plain": [
       "                                      event_id      event_datetime  \\\n",
       "0         00000533-3f1c-4b3b-81f1-0c8f35754b4e 2023-07-18 19:40:17   \n",
       "1         00000716-27e9-4e72-a602-d0ce61784b06 2023-07-18 21:07:24   \n",
       "2         000007c8-68ce-40e6-9b1e-f0e34e8ff9cc 2023-08-06 20:18:03   \n",
       "3         00000981-5e2a-4111-993e-4f1891ad9a53 2023-08-05 01:46:10   \n",
       "4         00000a7a-ba72-4332-b4a9-7910670aaeb2 2023-07-24 15:03:37   \n",
       "...                                        ...                 ...   \n",
       "11441314  fffff54e-e730-418f-8080-4eff7e2641f2 2023-08-08 01:40:00   \n",
       "11441315  fffff57d-6c79-46b3-a87b-4bfa900ef11b 2023-07-23 09:30:22   \n",
       "11441316  fffff632-2d70-4190-addd-6ae2f2399876 2023-07-18 18:13:30   \n",
       "11441317  fffffb07-af2f-4cce-a26e-1dcc97c74b14 2023-07-21 15:37:27   \n",
       "11441318  fffffeac-675f-4c6e-900a-a422ed9bd57c 2023-07-22 02:31:16   \n",
       "\n",
       "                                event_key  \\\n",
       "0                          $session_start   \n",
       "1                     click_question_open   \n",
       "2         click_bottom_navigation_profile   \n",
       "3                               view_shop   \n",
       "4             click_bottom_navigation_lab   \n",
       "...                                   ...   \n",
       "11441314                view_timeline_tap   \n",
       "11441315                    skip_question   \n",
       "11441316                     view_lab_tap   \n",
       "11441317                view_timeline_tap   \n",
       "11441318                   $session_start   \n",
       "\n",
       "                                    session_id  \\\n",
       "0                 4OzYh3seq3VKytpSn5pvQkZNQii1   \n",
       "1                 8QXy31PQxbW9qLzq0Y1dhR8Ypm52   \n",
       "2         6bcea65d-9f40-46fc-888c-700fe707483f   \n",
       "3                 XVYNT6zfhFWqIg9omwg2AHDjTLx2   \n",
       "4                 XFB2SPiGfjbVhvJ3Q3DBsaT3m2B3   \n",
       "...                                        ...   \n",
       "11441314          n9RSY5wNfvURIV3sKeXZiYWiVSD3   \n",
       "11441315  CB3F11FD-4B78-4496-96E7-3B4174C123E9   \n",
       "11441316          AwpRr0ll7bTfFV22MIXHDASEpz72   \n",
       "11441317          H8oiWwKxRiYByNykbb2GsVYd8JU2   \n",
       "11441318          4GRqxdquqEPpUFf4w9dNoMHwVCh2   \n",
       "\n",
       "                                            id item_name page_name  \\\n",
       "0         00000533-3f1c-4b3b-81f1-0c8f35754b4e                       \n",
       "1         00000716-27e9-4e72-a602-d0ce61784b06                       \n",
       "2         000007c8-68ce-40e6-9b1e-f0e34e8ff9cc                       \n",
       "3         00000981-5e2a-4111-993e-4f1891ad9a53                       \n",
       "4         00000a7a-ba72-4332-b4a9-7910670aaeb2                       \n",
       "...                                        ...       ...       ...   \n",
       "11441314  fffff54e-e730-418f-8080-4eff7e2641f2                       \n",
       "11441315  fffff57d-6c79-46b3-a87b-4bfa900ef11b                       \n",
       "11441316  fffff632-2d70-4190-addd-6ae2f2399876                       \n",
       "11441317  fffffb07-af2f-4cce-a26e-1dcc97c74b14                       \n",
       "11441318  fffffeac-675f-4c6e-900a-a422ed9bd57c                       \n",
       "\n",
       "          friend_count  votes_count  heart_balance  question_id  \n",
       "0                  NaN          NaN            NaN          NaN  \n",
       "1                 64.0        436.0         4830.0          NaN  \n",
       "2                 26.0        174.0         4729.0          NaN  \n",
       "3                 61.0         44.0          142.0          NaN  \n",
       "4                119.0        545.0         3287.0          NaN  \n",
       "...                ...          ...            ...          ...  \n",
       "11441314          27.0         92.0          326.0          NaN  \n",
       "11441315           0.0          0.0          300.0        799.0  \n",
       "11441316          29.0         97.0          284.0          NaN  \n",
       "11441317          49.0        527.0          932.0          NaN  \n",
       "11441318           NaN          NaN            NaN          NaN  \n",
       "\n",
       "[11441319 rows x 11 columns]"
      ]
     },
     "execution_count": 2,
     "metadata": {},
     "output_type": "execute_result"
    }
   ],
   "source": [
    "# 서비스 계정 키 경로 설정\n",
    "os.environ[\"GOOGLE_APPLICATION_CREDENTIALS\"] = r\"/home/eunyu/sprintda05-eunyu-a9946f7dea9c.json\"\n",
    "# GCS의 Parquet 파일 경로\n",
    "gcs_path = 'gs://final_project_enuyu/data/final_project/hackle/hackle_events.parquet'\n",
    "\n",
    "# 데이터 불러오기\n",
    "hackle_events_df = pd.read_parquet(gcs_path, engine='pyarrow')\n",
    "hackle_events_df"
   ]
  },
  {
   "cell_type": "code",
   "execution_count": 3,
   "id": "fc1c8a83",
   "metadata": {},
   "outputs": [
    {
     "name": "stdout",
     "output_type": "stream",
     "text": [
      "<class 'pandas.core.frame.DataFrame'>\n",
      "RangeIndex: 11441319 entries, 0 to 11441318\n",
      "Data columns (total 11 columns):\n",
      " #   Column          Dtype         \n",
      "---  ------          -----         \n",
      " 0   event_id        object        \n",
      " 1   event_datetime  datetime64[ms]\n",
      " 2   event_key       object        \n",
      " 3   session_id      object        \n",
      " 4   id              object        \n",
      " 5   item_name       object        \n",
      " 6   page_name       object        \n",
      " 7   friend_count    float64       \n",
      " 8   votes_count     float64       \n",
      " 9   heart_balance   float64       \n",
      " 10  question_id     float64       \n",
      "dtypes: datetime64[ms](1), float64(4), object(6)\n",
      "memory usage: 960.2+ MB\n"
     ]
    }
   ],
   "source": [
    "hackle_events_df.info()"
   ]
  },
  {
   "cell_type": "code",
   "execution_count": 5,
   "id": "cf1f6980",
   "metadata": {},
   "outputs": [
    {
     "data": {
      "text/plain": [
       "event_id                 0\n",
       "event_datetime           0\n",
       "event_key                0\n",
       "session_id               0\n",
       "id                       0\n",
       "item_name                0\n",
       "page_name                0\n",
       "friend_count        752556\n",
       "votes_count         754554\n",
       "heart_balance       728643\n",
       "question_id       10991835\n",
       "dtype: int64"
      ]
     },
     "execution_count": 5,
     "metadata": {},
     "output_type": "execute_result"
    }
   ],
   "source": [
    "hackle_events_df.isnull().sum()"
   ]
  },
  {
   "cell_type": "code",
   "execution_count": 6,
   "id": "c982a758",
   "metadata": {},
   "outputs": [
    {
     "data": {
      "text/html": [
       "<div>\n",
       "<style scoped>\n",
       "    .dataframe tbody tr th:only-of-type {\n",
       "        vertical-align: middle;\n",
       "    }\n",
       "\n",
       "    .dataframe tbody tr th {\n",
       "        vertical-align: top;\n",
       "    }\n",
       "\n",
       "    .dataframe thead th {\n",
       "        text-align: right;\n",
       "    }\n",
       "</style>\n",
       "<table border=\"1\" class=\"dataframe\">\n",
       "  <thead>\n",
       "    <tr style=\"text-align: right;\">\n",
       "      <th></th>\n",
       "      <th>event_id</th>\n",
       "      <th>event_datetime</th>\n",
       "      <th>event_key</th>\n",
       "      <th>session_id</th>\n",
       "      <th>id</th>\n",
       "      <th>item_name</th>\n",
       "      <th>page_name</th>\n",
       "      <th>friend_count</th>\n",
       "      <th>votes_count</th>\n",
       "      <th>heart_balance</th>\n",
       "      <th>question_id</th>\n",
       "    </tr>\n",
       "  </thead>\n",
       "  <tbody>\n",
       "    <tr>\n",
       "      <th>count</th>\n",
       "      <td>11441319</td>\n",
       "      <td>11441319</td>\n",
       "      <td>11441319</td>\n",
       "      <td>11441319</td>\n",
       "      <td>11441319</td>\n",
       "      <td>11441319</td>\n",
       "      <td>11441319</td>\n",
       "      <td>1.068876e+07</td>\n",
       "      <td>1.068676e+07</td>\n",
       "      <td>1.071268e+07</td>\n",
       "      <td>449484.000000</td>\n",
       "    </tr>\n",
       "    <tr>\n",
       "      <th>unique</th>\n",
       "      <td>11441319</td>\n",
       "      <td>NaN</td>\n",
       "      <td>44</td>\n",
       "      <td>253616</td>\n",
       "      <td>11441319</td>\n",
       "      <td>6</td>\n",
       "      <td>13</td>\n",
       "      <td>NaN</td>\n",
       "      <td>NaN</td>\n",
       "      <td>NaN</td>\n",
       "      <td>NaN</td>\n",
       "    </tr>\n",
       "    <tr>\n",
       "      <th>top</th>\n",
       "      <td>00000533-3f1c-4b3b-81f1-0c8f35754b4e</td>\n",
       "      <td>NaN</td>\n",
       "      <td>view_lab_tap</td>\n",
       "      <td>A40CA2FA-CEB6-4E94-857D-7C229ECC2598</td>\n",
       "      <td>00000533-3f1c-4b3b-81f1-0c8f35754b4e</td>\n",
       "      <td></td>\n",
       "      <td></td>\n",
       "      <td>NaN</td>\n",
       "      <td>NaN</td>\n",
       "      <td>NaN</td>\n",
       "      <td>NaN</td>\n",
       "    </tr>\n",
       "    <tr>\n",
       "      <th>freq</th>\n",
       "      <td>1</td>\n",
       "      <td>NaN</td>\n",
       "      <td>1266665</td>\n",
       "      <td>8157</td>\n",
       "      <td>1</td>\n",
       "      <td>11428280</td>\n",
       "      <td>10652540</td>\n",
       "      <td>NaN</td>\n",
       "      <td>NaN</td>\n",
       "      <td>NaN</td>\n",
       "      <td>NaN</td>\n",
       "    </tr>\n",
       "    <tr>\n",
       "      <th>mean</th>\n",
       "      <td>NaN</td>\n",
       "      <td>2023-07-29 01:58:17.236000</td>\n",
       "      <td>NaN</td>\n",
       "      <td>NaN</td>\n",
       "      <td>NaN</td>\n",
       "      <td>NaN</td>\n",
       "      <td>NaN</td>\n",
       "      <td>5.434357e+01</td>\n",
       "      <td>2.572742e+02</td>\n",
       "      <td>1.626929e+04</td>\n",
       "      <td>2766.385262</td>\n",
       "    </tr>\n",
       "    <tr>\n",
       "      <th>min</th>\n",
       "      <td>NaN</td>\n",
       "      <td>2023-07-18 00:00:00</td>\n",
       "      <td>NaN</td>\n",
       "      <td>NaN</td>\n",
       "      <td>NaN</td>\n",
       "      <td>NaN</td>\n",
       "      <td>NaN</td>\n",
       "      <td>0.000000e+00</td>\n",
       "      <td>0.000000e+00</td>\n",
       "      <td>0.000000e+00</td>\n",
       "      <td>99.000000</td>\n",
       "    </tr>\n",
       "    <tr>\n",
       "      <th>25%</th>\n",
       "      <td>NaN</td>\n",
       "      <td>2023-07-22 21:31:17</td>\n",
       "      <td>NaN</td>\n",
       "      <td>NaN</td>\n",
       "      <td>NaN</td>\n",
       "      <td>NaN</td>\n",
       "      <td>NaN</td>\n",
       "      <td>3.200000e+01</td>\n",
       "      <td>9.700000e+01</td>\n",
       "      <td>4.340000e+02</td>\n",
       "      <td>1393.000000</td>\n",
       "    </tr>\n",
       "    <tr>\n",
       "      <th>50%</th>\n",
       "      <td>NaN</td>\n",
       "      <td>2023-07-28 17:08:58</td>\n",
       "      <td>NaN</td>\n",
       "      <td>NaN</td>\n",
       "      <td>NaN</td>\n",
       "      <td>NaN</td>\n",
       "      <td>NaN</td>\n",
       "      <td>4.900000e+01</td>\n",
       "      <td>2.100000e+02</td>\n",
       "      <td>1.249000e+03</td>\n",
       "      <td>2569.000000</td>\n",
       "    </tr>\n",
       "    <tr>\n",
       "      <th>75%</th>\n",
       "      <td>NaN</td>\n",
       "      <td>2023-08-04 17:59:10</td>\n",
       "      <td>NaN</td>\n",
       "      <td>NaN</td>\n",
       "      <td>NaN</td>\n",
       "      <td>NaN</td>\n",
       "      <td>NaN</td>\n",
       "      <td>7.100000e+01</td>\n",
       "      <td>3.620000e+02</td>\n",
       "      <td>3.188000e+03</td>\n",
       "      <td>4459.000000</td>\n",
       "    </tr>\n",
       "    <tr>\n",
       "      <th>max</th>\n",
       "      <td>NaN</td>\n",
       "      <td>2023-08-10 23:59:59</td>\n",
       "      <td>NaN</td>\n",
       "      <td>NaN</td>\n",
       "      <td>NaN</td>\n",
       "      <td>NaN</td>\n",
       "      <td>NaN</td>\n",
       "      <td>1.365000e+03</td>\n",
       "      <td>3.017000e+03</td>\n",
       "      <td>8.849998e+08</td>\n",
       "      <td>5133.000000</td>\n",
       "    </tr>\n",
       "    <tr>\n",
       "      <th>std</th>\n",
       "      <td>NaN</td>\n",
       "      <td>NaN</td>\n",
       "      <td>NaN</td>\n",
       "      <td>NaN</td>\n",
       "      <td>NaN</td>\n",
       "      <td>NaN</td>\n",
       "      <td>NaN</td>\n",
       "      <td>3.350798e+01</td>\n",
       "      <td>2.180682e+02</td>\n",
       "      <td>3.317340e+06</td>\n",
       "      <td>1599.967343</td>\n",
       "    </tr>\n",
       "  </tbody>\n",
       "</table>\n",
       "</div>"
      ],
      "text/plain": [
       "                                    event_id              event_datetime  \\\n",
       "count                               11441319                    11441319   \n",
       "unique                              11441319                         NaN   \n",
       "top     00000533-3f1c-4b3b-81f1-0c8f35754b4e                         NaN   \n",
       "freq                                       1                         NaN   \n",
       "mean                                     NaN  2023-07-29 01:58:17.236000   \n",
       "min                                      NaN         2023-07-18 00:00:00   \n",
       "25%                                      NaN         2023-07-22 21:31:17   \n",
       "50%                                      NaN         2023-07-28 17:08:58   \n",
       "75%                                      NaN         2023-08-04 17:59:10   \n",
       "max                                      NaN         2023-08-10 23:59:59   \n",
       "std                                      NaN                         NaN   \n",
       "\n",
       "           event_key                            session_id  \\\n",
       "count       11441319                              11441319   \n",
       "unique            44                                253616   \n",
       "top     view_lab_tap  A40CA2FA-CEB6-4E94-857D-7C229ECC2598   \n",
       "freq         1266665                                  8157   \n",
       "mean             NaN                                   NaN   \n",
       "min              NaN                                   NaN   \n",
       "25%              NaN                                   NaN   \n",
       "50%              NaN                                   NaN   \n",
       "75%              NaN                                   NaN   \n",
       "max              NaN                                   NaN   \n",
       "std              NaN                                   NaN   \n",
       "\n",
       "                                          id item_name page_name  \\\n",
       "count                               11441319  11441319  11441319   \n",
       "unique                              11441319         6        13   \n",
       "top     00000533-3f1c-4b3b-81f1-0c8f35754b4e                       \n",
       "freq                                       1  11428280  10652540   \n",
       "mean                                     NaN       NaN       NaN   \n",
       "min                                      NaN       NaN       NaN   \n",
       "25%                                      NaN       NaN       NaN   \n",
       "50%                                      NaN       NaN       NaN   \n",
       "75%                                      NaN       NaN       NaN   \n",
       "max                                      NaN       NaN       NaN   \n",
       "std                                      NaN       NaN       NaN   \n",
       "\n",
       "        friend_count   votes_count  heart_balance    question_id  \n",
       "count   1.068876e+07  1.068676e+07   1.071268e+07  449484.000000  \n",
       "unique           NaN           NaN            NaN            NaN  \n",
       "top              NaN           NaN            NaN            NaN  \n",
       "freq             NaN           NaN            NaN            NaN  \n",
       "mean    5.434357e+01  2.572742e+02   1.626929e+04    2766.385262  \n",
       "min     0.000000e+00  0.000000e+00   0.000000e+00      99.000000  \n",
       "25%     3.200000e+01  9.700000e+01   4.340000e+02    1393.000000  \n",
       "50%     4.900000e+01  2.100000e+02   1.249000e+03    2569.000000  \n",
       "75%     7.100000e+01  3.620000e+02   3.188000e+03    4459.000000  \n",
       "max     1.365000e+03  3.017000e+03   8.849998e+08    5133.000000  \n",
       "std     3.350798e+01  2.180682e+02   3.317340e+06    1599.967343  "
      ]
     },
     "execution_count": 6,
     "metadata": {},
     "output_type": "execute_result"
    }
   ],
   "source": [
    "hackle_events_df.describe(include='all')"
   ]
  },
  {
   "cell_type": "code",
   "execution_count": null,
   "id": "dc413f75",
   "metadata": {},
   "outputs": [],
   "source": []
  },
  {
   "cell_type": "markdown",
   "id": "0e23881f",
   "metadata": {},
   "source": [
    "#### 이벤트 유형(event_key) 분포"
   ]
  },
  {
   "cell_type": "code",
   "execution_count": 7,
   "id": "d211d644",
   "metadata": {},
   "outputs": [
    {
     "data": {
      "text/plain": [
       "event_key\n",
       "view_lab_tap                         1266665\n",
       "view_timeline_tap                    1194508\n",
       "$session_start                       1036852\n",
       "launch_app                            986388\n",
       "click_question_open                   816801\n",
       "click_bottom_navigation_questions     769163\n",
       "click_bottom_navigation_profile       653507\n",
       "$session_end                          649658\n",
       "click_bottom_navigation_timeline      536051\n",
       "skip_question                         454981\n",
       "click_bottom_navigation_lab           453683\n",
       "view_profile_tap                      413294\n",
       "view_questions_tap                    353400\n",
       "click_appbar_alarm_center             253541\n",
       "click_notice_detail                   229358\n",
       "click_question_start                  220385\n",
       "click_random_ask_shuffle              184217\n",
       "click_attendance                      157737\n",
       "complete_question                     154105\n",
       "click_appbar_chat_rooms               148422\n",
       "click_question_ask                    136766\n",
       "click_question_share                   69241\n",
       "click_timeline_chat_start              50186\n",
       "click_appbar_friend_plus               49545\n",
       "view_login                             49275\n",
       "click_appbar_setting                   26685\n",
       "view_shop                              26607\n",
       "view_signup                            25630\n",
       "click_random_ask_normal                18653\n",
       "click_profile_ask                      14627\n",
       "click_purchase                         13039\n",
       "click_random_ask_other                 11075\n",
       "view_home_tap                           5392\n",
       "click_friend_invite                     3221\n",
       "complete_purchase                       2201\n",
       "click_copy_profile_link_profile         1703\n",
       "click_community_chat                    1335\n",
       "click_invite_friend                     1054\n",
       "complete_signup                          974\n",
       "click_autoadd_contact                    918\n",
       "button                                   428\n",
       "click_copy_profile_link_ask               40\n",
       "view_friendplus_tap                        7\n",
       "click_notice                               1\n",
       "Name: count, dtype: int64"
      ]
     },
     "execution_count": 7,
     "metadata": {},
     "output_type": "execute_result"
    }
   ],
   "source": [
    "hackle_events_df['event_key'].value_counts()"
   ]
  },
  {
   "cell_type": "code",
   "execution_count": null,
   "id": "24f4a8f1",
   "metadata": {},
   "outputs": [],
   "source": []
  },
  {
   "cell_type": "markdown",
   "id": "2e32af41",
   "metadata": {},
   "source": [
    "#### 시간 흐름에 따른 이벤트 수 추이"
   ]
  },
  {
   "cell_type": "code",
   "execution_count": 8,
   "id": "41a77dac",
   "metadata": {},
   "outputs": [
    {
     "data": {
      "text/plain": [
       "<Axes: title={'center': '일별 이벤트 발생 수'}, xlabel='date'>"
      ]
     },
     "execution_count": 8,
     "metadata": {},
     "output_type": "execute_result"
    },
    {
     "data": {
      "image/png": "[encoded data removed]",
      "text/plain": [
       "<Figure size 1200x400 with 1 Axes>"
      ]
     },
     "metadata": {},
     "output_type": "display_data"
    }
   ],
   "source": [
    "hackle_events_df['event_datetime'] = pd.to_datetime(hackle_events_df['event_datetime'])\n",
    "hackle_events_df['date'] = hackle_events_df['event_datetime'].dt.date\n",
    "\n",
    "hackle_events_df['date'].value_counts().sort_index().plot(figsize=(12, 4), title='일별 이벤트 발생 수')"
   ]
  },
  {
   "cell_type": "code",
   "execution_count": null,
   "id": "a140ccb3",
   "metadata": {},
   "outputs": [],
   "source": []
  },
  {
   "cell_type": "markdown",
   "id": "a3b485fe",
   "metadata": {},
   "source": [
    "#### 페이지별 이벤트 발생량"
   ]
  },
  {
   "cell_type": "code",
   "execution_count": 9,
   "id": "b3746989",
   "metadata": {},
   "outputs": [
    {
     "data": {
      "text/plain": [
       "<Axes: title={'center': '페이지별 이벤트 수'}, ylabel='page_name'>"
      ]
     },
     "execution_count": 9,
     "metadata": {},
     "output_type": "execute_result"
    },
    {
     "data": {
      "image/png": "[encoded data removed]",
      "text/plain": [
       "<Figure size 640x480 with 1 Axes>"
      ]
     },
     "metadata": {},
     "output_type": "display_data"
    }
   ],
   "source": [
    "hackle_events_df['page_name'].value_counts().head(10).plot(kind='barh', title='페이지별 이벤트 수')"
   ]
  },
  {
   "cell_type": "code",
   "execution_count": null,
   "id": "560253fe",
   "metadata": {},
   "outputs": [],
   "source": []
  },
  {
   "cell_type": "markdown",
   "id": "dceffd38",
   "metadata": {},
   "source": [
    "#### heart_balance / votes_count / friend_count 분포"
   ]
  },
  {
   "cell_type": "code",
   "execution_count": 10,
   "id": "ea391077",
   "metadata": {},
   "outputs": [
    {
     "data": {
      "text/plain": [
       "array([[<Axes: title={'center': 'friend_count'}>,\n",
       "        <Axes: title={'center': 'votes_count'}>],\n",
       "       [<Axes: title={'center': 'heart_balance'}>, <Axes: >]],\n",
       "      dtype=object)"
      ]
     },
     "execution_count": 10,
     "metadata": {},
     "output_type": "execute_result"
    },
    {
     "data": {
      "image/png": "[encoded data removed]",
      "text/plain": [
       "<Figure size 1500x400 with 4 Axes>"
      ]
     },
     "metadata": {},
     "output_type": "display_data"
    }
   ],
   "source": [
    "cols = ['friend_count', 'votes_count', 'heart_balance']\n",
    "hackle_events_df[cols].hist(bins=50, figsize=(15, 4))"
   ]
  },
  {
   "cell_type": "code",
   "execution_count": null,
   "id": "e5de96fc",
   "metadata": {},
   "outputs": [],
   "source": []
  },
  {
   "cell_type": "markdown",
   "id": "52e8b051",
   "metadata": {},
   "source": [
    "#### 질문(question_id) 기준으로 많이 조회된 질문 Top N"
   ]
  },
  {
   "cell_type": "code",
   "execution_count": 12,
   "id": "5cddf188",
   "metadata": {},
   "outputs": [
    {
     "data": {
      "text/plain": [
       "question_id\n",
       "1629.0    403\n",
       "5051.0    342\n",
       "4435.0    338\n",
       "5127.0    334\n",
       "5039.0    329\n",
       "5007.0    327\n",
       "2518.0    317\n",
       "4240.0    316\n",
       "4884.0    311\n",
       "4583.0    310\n",
       "Name: count, dtype: int64"
      ]
     },
     "execution_count": 12,
     "metadata": {},
     "output_type": "execute_result"
    }
   ],
   "source": [
    "\n",
    "hackle_events_df['question_id'].value_counts().dropna().head(10)"
   ]
  },
  {
   "cell_type": "code",
   "execution_count": null,
   "id": "75d5cb34",
   "metadata": {},
   "outputs": [],
   "source": []
  },
  {
   "cell_type": "code",
   "execution_count": null,
   "id": "63a258db",
   "metadata": {},
   "outputs": [],
   "source": []
  },
  {
   "cell_type": "code",
   "execution_count": null,
   "id": "e51bcf6f",
   "metadata": {},
   "outputs": [],
   "source": []
  },
  {
   "cell_type": "markdown",
   "id": "26fe2795",
   "metadata": {},
   "source": [
    "---"
   ]
  },
  {
   "cell_type": "markdown",
   "id": "e2ba8897",
   "metadata": {},
   "source": [
    "# 2. hackle_properties"
   ]
  },
  {
   "cell_type": "code",
   "execution_count": null,
   "id": "74c84175",
   "metadata": {},
   "outputs": [],
   "source": [
    "# 서비스 계정 키 경로 설정\n",
    "os.environ[\"GOOGLE_APPLICATION_CREDENTIALS\"] = r\"/home/eunyu/sprintda05-eunyu-a9946f7dea9c.json\"\n",
    "# GCS의 Parquet 파일 경로\n",
    "gcs_path = 'gs://final_project_enuyu/data/final_project/hackle/hackle_properties.parquet'\n",
    "\n",
    "# 데이터 불러오기\n",
    "hackle_properties_df = pd.read_parquet(gcs_path, engine='pyarrow')\n",
    "hackle_properties_df"
   ]
  },
  {
   "cell_type": "code",
   "execution_count": null,
   "id": "b0d02b39",
   "metadata": {},
   "outputs": [],
   "source": []
  },
  {
   "cell_type": "markdown",
   "id": "05b7629b",
   "metadata": {},
   "source": [
    "---"
   ]
  },
  {
   "cell_type": "markdown",
   "id": "184991c6",
   "metadata": {},
   "source": [
    "# 3. device_properties"
   ]
  },
  {
   "cell_type": "code",
   "execution_count": null,
   "id": "32a71f15",
   "metadata": {},
   "outputs": [],
   "source": [
    "# 서비스 계정 키 경로 설정\n",
    "os.environ[\"GOOGLE_APPLICATION_CREDENTIALS\"] = r\"/home/eunyu/sprintda05-eunyu-a9946f7dea9c.json\"\n",
    "# GCS의 Parquet 파일 경로\n",
    "gcs_path = 'gs://final_project_enuyu/data/final_project/hackle/device_properties.parquet'\n",
    "\n",
    "# 데이터 불러오기\n",
    "device_properties_df = pd.read_parquet(gcs_path, engine='pyarrow')\n",
    "device_properties_df"
   ]
  },
  {
   "cell_type": "code",
   "execution_count": null,
   "id": "f2068d3c",
   "metadata": {},
   "outputs": [],
   "source": []
  },
  {
   "cell_type": "markdown",
   "id": "fda720da",
   "metadata": {},
   "source": [
    "---"
   ]
  },
  {
   "cell_type": "markdown",
   "id": "c6958b2c",
   "metadata": {},
   "source": [
    "# 4. user_properties"
   ]
  },
  {
   "cell_type": "code",
   "execution_count": null,
   "id": "a25edf8d",
   "metadata": {},
   "outputs": [],
   "source": [
    "# 서비스 계정 키 경로 설정\n",
    "os.environ[\"GOOGLE_APPLICATION_CREDENTIALS\"] = r\"/home/eunyu/sprintda05-eunyu-a9946f7dea9c.json\"\n",
    "# GCS의 Parquet 파일 경로\n",
    "gcs_path = 'https://storage.cloud.google.com/final_project_enuyu/data/final_project/hackle/user_properties.parquet'\n",
    "\n",
    "# 데이터 불러오기\n",
    "user_properties_df = pd.read_parquet(gcs_path, engine='pyarrow')\n",
    "user_properties_df"
   ]
  }
 ],
 "metadata": {
  "kernelspec": {
   "display_name": "Python 3",
   "language": "python",
   "name": "python3"
  },
  "language_info": {
   "codemirror_mode": {
    "name": "ipython",
    "version": 3
   },
   "file_extension": ".py",
   "mimetype": "text/x-python",
   "name": "python",
   "nbconvert_exporter": "python",
   "pygments_lexer": "ipython3",
   "version": "3.12.3"
  }
 },
 "nbformat": 4,
 "nbformat_minor": 5
}
