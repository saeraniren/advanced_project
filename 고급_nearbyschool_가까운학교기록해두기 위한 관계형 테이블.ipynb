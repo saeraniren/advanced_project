{
 "cells": [
  {
   "cell_type": "code",
   "execution_count": 1,
   "id": "34fcdf89",
   "metadata": {},
   "outputs": [],
   "source": [
    "import pandas as pd\n",
    "import numpy as np\n",
    "import matplotlib.pyplot as plt\n",
    "import seaborn as sns\n",
    "import os\n",
    "import matplotlib.font_manager as fm\n",
    "import koreanize_matplotlib\n",
    "\n",
    "# 폰트 경로 확인 및 설정\n",
    "font_path = '/usr/share/fonts/truetype/nanum/NanumGothic.ttf'  # 설치된 폰트 경로\n",
    "font_name = fm.FontProperties(fname=font_path).get_name()\n",
    "plt.rc('font', family=font_name)\n",
    "\n",
    "# 한글 깨짐 방지 - 마이너스 기호 처리\n",
    "plt.rcParams['axes.unicode_minus'] = False"
   ]
  },
  {
   "cell_type": "code",
   "execution_count": 2,
   "id": "3d346344",
   "metadata": {},
   "outputs": [
    {
     "data": {
      "text/html": [
       "<div>\n",
       "<style scoped>\n",
       "    .dataframe tbody tr th:only-of-type {\n",
       "        vertical-align: middle;\n",
       "    }\n",
       "\n",
       "    .dataframe tbody tr th {\n",
       "        vertical-align: top;\n",
       "    }\n",
       "\n",
       "    .dataframe thead th {\n",
       "        text-align: right;\n",
       "    }\n",
       "</style>\n",
       "<table border=\"1\" class=\"dataframe\">\n",
       "  <thead>\n",
       "    <tr style=\"text-align: right;\">\n",
       "      <th></th>\n",
       "      <th>id</th>\n",
       "      <th>distance</th>\n",
       "      <th>nearby_school_id</th>\n",
       "      <th>school_id</th>\n",
       "    </tr>\n",
       "  </thead>\n",
       "  <tbody>\n",
       "    <tr>\n",
       "      <th>0</th>\n",
       "      <td>119021</td>\n",
       "      <td>0.004564</td>\n",
       "      <td>6</td>\n",
       "      <td>7</td>\n",
       "    </tr>\n",
       "    <tr>\n",
       "      <th>1</th>\n",
       "      <td>119022</td>\n",
       "      <td>0.010787</td>\n",
       "      <td>13</td>\n",
       "      <td>7</td>\n",
       "    </tr>\n",
       "    <tr>\n",
       "      <th>2</th>\n",
       "      <td>119023</td>\n",
       "      <td>0.012928</td>\n",
       "      <td>20</td>\n",
       "      <td>7</td>\n",
       "    </tr>\n",
       "    <tr>\n",
       "      <th>3</th>\n",
       "      <td>119024</td>\n",
       "      <td>0.013590</td>\n",
       "      <td>4</td>\n",
       "      <td>7</td>\n",
       "    </tr>\n",
       "    <tr>\n",
       "      <th>4</th>\n",
       "      <td>119025</td>\n",
       "      <td>0.014122</td>\n",
       "      <td>24</td>\n",
       "      <td>7</td>\n",
       "    </tr>\n",
       "    <tr>\n",
       "      <th>...</th>\n",
       "      <td>...</td>\n",
       "      <td>...</td>\n",
       "      <td>...</td>\n",
       "      <td>...</td>\n",
       "    </tr>\n",
       "    <tr>\n",
       "      <th>59495</th>\n",
       "      <td>178516</td>\n",
       "      <td>0.018277</td>\n",
       "      <td>1498</td>\n",
       "      <td>5961</td>\n",
       "    </tr>\n",
       "    <tr>\n",
       "      <th>59496</th>\n",
       "      <td>178517</td>\n",
       "      <td>0.018652</td>\n",
       "      <td>1474</td>\n",
       "      <td>5961</td>\n",
       "    </tr>\n",
       "    <tr>\n",
       "      <th>59497</th>\n",
       "      <td>178518</td>\n",
       "      <td>0.021143</td>\n",
       "      <td>1466</td>\n",
       "      <td>5961</td>\n",
       "    </tr>\n",
       "    <tr>\n",
       "      <th>59498</th>\n",
       "      <td>178519</td>\n",
       "      <td>0.024572</td>\n",
       "      <td>1467</td>\n",
       "      <td>5961</td>\n",
       "    </tr>\n",
       "    <tr>\n",
       "      <th>59499</th>\n",
       "      <td>178520</td>\n",
       "      <td>0.000000</td>\n",
       "      <td>5961</td>\n",
       "      <td>5961</td>\n",
       "    </tr>\n",
       "  </tbody>\n",
       "</table>\n",
       "<p>59500 rows × 4 columns</p>\n",
       "</div>"
      ],
      "text/plain": [
       "           id  distance  nearby_school_id  school_id\n",
       "0      119021  0.004564                 6          7\n",
       "1      119022  0.010787                13          7\n",
       "2      119023  0.012928                20          7\n",
       "3      119024  0.013590                 4          7\n",
       "4      119025  0.014122                24          7\n",
       "...       ...       ...               ...        ...\n",
       "59495  178516  0.018277              1498       5961\n",
       "59496  178517  0.018652              1474       5961\n",
       "59497  178518  0.021143              1466       5961\n",
       "59498  178519  0.024572              1467       5961\n",
       "59499  178520  0.000000              5961       5961\n",
       "\n",
       "[59500 rows x 4 columns]"
      ]
     },
     "execution_count": 2,
     "metadata": {},
     "output_type": "execute_result"
    }
   ],
   "source": [
    "import os\n",
    "\n",
    "# 서비스 계정 키 경로 설정\n",
    "os.environ[\"GOOGLE_APPLICATION_CREDENTIALS\"] = r\"/home/eunyu/sprintda05-eunyu-a9946f7dea9c.json\"\n",
    "\n",
    "# GCS의 Parquet 파일 경로\n",
    "gcs_path = 'gs://final_project_enuyu/data/final_project/votes/accounts_nearbyschool.parquet'\n",
    "\n",
    "# 데이터 불러오기\n",
    "nearbyschool_df = pd.read_parquet(gcs_path, engine='pyarrow')\n",
    "nearbyschool_df"
   ]
  },
  {
   "cell_type": "code",
   "execution_count": 3,
   "id": "e452e541",
   "metadata": {},
   "outputs": [
    {
     "name": "stdout",
     "output_type": "stream",
     "text": [
      "<class 'pandas.core.frame.DataFrame'>\n",
      "RangeIndex: 59500 entries, 0 to 59499\n",
      "Data columns (total 4 columns):\n",
      " #   Column            Non-Null Count  Dtype  \n",
      "---  ------            --------------  -----  \n",
      " 0   id                59500 non-null  int64  \n",
      " 1   distance          59500 non-null  float64\n",
      " 2   nearby_school_id  59500 non-null  int64  \n",
      " 3   school_id         59500 non-null  int64  \n",
      "dtypes: float64(1), int64(3)\n",
      "memory usage: 1.8 MB\n"
     ]
    }
   ],
   "source": [
    "nearbyschool_df.info()"
   ]
  },
  {
   "cell_type": "code",
   "execution_count": 4,
   "id": "b745fa6e",
   "metadata": {},
   "outputs": [
    {
     "data": {
      "text/plain": [
       "id                  0\n",
       "distance            0\n",
       "nearby_school_id    0\n",
       "school_id           0\n",
       "dtype: int64"
      ]
     },
     "execution_count": 4,
     "metadata": {},
     "output_type": "execute_result"
    }
   ],
   "source": [
    "nearbyschool_df.isnull().sum()"
   ]
  },
  {
   "cell_type": "code",
   "execution_count": 5,
   "id": "78183170",
   "metadata": {},
   "outputs": [
    {
     "data": {
      "text/html": [
       "<div>\n",
       "<style scoped>\n",
       "    .dataframe tbody tr th:only-of-type {\n",
       "        vertical-align: middle;\n",
       "    }\n",
       "\n",
       "    .dataframe tbody tr th {\n",
       "        vertical-align: top;\n",
       "    }\n",
       "\n",
       "    .dataframe thead th {\n",
       "        text-align: right;\n",
       "    }\n",
       "</style>\n",
       "<table border=\"1\" class=\"dataframe\">\n",
       "  <thead>\n",
       "    <tr style=\"text-align: right;\">\n",
       "      <th></th>\n",
       "      <th>id</th>\n",
       "      <th>distance</th>\n",
       "      <th>nearby_school_id</th>\n",
       "      <th>school_id</th>\n",
       "    </tr>\n",
       "  </thead>\n",
       "  <tbody>\n",
       "    <tr>\n",
       "      <th>count</th>\n",
       "      <td>59500.000000</td>\n",
       "      <td>59500.000000</td>\n",
       "      <td>59500.000000</td>\n",
       "      <td>59500.000000</td>\n",
       "    </tr>\n",
       "    <tr>\n",
       "      <th>mean</th>\n",
       "      <td>148770.500000</td>\n",
       "      <td>0.055338</td>\n",
       "      <td>2976.695882</td>\n",
       "      <td>2980.524538</td>\n",
       "    </tr>\n",
       "    <tr>\n",
       "      <th>std</th>\n",
       "      <td>17176.314845</td>\n",
       "      <td>0.604024</td>\n",
       "      <td>1706.965231</td>\n",
       "      <td>1718.663078</td>\n",
       "    </tr>\n",
       "    <tr>\n",
       "      <th>min</th>\n",
       "      <td>119021.000000</td>\n",
       "      <td>0.000000</td>\n",
       "      <td>4.000000</td>\n",
       "      <td>4.000000</td>\n",
       "    </tr>\n",
       "    <tr>\n",
       "      <th>25%</th>\n",
       "      <td>133895.750000</td>\n",
       "      <td>0.011484</td>\n",
       "      <td>1518.000000</td>\n",
       "      <td>1493.000000</td>\n",
       "    </tr>\n",
       "    <tr>\n",
       "      <th>50%</th>\n",
       "      <td>148770.500000</td>\n",
       "      <td>0.021658</td>\n",
       "      <td>2973.000000</td>\n",
       "      <td>2980.500000</td>\n",
       "    </tr>\n",
       "    <tr>\n",
       "      <th>75%</th>\n",
       "      <td>163645.250000</td>\n",
       "      <td>0.064555</td>\n",
       "      <td>4448.000000</td>\n",
       "      <td>4469.000000</td>\n",
       "    </tr>\n",
       "    <tr>\n",
       "      <th>max</th>\n",
       "      <td>178520.000000</td>\n",
       "      <td>49.296594</td>\n",
       "      <td>5964.000000</td>\n",
       "      <td>5964.000000</td>\n",
       "    </tr>\n",
       "  </tbody>\n",
       "</table>\n",
       "</div>"
      ],
      "text/plain": [
       "                  id      distance  nearby_school_id     school_id\n",
       "count   59500.000000  59500.000000      59500.000000  59500.000000\n",
       "mean   148770.500000      0.055338       2976.695882   2980.524538\n",
       "std     17176.314845      0.604024       1706.965231   1718.663078\n",
       "min    119021.000000      0.000000          4.000000      4.000000\n",
       "25%    133895.750000      0.011484       1518.000000   1493.000000\n",
       "50%    148770.500000      0.021658       2973.000000   2980.500000\n",
       "75%    163645.250000      0.064555       4448.000000   4469.000000\n",
       "max    178520.000000     49.296594       5964.000000   5964.000000"
      ]
     },
     "execution_count": 5,
     "metadata": {},
     "output_type": "execute_result"
    }
   ],
   "source": [
    "nearbyschool_df.describe(include='all')"
   ]
  },
  {
   "cell_type": "code",
   "execution_count": null,
   "id": "4e3dcc18",
   "metadata": {},
   "outputs": [],
   "source": []
  },
  {
   "cell_type": "code",
   "execution_count": 7,
   "id": "59ccad4e",
   "metadata": {},
   "outputs": [
    {
     "data": {
      "text/html": [
       "<div>\n",
       "<style scoped>\n",
       "    .dataframe tbody tr th:only-of-type {\n",
       "        vertical-align: middle;\n",
       "    }\n",
       "\n",
       "    .dataframe tbody tr th {\n",
       "        vertical-align: top;\n",
       "    }\n",
       "\n",
       "    .dataframe thead th {\n",
       "        text-align: right;\n",
       "    }\n",
       "</style>\n",
       "<table border=\"1\" class=\"dataframe\">\n",
       "  <thead>\n",
       "    <tr style=\"text-align: right;\">\n",
       "      <th></th>\n",
       "      <th>id</th>\n",
       "      <th>distance</th>\n",
       "      <th>nearby_school_id</th>\n",
       "      <th>school_id</th>\n",
       "    </tr>\n",
       "  </thead>\n",
       "  <tbody>\n",
       "    <tr>\n",
       "      <th>9</th>\n",
       "      <td>119030</td>\n",
       "      <td>0.0</td>\n",
       "      <td>7</td>\n",
       "      <td>7</td>\n",
       "    </tr>\n",
       "    <tr>\n",
       "      <th>19</th>\n",
       "      <td>119040</td>\n",
       "      <td>0.0</td>\n",
       "      <td>8</td>\n",
       "      <td>8</td>\n",
       "    </tr>\n",
       "    <tr>\n",
       "      <th>29</th>\n",
       "      <td>119050</td>\n",
       "      <td>0.0</td>\n",
       "      <td>22</td>\n",
       "      <td>22</td>\n",
       "    </tr>\n",
       "    <tr>\n",
       "      <th>39</th>\n",
       "      <td>119060</td>\n",
       "      <td>0.0</td>\n",
       "      <td>13</td>\n",
       "      <td>13</td>\n",
       "    </tr>\n",
       "    <tr>\n",
       "      <th>49</th>\n",
       "      <td>119070</td>\n",
       "      <td>0.0</td>\n",
       "      <td>20</td>\n",
       "      <td>20</td>\n",
       "    </tr>\n",
       "    <tr>\n",
       "      <th>...</th>\n",
       "      <td>...</td>\n",
       "      <td>...</td>\n",
       "      <td>...</td>\n",
       "      <td>...</td>\n",
       "    </tr>\n",
       "    <tr>\n",
       "      <th>59459</th>\n",
       "      <td>178480</td>\n",
       "      <td>0.0</td>\n",
       "      <td>5959</td>\n",
       "      <td>5959</td>\n",
       "    </tr>\n",
       "    <tr>\n",
       "      <th>59469</th>\n",
       "      <td>178490</td>\n",
       "      <td>0.0</td>\n",
       "      <td>5960</td>\n",
       "      <td>5960</td>\n",
       "    </tr>\n",
       "    <tr>\n",
       "      <th>59479</th>\n",
       "      <td>178500</td>\n",
       "      <td>0.0</td>\n",
       "      <td>5964</td>\n",
       "      <td>5964</td>\n",
       "    </tr>\n",
       "    <tr>\n",
       "      <th>59489</th>\n",
       "      <td>178510</td>\n",
       "      <td>0.0</td>\n",
       "      <td>5963</td>\n",
       "      <td>5963</td>\n",
       "    </tr>\n",
       "    <tr>\n",
       "      <th>59499</th>\n",
       "      <td>178520</td>\n",
       "      <td>0.0</td>\n",
       "      <td>5961</td>\n",
       "      <td>5961</td>\n",
       "    </tr>\n",
       "  </tbody>\n",
       "</table>\n",
       "<p>6214 rows × 4 columns</p>\n",
       "</div>"
      ],
      "text/plain": [
       "           id  distance  nearby_school_id  school_id\n",
       "9      119030       0.0                 7          7\n",
       "19     119040       0.0                 8          8\n",
       "29     119050       0.0                22         22\n",
       "39     119060       0.0                13         13\n",
       "49     119070       0.0                20         20\n",
       "...       ...       ...               ...        ...\n",
       "59459  178480       0.0              5959       5959\n",
       "59469  178490       0.0              5960       5960\n",
       "59479  178500       0.0              5964       5964\n",
       "59489  178510       0.0              5963       5963\n",
       "59499  178520       0.0              5961       5961\n",
       "\n",
       "[6214 rows x 4 columns]"
      ]
     },
     "execution_count": 7,
     "metadata": {},
     "output_type": "execute_result"
    }
   ],
   "source": [
    "#  0거리 관계 필터링 (자기 자신 포함 여부 확인)\n",
    "nearbyschool_df[nearbyschool_df['distance'] == 0]"
   ]
  },
  {
   "cell_type": "code",
   "execution_count": null,
   "id": "2e3208ee",
   "metadata": {},
   "outputs": [],
   "source": []
  },
  {
   "cell_type": "code",
   "execution_count": 9,
   "id": "7f5a15ba",
   "metadata": {},
   "outputs": [
    {
     "data": {
      "image/png": "[encoded data removed]",
      "text/plain": [
       "<Figure size 640x480 with 1 Axes>"
      ]
     },
     "metadata": {},
     "output_type": "display_data"
    }
   ],
   "source": [
    "sns.histplot(nearbyschool_df['distance'], bins=50)\n",
    "plt.title('학교 간 거리 분포')\n",
    "plt.xlabel('Distance')\n",
    "plt.ylabel('Count')\n",
    "plt.show()"
   ]
  },
  {
   "cell_type": "code",
   "execution_count": null,
   "id": "f6b5b4d8",
   "metadata": {},
   "outputs": [],
   "source": [
    "\n"
   ]
  },
  {
   "cell_type": "code",
   "execution_count": 10,
   "id": "1f5eaf09",
   "metadata": {},
   "outputs": [
    {
     "data": {
      "text/plain": [
       "count    5950.0\n",
       "mean       10.0\n",
       "std         0.0\n",
       "min        10.0\n",
       "25%        10.0\n",
       "50%        10.0\n",
       "75%        10.0\n",
       "max        10.0\n",
       "dtype: float64"
      ]
     },
     "execution_count": 10,
     "metadata": {},
     "output_type": "execute_result"
    }
   ],
   "source": [
    "nearbyschool_df['school_id'].nunique(), nearbyschool_df['nearby_school_id'].nunique()\n",
    "# 또는 groupby로 nearby 개수 세기\n",
    "nearbyschool_df.groupby('school_id').size().describe()"
   ]
  },
  {
   "cell_type": "code",
   "execution_count": 11,
   "id": "1f3f98b1",
   "metadata": {},
   "outputs": [
    {
     "data": {
      "text/plain": [
       "school_id\n",
       "7       10\n",
       "3967    10\n",
       "3977    10\n",
       "3980    10\n",
       "3975    10\n",
       "3976    10\n",
       "3974    10\n",
       "3972    10\n",
       "3970    10\n",
       "3973    10\n",
       "Name: count, dtype: int64"
      ]
     },
     "execution_count": 11,
     "metadata": {},
     "output_type": "execute_result"
    }
   ],
   "source": [
    "nearbyschool_df['school_id'].value_counts().head(10)\n"
   ]
  },
  {
   "cell_type": "markdown",
   "id": "59109d3f",
   "metadata": {},
   "source": [
    "- 모든 학교가 정확히 10개의 가까운 학교를 갖도록 설계된 데이터"
   ]
  },
  {
   "cell_type": "code",
   "execution_count": 14,
   "id": "fd71730d",
   "metadata": {},
   "outputs": [
    {
     "data": {
      "text/plain": [
       "5950"
      ]
     },
     "execution_count": 14,
     "metadata": {},
     "output_type": "execute_result"
    }
   ],
   "source": [
    "(nearbyschool_df['school_id'] == nearbyschool_df['nearby_school_id']).sum()"
   ]
  },
  {
   "cell_type": "code",
   "execution_count": 15,
   "id": "ff73afd6",
   "metadata": {},
   "outputs": [
    {
     "data": {
      "text/plain": [
       "count    5950.0\n",
       "mean        9.0\n",
       "std         0.0\n",
       "min         9.0\n",
       "25%         9.0\n",
       "50%         9.0\n",
       "75%         9.0\n",
       "max         9.0\n",
       "dtype: float64"
      ]
     },
     "execution_count": 15,
     "metadata": {},
     "output_type": "execute_result"
    }
   ],
   "source": [
    "# 자기 자신 제거한 후\n",
    "df_filtered = nearbyschool_df[nearbyschool_df['school_id'] != nearbyschool_df['nearby_school_id']]\n",
    "df_filtered.groupby('school_id').size().describe()\n"
   ]
  },
  {
   "cell_type": "code",
   "execution_count": null,
   "id": "e5c2cbb6",
   "metadata": {},
   "outputs": [],
   "source": []
  },
  {
   "cell_type": "code",
   "execution_count": null,
   "id": "cf04db26",
   "metadata": {},
   "outputs": [],
   "source": []
  },
  {
   "cell_type": "code",
   "execution_count": 4,
   "id": "2d030473",
   "metadata": {},
   "outputs": [],
   "source": [
    "group_df = pd.read_parquet('gs://final_project_enuyu/data/final_project/votes/accounts_group.parquet')"
   ]
  },
  {
   "cell_type": "code",
   "execution_count": null,
   "id": "47a8c631",
   "metadata": {},
   "outputs": [],
   "source": []
  },
  {
   "cell_type": "code",
   "execution_count": null,
   "id": "b317b471",
   "metadata": {},
   "outputs": [],
   "source": []
  }
 ],
 "metadata": {
  "kernelspec": {
   "display_name": "Python 3",
   "language": "python",
   "name": "python3"
  },
  "language_info": {
   "codemirror_mode": {
    "name": "ipython",
    "version": 3
   },
   "file_extension": ".py",
   "mimetype": "text/x-python",
   "name": "python",
   "nbconvert_exporter": "python",
   "pygments_lexer": "ipython3",
   "version": "3.12.3"
  }
 },
 "nbformat": 4,
 "nbformat_minor": 5
}
