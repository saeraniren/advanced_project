{
 "cells": [
  {
   "cell_type": "code",
   "execution_count": null,
   "id": "0082ac6a",
   "metadata": {},
   "outputs": [],
   "source": [
    "import pandas as pd\n",
    "import numpy as np\n",
    "import matplotlib.pyplot as plt\n",
    "import seaborn as sns\n",
    "import os\n",
    "import matplotlib.font_manager as fm\n",
    "import koreanize_matplotlib\n",
    "\n",
    "# 폰트 경로 확인 및 설정\n",
    "font_path = '/usr/share/fonts/truetype/nanum/NanumGothic.ttf'  # 설치된 폰트 경로\n",
    "font_name = fm.FontProperties(fname=font_path).get_name()\n",
    "plt.rc('font', family=font_name)\n",
    "\n",
    "# 한글 깨짐 방지 - 마이너스 기호 처리\n",
    "plt.rcParams['axes.unicode_minus'] = False"
   ]
  },
  {
   "cell_type": "code",
   "execution_count": 19,
   "id": "3bdb4fc2",
   "metadata": {},
   "outputs": [
    {
     "data": {
      "text/html": [
       "<div>\n",
       "<style scoped>\n",
       "    .dataframe tbody tr th:only-of-type {\n",
       "        vertical-align: middle;\n",
       "    }\n",
       "\n",
       "    .dataframe tbody tr th {\n",
       "        vertical-align: top;\n",
       "    }\n",
       "\n",
       "    .dataframe thead th {\n",
       "        text-align: right;\n",
       "    }\n",
       "</style>\n",
       "<table border=\"1\" class=\"dataframe\">\n",
       "  <thead>\n",
       "    <tr style=\"text-align: right;\">\n",
       "      <th></th>\n",
       "      <th>id</th>\n",
       "      <th>is_voted</th>\n",
       "      <th>created_at</th>\n",
       "      <th>question_id</th>\n",
       "      <th>is_skipped</th>\n",
       "    </tr>\n",
       "  </thead>\n",
       "  <tbody>\n",
       "    <tr>\n",
       "      <th>0</th>\n",
       "      <td>998458</td>\n",
       "      <td>1</td>\n",
       "      <td>2023-04-28 12:27:22</td>\n",
       "      <td>252</td>\n",
       "      <td>0</td>\n",
       "    </tr>\n",
       "    <tr>\n",
       "      <th>1</th>\n",
       "      <td>998459</td>\n",
       "      <td>1</td>\n",
       "      <td>2023-04-28 12:27:22</td>\n",
       "      <td>244</td>\n",
       "      <td>0</td>\n",
       "    </tr>\n",
       "    <tr>\n",
       "      <th>2</th>\n",
       "      <td>998460</td>\n",
       "      <td>1</td>\n",
       "      <td>2023-04-28 12:27:22</td>\n",
       "      <td>183</td>\n",
       "      <td>0</td>\n",
       "    </tr>\n",
       "    <tr>\n",
       "      <th>3</th>\n",
       "      <td>998461</td>\n",
       "      <td>1</td>\n",
       "      <td>2023-04-28 12:27:22</td>\n",
       "      <td>101</td>\n",
       "      <td>0</td>\n",
       "    </tr>\n",
       "    <tr>\n",
       "      <th>4</th>\n",
       "      <td>998462</td>\n",
       "      <td>1</td>\n",
       "      <td>2023-04-28 12:27:22</td>\n",
       "      <td>209</td>\n",
       "      <td>0</td>\n",
       "    </tr>\n",
       "    <tr>\n",
       "      <th>...</th>\n",
       "      <td>...</td>\n",
       "      <td>...</td>\n",
       "      <td>...</td>\n",
       "      <td>...</td>\n",
       "      <td>...</td>\n",
       "    </tr>\n",
       "    <tr>\n",
       "      <th>1265471</th>\n",
       "      <td>208385226</td>\n",
       "      <td>0</td>\n",
       "      <td>2024-05-07 11:32:30</td>\n",
       "      <td>960</td>\n",
       "      <td>0</td>\n",
       "    </tr>\n",
       "    <tr>\n",
       "      <th>1265472</th>\n",
       "      <td>208385227</td>\n",
       "      <td>0</td>\n",
       "      <td>2024-05-07 11:32:30</td>\n",
       "      <td>1402</td>\n",
       "      <td>0</td>\n",
       "    </tr>\n",
       "    <tr>\n",
       "      <th>1265473</th>\n",
       "      <td>208385228</td>\n",
       "      <td>0</td>\n",
       "      <td>2024-05-07 11:32:30</td>\n",
       "      <td>1676</td>\n",
       "      <td>0</td>\n",
       "    </tr>\n",
       "    <tr>\n",
       "      <th>1265474</th>\n",
       "      <td>208385229</td>\n",
       "      <td>0</td>\n",
       "      <td>2024-05-07 11:32:30</td>\n",
       "      <td>3115</td>\n",
       "      <td>0</td>\n",
       "    </tr>\n",
       "    <tr>\n",
       "      <th>1265475</th>\n",
       "      <td>208385230</td>\n",
       "      <td>0</td>\n",
       "      <td>2024-05-07 11:32:30</td>\n",
       "      <td>1461</td>\n",
       "      <td>0</td>\n",
       "    </tr>\n",
       "  </tbody>\n",
       "</table>\n",
       "<p>1265476 rows × 5 columns</p>\n",
       "</div>"
      ],
      "text/plain": [
       "                id  is_voted          created_at  question_id  is_skipped\n",
       "0           998458         1 2023-04-28 12:27:22          252           0\n",
       "1           998459         1 2023-04-28 12:27:22          244           0\n",
       "2           998460         1 2023-04-28 12:27:22          183           0\n",
       "3           998461         1 2023-04-28 12:27:22          101           0\n",
       "4           998462         1 2023-04-28 12:27:22          209           0\n",
       "...            ...       ...                 ...          ...         ...\n",
       "1265471  208385226         0 2024-05-07 11:32:30          960           0\n",
       "1265472  208385227         0 2024-05-07 11:32:30         1402           0\n",
       "1265473  208385228         0 2024-05-07 11:32:30         1676           0\n",
       "1265474  208385229         0 2024-05-07 11:32:30         3115           0\n",
       "1265475  208385230         0 2024-05-07 11:32:30         1461           0\n",
       "\n",
       "[1265476 rows x 5 columns]"
      ]
     },
     "execution_count": 19,
     "metadata": {},
     "output_type": "execute_result"
    }
   ],
   "source": [
    "# 서비스 계정 키 경로 설정\n",
    "os.environ[\"GOOGLE_APPLICATION_CREDENTIALS\"] = r\"/home/eunyu/sprintda05-eunyu-a9946f7dea9c.json\"\n",
    "\n",
    "# GCS의 Parquet 파일 경로\n",
    "gcs_path = 'gs://final_project_enuyu/data/final_project/votes/polls_questionpiece.parquet'\n",
    "\n",
    "# 데이터 불러오기\n",
    "questionpiece_df = pd.read_parquet(gcs_path, engine='pyarrow')\n",
    "questionpiece_df"
   ]
  },
  {
   "cell_type": "code",
   "execution_count": 20,
   "id": "a875f1e8",
   "metadata": {},
   "outputs": [
    {
     "name": "stdout",
     "output_type": "stream",
     "text": [
      "<class 'pandas.core.frame.DataFrame'>\n",
      "RangeIndex: 1265476 entries, 0 to 1265475\n",
      "Data columns (total 5 columns):\n",
      " #   Column       Non-Null Count    Dtype         \n",
      "---  ------       --------------    -----         \n",
      " 0   id           1265476 non-null  int64         \n",
      " 1   is_voted     1265476 non-null  int64         \n",
      " 2   created_at   1265476 non-null  datetime64[ns]\n",
      " 3   question_id  1265476 non-null  int64         \n",
      " 4   is_skipped   1265476 non-null  int64         \n",
      "dtypes: datetime64[ns](1), int64(4)\n",
      "memory usage: 48.3 MB\n"
     ]
    }
   ],
   "source": [
    "questionpiece_df.info()"
   ]
  },
  {
   "cell_type": "code",
   "execution_count": 21,
   "id": "11a893b0",
   "metadata": {},
   "outputs": [
    {
     "data": {
      "text/plain": [
       "id             0\n",
       "is_voted       0\n",
       "created_at     0\n",
       "question_id    0\n",
       "is_skipped     0\n",
       "dtype: int64"
      ]
     },
     "execution_count": 21,
     "metadata": {},
     "output_type": "execute_result"
    }
   ],
   "source": [
    "questionpiece_df.isnull().sum()"
   ]
  },
  {
   "cell_type": "code",
   "execution_count": 22,
   "id": "12f56dbc",
   "metadata": {},
   "outputs": [
    {
     "data": {
      "text/html": [
       "<div>\n",
       "<style scoped>\n",
       "    .dataframe tbody tr th:only-of-type {\n",
       "        vertical-align: middle;\n",
       "    }\n",
       "\n",
       "    .dataframe tbody tr th {\n",
       "        vertical-align: top;\n",
       "    }\n",
       "\n",
       "    .dataframe thead th {\n",
       "        text-align: right;\n",
       "    }\n",
       "</style>\n",
       "<table border=\"1\" class=\"dataframe\">\n",
       "  <thead>\n",
       "    <tr style=\"text-align: right;\">\n",
       "      <th></th>\n",
       "      <th>id</th>\n",
       "      <th>is_voted</th>\n",
       "      <th>created_at</th>\n",
       "      <th>question_id</th>\n",
       "      <th>is_skipped</th>\n",
       "    </tr>\n",
       "  </thead>\n",
       "  <tbody>\n",
       "    <tr>\n",
       "      <th>count</th>\n",
       "      <td>1.265476e+06</td>\n",
       "      <td>1.265476e+06</td>\n",
       "      <td>1265476</td>\n",
       "      <td>1.265476e+06</td>\n",
       "      <td>1.265476e+06</td>\n",
       "    </tr>\n",
       "    <tr>\n",
       "      <th>mean</th>\n",
       "      <td>7.658001e+07</td>\n",
       "      <td>9.630266e-01</td>\n",
       "      <td>2023-05-17 13:39:58.427317504</td>\n",
       "      <td>7.133598e+02</td>\n",
       "      <td>8.905740e-04</td>\n",
       "    </tr>\n",
       "    <tr>\n",
       "      <th>min</th>\n",
       "      <td>9.984580e+05</td>\n",
       "      <td>0.000000e+00</td>\n",
       "      <td>2023-04-28 12:27:22</td>\n",
       "      <td>9.900000e+01</td>\n",
       "      <td>0.000000e+00</td>\n",
       "    </tr>\n",
       "    <tr>\n",
       "      <th>25%</th>\n",
       "      <td>2.029260e+07</td>\n",
       "      <td>1.000000e+00</td>\n",
       "      <td>2023-05-09 21:50:54</td>\n",
       "      <td>2.780000e+02</td>\n",
       "      <td>0.000000e+00</td>\n",
       "    </tr>\n",
       "    <tr>\n",
       "      <th>50%</th>\n",
       "      <td>6.846533e+07</td>\n",
       "      <td>1.000000e+00</td>\n",
       "      <td>2023-05-15 14:18:31.500000</td>\n",
       "      <td>4.770000e+02</td>\n",
       "      <td>0.000000e+00</td>\n",
       "    </tr>\n",
       "    <tr>\n",
       "      <th>75%</th>\n",
       "      <td>1.212662e+08</td>\n",
       "      <td>1.000000e+00</td>\n",
       "      <td>2023-05-22 09:56:44</td>\n",
       "      <td>9.820000e+02</td>\n",
       "      <td>0.000000e+00</td>\n",
       "    </tr>\n",
       "    <tr>\n",
       "      <th>max</th>\n",
       "      <td>2.083852e+08</td>\n",
       "      <td>1.000000e+00</td>\n",
       "      <td>2024-05-07 11:32:30</td>\n",
       "      <td>5.133000e+03</td>\n",
       "      <td>1.000000e+00</td>\n",
       "    </tr>\n",
       "    <tr>\n",
       "      <th>std</th>\n",
       "      <td>5.912924e+07</td>\n",
       "      <td>1.886967e-01</td>\n",
       "      <td>NaN</td>\n",
       "      <td>6.706815e+02</td>\n",
       "      <td>2.982921e-02</td>\n",
       "    </tr>\n",
       "  </tbody>\n",
       "</table>\n",
       "</div>"
      ],
      "text/plain": [
       "                 id      is_voted                     created_at  \\\n",
       "count  1.265476e+06  1.265476e+06                        1265476   \n",
       "mean   7.658001e+07  9.630266e-01  2023-05-17 13:39:58.427317504   \n",
       "min    9.984580e+05  0.000000e+00            2023-04-28 12:27:22   \n",
       "25%    2.029260e+07  1.000000e+00            2023-05-09 21:50:54   \n",
       "50%    6.846533e+07  1.000000e+00     2023-05-15 14:18:31.500000   \n",
       "75%    1.212662e+08  1.000000e+00            2023-05-22 09:56:44   \n",
       "max    2.083852e+08  1.000000e+00            2024-05-07 11:32:30   \n",
       "std    5.912924e+07  1.886967e-01                            NaN   \n",
       "\n",
       "        question_id    is_skipped  \n",
       "count  1.265476e+06  1.265476e+06  \n",
       "mean   7.133598e+02  8.905740e-04  \n",
       "min    9.900000e+01  0.000000e+00  \n",
       "25%    2.780000e+02  0.000000e+00  \n",
       "50%    4.770000e+02  0.000000e+00  \n",
       "75%    9.820000e+02  0.000000e+00  \n",
       "max    5.133000e+03  1.000000e+00  \n",
       "std    6.706815e+02  2.982921e-02  "
      ]
     },
     "execution_count": 22,
     "metadata": {},
     "output_type": "execute_result"
    }
   ],
   "source": [
    "questionpiece_df.describe(include='all')"
   ]
  },
  {
   "cell_type": "code",
   "execution_count": null,
   "id": "a787639d",
   "metadata": {},
   "outputs": [],
   "source": []
  },
  {
   "cell_type": "code",
   "execution_count": 23,
   "id": "7cbe80ea",
   "metadata": {},
   "outputs": [
    {
     "name": "stdout",
     "output_type": "stream",
     "text": [
      "총 데이터 수: 1265476\n",
      "is_voted = 0 인 수: 46789 (3.6973%)\n"
     ]
    }
   ],
   "source": [
    "# is_voted=0 인 데이터 추출\n",
    "voted_0_df = questionpiece_df[questionpiece_df['is_voted'] == 0]\n",
    "\n",
    "# 전체 비중 확인\n",
    "print(f\"총 데이터 수: {len(questionpiece_df)}\")\n",
    "print(f\"is_voted = 0 인 수: {len(voted_0_df)} ({len(voted_0_df)/len(questionpiece_df)*100:.4f}%)\")\n"
   ]
  },
  {
   "cell_type": "markdown",
   "id": "b4f27686",
   "metadata": {},
   "source": [
    "- 전체 1,265,476건 중 46,789건(3.70%)만 is_voted = 0\n",
    "→ 대부분의 항목은 투표되었으며, 비투표 사례는 소수"
   ]
  },
  {
   "cell_type": "code",
   "execution_count": 24,
   "id": "44da63ab",
   "metadata": {},
   "outputs": [
    {
     "data": {
      "image/png": "[encoded data removed]",
      "text/plain": [
       "<Figure size 640x480 with 1 Axes>"
      ]
     },
     "metadata": {},
     "output_type": "display_data"
    }
   ],
   "source": [
    "# question_id별 is_voted=0 분포\n",
    "voted_0_by_qid = voted_0_df['question_id'].value_counts().head(10)\n",
    "\n",
    "# 시각화\n",
    "\n",
    "voted_0_by_qid.plot(kind='bar', title='is_voted=0 상위 question_id')\n",
    "plt.xlabel('question_id')\n",
    "plt.ylabel('빈도')\n",
    "plt.show()\n"
   ]
  },
  {
   "cell_type": "markdown",
   "id": "ad1e6c45",
   "metadata": {},
   "source": [
    "- question_id=105, 213, 112 등 특정 질문에서만 소폭 높은 비율 (상위 질문도 50건 내외)\n",
    "- → 특정 질문에 과도하게 몰린 현상은 아님\n",
    "- 전반적으로 분산된 분포로 해석 가능"
   ]
  },
  {
   "cell_type": "code",
   "execution_count": 25,
   "id": "ae39a81e",
   "metadata": {},
   "outputs": [
    {
     "name": "stderr",
     "output_type": "stream",
     "text": [
      "/tmp/ipykernel_1768755/2053723894.py:2: SettingWithCopyWarning: \n",
      "A value is trying to be set on a copy of a slice from a DataFrame.\n",
      "Try using .loc[row_indexer,col_indexer] = value instead\n",
      "\n",
      "See the caveats in the documentation: https://pandas.pydata.org/pandas-docs/stable/user_guide/indexing.html#returning-a-view-versus-a-copy\n",
      "  voted_0_df['created_at'] = pd.to_datetime(voted_0_df['created_at'])\n",
      "/tmp/ipykernel_1768755/2053723894.py:5: SettingWithCopyWarning: \n",
      "A value is trying to be set on a copy of a slice from a DataFrame.\n",
      "Try using .loc[row_indexer,col_indexer] = value instead\n",
      "\n",
      "See the caveats in the documentation: https://pandas.pydata.org/pandas-docs/stable/user_guide/indexing.html#returning-a-view-versus-a-copy\n",
      "  voted_0_df['created_date'] = voted_0_df['created_at'].dt.date\n"
     ]
    },
    {
     "data": {
      "image/png": "[encoded data removed]",
      "text/plain": [
       "<Figure size 1000x400 with 1 Axes>"
      ]
     },
     "metadata": {},
     "output_type": "display_data"
    }
   ],
   "source": [
    "# datetime 변환\n",
    "voted_0_df['created_at'] = pd.to_datetime(voted_0_df['created_at'])\n",
    "\n",
    "# 일자별 투표 안한 건수\n",
    "voted_0_df['created_date'] = voted_0_df['created_at'].dt.date\n",
    "voted_0_df['created_date'].value_counts().sort_index().plot(kind='line', figsize=(10,4), title='is_voted=0 생성일 분포')\n",
    "plt.xlabel('날짜')\n",
    "plt.ylabel('건수')\n",
    "plt.show()"
   ]
  },
  {
   "cell_type": "markdown",
   "id": "7f7144e1",
   "metadata": {},
   "source": [
    "- 비투표 항목의 대부분이 2023년 5월~6월 사이 집중 발생\n",
    "- 그 이후부터는 거의 없음\n",
    "- → 서비스 초기 또는 특정 기간에 시스템적 문제 혹은 유저 행동 패턴 이슈 가능성\n",
    "\n"
   ]
  },
  {
   "cell_type": "code",
   "execution_count": null,
   "id": "3a3dfa59",
   "metadata": {},
   "outputs": [],
   "source": []
  },
  {
   "cell_type": "code",
   "execution_count": 26,
   "id": "8993863e",
   "metadata": {},
   "outputs": [
    {
     "name": "stdout",
     "output_type": "stream",
     "text": [
      "is_voted=0인 경우의 is_skipped 비율:\n",
      "is_skipped\n",
      "0    1.0\n",
      "Name: proportion, dtype: float64\n"
     ]
    }
   ],
   "source": [
    "# 스킵 여부 비율\n",
    "skipped_counts = voted_0_df['is_skipped'].value_counts(normalize=True)\n",
    "print(\"is_voted=0인 경우의 is_skipped 비율:\")\n",
    "print(skipped_counts)"
   ]
  },
  {
   "cell_type": "markdown",
   "id": "947f7293",
   "metadata": {},
   "source": [
    "- is_voted = 0인 경우 100%가 is_skipped = 0\n",
    "- → 사용자는 해당 항목을 스킵하지 않았지만 투표도 하지 않음"
   ]
  },
  {
   "cell_type": "code",
   "execution_count": null,
   "id": "404e02f6",
   "metadata": {},
   "outputs": [],
   "source": []
  },
  {
   "cell_type": "code",
   "execution_count": null,
   "id": "34c835c7",
   "metadata": {},
   "outputs": [],
   "source": []
  },
  {
   "cell_type": "code",
   "execution_count": 27,
   "id": "12152334",
   "metadata": {},
   "outputs": [
    {
     "name": "stdout",
     "output_type": "stream",
     "text": [
      "question_id=105 행동 요약:\n",
      "is_voted  is_skipped\n",
      "0         0               49\n",
      "1         0             1787\n",
      "dtype: int64\n"
     ]
    }
   ],
   "source": [
    "# 특정 질문에서 투표 유무 비교\n",
    "sample_qid = voted_0_df['question_id'].value_counts().idxmax()\n",
    "\n",
    "subset = questionpiece_df[questionpiece_df['question_id'] == sample_qid]\n",
    "summary = subset.groupby(['is_voted', 'is_skipped']).size()\n",
    "print(f\"question_id={sample_qid} 행동 요약:\")\n",
    "print(summary)"
   ]
  },
  {
   "cell_type": "code",
   "execution_count": 28,
   "id": "14d68683",
   "metadata": {},
   "outputs": [
    {
     "data": {
      "text/plain": [
       "<Axes: title={'center': '날짜별 is_voted 분포 (0 vs 1)'}, xlabel='date'>"
      ]
     },
     "execution_count": 28,
     "metadata": {},
     "output_type": "execute_result"
    },
    {
     "data": {
      "image/png": "[encoded data removed]",
      "text/plain": [
       "<Figure size 1200x500 with 1 Axes>"
      ]
     },
     "metadata": {},
     "output_type": "display_data"
    }
   ],
   "source": [
    "# 전체 데이터 기준 날짜별 투표 비율 비교\n",
    "questionpiece_df['created_at'] = pd.to_datetime(questionpiece_df['created_at'])\n",
    "questionpiece_df['date'] = questionpiece_df['created_at'].dt.date\n",
    "\n",
    "pivot = questionpiece_df.pivot_table(index='date', columns='is_voted', values='id', aggfunc='count').fillna(0)\n",
    "pivot.plot(title='날짜별 is_voted 분포 (0 vs 1)', figsize=(12,5))"
   ]
  },
  {
   "cell_type": "code",
   "execution_count": 29,
   "id": "c7ca831a",
   "metadata": {},
   "outputs": [
    {
     "data": {
      "text/html": [
       "<div>\n",
       "<style scoped>\n",
       "    .dataframe tbody tr th:only-of-type {\n",
       "        vertical-align: middle;\n",
       "    }\n",
       "\n",
       "    .dataframe tbody tr th {\n",
       "        vertical-align: top;\n",
       "    }\n",
       "\n",
       "    .dataframe thead th {\n",
       "        text-align: right;\n",
       "    }\n",
       "</style>\n",
       "<table border=\"1\" class=\"dataframe\">\n",
       "  <thead>\n",
       "    <tr style=\"text-align: right;\">\n",
       "      <th>is_voted</th>\n",
       "      <th>0</th>\n",
       "      <th>1</th>\n",
       "    </tr>\n",
       "    <tr>\n",
       "      <th>question_id</th>\n",
       "      <th></th>\n",
       "      <th></th>\n",
       "    </tr>\n",
       "  </thead>\n",
       "  <tbody>\n",
       "    <tr>\n",
       "      <th>4208</th>\n",
       "      <td>1.0</td>\n",
       "      <td>0.0</td>\n",
       "    </tr>\n",
       "    <tr>\n",
       "      <th>4407</th>\n",
       "      <td>1.0</td>\n",
       "      <td>0.0</td>\n",
       "    </tr>\n",
       "    <tr>\n",
       "      <th>4411</th>\n",
       "      <td>1.0</td>\n",
       "      <td>0.0</td>\n",
       "    </tr>\n",
       "    <tr>\n",
       "      <th>4814</th>\n",
       "      <td>1.0</td>\n",
       "      <td>0.0</td>\n",
       "    </tr>\n",
       "    <tr>\n",
       "      <th>4577</th>\n",
       "      <td>1.0</td>\n",
       "      <td>0.0</td>\n",
       "    </tr>\n",
       "    <tr>\n",
       "      <th>4420</th>\n",
       "      <td>1.0</td>\n",
       "      <td>0.0</td>\n",
       "    </tr>\n",
       "    <tr>\n",
       "      <th>4571</th>\n",
       "      <td>1.0</td>\n",
       "      <td>0.0</td>\n",
       "    </tr>\n",
       "    <tr>\n",
       "      <th>4999</th>\n",
       "      <td>1.0</td>\n",
       "      <td>0.0</td>\n",
       "    </tr>\n",
       "    <tr>\n",
       "      <th>4427</th>\n",
       "      <td>1.0</td>\n",
       "      <td>0.0</td>\n",
       "    </tr>\n",
       "    <tr>\n",
       "      <th>5075</th>\n",
       "      <td>1.0</td>\n",
       "      <td>0.0</td>\n",
       "    </tr>\n",
       "  </tbody>\n",
       "</table>\n",
       "</div>"
      ],
      "text/plain": [
       "is_voted       0    1\n",
       "question_id          \n",
       "4208         1.0  0.0\n",
       "4407         1.0  0.0\n",
       "4411         1.0  0.0\n",
       "4814         1.0  0.0\n",
       "4577         1.0  0.0\n",
       "4420         1.0  0.0\n",
       "4571         1.0  0.0\n",
       "4999         1.0  0.0\n",
       "4427         1.0  0.0\n",
       "5075         1.0  0.0"
      ]
     },
     "execution_count": 29,
     "metadata": {},
     "output_type": "execute_result"
    }
   ],
   "source": [
    "# question_id별 is_voted=0 비율 계산\n",
    "question_vote_summary = questionpiece_df.groupby('question_id')['is_voted'].value_counts(normalize=True).unstack().fillna(0)\n",
    "question_vote_summary = question_vote_summary.sort_values(0, ascending=False)  # is_voted=0 비율 높은 순\n",
    "question_vote_summary.head(10)"
   ]
  },
  {
   "cell_type": "code",
   "execution_count": null,
   "id": "9aa45f9f",
   "metadata": {},
   "outputs": [],
   "source": []
  },
  {
   "cell_type": "code",
   "execution_count": 30,
   "id": "48c7a722",
   "metadata": {},
   "outputs": [
    {
     "data": {
      "text/plain": [
       "question_id\n",
       "4427    3\n",
       "4814    2\n",
       "4577    1\n",
       "4999    1\n",
       "4420    1\n",
       "5075    1\n",
       "4411    1\n",
       "4407    1\n",
       "4571    1\n",
       "4208    1\n",
       "Name: count, dtype: int64"
      ]
     },
     "execution_count": 30,
     "metadata": {},
     "output_type": "execute_result"
    }
   ],
   "source": [
    "# 비정상 질문 ID 리스트\n",
    "abnormal_qids = [4208, 4407, 4411, 4814, 4577, 4420, 4571, 4999, 4427, 5075]\n",
    "\n",
    "# 각 question_id에 대한 전체 수 (혹시 복수 row가 있는지)\n",
    "questionpiece_df[questionpiece_df['question_id'].isin(abnormal_qids)]['question_id'].value_counts()\n"
   ]
  },
  {
   "cell_type": "code",
   "execution_count": 31,
   "id": "d9824071",
   "metadata": {},
   "outputs": [
    {
     "data": {
      "text/html": [
       "<div>\n",
       "<style scoped>\n",
       "    .dataframe tbody tr th:only-of-type {\n",
       "        vertical-align: middle;\n",
       "    }\n",
       "\n",
       "    .dataframe tbody tr th {\n",
       "        vertical-align: top;\n",
       "    }\n",
       "\n",
       "    .dataframe thead th {\n",
       "        text-align: right;\n",
       "    }\n",
       "</style>\n",
       "<table border=\"1\" class=\"dataframe\">\n",
       "  <thead>\n",
       "    <tr style=\"text-align: right;\">\n",
       "      <th></th>\n",
       "      <th>question_id</th>\n",
       "      <th>created_at</th>\n",
       "    </tr>\n",
       "  </thead>\n",
       "  <tbody>\n",
       "    <tr>\n",
       "      <th>1251212</th>\n",
       "      <td>4577</td>\n",
       "      <td>2023-06-25 07:31:39</td>\n",
       "    </tr>\n",
       "    <tr>\n",
       "      <th>1252013</th>\n",
       "      <td>4999</td>\n",
       "      <td>2023-06-27 05:21:53</td>\n",
       "    </tr>\n",
       "    <tr>\n",
       "      <th>1252568</th>\n",
       "      <td>4420</td>\n",
       "      <td>2023-06-28 23:24:58</td>\n",
       "    </tr>\n",
       "    <tr>\n",
       "      <th>1254102</th>\n",
       "      <td>4814</td>\n",
       "      <td>2023-07-04 10:45:05</td>\n",
       "    </tr>\n",
       "    <tr>\n",
       "      <th>1255511</th>\n",
       "      <td>4427</td>\n",
       "      <td>2023-07-11 09:36:42</td>\n",
       "    </tr>\n",
       "    <tr>\n",
       "      <th>1256566</th>\n",
       "      <td>5075</td>\n",
       "      <td>2023-07-13 14:48:46</td>\n",
       "    </tr>\n",
       "    <tr>\n",
       "      <th>1257220</th>\n",
       "      <td>4411</td>\n",
       "      <td>2023-07-18 10:36:38</td>\n",
       "    </tr>\n",
       "    <tr>\n",
       "      <th>1259977</th>\n",
       "      <td>4814</td>\n",
       "      <td>2023-08-08 03:20:21</td>\n",
       "    </tr>\n",
       "    <tr>\n",
       "      <th>1260863</th>\n",
       "      <td>4407</td>\n",
       "      <td>2023-08-19 15:41:54</td>\n",
       "    </tr>\n",
       "    <tr>\n",
       "      <th>1260996</th>\n",
       "      <td>4427</td>\n",
       "      <td>2023-08-20 15:31:54</td>\n",
       "    </tr>\n",
       "    <tr>\n",
       "      <th>1261202</th>\n",
       "      <td>4571</td>\n",
       "      <td>2023-08-26 08:27:50</td>\n",
       "    </tr>\n",
       "    <tr>\n",
       "      <th>1261532</th>\n",
       "      <td>4427</td>\n",
       "      <td>2023-09-09 03:04:55</td>\n",
       "    </tr>\n",
       "    <tr>\n",
       "      <th>1264192</th>\n",
       "      <td>4208</td>\n",
       "      <td>2023-11-28 15:49:02</td>\n",
       "    </tr>\n",
       "  </tbody>\n",
       "</table>\n",
       "</div>"
      ],
      "text/plain": [
       "         question_id          created_at\n",
       "1251212         4577 2023-06-25 07:31:39\n",
       "1252013         4999 2023-06-27 05:21:53\n",
       "1252568         4420 2023-06-28 23:24:58\n",
       "1254102         4814 2023-07-04 10:45:05\n",
       "1255511         4427 2023-07-11 09:36:42\n",
       "1256566         5075 2023-07-13 14:48:46\n",
       "1257220         4411 2023-07-18 10:36:38\n",
       "1259977         4814 2023-08-08 03:20:21\n",
       "1260863         4407 2023-08-19 15:41:54\n",
       "1260996         4427 2023-08-20 15:31:54\n",
       "1261202         4571 2023-08-26 08:27:50\n",
       "1261532         4427 2023-09-09 03:04:55\n",
       "1264192         4208 2023-11-28 15:49:02"
      ]
     },
     "execution_count": 31,
     "metadata": {},
     "output_type": "execute_result"
    }
   ],
   "source": [
    "questionpiece_df[questionpiece_df['question_id'].isin(abnormal_qids)][['question_id', 'created_at']]\n"
   ]
  },
  {
   "cell_type": "code",
   "execution_count": 32,
   "id": "77629428",
   "metadata": {},
   "outputs": [
    {
     "data": {
      "text/plain": [
       "question_id\n",
       "4427    3\n",
       "4814    2\n",
       "4407    1\n",
       "4208    1\n",
       "4577    1\n",
       "4571    1\n",
       "4999    1\n",
       "5075    1\n",
       "4420    1\n",
       "4411    1\n",
       "Name: count, dtype: int64"
      ]
     },
     "execution_count": 32,
     "metadata": {},
     "output_type": "execute_result"
    }
   ],
   "source": [
    "# 전체 데이터에서 해당 question_id가 1회만 등장했는지 확인\n",
    "question_counts = questionpiece_df['question_id'].value_counts()\n",
    "question_counts[question_counts.index.isin(abnormal_qids)]\n"
   ]
  },
  {
   "cell_type": "code",
   "execution_count": null,
   "id": "9921fb0f",
   "metadata": {},
   "outputs": [],
   "source": []
  },
  {
   "cell_type": "code",
   "execution_count": 33,
   "id": "a25612b5",
   "metadata": {},
   "outputs": [
    {
     "name": "stdout",
     "output_type": "stream",
     "text": [
      "비정상 row 수: 507\n"
     ]
    },
    {
     "data": {
      "text/html": [
       "<div>\n",
       "<style scoped>\n",
       "    .dataframe tbody tr th:only-of-type {\n",
       "        vertical-align: middle;\n",
       "    }\n",
       "\n",
       "    .dataframe tbody tr th {\n",
       "        vertical-align: top;\n",
       "    }\n",
       "\n",
       "    .dataframe thead th {\n",
       "        text-align: right;\n",
       "    }\n",
       "</style>\n",
       "<table border=\"1\" class=\"dataframe\">\n",
       "  <thead>\n",
       "    <tr style=\"text-align: right;\">\n",
       "      <th></th>\n",
       "      <th>id</th>\n",
       "      <th>is_voted</th>\n",
       "      <th>created_at</th>\n",
       "      <th>question_id</th>\n",
       "      <th>is_skipped</th>\n",
       "      <th>date</th>\n",
       "    </tr>\n",
       "  </thead>\n",
       "  <tbody>\n",
       "    <tr>\n",
       "      <th>1243788</th>\n",
       "      <td>199688765</td>\n",
       "      <td>0</td>\n",
       "      <td>2023-06-15 12:13:09</td>\n",
       "      <td>4496</td>\n",
       "      <td>0</td>\n",
       "      <td>2023-06-15</td>\n",
       "    </tr>\n",
       "    <tr>\n",
       "      <th>1243792</th>\n",
       "      <td>199688769</td>\n",
       "      <td>0</td>\n",
       "      <td>2023-06-15 12:13:09</td>\n",
       "      <td>4195</td>\n",
       "      <td>0</td>\n",
       "      <td>2023-06-15</td>\n",
       "    </tr>\n",
       "    <tr>\n",
       "      <th>1250750</th>\n",
       "      <td>202548937</td>\n",
       "      <td>0</td>\n",
       "      <td>2023-06-24 12:09:37</td>\n",
       "      <td>4662</td>\n",
       "      <td>0</td>\n",
       "      <td>2023-06-24</td>\n",
       "    </tr>\n",
       "    <tr>\n",
       "      <th>1250753</th>\n",
       "      <td>202548940</td>\n",
       "      <td>0</td>\n",
       "      <td>2023-06-24 12:09:37</td>\n",
       "      <td>4195</td>\n",
       "      <td>0</td>\n",
       "      <td>2023-06-24</td>\n",
       "    </tr>\n",
       "    <tr>\n",
       "      <th>1250809</th>\n",
       "      <td>202582971</td>\n",
       "      <td>0</td>\n",
       "      <td>2023-06-24 13:27:53</td>\n",
       "      <td>4938</td>\n",
       "      <td>0</td>\n",
       "      <td>2023-06-24</td>\n",
       "    </tr>\n",
       "  </tbody>\n",
       "</table>\n",
       "</div>"
      ],
      "text/plain": [
       "                id  is_voted          created_at  question_id  is_skipped  \\\n",
       "1243788  199688765         0 2023-06-15 12:13:09         4496           0   \n",
       "1243792  199688769         0 2023-06-15 12:13:09         4195           0   \n",
       "1250750  202548937         0 2023-06-24 12:09:37         4662           0   \n",
       "1250753  202548940         0 2023-06-24 12:09:37         4195           0   \n",
       "1250809  202582971         0 2023-06-24 13:27:53         4938           0   \n",
       "\n",
       "               date  \n",
       "1243788  2023-06-15  \n",
       "1243792  2023-06-15  \n",
       "1250750  2023-06-24  \n",
       "1250753  2023-06-24  \n",
       "1250809  2023-06-24  "
      ]
     },
     "execution_count": 33,
     "metadata": {},
     "output_type": "execute_result"
    }
   ],
   "source": [
    "# 1. question_id별 등장 횟수\n",
    "qid_counts = questionpiece_df['question_id'].value_counts()\n",
    "\n",
    "# 2. 전체 row 수가 3개 이하인 question_id만 추출\n",
    "sparse_qids = qid_counts[qid_counts <= 3].index\n",
    "\n",
    "# 3. 비정상 조건 필터링\n",
    "abnormal_rows = questionpiece_df[\n",
    "    (questionpiece_df['question_id'].isin(sparse_qids)) &\n",
    "    (questionpiece_df['is_voted'] == 0) &\n",
    "    (questionpiece_df['is_skipped'] == 0)\n",
    "]\n",
    "\n",
    "# 결과 확인\n",
    "print(f\"비정상 row 수: {len(abnormal_rows)}\")\n",
    "abnormal_rows.head()"
   ]
  },
  {
   "cell_type": "code",
   "execution_count": null,
   "id": "b607128c",
   "metadata": {},
   "outputs": [],
   "source": []
  },
  {
   "cell_type": "code",
   "execution_count": 38,
   "id": "e33f5bc7",
   "metadata": {},
   "outputs": [
    {
     "data": {
      "text/plain": [
       "((1265476, 6),\n",
       " Index(['id', 'is_voted', 'created_at', 'question_id', 'is_skipped', 'user_id'], dtype='object'),\n",
       "        id  is_voted          created_at  question_id  is_skipped  user_id\n",
       " 0  998458         1 2023-04-28 12:27:22          252           0      NaN\n",
       " 1  998459         1 2023-04-28 12:27:22          244           0      NaN\n",
       " 2  998460         1 2023-04-28 12:27:22          183           0      NaN\n",
       " 3  998461         1 2023-04-28 12:27:22          101           0      NaN\n",
       " 4  998462         1 2023-04-28 12:27:22          209           0      NaN)"
      ]
     },
     "execution_count": 38,
     "metadata": {},
     "output_type": "execute_result"
    }
   ],
   "source": [
    "\n",
    "questionpiece_df = pd.read_parquet('gs://final_project_enuyu/data/final_project/votes/polls_questionpiece.parquet')\n",
    "userquestionrecord_df = pd.read_parquet('gs://final_project_enuyu/data/final_project/votes/accounts_userquestionrecord.parquet')\n",
    "\n",
    "# Merge on 'id' to bring in user_id\n",
    "merged_df = questionpiece_df.merge(userquestionrecord_df[['id', 'user_id']], on='id', how='left')\n",
    "\n",
    "# Show merged result\n",
    "merged_df.shape, merged_df.columns, merged_df.head()\n"
   ]
  },
  {
   "cell_type": "code",
   "execution_count": 40,
   "id": "da368225",
   "metadata": {},
   "outputs": [
    {
     "name": "stdout",
     "output_type": "stream",
     "text": [
      "       user_id  skip_count  total_questions  skip_rate\n",
      "532   931987.0           1                1        1.0\n",
      "0     840473.0           0                1        0.0\n",
      "801  1135238.0           0                1        0.0\n",
      "858  1150928.0           0                1        0.0\n",
      "857  1150297.0           0                1        0.0\n",
      "856  1149594.0           0                1        0.0\n",
      "855  1148848.0           0                3        0.0\n",
      "854  1148730.0           0                1        0.0\n",
      "853  1148514.0           0                1        0.0\n",
      "852  1148486.0           0                1        0.0\n"
     ]
    }
   ],
   "source": [
    "# 1. 병합 키 생성 (question_id + created_at)\n",
    "questionpiece_df['merge_key'] = questionpiece_df['question_id'].astype(str) + \"_\" + questionpiece_df['created_at'].astype(str)\n",
    "userquestionrecord_df['merge_key'] = userquestionrecord_df['question_id'].astype(str) + \"_\" + userquestionrecord_df['created_at'].astype(str)\n",
    "\n",
    "# 2. 병합: merge_key 기준으로 user_id 붙이기\n",
    "merged_df = questionpiece_df.merge(userquestionrecord_df[['merge_key', 'user_id']], on='merge_key', how='left')\n",
    "\n",
    "# 3. 유저별 스킵 통계 계산\n",
    "user_skip_stats = merged_df.groupby('user_id')['is_skipped'].agg(['sum', 'count']).reset_index()\n",
    "user_skip_stats.columns = ['user_id', 'skip_count', 'total_questions']\n",
    "user_skip_stats['skip_rate'] = user_skip_stats['skip_count'] / user_skip_stats['total_questions']\n",
    "\n",
    "# 4. 스킵 많이 한 유저 상위 10명 추출\n",
    "top_skippers = user_skip_stats.sort_values(by='skip_count', ascending=False).head(10)\n",
    "print(top_skippers)\n"
   ]
  },
  {
   "cell_type": "code",
   "execution_count": 46,
   "id": "d5d1552a",
   "metadata": {},
   "outputs": [
    {
     "name": "stdout",
     "output_type": "stream",
     "text": [
      "      user_id  skip_count  total_questions  skip_rate\n",
      "532  931987.0           1                1        1.0\n"
     ]
    }
   ],
   "source": [
    "# 스킵 횟수가 1회 이상인 유저만 추출\n",
    "skipped_users = user_skip_stats[user_skip_stats['skip_count'] > 0]\n",
    "\n",
    "# 스킵 횟수 기준 상위 유저 10명 보기\n",
    "top_skippers = skipped_users.sort_values(by='skip_count', ascending=False).head(10)\n",
    "print(top_skippers)\n"
   ]
  },
  {
   "cell_type": "code",
   "execution_count": null,
   "id": "e15b68a3",
   "metadata": {},
   "outputs": [],
   "source": []
  },
  {
   "cell_type": "code",
   "execution_count": null,
   "id": "f261fa6f",
   "metadata": {},
   "outputs": [],
   "source": []
  }
 ],
 "metadata": {
  "kernelspec": {
   "display_name": "Python 3",
   "language": "python",
   "name": "python3"
  },
  "language_info": {
   "codemirror_mode": {
    "name": "ipython",
    "version": 3
   },
   "file_extension": ".py",
   "mimetype": "text/x-python",
   "name": "python",
   "nbconvert_exporter": "python",
   "pygments_lexer": "ipython3",
   "version": "3.12.3"
  }
 },
 "nbformat": 4,
 "nbformat_minor": 5
}
