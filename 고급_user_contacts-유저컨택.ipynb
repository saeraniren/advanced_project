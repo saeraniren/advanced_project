{
 "cells": [
  {
   "cell_type": "code",
   "execution_count": 1,
   "id": "6cb46c57",
   "metadata": {},
   "outputs": [],
   "source": [
    "import pandas as pd\n",
    "import numpy as np\n",
    "import matplotlib.pyplot as plt\n",
    "import seaborn as sns\n",
    "import os\n",
    "import matplotlib.font_manager as fm\n",
    "import koreanize_matplotlib\n",
    "\n",
    "# 폰트 경로 확인 및 설정\n",
    "font_path = '/usr/share/fonts/truetype/nanum/NanumGothic.ttf'  # 설치된 폰트 경로\n",
    "font_name = fm.FontProperties(fname=font_path).get_name()\n",
    "plt.rc('font', family=font_name)\n",
    "\n",
    "# 한글 깨짐 방지 - 마이너스 기호 처리\n",
    "plt.rcParams['axes.unicode_minus'] = False"
   ]
  },
  {
   "cell_type": "code",
   "execution_count": 3,
   "id": "c391c95f",
   "metadata": {},
   "outputs": [
    {
     "data": {
      "text/html": [
       "<div>\n",
       "<style scoped>\n",
       "    .dataframe tbody tr th:only-of-type {\n",
       "        vertical-align: middle;\n",
       "    }\n",
       "\n",
       "    .dataframe tbody tr th {\n",
       "        vertical-align: top;\n",
       "    }\n",
       "\n",
       "    .dataframe thead th {\n",
       "        text-align: right;\n",
       "    }\n",
       "</style>\n",
       "<table border=\"1\" class=\"dataframe\">\n",
       "  <thead>\n",
       "    <tr style=\"text-align: right;\">\n",
       "      <th></th>\n",
       "      <th>id</th>\n",
       "      <th>contacts_count</th>\n",
       "      <th>invite_user_id_list</th>\n",
       "      <th>user_id</th>\n",
       "    </tr>\n",
       "  </thead>\n",
       "  <tbody>\n",
       "    <tr>\n",
       "      <th>0</th>\n",
       "      <td>259</td>\n",
       "      <td>30</td>\n",
       "      <td>[]</td>\n",
       "      <td>1167696</td>\n",
       "    </tr>\n",
       "    <tr>\n",
       "      <th>1</th>\n",
       "      <td>1756</td>\n",
       "      <td>79</td>\n",
       "      <td>[]</td>\n",
       "      <td>863169</td>\n",
       "    </tr>\n",
       "    <tr>\n",
       "      <th>2</th>\n",
       "      <td>13742</td>\n",
       "      <td>21</td>\n",
       "      <td>[854615]</td>\n",
       "      <td>857205</td>\n",
       "    </tr>\n",
       "    <tr>\n",
       "      <th>3</th>\n",
       "      <td>13754</td>\n",
       "      <td>29</td>\n",
       "      <td>[]</td>\n",
       "      <td>851431</td>\n",
       "    </tr>\n",
       "    <tr>\n",
       "      <th>4</th>\n",
       "      <td>13756</td>\n",
       "      <td>28</td>\n",
       "      <td>[849318]</td>\n",
       "      <td>855476</td>\n",
       "    </tr>\n",
       "    <tr>\n",
       "      <th>...</th>\n",
       "      <td>...</td>\n",
       "      <td>...</td>\n",
       "      <td>...</td>\n",
       "      <td>...</td>\n",
       "    </tr>\n",
       "    <tr>\n",
       "      <th>5058</th>\n",
       "      <td>12981327</td>\n",
       "      <td>7</td>\n",
       "      <td>[]</td>\n",
       "      <td>1480714</td>\n",
       "    </tr>\n",
       "    <tr>\n",
       "      <th>5059</th>\n",
       "      <td>13391623</td>\n",
       "      <td>1</td>\n",
       "      <td>[]</td>\n",
       "      <td>1506575</td>\n",
       "    </tr>\n",
       "    <tr>\n",
       "      <th>5060</th>\n",
       "      <td>14465598</td>\n",
       "      <td>0</td>\n",
       "      <td>[]</td>\n",
       "      <td>1577436</td>\n",
       "    </tr>\n",
       "    <tr>\n",
       "      <th>5061</th>\n",
       "      <td>14579987</td>\n",
       "      <td>0</td>\n",
       "      <td>[]</td>\n",
       "      <td>1582145</td>\n",
       "    </tr>\n",
       "    <tr>\n",
       "      <th>5062</th>\n",
       "      <td>14608267</td>\n",
       "      <td>0</td>\n",
       "      <td>[]</td>\n",
       "      <td>1583629</td>\n",
       "    </tr>\n",
       "  </tbody>\n",
       "</table>\n",
       "<p>5063 rows × 4 columns</p>\n",
       "</div>"
      ],
      "text/plain": [
       "            id  contacts_count invite_user_id_list  user_id\n",
       "0          259              30                  []  1167696\n",
       "1         1756              79                  []   863169\n",
       "2        13742              21            [854615]   857205\n",
       "3        13754              29                  []   851431\n",
       "4        13756              28            [849318]   855476\n",
       "...        ...             ...                 ...      ...\n",
       "5058  12981327               7                  []  1480714\n",
       "5059  13391623               1                  []  1506575\n",
       "5060  14465598               0                  []  1577436\n",
       "5061  14579987               0                  []  1582145\n",
       "5062  14608267               0                  []  1583629\n",
       "\n",
       "[5063 rows x 4 columns]"
      ]
     },
     "execution_count": 3,
     "metadata": {},
     "output_type": "execute_result"
    }
   ],
   "source": [
    "# 서비스 계정 키 경로 설정\n",
    "os.environ[\"GOOGLE_APPLICATION_CREDENTIALS\"] = r\"/home/eunyu/sprintda05-eunyu-a9946f7dea9c.json\"\n",
    "# GCS의 Parquet 파일 경로\n",
    "gcs_path = 'gs://final_project_enuyu/data/final_project/votes/accounts_user_contacts.parquet'\n",
    "\n",
    "# 데이터 불러오기\n",
    "user_contacts_df = pd.read_parquet(gcs_path, engine='pyarrow')\n",
    "user_contacts_df"
   ]
  },
  {
   "cell_type": "code",
   "execution_count": 4,
   "id": "d342f39f",
   "metadata": {},
   "outputs": [
    {
     "name": "stdout",
     "output_type": "stream",
     "text": [
      "<class 'pandas.core.frame.DataFrame'>\n",
      "RangeIndex: 5063 entries, 0 to 5062\n",
      "Data columns (total 4 columns):\n",
      " #   Column               Non-Null Count  Dtype \n",
      "---  ------               --------------  ----- \n",
      " 0   id                   5063 non-null   int64 \n",
      " 1   contacts_count       5063 non-null   int64 \n",
      " 2   invite_user_id_list  5063 non-null   object\n",
      " 3   user_id              5063 non-null   int64 \n",
      "dtypes: int64(3), object(1)\n",
      "memory usage: 158.3+ KB\n"
     ]
    }
   ],
   "source": [
    "user_contacts_df.info()"
   ]
  },
  {
   "cell_type": "code",
   "execution_count": 5,
   "id": "f6440b02",
   "metadata": {},
   "outputs": [
    {
     "data": {
      "text/plain": [
       "id                     0\n",
       "contacts_count         0\n",
       "invite_user_id_list    0\n",
       "user_id                0\n",
       "dtype: int64"
      ]
     },
     "execution_count": 5,
     "metadata": {},
     "output_type": "execute_result"
    }
   ],
   "source": [
    "user_contacts_df.isnull().sum()"
   ]
  },
  {
   "cell_type": "code",
   "execution_count": 7,
   "id": "230d6cb1",
   "metadata": {},
   "outputs": [
    {
     "data": {
      "text/html": [
       "<div>\n",
       "<style scoped>\n",
       "    .dataframe tbody tr th:only-of-type {\n",
       "        vertical-align: middle;\n",
       "    }\n",
       "\n",
       "    .dataframe tbody tr th {\n",
       "        vertical-align: top;\n",
       "    }\n",
       "\n",
       "    .dataframe thead th {\n",
       "        text-align: right;\n",
       "    }\n",
       "</style>\n",
       "<table border=\"1\" class=\"dataframe\">\n",
       "  <thead>\n",
       "    <tr style=\"text-align: right;\">\n",
       "      <th></th>\n",
       "      <th>id</th>\n",
       "      <th>contacts_count</th>\n",
       "      <th>invite_user_id_list</th>\n",
       "      <th>user_id</th>\n",
       "    </tr>\n",
       "  </thead>\n",
       "  <tbody>\n",
       "    <tr>\n",
       "      <th>count</th>\n",
       "      <td>5.063000e+03</td>\n",
       "      <td>5063.000000</td>\n",
       "      <td>5063</td>\n",
       "      <td>5.063000e+03</td>\n",
       "    </tr>\n",
       "    <tr>\n",
       "      <th>unique</th>\n",
       "      <td>NaN</td>\n",
       "      <td>NaN</td>\n",
       "      <td>928</td>\n",
       "      <td>NaN</td>\n",
       "    </tr>\n",
       "    <tr>\n",
       "      <th>top</th>\n",
       "      <td>NaN</td>\n",
       "      <td>NaN</td>\n",
       "      <td>[]</td>\n",
       "      <td>NaN</td>\n",
       "    </tr>\n",
       "    <tr>\n",
       "      <th>freq</th>\n",
       "      <td>NaN</td>\n",
       "      <td>NaN</td>\n",
       "      <td>3905</td>\n",
       "      <td>NaN</td>\n",
       "    </tr>\n",
       "    <tr>\n",
       "      <th>mean</th>\n",
       "      <td>2.840907e+06</td>\n",
       "      <td>25.986174</td>\n",
       "      <td>NaN</td>\n",
       "      <td>1.114789e+06</td>\n",
       "    </tr>\n",
       "    <tr>\n",
       "      <th>std</th>\n",
       "      <td>2.895428e+06</td>\n",
       "      <td>13.601434</td>\n",
       "      <td>NaN</td>\n",
       "      <td>2.187702e+05</td>\n",
       "    </tr>\n",
       "    <tr>\n",
       "      <th>min</th>\n",
       "      <td>2.590000e+02</td>\n",
       "      <td>0.000000</td>\n",
       "      <td>NaN</td>\n",
       "      <td>8.473750e+05</td>\n",
       "    </tr>\n",
       "    <tr>\n",
       "      <th>25%</th>\n",
       "      <td>7.475970e+05</td>\n",
       "      <td>16.000000</td>\n",
       "      <td>NaN</td>\n",
       "      <td>8.855155e+05</td>\n",
       "    </tr>\n",
       "    <tr>\n",
       "      <th>50%</th>\n",
       "      <td>1.580135e+06</td>\n",
       "      <td>24.000000</td>\n",
       "      <td>NaN</td>\n",
       "      <td>1.119987e+06</td>\n",
       "    </tr>\n",
       "    <tr>\n",
       "      <th>75%</th>\n",
       "      <td>4.201598e+06</td>\n",
       "      <td>34.000000</td>\n",
       "      <td>NaN</td>\n",
       "      <td>1.278826e+06</td>\n",
       "    </tr>\n",
       "    <tr>\n",
       "      <th>max</th>\n",
       "      <td>1.460827e+07</td>\n",
       "      <td>114.000000</td>\n",
       "      <td>NaN</td>\n",
       "      <td>1.583629e+06</td>\n",
       "    </tr>\n",
       "  </tbody>\n",
       "</table>\n",
       "</div>"
      ],
      "text/plain": [
       "                  id  contacts_count invite_user_id_list       user_id\n",
       "count   5.063000e+03     5063.000000                5063  5.063000e+03\n",
       "unique           NaN             NaN                 928           NaN\n",
       "top              NaN             NaN                  []           NaN\n",
       "freq             NaN             NaN                3905           NaN\n",
       "mean    2.840907e+06       25.986174                 NaN  1.114789e+06\n",
       "std     2.895428e+06       13.601434                 NaN  2.187702e+05\n",
       "min     2.590000e+02        0.000000                 NaN  8.473750e+05\n",
       "25%     7.475970e+05       16.000000                 NaN  8.855155e+05\n",
       "50%     1.580135e+06       24.000000                 NaN  1.119987e+06\n",
       "75%     4.201598e+06       34.000000                 NaN  1.278826e+06\n",
       "max     1.460827e+07      114.000000                 NaN  1.583629e+06"
      ]
     },
     "execution_count": 7,
     "metadata": {},
     "output_type": "execute_result"
    }
   ],
   "source": [
    "user_contacts_df.describe(include='all')"
   ]
  },
  {
   "cell_type": "code",
   "execution_count": null,
   "id": "a7b46cae",
   "metadata": {},
   "outputs": [],
   "source": []
  },
  {
   "cell_type": "markdown",
   "id": "a7cc532c",
   "metadata": {},
   "source": [
    "#### 연락처 수"
   ]
  },
  {
   "cell_type": "code",
   "execution_count": 8,
   "id": "f54781f5",
   "metadata": {},
   "outputs": [
    {
     "data": {
      "image/png": "[encoded data removed]",
      "text/plain": [
       "<Figure size 1000x400 with 1 Axes>"
      ]
     },
     "metadata": {},
     "output_type": "display_data"
    },
    {
     "name": "stdout",
     "output_type": "stream",
     "text": [
      "이상치 수: 87\n"
     ]
    }
   ],
   "source": [
    "plt.figure(figsize=(10, 4))\n",
    "sns.histplot(user_contacts_df['contacts_count'], bins=30, kde=True)\n",
    "plt.title('contacts_count 분포')\n",
    "plt.show()\n",
    "\n",
    "# 이상치 확인\n",
    "q1 = user_contacts_df['contacts_count'].quantile(0.25)\n",
    "q3 = user_contacts_df['contacts_count'].quantile(0.75)\n",
    "iqr = q3 - q1\n",
    "outlier_cond = (user_contacts_df['contacts_count'] < (q1 - 1.5 * iqr)) | (user_contacts_df['contacts_count'] > (q3 + 1.5 * iqr))\n",
    "print(\"이상치 수:\", outlier_cond.sum())"
   ]
  },
  {
   "cell_type": "code",
   "execution_count": 11,
   "id": "d7e95774",
   "metadata": {},
   "outputs": [
    {
     "data": {
      "image/png": "[encoded data removed]",
      "text/plain": [
       "<Figure size 1000x200 with 1 Axes>"
      ]
     },
     "metadata": {},
     "output_type": "display_data"
    }
   ],
   "source": [
    "\n",
    "plt.figure(figsize=(10, 2))\n",
    "sns.boxplot(x=user_contacts_df['contacts_count'], color='skyblue')\n",
    "plt.title('contacts_count 이상치 박스플롯')\n",
    "plt.xlabel('contacts_count')\n",
    "plt.show()\n"
   ]
  },
  {
   "cell_type": "code",
   "execution_count": 12,
   "id": "c573c419",
   "metadata": {},
   "outputs": [
    {
     "data": {
      "text/html": [
       "<div>\n",
       "<style scoped>\n",
       "    .dataframe tbody tr th:only-of-type {\n",
       "        vertical-align: middle;\n",
       "    }\n",
       "\n",
       "    .dataframe tbody tr th {\n",
       "        vertical-align: top;\n",
       "    }\n",
       "\n",
       "    .dataframe thead th {\n",
       "        text-align: right;\n",
       "    }\n",
       "</style>\n",
       "<table border=\"1\" class=\"dataframe\">\n",
       "  <thead>\n",
       "    <tr style=\"text-align: right;\">\n",
       "      <th></th>\n",
       "      <th>user_id</th>\n",
       "      <th>contacts_count</th>\n",
       "    </tr>\n",
       "  </thead>\n",
       "  <tbody>\n",
       "    <tr>\n",
       "      <th>35</th>\n",
       "      <td>873573</td>\n",
       "      <td>114</td>\n",
       "    </tr>\n",
       "    <tr>\n",
       "      <th>380</th>\n",
       "      <td>877693</td>\n",
       "      <td>107</td>\n",
       "    </tr>\n",
       "    <tr>\n",
       "      <th>1152</th>\n",
       "      <td>947480</td>\n",
       "      <td>99</td>\n",
       "    </tr>\n",
       "    <tr>\n",
       "      <th>1303</th>\n",
       "      <td>1266116</td>\n",
       "      <td>92</td>\n",
       "    </tr>\n",
       "    <tr>\n",
       "      <th>917</th>\n",
       "      <td>875213</td>\n",
       "      <td>92</td>\n",
       "    </tr>\n",
       "  </tbody>\n",
       "</table>\n",
       "</div>"
      ],
      "text/plain": [
       "      user_id  contacts_count\n",
       "35     873573             114\n",
       "380    877693             107\n",
       "1152   947480              99\n",
       "1303  1266116              92\n",
       "917    875213              92"
      ]
     },
     "execution_count": 12,
     "metadata": {},
     "output_type": "execute_result"
    }
   ],
   "source": [
    "# 이상치 유저 목록\n",
    "outliers = user_contacts_df[outlier_cond].sort_values(by='contacts_count', ascending=False)\n",
    "outliers[['user_id', 'contacts_count']].head()"
   ]
  },
  {
   "cell_type": "code",
   "execution_count": 13,
   "id": "ff757836",
   "metadata": {},
   "outputs": [
    {
     "name": "stdout",
     "output_type": "stream",
     "text": [
      "is_outlier\n",
      "False    0.317323\n",
      "True     1.241379\n",
      "Name: invite_user_count, dtype: float64\n",
      "is_outlier  invite_user_id_list_empty\n",
      "False       True                         0.775723\n",
      "            False                        0.224277\n",
      "True        True                         0.517241\n",
      "            False                        0.482759\n",
      "Name: proportion, dtype: float64\n"
     ]
    },
    {
     "data": {
      "image/png": "[encoded data removed]",
      "text/plain": [
       "<Figure size 1000x400 with 1 Axes>"
      ]
     },
     "metadata": {},
     "output_type": "display_data"
    }
   ],
   "source": [
    "# 이상치 기준 설정\n",
    "q1 = user_contacts_df['contacts_count'].quantile(0.25)\n",
    "q3 = user_contacts_df['contacts_count'].quantile(0.75)\n",
    "iqr = q3 - q1\n",
    "outlier_cutoff = q3 + 1.5 * iqr\n",
    "\n",
    "# 이상치 여부 컬럼 생성\n",
    "user_contacts_df['is_outlier'] = user_contacts_df['contacts_count'] > outlier_cutoff\n",
    "\n",
    "# 1. 초대한 유저 수 평균 비교\n",
    "print(user_contacts_df.groupby('is_outlier')['invite_user_count'].mean())\n",
    "\n",
    "# 2. 초대 여부(빈 리스트 여부) 비율\n",
    "print(user_contacts_df.groupby('is_outlier')['invite_user_id_list_empty'].value_counts(normalize=True))\n",
    "\n",
    "# 3. 시각화 비교\n",
    "import seaborn as sns\n",
    "import matplotlib.pyplot as plt\n",
    "\n",
    "plt.figure(figsize=(10, 4))\n",
    "sns.boxplot(data=user_contacts_df, x='is_outlier', y='invite_user_count')\n",
    "plt.title('이상치 여부에 따른 초대 유저 수 비교')\n",
    "plt.xlabel('is_outlier (연락처 이상치)')\n",
    "plt.ylabel('invite_user_count')\n",
    "plt.show()"
   ]
  },
  {
   "cell_type": "markdown",
   "id": "7ceaf505",
   "metadata": {},
   "source": [
    " 1. 초대 유저 수 평균 (invite_user_count)\n",
    "- 일반 유저: 평균 0.32명\n",
    "- 이상치 유저: 평균 1.24명\n",
    "                 \n",
    "이상치 유저는 일반 유저보다 약 4배 더 많은 유저를 초대하고 있음          "
   ]
  },
  {
   "cell_type": "markdown",
   "id": "b4bfed07",
   "metadata": {},
   "source": [
    "2. 초대 여부 (invite_user_id_list_empty)\n",
    "- 일반 유저 중 초대한 비율: 22.4%\n",
    "- 이상치 유저 중 초대한 비율: 48.3%\n",
    "                \n",
    "이상치 유저는 초대를 한 비율이 2배 이상 높음                                  \n",
    "→ 초대 기능을 더 자주, 활발히 사용                     "
   ]
  },
  {
   "cell_type": "markdown",
   "id": "00ca9e02",
   "metadata": {},
   "source": [
    "- 일반 유저는 대부분 초대를 거의 안 함\n",
    "- 이상치 유저는 일부 유저가 5명 이상 초대"
   ]
  },
  {
   "cell_type": "markdown",
   "id": "a2013cea",
   "metadata": {},
   "source": [
    "#### 초대한 유저 리스트"
   ]
  },
  {
   "cell_type": "code",
   "execution_count": 9,
   "id": "908f435c",
   "metadata": {},
   "outputs": [
    {
     "name": "stdout",
     "output_type": "stream",
     "text": [
      "invite_user_id_list_empty\n",
      "True     3905\n",
      "False    1158\n",
      "Name: count, dtype: int64\n"
     ]
    },
    {
     "data": {
      "text/plain": [
       "count    5063.000000\n",
       "mean        0.333202\n",
       "std         0.752303\n",
       "min         0.000000\n",
       "25%         0.000000\n",
       "50%         0.000000\n",
       "75%         0.000000\n",
       "max        10.000000\n",
       "Name: invite_user_count, dtype: float64"
      ]
     },
     "execution_count": 9,
     "metadata": {},
     "output_type": "execute_result"
    }
   ],
   "source": [
    "# 리스트가 빈 값인지 여부\n",
    "user_contacts_df['invite_user_id_list_empty'] = user_contacts_df['invite_user_id_list'].apply(lambda x: x == '[]')\n",
    "print(user_contacts_df['invite_user_id_list_empty'].value_counts())\n",
    "\n",
    "# 리스트 길이(초대한 유저 수 추정)\n",
    "user_contacts_df['invite_user_count'] = user_contacts_df['invite_user_id_list'].apply(lambda x: 0 if x == '[]' else len(eval(x)))\n",
    "user_contacts_df['invite_user_count'].describe()\n"
   ]
  },
  {
   "cell_type": "markdown",
   "id": "436cfc98",
   "metadata": {},
   "source": [
    "1. invite_user_id_list_empty\n",
    "- True (빈 리스트): 3905명 (77.1%)\n",
    "- False (초대한 적 있음): 1158명 (22.9%)\n",
    "대부분의 유저가 초대를 하지 않음           \n",
    "               \n",
    "2. invite_user_count (초대한 유저 수)\n",
    "- 평균: 약 0.33명\n",
    "- 최댓값: 10명\n",
    "- 75% 지점: 0 → 상위 25%만 초대를 한 경험 있음\n"
   ]
  },
  {
   "cell_type": "code",
   "execution_count": null,
   "id": "72685f6a",
   "metadata": {},
   "outputs": [],
   "source": []
  },
  {
   "cell_type": "markdown",
   "id": "be3f7473",
   "metadata": {},
   "source": [
    "#### user_id별 contacts_count 분포"
   ]
  },
  {
   "cell_type": "code",
   "execution_count": 10,
   "id": "3304856a",
   "metadata": {},
   "outputs": [
    {
     "name": "stdout",
     "output_type": "stream",
     "text": [
      "      user_id  contacts_count\n",
      "35     873573             114\n",
      "380    877693             107\n",
      "1152   947480              99\n",
      "917    875213              92\n",
      "1303  1266116              92\n",
      "1205   948166              89\n",
      "3630  1303869              83\n",
      "2781   915445              82\n",
      "2441  1145662              82\n",
      "4400  1274312              81\n"
     ]
    }
   ],
   "source": [
    "top_users = user_contacts_df.sort_values('contacts_count', ascending=False).head(10)\n",
    "print(top_users[['user_id', 'contacts_count']])"
   ]
  },
  {
   "cell_type": "code",
   "execution_count": null,
   "id": "79ea30cf",
   "metadata": {},
   "outputs": [],
   "source": []
  },
  {
   "cell_type": "code",
   "execution_count": null,
   "id": "57301df8",
   "metadata": {},
   "outputs": [],
   "source": []
  }
 ],
 "metadata": {
  "kernelspec": {
   "display_name": "Python 3",
   "language": "python",
   "name": "python3"
  },
  "language_info": {
   "codemirror_mode": {
    "name": "ipython",
    "version": 3
   },
   "file_extension": ".py",
   "mimetype": "text/x-python",
   "name": "python",
   "nbconvert_exporter": "python",
   "pygments_lexer": "ipython3",
   "version": "3.12.3"
  }
 },
 "nbformat": 4,
 "nbformat_minor": 5
}
