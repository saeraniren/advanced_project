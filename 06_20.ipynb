version https://git-lfs.github.com/spec/v1
oid sha256:528183b3cebffe6af76fc383eb29a8be4646192a289b00a74c6258f5416459c0
size 62921
