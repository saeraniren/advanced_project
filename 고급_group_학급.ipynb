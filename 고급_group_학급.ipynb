{
 "cells": [
  {
   "cell_type": "code",
   "execution_count": 1,
   "id": "4e823bf3",
   "metadata": {},
   "outputs": [],
   "source": [
    "import pandas as pd\n",
    "import numpy as np\n",
    "import matplotlib.pyplot as plt\n",
    "import seaborn as sns\n",
    "import os\n",
    "import matplotlib.font_manager as fm\n",
    "import koreanize_matplotlib\n",
    "\n",
    "# 폰트 경로 확인 및 설정\n",
    "font_path = '/usr/share/fonts/truetype/nanum/NanumGothic.ttf'  # 설치된 폰트 경로\n",
    "font_name = fm.FontProperties(fname=font_path).get_name()\n",
    "plt.rc('font', family=font_name)\n",
    "\n",
    "# 한글 깨짐 방지 - 마이너스 기호 처리\n",
    "plt.rcParams['axes.unicode_minus'] = False"
   ]
  },
  {
   "cell_type": "code",
   "execution_count": 2,
   "id": "c5f1e6df",
   "metadata": {},
   "outputs": [
    {
     "data": {
      "text/html": [
       "<div>\n",
       "<style scoped>\n",
       "    .dataframe tbody tr th:only-of-type {\n",
       "        vertical-align: middle;\n",
       "    }\n",
       "\n",
       "    .dataframe tbody tr th {\n",
       "        vertical-align: top;\n",
       "    }\n",
       "\n",
       "    .dataframe thead th {\n",
       "        text-align: right;\n",
       "    }\n",
       "</style>\n",
       "<table border=\"1\" class=\"dataframe\">\n",
       "  <thead>\n",
       "    <tr style=\"text-align: right;\">\n",
       "      <th></th>\n",
       "      <th>id</th>\n",
       "      <th>grade</th>\n",
       "      <th>class_num</th>\n",
       "      <th>school_id</th>\n",
       "    </tr>\n",
       "  </thead>\n",
       "  <tbody>\n",
       "    <tr>\n",
       "      <th>0</th>\n",
       "      <td>1</td>\n",
       "      <td>1</td>\n",
       "      <td>1</td>\n",
       "      <td>1</td>\n",
       "    </tr>\n",
       "    <tr>\n",
       "      <th>1</th>\n",
       "      <td>8</td>\n",
       "      <td>3</td>\n",
       "      <td>2</td>\n",
       "      <td>1</td>\n",
       "    </tr>\n",
       "    <tr>\n",
       "      <th>2</th>\n",
       "      <td>9</td>\n",
       "      <td>3</td>\n",
       "      <td>3</td>\n",
       "      <td>1</td>\n",
       "    </tr>\n",
       "    <tr>\n",
       "      <th>3</th>\n",
       "      <td>10</td>\n",
       "      <td>2</td>\n",
       "      <td>2</td>\n",
       "      <td>1</td>\n",
       "    </tr>\n",
       "    <tr>\n",
       "      <th>4</th>\n",
       "      <td>11</td>\n",
       "      <td>2</td>\n",
       "      <td>3</td>\n",
       "      <td>1</td>\n",
       "    </tr>\n",
       "    <tr>\n",
       "      <th>...</th>\n",
       "      <td>...</td>\n",
       "      <td>...</td>\n",
       "      <td>...</td>\n",
       "      <td>...</td>\n",
       "    </tr>\n",
       "    <tr>\n",
       "      <th>84510</th>\n",
       "      <td>84542</td>\n",
       "      <td>3</td>\n",
       "      <td>2</td>\n",
       "      <td>5107</td>\n",
       "    </tr>\n",
       "    <tr>\n",
       "      <th>84511</th>\n",
       "      <td>84543</td>\n",
       "      <td>2</td>\n",
       "      <td>7</td>\n",
       "      <td>3487</td>\n",
       "    </tr>\n",
       "    <tr>\n",
       "      <th>84512</th>\n",
       "      <td>84544</td>\n",
       "      <td>3</td>\n",
       "      <td>1</td>\n",
       "      <td>5043</td>\n",
       "    </tr>\n",
       "    <tr>\n",
       "      <th>84513</th>\n",
       "      <td>84545</td>\n",
       "      <td>2</td>\n",
       "      <td>7</td>\n",
       "      <td>416</td>\n",
       "    </tr>\n",
       "    <tr>\n",
       "      <th>84514</th>\n",
       "      <td>84546</td>\n",
       "      <td>3</td>\n",
       "      <td>11</td>\n",
       "      <td>2240</td>\n",
       "    </tr>\n",
       "  </tbody>\n",
       "</table>\n",
       "<p>84515 rows × 4 columns</p>\n",
       "</div>"
      ],
      "text/plain": [
       "          id  grade  class_num  school_id\n",
       "0          1      1          1          1\n",
       "1          8      3          2          1\n",
       "2          9      3          3          1\n",
       "3         10      2          2          1\n",
       "4         11      2          3          1\n",
       "...      ...    ...        ...        ...\n",
       "84510  84542      3          2       5107\n",
       "84511  84543      2          7       3487\n",
       "84512  84544      3          1       5043\n",
       "84513  84545      2          7        416\n",
       "84514  84546      3         11       2240\n",
       "\n",
       "[84515 rows x 4 columns]"
      ]
     },
     "execution_count": 2,
     "metadata": {},
     "output_type": "execute_result"
    }
   ],
   "source": [
    "import os\n",
    "\n",
    "# 서비스 계정 키 경로 설정\n",
    "os.environ[\"GOOGLE_APPLICATION_CREDENTIALS\"] = r\"/home/eunyu/sprintda05-eunyu-a9946f7dea9c.json\"\n",
    "\n",
    "# GCS의 Parquet 파일 경로\n",
    "gcs_path = 'gs://final_project_enuyu/data/final_project/votes/accounts_group.parquet'\n",
    "\n",
    "# 데이터 불러오기\n",
    "group_df = pd.read_parquet(gcs_path, engine='pyarrow')\n",
    "group_df"
   ]
  },
  {
   "cell_type": "code",
   "execution_count": 21,
   "id": "936c8089",
   "metadata": {},
   "outputs": [
    {
     "name": "stdout",
     "output_type": "stream",
     "text": [
      "<class 'pandas.core.frame.DataFrame'>\n",
      "RangeIndex: 84515 entries, 0 to 84514\n",
      "Data columns (total 4 columns):\n",
      " #   Column     Non-Null Count  Dtype\n",
      "---  ------     --------------  -----\n",
      " 0   id         84515 non-null  int64\n",
      " 1   grade      84515 non-null  int64\n",
      " 2   class_num  84515 non-null  int64\n",
      " 3   school_id  84515 non-null  int64\n",
      "dtypes: int64(4)\n",
      "memory usage: 2.6 MB\n"
     ]
    }
   ],
   "source": [
    "group_df.info()"
   ]
  },
  {
   "cell_type": "code",
   "execution_count": 3,
   "id": "6c95cafb",
   "metadata": {},
   "outputs": [
    {
     "data": {
      "text/plain": [
       "id           int64\n",
       "grade        int64\n",
       "class_num    int64\n",
       "school_id    int64\n",
       "dtype: object"
      ]
     },
     "execution_count": 3,
     "metadata": {},
     "output_type": "execute_result"
    }
   ],
   "source": [
    "group_df.dtypes"
   ]
  },
  {
   "cell_type": "code",
   "execution_count": 4,
   "id": "d9383080",
   "metadata": {},
   "outputs": [
    {
     "data": {
      "text/plain": [
       "id           0\n",
       "grade        0\n",
       "class_num    0\n",
       "school_id    0\n",
       "dtype: int64"
      ]
     },
     "execution_count": 4,
     "metadata": {},
     "output_type": "execute_result"
    }
   ],
   "source": [
    "group_df.isnull().sum()"
   ]
  },
  {
   "cell_type": "code",
   "execution_count": 5,
   "id": "9a4b152b",
   "metadata": {},
   "outputs": [
    {
     "data": {
      "text/html": [
       "<div>\n",
       "<style scoped>\n",
       "    .dataframe tbody tr th:only-of-type {\n",
       "        vertical-align: middle;\n",
       "    }\n",
       "\n",
       "    .dataframe tbody tr th {\n",
       "        vertical-align: top;\n",
       "    }\n",
       "\n",
       "    .dataframe thead th {\n",
       "        text-align: right;\n",
       "    }\n",
       "</style>\n",
       "<table border=\"1\" class=\"dataframe\">\n",
       "  <thead>\n",
       "    <tr style=\"text-align: right;\">\n",
       "      <th></th>\n",
       "      <th>id</th>\n",
       "      <th>grade</th>\n",
       "      <th>class_num</th>\n",
       "      <th>school_id</th>\n",
       "    </tr>\n",
       "  </thead>\n",
       "  <tbody>\n",
       "    <tr>\n",
       "      <th>count</th>\n",
       "      <td>84515.000000</td>\n",
       "      <td>84515.000000</td>\n",
       "      <td>84515.000000</td>\n",
       "      <td>84515.000000</td>\n",
       "    </tr>\n",
       "    <tr>\n",
       "      <th>mean</th>\n",
       "      <td>42279.376087</td>\n",
       "      <td>2.113992</td>\n",
       "      <td>5.318606</td>\n",
       "      <td>3079.496468</td>\n",
       "    </tr>\n",
       "    <tr>\n",
       "      <th>std</th>\n",
       "      <td>24400.962630</td>\n",
       "      <td>0.754896</td>\n",
       "      <td>4.089901</td>\n",
       "      <td>1675.036093</td>\n",
       "    </tr>\n",
       "    <tr>\n",
       "      <th>min</th>\n",
       "      <td>1.000000</td>\n",
       "      <td>1.000000</td>\n",
       "      <td>0.000000</td>\n",
       "      <td>1.000000</td>\n",
       "    </tr>\n",
       "    <tr>\n",
       "      <th>25%</th>\n",
       "      <td>21147.500000</td>\n",
       "      <td>2.000000</td>\n",
       "      <td>2.000000</td>\n",
       "      <td>1752.000000</td>\n",
       "    </tr>\n",
       "    <tr>\n",
       "      <th>50%</th>\n",
       "      <td>42279.000000</td>\n",
       "      <td>2.000000</td>\n",
       "      <td>4.000000</td>\n",
       "      <td>3023.000000</td>\n",
       "    </tr>\n",
       "    <tr>\n",
       "      <th>75%</th>\n",
       "      <td>63411.500000</td>\n",
       "      <td>3.000000</td>\n",
       "      <td>7.000000</td>\n",
       "      <td>4620.000000</td>\n",
       "    </tr>\n",
       "    <tr>\n",
       "      <th>max</th>\n",
       "      <td>84546.000000</td>\n",
       "      <td>20.000000</td>\n",
       "      <td>41.000000</td>\n",
       "      <td>5965.000000</td>\n",
       "    </tr>\n",
       "  </tbody>\n",
       "</table>\n",
       "</div>"
      ],
      "text/plain": [
       "                 id         grade     class_num     school_id\n",
       "count  84515.000000  84515.000000  84515.000000  84515.000000\n",
       "mean   42279.376087      2.113992      5.318606   3079.496468\n",
       "std    24400.962630      0.754896      4.089901   1675.036093\n",
       "min        1.000000      1.000000      0.000000      1.000000\n",
       "25%    21147.500000      2.000000      2.000000   1752.000000\n",
       "50%    42279.000000      2.000000      4.000000   3023.000000\n",
       "75%    63411.500000      3.000000      7.000000   4620.000000\n",
       "max    84546.000000     20.000000     41.000000   5965.000000"
      ]
     },
     "execution_count": 5,
     "metadata": {},
     "output_type": "execute_result"
    }
   ],
   "source": [
    "group_df.describe(include='all')"
   ]
  },
  {
   "cell_type": "markdown",
   "id": "cf0ffa1a",
   "metadata": {},
   "source": [
    "### 이상치"
   ]
  },
  {
   "cell_type": "code",
   "execution_count": 23,
   "id": "5458b454",
   "metadata": {},
   "outputs": [
    {
     "data": {
      "text/html": [
       "<div>\n",
       "<style scoped>\n",
       "    .dataframe tbody tr th:only-of-type {\n",
       "        vertical-align: middle;\n",
       "    }\n",
       "\n",
       "    .dataframe tbody tr th {\n",
       "        vertical-align: top;\n",
       "    }\n",
       "\n",
       "    .dataframe thead th {\n",
       "        text-align: right;\n",
       "    }\n",
       "</style>\n",
       "<table border=\"1\" class=\"dataframe\">\n",
       "  <thead>\n",
       "    <tr style=\"text-align: right;\">\n",
       "      <th></th>\n",
       "      <th>id</th>\n",
       "      <th>grade</th>\n",
       "      <th>class_num</th>\n",
       "      <th>school_id</th>\n",
       "    </tr>\n",
       "  </thead>\n",
       "  <tbody>\n",
       "    <tr>\n",
       "      <th>62234</th>\n",
       "      <td>62259</td>\n",
       "      <td>2</td>\n",
       "      <td>0</td>\n",
       "      <td>4348</td>\n",
       "    </tr>\n",
       "    <tr>\n",
       "      <th>62626</th>\n",
       "      <td>62651</td>\n",
       "      <td>2</td>\n",
       "      <td>0</td>\n",
       "      <td>1820</td>\n",
       "    </tr>\n",
       "    <tr>\n",
       "      <th>61622</th>\n",
       "      <td>61647</td>\n",
       "      <td>20</td>\n",
       "      <td>7</td>\n",
       "      <td>3867</td>\n",
       "    </tr>\n",
       "    <tr>\n",
       "      <th>70368</th>\n",
       "      <td>70394</td>\n",
       "      <td>1</td>\n",
       "      <td>41</td>\n",
       "      <td>736</td>\n",
       "    </tr>\n",
       "  </tbody>\n",
       "</table>\n",
       "</div>"
      ],
      "text/plain": [
       "          id  grade  class_num  school_id\n",
       "62234  62259      2          0       4348\n",
       "62626  62651      2          0       1820\n",
       "61622  61647     20          7       3867\n",
       "70368  70394      1         41        736"
      ]
     },
     "execution_count": 23,
     "metadata": {},
     "output_type": "execute_result"
    }
   ],
   "source": [
    "# 0반\n",
    "out_class_zero = group_df[group_df['class_num'] == 0]\n",
    "\n",
    "# 20학년\n",
    "out_grade_20 = group_df[group_df['grade'] == 20]\n",
    "\n",
    "# 30반 초과\n",
    "out_class_over_30 = group_df[group_df['class_num'] > 30]\n",
    "\n",
    "# 이상치 통합 확인 (중복 제거 포함)\n",
    "outliers_combined = pd.concat([out_class_zero, out_grade_20, out_class_over_30]).drop_duplicates()\n",
    "outliers_combined"
   ]
  },
  {
   "cell_type": "code",
   "execution_count": null,
   "id": "dc88db79",
   "metadata": {},
   "outputs": [],
   "source": []
  },
  {
   "cell_type": "code",
   "execution_count": 6,
   "id": "aa001344",
   "metadata": {},
   "outputs": [
    {
     "data": {
      "image/png": "[encoded data removed]",
      "text/plain": [
       "<Figure size 800x400 with 1 Axes>"
      ]
     },
     "metadata": {},
     "output_type": "display_data"
    },
    {
     "data": {
      "image/png": "[encoded data removed]",
      "text/plain": [
       "<Figure size 800x400 with 1 Axes>"
      ]
     },
     "metadata": {},
     "output_type": "display_data"
    },
    {
     "data": {
      "image/png": "[encoded data removed]",
      "text/plain": [
       "<Figure size 800x400 with 1 Axes>"
      ]
     },
     "metadata": {},
     "output_type": "display_data"
    }
   ],
   "source": [
    "\n",
    "cols = ['grade', 'class_num', 'school_id']\n",
    "for col in cols:\n",
    "    plt.figure(figsize=(8, 4))\n",
    "    sns.histplot(group_df[col], kde=True, bins=30)\n",
    "    plt.title(f'{col} 분포')\n",
    "    plt.xlabel(col)\n",
    "    plt.ylabel('Count')\n",
    "    plt.show()\n"
   ]
  },
  {
   "cell_type": "code",
   "execution_count": 7,
   "id": "791afd6e",
   "metadata": {},
   "outputs": [
    {
     "data": {
      "text/html": [
       "<div>\n",
       "<style scoped>\n",
       "    .dataframe tbody tr th:only-of-type {\n",
       "        vertical-align: middle;\n",
       "    }\n",
       "\n",
       "    .dataframe tbody tr th {\n",
       "        vertical-align: top;\n",
       "    }\n",
       "\n",
       "    .dataframe thead th {\n",
       "        text-align: right;\n",
       "    }\n",
       "</style>\n",
       "<table border=\"1\" class=\"dataframe\">\n",
       "  <thead>\n",
       "    <tr style=\"text-align: right;\">\n",
       "      <th></th>\n",
       "      <th>id</th>\n",
       "      <th>grade</th>\n",
       "      <th>class_num</th>\n",
       "      <th>school_id</th>\n",
       "    </tr>\n",
       "  </thead>\n",
       "  <tbody>\n",
       "    <tr>\n",
       "      <th>62234</th>\n",
       "      <td>62259</td>\n",
       "      <td>2</td>\n",
       "      <td>0</td>\n",
       "      <td>4348</td>\n",
       "    </tr>\n",
       "    <tr>\n",
       "      <th>62626</th>\n",
       "      <td>62651</td>\n",
       "      <td>2</td>\n",
       "      <td>0</td>\n",
       "      <td>1820</td>\n",
       "    </tr>\n",
       "  </tbody>\n",
       "</table>\n",
       "</div>"
      ],
      "text/plain": [
       "          id  grade  class_num  school_id\n",
       "62234  62259      2          0       4348\n",
       "62626  62651      2          0       1820"
      ]
     },
     "execution_count": 7,
     "metadata": {},
     "output_type": "execute_result"
    }
   ],
   "source": [
    "# grade가 13 이상인 데이터\n",
    "group_df[group_df['grade'] > 12]\n",
    "\n",
    "# class_num == 0인 데이터\n",
    "group_df[group_df['class_num'] == 0]"
   ]
  },
  {
   "cell_type": "code",
   "execution_count": null,
   "id": "94d0020f",
   "metadata": {},
   "outputs": [],
   "source": []
  },
  {
   "cell_type": "code",
   "execution_count": 10,
   "id": "611de2a7",
   "metadata": {},
   "outputs": [
    {
     "data": {
      "image/png": "[encoded data removed]",
      "text/plain": [
       "<Figure size 1000x400 with 1 Axes>"
      ]
     },
     "metadata": {},
     "output_type": "display_data"
    },
    {
     "data": {
      "text/plain": [
       "school_id\n",
       "3283    49\n",
       "1773    44\n",
       "1492    44\n",
       "2212    43\n",
       "271     43\n",
       "Name: count, dtype: int64"
      ]
     },
     "execution_count": 10,
     "metadata": {},
     "output_type": "execute_result"
    }
   ],
   "source": [
    "# 학교별 학생 수\n",
    "school_counts = group_df['school_id'].value_counts()\n",
    "\n",
    "plt.figure(figsize=(10, 4))\n",
    "sns.histplot(school_counts, bins=50)\n",
    "plt.title(\"학교별 학생 수 분포\")\n",
    "plt.xlabel(\"학생 수\")\n",
    "plt.ylabel(\"학교 수\")\n",
    "plt.show()\n",
    "\n",
    "school_counts.head()\n"
   ]
  },
  {
   "cell_type": "markdown",
   "id": "bbf9f00e",
   "metadata": {},
   "source": [
    "- 대다수의 학교는 학생 수가 5~25명 수준.\n",
    "- 0~5명인 소규모 학교도 많음.\n",
    "- school_id=3283은 49명으로 최다 학생 수를 보유한 학교"
   ]
  },
  {
   "cell_type": "code",
   "execution_count": null,
   "id": "9f71bbd8",
   "metadata": {},
   "outputs": [],
   "source": []
  },
  {
   "cell_type": "code",
   "execution_count": 24,
   "id": "533d432d",
   "metadata": {},
   "outputs": [
    {
     "name": "stdout",
     "output_type": "stream",
     "text": [
      "완전 동일한 중복 행 수: 0\n"
     ]
    },
    {
     "data": {
      "text/html": [
       "<div>\n",
       "<style scoped>\n",
       "    .dataframe tbody tr th:only-of-type {\n",
       "        vertical-align: middle;\n",
       "    }\n",
       "\n",
       "    .dataframe tbody tr th {\n",
       "        vertical-align: top;\n",
       "    }\n",
       "\n",
       "    .dataframe thead th {\n",
       "        text-align: right;\n",
       "    }\n",
       "</style>\n",
       "<table border=\"1\" class=\"dataframe\">\n",
       "  <thead>\n",
       "    <tr style=\"text-align: right;\">\n",
       "      <th></th>\n",
       "      <th>id</th>\n",
       "      <th>grade</th>\n",
       "      <th>class_num</th>\n",
       "      <th>school_id</th>\n",
       "    </tr>\n",
       "  </thead>\n",
       "  <tbody>\n",
       "  </tbody>\n",
       "</table>\n",
       "</div>"
      ],
      "text/plain": [
       "Empty DataFrame\n",
       "Columns: [id, grade, class_num, school_id]\n",
       "Index: []"
      ]
     },
     "execution_count": 24,
     "metadata": {},
     "output_type": "execute_result"
    }
   ],
   "source": [
    "# 전체 열 기준 완전 중복 행 확인\n",
    "duplicate_rows = group_df[group_df.duplicated(keep=False)]\n",
    "print(f\"완전 동일한 중복 행 수: {len(duplicate_rows)}\")\n",
    "duplicate_rows.head()"
   ]
  },
  {
   "cell_type": "code",
   "execution_count": null,
   "id": "d5c51a84",
   "metadata": {},
   "outputs": [],
   "source": []
  },
  {
   "cell_type": "code",
   "execution_count": null,
   "id": "5fff3506",
   "metadata": {},
   "outputs": [],
   "source": []
  }
 ],
 "metadata": {
  "kernelspec": {
   "display_name": "Python 3",
   "language": "python",
   "name": "python3"
  },
  "language_info": {
   "codemirror_mode": {
    "name": "ipython",
    "version": 3
   },
   "file_extension": ".py",
   "mimetype": "text/x-python",
   "name": "python",
   "nbconvert_exporter": "python",
   "pygments_lexer": "ipython3",
   "version": "3.12.3"
  }
 },
 "nbformat": 4,
 "nbformat_minor": 5
}
