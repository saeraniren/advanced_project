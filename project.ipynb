{
 "cells": [
  {
   "cell_type": "code",
   "execution_count": 1,
   "id": "e15a7959",
   "metadata": {},
   "outputs": [],
   "source": [
    "\n",
    "from google.cloud import storage\n",
    "import pandas as pd\n",
    "import pyarrow.parquet as pq\n",
    "import io\n",
    "\n",
    "# 한글 깨짐 방지 (옵션)\n",
    "import matplotlib.pyplot as plt\n",
    "import seaborn as sns\n",
    "\n",
    "plt.rcParams['font.family'] = 'Malgun Gothic'  # Windows\n",
    "plt.rcParams['axes.unicode_minus'] = False     # 마이너스 부호 깨짐 방지"
   ]
  },
  {
   "cell_type": "code",
   "execution_count": null,
   "id": "fd5aeea7",
   "metadata": {},
   "outputs": [],
   "source": [
    "# 폴더 안 파일 한꺼번에 불러오기\n",
    "\n",
    "from google.cloud import storage\n",
    "import pandas as pd\n",
    "import io\n",
    "\n",
    "client = storage.Client()\n",
    "bucket_name = 'sprint_project4'\n",
    "prefix = 'hackle/'  # 버킷 내 폴더 경로 (접두사)\n",
    "\n",
    "bucket = client.bucket(bucket_name)\n",
    "\n",
    "# prefix(폴더 경로)로 파일 리스트 조회\n",
    "blobs = bucket.list_blobs(prefix=prefix)\n",
    "\n",
    "dfs = []\n",
    "for blob in blobs:\n",
    "    if blob.name.endswith('.parquet'):  # parquet 파일만 처리\n",
    "        print(f'Downloading {blob.name}')\n",
    "        parquet_bytes = blob.download_as_bytes()\n",
    "        df = pd.read_parquet(io.BytesIO(parquet_bytes))\n",
    "        dfs.append(df)\n",
    "\n",
    "# 여러 DataFrame 병합 예시 (필요시)\n",
    "if dfs:\n",
    "    combined_df = pd.concat(dfs, ignore_index=True)\n",
    "    print(combined_df.head())\n",
    "else:\n",
    "    print(\"No parquet files found.\")"
   ]
  },
  {
   "cell_type": "code",
   "execution_count": null,
   "id": "2e736be1",
   "metadata": {},
   "outputs": [],
   "source": [
    "# 폴더 안 파일 한꺼번에 불러오기\n",
    "\n",
    "from google.cloud import storage\n",
    "import pandas as pd\n",
    "import io\n",
    "\n",
    "client = storage.Client()\n",
    "bucket_name = 'sprint_project4'\n",
    "prefix = 'votes/'  # 버킷 내 폴더 경로 (접두사)\n",
    "\n",
    "bucket = client.bucket(bucket_name)\n",
    "\n",
    "# prefix(폴더 경로)로 파일 리스트 조회\n",
    "blobs = bucket.list_blobs(prefix=prefix)\n",
    "\n",
    "dfs = []\n",
    "for blob in blobs:\n",
    "    if blob.name.endswith('.parquet'):  # parquet 파일만 처리\n",
    "        print(f'Downloading {blob.name}')\n",
    "        parquet_bytes = blob.download_as_bytes()\n",
    "        df = pd.read_parquet(io.BytesIO(parquet_bytes))\n",
    "        dfs.append(df)\n",
    "\n",
    "# 여러 DataFrame 병합 예시 (필요시)\n",
    "if dfs:\n",
    "    combined_df = pd.concat(dfs, ignore_index=True)\n",
    "    print(combined_df.head())\n",
    "else:\n",
    "    print(\"No parquet files found.\")"
   ]
  },
  {
   "cell_type": "markdown",
   "id": "18f3e402",
   "metadata": {},
   "source": [
    "### votes 테이블"
   ]
  },
  {
   "cell_type": "code",
   "execution_count": 2,
   "id": "c316fd47",
   "metadata": {},
   "outputs": [],
   "source": [
    "client = storage.Client()"
   ]
  },
  {
   "cell_type": "code",
   "execution_count": 3,
   "id": "3aef2ed2",
   "metadata": {},
   "outputs": [],
   "source": [
    "bucket_name = 'sprint_project4'\n",
    "file_path = \"sprint_project4/votes\""
   ]
  },
  {
   "cell_type": "code",
   "execution_count": 4,
   "id": "47358872",
   "metadata": {},
   "outputs": [],
   "source": [
    "bucket = client.bucket(bucket_name)\n",
    "blob = bucket.blob(file_path)"
   ]
  },
  {
   "cell_type": "markdown",
   "id": "ac1270d4",
   "metadata": {},
   "source": [
    "#### 1. accounts_attendance (출석 테이블)"
   ]
  },
  {
   "cell_type": "code",
   "execution_count": 6,
   "id": "ddff6b55",
   "metadata": {},
   "outputs": [
    {
     "data": {
      "text/html": [
       "<div>\n",
       "<style scoped>\n",
       "    .dataframe tbody tr th:only-of-type {\n",
       "        vertical-align: middle;\n",
       "    }\n",
       "\n",
       "    .dataframe tbody tr th {\n",
       "        vertical-align: top;\n",
       "    }\n",
       "\n",
       "    .dataframe thead th {\n",
       "        text-align: right;\n",
       "    }\n",
       "</style>\n",
       "<table border=\"1\" class=\"dataframe\">\n",
       "  <thead>\n",
       "    <tr style=\"text-align: right;\">\n",
       "      <th></th>\n",
       "      <th>id</th>\n",
       "      <th>attendance_date_list</th>\n",
       "      <th>user_id</th>\n",
       "    </tr>\n",
       "  </thead>\n",
       "  <tbody>\n",
       "    <tr>\n",
       "      <th>0</th>\n",
       "      <td>1</td>\n",
       "      <td>[\"2023-05-27\", \"2023-05-28\", \"2023-05-29\", \"20...</td>\n",
       "      <td>1446852</td>\n",
       "    </tr>\n",
       "    <tr>\n",
       "      <th>1</th>\n",
       "      <td>2</td>\n",
       "      <td>[\"2023-05-27\", \"2023-05-29\", \"2023-05-30\", \"20...</td>\n",
       "      <td>1359398</td>\n",
       "    </tr>\n",
       "    <tr>\n",
       "      <th>2</th>\n",
       "      <td>3</td>\n",
       "      <td>[\"2023-05-27\", \"2023-05-29\", \"2023-05-30\", \"20...</td>\n",
       "      <td>1501542</td>\n",
       "    </tr>\n",
       "    <tr>\n",
       "      <th>3</th>\n",
       "      <td>4</td>\n",
       "      <td>[\"2023-05-27\", \"2023-05-28\", \"2023-05-29\", \"20...</td>\n",
       "      <td>1507767</td>\n",
       "    </tr>\n",
       "    <tr>\n",
       "      <th>4</th>\n",
       "      <td>5</td>\n",
       "      <td>[\"2023-05-27\", \"2023-05-28\", \"2023-05-29\", \"20...</td>\n",
       "      <td>1287453</td>\n",
       "    </tr>\n",
       "  </tbody>\n",
       "</table>\n",
       "</div>"
      ],
      "text/plain": [
       "   id                               attendance_date_list  user_id\n",
       "0   1  [\"2023-05-27\", \"2023-05-28\", \"2023-05-29\", \"20...  1446852\n",
       "1   2  [\"2023-05-27\", \"2023-05-29\", \"2023-05-30\", \"20...  1359398\n",
       "2   3  [\"2023-05-27\", \"2023-05-29\", \"2023-05-30\", \"20...  1501542\n",
       "3   4  [\"2023-05-27\", \"2023-05-28\", \"2023-05-29\", \"20...  1507767\n",
       "4   5  [\"2023-05-27\", \"2023-05-28\", \"2023-05-29\", \"20...  1287453"
      ]
     },
     "execution_count": 6,
     "metadata": {},
     "output_type": "execute_result"
    }
   ],
   "source": [
    "blob = bucket.blob('votes/accounts_attendance.parquet')\n",
    "parquet_bytes = blob.download_as_bytes()\n",
    "attendance = pd.read_parquet(io.BytesIO(parquet_bytes))\n",
    "attendance.head()"
   ]
  },
  {
   "cell_type": "code",
   "execution_count": 7,
   "id": "b5588c28",
   "metadata": {},
   "outputs": [
    {
     "data": {
      "text/plain": [
       "(349637, 3)"
      ]
     },
     "execution_count": 7,
     "metadata": {},
     "output_type": "execute_result"
    }
   ],
   "source": [
    "attendance.shape"
   ]
  },
  {
   "cell_type": "code",
   "execution_count": 8,
   "id": "c0be219f",
   "metadata": {},
   "outputs": [
    {
     "name": "stdout",
     "output_type": "stream",
     "text": [
      "<class 'pandas.core.frame.DataFrame'>\n",
      "RangeIndex: 349637 entries, 0 to 349636\n",
      "Data columns (total 3 columns):\n",
      " #   Column                Non-Null Count   Dtype \n",
      "---  ------                --------------   ----- \n",
      " 0   id                    349637 non-null  int64 \n",
      " 1   attendance_date_list  349637 non-null  object\n",
      " 2   user_id               349637 non-null  int64 \n",
      "dtypes: int64(2), object(1)\n",
      "memory usage: 8.0+ MB\n"
     ]
    }
   ],
   "source": [
    "attendance.info()"
   ]
  },
  {
   "cell_type": "code",
   "execution_count": 9,
   "id": "0027f41e",
   "metadata": {},
   "outputs": [
    {
     "data": {
      "text/plain": [
       "349637"
      ]
     },
     "execution_count": 9,
     "metadata": {},
     "output_type": "execute_result"
    }
   ],
   "source": [
    "attendance['user_id'].nunique()"
   ]
  },
  {
   "cell_type": "code",
   "execution_count": 10,
   "id": "89de0a23",
   "metadata": {},
   "outputs": [
    {
     "name": "stdout",
     "output_type": "stream",
     "text": [
      "        user_id  attendance_count\n",
      "0       1446852                13\n",
      "1       1359398                33\n",
      "2       1501542                 9\n",
      "3       1507767                30\n",
      "4       1287453                31\n",
      "...         ...               ...\n",
      "349632   897005                 0\n",
      "349633  1407059                 1\n",
      "349634  1583727                 1\n",
      "349635  1392372                 1\n",
      "349636  1583730                 1\n",
      "\n",
      "[349637 rows x 2 columns]\n"
     ]
    }
   ],
   "source": [
    "# 출석률을 알아보자\n",
    "attendance_df = attendance.copy()\n",
    "\n",
    "import pandas as pd\n",
    "import ast\n",
    "\n",
    "\n",
    "# attendance_date_list 리스트 변환\n",
    "attendance_df['attendance_date_list'] = attendance_df['attendance_date_list'].apply(ast.literal_eval)\n",
    "\n",
    "# 출석 횟수 계산\n",
    "attendance_df['attendance_count'] = attendance_df['attendance_date_list'].apply(len)\n",
    "\n",
    "print(attendance_df[['user_id', 'attendance_count']])\n"
   ]
  },
  {
   "cell_type": "code",
   "execution_count": 11,
   "id": "1cb07c70",
   "metadata": {},
   "outputs": [
    {
     "data": {
      "text/plain": [
       "attendance_count\n",
       "1      78867\n",
       "2      46394\n",
       "3      32060\n",
       "4      24314\n",
       "0      20945\n",
       "       ...  \n",
       "194        1\n",
       "143        1\n",
       "249        1\n",
       "242        1\n",
       "190        1\n",
       "Name: count, Length: 209, dtype: int64"
      ]
     },
     "execution_count": 11,
     "metadata": {},
     "output_type": "execute_result"
    }
   ],
   "source": [
    "attendance_df['attendance_count'].value_counts()"
   ]
  },
  {
   "cell_type": "code",
   "execution_count": 12,
   "id": "43292692",
   "metadata": {},
   "outputs": [
    {
     "data": {
      "text/html": [
       "<div>\n",
       "<style scoped>\n",
       "    .dataframe tbody tr th:only-of-type {\n",
       "        vertical-align: middle;\n",
       "    }\n",
       "\n",
       "    .dataframe tbody tr th {\n",
       "        vertical-align: top;\n",
       "    }\n",
       "\n",
       "    .dataframe thead th {\n",
       "        text-align: right;\n",
       "    }\n",
       "</style>\n",
       "<table border=\"1\" class=\"dataframe\">\n",
       "  <thead>\n",
       "    <tr style=\"text-align: right;\">\n",
       "      <th></th>\n",
       "      <th>id</th>\n",
       "      <th>user_id</th>\n",
       "      <th>attendance_count</th>\n",
       "    </tr>\n",
       "  </thead>\n",
       "  <tbody>\n",
       "    <tr>\n",
       "      <th>count</th>\n",
       "      <td>349637.000000</td>\n",
       "      <td>3.496370e+05</td>\n",
       "      <td>349637.000000</td>\n",
       "    </tr>\n",
       "    <tr>\n",
       "      <th>mean</th>\n",
       "      <td>180550.143772</td>\n",
       "      <td>1.247187e+06</td>\n",
       "      <td>6.356098</td>\n",
       "    </tr>\n",
       "    <tr>\n",
       "      <th>std</th>\n",
       "      <td>104168.322237</td>\n",
       "      <td>2.127986e+05</td>\n",
       "      <td>9.158459</td>\n",
       "    </tr>\n",
       "    <tr>\n",
       "      <th>min</th>\n",
       "      <td>1.000000</td>\n",
       "      <td>8.321510e+05</td>\n",
       "      <td>0.000000</td>\n",
       "    </tr>\n",
       "    <tr>\n",
       "      <th>25%</th>\n",
       "      <td>90432.000000</td>\n",
       "      <td>1.065813e+06</td>\n",
       "      <td>1.000000</td>\n",
       "    </tr>\n",
       "    <tr>\n",
       "      <th>50%</th>\n",
       "      <td>180749.000000</td>\n",
       "      <td>1.261234e+06</td>\n",
       "      <td>3.000000</td>\n",
       "    </tr>\n",
       "    <tr>\n",
       "      <th>75%</th>\n",
       "      <td>270674.000000</td>\n",
       "      <td>1.437486e+06</td>\n",
       "      <td>8.000000</td>\n",
       "    </tr>\n",
       "    <tr>\n",
       "      <th>max</th>\n",
       "      <td>360505.000000</td>\n",
       "      <td>1.583730e+06</td>\n",
       "      <td>310.000000</td>\n",
       "    </tr>\n",
       "  </tbody>\n",
       "</table>\n",
       "</div>"
      ],
      "text/plain": [
       "                  id       user_id  attendance_count\n",
       "count  349637.000000  3.496370e+05     349637.000000\n",
       "mean   180550.143772  1.247187e+06          6.356098\n",
       "std    104168.322237  2.127986e+05          9.158459\n",
       "min         1.000000  8.321510e+05          0.000000\n",
       "25%     90432.000000  1.065813e+06          1.000000\n",
       "50%    180749.000000  1.261234e+06          3.000000\n",
       "75%    270674.000000  1.437486e+06          8.000000\n",
       "max    360505.000000  1.583730e+06        310.000000"
      ]
     },
     "execution_count": 12,
     "metadata": {},
     "output_type": "execute_result"
    }
   ],
   "source": [
    "attendance_df.describe()"
   ]
  },
  {
   "cell_type": "code",
   "execution_count": 13,
   "id": "fcefa9b3",
   "metadata": {},
   "outputs": [
    {
     "data": {
      "text/plain": [
       "310"
      ]
     },
     "execution_count": 13,
     "metadata": {},
     "output_type": "execute_result"
    }
   ],
   "source": [
    "# 출석률 75% 이상인 사용자들\n",
    "max_attendacne = attendance_df['attendance_count'].max()\n",
    "max_attendacne"
   ]
  },
  {
   "cell_type": "code",
   "execution_count": 14,
   "id": "3537845a",
   "metadata": {},
   "outputs": [
    {
     "name": "stdout",
     "output_type": "stream",
     "text": [
      "        user_id  attendance_count\n",
      "0       1446852                13\n",
      "1       1359398                33\n",
      "2       1501542                 9\n",
      "3       1507767                30\n",
      "4       1287453                31\n",
      "...         ...               ...\n",
      "349632   897005                 0\n",
      "349633  1407059                 1\n",
      "349634  1583727                 1\n",
      "349635  1392372                 1\n",
      "349636  1583730                 1\n",
      "\n",
      "[349620 rows x 2 columns]\n"
     ]
    }
   ],
   "source": [
    "attendance_75df = attendance_df[attendance_df['attendance_count'] < 0.75 * max_attendacne]\n",
    "\n",
    "print(attendance_75df[['user_id', 'attendance_count']])"
   ]
  },
  {
   "cell_type": "code",
   "execution_count": 15,
   "id": "c7d64cd9",
   "metadata": {},
   "outputs": [
    {
     "data": {
      "text/plain": [
       "349620"
      ]
     },
     "execution_count": 15,
     "metadata": {},
     "output_type": "execute_result"
    }
   ],
   "source": [
    "attendance_75df['user_id'].nunique()"
   ]
  },
  {
   "cell_type": "code",
   "execution_count": 16,
   "id": "386c2327",
   "metadata": {},
   "outputs": [
    {
     "data": {
      "text/html": [
       "<div>\n",
       "<style scoped>\n",
       "    .dataframe tbody tr th:only-of-type {\n",
       "        vertical-align: middle;\n",
       "    }\n",
       "\n",
       "    .dataframe tbody tr th {\n",
       "        vertical-align: top;\n",
       "    }\n",
       "\n",
       "    .dataframe thead th {\n",
       "        text-align: right;\n",
       "    }\n",
       "</style>\n",
       "<table border=\"1\" class=\"dataframe\">\n",
       "  <thead>\n",
       "    <tr style=\"text-align: right;\">\n",
       "      <th></th>\n",
       "      <th>id</th>\n",
       "      <th>user_id</th>\n",
       "      <th>attendance_count</th>\n",
       "    </tr>\n",
       "  </thead>\n",
       "  <tbody>\n",
       "    <tr>\n",
       "      <th>count</th>\n",
       "      <td>349620.000000</td>\n",
       "      <td>3.496200e+05</td>\n",
       "      <td>349620.000000</td>\n",
       "    </tr>\n",
       "    <tr>\n",
       "      <th>mean</th>\n",
       "      <td>180554.770991</td>\n",
       "      <td>1.247181e+06</td>\n",
       "      <td>6.343487</td>\n",
       "    </tr>\n",
       "    <tr>\n",
       "      <th>std</th>\n",
       "      <td>104166.650294</td>\n",
       "      <td>2.127989e+05</td>\n",
       "      <td>8.977426</td>\n",
       "    </tr>\n",
       "    <tr>\n",
       "      <th>min</th>\n",
       "      <td>1.000000</td>\n",
       "      <td>8.321510e+05</td>\n",
       "      <td>0.000000</td>\n",
       "    </tr>\n",
       "    <tr>\n",
       "      <th>25%</th>\n",
       "      <td>90439.750000</td>\n",
       "      <td>1.065794e+06</td>\n",
       "      <td>1.000000</td>\n",
       "    </tr>\n",
       "    <tr>\n",
       "      <th>50%</th>\n",
       "      <td>180754.500000</td>\n",
       "      <td>1.261218e+06</td>\n",
       "      <td>3.000000</td>\n",
       "    </tr>\n",
       "    <tr>\n",
       "      <th>75%</th>\n",
       "      <td>270677.250000</td>\n",
       "      <td>1.437476e+06</td>\n",
       "      <td>8.000000</td>\n",
       "    </tr>\n",
       "    <tr>\n",
       "      <th>max</th>\n",
       "      <td>360505.000000</td>\n",
       "      <td>1.583730e+06</td>\n",
       "      <td>230.000000</td>\n",
       "    </tr>\n",
       "  </tbody>\n",
       "</table>\n",
       "</div>"
      ],
      "text/plain": [
       "                  id       user_id  attendance_count\n",
       "count  349620.000000  3.496200e+05     349620.000000\n",
       "mean   180554.770991  1.247181e+06          6.343487\n",
       "std    104166.650294  2.127989e+05          8.977426\n",
       "min         1.000000  8.321510e+05          0.000000\n",
       "25%     90439.750000  1.065794e+06          1.000000\n",
       "50%    180754.500000  1.261218e+06          3.000000\n",
       "75%    270677.250000  1.437476e+06          8.000000\n",
       "max    360505.000000  1.583730e+06        230.000000"
      ]
     },
     "execution_count": 16,
     "metadata": {},
     "output_type": "execute_result"
    }
   ],
   "source": [
    "attendance_75df.describe()"
   ]
  },
  {
   "cell_type": "code",
   "execution_count": 17,
   "id": "98346cc2",
   "metadata": {},
   "outputs": [
    {
     "data": {
      "text/plain": [
       "id                      37\n",
       "attendance_date_list    37\n",
       "user_id                 37\n",
       "attendance_count        37\n",
       "dtype: int64"
      ]
     },
     "execution_count": 17,
     "metadata": {},
     "output_type": "execute_result"
    }
   ],
   "source": [
    "attendance_df[attendance_df['attendance_count'] >= 190].count()"
   ]
  },
  {
   "cell_type": "code",
   "execution_count": null,
   "id": "82a9b793",
   "metadata": {},
   "outputs": [],
   "source": []
  },
  {
   "cell_type": "markdown",
   "id": "1990cf6e",
   "metadata": {},
   "source": [
    "#### 2. accounts_blockrecord (차단 기록 테이블)"
   ]
  },
  {
   "cell_type": "code",
   "execution_count": 18,
   "id": "82001e6c",
   "metadata": {},
   "outputs": [
    {
     "data": {
      "text/html": [
       "<div>\n",
       "<style scoped>\n",
       "    .dataframe tbody tr th:only-of-type {\n",
       "        vertical-align: middle;\n",
       "    }\n",
       "\n",
       "    .dataframe tbody tr th {\n",
       "        vertical-align: top;\n",
       "    }\n",
       "\n",
       "    .dataframe thead th {\n",
       "        text-align: right;\n",
       "    }\n",
       "</style>\n",
       "<table border=\"1\" class=\"dataframe\">\n",
       "  <thead>\n",
       "    <tr style=\"text-align: right;\">\n",
       "      <th></th>\n",
       "      <th>id</th>\n",
       "      <th>reason</th>\n",
       "      <th>created_at</th>\n",
       "      <th>block_user_id</th>\n",
       "      <th>user_id</th>\n",
       "    </tr>\n",
       "  </thead>\n",
       "  <tbody>\n",
       "    <tr>\n",
       "      <th>0</th>\n",
       "      <td>1</td>\n",
       "      <td>그냥...</td>\n",
       "      <td>2023-05-04 23:01:53</td>\n",
       "      <td>867483</td>\n",
       "      <td>878476</td>\n",
       "    </tr>\n",
       "    <tr>\n",
       "      <th>1</th>\n",
       "      <td>2</td>\n",
       "      <td>친구 사이가 어색해짐</td>\n",
       "      <td>2023-05-05 01:17:08</td>\n",
       "      <td>867190</td>\n",
       "      <td>867564</td>\n",
       "    </tr>\n",
       "    <tr>\n",
       "      <th>2</th>\n",
       "      <td>3</td>\n",
       "      <td>나랑 관련 없는 질문을 자꾸 보냄</td>\n",
       "      <td>2023-05-05 01:50:55</td>\n",
       "      <td>875110</td>\n",
       "      <td>875261</td>\n",
       "    </tr>\n",
       "    <tr>\n",
       "      <th>3</th>\n",
       "      <td>6</td>\n",
       "      <td>그냥...</td>\n",
       "      <td>2023-05-05 05:21:52</td>\n",
       "      <td>883696</td>\n",
       "      <td>883511</td>\n",
       "    </tr>\n",
       "    <tr>\n",
       "      <th>4</th>\n",
       "      <td>7</td>\n",
       "      <td>그냥...</td>\n",
       "      <td>2023-05-05 06:40:34</td>\n",
       "      <td>871349</td>\n",
       "      <td>870177</td>\n",
       "    </tr>\n",
       "  </tbody>\n",
       "</table>\n",
       "</div>"
      ],
      "text/plain": [
       "   id              reason          created_at  block_user_id  user_id\n",
       "0   1               그냥... 2023-05-04 23:01:53         867483   878476\n",
       "1   2         친구 사이가 어색해짐 2023-05-05 01:17:08         867190   867564\n",
       "2   3  나랑 관련 없는 질문을 자꾸 보냄 2023-05-05 01:50:55         875110   875261\n",
       "3   6               그냥... 2023-05-05 05:21:52         883696   883511\n",
       "4   7               그냥... 2023-05-05 06:40:34         871349   870177"
      ]
     },
     "execution_count": 18,
     "metadata": {},
     "output_type": "execute_result"
    }
   ],
   "source": [
    "blob = bucket.blob('votes/accounts_blockrecord.parquet')\n",
    "parquet_bytes = blob.download_as_bytes()\n",
    "blockrecord = pd.read_parquet(io.BytesIO(parquet_bytes))\n",
    "blockrecord.head()"
   ]
  },
  {
   "cell_type": "code",
   "execution_count": 19,
   "id": "2ce7b3d8",
   "metadata": {},
   "outputs": [
    {
     "data": {
      "text/plain": [
       "(19482, 5)"
      ]
     },
     "execution_count": 19,
     "metadata": {},
     "output_type": "execute_result"
    }
   ],
   "source": [
    "blockrecord.shape"
   ]
  },
  {
   "cell_type": "code",
   "execution_count": 20,
   "id": "9ed93acb",
   "metadata": {},
   "outputs": [
    {
     "name": "stdout",
     "output_type": "stream",
     "text": [
      "<class 'pandas.core.frame.DataFrame'>\n",
      "RangeIndex: 19482 entries, 0 to 19481\n",
      "Data columns (total 5 columns):\n",
      " #   Column         Non-Null Count  Dtype         \n",
      "---  ------         --------------  -----         \n",
      " 0   id             19482 non-null  int64         \n",
      " 1   reason         19482 non-null  object        \n",
      " 2   created_at     19482 non-null  datetime64[ns]\n",
      " 3   block_user_id  19482 non-null  int64         \n",
      " 4   user_id        19482 non-null  int64         \n",
      "dtypes: datetime64[ns](1), int64(3), object(1)\n",
      "memory usage: 761.1+ KB\n"
     ]
    }
   ],
   "source": [
    "blockrecord.info()"
   ]
  },
  {
   "cell_type": "code",
   "execution_count": 21,
   "id": "a488539b",
   "metadata": {},
   "outputs": [
    {
     "data": {
      "text/plain": [
       "12552"
      ]
     },
     "execution_count": 21,
     "metadata": {},
     "output_type": "execute_result"
    }
   ],
   "source": [
    "blockrecord['user_id'].nunique()"
   ]
  },
  {
   "cell_type": "code",
   "execution_count": 22,
   "id": "3705cd5c",
   "metadata": {},
   "outputs": [
    {
     "data": {
      "text/plain": [
       "16240"
      ]
     },
     "execution_count": 22,
     "metadata": {},
     "output_type": "execute_result"
    }
   ],
   "source": [
    "blockrecord['block_user_id'].nunique()"
   ]
  },
  {
   "cell_type": "code",
   "execution_count": 23,
   "id": "c251abc8",
   "metadata": {},
   "outputs": [
    {
     "data": {
      "text/html": [
       "<div>\n",
       "<style scoped>\n",
       "    .dataframe tbody tr th:only-of-type {\n",
       "        vertical-align: middle;\n",
       "    }\n",
       "\n",
       "    .dataframe tbody tr th {\n",
       "        vertical-align: top;\n",
       "    }\n",
       "\n",
       "    .dataframe thead th {\n",
       "        text-align: right;\n",
       "    }\n",
       "</style>\n",
       "<table border=\"1\" class=\"dataframe\">\n",
       "  <thead>\n",
       "    <tr style=\"text-align: right;\">\n",
       "      <th></th>\n",
       "      <th>id</th>\n",
       "      <th>reason</th>\n",
       "      <th>created_at</th>\n",
       "      <th>block_user_id</th>\n",
       "      <th>user_id</th>\n",
       "    </tr>\n",
       "  </thead>\n",
       "  <tbody>\n",
       "    <tr>\n",
       "      <th>8</th>\n",
       "      <td>12</td>\n",
       "      <td>기타</td>\n",
       "      <td>2023-05-05 13:04:31</td>\n",
       "      <td>885794</td>\n",
       "      <td>879662</td>\n",
       "    </tr>\n",
       "    <tr>\n",
       "      <th>9</th>\n",
       "      <td>13</td>\n",
       "      <td>기타</td>\n",
       "      <td>2023-05-05 13:04:42</td>\n",
       "      <td>885794</td>\n",
       "      <td>879662</td>\n",
       "    </tr>\n",
       "    <tr>\n",
       "      <th>11</th>\n",
       "      <td>15</td>\n",
       "      <td>기타</td>\n",
       "      <td>2023-05-05 13:04:56</td>\n",
       "      <td>885794</td>\n",
       "      <td>879662</td>\n",
       "    </tr>\n",
       "    <tr>\n",
       "      <th>12</th>\n",
       "      <td>16</td>\n",
       "      <td>기타</td>\n",
       "      <td>2023-05-05 13:05:01</td>\n",
       "      <td>885794</td>\n",
       "      <td>879662</td>\n",
       "    </tr>\n",
       "    <tr>\n",
       "      <th>13</th>\n",
       "      <td>17</td>\n",
       "      <td>친구 사이가 어색해짐</td>\n",
       "      <td>2023-05-05 13:17:19</td>\n",
       "      <td>886605</td>\n",
       "      <td>881070</td>\n",
       "    </tr>\n",
       "    <tr>\n",
       "      <th>...</th>\n",
       "      <td>...</td>\n",
       "      <td>...</td>\n",
       "      <td>...</td>\n",
       "      <td>...</td>\n",
       "      <td>...</td>\n",
       "    </tr>\n",
       "    <tr>\n",
       "      <th>19227</th>\n",
       "      <td>24885</td>\n",
       "      <td>모르는 사람임</td>\n",
       "      <td>2023-08-15 18:38:38</td>\n",
       "      <td>992181</td>\n",
       "      <td>1072478</td>\n",
       "    </tr>\n",
       "    <tr>\n",
       "      <th>19228</th>\n",
       "      <td>24886</td>\n",
       "      <td>모르는 사람임</td>\n",
       "      <td>2023-08-15 18:38:41</td>\n",
       "      <td>992181</td>\n",
       "      <td>1072478</td>\n",
       "    </tr>\n",
       "    <tr>\n",
       "      <th>19240</th>\n",
       "      <td>24899</td>\n",
       "      <td>친구 사이가 어색해짐</td>\n",
       "      <td>2023-08-18 12:12:28</td>\n",
       "      <td>1500131</td>\n",
       "      <td>1365572</td>\n",
       "    </tr>\n",
       "    <tr>\n",
       "      <th>19295</th>\n",
       "      <td>25105</td>\n",
       "      <td>모르는 사람임</td>\n",
       "      <td>2023-09-11 14:09:18</td>\n",
       "      <td>1019326</td>\n",
       "      <td>976341</td>\n",
       "    </tr>\n",
       "    <tr>\n",
       "      <th>19296</th>\n",
       "      <td>25106</td>\n",
       "      <td>모르는 사람임</td>\n",
       "      <td>2023-09-11 14:09:27</td>\n",
       "      <td>1019326</td>\n",
       "      <td>976341</td>\n",
       "    </tr>\n",
       "  </tbody>\n",
       "</table>\n",
       "<p>1156 rows × 5 columns</p>\n",
       "</div>"
      ],
      "text/plain": [
       "          id       reason          created_at  block_user_id  user_id\n",
       "8         12           기타 2023-05-05 13:04:31         885794   879662\n",
       "9         13           기타 2023-05-05 13:04:42         885794   879662\n",
       "11        15           기타 2023-05-05 13:04:56         885794   879662\n",
       "12        16           기타 2023-05-05 13:05:01         885794   879662\n",
       "13        17  친구 사이가 어색해짐 2023-05-05 13:17:19         886605   881070\n",
       "...      ...          ...                 ...            ...      ...\n",
       "19227  24885      모르는 사람임 2023-08-15 18:38:38         992181  1072478\n",
       "19228  24886      모르는 사람임 2023-08-15 18:38:41         992181  1072478\n",
       "19240  24899  친구 사이가 어색해짐 2023-08-18 12:12:28        1500131  1365572\n",
       "19295  25105      모르는 사람임 2023-09-11 14:09:18        1019326   976341\n",
       "19296  25106      모르는 사람임 2023-09-11 14:09:27        1019326   976341\n",
       "\n",
       "[1156 rows x 5 columns]"
      ]
     },
     "execution_count": 23,
     "metadata": {},
     "output_type": "execute_result"
    }
   ],
   "source": [
    "# reason, block_user_id, user_id가 모두 중복이면?? 중복처리???\n",
    "blockrecord_duplicated = blockrecord[blockrecord.duplicated(subset=['reason', 'block_user_id', 'user_id'], keep=False)]\n",
    "blockrecord_duplicated"
   ]
  },
  {
   "cell_type": "code",
   "execution_count": 24,
   "id": "a2a2e7fb",
   "metadata": {},
   "outputs": [
    {
     "data": {
      "text/plain": [
       "401"
      ]
     },
     "execution_count": 24,
     "metadata": {},
     "output_type": "execute_result"
    }
   ],
   "source": [
    "# 유니크 유저 수\n",
    "blockrecord_duplicated['user_id'].nunique()"
   ]
  },
  {
   "cell_type": "code",
   "execution_count": 25,
   "id": "3af3fdb9",
   "metadata": {},
   "outputs": [
    {
     "data": {
      "text/plain": [
       "16240"
      ]
     },
     "execution_count": 25,
     "metadata": {},
     "output_type": "execute_result"
    }
   ],
   "source": [
    "# 차단당한 유저들\n",
    "blockrecord['block_user_id'].nunique()"
   ]
  },
  {
   "cell_type": "code",
   "execution_count": 26,
   "id": "fc70170a",
   "metadata": {},
   "outputs": [
    {
     "data": {
      "text/plain": [
       "reason\n",
       "모르는 사람임               9640\n",
       "친구 사이가 어색해짐           5805\n",
       "사칭 계정                 2022\n",
       "나랑 관련 없는 질문을 자꾸 보냄    1083\n",
       "너무 많은 양의 질문을 보냄        919\n",
       "기타                       7\n",
       "그냥...                    6\n",
       "Name: count, dtype: int64"
      ]
     },
     "execution_count": 26,
     "metadata": {},
     "output_type": "execute_result"
    }
   ],
   "source": [
    "# 유저들 차단당한 이유\n",
    "blockrecord['reason'].value_counts()"
   ]
  },
  {
   "cell_type": "markdown",
   "id": "0ae3b74b",
   "metadata": {},
   "source": [
    "##### 2-1. 여러 명을 차단한 유저"
   ]
  },
  {
   "cell_type": "code",
   "execution_count": 27,
   "id": "b3c4dacf",
   "metadata": {},
   "outputs": [
    {
     "data": {
      "text/html": [
       "<div>\n",
       "<style scoped>\n",
       "    .dataframe tbody tr th:only-of-type {\n",
       "        vertical-align: middle;\n",
       "    }\n",
       "\n",
       "    .dataframe tbody tr th {\n",
       "        vertical-align: top;\n",
       "    }\n",
       "\n",
       "    .dataframe thead th {\n",
       "        text-align: right;\n",
       "    }\n",
       "</style>\n",
       "<table border=\"1\" class=\"dataframe\">\n",
       "  <thead>\n",
       "    <tr style=\"text-align: right;\">\n",
       "      <th></th>\n",
       "      <th>id</th>\n",
       "      <th>reason</th>\n",
       "      <th>created_at</th>\n",
       "      <th>block_user_id</th>\n",
       "      <th>user_id</th>\n",
       "    </tr>\n",
       "  </thead>\n",
       "  <tbody>\n",
       "    <tr>\n",
       "      <th>7</th>\n",
       "      <td>11</td>\n",
       "      <td>친구 사이가 어색해짐</td>\n",
       "      <td>2023-05-05 12:19:37</td>\n",
       "      <td>885588</td>\n",
       "      <td>875490</td>\n",
       "    </tr>\n",
       "    <tr>\n",
       "      <th>8</th>\n",
       "      <td>12</td>\n",
       "      <td>기타</td>\n",
       "      <td>2023-05-05 13:04:31</td>\n",
       "      <td>885794</td>\n",
       "      <td>879662</td>\n",
       "    </tr>\n",
       "    <tr>\n",
       "      <th>9</th>\n",
       "      <td>13</td>\n",
       "      <td>기타</td>\n",
       "      <td>2023-05-05 13:04:42</td>\n",
       "      <td>885794</td>\n",
       "      <td>879662</td>\n",
       "    </tr>\n",
       "    <tr>\n",
       "      <th>10</th>\n",
       "      <td>14</td>\n",
       "      <td>그냥...</td>\n",
       "      <td>2023-05-05 13:04:52</td>\n",
       "      <td>885794</td>\n",
       "      <td>879662</td>\n",
       "    </tr>\n",
       "    <tr>\n",
       "      <th>11</th>\n",
       "      <td>15</td>\n",
       "      <td>기타</td>\n",
       "      <td>2023-05-05 13:04:56</td>\n",
       "      <td>885794</td>\n",
       "      <td>879662</td>\n",
       "    </tr>\n",
       "    <tr>\n",
       "      <th>...</th>\n",
       "      <td>...</td>\n",
       "      <td>...</td>\n",
       "      <td>...</td>\n",
       "      <td>...</td>\n",
       "      <td>...</td>\n",
       "    </tr>\n",
       "    <tr>\n",
       "      <th>19475</th>\n",
       "      <td>25353</td>\n",
       "      <td>사칭 계정</td>\n",
       "      <td>2024-04-05 08:14:55</td>\n",
       "      <td>871694</td>\n",
       "      <td>879416</td>\n",
       "    </tr>\n",
       "    <tr>\n",
       "      <th>19476</th>\n",
       "      <td>25354</td>\n",
       "      <td>사칭 계정</td>\n",
       "      <td>2024-04-05 08:15:00</td>\n",
       "      <td>876777</td>\n",
       "      <td>879416</td>\n",
       "    </tr>\n",
       "    <tr>\n",
       "      <th>19477</th>\n",
       "      <td>25355</td>\n",
       "      <td>사칭 계정</td>\n",
       "      <td>2024-04-05 08:15:03</td>\n",
       "      <td>875351</td>\n",
       "      <td>879416</td>\n",
       "    </tr>\n",
       "    <tr>\n",
       "      <th>19478</th>\n",
       "      <td>25356</td>\n",
       "      <td>친구 사이가 어색해짐</td>\n",
       "      <td>2024-04-25 09:28:19</td>\n",
       "      <td>1444256</td>\n",
       "      <td>1292346</td>\n",
       "    </tr>\n",
       "    <tr>\n",
       "      <th>19479</th>\n",
       "      <td>25357</td>\n",
       "      <td>친구 사이가 어색해짐</td>\n",
       "      <td>2024-04-25 09:28:24</td>\n",
       "      <td>1379126</td>\n",
       "      <td>1292346</td>\n",
       "    </tr>\n",
       "  </tbody>\n",
       "</table>\n",
       "<p>9663 rows × 5 columns</p>\n",
       "</div>"
      ],
      "text/plain": [
       "          id       reason          created_at  block_user_id  user_id\n",
       "7         11  친구 사이가 어색해짐 2023-05-05 12:19:37         885588   875490\n",
       "8         12           기타 2023-05-05 13:04:31         885794   879662\n",
       "9         13           기타 2023-05-05 13:04:42         885794   879662\n",
       "10        14        그냥... 2023-05-05 13:04:52         885794   879662\n",
       "11        15           기타 2023-05-05 13:04:56         885794   879662\n",
       "...      ...          ...                 ...            ...      ...\n",
       "19475  25353        사칭 계정 2024-04-05 08:14:55         871694   879416\n",
       "19476  25354        사칭 계정 2024-04-05 08:15:00         876777   879416\n",
       "19477  25355        사칭 계정 2024-04-05 08:15:03         875351   879416\n",
       "19478  25356  친구 사이가 어색해짐 2024-04-25 09:28:19        1444256  1292346\n",
       "19479  25357  친구 사이가 어색해짐 2024-04-25 09:28:24        1379126  1292346\n",
       "\n",
       "[9663 rows x 5 columns]"
      ]
     },
     "execution_count": 27,
     "metadata": {},
     "output_type": "execute_result"
    }
   ],
   "source": [
    "# 여러 명을 차단한 유저 추출\n",
    "duplicated_blockrecord = blockrecord[blockrecord.duplicated('user_id', keep = False)]\n",
    "duplicated_blockrecord"
   ]
  },
  {
   "cell_type": "code",
   "execution_count": 28,
   "id": "5d4013e9",
   "metadata": {},
   "outputs": [
    {
     "data": {
      "text/plain": [
       "reason\n",
       "모르는 사람임               5023\n",
       "친구 사이가 어색해짐           2943\n",
       "사칭 계정                  849\n",
       "나랑 관련 없는 질문을 자꾸 보냄     452\n",
       "너무 많은 양의 질문을 보냄        390\n",
       "기타                       5\n",
       "그냥...                    1\n",
       "Name: count, dtype: int64"
      ]
     },
     "metadata": {},
     "output_type": "display_data"
    }
   ],
   "source": [
    "# reason별 선택 횟수\n",
    "display(duplicated_blockrecord['reason'].value_counts())"
   ]
  },
  {
   "cell_type": "markdown",
   "id": "b4e9dd72",
   "metadata": {},
   "source": [
    "##### 2-2. 여러 번 차단 당한 유저"
   ]
  },
  {
   "cell_type": "code",
   "execution_count": 29,
   "id": "f4670bc2",
   "metadata": {},
   "outputs": [
    {
     "data": {
      "text/html": [
       "<div>\n",
       "<style scoped>\n",
       "    .dataframe tbody tr th:only-of-type {\n",
       "        vertical-align: middle;\n",
       "    }\n",
       "\n",
       "    .dataframe tbody tr th {\n",
       "        vertical-align: top;\n",
       "    }\n",
       "\n",
       "    .dataframe thead th {\n",
       "        text-align: right;\n",
       "    }\n",
       "</style>\n",
       "<table border=\"1\" class=\"dataframe\">\n",
       "  <thead>\n",
       "    <tr style=\"text-align: right;\">\n",
       "      <th></th>\n",
       "      <th>id</th>\n",
       "      <th>reason</th>\n",
       "      <th>created_at</th>\n",
       "      <th>block_user_id</th>\n",
       "      <th>user_id</th>\n",
       "    </tr>\n",
       "  </thead>\n",
       "  <tbody>\n",
       "    <tr>\n",
       "      <th>8</th>\n",
       "      <td>12</td>\n",
       "      <td>기타</td>\n",
       "      <td>2023-05-05 13:04:31</td>\n",
       "      <td>885794</td>\n",
       "      <td>879662</td>\n",
       "    </tr>\n",
       "    <tr>\n",
       "      <th>9</th>\n",
       "      <td>13</td>\n",
       "      <td>기타</td>\n",
       "      <td>2023-05-05 13:04:42</td>\n",
       "      <td>885794</td>\n",
       "      <td>879662</td>\n",
       "    </tr>\n",
       "    <tr>\n",
       "      <th>10</th>\n",
       "      <td>14</td>\n",
       "      <td>그냥...</td>\n",
       "      <td>2023-05-05 13:04:52</td>\n",
       "      <td>885794</td>\n",
       "      <td>879662</td>\n",
       "    </tr>\n",
       "    <tr>\n",
       "      <th>11</th>\n",
       "      <td>15</td>\n",
       "      <td>기타</td>\n",
       "      <td>2023-05-05 13:04:56</td>\n",
       "      <td>885794</td>\n",
       "      <td>879662</td>\n",
       "    </tr>\n",
       "    <tr>\n",
       "      <th>12</th>\n",
       "      <td>16</td>\n",
       "      <td>기타</td>\n",
       "      <td>2023-05-05 13:05:01</td>\n",
       "      <td>885794</td>\n",
       "      <td>879662</td>\n",
       "    </tr>\n",
       "    <tr>\n",
       "      <th>...</th>\n",
       "      <td>...</td>\n",
       "      <td>...</td>\n",
       "      <td>...</td>\n",
       "      <td>...</td>\n",
       "      <td>...</td>\n",
       "    </tr>\n",
       "    <tr>\n",
       "      <th>19444</th>\n",
       "      <td>25309</td>\n",
       "      <td>사칭 계정</td>\n",
       "      <td>2024-03-28 11:42:09</td>\n",
       "      <td>880905</td>\n",
       "      <td>879416</td>\n",
       "    </tr>\n",
       "    <tr>\n",
       "      <th>19461</th>\n",
       "      <td>25337</td>\n",
       "      <td>사칭 계정</td>\n",
       "      <td>2024-03-29 14:56:19</td>\n",
       "      <td>876943</td>\n",
       "      <td>879416</td>\n",
       "    </tr>\n",
       "    <tr>\n",
       "      <th>19463</th>\n",
       "      <td>25340</td>\n",
       "      <td>사칭 계정</td>\n",
       "      <td>2024-03-31 04:59:36</td>\n",
       "      <td>860503</td>\n",
       "      <td>879416</td>\n",
       "    </tr>\n",
       "    <tr>\n",
       "      <th>19467</th>\n",
       "      <td>25345</td>\n",
       "      <td>사칭 계정</td>\n",
       "      <td>2024-03-31 04:59:54</td>\n",
       "      <td>867198</td>\n",
       "      <td>879416</td>\n",
       "    </tr>\n",
       "    <tr>\n",
       "      <th>19469</th>\n",
       "      <td>25347</td>\n",
       "      <td>사칭 계정</td>\n",
       "      <td>2024-04-04 10:34:28</td>\n",
       "      <td>862850</td>\n",
       "      <td>879416</td>\n",
       "    </tr>\n",
       "  </tbody>\n",
       "</table>\n",
       "<p>4926 rows × 5 columns</p>\n",
       "</div>"
      ],
      "text/plain": [
       "          id reason          created_at  block_user_id  user_id\n",
       "8         12     기타 2023-05-05 13:04:31         885794   879662\n",
       "9         13     기타 2023-05-05 13:04:42         885794   879662\n",
       "10        14  그냥... 2023-05-05 13:04:52         885794   879662\n",
       "11        15     기타 2023-05-05 13:04:56         885794   879662\n",
       "12        16     기타 2023-05-05 13:05:01         885794   879662\n",
       "...      ...    ...                 ...            ...      ...\n",
       "19444  25309  사칭 계정 2024-03-28 11:42:09         880905   879416\n",
       "19461  25337  사칭 계정 2024-03-29 14:56:19         876943   879416\n",
       "19463  25340  사칭 계정 2024-03-31 04:59:36         860503   879416\n",
       "19467  25345  사칭 계정 2024-03-31 04:59:54         867198   879416\n",
       "19469  25347  사칭 계정 2024-04-04 10:34:28         862850   879416\n",
       "\n",
       "[4926 rows x 5 columns]"
      ]
     },
     "execution_count": 29,
     "metadata": {},
     "output_type": "execute_result"
    }
   ],
   "source": [
    "# 여러 번 차단 당한 이용자들\n",
    "duplicated_blockrecord_blockuser = blockrecord[blockrecord.duplicated('block_user_id', keep = False)]\n",
    "duplicated_blockrecord_blockuser"
   ]
  },
  {
   "cell_type": "code",
   "execution_count": 30,
   "id": "0dec65dc",
   "metadata": {},
   "outputs": [
    {
     "data": {
      "text/plain": [
       "1684"
      ]
     },
     "execution_count": 30,
     "metadata": {},
     "output_type": "execute_result"
    }
   ],
   "source": [
    "duplicated_blockrecord_blockuser['block_user_id'].nunique()"
   ]
  },
  {
   "cell_type": "code",
   "execution_count": 31,
   "id": "115190c4",
   "metadata": {},
   "outputs": [
    {
     "data": {
      "text/html": [
       "<div>\n",
       "<style scoped>\n",
       "    .dataframe tbody tr th:only-of-type {\n",
       "        vertical-align: middle;\n",
       "    }\n",
       "\n",
       "    .dataframe tbody tr th {\n",
       "        vertical-align: top;\n",
       "    }\n",
       "\n",
       "    .dataframe thead th {\n",
       "        text-align: right;\n",
       "    }\n",
       "</style>\n",
       "<table border=\"1\" class=\"dataframe\">\n",
       "  <thead>\n",
       "    <tr style=\"text-align: right;\">\n",
       "      <th></th>\n",
       "      <th>block_user_id</th>\n",
       "      <th>block_count</th>\n",
       "    </tr>\n",
       "  </thead>\n",
       "  <tbody>\n",
       "    <tr>\n",
       "      <th>0</th>\n",
       "      <td>898020</td>\n",
       "      <td>76</td>\n",
       "    </tr>\n",
       "    <tr>\n",
       "      <th>1</th>\n",
       "      <td>897681</td>\n",
       "      <td>25</td>\n",
       "    </tr>\n",
       "    <tr>\n",
       "      <th>2</th>\n",
       "      <td>1380465</td>\n",
       "      <td>25</td>\n",
       "    </tr>\n",
       "    <tr>\n",
       "      <th>3</th>\n",
       "      <td>877266</td>\n",
       "      <td>25</td>\n",
       "    </tr>\n",
       "    <tr>\n",
       "      <th>4</th>\n",
       "      <td>1395312</td>\n",
       "      <td>24</td>\n",
       "    </tr>\n",
       "    <tr>\n",
       "      <th>...</th>\n",
       "      <td>...</td>\n",
       "      <td>...</td>\n",
       "    </tr>\n",
       "    <tr>\n",
       "      <th>1679</th>\n",
       "      <td>1143508</td>\n",
       "      <td>2</td>\n",
       "    </tr>\n",
       "    <tr>\n",
       "      <th>1680</th>\n",
       "      <td>1177947</td>\n",
       "      <td>2</td>\n",
       "    </tr>\n",
       "    <tr>\n",
       "      <th>1681</th>\n",
       "      <td>1042942</td>\n",
       "      <td>2</td>\n",
       "    </tr>\n",
       "    <tr>\n",
       "      <th>1682</th>\n",
       "      <td>842565</td>\n",
       "      <td>2</td>\n",
       "    </tr>\n",
       "    <tr>\n",
       "      <th>1683</th>\n",
       "      <td>1019326</td>\n",
       "      <td>2</td>\n",
       "    </tr>\n",
       "  </tbody>\n",
       "</table>\n",
       "<p>1684 rows × 2 columns</p>\n",
       "</div>"
      ],
      "text/plain": [
       "      block_user_id  block_count\n",
       "0            898020           76\n",
       "1            897681           25\n",
       "2           1380465           25\n",
       "3            877266           25\n",
       "4           1395312           24\n",
       "...             ...          ...\n",
       "1679        1143508            2\n",
       "1680        1177947            2\n",
       "1681        1042942            2\n",
       "1682         842565            2\n",
       "1683        1019326            2\n",
       "\n",
       "[1684 rows x 2 columns]"
      ]
     },
     "execution_count": 31,
     "metadata": {},
     "output_type": "execute_result"
    }
   ],
   "source": [
    "# 유저별 차단 당한 횟수(내림차순)\n",
    "block_counts = duplicated_blockrecord_blockuser['block_user_id'].value_counts().reset_index()\n",
    "block_counts.columns = ['block_user_id', 'block_count']\n",
    "\n",
    "block_counts"
   ]
  },
  {
   "cell_type": "code",
   "execution_count": 32,
   "id": "d0860b36",
   "metadata": {},
   "outputs": [
    {
     "data": {
      "text/plain": [
       "reason\n",
       "모르는 사람임               2650\n",
       "친구 사이가 어색해짐            972\n",
       "사칭 계정                  595\n",
       "나랑 관련 없는 질문을 자꾸 보냄     381\n",
       "너무 많은 양의 질문을 보냄        321\n",
       "기타                       5\n",
       "그냥...                    2\n",
       "Name: count, dtype: int64"
      ]
     },
     "execution_count": 32,
     "metadata": {},
     "output_type": "execute_result"
    }
   ],
   "source": [
    "duplicated_blockrecord_blockuser['reason'].value_counts()"
   ]
  },
  {
   "cell_type": "code",
   "execution_count": 59,
   "id": "f8f19905",
   "metadata": {},
   "outputs": [
    {
     "data": {
      "text/html": [
       "<div>\n",
       "<style scoped>\n",
       "    .dataframe tbody tr th:only-of-type {\n",
       "        vertical-align: middle;\n",
       "    }\n",
       "\n",
       "    .dataframe tbody tr th {\n",
       "        vertical-align: top;\n",
       "    }\n",
       "\n",
       "    .dataframe thead th {\n",
       "        text-align: right;\n",
       "    }\n",
       "</style>\n",
       "<table border=\"1\" class=\"dataframe\">\n",
       "  <thead>\n",
       "    <tr style=\"text-align: right;\">\n",
       "      <th></th>\n",
       "      <th>id</th>\n",
       "      <th>reason</th>\n",
       "      <th>created_at</th>\n",
       "      <th>block_user_id</th>\n",
       "      <th>user_id</th>\n",
       "    </tr>\n",
       "  </thead>\n",
       "  <tbody>\n",
       "    <tr>\n",
       "      <th>141</th>\n",
       "      <td>199</td>\n",
       "      <td>모르는 사람임</td>\n",
       "      <td>2023-05-06 12:31:32</td>\n",
       "      <td>898020</td>\n",
       "      <td>898071</td>\n",
       "    </tr>\n",
       "    <tr>\n",
       "      <th>165</th>\n",
       "      <td>230</td>\n",
       "      <td>친구 사이가 어색해짐</td>\n",
       "      <td>2023-05-06 13:18:40</td>\n",
       "      <td>898020</td>\n",
       "      <td>897693</td>\n",
       "    </tr>\n",
       "    <tr>\n",
       "      <th>192</th>\n",
       "      <td>274</td>\n",
       "      <td>모르는 사람임</td>\n",
       "      <td>2023-05-06 14:43:10</td>\n",
       "      <td>898020</td>\n",
       "      <td>897693</td>\n",
       "    </tr>\n",
       "    <tr>\n",
       "      <th>244</th>\n",
       "      <td>341</td>\n",
       "      <td>모르는 사람임</td>\n",
       "      <td>2023-05-06 15:47:17</td>\n",
       "      <td>898020</td>\n",
       "      <td>901327</td>\n",
       "    </tr>\n",
       "    <tr>\n",
       "      <th>248</th>\n",
       "      <td>346</td>\n",
       "      <td>모르는 사람임</td>\n",
       "      <td>2023-05-06 15:55:24</td>\n",
       "      <td>898020</td>\n",
       "      <td>898071</td>\n",
       "    </tr>\n",
       "    <tr>\n",
       "      <th>...</th>\n",
       "      <td>...</td>\n",
       "      <td>...</td>\n",
       "      <td>...</td>\n",
       "      <td>...</td>\n",
       "      <td>...</td>\n",
       "    </tr>\n",
       "    <tr>\n",
       "      <th>2418</th>\n",
       "      <td>3250</td>\n",
       "      <td>모르는 사람임</td>\n",
       "      <td>2023-05-10 09:14:20</td>\n",
       "      <td>898020</td>\n",
       "      <td>898283</td>\n",
       "    </tr>\n",
       "    <tr>\n",
       "      <th>2684</th>\n",
       "      <td>3609</td>\n",
       "      <td>너무 많은 양의 질문을 보냄</td>\n",
       "      <td>2023-05-10 14:23:20</td>\n",
       "      <td>898020</td>\n",
       "      <td>897704</td>\n",
       "    </tr>\n",
       "    <tr>\n",
       "      <th>3142</th>\n",
       "      <td>4233</td>\n",
       "      <td>모르는 사람임</td>\n",
       "      <td>2023-05-11 13:08:55</td>\n",
       "      <td>898020</td>\n",
       "      <td>1086219</td>\n",
       "    </tr>\n",
       "    <tr>\n",
       "      <th>3267</th>\n",
       "      <td>4399</td>\n",
       "      <td>나랑 관련 없는 질문을 자꾸 보냄</td>\n",
       "      <td>2023-05-11 14:48:35</td>\n",
       "      <td>898020</td>\n",
       "      <td>897916</td>\n",
       "    </tr>\n",
       "    <tr>\n",
       "      <th>3531</th>\n",
       "      <td>4746</td>\n",
       "      <td>모르는 사람임</td>\n",
       "      <td>2023-05-12 07:40:23</td>\n",
       "      <td>898020</td>\n",
       "      <td>883098</td>\n",
       "    </tr>\n",
       "  </tbody>\n",
       "</table>\n",
       "<p>76 rows × 5 columns</p>\n",
       "</div>"
      ],
      "text/plain": [
       "        id              reason          created_at  block_user_id  user_id\n",
       "141    199             모르는 사람임 2023-05-06 12:31:32         898020   898071\n",
       "165    230         친구 사이가 어색해짐 2023-05-06 13:18:40         898020   897693\n",
       "192    274             모르는 사람임 2023-05-06 14:43:10         898020   897693\n",
       "244    341             모르는 사람임 2023-05-06 15:47:17         898020   901327\n",
       "248    346             모르는 사람임 2023-05-06 15:55:24         898020   898071\n",
       "...    ...                 ...                 ...            ...      ...\n",
       "2418  3250             모르는 사람임 2023-05-10 09:14:20         898020   898283\n",
       "2684  3609     너무 많은 양의 질문을 보냄 2023-05-10 14:23:20         898020   897704\n",
       "3142  4233             모르는 사람임 2023-05-11 13:08:55         898020  1086219\n",
       "3267  4399  나랑 관련 없는 질문을 자꾸 보냄 2023-05-11 14:48:35         898020   897916\n",
       "3531  4746             모르는 사람임 2023-05-12 07:40:23         898020   883098\n",
       "\n",
       "[76 rows x 5 columns]"
      ]
     },
     "execution_count": 59,
     "metadata": {},
     "output_type": "execute_result"
    }
   ],
   "source": [
    "duplicated_blockrecord_blockuser[duplicated_blockrecord_blockuser['block_user_id'] == 898020]"
   ]
  },
  {
   "cell_type": "code",
   "execution_count": null,
   "id": "b2846222",
   "metadata": {},
   "outputs": [
    {
     "name": "stdout",
     "output_type": "stream",
     "text": [
      "Defaulting to user installation because normal site-packages is not writeable\n",
      "Collecting koreanize_matplotlib\n",
      "  Downloading koreanize_matplotlib-0.1.1-py3-none-any.whl.metadata (992 bytes)\n",
      "Requirement already satisfied: matplotlib in /home/project4/.local/lib/python3.12/site-packages (from koreanize_matplotlib) (3.10.3)\n",
      "Requirement already satisfied: contourpy>=1.0.1 in /home/project4/.local/lib/python3.12/site-packages (from matplotlib->koreanize_matplotlib) (1.3.2)\n",
      "Requirement already satisfied: cycler>=0.10 in /home/project4/.local/lib/python3.12/site-packages (from matplotlib->koreanize_matplotlib) (0.12.1)\n",
      "Requirement already satisfied: fonttools>=4.22.0 in /home/project4/.local/lib/python3.12/site-packages (from matplotlib->koreanize_matplotlib) (4.58.0)\n",
      "Requirement already satisfied: kiwisolver>=1.3.1 in /home/project4/.local/lib/python3.12/site-packages (from matplotlib->koreanize_matplotlib) (1.4.8)\n",
      "Requirement already satisfied: numpy>=1.23 in /home/project4/.local/lib/python3.12/site-packages (from matplotlib->koreanize_matplotlib) (1.26.1)\n",
      "Requirement already satisfied: packaging>=20.0 in /usr/lib/python3/dist-packages (from matplotlib->koreanize_matplotlib) (24.0)\n",
      "Requirement already satisfied: pillow>=8 in /home/project4/.local/lib/python3.12/site-packages (from matplotlib->koreanize_matplotlib) (11.2.1)\n",
      "Requirement already satisfied: pyparsing>=2.3.1 in /usr/lib/python3/dist-packages (from matplotlib->koreanize_matplotlib) (3.1.1)\n",
      "Requirement already satisfied: python-dateutil>=2.7 in /usr/lib/python3/dist-packages (from matplotlib->koreanize_matplotlib) (2.8.2)\n",
      "Downloading koreanize_matplotlib-0.1.1-py3-none-any.whl (7.9 MB)\n",
      "\u001b[2K   \u001b[90m━━━━━━━━━━━━━━━━━━━━━━━━━━━━━━━━━━━━━━━━\u001b[0m \u001b[32m7.9/7.9 MB\u001b[0m \u001b[31m38.3 MB/s\u001b[0m eta \u001b[36m0:00:00\u001b[0m00:01\u001b[0m00:01\u001b[0m\n",
      "\u001b[?25hInstalling collected packages: koreanize_matplotlib\n",
      "Successfully installed koreanize_matplotlib-0.1.1\n",
      "Note: you may need to restart the kernel to use updated packages.\n"
     ]
    }
   ],
   "source": [
    "pip install koreanize_matplotlib"
   ]
  },
  {
   "cell_type": "code",
   "execution_count": null,
   "id": "e1884c6c",
   "metadata": {},
   "outputs": [],
   "source": [
    "import koreanize_matplotlib"
   ]
  },
  {
   "cell_type": "code",
   "execution_count": 57,
   "id": "1183b27a",
   "metadata": {},
   "outputs": [],
   "source": [
    "plt.rcParams['font.family'] = 'NanumGothic'\n",
    "plt.rcParams['axes.unicode_minus'] = False"
   ]
  },
  {
   "cell_type": "code",
   "execution_count": 58,
   "id": "61c3dc2d",
   "metadata": {},
   "outputs": [
    {
     "name": "stderr",
     "output_type": "stream",
     "text": [
      "/tmp/ipykernel_29543/3323786163.py:7: FutureWarning: \n",
      "\n",
      "Passing `palette` without assigning `hue` is deprecated and will be removed in v0.14.0. Assign the `x` variable to `hue` and set `legend=False` for the same effect.\n",
      "\n",
      "  sns.barplot(data=reason_counts, x='reason', y='count', palette='Blues_d')\n"
     ]
    },
    {
     "data": {
      "image/png": "[encoded data removed]",
      "text/plain": [
       "<Figure size 1000x600 with 1 Axes>"
      ]
     },
     "metadata": {},
     "output_type": "display_data"
    }
   ],
   "source": [
    "\n",
    "# 시각화를 위해 데이터 준비\n",
    "reason_counts = duplicated_blockrecord_blockuser['reason'].value_counts().reset_index()\n",
    "reason_counts.columns = ['reason', 'count']\n",
    "\n",
    "# 그래프 그리기\n",
    "plt.figure(figsize=(10, 6))\n",
    "sns.barplot(data=reason_counts, x='reason', y='count', palette='Blues_d')\n",
    "\n",
    "# 제목 및 축 이름 설정\n",
    "plt.title('차단 이유별 빈도', fontsize=16)\n",
    "plt.xlabel('차단 이유', fontsize=14)\n",
    "plt.ylabel('빈도', fontsize=14)\n",
    "\n",
    "# x축 레이블 각도 조정\n",
    "plt.xticks(rotation=45, ha='right')\n",
    "\n",
    "# 그래프 보기 좋게 조정\n",
    "plt.tight_layout()\n",
    "\n",
    "# 그래프 출력\n",
    "plt.show()"
   ]
  },
  {
   "cell_type": "code",
   "execution_count": null,
   "id": "8ef62e3e",
   "metadata": {},
   "outputs": [],
   "source": []
  },
  {
   "cell_type": "markdown",
   "id": "c0bc5cca",
   "metadata": {},
   "source": [
    "#### 3. accounts_failpaymenthistory (상품 구매 실패 기록 테이블)"
   ]
  },
  {
   "cell_type": "code",
   "execution_count": 35,
   "id": "b32dc9b9",
   "metadata": {},
   "outputs": [
    {
     "data": {
      "text/html": [
       "<div>\n",
       "<style scoped>\n",
       "    .dataframe tbody tr th:only-of-type {\n",
       "        vertical-align: middle;\n",
       "    }\n",
       "\n",
       "    .dataframe tbody tr th {\n",
       "        vertical-align: top;\n",
       "    }\n",
       "\n",
       "    .dataframe thead th {\n",
       "        text-align: right;\n",
       "    }\n",
       "</style>\n",
       "<table border=\"1\" class=\"dataframe\">\n",
       "  <thead>\n",
       "    <tr style=\"text-align: right;\">\n",
       "      <th></th>\n",
       "      <th>id</th>\n",
       "      <th>productId</th>\n",
       "      <th>phone_type</th>\n",
       "      <th>created_at</th>\n",
       "      <th>user_id</th>\n",
       "    </tr>\n",
       "  </thead>\n",
       "  <tbody>\n",
       "    <tr>\n",
       "      <th>0</th>\n",
       "      <td>6</td>\n",
       "      <td>heart.200</td>\n",
       "      <td>A</td>\n",
       "      <td>2023-05-14 05:49:22</td>\n",
       "      <td>1055891</td>\n",
       "    </tr>\n",
       "    <tr>\n",
       "      <th>1</th>\n",
       "      <td>7</td>\n",
       "      <td>heart.777</td>\n",
       "      <td>A</td>\n",
       "      <td>2023-05-14 08:17:21</td>\n",
       "      <td>1152151</td>\n",
       "    </tr>\n",
       "    <tr>\n",
       "      <th>2</th>\n",
       "      <td>8</td>\n",
       "      <td>heart.777</td>\n",
       "      <td>A</td>\n",
       "      <td>2023-05-14 10:11:46</td>\n",
       "      <td>986200</td>\n",
       "    </tr>\n",
       "    <tr>\n",
       "      <th>3</th>\n",
       "      <td>9</td>\n",
       "      <td>heart.1000</td>\n",
       "      <td>A</td>\n",
       "      <td>2023-05-14 11:53:09</td>\n",
       "      <td>1028261</td>\n",
       "    </tr>\n",
       "    <tr>\n",
       "      <th>4</th>\n",
       "      <td>10</td>\n",
       "      <td>heart.777</td>\n",
       "      <td>A</td>\n",
       "      <td>2023-05-14 12:30:47</td>\n",
       "      <td>1235730</td>\n",
       "    </tr>\n",
       "  </tbody>\n",
       "</table>\n",
       "</div>"
      ],
      "text/plain": [
       "   id   productId phone_type          created_at  user_id\n",
       "0   6   heart.200          A 2023-05-14 05:49:22  1055891\n",
       "1   7   heart.777          A 2023-05-14 08:17:21  1152151\n",
       "2   8   heart.777          A 2023-05-14 10:11:46   986200\n",
       "3   9  heart.1000          A 2023-05-14 11:53:09  1028261\n",
       "4  10   heart.777          A 2023-05-14 12:30:47  1235730"
      ]
     },
     "execution_count": 35,
     "metadata": {},
     "output_type": "execute_result"
    }
   ],
   "source": [
    "blob = bucket.blob('votes/accounts_failpaymenthistory.parquet')\n",
    "parquet_bytes = blob.download_as_bytes()\n",
    "failpaymenthistory = pd.read_parquet(io.BytesIO(parquet_bytes))\n",
    "failpaymenthistory.head()"
   ]
  },
  {
   "cell_type": "code",
   "execution_count": 36,
   "id": "be93411c",
   "metadata": {},
   "outputs": [
    {
     "data": {
      "text/plain": [
       "(163, 5)"
      ]
     },
     "execution_count": 36,
     "metadata": {},
     "output_type": "execute_result"
    }
   ],
   "source": [
    "failpaymenthistory.shape"
   ]
  },
  {
   "cell_type": "code",
   "execution_count": 37,
   "id": "e95a58a6",
   "metadata": {},
   "outputs": [
    {
     "name": "stdout",
     "output_type": "stream",
     "text": [
      "<class 'pandas.core.frame.DataFrame'>\n",
      "RangeIndex: 163 entries, 0 to 162\n",
      "Data columns (total 5 columns):\n",
      " #   Column      Non-Null Count  Dtype         \n",
      "---  ------      --------------  -----         \n",
      " 0   id          163 non-null    int64         \n",
      " 1   productId   56 non-null     object        \n",
      " 2   phone_type  163 non-null    object        \n",
      " 3   created_at  163 non-null    datetime64[ns]\n",
      " 4   user_id     163 non-null    int64         \n",
      "dtypes: datetime64[ns](1), int64(2), object(2)\n",
      "memory usage: 6.5+ KB\n"
     ]
    }
   ],
   "source": [
    "failpaymenthistory.info()"
   ]
  },
  {
   "cell_type": "code",
   "execution_count": 38,
   "id": "f6fccd87",
   "metadata": {},
   "outputs": [
    {
     "data": {
      "text/plain": [
       "id              0\n",
       "productId     107\n",
       "phone_type      0\n",
       "created_at      0\n",
       "user_id         0\n",
       "dtype: int64"
      ]
     },
     "execution_count": 38,
     "metadata": {},
     "output_type": "execute_result"
    }
   ],
   "source": [
    "failpaymenthistory.isnull().sum()"
   ]
  },
  {
   "cell_type": "code",
   "execution_count": 39,
   "id": "850c104a",
   "metadata": {},
   "outputs": [
    {
     "data": {
      "text/html": [
       "<div>\n",
       "<style scoped>\n",
       "    .dataframe tbody tr th:only-of-type {\n",
       "        vertical-align: middle;\n",
       "    }\n",
       "\n",
       "    .dataframe tbody tr th {\n",
       "        vertical-align: top;\n",
       "    }\n",
       "\n",
       "    .dataframe thead th {\n",
       "        text-align: right;\n",
       "    }\n",
       "</style>\n",
       "<table border=\"1\" class=\"dataframe\">\n",
       "  <thead>\n",
       "    <tr style=\"text-align: right;\">\n",
       "      <th></th>\n",
       "      <th>id</th>\n",
       "      <th>productId</th>\n",
       "      <th>phone_type</th>\n",
       "      <th>created_at</th>\n",
       "      <th>user_id</th>\n",
       "    </tr>\n",
       "  </thead>\n",
       "  <tbody>\n",
       "    <tr>\n",
       "      <th>12</th>\n",
       "      <td>20</td>\n",
       "      <td>None</td>\n",
       "      <td>I</td>\n",
       "      <td>2023-05-15 16:26:51</td>\n",
       "      <td>1153256</td>\n",
       "    </tr>\n",
       "    <tr>\n",
       "      <th>13</th>\n",
       "      <td>21</td>\n",
       "      <td>None</td>\n",
       "      <td>I</td>\n",
       "      <td>2023-05-16 03:16:37</td>\n",
       "      <td>1230712</td>\n",
       "    </tr>\n",
       "    <tr>\n",
       "      <th>14</th>\n",
       "      <td>22</td>\n",
       "      <td>None</td>\n",
       "      <td>I</td>\n",
       "      <td>2023-05-16 06:40:04</td>\n",
       "      <td>1277817</td>\n",
       "    </tr>\n",
       "    <tr>\n",
       "      <th>15</th>\n",
       "      <td>23</td>\n",
       "      <td>None</td>\n",
       "      <td>I</td>\n",
       "      <td>2023-05-16 07:40:32</td>\n",
       "      <td>1254768</td>\n",
       "    </tr>\n",
       "    <tr>\n",
       "      <th>18</th>\n",
       "      <td>26</td>\n",
       "      <td>None</td>\n",
       "      <td>I</td>\n",
       "      <td>2023-05-16 11:31:51</td>\n",
       "      <td>1189806</td>\n",
       "    </tr>\n",
       "    <tr>\n",
       "      <th>...</th>\n",
       "      <td>...</td>\n",
       "      <td>...</td>\n",
       "      <td>...</td>\n",
       "      <td>...</td>\n",
       "      <td>...</td>\n",
       "    </tr>\n",
       "    <tr>\n",
       "      <th>155</th>\n",
       "      <td>167</td>\n",
       "      <td>None</td>\n",
       "      <td>I</td>\n",
       "      <td>2023-07-04 13:42:28</td>\n",
       "      <td>1575434</td>\n",
       "    </tr>\n",
       "    <tr>\n",
       "      <th>156</th>\n",
       "      <td>168</td>\n",
       "      <td>None</td>\n",
       "      <td>I</td>\n",
       "      <td>2023-07-12 12:14:11</td>\n",
       "      <td>925534</td>\n",
       "    </tr>\n",
       "    <tr>\n",
       "      <th>159</th>\n",
       "      <td>171</td>\n",
       "      <td>None</td>\n",
       "      <td>I</td>\n",
       "      <td>2023-08-12 11:26:59</td>\n",
       "      <td>1556867</td>\n",
       "    </tr>\n",
       "    <tr>\n",
       "      <th>161</th>\n",
       "      <td>173</td>\n",
       "      <td>None</td>\n",
       "      <td>I</td>\n",
       "      <td>2023-09-17 09:12:53</td>\n",
       "      <td>927108</td>\n",
       "    </tr>\n",
       "    <tr>\n",
       "      <th>162</th>\n",
       "      <td>174</td>\n",
       "      <td>None</td>\n",
       "      <td>I</td>\n",
       "      <td>2023-09-17 09:12:53</td>\n",
       "      <td>927108</td>\n",
       "    </tr>\n",
       "  </tbody>\n",
       "</table>\n",
       "<p>107 rows × 5 columns</p>\n",
       "</div>"
      ],
      "text/plain": [
       "      id productId phone_type          created_at  user_id\n",
       "12    20      None          I 2023-05-15 16:26:51  1153256\n",
       "13    21      None          I 2023-05-16 03:16:37  1230712\n",
       "14    22      None          I 2023-05-16 06:40:04  1277817\n",
       "15    23      None          I 2023-05-16 07:40:32  1254768\n",
       "18    26      None          I 2023-05-16 11:31:51  1189806\n",
       "..   ...       ...        ...                 ...      ...\n",
       "155  167      None          I 2023-07-04 13:42:28  1575434\n",
       "156  168      None          I 2023-07-12 12:14:11   925534\n",
       "159  171      None          I 2023-08-12 11:26:59  1556867\n",
       "161  173      None          I 2023-09-17 09:12:53   927108\n",
       "162  174      None          I 2023-09-17 09:12:53   927108\n",
       "\n",
       "[107 rows x 5 columns]"
      ]
     },
     "execution_count": 39,
     "metadata": {},
     "output_type": "execute_result"
    }
   ],
   "source": [
    "failpaymenthistory[failpaymenthistory['productId'].isnull()]"
   ]
  },
  {
   "cell_type": "code",
   "execution_count": 40,
   "id": "3cfafd07",
   "metadata": {},
   "outputs": [
    {
     "data": {
      "text/plain": [
       "phone_type\n",
       "I    107\n",
       "A     56\n",
       "Name: count, dtype: int64"
      ]
     },
     "execution_count": 40,
     "metadata": {},
     "output_type": "execute_result"
    }
   ],
   "source": [
    "failpaymenthistory['phone_type'].value_counts()"
   ]
  },
  {
   "cell_type": "code",
   "execution_count": 41,
   "id": "71867219",
   "metadata": {},
   "outputs": [
    {
     "data": {
      "text/plain": [
       "160"
      ]
     },
     "execution_count": 41,
     "metadata": {},
     "output_type": "execute_result"
    }
   ],
   "source": [
    "failpaymenthistory['user_id'].nunique()"
   ]
  },
  {
   "cell_type": "code",
   "execution_count": 42,
   "id": "71dda1a7",
   "metadata": {},
   "outputs": [
    {
     "data": {
      "text/html": [
       "<div>\n",
       "<style scoped>\n",
       "    .dataframe tbody tr th:only-of-type {\n",
       "        vertical-align: middle;\n",
       "    }\n",
       "\n",
       "    .dataframe tbody tr th {\n",
       "        vertical-align: top;\n",
       "    }\n",
       "\n",
       "    .dataframe thead th {\n",
       "        text-align: right;\n",
       "    }\n",
       "</style>\n",
       "<table border=\"1\" class=\"dataframe\">\n",
       "  <thead>\n",
       "    <tr style=\"text-align: right;\">\n",
       "      <th></th>\n",
       "      <th>id</th>\n",
       "      <th>productId</th>\n",
       "      <th>phone_type</th>\n",
       "      <th>created_at</th>\n",
       "      <th>user_id</th>\n",
       "    </tr>\n",
       "  </thead>\n",
       "  <tbody>\n",
       "    <tr>\n",
       "      <th>52</th>\n",
       "      <td>60</td>\n",
       "      <td>None</td>\n",
       "      <td>I</td>\n",
       "      <td>2023-05-19 13:38:05</td>\n",
       "      <td>1322662</td>\n",
       "    </tr>\n",
       "    <tr>\n",
       "      <th>53</th>\n",
       "      <td>61</td>\n",
       "      <td>None</td>\n",
       "      <td>I</td>\n",
       "      <td>2023-05-19 13:38:32</td>\n",
       "      <td>1322662</td>\n",
       "    </tr>\n",
       "    <tr>\n",
       "      <th>136</th>\n",
       "      <td>146</td>\n",
       "      <td>None</td>\n",
       "      <td>I</td>\n",
       "      <td>2023-05-31 12:37:45</td>\n",
       "      <td>1211047</td>\n",
       "    </tr>\n",
       "    <tr>\n",
       "      <th>137</th>\n",
       "      <td>147</td>\n",
       "      <td>None</td>\n",
       "      <td>I</td>\n",
       "      <td>2023-05-31 12:38:35</td>\n",
       "      <td>1211047</td>\n",
       "    </tr>\n",
       "    <tr>\n",
       "      <th>161</th>\n",
       "      <td>173</td>\n",
       "      <td>None</td>\n",
       "      <td>I</td>\n",
       "      <td>2023-09-17 09:12:53</td>\n",
       "      <td>927108</td>\n",
       "    </tr>\n",
       "    <tr>\n",
       "      <th>162</th>\n",
       "      <td>174</td>\n",
       "      <td>None</td>\n",
       "      <td>I</td>\n",
       "      <td>2023-09-17 09:12:53</td>\n",
       "      <td>927108</td>\n",
       "    </tr>\n",
       "  </tbody>\n",
       "</table>\n",
       "</div>"
      ],
      "text/plain": [
       "      id productId phone_type          created_at  user_id\n",
       "52    60      None          I 2023-05-19 13:38:05  1322662\n",
       "53    61      None          I 2023-05-19 13:38:32  1322662\n",
       "136  146      None          I 2023-05-31 12:37:45  1211047\n",
       "137  147      None          I 2023-05-31 12:38:35  1211047\n",
       "161  173      None          I 2023-09-17 09:12:53   927108\n",
       "162  174      None          I 2023-09-17 09:12:53   927108"
      ]
     },
     "execution_count": 42,
     "metadata": {},
     "output_type": "execute_result"
    }
   ],
   "source": [
    "failpaymenthistory[failpaymenthistory.duplicated('user_id', keep = False)]"
   ]
  },
  {
   "cell_type": "markdown",
   "id": "ad85d834",
   "metadata": {},
   "source": [
    "#### 4. accounts_friendrequest (친구 요청 테이블)"
   ]
  },
  {
   "cell_type": "code",
   "execution_count": 43,
   "id": "99382422",
   "metadata": {},
   "outputs": [
    {
     "data": {
      "text/html": [
       "<div>\n",
       "<style scoped>\n",
       "    .dataframe tbody tr th:only-of-type {\n",
       "        vertical-align: middle;\n",
       "    }\n",
       "\n",
       "    .dataframe tbody tr th {\n",
       "        vertical-align: top;\n",
       "    }\n",
       "\n",
       "    .dataframe thead th {\n",
       "        text-align: right;\n",
       "    }\n",
       "</style>\n",
       "<table border=\"1\" class=\"dataframe\">\n",
       "  <thead>\n",
       "    <tr style=\"text-align: right;\">\n",
       "      <th></th>\n",
       "      <th>id</th>\n",
       "      <th>status</th>\n",
       "      <th>created_at</th>\n",
       "      <th>updated_at</th>\n",
       "      <th>receive_user_id</th>\n",
       "      <th>send_user_id</th>\n",
       "    </tr>\n",
       "  </thead>\n",
       "  <tbody>\n",
       "    <tr>\n",
       "      <th>0</th>\n",
       "      <td>7</td>\n",
       "      <td>P</td>\n",
       "      <td>2023-04-17 18:29:11</td>\n",
       "      <td>2023-04-17 18:29:11</td>\n",
       "      <td>831962</td>\n",
       "      <td>837521</td>\n",
       "    </tr>\n",
       "    <tr>\n",
       "      <th>1</th>\n",
       "      <td>10</td>\n",
       "      <td>A</td>\n",
       "      <td>2023-04-17 18:29:11</td>\n",
       "      <td>2023-04-22 06:02:53</td>\n",
       "      <td>832151</td>\n",
       "      <td>837521</td>\n",
       "    </tr>\n",
       "    <tr>\n",
       "      <th>2</th>\n",
       "      <td>11</td>\n",
       "      <td>A</td>\n",
       "      <td>2023-04-17 18:29:11</td>\n",
       "      <td>2023-04-18 19:28:41</td>\n",
       "      <td>832340</td>\n",
       "      <td>837521</td>\n",
       "    </tr>\n",
       "    <tr>\n",
       "      <th>3</th>\n",
       "      <td>13</td>\n",
       "      <td>A</td>\n",
       "      <td>2023-04-17 18:29:11</td>\n",
       "      <td>2023-04-19 11:05:04</td>\n",
       "      <td>833041</td>\n",
       "      <td>837521</td>\n",
       "    </tr>\n",
       "    <tr>\n",
       "      <th>4</th>\n",
       "      <td>20</td>\n",
       "      <td>P</td>\n",
       "      <td>2023-04-17 18:29:11</td>\n",
       "      <td>2023-04-17 18:29:11</td>\n",
       "      <td>834415</td>\n",
       "      <td>837521</td>\n",
       "    </tr>\n",
       "  </tbody>\n",
       "</table>\n",
       "</div>"
      ],
      "text/plain": [
       "   id status          created_at          updated_at  receive_user_id  \\\n",
       "0   7      P 2023-04-17 18:29:11 2023-04-17 18:29:11           831962   \n",
       "1  10      A 2023-04-17 18:29:11 2023-04-22 06:02:53           832151   \n",
       "2  11      A 2023-04-17 18:29:11 2023-04-18 19:28:41           832340   \n",
       "3  13      A 2023-04-17 18:29:11 2023-04-19 11:05:04           833041   \n",
       "4  20      P 2023-04-17 18:29:11 2023-04-17 18:29:11           834415   \n",
       "\n",
       "   send_user_id  \n",
       "0        837521  \n",
       "1        837521  \n",
       "2        837521  \n",
       "3        837521  \n",
       "4        837521  "
      ]
     },
     "execution_count": 43,
     "metadata": {},
     "output_type": "execute_result"
    }
   ],
   "source": [
    "blob = bucket.blob('votes/accounts_friendrequest.parquet')\n",
    "parquet_bytes = blob.download_as_bytes()\n",
    "friendrequest = pd.read_parquet(io.BytesIO(parquet_bytes))\n",
    "friendrequest.head()"
   ]
  },
  {
   "cell_type": "code",
   "execution_count": 44,
   "id": "a265dd72",
   "metadata": {},
   "outputs": [
    {
     "data": {
      "text/plain": [
       "(17147175, 6)"
      ]
     },
     "execution_count": 44,
     "metadata": {},
     "output_type": "execute_result"
    }
   ],
   "source": [
    "friendrequest.shape"
   ]
  },
  {
   "cell_type": "code",
   "execution_count": 45,
   "id": "06282c5a",
   "metadata": {},
   "outputs": [
    {
     "name": "stdout",
     "output_type": "stream",
     "text": [
      "<class 'pandas.core.frame.DataFrame'>\n",
      "RangeIndex: 17147175 entries, 0 to 17147174\n",
      "Data columns (total 6 columns):\n",
      " #   Column           Dtype         \n",
      "---  ------           -----         \n",
      " 0   id               int64         \n",
      " 1   status           object        \n",
      " 2   created_at       datetime64[ns]\n",
      " 3   updated_at       datetime64[ns]\n",
      " 4   receive_user_id  int64         \n",
      " 5   send_user_id     int64         \n",
      "dtypes: datetime64[ns](2), int64(3), object(1)\n",
      "memory usage: 784.9+ MB\n"
     ]
    }
   ],
   "source": [
    "friendrequest.info()"
   ]
  },
  {
   "cell_type": "code",
   "execution_count": 46,
   "id": "d0e6cb58",
   "metadata": {},
   "outputs": [
    {
     "data": {
      "text/plain": [
       "id                 0\n",
       "status             0\n",
       "created_at         0\n",
       "updated_at         0\n",
       "receive_user_id    0\n",
       "send_user_id       0\n",
       "dtype: int64"
      ]
     },
     "execution_count": 46,
     "metadata": {},
     "output_type": "execute_result"
    }
   ],
   "source": [
    "friendrequest.isnull().sum()"
   ]
  },
  {
   "cell_type": "code",
   "execution_count": null,
   "id": "6dd0a49f",
   "metadata": {},
   "outputs": [
    {
     "data": {
      "text/plain": [
       "status\n",
       "A    12878407\n",
       "P     3938608\n",
       "R      330160\n",
       "Name: count, dtype: int64"
      ]
     },
     "execution_count": 67,
     "metadata": {},
     "output_type": "execute_result"
    }
   ],
   "source": [
    "# 친구 요청의 경우 한 유저가 여러 명의 유저에게 요청을 보낼 수 있음\n",
    "# but send와 receive, status가 모드 같은 경우는 created_at과 updated_at의 상태를 살펴봐야함\n",
    "# receive_user_id와 send_user_id가 같아 중복같지만 creqated_at과 updated_at이 중복이 아닐 경우 \n",
    "# 첫 번째 친구 요청에서 거절 당한 후 재친구 요청일 수 있음\n",
    "# 중복 요청이 있는데 모두 status가 R인 경우 악성 유저 아닌가....\n",
    "# R -> A / P -> A => 이런 경우 존재하면 마지막 A인 경우만 남겨도?\n",
    "\n",
    "friendrequest['status'].value_counts()"
   ]
  },
  {
   "cell_type": "code",
   "execution_count": null,
   "id": "b9a68dfe",
   "metadata": {},
   "outputs": [],
   "source": [
    "# send, receive, status 모두 같은 그룹별 중복 확인 \n",
    "friendrequest_duplicates = friendrequest[\n",
    "    friendrequest.duplicated(subset=['status', 'receive_user_id', 'send_user_id'], keep=False)\n",
    "].sort_values(by=['receive_user_id', 'send_user_id', 'status'])"
   ]
  },
  {
   "cell_type": "code",
   "execution_count": 65,
   "id": "92ecc065",
   "metadata": {},
   "outputs": [
    {
     "data": {
      "text/html": [
       "<div>\n",
       "<style scoped>\n",
       "    .dataframe tbody tr th:only-of-type {\n",
       "        vertical-align: middle;\n",
       "    }\n",
       "\n",
       "    .dataframe tbody tr th {\n",
       "        vertical-align: top;\n",
       "    }\n",
       "\n",
       "    .dataframe thead th {\n",
       "        text-align: right;\n",
       "    }\n",
       "</style>\n",
       "<table border=\"1\" class=\"dataframe\">\n",
       "  <thead>\n",
       "    <tr style=\"text-align: right;\">\n",
       "      <th></th>\n",
       "      <th>id</th>\n",
       "      <th>status</th>\n",
       "      <th>created_at</th>\n",
       "      <th>updated_at</th>\n",
       "      <th>receive_user_id</th>\n",
       "      <th>send_user_id</th>\n",
       "    </tr>\n",
       "  </thead>\n",
       "  <tbody>\n",
       "    <tr>\n",
       "      <th>61330</th>\n",
       "      <td>81812</td>\n",
       "      <td>R</td>\n",
       "      <td>2023-04-24 09:27:25</td>\n",
       "      <td>2023-04-24 14:22:00</td>\n",
       "      <td>833376</td>\n",
       "      <td>844668</td>\n",
       "    </tr>\n",
       "    <tr>\n",
       "      <th>70722</th>\n",
       "      <td>94429</td>\n",
       "      <td>R</td>\n",
       "      <td>2023-04-25 05:02:46</td>\n",
       "      <td>2023-04-30 14:46:32</td>\n",
       "      <td>833376</td>\n",
       "      <td>844668</td>\n",
       "    </tr>\n",
       "    <tr>\n",
       "      <th>14187782</th>\n",
       "      <td>16328211</td>\n",
       "      <td>R</td>\n",
       "      <td>2023-05-25 01:37:36</td>\n",
       "      <td>2023-05-26 08:13:43</td>\n",
       "      <td>833673</td>\n",
       "      <td>1039406</td>\n",
       "    </tr>\n",
       "    <tr>\n",
       "      <th>15318771</th>\n",
       "      <td>17634582</td>\n",
       "      <td>R</td>\n",
       "      <td>2023-05-28 00:34:21</td>\n",
       "      <td>2023-05-29 14:58:41</td>\n",
       "      <td>833673</td>\n",
       "      <td>1039406</td>\n",
       "    </tr>\n",
       "    <tr>\n",
       "      <th>267741</th>\n",
       "      <td>345642</td>\n",
       "      <td>R</td>\n",
       "      <td>2023-04-30 15:05:54</td>\n",
       "      <td>2023-05-04 09:27:45</td>\n",
       "      <td>833714</td>\n",
       "      <td>852252</td>\n",
       "    </tr>\n",
       "    <tr>\n",
       "      <th>...</th>\n",
       "      <td>...</td>\n",
       "      <td>...</td>\n",
       "      <td>...</td>\n",
       "      <td>...</td>\n",
       "      <td>...</td>\n",
       "      <td>...</td>\n",
       "    </tr>\n",
       "    <tr>\n",
       "      <th>17140279</th>\n",
       "      <td>19685779</td>\n",
       "      <td>A</td>\n",
       "      <td>2024-03-11 14:34:21</td>\n",
       "      <td>2024-03-14 06:40:00</td>\n",
       "      <td>1583250</td>\n",
       "      <td>1583252</td>\n",
       "    </tr>\n",
       "    <tr>\n",
       "      <th>17141511</th>\n",
       "      <td>19687036</td>\n",
       "      <td>P</td>\n",
       "      <td>2024-03-19 14:56:09</td>\n",
       "      <td>2024-03-19 14:56:09</td>\n",
       "      <td>1583317</td>\n",
       "      <td>1583280</td>\n",
       "    </tr>\n",
       "    <tr>\n",
       "      <th>17141513</th>\n",
       "      <td>19687038</td>\n",
       "      <td>P</td>\n",
       "      <td>2024-03-19 14:56:11</td>\n",
       "      <td>2024-03-19 14:56:11</td>\n",
       "      <td>1583317</td>\n",
       "      <td>1583280</td>\n",
       "    </tr>\n",
       "    <tr>\n",
       "      <th>17142221</th>\n",
       "      <td>19687811</td>\n",
       "      <td>A</td>\n",
       "      <td>2024-03-23 08:51:38</td>\n",
       "      <td>2024-03-28 04:27:37</td>\n",
       "      <td>1583414</td>\n",
       "      <td>1568016</td>\n",
       "    </tr>\n",
       "    <tr>\n",
       "      <th>17142411</th>\n",
       "      <td>19688001</td>\n",
       "      <td>A</td>\n",
       "      <td>2024-03-25 09:36:34</td>\n",
       "      <td>2024-03-28 04:28:13</td>\n",
       "      <td>1583414</td>\n",
       "      <td>1568016</td>\n",
       "    </tr>\n",
       "  </tbody>\n",
       "</table>\n",
       "<p>110490 rows × 6 columns</p>\n",
       "</div>"
      ],
      "text/plain": [
       "                id status          created_at          updated_at  \\\n",
       "61330        81812      R 2023-04-24 09:27:25 2023-04-24 14:22:00   \n",
       "70722        94429      R 2023-04-25 05:02:46 2023-04-30 14:46:32   \n",
       "14187782  16328211      R 2023-05-25 01:37:36 2023-05-26 08:13:43   \n",
       "15318771  17634582      R 2023-05-28 00:34:21 2023-05-29 14:58:41   \n",
       "267741      345642      R 2023-04-30 15:05:54 2023-05-04 09:27:45   \n",
       "...            ...    ...                 ...                 ...   \n",
       "17140279  19685779      A 2024-03-11 14:34:21 2024-03-14 06:40:00   \n",
       "17141511  19687036      P 2024-03-19 14:56:09 2024-03-19 14:56:09   \n",
       "17141513  19687038      P 2024-03-19 14:56:11 2024-03-19 14:56:11   \n",
       "17142221  19687811      A 2024-03-23 08:51:38 2024-03-28 04:27:37   \n",
       "17142411  19688001      A 2024-03-25 09:36:34 2024-03-28 04:28:13   \n",
       "\n",
       "          receive_user_id  send_user_id  \n",
       "61330              833376        844668  \n",
       "70722              833376        844668  \n",
       "14187782           833673       1039406  \n",
       "15318771           833673       1039406  \n",
       "267741             833714        852252  \n",
       "...                   ...           ...  \n",
       "17140279          1583250       1583252  \n",
       "17141511          1583317       1583280  \n",
       "17141513          1583317       1583280  \n",
       "17142221          1583414       1568016  \n",
       "17142411          1583414       1568016  \n",
       "\n",
       "[110490 rows x 6 columns]"
      ]
     },
     "execution_count": 65,
     "metadata": {},
     "output_type": "execute_result"
    }
   ],
   "source": [
    "friendrequest_duplicates"
   ]
  },
  {
   "cell_type": "code",
   "execution_count": 68,
   "id": "5472d44f",
   "metadata": {},
   "outputs": [
    {
     "data": {
      "text/html": [
       "<div>\n",
       "<style scoped>\n",
       "    .dataframe tbody tr th:only-of-type {\n",
       "        vertical-align: middle;\n",
       "    }\n",
       "\n",
       "    .dataframe tbody tr th {\n",
       "        vertical-align: top;\n",
       "    }\n",
       "\n",
       "    .dataframe thead th {\n",
       "        text-align: right;\n",
       "    }\n",
       "</style>\n",
       "<table border=\"1\" class=\"dataframe\">\n",
       "  <thead>\n",
       "    <tr style=\"text-align: right;\">\n",
       "      <th></th>\n",
       "      <th>id</th>\n",
       "      <th>status</th>\n",
       "      <th>created_at</th>\n",
       "      <th>updated_at</th>\n",
       "      <th>receive_user_id</th>\n",
       "      <th>send_user_id</th>\n",
       "    </tr>\n",
       "  </thead>\n",
       "  <tbody>\n",
       "    <tr>\n",
       "      <th>61330</th>\n",
       "      <td>81812</td>\n",
       "      <td>R</td>\n",
       "      <td>2023-04-24 09:27:25</td>\n",
       "      <td>2023-04-24 14:22:00</td>\n",
       "      <td>833376</td>\n",
       "      <td>844668</td>\n",
       "    </tr>\n",
       "    <tr>\n",
       "      <th>70722</th>\n",
       "      <td>94429</td>\n",
       "      <td>R</td>\n",
       "      <td>2023-04-25 05:02:46</td>\n",
       "      <td>2023-04-30 14:46:32</td>\n",
       "      <td>833376</td>\n",
       "      <td>844668</td>\n",
       "    </tr>\n",
       "    <tr>\n",
       "      <th>14187782</th>\n",
       "      <td>16328211</td>\n",
       "      <td>R</td>\n",
       "      <td>2023-05-25 01:37:36</td>\n",
       "      <td>2023-05-26 08:13:43</td>\n",
       "      <td>833673</td>\n",
       "      <td>1039406</td>\n",
       "    </tr>\n",
       "    <tr>\n",
       "      <th>15318771</th>\n",
       "      <td>17634582</td>\n",
       "      <td>R</td>\n",
       "      <td>2023-05-28 00:34:21</td>\n",
       "      <td>2023-05-29 14:58:41</td>\n",
       "      <td>833673</td>\n",
       "      <td>1039406</td>\n",
       "    </tr>\n",
       "    <tr>\n",
       "      <th>267741</th>\n",
       "      <td>345642</td>\n",
       "      <td>R</td>\n",
       "      <td>2023-04-30 15:05:54</td>\n",
       "      <td>2023-05-04 09:27:45</td>\n",
       "      <td>833714</td>\n",
       "      <td>852252</td>\n",
       "    </tr>\n",
       "    <tr>\n",
       "      <th>...</th>\n",
       "      <td>...</td>\n",
       "      <td>...</td>\n",
       "      <td>...</td>\n",
       "      <td>...</td>\n",
       "      <td>...</td>\n",
       "      <td>...</td>\n",
       "    </tr>\n",
       "    <tr>\n",
       "      <th>17094358</th>\n",
       "      <td>19638308</td>\n",
       "      <td>R</td>\n",
       "      <td>2023-09-26 13:26:52</td>\n",
       "      <td>2023-09-26 14:12:14</td>\n",
       "      <td>1580700</td>\n",
       "      <td>1580679</td>\n",
       "    </tr>\n",
       "    <tr>\n",
       "      <th>17095216</th>\n",
       "      <td>19639231</td>\n",
       "      <td>R</td>\n",
       "      <td>2023-09-27 11:14:55</td>\n",
       "      <td>2023-09-28 00:41:42</td>\n",
       "      <td>1580700</td>\n",
       "      <td>1580679</td>\n",
       "    </tr>\n",
       "    <tr>\n",
       "      <th>17096373</th>\n",
       "      <td>19640434</td>\n",
       "      <td>R</td>\n",
       "      <td>2023-09-28 11:54:30</td>\n",
       "      <td>2023-09-30 10:34:05</td>\n",
       "      <td>1580700</td>\n",
       "      <td>1580679</td>\n",
       "    </tr>\n",
       "    <tr>\n",
       "      <th>17094161</th>\n",
       "      <td>19638105</td>\n",
       "      <td>R</td>\n",
       "      <td>2023-09-26 12:22:43</td>\n",
       "      <td>2023-09-26 14:12:22</td>\n",
       "      <td>1580700</td>\n",
       "      <td>1580758</td>\n",
       "    </tr>\n",
       "    <tr>\n",
       "      <th>17096152</th>\n",
       "      <td>19640189</td>\n",
       "      <td>R</td>\n",
       "      <td>2023-09-28 07:38:32</td>\n",
       "      <td>2023-09-30 10:34:08</td>\n",
       "      <td>1580700</td>\n",
       "      <td>1580758</td>\n",
       "    </tr>\n",
       "  </tbody>\n",
       "</table>\n",
       "<p>105745 rows × 6 columns</p>\n",
       "</div>"
      ],
      "text/plain": [
       "                id status          created_at          updated_at  \\\n",
       "61330        81812      R 2023-04-24 09:27:25 2023-04-24 14:22:00   \n",
       "70722        94429      R 2023-04-25 05:02:46 2023-04-30 14:46:32   \n",
       "14187782  16328211      R 2023-05-25 01:37:36 2023-05-26 08:13:43   \n",
       "15318771  17634582      R 2023-05-28 00:34:21 2023-05-29 14:58:41   \n",
       "267741      345642      R 2023-04-30 15:05:54 2023-05-04 09:27:45   \n",
       "...            ...    ...                 ...                 ...   \n",
       "17094358  19638308      R 2023-09-26 13:26:52 2023-09-26 14:12:14   \n",
       "17095216  19639231      R 2023-09-27 11:14:55 2023-09-28 00:41:42   \n",
       "17096373  19640434      R 2023-09-28 11:54:30 2023-09-30 10:34:05   \n",
       "17094161  19638105      R 2023-09-26 12:22:43 2023-09-26 14:12:22   \n",
       "17096152  19640189      R 2023-09-28 07:38:32 2023-09-30 10:34:08   \n",
       "\n",
       "          receive_user_id  send_user_id  \n",
       "61330              833376        844668  \n",
       "70722              833376        844668  \n",
       "14187782           833673       1039406  \n",
       "15318771           833673       1039406  \n",
       "267741             833714        852252  \n",
       "...                   ...           ...  \n",
       "17094358          1580700       1580679  \n",
       "17095216          1580700       1580679  \n",
       "17096373          1580700       1580679  \n",
       "17094161          1580700       1580758  \n",
       "17096152          1580700       1580758  \n",
       "\n",
       "[105745 rows x 6 columns]"
      ]
     },
     "execution_count": 68,
     "metadata": {},
     "output_type": "execute_result"
    }
   ],
   "source": [
    "# 친구 요청 여러 번 거절 당한 유저들\n",
    "friendrequest_reject = friendrequest_duplicates[friendrequest_duplicates['status'] == 'R']\n",
    "friendrequest_reject"
   ]
  },
  {
   "cell_type": "code",
   "execution_count": null,
   "id": "a4fe4edb",
   "metadata": {},
   "outputs": [
    {
     "data": {
      "text/plain": [
       "26501"
      ]
     },
     "execution_count": 69,
     "metadata": {},
     "output_type": "execute_result"
    }
   ],
   "source": [
    "# 친구 요청 거절 당한 유저들 중 여러번 거절 당한 유저들 -> 유저들 차단 당한 기록이 있나 확인 필요(왜 거절 당했을까?)\n",
    "friendrequest_reject['send_user_id'].nunique()"
   ]
  },
  {
   "cell_type": "code",
   "execution_count": null,
   "id": "6aab4329",
   "metadata": {},
   "outputs": [],
   "source": []
  },
  {
   "cell_type": "code",
   "execution_count": null,
   "id": "a252bf17",
   "metadata": {},
   "outputs": [],
   "source": [
    "# 중복 친구 요청 : 처음에는 R -> A / P -> A =>이런 경우 존재하면 마지막 A인 경우만 남겨도?\n"
   ]
  },
  {
   "cell_type": "code",
   "execution_count": null,
   "id": "f82f1707",
   "metadata": {},
   "outputs": [],
   "source": []
  },
  {
   "cell_type": "markdown",
   "id": "3f6a03be",
   "metadata": {},
   "source": [
    "#### 5. accounts_group (학급 테이블)"
   ]
  },
  {
   "cell_type": "code",
   "execution_count": 77,
   "id": "5c170cdf",
   "metadata": {},
   "outputs": [
    {
     "data": {
      "text/html": [
       "<div>\n",
       "<style scoped>\n",
       "    .dataframe tbody tr th:only-of-type {\n",
       "        vertical-align: middle;\n",
       "    }\n",
       "\n",
       "    .dataframe tbody tr th {\n",
       "        vertical-align: top;\n",
       "    }\n",
       "\n",
       "    .dataframe thead th {\n",
       "        text-align: right;\n",
       "    }\n",
       "</style>\n",
       "<table border=\"1\" class=\"dataframe\">\n",
       "  <thead>\n",
       "    <tr style=\"text-align: right;\">\n",
       "      <th></th>\n",
       "      <th>id</th>\n",
       "      <th>grade</th>\n",
       "      <th>class_num</th>\n",
       "      <th>school_id</th>\n",
       "    </tr>\n",
       "  </thead>\n",
       "  <tbody>\n",
       "    <tr>\n",
       "      <th>0</th>\n",
       "      <td>1</td>\n",
       "      <td>1</td>\n",
       "      <td>1</td>\n",
       "      <td>1</td>\n",
       "    </tr>\n",
       "    <tr>\n",
       "      <th>1</th>\n",
       "      <td>8</td>\n",
       "      <td>3</td>\n",
       "      <td>2</td>\n",
       "      <td>1</td>\n",
       "    </tr>\n",
       "    <tr>\n",
       "      <th>2</th>\n",
       "      <td>9</td>\n",
       "      <td>3</td>\n",
       "      <td>3</td>\n",
       "      <td>1</td>\n",
       "    </tr>\n",
       "    <tr>\n",
       "      <th>3</th>\n",
       "      <td>10</td>\n",
       "      <td>2</td>\n",
       "      <td>2</td>\n",
       "      <td>1</td>\n",
       "    </tr>\n",
       "    <tr>\n",
       "      <th>4</th>\n",
       "      <td>11</td>\n",
       "      <td>2</td>\n",
       "      <td>3</td>\n",
       "      <td>1</td>\n",
       "    </tr>\n",
       "  </tbody>\n",
       "</table>\n",
       "</div>"
      ],
      "text/plain": [
       "   id  grade  class_num  school_id\n",
       "0   1      1          1          1\n",
       "1   8      3          2          1\n",
       "2   9      3          3          1\n",
       "3  10      2          2          1\n",
       "4  11      2          3          1"
      ]
     },
     "execution_count": 77,
     "metadata": {},
     "output_type": "execute_result"
    }
   ],
   "source": [
    "blob = bucket.blob('votes/accounts_group.parquet')\n",
    "parquet_bytes = blob.download_as_bytes()\n",
    "group = pd.read_parquet(io.BytesIO(parquet_bytes))\n",
    "group.head()"
   ]
  },
  {
   "cell_type": "code",
   "execution_count": 94,
   "id": "0a0b8fd7",
   "metadata": {},
   "outputs": [
    {
     "data": {
      "text/plain": [
       "(84515, 4)"
      ]
     },
     "execution_count": 94,
     "metadata": {},
     "output_type": "execute_result"
    }
   ],
   "source": [
    "group.shape"
   ]
  },
  {
   "cell_type": "code",
   "execution_count": 93,
   "id": "d297d300",
   "metadata": {},
   "outputs": [
    {
     "name": "stdout",
     "output_type": "stream",
     "text": [
      "<class 'pandas.core.frame.DataFrame'>\n",
      "RangeIndex: 84515 entries, 0 to 84514\n",
      "Data columns (total 4 columns):\n",
      " #   Column     Non-Null Count  Dtype\n",
      "---  ------     --------------  -----\n",
      " 0   id         84515 non-null  int64\n",
      " 1   grade      84515 non-null  int64\n",
      " 2   class_num  84515 non-null  int64\n",
      " 3   school_id  84515 non-null  int64\n",
      "dtypes: int64(4)\n",
      "memory usage: 2.6 MB\n"
     ]
    }
   ],
   "source": [
    "group.info()"
   ]
  },
  {
   "cell_type": "code",
   "execution_count": 80,
   "id": "786ff83c",
   "metadata": {},
   "outputs": [
    {
     "data": {
      "text/plain": [
       "school_id\n",
       "3283    49\n",
       "1773    44\n",
       "1492    44\n",
       "2212    43\n",
       "271     43\n",
       "        ..\n",
       "3584     1\n",
       "1324     1\n",
       "2953     1\n",
       "4070     1\n",
       "1135     1\n",
       "Name: count, Length: 5604, dtype: int64"
      ]
     },
     "execution_count": 80,
     "metadata": {},
     "output_type": "execute_result"
    }
   ],
   "source": [
    "group['school_id'].value_counts()"
   ]
  },
  {
   "cell_type": "code",
   "execution_count": null,
   "id": "2a06cf3b",
   "metadata": {},
   "outputs": [
    {
     "data": {
      "text/plain": [
       "5604"
      ]
     },
     "execution_count": 86,
     "metadata": {},
     "output_type": "execute_result"
    }
   ],
   "source": [
    "group['school_id'].nunique()"
   ]
  },
  {
   "cell_type": "code",
   "execution_count": null,
   "id": "b3767b30",
   "metadata": {},
   "outputs": [
    {
     "data": {
      "text/plain": [
       "grade\n",
       "2     35581\n",
       "3     29273\n",
       "1     19659\n",
       "4         1\n",
       "20        1\n",
       "Name: count, dtype: int64"
      ]
     },
     "execution_count": 81,
     "metadata": {},
     "output_type": "execute_result"
    }
   ],
   "source": [
    "# 학년 4와 1은 이상치처리해서 제거하기\n",
    "group['grade'].value_counts()"
   ]
  },
  {
   "cell_type": "code",
   "execution_count": null,
   "id": "3663497f",
   "metadata": {},
   "outputs": [],
   "source": []
  },
  {
   "cell_type": "code",
   "execution_count": null,
   "id": "cef96a89",
   "metadata": {},
   "outputs": [],
   "source": []
  },
  {
   "cell_type": "markdown",
   "id": "b88f6065",
   "metadata": {},
   "source": [
    "#### 6. accounts_nearbyschool (가까운 학교를 기록해두기 위한 관계형 테이블)"
   ]
  },
  {
   "cell_type": "code",
   "execution_count": 82,
   "id": "245083ee",
   "metadata": {},
   "outputs": [
    {
     "data": {
      "text/html": [
       "<div>\n",
       "<style scoped>\n",
       "    .dataframe tbody tr th:only-of-type {\n",
       "        vertical-align: middle;\n",
       "    }\n",
       "\n",
       "    .dataframe tbody tr th {\n",
       "        vertical-align: top;\n",
       "    }\n",
       "\n",
       "    .dataframe thead th {\n",
       "        text-align: right;\n",
       "    }\n",
       "</style>\n",
       "<table border=\"1\" class=\"dataframe\">\n",
       "  <thead>\n",
       "    <tr style=\"text-align: right;\">\n",
       "      <th></th>\n",
       "      <th>id</th>\n",
       "      <th>distance</th>\n",
       "      <th>nearby_school_id</th>\n",
       "      <th>school_id</th>\n",
       "    </tr>\n",
       "  </thead>\n",
       "  <tbody>\n",
       "    <tr>\n",
       "      <th>0</th>\n",
       "      <td>119021</td>\n",
       "      <td>0.004564</td>\n",
       "      <td>6</td>\n",
       "      <td>7</td>\n",
       "    </tr>\n",
       "    <tr>\n",
       "      <th>1</th>\n",
       "      <td>119022</td>\n",
       "      <td>0.010787</td>\n",
       "      <td>13</td>\n",
       "      <td>7</td>\n",
       "    </tr>\n",
       "    <tr>\n",
       "      <th>2</th>\n",
       "      <td>119023</td>\n",
       "      <td>0.012928</td>\n",
       "      <td>20</td>\n",
       "      <td>7</td>\n",
       "    </tr>\n",
       "    <tr>\n",
       "      <th>3</th>\n",
       "      <td>119024</td>\n",
       "      <td>0.013590</td>\n",
       "      <td>4</td>\n",
       "      <td>7</td>\n",
       "    </tr>\n",
       "    <tr>\n",
       "      <th>4</th>\n",
       "      <td>119025</td>\n",
       "      <td>0.014122</td>\n",
       "      <td>24</td>\n",
       "      <td>7</td>\n",
       "    </tr>\n",
       "  </tbody>\n",
       "</table>\n",
       "</div>"
      ],
      "text/plain": [
       "       id  distance  nearby_school_id  school_id\n",
       "0  119021  0.004564                 6          7\n",
       "1  119022  0.010787                13          7\n",
       "2  119023  0.012928                20          7\n",
       "3  119024  0.013590                 4          7\n",
       "4  119025  0.014122                24          7"
      ]
     },
     "execution_count": 82,
     "metadata": {},
     "output_type": "execute_result"
    }
   ],
   "source": [
    "blob = bucket.blob('votes/accounts_nearbyschool.parquet')\n",
    "parquet_bytes = blob.download_as_bytes()\n",
    "nearbyschool = pd.read_parquet(io.BytesIO(parquet_bytes))\n",
    "nearbyschool.head()"
   ]
  },
  {
   "cell_type": "code",
   "execution_count": 87,
   "id": "44f39ab6",
   "metadata": {},
   "outputs": [
    {
     "data": {
      "text/plain": [
       "(59500, 4)"
      ]
     },
     "execution_count": 87,
     "metadata": {},
     "output_type": "execute_result"
    }
   ],
   "source": [
    "nearbyschool.shape"
   ]
  },
  {
   "cell_type": "code",
   "execution_count": 88,
   "metadata": {},
   "outputs": [
    {
     "name": "stdout",
     "output_type": "stream",
     "text": [
      "<class 'pandas.core.frame.DataFrame'>\n",
      "RangeIndex: 59500 entries, 0 to 59499\n",
      "Data columns (total 4 columns):\n",
      " #   Column            Non-Null Count  Dtype  \n",
      "---  ------            --------------  -----  \n",
      " 0   id                59500 non-null  int64  \n",
      " 1   distance          59500 non-null  float64\n",
      " 2   nearby_school_id  59500 non-null  int64  \n",
      " 3   school_id         59500 non-null  int64  \n",
      "dtypes: float64(1), int64(3)\n",
      "memory usage: 1.8 MB\n"
     ]
    }
   ],
   "source": [
    "nearbyschool.info()"
   ]
  },
  {
   "cell_type": "code",
   "execution_count": 85,
   "id": "6940cac5",
   "metadata": {},
   "outputs": [
    {
     "data": {
      "text/plain": [
       "5950"
      ]
     },
     "execution_count": 85,
     "metadata": {},
     "output_type": "execute_result"
    }
   ],
   "source": [
    "nearbyschool['school_id'].nunique()"
   ]
  },
  {
   "cell_type": "code",
   "execution_count": null,
   "id": "46e6fa66",
   "metadata": {},
   "outputs": [],
   "source": []
  },
  {
   "cell_type": "code",
   "execution_count": null,
   "id": "6fc48952",
   "metadata": {},
   "outputs": [],
   "source": []
  },
  {
   "cell_type": "markdown",
   "id": "72576601",
   "metadata": {},
   "source": [
    "#### 7. accounts_paymenthistory (구매 기록 테이블)"
   ]
  },
  {
   "cell_type": "code",
   "execution_count": 89,
   "id": "394c9f8a",
   "metadata": {},
   "outputs": [
    {
     "data": {
      "text/html": [
       "<div>\n",
       "<style scoped>\n",
       "    .dataframe tbody tr th:only-of-type {\n",
       "        vertical-align: middle;\n",
       "    }\n",
       "\n",
       "    .dataframe tbody tr th {\n",
       "        vertical-align: top;\n",
       "    }\n",
       "\n",
       "    .dataframe thead th {\n",
       "        text-align: right;\n",
       "    }\n",
       "</style>\n",
       "<table border=\"1\" class=\"dataframe\">\n",
       "  <thead>\n",
       "    <tr style=\"text-align: right;\">\n",
       "      <th></th>\n",
       "      <th>id</th>\n",
       "      <th>productId</th>\n",
       "      <th>phone_type</th>\n",
       "      <th>created_at</th>\n",
       "      <th>user_id</th>\n",
       "    </tr>\n",
       "  </thead>\n",
       "  <tbody>\n",
       "    <tr>\n",
       "      <th>0</th>\n",
       "      <td>6</td>\n",
       "      <td>heart.777</td>\n",
       "      <td>A</td>\n",
       "      <td>2023-05-13 21:28:34</td>\n",
       "      <td>1211127</td>\n",
       "    </tr>\n",
       "    <tr>\n",
       "      <th>1</th>\n",
       "      <td>7</td>\n",
       "      <td>heart.777</td>\n",
       "      <td>A</td>\n",
       "      <td>2023-05-13 21:29:39</td>\n",
       "      <td>1151343</td>\n",
       "    </tr>\n",
       "    <tr>\n",
       "      <th>2</th>\n",
       "      <td>8</td>\n",
       "      <td>heart.777</td>\n",
       "      <td>A</td>\n",
       "      <td>2023-05-13 21:31:33</td>\n",
       "      <td>1002147</td>\n",
       "    </tr>\n",
       "    <tr>\n",
       "      <th>3</th>\n",
       "      <td>9</td>\n",
       "      <td>heart.777</td>\n",
       "      <td>A</td>\n",
       "      <td>2023-05-13 21:31:39</td>\n",
       "      <td>1095040</td>\n",
       "    </tr>\n",
       "    <tr>\n",
       "      <th>4</th>\n",
       "      <td>11</td>\n",
       "      <td>heart.777</td>\n",
       "      <td>A</td>\n",
       "      <td>2023-05-13 21:34:32</td>\n",
       "      <td>1164081</td>\n",
       "    </tr>\n",
       "  </tbody>\n",
       "</table>\n",
       "</div>"
      ],
      "text/plain": [
       "   id  productId phone_type          created_at  user_id\n",
       "0   6  heart.777          A 2023-05-13 21:28:34  1211127\n",
       "1   7  heart.777          A 2023-05-13 21:29:39  1151343\n",
       "2   8  heart.777          A 2023-05-13 21:31:33  1002147\n",
       "3   9  heart.777          A 2023-05-13 21:31:39  1095040\n",
       "4  11  heart.777          A 2023-05-13 21:34:32  1164081"
      ]
     },
     "execution_count": 89,
     "metadata": {},
     "output_type": "execute_result"
    }
   ],
   "source": [
    "blob = bucket.blob('votes/accounts_paymenthistory.parquet')\n",
    "parquet_bytes = blob.download_as_bytes()\n",
    "paymetnhistory = pd.read_parquet(io.BytesIO(parquet_bytes))\n",
    "paymetnhistory.head()"
   ]
  },
  {
   "cell_type": "code",
   "execution_count": 90,
   "id": "696e89e8",
   "metadata": {},
   "outputs": [
    {
     "data": {
      "text/plain": [
       "(95140, 5)"
      ]
     },
     "execution_count": 90,
     "metadata": {},
     "output_type": "execute_result"
    }
   ],
   "source": [
    "paymetnhistory.shape"
   ]
  },
  {
   "cell_type": "code",
   "execution_count": 91,
   "id": "6f33bbfd",
   "metadata": {},
   "outputs": [
    {
     "name": "stdout",
     "output_type": "stream",
     "text": [
      "<class 'pandas.core.frame.DataFrame'>\n",
      "RangeIndex: 95140 entries, 0 to 95139\n",
      "Data columns (total 5 columns):\n",
      " #   Column      Non-Null Count  Dtype         \n",
      "---  ------      --------------  -----         \n",
      " 0   id          95140 non-null  int64         \n",
      " 1   productId   95140 non-null  object        \n",
      " 2   phone_type  95140 non-null  object        \n",
      " 3   created_at  95140 non-null  datetime64[ns]\n",
      " 4   user_id     95140 non-null  int64         \n",
      "dtypes: datetime64[ns](1), int64(2), object(2)\n",
      "memory usage: 3.6+ MB\n"
     ]
    }
   ],
   "source": [
    "paymetnhistory.info()"
   ]
  },
  {
   "cell_type": "code",
   "execution_count": 95,
   "id": "c0a97fc7",
   "metadata": {},
   "outputs": [
    {
     "data": {
      "text/plain": [
       "productId\n",
       "heart.777     57873\n",
       "heart.1000    19309\n",
       "heart.200     15822\n",
       "heart.4000     2136\n",
       "Name: count, dtype: int64"
      ]
     },
     "execution_count": 95,
     "metadata": {},
     "output_type": "execute_result"
    }
   ],
   "source": [
    "paymetnhistory['productId'].value_counts()"
   ]
  },
  {
   "cell_type": "code",
   "execution_count": null,
   "id": "3169b9d2",
   "metadata": {},
   "outputs": [],
   "source": []
  },
  {
   "cell_type": "code",
   "execution_count": null,
   "id": "aee68c98",
   "metadata": {},
   "outputs": [],
   "source": []
  },
  {
   "cell_type": "markdown",
   "id": "28f2ca2d",
   "metadata": {},
   "source": [
    "#### 8. accounts_user_contacts (유저 컨택 테이블)"
   ]
  },
  {
   "cell_type": "code",
   "execution_count": 96,
   "id": "0131cc58",
   "metadata": {},
   "outputs": [
    {
     "data": {
      "text/html": [
       "<div>\n",
       "<style scoped>\n",
       "    .dataframe tbody tr th:only-of-type {\n",
       "        vertical-align: middle;\n",
       "    }\n",
       "\n",
       "    .dataframe tbody tr th {\n",
       "        vertical-align: top;\n",
       "    }\n",
       "\n",
       "    .dataframe thead th {\n",
       "        text-align: right;\n",
       "    }\n",
       "</style>\n",
       "<table border=\"1\" class=\"dataframe\">\n",
       "  <thead>\n",
       "    <tr style=\"text-align: right;\">\n",
       "      <th></th>\n",
       "      <th>id</th>\n",
       "      <th>contacts_count</th>\n",
       "      <th>invite_user_id_list</th>\n",
       "      <th>user_id</th>\n",
       "    </tr>\n",
       "  </thead>\n",
       "  <tbody>\n",
       "    <tr>\n",
       "      <th>0</th>\n",
       "      <td>259</td>\n",
       "      <td>30</td>\n",
       "      <td>[]</td>\n",
       "      <td>1167696</td>\n",
       "    </tr>\n",
       "    <tr>\n",
       "      <th>1</th>\n",
       "      <td>1756</td>\n",
       "      <td>79</td>\n",
       "      <td>[]</td>\n",
       "      <td>863169</td>\n",
       "    </tr>\n",
       "    <tr>\n",
       "      <th>2</th>\n",
       "      <td>13742</td>\n",
       "      <td>21</td>\n",
       "      <td>[854615]</td>\n",
       "      <td>857205</td>\n",
       "    </tr>\n",
       "    <tr>\n",
       "      <th>3</th>\n",
       "      <td>13754</td>\n",
       "      <td>29</td>\n",
       "      <td>[]</td>\n",
       "      <td>851431</td>\n",
       "    </tr>\n",
       "    <tr>\n",
       "      <th>4</th>\n",
       "      <td>13756</td>\n",
       "      <td>28</td>\n",
       "      <td>[849318]</td>\n",
       "      <td>855476</td>\n",
       "    </tr>\n",
       "  </tbody>\n",
       "</table>\n",
       "</div>"
      ],
      "text/plain": [
       "      id  contacts_count invite_user_id_list  user_id\n",
       "0    259              30                  []  1167696\n",
       "1   1756              79                  []   863169\n",
       "2  13742              21            [854615]   857205\n",
       "3  13754              29                  []   851431\n",
       "4  13756              28            [849318]   855476"
      ]
     },
     "execution_count": 96,
     "metadata": {},
     "output_type": "execute_result"
    }
   ],
   "source": [
    "blob = bucket.blob('votes/accounts_user_contacts.parquet')\n",
    "parquet_bytes = blob.download_as_bytes()\n",
    "user_contacts = pd.read_parquet(io.BytesIO(parquet_bytes))\n",
    "user_contacts.head()"
   ]
  },
  {
   "cell_type": "code",
   "execution_count": 97,
   "id": "f90840d7",
   "metadata": {},
   "outputs": [
    {
     "data": {
      "text/plain": [
       "(5063, 4)"
      ]
     },
     "execution_count": 97,
     "metadata": {},
     "output_type": "execute_result"
    }
   ],
   "source": [
    "user_contacts.shape"
   ]
  },
  {
   "cell_type": "code",
   "execution_count": 99,
   "id": "a1b153c7",
   "metadata": {},
   "outputs": [
    {
     "name": "stdout",
     "output_type": "stream",
     "text": [
      "<class 'pandas.core.frame.DataFrame'>\n",
      "RangeIndex: 5063 entries, 0 to 5062\n",
      "Data columns (total 4 columns):\n",
      " #   Column               Non-Null Count  Dtype \n",
      "---  ------               --------------  ----- \n",
      " 0   id                   5063 non-null   int64 \n",
      " 1   contacts_count       5063 non-null   int64 \n",
      " 2   invite_user_id_list  5063 non-null   object\n",
      " 3   user_id              5063 non-null   int64 \n",
      "dtypes: int64(3), object(1)\n",
      "memory usage: 158.3+ KB\n"
     ]
    }
   ],
   "source": [
    "user_contacts.info()"
   ]
  },
  {
   "cell_type": "code",
   "execution_count": null,
   "id": "c395de88",
   "metadata": {},
   "outputs": [
    {
     "data": {
      "text/plain": [
       "invite_user_id_list\n",
       "[]                          3905\n",
       "[1154585]                     15\n",
       "[1233225]                     12\n",
       "[1041381]                      9\n",
       "[936990]                       7\n",
       "                            ... \n",
       "[881077, 879139, 884682]       1\n",
       "[873550]                       1\n",
       "[880105]                       1\n",
       "[873001, 885619]               1\n",
       "[1461877]                      1\n",
       "Name: count, Length: 928, dtype: int64"
      ]
     },
     "execution_count": 101,
     "metadata": {},
     "output_type": "execute_result"
    }
   ],
   "source": [
    "# [] 이 경우 \n",
    "user_contacts['invite_user_id_list'].value_counts()"
   ]
  },
  {
   "cell_type": "code",
   "execution_count": null,
   "id": "582f03d4",
   "metadata": {},
   "outputs": [],
   "source": []
  },
  {
   "cell_type": "code",
   "execution_count": null,
   "id": "7e026542",
   "metadata": {},
   "outputs": [],
   "source": []
  },
  {
   "cell_type": "markdown",
   "id": "b44531b9",
   "metadata": {},
   "source": [
    "#### 9. accounts_pointhistory (포인트 기록 테이블)"
   ]
  },
  {
   "cell_type": "code",
   "execution_count": null,
   "id": "e10ede7e",
   "metadata": {},
   "outputs": [],
   "source": [
    "blob = bucket.blob('votes/accounts_pointhistory.parquet')\n",
    "parquet_bytes = blob.download_as_bytes()\n",
    "pointhistory = pd.read_parquet(io.BytesIO(parquet_bytes))\n",
    "pointhistory.head()"
   ]
  },
  {
   "cell_type": "code",
   "execution_count": null,
   "id": "0870329d",
   "metadata": {},
   "outputs": [],
   "source": []
  },
  {
   "cell_type": "code",
   "execution_count": null,
   "id": "2d7cb4af",
   "metadata": {},
   "outputs": [],
   "source": []
  },
  {
   "cell_type": "code",
   "execution_count": null,
   "id": "e57aa72c",
   "metadata": {},
   "outputs": [],
   "source": []
  },
  {
   "cell_type": "markdown",
   "id": "ea278695",
   "metadata": {},
   "source": [
    "#### 10. accounts_school (학교 테이블)"
   ]
  },
  {
   "cell_type": "code",
   "execution_count": null,
   "id": "d71a6ddf",
   "metadata": {},
   "outputs": [],
   "source": [
    "blob = bucket.blob('votes/accounts_school.parquet')\n",
    "parquet_bytes = blob.download_as_bytes()\n",
    "school = pd.read_parquet(io.BytesIO(parquet_bytes))\n",
    "school.head()"
   ]
  },
  {
   "cell_type": "markdown",
   "id": "cc60b047",
   "metadata": {},
   "source": [
    "#### 11. accounts_timelineReport (유저 신고기록 테이블)"
   ]
  },
  {
   "cell_type": "code",
   "execution_count": null,
   "id": "e25f28de",
   "metadata": {},
   "outputs": [],
   "source": [
    "blob = bucket.blob('votes/accounts_timelinereport.parquet')\n",
    "parquet_bytes = blob.download_as_bytes()\n",
    "timelineReport = pd.read_parquet(io.BytesIO(parquet_bytes))\n",
    "timelineReport.head()"
   ]
  },
  {
   "cell_type": "markdown",
   "id": "9483916e",
   "metadata": {},
   "source": [
    "#### 12. accounts_user (유저 테이블)"
   ]
  },
  {
   "cell_type": "code",
   "execution_count": null,
   "id": "8239b30a",
   "metadata": {},
   "outputs": [],
   "source": [
    "blob = bucket.blob('votes/accounts_user.parquet')\n",
    "parquet_bytes = blob.download_as_bytes()\n",
    "user = pd.read_parquet(io.BytesIO(parquet_bytes))\n",
    "user.head()"
   ]
  },
  {
   "cell_type": "markdown",
   "id": "7bbb28a3",
   "metadata": {},
   "source": [
    "#### 13. accounts_userquestionrecord (투표 기록 테이블)"
   ]
  },
  {
   "cell_type": "code",
   "execution_count": null,
   "id": "92f99724",
   "metadata": {},
   "outputs": [],
   "source": [
    "blob = bucket.blob('votes/accounts_userquestionrecord.parquet')\n",
    "parquet_bytes = blob.download_as_bytes()\n",
    "userquestionrecord = pd.read_parquet(io.BytesIO(parquet_bytes))\n",
    "userquestionrecord.head()"
   ]
  },
  {
   "cell_type": "markdown",
   "id": "de91ed50",
   "metadata": {},
   "source": [
    "#### 14. accounts_userwithdraw (탈퇴 기록 테이블)"
   ]
  },
  {
   "cell_type": "code",
   "execution_count": null,
   "id": "67c909ca",
   "metadata": {},
   "outputs": [],
   "source": [
    "blob = bucket.blob('votes/accounts_userwithdraw.parquet')\n",
    "parquet_bytes = blob.download_as_bytes()\n",
    "userwithdraw = pd.read_parquet(io.BytesIO(parquet_bytes))\n",
    "userwithdraw.head()"
   ]
  },
  {
   "cell_type": "markdown",
   "id": "86852701",
   "metadata": {},
   "source": [
    "#### 15. event_receipts (포인트 이벤트 참여 테이블)"
   ]
  },
  {
   "cell_type": "code",
   "execution_count": null,
   "id": "d0885d40",
   "metadata": {},
   "outputs": [],
   "source": [
    "blob = bucket.blob('votes/event_receipts.parquet')\n",
    "parquet_bytes = blob.download_as_bytes()\n",
    "receipts = pd.read_parquet(io.BytesIO(parquet_bytes))\n",
    "receipts.head()"
   ]
  },
  {
   "cell_type": "markdown",
   "id": "56549fb4",
   "metadata": {},
   "source": [
    "#### 16. events (포인트 이벤트 테이블)"
   ]
  },
  {
   "cell_type": "code",
   "execution_count": null,
   "id": "7d3141c2",
   "metadata": {},
   "outputs": [],
   "source": [
    "blob = bucket.blob('votes/events.parquet')\n",
    "parquet_bytes = blob.download_as_bytes()\n",
    "events = pd.read_parquet(io.BytesIO(parquet_bytes))\n",
    "events.head()"
   ]
  },
  {
   "cell_type": "markdown",
   "id": "341cb51d",
   "metadata": {},
   "source": [
    "#### 17. polls_question (질문 내용 테이블)\n",
    "\n",
    "\n"
   ]
  },
  {
   "cell_type": "code",
   "execution_count": 70,
   "id": "078e8363",
   "metadata": {},
   "outputs": [
    {
     "data": {
      "text/html": [
       "<div>\n",
       "<style scoped>\n",
       "    .dataframe tbody tr th:only-of-type {\n",
       "        vertical-align: middle;\n",
       "    }\n",
       "\n",
       "    .dataframe tbody tr th {\n",
       "        vertical-align: top;\n",
       "    }\n",
       "\n",
       "    .dataframe thead th {\n",
       "        text-align: right;\n",
       "    }\n",
       "</style>\n",
       "<table border=\"1\" class=\"dataframe\">\n",
       "  <thead>\n",
       "    <tr style=\"text-align: right;\">\n",
       "      <th></th>\n",
       "      <th>id</th>\n",
       "      <th>question_text</th>\n",
       "      <th>created_at</th>\n",
       "    </tr>\n",
       "  </thead>\n",
       "  <tbody>\n",
       "    <tr>\n",
       "      <th>0</th>\n",
       "      <td>99</td>\n",
       "      <td>가장 신비한 매력이 있는 사람은?</td>\n",
       "      <td>2023-03-31 15:22:53</td>\n",
       "    </tr>\n",
       "    <tr>\n",
       "      <th>1</th>\n",
       "      <td>100</td>\n",
       "      <td>\"이 사람으로 한 번 살아보고 싶다\" 하는 사람은?</td>\n",
       "      <td>2023-03-31 15:22:53</td>\n",
       "    </tr>\n",
       "    <tr>\n",
       "      <th>2</th>\n",
       "      <td>101</td>\n",
       "      <td>미래의 틱톡커는?</td>\n",
       "      <td>2023-03-31 15:22:54</td>\n",
       "    </tr>\n",
       "    <tr>\n",
       "      <th>3</th>\n",
       "      <td>102</td>\n",
       "      <td>여기서 제일 특이한 친구는?</td>\n",
       "      <td>2023-03-31 15:22:54</td>\n",
       "    </tr>\n",
       "    <tr>\n",
       "      <th>4</th>\n",
       "      <td>103</td>\n",
       "      <td>가장 지켜주고 싶은 사람은?</td>\n",
       "      <td>2023-03-31 15:22:55</td>\n",
       "    </tr>\n",
       "  </tbody>\n",
       "</table>\n",
       "</div>"
      ],
      "text/plain": [
       "    id                 question_text          created_at\n",
       "0   99            가장 신비한 매력이 있는 사람은? 2023-03-31 15:22:53\n",
       "1  100  \"이 사람으로 한 번 살아보고 싶다\" 하는 사람은? 2023-03-31 15:22:53\n",
       "2  101                     미래의 틱톡커는? 2023-03-31 15:22:54\n",
       "3  102               여기서 제일 특이한 친구는? 2023-03-31 15:22:54\n",
       "4  103               가장 지켜주고 싶은 사람은? 2023-03-31 15:22:55"
      ]
     },
     "execution_count": 70,
     "metadata": {},
     "output_type": "execute_result"
    }
   ],
   "source": [
    "blob = bucket.blob('votes/polls_question.parquet')\n",
    "parquet_bytes = blob.download_as_bytes()\n",
    "polls_question = pd.read_parquet(io.BytesIO(parquet_bytes))\n",
    "polls_question.head()"
   ]
  },
  {
   "cell_type": "code",
   "execution_count": 73,
   "id": "d0cd281d",
   "metadata": {},
   "outputs": [
    {
     "data": {
      "text/plain": [
       "(5025, 3)"
      ]
     },
     "execution_count": 73,
     "metadata": {},
     "output_type": "execute_result"
    }
   ],
   "source": [
    "polls_question.shape"
   ]
  },
  {
   "cell_type": "code",
   "execution_count": null,
   "id": "c561998e",
   "metadata": {},
   "outputs": [],
   "source": []
  },
  {
   "cell_type": "code",
   "execution_count": null,
   "id": "5b587954",
   "metadata": {},
   "outputs": [],
   "source": []
  },
  {
   "cell_type": "markdown",
   "id": "787e67c6",
   "metadata": {},
   "source": [
    "#### 18. polls_questionpiece (질문 테이블)"
   ]
  },
  {
   "cell_type": "code",
   "execution_count": 74,
   "id": "f74b3727",
   "metadata": {},
   "outputs": [
    {
     "data": {
      "text/html": [
       "<div>\n",
       "<style scoped>\n",
       "    .dataframe tbody tr th:only-of-type {\n",
       "        vertical-align: middle;\n",
       "    }\n",
       "\n",
       "    .dataframe tbody tr th {\n",
       "        vertical-align: top;\n",
       "    }\n",
       "\n",
       "    .dataframe thead th {\n",
       "        text-align: right;\n",
       "    }\n",
       "</style>\n",
       "<table border=\"1\" class=\"dataframe\">\n",
       "  <thead>\n",
       "    <tr style=\"text-align: right;\">\n",
       "      <th></th>\n",
       "      <th>id</th>\n",
       "      <th>is_voted</th>\n",
       "      <th>created_at</th>\n",
       "      <th>question_id</th>\n",
       "      <th>is_skipped</th>\n",
       "    </tr>\n",
       "  </thead>\n",
       "  <tbody>\n",
       "    <tr>\n",
       "      <th>0</th>\n",
       "      <td>998458</td>\n",
       "      <td>1</td>\n",
       "      <td>2023-04-28 12:27:22</td>\n",
       "      <td>252</td>\n",
       "      <td>0</td>\n",
       "    </tr>\n",
       "    <tr>\n",
       "      <th>1</th>\n",
       "      <td>998459</td>\n",
       "      <td>1</td>\n",
       "      <td>2023-04-28 12:27:22</td>\n",
       "      <td>244</td>\n",
       "      <td>0</td>\n",
       "    </tr>\n",
       "    <tr>\n",
       "      <th>2</th>\n",
       "      <td>998460</td>\n",
       "      <td>1</td>\n",
       "      <td>2023-04-28 12:27:22</td>\n",
       "      <td>183</td>\n",
       "      <td>0</td>\n",
       "    </tr>\n",
       "    <tr>\n",
       "      <th>3</th>\n",
       "      <td>998461</td>\n",
       "      <td>1</td>\n",
       "      <td>2023-04-28 12:27:22</td>\n",
       "      <td>101</td>\n",
       "      <td>0</td>\n",
       "    </tr>\n",
       "    <tr>\n",
       "      <th>4</th>\n",
       "      <td>998462</td>\n",
       "      <td>1</td>\n",
       "      <td>2023-04-28 12:27:22</td>\n",
       "      <td>209</td>\n",
       "      <td>0</td>\n",
       "    </tr>\n",
       "  </tbody>\n",
       "</table>\n",
       "</div>"
      ],
      "text/plain": [
       "       id  is_voted          created_at  question_id  is_skipped\n",
       "0  998458         1 2023-04-28 12:27:22          252           0\n",
       "1  998459         1 2023-04-28 12:27:22          244           0\n",
       "2  998460         1 2023-04-28 12:27:22          183           0\n",
       "3  998461         1 2023-04-28 12:27:22          101           0\n",
       "4  998462         1 2023-04-28 12:27:22          209           0"
      ]
     },
     "execution_count": 74,
     "metadata": {},
     "output_type": "execute_result"
    }
   ],
   "source": [
    "blob = bucket.blob('votes/polls_questionpiece.parquet')\n",
    "parquet_bytes = blob.download_as_bytes()\n",
    "questionpiece = pd.read_parquet(io.BytesIO(parquet_bytes))\n",
    "questionpiece.head()"
   ]
  },
  {
   "cell_type": "code",
   "execution_count": 76,
   "id": "c07ca51e",
   "metadata": {},
   "outputs": [
    {
     "data": {
      "text/plain": [
       "(1265476, 5)"
      ]
     },
     "execution_count": 76,
     "metadata": {},
     "output_type": "execute_result"
    }
   ],
   "source": [
    "questionpiece.shape"
   ]
  },
  {
   "cell_type": "markdown",
   "id": "5919763a",
   "metadata": {},
   "source": [
    "#### 19. polls_questionreport (질문에 대한 신고 기록 테이블)"
   ]
  },
  {
   "cell_type": "code",
   "execution_count": null,
   "id": "5e687005",
   "metadata": {},
   "outputs": [],
   "source": [
    "blob = bucket.blob('votes/polls_questionreport.parquet')\n",
    "parquet_bytes = blob.download_as_bytes()\n",
    "questionreport = pd.read_parquet(io.BytesIO(parquet_bytes))\n",
    "questionreport.head()"
   ]
  },
  {
   "cell_type": "markdown",
   "id": "13d4ad8b",
   "metadata": {},
   "source": [
    "#### 20. polls_questionset (질문 세트 테이블)"
   ]
  },
  {
   "cell_type": "code",
   "execution_count": 71,
   "id": "64eacc3d",
   "metadata": {},
   "outputs": [
    {
     "data": {
      "text/html": [
       "<div>\n",
       "<style scoped>\n",
       "    .dataframe tbody tr th:only-of-type {\n",
       "        vertical-align: middle;\n",
       "    }\n",
       "\n",
       "    .dataframe tbody tr th {\n",
       "        vertical-align: top;\n",
       "    }\n",
       "\n",
       "    .dataframe thead th {\n",
       "        text-align: right;\n",
       "    }\n",
       "</style>\n",
       "<table border=\"1\" class=\"dataframe\">\n",
       "  <thead>\n",
       "    <tr style=\"text-align: right;\">\n",
       "      <th></th>\n",
       "      <th>id</th>\n",
       "      <th>question_piece_id_list</th>\n",
       "      <th>opening_time</th>\n",
       "      <th>status</th>\n",
       "      <th>created_at</th>\n",
       "      <th>user_id</th>\n",
       "    </tr>\n",
       "  </thead>\n",
       "  <tbody>\n",
       "    <tr>\n",
       "      <th>0</th>\n",
       "      <td>99817</td>\n",
       "      <td>[998458, 998459, 998460, 998461, 998462, 99846...</td>\n",
       "      <td>2023-04-28 12:27:22</td>\n",
       "      <td>F</td>\n",
       "      <td>2023-04-28 12:27:23</td>\n",
       "      <td>849436</td>\n",
       "    </tr>\n",
       "    <tr>\n",
       "      <th>1</th>\n",
       "      <td>99830</td>\n",
       "      <td>[998588, 998589, 998590, 998591, 998592, 99859...</td>\n",
       "      <td>2023-04-28 12:28:07</td>\n",
       "      <td>F</td>\n",
       "      <td>2023-04-28 12:28:07</td>\n",
       "      <td>849438</td>\n",
       "    </tr>\n",
       "    <tr>\n",
       "      <th>2</th>\n",
       "      <td>99840</td>\n",
       "      <td>[998689, 998691, 998693, 998695, 998697, 99869...</td>\n",
       "      <td>2023-04-28 12:28:38</td>\n",
       "      <td>F</td>\n",
       "      <td>2023-04-28 12:28:38</td>\n",
       "      <td>847375</td>\n",
       "    </tr>\n",
       "    <tr>\n",
       "      <th>3</th>\n",
       "      <td>99841</td>\n",
       "      <td>[998688, 998690, 998692, 998694, 998696, 99869...</td>\n",
       "      <td>2023-04-28 12:28:38</td>\n",
       "      <td>F</td>\n",
       "      <td>2023-04-28 12:28:38</td>\n",
       "      <td>849446</td>\n",
       "    </tr>\n",
       "    <tr>\n",
       "      <th>4</th>\n",
       "      <td>99848</td>\n",
       "      <td>[998768, 998769, 998770, 998771, 998772, 99877...</td>\n",
       "      <td>2023-04-28 12:28:57</td>\n",
       "      <td>F</td>\n",
       "      <td>2023-04-28 12:28:57</td>\n",
       "      <td>849477</td>\n",
       "    </tr>\n",
       "  </tbody>\n",
       "</table>\n",
       "</div>"
      ],
      "text/plain": [
       "      id                             question_piece_id_list  \\\n",
       "0  99817  [998458, 998459, 998460, 998461, 998462, 99846...   \n",
       "1  99830  [998588, 998589, 998590, 998591, 998592, 99859...   \n",
       "2  99840  [998689, 998691, 998693, 998695, 998697, 99869...   \n",
       "3  99841  [998688, 998690, 998692, 998694, 998696, 99869...   \n",
       "4  99848  [998768, 998769, 998770, 998771, 998772, 99877...   \n",
       "\n",
       "         opening_time status          created_at  user_id  \n",
       "0 2023-04-28 12:27:22      F 2023-04-28 12:27:23   849436  \n",
       "1 2023-04-28 12:28:07      F 2023-04-28 12:28:07   849438  \n",
       "2 2023-04-28 12:28:38      F 2023-04-28 12:28:38   847375  \n",
       "3 2023-04-28 12:28:38      F 2023-04-28 12:28:38   849446  \n",
       "4 2023-04-28 12:28:57      F 2023-04-28 12:28:57   849477  "
      ]
     },
     "execution_count": 71,
     "metadata": {},
     "output_type": "execute_result"
    }
   ],
   "source": [
    "blob = bucket.blob('votes/polls_questionset.parquet')\n",
    "parquet_bytes = blob.download_as_bytes()\n",
    "questionset = pd.read_parquet(io.BytesIO(parquet_bytes))\n",
    "questionset.head()"
   ]
  },
  {
   "cell_type": "markdown",
   "id": "5c87779c",
   "metadata": {},
   "source": [
    "#### 21. polls_usercandidate (질문에 등장하는 유저들 테이블)"
   ]
  },
  {
   "cell_type": "code",
   "execution_count": 72,
   "id": "2bdca908",
   "metadata": {},
   "outputs": [
    {
     "data": {
      "text/html": [
       "<div>\n",
       "<style scoped>\n",
       "    .dataframe tbody tr th:only-of-type {\n",
       "        vertical-align: middle;\n",
       "    }\n",
       "\n",
       "    .dataframe tbody tr th {\n",
       "        vertical-align: top;\n",
       "    }\n",
       "\n",
       "    .dataframe thead th {\n",
       "        text-align: right;\n",
       "    }\n",
       "</style>\n",
       "<table border=\"1\" class=\"dataframe\">\n",
       "  <thead>\n",
       "    <tr style=\"text-align: right;\">\n",
       "      <th></th>\n",
       "      <th>id</th>\n",
       "      <th>created_at</th>\n",
       "      <th>question_piece_id</th>\n",
       "      <th>user_id</th>\n",
       "    </tr>\n",
       "  </thead>\n",
       "  <tbody>\n",
       "    <tr>\n",
       "      <th>0</th>\n",
       "      <td>3088872</td>\n",
       "      <td>2023-04-28 12:27:49</td>\n",
       "      <td>998458</td>\n",
       "      <td>849444</td>\n",
       "    </tr>\n",
       "    <tr>\n",
       "      <th>1</th>\n",
       "      <td>3088873</td>\n",
       "      <td>2023-04-28 12:27:49</td>\n",
       "      <td>998458</td>\n",
       "      <td>849454</td>\n",
       "    </tr>\n",
       "    <tr>\n",
       "      <th>2</th>\n",
       "      <td>3088874</td>\n",
       "      <td>2023-04-28 12:27:49</td>\n",
       "      <td>998458</td>\n",
       "      <td>849460</td>\n",
       "    </tr>\n",
       "    <tr>\n",
       "      <th>3</th>\n",
       "      <td>3088875</td>\n",
       "      <td>2023-04-28 12:27:49</td>\n",
       "      <td>998458</td>\n",
       "      <td>849469</td>\n",
       "    </tr>\n",
       "    <tr>\n",
       "      <th>4</th>\n",
       "      <td>3088964</td>\n",
       "      <td>2023-04-28 12:28:02</td>\n",
       "      <td>998459</td>\n",
       "      <td>849446</td>\n",
       "    </tr>\n",
       "  </tbody>\n",
       "</table>\n",
       "</div>"
      ],
      "text/plain": [
       "        id          created_at  question_piece_id  user_id\n",
       "0  3088872 2023-04-28 12:27:49             998458   849444\n",
       "1  3088873 2023-04-28 12:27:49             998458   849454\n",
       "2  3088874 2023-04-28 12:27:49             998458   849460\n",
       "3  3088875 2023-04-28 12:27:49             998458   849469\n",
       "4  3088964 2023-04-28 12:28:02             998459   849446"
      ]
     },
     "execution_count": 72,
     "metadata": {},
     "output_type": "execute_result"
    }
   ],
   "source": [
    "blob = bucket.blob('votes/polls_usercandidate.parquet')\n",
    "parquet_bytes = blob.download_as_bytes()\n",
    "usercandidate = pd.read_parquet(io.BytesIO(parquet_bytes))\n",
    "usercandidate.head()"
   ]
  },
  {
   "cell_type": "markdown",
   "metadata": {},
   "source": []
  },
  {
   "cell_type": "markdown",
   "metadata": {},
   "source": []
  },
  {
   "cell_type": "code",
   "execution_count": null,
   "id": "6628cd69",
   "metadata": {},
   "outputs": [],
   "source": []
  },
  {
   "cell_type": "code",
   "execution_count": null,
   "id": "91dd7c17",
   "metadata": {},
   "outputs": [],
   "source": []
  }
 ],
 "metadata": {
  "kernelspec": {
   "display_name": "Python 3",
   "language": "python",
   "name": "python3"
  },
  "language_info": {
   "codemirror_mode": {
    "name": "ipython",
    "version": 3
   },
   "file_extension": ".py",
   "mimetype": "text/x-python",
   "name": "python",
   "nbconvert_exporter": "python",
   "pygments_lexer": "ipython3",
   "version": "3.12.3"
  }
 },
 "nbformat": 4,
 "nbformat_minor": 5
}
