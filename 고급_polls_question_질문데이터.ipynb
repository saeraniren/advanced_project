{
 "cells": [
  {
   "cell_type": "code",
   "execution_count": 2,
   "id": "b21515bc",
   "metadata": {},
   "outputs": [],
   "source": [
    "import pandas as pd\n",
    "import numpy as np\n",
    "import matplotlib.pyplot as plt\n",
    "import seaborn as sns\n",
    "import os\n",
    "import matplotlib.font_manager as fm\n",
    "import koreanize_matplotlib\n",
    "\n",
    "# 폰트 경로 확인 및 설정\n",
    "font_path = '/usr/share/fonts/truetype/nanum/NanumGothic.ttf'  # 설치된 폰트 경로\n",
    "font_name = fm.FontProperties(fname=font_path).get_name()\n",
    "plt.rc('font', family=font_name)\n",
    "\n",
    "# 한글 깨짐 방지 - 마이너스 기호 처리\n",
    "plt.rcParams['axes.unicode_minus'] = False"
   ]
  },
  {
   "cell_type": "code",
   "execution_count": 3,
   "id": "9f73e77b",
   "metadata": {},
   "outputs": [
    {
     "data": {
      "text/html": [
       "<div>\n",
       "<style scoped>\n",
       "    .dataframe tbody tr th:only-of-type {\n",
       "        vertical-align: middle;\n",
       "    }\n",
       "\n",
       "    .dataframe tbody tr th {\n",
       "        vertical-align: top;\n",
       "    }\n",
       "\n",
       "    .dataframe thead th {\n",
       "        text-align: right;\n",
       "    }\n",
       "</style>\n",
       "<table border=\"1\" class=\"dataframe\">\n",
       "  <thead>\n",
       "    <tr style=\"text-align: right;\">\n",
       "      <th></th>\n",
       "      <th>id</th>\n",
       "      <th>question_text</th>\n",
       "      <th>created_at</th>\n",
       "    </tr>\n",
       "  </thead>\n",
       "  <tbody>\n",
       "    <tr>\n",
       "      <th>0</th>\n",
       "      <td>99</td>\n",
       "      <td>가장 신비한 매력이 있는 사람은?</td>\n",
       "      <td>2023-03-31 15:22:53</td>\n",
       "    </tr>\n",
       "    <tr>\n",
       "      <th>1</th>\n",
       "      <td>100</td>\n",
       "      <td>\"이 사람으로 한 번 살아보고 싶다\" 하는 사람은?</td>\n",
       "      <td>2023-03-31 15:22:53</td>\n",
       "    </tr>\n",
       "    <tr>\n",
       "      <th>2</th>\n",
       "      <td>101</td>\n",
       "      <td>미래의 틱톡커는?</td>\n",
       "      <td>2023-03-31 15:22:54</td>\n",
       "    </tr>\n",
       "    <tr>\n",
       "      <th>3</th>\n",
       "      <td>102</td>\n",
       "      <td>여기서 제일 특이한 친구는?</td>\n",
       "      <td>2023-03-31 15:22:54</td>\n",
       "    </tr>\n",
       "    <tr>\n",
       "      <th>4</th>\n",
       "      <td>103</td>\n",
       "      <td>가장 지켜주고 싶은 사람은?</td>\n",
       "      <td>2023-03-31 15:22:55</td>\n",
       "    </tr>\n",
       "    <tr>\n",
       "      <th>...</th>\n",
       "      <td>...</td>\n",
       "      <td>...</td>\n",
       "      <td>...</td>\n",
       "    </tr>\n",
       "    <tr>\n",
       "      <th>5020</th>\n",
       "      <td>5129</td>\n",
       "      <td>나에게 가장 중요한 사람은?</td>\n",
       "      <td>2023-06-06 06:15:52</td>\n",
       "    </tr>\n",
       "    <tr>\n",
       "      <th>5021</th>\n",
       "      <td>5130</td>\n",
       "      <td>오목을 제일 잘 할 것 같은 사람은?</td>\n",
       "      <td>2023-06-06 06:15:52</td>\n",
       "    </tr>\n",
       "    <tr>\n",
       "      <th>5022</th>\n",
       "      <td>5131</td>\n",
       "      <td>가방에서 쓰레기가 안 나올 것 같은 사람은?</td>\n",
       "      <td>2023-06-06 06:15:52</td>\n",
       "    </tr>\n",
       "    <tr>\n",
       "      <th>5023</th>\n",
       "      <td>5132</td>\n",
       "      <td>아무리 많은 숙제도 30분만에 다 끝내버릴 수 있을 것 같은 친구는?</td>\n",
       "      <td>2023-06-06 06:15:52</td>\n",
       "    </tr>\n",
       "    <tr>\n",
       "      <th>5024</th>\n",
       "      <td>5133</td>\n",
       "      <td>러브레터를 가장 잘 쓸 것 같은 사람은?</td>\n",
       "      <td>2023-06-06 06:15:52</td>\n",
       "    </tr>\n",
       "  </tbody>\n",
       "</table>\n",
       "<p>5025 rows × 3 columns</p>\n",
       "</div>"
      ],
      "text/plain": [
       "        id                           question_text          created_at\n",
       "0       99                      가장 신비한 매력이 있는 사람은? 2023-03-31 15:22:53\n",
       "1      100            \"이 사람으로 한 번 살아보고 싶다\" 하는 사람은? 2023-03-31 15:22:53\n",
       "2      101                               미래의 틱톡커는? 2023-03-31 15:22:54\n",
       "3      102                         여기서 제일 특이한 친구는? 2023-03-31 15:22:54\n",
       "4      103                         가장 지켜주고 싶은 사람은? 2023-03-31 15:22:55\n",
       "...    ...                                     ...                 ...\n",
       "5020  5129                         나에게 가장 중요한 사람은? 2023-06-06 06:15:52\n",
       "5021  5130                    오목을 제일 잘 할 것 같은 사람은? 2023-06-06 06:15:52\n",
       "5022  5131                가방에서 쓰레기가 안 나올 것 같은 사람은? 2023-06-06 06:15:52\n",
       "5023  5132  아무리 많은 숙제도 30분만에 다 끝내버릴 수 있을 것 같은 친구는? 2023-06-06 06:15:52\n",
       "5024  5133                  러브레터를 가장 잘 쓸 것 같은 사람은? 2023-06-06 06:15:52\n",
       "\n",
       "[5025 rows x 3 columns]"
      ]
     },
     "execution_count": 3,
     "metadata": {},
     "output_type": "execute_result"
    }
   ],
   "source": [
    "# 서비스 계정 키 경로 설정\n",
    "os.environ[\"GOOGLE_APPLICATION_CREDENTIALS\"] = r\"/home/eunyu/sprintda05-eunyu-a9946f7dea9c.json\"\n",
    "\n",
    "# GCS의 Parquet 파일 경로\n",
    "gcs_path = 'gs://final_project_enuyu/data/final_project/votes/polls_question.parquet'\n",
    "\n",
    "# 데이터 불러오기\n",
    "question_df = pd.read_parquet(gcs_path, engine='pyarrow')\n",
    "question_df"
   ]
  },
  {
   "cell_type": "code",
   "execution_count": 4,
   "id": "c0985788",
   "metadata": {},
   "outputs": [
    {
     "data": {
      "text/plain": [
       "id                        int64\n",
       "question_text            object\n",
       "created_at       datetime64[ns]\n",
       "dtype: object"
      ]
     },
     "execution_count": 4,
     "metadata": {},
     "output_type": "execute_result"
    }
   ],
   "source": [
    "question_df.dtypes"
   ]
  },
  {
   "cell_type": "code",
   "execution_count": 5,
   "id": "61382b12",
   "metadata": {},
   "outputs": [
    {
     "data": {
      "text/plain": [
       "id               0\n",
       "question_text    0\n",
       "created_at       0\n",
       "dtype: int64"
      ]
     },
     "execution_count": 5,
     "metadata": {},
     "output_type": "execute_result"
    }
   ],
   "source": [
    "question_df.isnull().sum()"
   ]
  },
  {
   "cell_type": "code",
   "execution_count": 6,
   "id": "445a6253",
   "metadata": {},
   "outputs": [
    {
     "data": {
      "text/plain": [
       "3903"
      ]
     },
     "execution_count": 6,
     "metadata": {},
     "output_type": "execute_result"
    }
   ],
   "source": [
    "question_df['question_text'].nunique()  # 전체 질문 개수 (중복 제거 기준)"
   ]
  },
  {
   "cell_type": "code",
   "execution_count": 7,
   "id": "2f1e64dc",
   "metadata": {},
   "outputs": [
    {
     "data": {
      "text/plain": [
       "question_text\n",
       "vote                           56\n",
       "인생 2회차인 것 같은 사람은?               3\n",
       "2세가 가장 귀여울 것 같은 사람은?            3\n",
       "눈이 제일 큰 사람은?                    3\n",
       "지금 뭐하는지 궁금한 친구                  3\n",
       "같이 밥먹고 싶은 사람은?                  3\n",
       "가장 어른스러운 친구는?                   2\n",
       "30살까지 애인이 안생기면 결혼하고 싶은 친구는?     2\n",
       "과즙상인 친구는?                       2\n",
       "우리집 비밀번호 알려줘도 괜찮은 사람은?          2\n",
       "목소리에 오토튠 깔려있는것 같은 사람            2\n",
       "홍대에서 춤 출것 같은 친구는?               2\n",
       "무지개와 가장 잘 어울리는 사람               2\n",
       "도마뱀을 닮은 사람은?                    2\n",
       "나중에 슈퍼카 타고 다닐 것 같은 사람?          2\n",
       "결혼식에서 사회를 봐줬으면 하는 친구는?          2\n",
       "엘리베이터에 갇혔을 때 전화하고 싶은 사람은?       2\n",
       "어딜 가도 혼자 잘 지낼 것 같은 사람은?         2\n",
       "호그와트의 분위기가 가장 어울리는 친구는?         2\n",
       "나와의 추억이 가장 많은 사람은?              2\n",
       "Name: count, dtype: int64"
      ]
     },
     "execution_count": 7,
     "metadata": {},
     "output_type": "execute_result"
    }
   ],
   "source": [
    "question_df['question_text'].value_counts().head(20)"
   ]
  },
  {
   "cell_type": "code",
   "execution_count": 8,
   "id": "45866a70",
   "metadata": {},
   "outputs": [
    {
     "data": {
      "text/plain": [
       "array(['가장 신비한 매력이 있는 사람은?', '\"이 사람으로 한 번 살아보고 싶다\" 하는 사람은?', '미래의 틱톡커는?',\n",
       "       '여기서 제일 특이한 친구는?', '가장 지켜주고 싶은 사람은?', '내 어깨를 내어줄 수 있는 사람은?',\n",
       "       '볼 한 번 눌러보고 싶은 사람은?', '은근히 애교가 많을 것 같은 사람은?',\n",
       "       '누가 봐도 좋아할 것 같은 호감인 사람은?', '가장 매력적인 사람은?'], dtype=object)"
      ]
     },
     "execution_count": 8,
     "metadata": {},
     "output_type": "execute_result"
    }
   ],
   "source": [
    "question_df['question_text'].dropna().unique()[:10]"
   ]
  },
  {
   "cell_type": "code",
   "execution_count": null,
   "id": "433217bd",
   "metadata": {},
   "outputs": [],
   "source": []
  },
  {
   "cell_type": "markdown",
   "id": "9ae7ff6e",
   "metadata": {},
   "source": [
    "#### 중복 질문"
   ]
  },
  {
   "cell_type": "code",
   "execution_count": 9,
   "id": "e7ecc857",
   "metadata": {},
   "outputs": [
    {
     "name": "stdout",
     "output_type": "stream",
     "text": [
      "전체 질문 수: 5025\n",
      "고유 질문 수: 3903\n",
      "중복된 질문 수: 1122\n",
      "중복 비율: 22.33%\n"
     ]
    }
   ],
   "source": [
    "# 전체 질문 수\n",
    "total = question_df['question_text'].shape[0]\n",
    "\n",
    "# 중복 제거 후 질문 수\n",
    "unique = question_df['question_text'].nunique()\n",
    "\n",
    "# 중복된 질문 수\n",
    "duplicates = total - unique\n",
    "\n",
    "print(f\"전체 질문 수: {total}\")\n",
    "print(f\"고유 질문 수: {unique}\")\n",
    "print(f\"중복된 질문 수: {duplicates}\")\n",
    "print(f\"중복 비율: {duplicates / total:.2%}\")\n"
   ]
  },
  {
   "cell_type": "code",
   "execution_count": 10,
   "id": "834c311e",
   "metadata": {},
   "outputs": [
    {
     "name": "stdout",
     "output_type": "stream",
     "text": [
      "중복 질문 예시 (Top 10):\n",
      "question_text\n",
      "vote                           56\n",
      "인생 2회차인 것 같은 사람은?               3\n",
      "2세가 가장 귀여울 것 같은 사람은?            3\n",
      "눈이 제일 큰 사람은?                    3\n",
      "지금 뭐하는지 궁금한 친구                  3\n",
      "같이 밥먹고 싶은 사람은?                  3\n",
      "가장 어른스러운 친구는?                   2\n",
      "30살까지 애인이 안생기면 결혼하고 싶은 친구는?     2\n",
      "과즙상인 친구는?                       2\n",
      "우리집 비밀번호 알려줘도 괜찮은 사람은?          2\n",
      "Name: count, dtype: int64\n"
     ]
    }
   ],
   "source": [
    "# 중복된 질문들만 추출\n",
    "dup_questions = question_df['question_text'].value_counts()\n",
    "dup_questions = dup_questions[dup_questions > 1]\n",
    "\n",
    "print(\"중복 질문 예시 (Top 10):\")\n",
    "print(dup_questions.head(10))\n"
   ]
  },
  {
   "cell_type": "code",
   "execution_count": 11,
   "id": "24880f0b",
   "metadata": {},
   "outputs": [
    {
     "data": {
      "text/plain": [
       "question_text\n",
       "1000만원 주고 365일 학교 오라고 하면 올 것 같은 사람은?    [2023-06-06 06:10:08, 2023-06-06 06:15:42]\n",
       "10년 후에 건물주일 것  같은 사람                    [2023-06-06 06:10:12, 2023-06-06 06:15:47]\n",
       "20년 뒤 돈 많은 백수가 될 것 같은 사람은?              [2023-06-06 06:10:10, 2023-06-06 06:15:44]\n",
       "20년뒤 TV에 출연할 것 같은사람은?                   [2023-06-06 06:10:12, 2023-06-06 06:15:46]\n",
       "20대를 가장 재미있게 보낼 것 같은 사람은?               [2023-05-15 13:59:01, 2023-06-02 08:07:09]\n",
       "                                                           ...                    \n",
       "휴대폰 액정이 가장 많이 깨져 있을 것 같은사람              [2023-06-06 06:10:14, 2023-06-06 06:15:49]\n",
       "히어로 영화를 가장 좋아할 것 같은 친구는?                [2023-06-06 06:10:15, 2023-06-06 06:15:50]\n",
       "힌트 없이도 내가 누군지 맞출 수 있을 것 같은 친구는?         [2023-06-06 06:10:08, 2023-06-06 06:15:42]\n",
       "힘을 숨기고 있을 것 같은 사람은?                     [2023-06-06 06:10:09, 2023-06-06 06:15:44]\n",
       "힙합 남친을 두면 가장 잘 어울릴 것 같은 사람은?            [2023-06-06 06:10:10, 2023-06-06 06:15:44]\n",
       "Name: created_at, Length: 1063, dtype: object"
      ]
     },
     "execution_count": 11,
     "metadata": {},
     "output_type": "execute_result"
    }
   ],
   "source": [
    "# 중복 질문만 필터링\n",
    "duplicated_q = question_df[question_df.duplicated('question_text', keep=False)]\n",
    "\n",
    "# 질문별 생성 시각 분포\n",
    "duplicated_q.groupby('question_text')['created_at'].apply(list)\n"
   ]
  },
  {
   "cell_type": "code",
   "execution_count": null,
   "id": "85b67264",
   "metadata": {},
   "outputs": [],
   "source": []
  },
  {
   "cell_type": "markdown",
   "id": "76c3ae68",
   "metadata": {},
   "source": [
    "### 시간대별 질문 생성 추이"
   ]
  },
  {
   "cell_type": "code",
   "execution_count": 12,
   "id": "8531ade5",
   "metadata": {},
   "outputs": [],
   "source": [
    "import matplotlib.pyplot as plt\n",
    "import matplotlib.font_manager as fm\n",
    "\n",
    "# 폰트 경로 확인 및 설정\n",
    "font_path = '/usr/share/fonts/truetype/nanum/NanumGothic.ttf'  # 설치된 폰트 경로\n",
    "font_name = fm.FontProperties(fname=font_path).get_name()\n",
    "plt.rc('font', family=font_name)\n",
    "\n",
    "# 한글 깨짐 방지 - 마이너스 기호 처리\n",
    "plt.rcParams['axes.unicode_minus'] = False"
   ]
  },
  {
   "cell_type": "code",
   "execution_count": 41,
   "id": "d8b2ee30",
   "metadata": {},
   "outputs": [
    {
     "data": {
      "image/png": "[encoded data removed]",
      "text/plain": [
       "<Figure size 1200x500 with 1 Axes>"
      ]
     },
     "metadata": {},
     "output_type": "display_data"
    },
    {
     "data": {
      "image/png": "[encoded data removed]",
      "text/plain": [
       "<Figure size 1000x400 with 1 Axes>"
      ]
     },
     "metadata": {},
     "output_type": "display_data"
    },
    {
     "data": {
      "image/png": "[encoded data removed]",
      "text/plain": [
       "<Figure size 1000x400 with 1 Axes>"
      ]
     },
     "metadata": {},
     "output_type": "display_data"
    }
   ],
   "source": [
    "import pandas as pd\n",
    "import matplotlib.pyplot as plt\n",
    "import seaborn as sns\n",
    "\n",
    "# 0. 날짜 파생 변수 생성\n",
    "question_df['created_at'] = pd.to_datetime(question_df['created_at'])\n",
    "question_df['date'] = question_df['created_at'].dt.date\n",
    "question_df['hour'] = question_df['created_at'].dt.hour\n",
    "question_df['weekday'] = question_df['created_at'].dt.day_name()\n",
    "\n",
    "# 1. 전체 기간: 일별 질문 수 (선 그래프)\n",
    "plt.figure(figsize=(12, 5))\n",
    "daily_counts = question_df['date'].value_counts().sort_index()\n",
    "plt.plot(daily_counts.index, daily_counts.values, marker='o')\n",
    "plt.xticks(rotation=45)\n",
    "plt.title(f\"[전체 기간] 일별 질문 생성 수 (총 {len(question_df)}건)\")\n",
    "plt.xlabel('날짜')\n",
    "plt.ylabel('질문 수')\n",
    "plt.grid(True)\n",
    "\n",
    "# 선 위에 수치 표시\n",
    "for x, y in zip(daily_counts.index, daily_counts.values):\n",
    "    plt.text(x, y, y, ha='center', va='bottom', fontsize=8)\n",
    "\n",
    "plt.tight_layout()\n",
    "plt.show()\n",
    "\n",
    "# 2. 요일별 질문 수 (막대 그래프)\n",
    "plt.figure(figsize=(10, 4))\n",
    "ax1 = sns.countplot(data=question_df, x='weekday',\n",
    "                    order=['Monday', 'Tuesday', 'Wednesday', 'Thursday', 'Friday', 'Saturday', 'Sunday'])\n",
    "plt.title('요일별 질문 생성 수')\n",
    "for p in ax1.patches:\n",
    "    ax1.annotate(f'{p.get_height()}', \n",
    "                 (p.get_x() + p.get_width() / 2, p.get_height()), \n",
    "                 ha='center', va='bottom')\n",
    "plt.tight_layout()\n",
    "plt.show()\n",
    "\n",
    "# 3. 시간대별 질문 수 (막대 그래프)\n",
    "plt.figure(figsize=(10, 4))\n",
    "ax2 = sns.countplot(data=question_df, x='hour')\n",
    "plt.title('시간대별 질문 생성 수')\n",
    "for p in ax2.patches:\n",
    "    ax2.annotate(f'{p.get_height()}', \n",
    "                 (p.get_x() + p.get_width() / 2, p.get_height()), \n",
    "                 ha='center', va='bottom')\n",
    "plt.tight_layout()\n",
    "plt.show()\n"
   ]
  },
  {
   "cell_type": "code",
   "execution_count": null,
   "id": "1757d59e",
   "metadata": {},
   "outputs": [],
   "source": []
  },
  {
   "cell_type": "markdown",
   "id": "64101de7",
   "metadata": {},
   "source": [
    "#### 누적신고 많은 질문"
   ]
  },
  {
   "cell_type": "code",
   "execution_count": 14,
   "id": "48a255c2",
   "metadata": {},
   "outputs": [
    {
     "data": {
      "text/html": [
       "<div>\n",
       "<style scoped>\n",
       "    .dataframe tbody tr th:only-of-type {\n",
       "        vertical-align: middle;\n",
       "    }\n",
       "\n",
       "    .dataframe tbody tr th {\n",
       "        vertical-align: top;\n",
       "    }\n",
       "\n",
       "    .dataframe thead th {\n",
       "        text-align: right;\n",
       "    }\n",
       "</style>\n",
       "<table border=\"1\" class=\"dataframe\">\n",
       "  <thead>\n",
       "    <tr style=\"text-align: right;\">\n",
       "      <th></th>\n",
       "      <th>id</th>\n",
       "      <th>question_text</th>\n",
       "      <th>created_at</th>\n",
       "      <th>date</th>\n",
       "      <th>hour</th>\n",
       "      <th>weekday</th>\n",
       "    </tr>\n",
       "  </thead>\n",
       "  <tbody>\n",
       "    <tr>\n",
       "      <th>12</th>\n",
       "      <td>111</td>\n",
       "      <td>마스크가 잘 어울리는 사람은?</td>\n",
       "      <td>2023-03-31 15:22:59</td>\n",
       "      <td>2023-03-31</td>\n",
       "      <td>15</td>\n",
       "      <td>Friday</td>\n",
       "    </tr>\n",
       "  </tbody>\n",
       "</table>\n",
       "</div>"
      ],
      "text/plain": [
       "     id     question_text          created_at        date  hour weekday\n",
       "12  111  마스크가 잘 어울리는 사람은? 2023-03-31 15:22:59  2023-03-31    15  Friday"
      ]
     },
     "execution_count": 14,
     "metadata": {},
     "output_type": "execute_result"
    }
   ],
   "source": [
    "# question_id = 111에 해당하는 질문 내용 확인\n",
    "question_df[question_df['id'] == 111]"
   ]
  },
  {
   "cell_type": "code",
   "execution_count": 15,
   "id": "4f115d4b",
   "metadata": {},
   "outputs": [
    {
     "data": {
      "text/html": [
       "<div>\n",
       "<style scoped>\n",
       "    .dataframe tbody tr th:only-of-type {\n",
       "        vertical-align: middle;\n",
       "    }\n",
       "\n",
       "    .dataframe tbody tr th {\n",
       "        vertical-align: top;\n",
       "    }\n",
       "\n",
       "    .dataframe thead th {\n",
       "        text-align: right;\n",
       "    }\n",
       "</style>\n",
       "<table border=\"1\" class=\"dataframe\">\n",
       "  <thead>\n",
       "    <tr style=\"text-align: right;\">\n",
       "      <th></th>\n",
       "      <th>id</th>\n",
       "      <th>question_text</th>\n",
       "      <th>created_at</th>\n",
       "      <th>date</th>\n",
       "      <th>hour</th>\n",
       "      <th>weekday</th>\n",
       "    </tr>\n",
       "  </thead>\n",
       "  <tbody>\n",
       "    <tr>\n",
       "      <th>311</th>\n",
       "      <td>410</td>\n",
       "      <td>발냄새가 호두과자 냄새일 것 같은 사람은?</td>\n",
       "      <td>2023-05-02 05:32:52</td>\n",
       "      <td>2023-05-02</td>\n",
       "      <td>5</td>\n",
       "      <td>Tuesday</td>\n",
       "    </tr>\n",
       "  </tbody>\n",
       "</table>\n",
       "</div>"
      ],
      "text/plain": [
       "      id            question_text          created_at        date  hour  \\\n",
       "311  410  발냄새가 호두과자 냄새일 것 같은 사람은? 2023-05-02 05:32:52  2023-05-02     5   \n",
       "\n",
       "     weekday  \n",
       "311  Tuesday  "
      ]
     },
     "execution_count": 15,
     "metadata": {},
     "output_type": "execute_result"
    }
   ],
   "source": [
    "question_df[question_df['id'] == 410]"
   ]
  },
  {
   "cell_type": "code",
   "execution_count": 16,
   "id": "958f5831",
   "metadata": {},
   "outputs": [
    {
     "data": {
      "text/html": [
       "<div>\n",
       "<style scoped>\n",
       "    .dataframe tbody tr th:only-of-type {\n",
       "        vertical-align: middle;\n",
       "    }\n",
       "\n",
       "    .dataframe tbody tr th {\n",
       "        vertical-align: top;\n",
       "    }\n",
       "\n",
       "    .dataframe thead th {\n",
       "        text-align: right;\n",
       "    }\n",
       "</style>\n",
       "<table border=\"1\" class=\"dataframe\">\n",
       "  <thead>\n",
       "    <tr style=\"text-align: right;\">\n",
       "      <th></th>\n",
       "      <th>id</th>\n",
       "      <th>question_text</th>\n",
       "      <th>created_at</th>\n",
       "      <th>date</th>\n",
       "      <th>hour</th>\n",
       "      <th>weekday</th>\n",
       "    </tr>\n",
       "  </thead>\n",
       "  <tbody>\n",
       "    <tr>\n",
       "      <th>299</th>\n",
       "      <td>398</td>\n",
       "      <td>등빨이 가장 좋은 사람은?</td>\n",
       "      <td>2023-05-02 05:32:50</td>\n",
       "      <td>2023-05-02</td>\n",
       "      <td>5</td>\n",
       "      <td>Tuesday</td>\n",
       "    </tr>\n",
       "  </tbody>\n",
       "</table>\n",
       "</div>"
      ],
      "text/plain": [
       "      id   question_text          created_at        date  hour  weekday\n",
       "299  398  등빨이 가장 좋은 사람은? 2023-05-02 05:32:50  2023-05-02     5  Tuesday"
      ]
     },
     "execution_count": 16,
     "metadata": {},
     "output_type": "execute_result"
    }
   ],
   "source": [
    "question_df[question_df['id'] == 398]"
   ]
  },
  {
   "cell_type": "code",
   "execution_count": 17,
   "id": "39e8d417",
   "metadata": {},
   "outputs": [
    {
     "data": {
      "text/html": [
       "<div>\n",
       "<style scoped>\n",
       "    .dataframe tbody tr th:only-of-type {\n",
       "        vertical-align: middle;\n",
       "    }\n",
       "\n",
       "    .dataframe tbody tr th {\n",
       "        vertical-align: top;\n",
       "    }\n",
       "\n",
       "    .dataframe thead th {\n",
       "        text-align: right;\n",
       "    }\n",
       "</style>\n",
       "<table border=\"1\" class=\"dataframe\">\n",
       "  <thead>\n",
       "    <tr style=\"text-align: right;\">\n",
       "      <th></th>\n",
       "      <th>id</th>\n",
       "      <th>question_text</th>\n",
       "      <th>created_at</th>\n",
       "      <th>date</th>\n",
       "      <th>hour</th>\n",
       "      <th>weekday</th>\n",
       "    </tr>\n",
       "  </thead>\n",
       "  <tbody>\n",
       "    <tr>\n",
       "      <th>325</th>\n",
       "      <td>424</td>\n",
       "      <td>어깨가 가장 넓은 사람은?</td>\n",
       "      <td>2023-05-02 05:32:56</td>\n",
       "      <td>2023-05-02</td>\n",
       "      <td>5</td>\n",
       "      <td>Tuesday</td>\n",
       "    </tr>\n",
       "  </tbody>\n",
       "</table>\n",
       "</div>"
      ],
      "text/plain": [
       "      id   question_text          created_at        date  hour  weekday\n",
       "325  424  어깨가 가장 넓은 사람은? 2023-05-02 05:32:56  2023-05-02     5  Tuesday"
      ]
     },
     "execution_count": 17,
     "metadata": {},
     "output_type": "execute_result"
    }
   ],
   "source": [
    "question_df[question_df['id'] == 424]"
   ]
  },
  {
   "cell_type": "code",
   "execution_count": 18,
   "id": "7d8fa395",
   "metadata": {},
   "outputs": [
    {
     "data": {
      "text/html": [
       "<div>\n",
       "<style scoped>\n",
       "    .dataframe tbody tr th:only-of-type {\n",
       "        vertical-align: middle;\n",
       "    }\n",
       "\n",
       "    .dataframe tbody tr th {\n",
       "        vertical-align: top;\n",
       "    }\n",
       "\n",
       "    .dataframe thead th {\n",
       "        text-align: right;\n",
       "    }\n",
       "</style>\n",
       "<table border=\"1\" class=\"dataframe\">\n",
       "  <thead>\n",
       "    <tr style=\"text-align: right;\">\n",
       "      <th></th>\n",
       "      <th>id</th>\n",
       "      <th>question_text</th>\n",
       "      <th>created_at</th>\n",
       "      <th>date</th>\n",
       "      <th>hour</th>\n",
       "      <th>weekday</th>\n",
       "    </tr>\n",
       "  </thead>\n",
       "  <tbody>\n",
       "    <tr>\n",
       "      <th>206</th>\n",
       "      <td>305</td>\n",
       "      <td>먹방을 가장 잘할 것 같은 사람은?</td>\n",
       "      <td>2023-04-01 11:09:38</td>\n",
       "      <td>2023-04-01</td>\n",
       "      <td>11</td>\n",
       "      <td>Saturday</td>\n",
       "    </tr>\n",
       "  </tbody>\n",
       "</table>\n",
       "</div>"
      ],
      "text/plain": [
       "      id        question_text          created_at        date  hour   weekday\n",
       "206  305  먹방을 가장 잘할 것 같은 사람은? 2023-04-01 11:09:38  2023-04-01    11  Saturday"
      ]
     },
     "execution_count": 18,
     "metadata": {},
     "output_type": "execute_result"
    }
   ],
   "source": [
    "question_df[question_df['id'] == 305]"
   ]
  },
  {
   "cell_type": "code",
   "execution_count": 19,
   "id": "473fd6e8",
   "metadata": {},
   "outputs": [
    {
     "data": {
      "text/html": [
       "<div>\n",
       "<style scoped>\n",
       "    .dataframe tbody tr th:only-of-type {\n",
       "        vertical-align: middle;\n",
       "    }\n",
       "\n",
       "    .dataframe tbody tr th {\n",
       "        vertical-align: top;\n",
       "    }\n",
       "\n",
       "    .dataframe thead th {\n",
       "        text-align: right;\n",
       "    }\n",
       "</style>\n",
       "<table border=\"1\" class=\"dataframe\">\n",
       "  <thead>\n",
       "    <tr style=\"text-align: right;\">\n",
       "      <th></th>\n",
       "      <th>id</th>\n",
       "      <th>question_text</th>\n",
       "      <th>created_at</th>\n",
       "      <th>date</th>\n",
       "      <th>hour</th>\n",
       "      <th>weekday</th>\n",
       "    </tr>\n",
       "  </thead>\n",
       "  <tbody>\n",
       "    <tr>\n",
       "      <th>465</th>\n",
       "      <td>564</td>\n",
       "      <td>설레면 콧구멍이 커지는 친구는?</td>\n",
       "      <td>2023-05-11 15:52:18</td>\n",
       "      <td>2023-05-11</td>\n",
       "      <td>15</td>\n",
       "      <td>Thursday</td>\n",
       "    </tr>\n",
       "  </tbody>\n",
       "</table>\n",
       "</div>"
      ],
      "text/plain": [
       "      id      question_text          created_at        date  hour   weekday\n",
       "465  564  설레면 콧구멍이 커지는 친구는? 2023-05-11 15:52:18  2023-05-11    15  Thursday"
      ]
     },
     "execution_count": 19,
     "metadata": {},
     "output_type": "execute_result"
    }
   ],
   "source": [
    "question_df[question_df['id'] == 564]"
   ]
  },
  {
   "cell_type": "code",
   "execution_count": 20,
   "id": "65611a1f",
   "metadata": {},
   "outputs": [
    {
     "data": {
      "text/html": [
       "<div>\n",
       "<style scoped>\n",
       "    .dataframe tbody tr th:only-of-type {\n",
       "        vertical-align: middle;\n",
       "    }\n",
       "\n",
       "    .dataframe tbody tr th {\n",
       "        vertical-align: top;\n",
       "    }\n",
       "\n",
       "    .dataframe thead th {\n",
       "        text-align: right;\n",
       "    }\n",
       "</style>\n",
       "<table border=\"1\" class=\"dataframe\">\n",
       "  <thead>\n",
       "    <tr style=\"text-align: right;\">\n",
       "      <th></th>\n",
       "      <th>id</th>\n",
       "      <th>question_text</th>\n",
       "      <th>created_at</th>\n",
       "      <th>date</th>\n",
       "      <th>hour</th>\n",
       "      <th>weekday</th>\n",
       "    </tr>\n",
       "  </thead>\n",
       "  <tbody>\n",
       "    <tr>\n",
       "      <th>45</th>\n",
       "      <td>144</td>\n",
       "      <td>발냄새가 가장 향긋할 것 같은 사람은?</td>\n",
       "      <td>2023-03-31 15:23:17</td>\n",
       "      <td>2023-03-31</td>\n",
       "      <td>15</td>\n",
       "      <td>Friday</td>\n",
       "    </tr>\n",
       "  </tbody>\n",
       "</table>\n",
       "</div>"
      ],
      "text/plain": [
       "     id          question_text          created_at        date  hour weekday\n",
       "45  144  발냄새가 가장 향긋할 것 같은 사람은? 2023-03-31 15:23:17  2023-03-31    15  Friday"
      ]
     },
     "execution_count": 20,
     "metadata": {},
     "output_type": "execute_result"
    }
   ],
   "source": [
    "question_df[question_df['id'] == 144]"
   ]
  },
  {
   "cell_type": "code",
   "execution_count": 21,
   "id": "d506b448",
   "metadata": {},
   "outputs": [
    {
     "data": {
      "text/html": [
       "<div>\n",
       "<style scoped>\n",
       "    .dataframe tbody tr th:only-of-type {\n",
       "        vertical-align: middle;\n",
       "    }\n",
       "\n",
       "    .dataframe tbody tr th {\n",
       "        vertical-align: top;\n",
       "    }\n",
       "\n",
       "    .dataframe thead th {\n",
       "        text-align: right;\n",
       "    }\n",
       "</style>\n",
       "<table border=\"1\" class=\"dataframe\">\n",
       "  <thead>\n",
       "    <tr style=\"text-align: right;\">\n",
       "      <th></th>\n",
       "      <th>id</th>\n",
       "      <th>question_text</th>\n",
       "      <th>created_at</th>\n",
       "      <th>date</th>\n",
       "      <th>hour</th>\n",
       "      <th>weekday</th>\n",
       "    </tr>\n",
       "  </thead>\n",
       "  <tbody>\n",
       "    <tr>\n",
       "      <th>420</th>\n",
       "      <td>519</td>\n",
       "      <td>콧수염을 기르면 잘 어울릴 것 같은 사람은?</td>\n",
       "      <td>2023-05-02 05:33:21</td>\n",
       "      <td>2023-05-02</td>\n",
       "      <td>5</td>\n",
       "      <td>Tuesday</td>\n",
       "    </tr>\n",
       "  </tbody>\n",
       "</table>\n",
       "</div>"
      ],
      "text/plain": [
       "      id             question_text          created_at        date  hour  \\\n",
       "420  519  콧수염을 기르면 잘 어울릴 것 같은 사람은? 2023-05-02 05:33:21  2023-05-02     5   \n",
       "\n",
       "     weekday  \n",
       "420  Tuesday  "
      ]
     },
     "execution_count": 21,
     "metadata": {},
     "output_type": "execute_result"
    }
   ],
   "source": [
    "question_df[question_df['id'] == 519]"
   ]
  },
  {
   "cell_type": "code",
   "execution_count": 22,
   "id": "b57935b7",
   "metadata": {},
   "outputs": [
    {
     "data": {
      "text/html": [
       "<div>\n",
       "<style scoped>\n",
       "    .dataframe tbody tr th:only-of-type {\n",
       "        vertical-align: middle;\n",
       "    }\n",
       "\n",
       "    .dataframe tbody tr th {\n",
       "        vertical-align: top;\n",
       "    }\n",
       "\n",
       "    .dataframe thead th {\n",
       "        text-align: right;\n",
       "    }\n",
       "</style>\n",
       "<table border=\"1\" class=\"dataframe\">\n",
       "  <thead>\n",
       "    <tr style=\"text-align: right;\">\n",
       "      <th></th>\n",
       "      <th>id</th>\n",
       "      <th>question_text</th>\n",
       "      <th>created_at</th>\n",
       "      <th>date</th>\n",
       "      <th>hour</th>\n",
       "      <th>weekday</th>\n",
       "    </tr>\n",
       "  </thead>\n",
       "  <tbody>\n",
       "    <tr>\n",
       "      <th>395</th>\n",
       "      <td>494</td>\n",
       "      <td>먹방 찍으면 100만 유튜버가 될 것 같은 친구</td>\n",
       "      <td>2023-05-02 05:33:14</td>\n",
       "      <td>2023-05-02</td>\n",
       "      <td>5</td>\n",
       "      <td>Tuesday</td>\n",
       "    </tr>\n",
       "  </tbody>\n",
       "</table>\n",
       "</div>"
      ],
      "text/plain": [
       "      id               question_text          created_at        date  hour  \\\n",
       "395  494  먹방 찍으면 100만 유튜버가 될 것 같은 친구 2023-05-02 05:33:14  2023-05-02     5   \n",
       "\n",
       "     weekday  \n",
       "395  Tuesday  "
      ]
     },
     "execution_count": 22,
     "metadata": {},
     "output_type": "execute_result"
    }
   ],
   "source": [
    "question_df[question_df['id'] == 494]"
   ]
  },
  {
   "cell_type": "code",
   "execution_count": 23,
   "id": "8cdb5b22",
   "metadata": {},
   "outputs": [
    {
     "data": {
      "text/html": [
       "<div>\n",
       "<style scoped>\n",
       "    .dataframe tbody tr th:only-of-type {\n",
       "        vertical-align: middle;\n",
       "    }\n",
       "\n",
       "    .dataframe tbody tr th {\n",
       "        vertical-align: top;\n",
       "    }\n",
       "\n",
       "    .dataframe thead th {\n",
       "        text-align: right;\n",
       "    }\n",
       "</style>\n",
       "<table border=\"1\" class=\"dataframe\">\n",
       "  <thead>\n",
       "    <tr style=\"text-align: right;\">\n",
       "      <th></th>\n",
       "      <th>id</th>\n",
       "      <th>question_text</th>\n",
       "      <th>created_at</th>\n",
       "      <th>date</th>\n",
       "      <th>hour</th>\n",
       "      <th>weekday</th>\n",
       "    </tr>\n",
       "  </thead>\n",
       "  <tbody>\n",
       "    <tr>\n",
       "      <th>380</th>\n",
       "      <td>479</td>\n",
       "      <td>치킨 중독인 것 같은 사람은?</td>\n",
       "      <td>2023-05-02 05:33:10</td>\n",
       "      <td>2023-05-02</td>\n",
       "      <td>5</td>\n",
       "      <td>Tuesday</td>\n",
       "    </tr>\n",
       "  </tbody>\n",
       "</table>\n",
       "</div>"
      ],
      "text/plain": [
       "      id     question_text          created_at        date  hour  weekday\n",
       "380  479  치킨 중독인 것 같은 사람은? 2023-05-02 05:33:10  2023-05-02     5  Tuesday"
      ]
     },
     "execution_count": 23,
     "metadata": {},
     "output_type": "execute_result"
    }
   ],
   "source": [
    "question_df[question_df['id'] == 479]"
   ]
  },
  {
   "cell_type": "markdown",
   "id": "a1a5a0cb",
   "metadata": {},
   "source": [
    "#### 투표 상위 10개 질문"
   ]
  },
  {
   "cell_type": "code",
   "execution_count": 24,
   "id": "7aab47fd",
   "metadata": {},
   "outputs": [
    {
     "data": {
      "text/html": [
       "<div>\n",
       "<style scoped>\n",
       "    .dataframe tbody tr th:only-of-type {\n",
       "        vertical-align: middle;\n",
       "    }\n",
       "\n",
       "    .dataframe tbody tr th {\n",
       "        vertical-align: top;\n",
       "    }\n",
       "\n",
       "    .dataframe thead th {\n",
       "        text-align: right;\n",
       "    }\n",
       "</style>\n",
       "<table border=\"1\" class=\"dataframe\">\n",
       "  <thead>\n",
       "    <tr style=\"text-align: right;\">\n",
       "      <th></th>\n",
       "      <th>id</th>\n",
       "      <th>question_text</th>\n",
       "      <th>created_at</th>\n",
       "      <th>date</th>\n",
       "      <th>hour</th>\n",
       "      <th>weekday</th>\n",
       "    </tr>\n",
       "  </thead>\n",
       "  <tbody>\n",
       "    <tr>\n",
       "      <th>71</th>\n",
       "      <td>170</td>\n",
       "      <td>처음 보는 사람과 가장 빨리 친해질 것 같은 사람은?</td>\n",
       "      <td>2023-03-31 15:23:30</td>\n",
       "      <td>2023-03-31</td>\n",
       "      <td>15</td>\n",
       "      <td>Friday</td>\n",
       "    </tr>\n",
       "  </tbody>\n",
       "</table>\n",
       "</div>"
      ],
      "text/plain": [
       "     id                  question_text          created_at        date  hour  \\\n",
       "71  170  처음 보는 사람과 가장 빨리 친해질 것 같은 사람은? 2023-03-31 15:23:30  2023-03-31    15   \n",
       "\n",
       "   weekday  \n",
       "71  Friday  "
      ]
     },
     "execution_count": 24,
     "metadata": {},
     "output_type": "execute_result"
    }
   ],
   "source": [
    "question_df[question_df['id'] == 170]"
   ]
  },
  {
   "cell_type": "code",
   "execution_count": 25,
   "id": "4e40e289",
   "metadata": {},
   "outputs": [
    {
     "data": {
      "text/html": [
       "<div>\n",
       "<style scoped>\n",
       "    .dataframe tbody tr th:only-of-type {\n",
       "        vertical-align: middle;\n",
       "    }\n",
       "\n",
       "    .dataframe tbody tr th {\n",
       "        vertical-align: top;\n",
       "    }\n",
       "\n",
       "    .dataframe thead th {\n",
       "        text-align: right;\n",
       "    }\n",
       "</style>\n",
       "<table border=\"1\" class=\"dataframe\">\n",
       "  <thead>\n",
       "    <tr style=\"text-align: right;\">\n",
       "      <th></th>\n",
       "      <th>id</th>\n",
       "      <th>question_text</th>\n",
       "      <th>created_at</th>\n",
       "      <th>date</th>\n",
       "      <th>hour</th>\n",
       "      <th>weekday</th>\n",
       "    </tr>\n",
       "  </thead>\n",
       "  <tbody>\n",
       "    <tr>\n",
       "      <th>191</th>\n",
       "      <td>290</td>\n",
       "      <td>모든 사람과 잘 지낼 것 같은 사람은?</td>\n",
       "      <td>2023-04-01 11:09:35</td>\n",
       "      <td>2023-04-01</td>\n",
       "      <td>11</td>\n",
       "      <td>Saturday</td>\n",
       "    </tr>\n",
       "  </tbody>\n",
       "</table>\n",
       "</div>"
      ],
      "text/plain": [
       "      id          question_text          created_at        date  hour  \\\n",
       "191  290  모든 사람과 잘 지낼 것 같은 사람은? 2023-04-01 11:09:35  2023-04-01    11   \n",
       "\n",
       "      weekday  \n",
       "191  Saturday  "
      ]
     },
     "execution_count": 25,
     "metadata": {},
     "output_type": "execute_result"
    }
   ],
   "source": [
    "question_df[question_df['id'] == 290]"
   ]
  },
  {
   "cell_type": "code",
   "execution_count": 26,
   "id": "6933dee9",
   "metadata": {},
   "outputs": [
    {
     "data": {
      "text/html": [
       "<div>\n",
       "<style scoped>\n",
       "    .dataframe tbody tr th:only-of-type {\n",
       "        vertical-align: middle;\n",
       "    }\n",
       "\n",
       "    .dataframe tbody tr th {\n",
       "        vertical-align: top;\n",
       "    }\n",
       "\n",
       "    .dataframe thead th {\n",
       "        text-align: right;\n",
       "    }\n",
       "</style>\n",
       "<table border=\"1\" class=\"dataframe\">\n",
       "  <thead>\n",
       "    <tr style=\"text-align: right;\">\n",
       "      <th></th>\n",
       "      <th>id</th>\n",
       "      <th>question_text</th>\n",
       "      <th>created_at</th>\n",
       "      <th>date</th>\n",
       "      <th>hour</th>\n",
       "      <th>weekday</th>\n",
       "    </tr>\n",
       "  </thead>\n",
       "  <tbody>\n",
       "    <tr>\n",
       "      <th>70</th>\n",
       "      <td>169</td>\n",
       "      <td>축제에서 공연을 제일 잘 할거 같은 사람은?</td>\n",
       "      <td>2023-03-31 15:23:29</td>\n",
       "      <td>2023-03-31</td>\n",
       "      <td>15</td>\n",
       "      <td>Friday</td>\n",
       "    </tr>\n",
       "  </tbody>\n",
       "</table>\n",
       "</div>"
      ],
      "text/plain": [
       "     id             question_text          created_at        date  hour  \\\n",
       "70  169  축제에서 공연을 제일 잘 할거 같은 사람은? 2023-03-31 15:23:29  2023-03-31    15   \n",
       "\n",
       "   weekday  \n",
       "70  Friday  "
      ]
     },
     "execution_count": 26,
     "metadata": {},
     "output_type": "execute_result"
    }
   ],
   "source": [
    "question_df[question_df['id'] == 169]"
   ]
  },
  {
   "cell_type": "code",
   "execution_count": 27,
   "id": "d0bed17b",
   "metadata": {},
   "outputs": [
    {
     "data": {
      "text/html": [
       "<div>\n",
       "<style scoped>\n",
       "    .dataframe tbody tr th:only-of-type {\n",
       "        vertical-align: middle;\n",
       "    }\n",
       "\n",
       "    .dataframe tbody tr th {\n",
       "        vertical-align: top;\n",
       "    }\n",
       "\n",
       "    .dataframe thead th {\n",
       "        text-align: right;\n",
       "    }\n",
       "</style>\n",
       "<table border=\"1\" class=\"dataframe\">\n",
       "  <thead>\n",
       "    <tr style=\"text-align: right;\">\n",
       "      <th></th>\n",
       "      <th>id</th>\n",
       "      <th>question_text</th>\n",
       "      <th>created_at</th>\n",
       "      <th>date</th>\n",
       "      <th>hour</th>\n",
       "      <th>weekday</th>\n",
       "    </tr>\n",
       "  </thead>\n",
       "  <tbody>\n",
       "    <tr>\n",
       "      <th>112</th>\n",
       "      <td>211</td>\n",
       "      <td>앞으로의 인생을 가장 재미있게 살것 같은 사람은?</td>\n",
       "      <td>2023-04-01 11:09:20</td>\n",
       "      <td>2023-04-01</td>\n",
       "      <td>11</td>\n",
       "      <td>Saturday</td>\n",
       "    </tr>\n",
       "  </tbody>\n",
       "</table>\n",
       "</div>"
      ],
      "text/plain": [
       "      id                question_text          created_at        date  hour  \\\n",
       "112  211  앞으로의 인생을 가장 재미있게 살것 같은 사람은? 2023-04-01 11:09:20  2023-04-01    11   \n",
       "\n",
       "      weekday  \n",
       "112  Saturday  "
      ]
     },
     "execution_count": 27,
     "metadata": {},
     "output_type": "execute_result"
    }
   ],
   "source": [
    "question_df[question_df['id'] == 211]"
   ]
  },
  {
   "cell_type": "code",
   "execution_count": 28,
   "id": "94575716",
   "metadata": {},
   "outputs": [
    {
     "data": {
      "text/html": [
       "<div>\n",
       "<style scoped>\n",
       "    .dataframe tbody tr th:only-of-type {\n",
       "        vertical-align: middle;\n",
       "    }\n",
       "\n",
       "    .dataframe tbody tr th {\n",
       "        vertical-align: top;\n",
       "    }\n",
       "\n",
       "    .dataframe thead th {\n",
       "        text-align: right;\n",
       "    }\n",
       "</style>\n",
       "<table border=\"1\" class=\"dataframe\">\n",
       "  <thead>\n",
       "    <tr style=\"text-align: right;\">\n",
       "      <th></th>\n",
       "      <th>id</th>\n",
       "      <th>question_text</th>\n",
       "      <th>created_at</th>\n",
       "      <th>date</th>\n",
       "      <th>hour</th>\n",
       "      <th>weekday</th>\n",
       "    </tr>\n",
       "  </thead>\n",
       "  <tbody>\n",
       "    <tr>\n",
       "      <th>211</th>\n",
       "      <td>310</td>\n",
       "      <td>반려동물과 가장 잘 지낼거 같은 사람은?</td>\n",
       "      <td>2023-04-01 11:09:39</td>\n",
       "      <td>2023-04-01</td>\n",
       "      <td>11</td>\n",
       "      <td>Saturday</td>\n",
       "    </tr>\n",
       "  </tbody>\n",
       "</table>\n",
       "</div>"
      ],
      "text/plain": [
       "      id           question_text          created_at        date  hour  \\\n",
       "211  310  반려동물과 가장 잘 지낼거 같은 사람은? 2023-04-01 11:09:39  2023-04-01    11   \n",
       "\n",
       "      weekday  \n",
       "211  Saturday  "
      ]
     },
     "execution_count": 28,
     "metadata": {},
     "output_type": "execute_result"
    }
   ],
   "source": [
    "question_df[question_df['id'] == 310]"
   ]
  },
  {
   "cell_type": "code",
   "execution_count": 29,
   "id": "d51e1781",
   "metadata": {},
   "outputs": [
    {
     "data": {
      "text/html": [
       "<div>\n",
       "<style scoped>\n",
       "    .dataframe tbody tr th:only-of-type {\n",
       "        vertical-align: middle;\n",
       "    }\n",
       "\n",
       "    .dataframe tbody tr th {\n",
       "        vertical-align: top;\n",
       "    }\n",
       "\n",
       "    .dataframe thead th {\n",
       "        text-align: right;\n",
       "    }\n",
       "</style>\n",
       "<table border=\"1\" class=\"dataframe\">\n",
       "  <thead>\n",
       "    <tr style=\"text-align: right;\">\n",
       "      <th></th>\n",
       "      <th>id</th>\n",
       "      <th>question_text</th>\n",
       "      <th>created_at</th>\n",
       "      <th>date</th>\n",
       "      <th>hour</th>\n",
       "      <th>weekday</th>\n",
       "    </tr>\n",
       "  </thead>\n",
       "  <tbody>\n",
       "    <tr>\n",
       "      <th>87</th>\n",
       "      <td>186</td>\n",
       "      <td>vote</td>\n",
       "      <td>2023-04-01 11:09:15</td>\n",
       "      <td>2023-04-01</td>\n",
       "      <td>11</td>\n",
       "      <td>Saturday</td>\n",
       "    </tr>\n",
       "  </tbody>\n",
       "</table>\n",
       "</div>"
      ],
      "text/plain": [
       "     id question_text          created_at        date  hour   weekday\n",
       "87  186          vote 2023-04-01 11:09:15  2023-04-01    11  Saturday"
      ]
     },
     "execution_count": 29,
     "metadata": {},
     "output_type": "execute_result"
    }
   ],
   "source": [
    "question_df[question_df['id'] == 186]"
   ]
  },
  {
   "cell_type": "code",
   "execution_count": 30,
   "id": "5dfde872",
   "metadata": {},
   "outputs": [
    {
     "data": {
      "text/html": [
       "<div>\n",
       "<style scoped>\n",
       "    .dataframe tbody tr th:only-of-type {\n",
       "        vertical-align: middle;\n",
       "    }\n",
       "\n",
       "    .dataframe tbody tr th {\n",
       "        vertical-align: top;\n",
       "    }\n",
       "\n",
       "    .dataframe thead th {\n",
       "        text-align: right;\n",
       "    }\n",
       "</style>\n",
       "<table border=\"1\" class=\"dataframe\">\n",
       "  <thead>\n",
       "    <tr style=\"text-align: right;\">\n",
       "      <th></th>\n",
       "      <th>id</th>\n",
       "      <th>question_text</th>\n",
       "      <th>created_at</th>\n",
       "      <th>date</th>\n",
       "      <th>hour</th>\n",
       "      <th>weekday</th>\n",
       "    </tr>\n",
       "  </thead>\n",
       "  <tbody>\n",
       "    <tr>\n",
       "      <th>145</th>\n",
       "      <td>244</td>\n",
       "      <td>대학교에서 학생회장할 것 같은 사람은?</td>\n",
       "      <td>2023-04-01 11:09:26</td>\n",
       "      <td>2023-04-01</td>\n",
       "      <td>11</td>\n",
       "      <td>Saturday</td>\n",
       "    </tr>\n",
       "  </tbody>\n",
       "</table>\n",
       "</div>"
      ],
      "text/plain": [
       "      id          question_text          created_at        date  hour  \\\n",
       "145  244  대학교에서 학생회장할 것 같은 사람은? 2023-04-01 11:09:26  2023-04-01    11   \n",
       "\n",
       "      weekday  \n",
       "145  Saturday  "
      ]
     },
     "execution_count": 30,
     "metadata": {},
     "output_type": "execute_result"
    }
   ],
   "source": [
    "question_df[question_df['id'] == 244]"
   ]
  },
  {
   "cell_type": "code",
   "execution_count": 31,
   "id": "5cb82767",
   "metadata": {},
   "outputs": [
    {
     "data": {
      "text/html": [
       "<div>\n",
       "<style scoped>\n",
       "    .dataframe tbody tr th:only-of-type {\n",
       "        vertical-align: middle;\n",
       "    }\n",
       "\n",
       "    .dataframe tbody tr th {\n",
       "        vertical-align: top;\n",
       "    }\n",
       "\n",
       "    .dataframe thead th {\n",
       "        text-align: right;\n",
       "    }\n",
       "</style>\n",
       "<table border=\"1\" class=\"dataframe\">\n",
       "  <thead>\n",
       "    <tr style=\"text-align: right;\">\n",
       "      <th></th>\n",
       "      <th>id</th>\n",
       "      <th>question_text</th>\n",
       "      <th>created_at</th>\n",
       "      <th>date</th>\n",
       "      <th>hour</th>\n",
       "      <th>weekday</th>\n",
       "    </tr>\n",
       "  </thead>\n",
       "  <tbody>\n",
       "    <tr>\n",
       "      <th>3</th>\n",
       "      <td>102</td>\n",
       "      <td>여기서 제일 특이한 친구는?</td>\n",
       "      <td>2023-03-31 15:22:54</td>\n",
       "      <td>2023-03-31</td>\n",
       "      <td>15</td>\n",
       "      <td>Friday</td>\n",
       "    </tr>\n",
       "  </tbody>\n",
       "</table>\n",
       "</div>"
      ],
      "text/plain": [
       "    id    question_text          created_at        date  hour weekday\n",
       "3  102  여기서 제일 특이한 친구는? 2023-03-31 15:22:54  2023-03-31    15  Friday"
      ]
     },
     "execution_count": 31,
     "metadata": {},
     "output_type": "execute_result"
    }
   ],
   "source": [
    "question_df[question_df['id'] == 102]"
   ]
  },
  {
   "cell_type": "code",
   "execution_count": 32,
   "id": "b21ec49e",
   "metadata": {},
   "outputs": [
    {
     "data": {
      "text/html": [
       "<div>\n",
       "<style scoped>\n",
       "    .dataframe tbody tr th:only-of-type {\n",
       "        vertical-align: middle;\n",
       "    }\n",
       "\n",
       "    .dataframe tbody tr th {\n",
       "        vertical-align: top;\n",
       "    }\n",
       "\n",
       "    .dataframe thead th {\n",
       "        text-align: right;\n",
       "    }\n",
       "</style>\n",
       "<table border=\"1\" class=\"dataframe\">\n",
       "  <thead>\n",
       "    <tr style=\"text-align: right;\">\n",
       "      <th></th>\n",
       "      <th>id</th>\n",
       "      <th>question_text</th>\n",
       "      <th>created_at</th>\n",
       "      <th>date</th>\n",
       "      <th>hour</th>\n",
       "      <th>weekday</th>\n",
       "    </tr>\n",
       "  </thead>\n",
       "  <tbody>\n",
       "    <tr>\n",
       "      <th>210</th>\n",
       "      <td>309</td>\n",
       "      <td>흰티에 청바지가 잘 어울릴것 같은 사람은?</td>\n",
       "      <td>2023-04-01 11:09:38</td>\n",
       "      <td>2023-04-01</td>\n",
       "      <td>11</td>\n",
       "      <td>Saturday</td>\n",
       "    </tr>\n",
       "  </tbody>\n",
       "</table>\n",
       "</div>"
      ],
      "text/plain": [
       "      id            question_text          created_at        date  hour  \\\n",
       "210  309  흰티에 청바지가 잘 어울릴것 같은 사람은? 2023-04-01 11:09:38  2023-04-01    11   \n",
       "\n",
       "      weekday  \n",
       "210  Saturday  "
      ]
     },
     "execution_count": 32,
     "metadata": {},
     "output_type": "execute_result"
    }
   ],
   "source": [
    "question_df[question_df['id'] == 309]"
   ]
  },
  {
   "cell_type": "code",
   "execution_count": 33,
   "id": "071432c1",
   "metadata": {},
   "outputs": [
    {
     "data": {
      "text/html": [
       "<div>\n",
       "<style scoped>\n",
       "    .dataframe tbody tr th:only-of-type {\n",
       "        vertical-align: middle;\n",
       "    }\n",
       "\n",
       "    .dataframe tbody tr th {\n",
       "        vertical-align: top;\n",
       "    }\n",
       "\n",
       "    .dataframe thead th {\n",
       "        text-align: right;\n",
       "    }\n",
       "</style>\n",
       "<table border=\"1\" class=\"dataframe\">\n",
       "  <thead>\n",
       "    <tr style=\"text-align: right;\">\n",
       "      <th></th>\n",
       "      <th>id</th>\n",
       "      <th>question_text</th>\n",
       "      <th>created_at</th>\n",
       "      <th>date</th>\n",
       "      <th>hour</th>\n",
       "      <th>weekday</th>\n",
       "    </tr>\n",
       "  </thead>\n",
       "  <tbody>\n",
       "    <tr>\n",
       "      <th>53</th>\n",
       "      <td>152</td>\n",
       "      <td>숨겨진 댄싱 머신이라고 생각하는 사람은?</td>\n",
       "      <td>2023-03-31 15:23:19</td>\n",
       "      <td>2023-03-31</td>\n",
       "      <td>15</td>\n",
       "      <td>Friday</td>\n",
       "    </tr>\n",
       "  </tbody>\n",
       "</table>\n",
       "</div>"
      ],
      "text/plain": [
       "     id           question_text          created_at        date  hour weekday\n",
       "53  152  숨겨진 댄싱 머신이라고 생각하는 사람은? 2023-03-31 15:23:19  2023-03-31    15  Friday"
      ]
     },
     "execution_count": 33,
     "metadata": {},
     "output_type": "execute_result"
    }
   ],
   "source": [
    "question_df[question_df['id'] == 152]"
   ]
  },
  {
   "cell_type": "markdown",
   "id": "4304df01",
   "metadata": {},
   "source": [
    "#### 초성 여는 질문 일부"
   ]
  },
  {
   "cell_type": "code",
   "execution_count": 35,
   "id": "82f8888b",
   "metadata": {},
   "outputs": [
    {
     "data": {
      "text/html": [
       "<div>\n",
       "<style scoped>\n",
       "    .dataframe tbody tr th:only-of-type {\n",
       "        vertical-align: middle;\n",
       "    }\n",
       "\n",
       "    .dataframe tbody tr th {\n",
       "        vertical-align: top;\n",
       "    }\n",
       "\n",
       "    .dataframe thead th {\n",
       "        text-align: right;\n",
       "    }\n",
       "</style>\n",
       "<table border=\"1\" class=\"dataframe\">\n",
       "  <thead>\n",
       "    <tr style=\"text-align: right;\">\n",
       "      <th></th>\n",
       "      <th>id</th>\n",
       "      <th>question_text</th>\n",
       "      <th>created_at</th>\n",
       "      <th>date</th>\n",
       "      <th>hour</th>\n",
       "      <th>weekday</th>\n",
       "    </tr>\n",
       "  </thead>\n",
       "  <tbody>\n",
       "    <tr>\n",
       "      <th>198</th>\n",
       "      <td>297</td>\n",
       "      <td>공과사를 가장 구분 잘할거 같은 사람은?</td>\n",
       "      <td>2023-04-01 11:09:36</td>\n",
       "      <td>2023-04-01</td>\n",
       "      <td>11</td>\n",
       "      <td>Saturday</td>\n",
       "    </tr>\n",
       "  </tbody>\n",
       "</table>\n",
       "</div>"
      ],
      "text/plain": [
       "      id           question_text          created_at        date  hour  \\\n",
       "198  297  공과사를 가장 구분 잘할거 같은 사람은? 2023-04-01 11:09:36  2023-04-01    11   \n",
       "\n",
       "      weekday  \n",
       "198  Saturday  "
      ]
     },
     "execution_count": 35,
     "metadata": {},
     "output_type": "execute_result"
    }
   ],
   "source": [
    "question_df[question_df['id'] == 297]"
   ]
  },
  {
   "cell_type": "code",
   "execution_count": 36,
   "id": "b3b302fc",
   "metadata": {},
   "outputs": [
    {
     "data": {
      "text/html": [
       "<div>\n",
       "<style scoped>\n",
       "    .dataframe tbody tr th:only-of-type {\n",
       "        vertical-align: middle;\n",
       "    }\n",
       "\n",
       "    .dataframe tbody tr th {\n",
       "        vertical-align: top;\n",
       "    }\n",
       "\n",
       "    .dataframe thead th {\n",
       "        text-align: right;\n",
       "    }\n",
       "</style>\n",
       "<table border=\"1\" class=\"dataframe\">\n",
       "  <thead>\n",
       "    <tr style=\"text-align: right;\">\n",
       "      <th></th>\n",
       "      <th>id</th>\n",
       "      <th>question_text</th>\n",
       "      <th>created_at</th>\n",
       "      <th>date</th>\n",
       "      <th>hour</th>\n",
       "      <th>weekday</th>\n",
       "    </tr>\n",
       "  </thead>\n",
       "  <tbody>\n",
       "    <tr>\n",
       "      <th>110</th>\n",
       "      <td>209</td>\n",
       "      <td>항상 좋은 냄새가 나는 사람은?</td>\n",
       "      <td>2023-04-01 11:09:20</td>\n",
       "      <td>2023-04-01</td>\n",
       "      <td>11</td>\n",
       "      <td>Saturday</td>\n",
       "    </tr>\n",
       "  </tbody>\n",
       "</table>\n",
       "</div>"
      ],
      "text/plain": [
       "      id      question_text          created_at        date  hour   weekday\n",
       "110  209  항상 좋은 냄새가 나는 사람은? 2023-04-01 11:09:20  2023-04-01    11  Saturday"
      ]
     },
     "execution_count": 36,
     "metadata": {},
     "output_type": "execute_result"
    }
   ],
   "source": [
    "question_df[question_df['id'] == 209]"
   ]
  },
  {
   "cell_type": "code",
   "execution_count": 37,
   "id": "6a535b77",
   "metadata": {},
   "outputs": [
    {
     "data": {
      "text/html": [
       "<div>\n",
       "<style scoped>\n",
       "    .dataframe tbody tr th:only-of-type {\n",
       "        vertical-align: middle;\n",
       "    }\n",
       "\n",
       "    .dataframe tbody tr th {\n",
       "        vertical-align: top;\n",
       "    }\n",
       "\n",
       "    .dataframe thead th {\n",
       "        text-align: right;\n",
       "    }\n",
       "</style>\n",
       "<table border=\"1\" class=\"dataframe\">\n",
       "  <thead>\n",
       "    <tr style=\"text-align: right;\">\n",
       "      <th></th>\n",
       "      <th>id</th>\n",
       "      <th>question_text</th>\n",
       "      <th>created_at</th>\n",
       "      <th>date</th>\n",
       "      <th>hour</th>\n",
       "      <th>weekday</th>\n",
       "    </tr>\n",
       "  </thead>\n",
       "  <tbody>\n",
       "    <tr>\n",
       "      <th>158</th>\n",
       "      <td>257</td>\n",
       "      <td>가장 친해지고 싶었던 사람은?</td>\n",
       "      <td>2023-04-01 11:09:28</td>\n",
       "      <td>2023-04-01</td>\n",
       "      <td>11</td>\n",
       "      <td>Saturday</td>\n",
       "    </tr>\n",
       "  </tbody>\n",
       "</table>\n",
       "</div>"
      ],
      "text/plain": [
       "      id     question_text          created_at        date  hour   weekday\n",
       "158  257  가장 친해지고 싶었던 사람은? 2023-04-01 11:09:28  2023-04-01    11  Saturday"
      ]
     },
     "execution_count": 37,
     "metadata": {},
     "output_type": "execute_result"
    }
   ],
   "source": [
    "question_df[question_df['id'] == 257]"
   ]
  },
  {
   "cell_type": "code",
   "execution_count": 39,
   "id": "8aa69522",
   "metadata": {},
   "outputs": [
    {
     "data": {
      "text/html": [
       "<div>\n",
       "<style scoped>\n",
       "    .dataframe tbody tr th:only-of-type {\n",
       "        vertical-align: middle;\n",
       "    }\n",
       "\n",
       "    .dataframe tbody tr th {\n",
       "        vertical-align: top;\n",
       "    }\n",
       "\n",
       "    .dataframe thead th {\n",
       "        text-align: right;\n",
       "    }\n",
       "</style>\n",
       "<table border=\"1\" class=\"dataframe\">\n",
       "  <thead>\n",
       "    <tr style=\"text-align: right;\">\n",
       "      <th></th>\n",
       "      <th>id</th>\n",
       "      <th>question_text</th>\n",
       "      <th>created_at</th>\n",
       "      <th>date</th>\n",
       "      <th>hour</th>\n",
       "      <th>weekday</th>\n",
       "    </tr>\n",
       "  </thead>\n",
       "  <tbody>\n",
       "    <tr>\n",
       "      <th>146</th>\n",
       "      <td>245</td>\n",
       "      <td>매일 보고 싶은 사람은?</td>\n",
       "      <td>2023-04-01 11:09:26</td>\n",
       "      <td>2023-04-01</td>\n",
       "      <td>11</td>\n",
       "      <td>Saturday</td>\n",
       "    </tr>\n",
       "  </tbody>\n",
       "</table>\n",
       "</div>"
      ],
      "text/plain": [
       "      id  question_text          created_at        date  hour   weekday\n",
       "146  245  매일 보고 싶은 사람은? 2023-04-01 11:09:26  2023-04-01    11  Saturday"
      ]
     },
     "execution_count": 39,
     "metadata": {},
     "output_type": "execute_result"
    }
   ],
   "source": [
    "question_df[question_df['id'] == 245]"
   ]
  },
  {
   "cell_type": "code",
   "execution_count": 40,
   "id": "76df0e47",
   "metadata": {},
   "outputs": [
    {
     "data": {
      "text/html": [
       "<div>\n",
       "<style scoped>\n",
       "    .dataframe tbody tr th:only-of-type {\n",
       "        vertical-align: middle;\n",
       "    }\n",
       "\n",
       "    .dataframe tbody tr th {\n",
       "        vertical-align: top;\n",
       "    }\n",
       "\n",
       "    .dataframe thead th {\n",
       "        text-align: right;\n",
       "    }\n",
       "</style>\n",
       "<table border=\"1\" class=\"dataframe\">\n",
       "  <thead>\n",
       "    <tr style=\"text-align: right;\">\n",
       "      <th></th>\n",
       "      <th>id</th>\n",
       "      <th>question_text</th>\n",
       "      <th>created_at</th>\n",
       "      <th>date</th>\n",
       "      <th>hour</th>\n",
       "      <th>weekday</th>\n",
       "    </tr>\n",
       "  </thead>\n",
       "  <tbody>\n",
       "    <tr>\n",
       "      <th>154</th>\n",
       "      <td>253</td>\n",
       "      <td>생각이 가장 깊은 사람은?</td>\n",
       "      <td>2023-04-01 11:09:28</td>\n",
       "      <td>2023-04-01</td>\n",
       "      <td>11</td>\n",
       "      <td>Saturday</td>\n",
       "    </tr>\n",
       "  </tbody>\n",
       "</table>\n",
       "</div>"
      ],
      "text/plain": [
       "      id   question_text          created_at        date  hour   weekday\n",
       "154  253  생각이 가장 깊은 사람은? 2023-04-01 11:09:28  2023-04-01    11  Saturday"
      ]
     },
     "execution_count": 40,
     "metadata": {},
     "output_type": "execute_result"
    }
   ],
   "source": [
    "question_df[question_df['id'] == 253]"
   ]
  },
  {
   "cell_type": "code",
   "execution_count": null,
   "id": "393ce65a",
   "metadata": {},
   "outputs": [],
   "source": []
  },
  {
   "cell_type": "markdown",
   "id": "f4c0b95f",
   "metadata": {},
   "source": [
    "#### 5~7월 필터링 및 질문 생성 수"
   ]
  },
  {
   "cell_type": "code",
   "execution_count": 42,
   "id": "445833f3",
   "metadata": {},
   "outputs": [
    {
     "name": "stdout",
     "output_type": "stream",
     "text": [
      "2023년 5~7월 질문 생성 수: 4,798건\n"
     ]
    }
   ],
   "source": [
    "# 날짜 형식 변환\n",
    "question_df['created_at'] = pd.to_datetime(question_df['created_at'])\n",
    "\n",
    "# 2023년 5월 1일 ~ 7월 31일 범위 필터링\n",
    "mask = (question_df['created_at'] >= '2023-05-01') & (question_df['created_at'] <= '2023-07-31')\n",
    "may_to_july_df = question_df[mask]\n",
    "\n",
    "# 총 질문 수\n",
    "total_questions = may_to_july_df.shape[0]\n",
    "print(f\"2023년 5~7월 질문 생성 수: {total_questions:,}건\")"
   ]
  },
  {
   "cell_type": "code",
   "execution_count": 43,
   "id": "70907862",
   "metadata": {},
   "outputs": [
    {
     "data": {
      "image/png": "[encoded data removed]",
      "text/plain": [
       "<Figure size 1200x500 with 1 Axes>"
      ]
     },
     "metadata": {},
     "output_type": "display_data"
    }
   ],
   "source": [
    "# 일별 질문 수 선그래프\n",
    "daily_counts = may_to_july_df['created_at'].dt.date.value_counts().sort_index()\n",
    "\n",
    "plt.figure(figsize=(12, 5))\n",
    "plt.plot(daily_counts.index, daily_counts.values, marker='o')\n",
    "plt.xticks(rotation=45)\n",
    "plt.title('2023년 5~7월 일별 질문 생성 수')\n",
    "plt.xlabel('날짜')\n",
    "plt.ylabel('질문 수')\n",
    "plt.grid(True)\n",
    "\n",
    "for x, y in zip(daily_counts.index, daily_counts.values):\n",
    "    plt.text(x, y, y, ha='center', va='bottom', fontsize=8)\n",
    "\n",
    "plt.tight_layout()\n",
    "plt.show()"
   ]
  },
  {
   "cell_type": "code",
   "execution_count": null,
   "id": "32c2d420",
   "metadata": {},
   "outputs": [],
   "source": []
  },
  {
   "cell_type": "code",
   "execution_count": 45,
   "id": "601f9e87",
   "metadata": {},
   "outputs": [],
   "source": [
    "# 날짜형 변환\n",
    "question_df['created_at'] = pd.to_datetime(question_df['created_at'])\n",
    "\n",
    "# 5~7월 필터링\n",
    "mask = (question_df['created_at'] >= '2023-05-01') & (question_df['created_at'] <= '2023-07-31')\n",
    "q_5to7 = question_df[mask].copy()\n",
    "\n",
    "# 파생 변수 생성\n",
    "q_5to7['month'] = q_5to7['created_at'].dt.month\n",
    "q_5to7['weekday'] = q_5to7['created_at'].dt.day_name()\n",
    "q_5to7['hour'] = q_5to7['created_at'].dt.hour"
   ]
  },
  {
   "cell_type": "code",
   "execution_count": 50,
   "id": "5afd674b",
   "metadata": {},
   "outputs": [
    {
     "name": "stdout",
     "output_type": "stream",
     "text": [
      "6월 5일 이후 질문 수: 1966건\n",
      "created_at\n",
      "2023-06-06    1966\n",
      "Name: count, dtype: int64\n"
     ]
    }
   ],
   "source": [
    "# 6월 5일 이후 데이터 개수 확인\n",
    "after_june5 = question_df[question_df['created_at'] > '2023-06-05']\n",
    "print(f\"6월 5일 이후 질문 수: {len(after_june5)}건\")\n",
    "\n",
    "# 일별 집계 확인\n",
    "after_june5_daily = after_june5['created_at'].dt.date.value_counts().sort_index()\n",
    "print(after_june5_daily.tail())"
   ]
  },
  {
   "cell_type": "code",
   "execution_count": 51,
   "id": "5a659be2",
   "metadata": {},
   "outputs": [
    {
     "name": "stdout",
     "output_type": "stream",
     "text": [
      "date\n",
      "2023-05-02     235\n",
      "2023-05-04       1\n",
      "2023-05-11      91\n",
      "2023-05-15     982\n",
      "2023-06-02    1523\n",
      "2023-06-06    1966\n",
      "Name: count, dtype: int64\n"
     ]
    }
   ],
   "source": [
    "# 전체 질문 수를 일자별로 확인\n",
    "daily = question_df[\n",
    "    (question_df['created_at'] >= '2023-05-01') & \n",
    "    (question_df['created_at'] <= '2023-07-31')\n",
    "].copy()\n",
    "\n",
    "daily['date'] = daily['created_at'].dt.date\n",
    "print(daily['date'].value_counts().sort_index().tail(10))"
   ]
  },
  {
   "cell_type": "code",
   "execution_count": 54,
   "id": "3a6e38f2",
   "metadata": {},
   "outputs": [
    {
     "name": "stdout",
     "output_type": "stream",
     "text": [
      "2023년 6월 6일 이후 질문 수: 0건\n",
      "Series([], Name: count, dtype: int64)\n"
     ]
    }
   ],
   "source": [
    "# 날짜 변환이 되어 있다고 가정\n",
    "question_df['created_at'] = pd.to_datetime(question_df['created_at'])\n",
    "\n",
    "# 6월 6일 이후 데이터 필터링\n",
    "after_june6 = question_df[question_df['created_at'] > '2023-06-07']\n",
    "\n",
    "# 총 질문 수 확인\n",
    "print(f\"2023년 6월 6일 이후 질문 수: {len(after_june6)}건\")\n",
    "\n",
    "# 일별 질문 수 확인\n",
    "daily_counts = after_june6['created_at'].dt.date.value_counts().sort_index()\n",
    "print(daily_counts.tail(10))  # 최근 10일치 출력"
   ]
  },
  {
   "cell_type": "code",
   "execution_count": null,
   "id": "629a4cbe",
   "metadata": {},
   "outputs": [],
   "source": []
  },
  {
   "cell_type": "code",
   "execution_count": null,
   "id": "c8c27a2c",
   "metadata": {},
   "outputs": [],
   "source": []
  },
  {
   "cell_type": "code",
   "execution_count": null,
   "id": "b04095aa",
   "metadata": {},
   "outputs": [],
   "source": []
  },
  {
   "cell_type": "code",
   "execution_count": 49,
   "id": "e36b01d3",
   "metadata": {},
   "outputs": [
    {
     "data": {
      "image/png": "[encoded data removed]",
      "text/plain": [
       "<Figure size 600x400 with 1 Axes>"
      ]
     },
     "metadata": {},
     "output_type": "display_data"
    }
   ],
   "source": [
    "plt.figure(figsize=(6, 4))\n",
    "\n",
    "# 카테고리 순서 지정\n",
    "ax = sns.countplot(data=q_5to7, x='month', order=[5, 6, 7])\n",
    "\n",
    "plt.title('월별 질문 생성 수 (2023년 5~7월)')\n",
    "plt.xlabel('월')\n",
    "plt.ylabel('질문 수')\n",
    "\n",
    "for p in ax.patches:\n",
    "    ax.annotate(f'{p.get_height()}', \n",
    "                (p.get_x() + p.get_width() / 2, p.get_height()), \n",
    "                ha='center', va='bottom')\n",
    "\n",
    "plt.tight_layout()\n",
    "plt.show()"
   ]
  },
  {
   "cell_type": "code",
   "execution_count": 47,
   "id": "2f9f722b",
   "metadata": {},
   "outputs": [
    {
     "data": {
      "image/png": "[encoded data removed]",
      "text/plain": [
       "<Figure size 800x400 with 1 Axes>"
      ]
     },
     "metadata": {},
     "output_type": "display_data"
    }
   ],
   "source": [
    "plt.figure(figsize=(8, 4))\n",
    "ax = sns.countplot(data=q_5to7, x='weekday',\n",
    "                   order=['Monday', 'Tuesday', 'Wednesday', 'Thursday', 'Friday', 'Saturday', 'Sunday'])\n",
    "plt.title('요일별 질문 생성 수 (2023년 5~7월)')\n",
    "plt.xlabel('요일')\n",
    "plt.ylabel('질문 수')\n",
    "\n",
    "for p in ax.patches:\n",
    "    ax.annotate(f'{p.get_height()}', \n",
    "                (p.get_x() + p.get_width() / 2, p.get_height()), \n",
    "                ha='center', va='bottom')\n",
    "plt.tight_layout()\n",
    "plt.show()"
   ]
  },
  {
   "cell_type": "code",
   "execution_count": 48,
   "id": "bdfbebf3",
   "metadata": {},
   "outputs": [
    {
     "data": {
      "image/png": "[encoded data removed]",
      "text/plain": [
       "<Figure size 1000x400 with 1 Axes>"
      ]
     },
     "metadata": {},
     "output_type": "display_data"
    }
   ],
   "source": [
    "plt.figure(figsize=(10, 4))\n",
    "ax = sns.countplot(data=q_5to7, x='hour')\n",
    "plt.title('시간대별 질문 생성 수 (2023년 5~7월)')\n",
    "plt.xlabel('시간대')\n",
    "plt.ylabel('질문 수')\n",
    "\n",
    "for p in ax.patches:\n",
    "    ax.annotate(f'{p.get_height()}', \n",
    "                (p.get_x() + p.get_width() / 2, p.get_height()), \n",
    "                ha='center', va='bottom')\n",
    "plt.tight_layout()\n",
    "plt.show()"
   ]
  },
  {
   "cell_type": "code",
   "execution_count": null,
   "id": "dccc7a31",
   "metadata": {},
   "outputs": [],
   "source": []
  },
  {
   "cell_type": "code",
   "execution_count": null,
   "id": "db65368c",
   "metadata": {},
   "outputs": [],
   "source": []
  },
  {
   "cell_type": "code",
   "execution_count": null,
   "id": "67872ca9",
   "metadata": {},
   "outputs": [],
   "source": []
  }
 ],
 "metadata": {
  "kernelspec": {
   "display_name": "Python 3",
   "language": "python",
   "name": "python3"
  },
  "language_info": {
   "codemirror_mode": {
    "name": "ipython",
    "version": 3
   },
   "file_extension": ".py",
   "mimetype": "text/x-python",
   "name": "python",
   "nbconvert_exporter": "python",
   "pygments_lexer": "ipython3",
   "version": "3.12.3"
  }
 },
 "nbformat": 4,
 "nbformat_minor": 5
}
