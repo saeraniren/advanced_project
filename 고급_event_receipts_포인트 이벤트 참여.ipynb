{
 "cells": [
  {
   "cell_type": "code",
   "execution_count": 1,
   "id": "f74fd46f",
   "metadata": {},
   "outputs": [],
   "source": [
    "import pandas as pd\n",
    "import numpy as np\n",
    "import matplotlib.pyplot as plt\n",
    "import seaborn as sns\n",
    "import os\n",
    "import matplotlib.font_manager as fm\n",
    "import koreanize_matplotlib\n",
    "\n",
    "# 폰트 경로 확인 및 설정\n",
    "font_path = '/usr/share/fonts/truetype/nanum/NanumGothic.ttf'  # 설치된 폰트 경로\n",
    "font_name = fm.FontProperties(fname=font_path).get_name()\n",
    "plt.rc('font', family=font_name)\n",
    "\n",
    "# 한글 깨짐 방지 - 마이너스 기호 처리\n",
    "plt.rcParams['axes.unicode_minus'] = False"
   ]
  },
  {
   "cell_type": "code",
   "execution_count": 2,
   "id": "114f4561",
   "metadata": {},
   "outputs": [
    {
     "data": {
      "text/html": [
       "<div>\n",
       "<style scoped>\n",
       "    .dataframe tbody tr th:only-of-type {\n",
       "        vertical-align: middle;\n",
       "    }\n",
       "\n",
       "    .dataframe tbody tr th {\n",
       "        vertical-align: top;\n",
       "    }\n",
       "\n",
       "    .dataframe thead th {\n",
       "        text-align: right;\n",
       "    }\n",
       "</style>\n",
       "<table border=\"1\" class=\"dataframe\">\n",
       "  <thead>\n",
       "    <tr style=\"text-align: right;\">\n",
       "      <th></th>\n",
       "      <th>id</th>\n",
       "      <th>created_at</th>\n",
       "      <th>event_id</th>\n",
       "      <th>user_id</th>\n",
       "      <th>plus_point</th>\n",
       "    </tr>\n",
       "  </thead>\n",
       "  <tbody>\n",
       "    <tr>\n",
       "      <th>0</th>\n",
       "      <td>2</td>\n",
       "      <td>2023-06-22 09:25:16</td>\n",
       "      <td>1</td>\n",
       "      <td>1193618</td>\n",
       "      <td>500</td>\n",
       "    </tr>\n",
       "    <tr>\n",
       "      <th>1</th>\n",
       "      <td>3</td>\n",
       "      <td>2023-06-22 09:38:53</td>\n",
       "      <td>1</td>\n",
       "      <td>928351</td>\n",
       "      <td>500</td>\n",
       "    </tr>\n",
       "    <tr>\n",
       "      <th>2</th>\n",
       "      <td>4</td>\n",
       "      <td>2023-06-22 10:32:15</td>\n",
       "      <td>1</td>\n",
       "      <td>904872</td>\n",
       "      <td>500</td>\n",
       "    </tr>\n",
       "    <tr>\n",
       "      <th>3</th>\n",
       "      <td>5</td>\n",
       "      <td>2023-06-22 13:03:06</td>\n",
       "      <td>1</td>\n",
       "      <td>974697</td>\n",
       "      <td>500</td>\n",
       "    </tr>\n",
       "    <tr>\n",
       "      <th>4</th>\n",
       "      <td>6</td>\n",
       "      <td>2023-06-22 13:40:38</td>\n",
       "      <td>1</td>\n",
       "      <td>1168260</td>\n",
       "      <td>500</td>\n",
       "    </tr>\n",
       "    <tr>\n",
       "      <th>...</th>\n",
       "      <td>...</td>\n",
       "      <td>...</td>\n",
       "      <td>...</td>\n",
       "      <td>...</td>\n",
       "      <td>...</td>\n",
       "    </tr>\n",
       "    <tr>\n",
       "      <th>304</th>\n",
       "      <td>317</td>\n",
       "      <td>2023-11-14 11:17:29</td>\n",
       "      <td>3</td>\n",
       "      <td>918053</td>\n",
       "      <td>500</td>\n",
       "    </tr>\n",
       "    <tr>\n",
       "      <th>305</th>\n",
       "      <td>318</td>\n",
       "      <td>2023-11-15 05:09:02</td>\n",
       "      <td>3</td>\n",
       "      <td>932419</td>\n",
       "      <td>500</td>\n",
       "    </tr>\n",
       "    <tr>\n",
       "      <th>306</th>\n",
       "      <td>319</td>\n",
       "      <td>2023-11-17 06:17:25</td>\n",
       "      <td>3</td>\n",
       "      <td>1188104</td>\n",
       "      <td>500</td>\n",
       "    </tr>\n",
       "    <tr>\n",
       "      <th>307</th>\n",
       "      <td>320</td>\n",
       "      <td>2023-11-17 06:17:59</td>\n",
       "      <td>3</td>\n",
       "      <td>1296978</td>\n",
       "      <td>500</td>\n",
       "    </tr>\n",
       "    <tr>\n",
       "      <th>308</th>\n",
       "      <td>321</td>\n",
       "      <td>2023-11-21 12:03:02</td>\n",
       "      <td>3</td>\n",
       "      <td>1568685</td>\n",
       "      <td>500</td>\n",
       "    </tr>\n",
       "  </tbody>\n",
       "</table>\n",
       "<p>309 rows × 5 columns</p>\n",
       "</div>"
      ],
      "text/plain": [
       "      id          created_at  event_id  user_id  plus_point\n",
       "0      2 2023-06-22 09:25:16         1  1193618         500\n",
       "1      3 2023-06-22 09:38:53         1   928351         500\n",
       "2      4 2023-06-22 10:32:15         1   904872         500\n",
       "3      5 2023-06-22 13:03:06         1   974697         500\n",
       "4      6 2023-06-22 13:40:38         1  1168260         500\n",
       "..   ...                 ...       ...      ...         ...\n",
       "304  317 2023-11-14 11:17:29         3   918053         500\n",
       "305  318 2023-11-15 05:09:02         3   932419         500\n",
       "306  319 2023-11-17 06:17:25         3  1188104         500\n",
       "307  320 2023-11-17 06:17:59         3  1296978         500\n",
       "308  321 2023-11-21 12:03:02         3  1568685         500\n",
       "\n",
       "[309 rows x 5 columns]"
      ]
     },
     "execution_count": 2,
     "metadata": {},
     "output_type": "execute_result"
    }
   ],
   "source": [
    "# 서비스 계정 키 경로 설정\n",
    "os.environ[\"GOOGLE_APPLICATION_CREDENTIALS\"] = r\"/home/eunyu/sprintda05-eunyu-a9946f7dea9c.json\"\n",
    "\n",
    "# GCS의 Parquet 파일 경로\n",
    "gcs_path = 'gs://final_project_enuyu/data/final_project/votes/event_receipts.parquet'\n",
    "\n",
    "# 데이터 불러오기\n",
    "event_receipts_df = pd.read_parquet(gcs_path, engine='pyarrow')\n",
    "event_receipts_df"
   ]
  },
  {
   "cell_type": "code",
   "execution_count": 3,
   "id": "4c7a9b89",
   "metadata": {},
   "outputs": [
    {
     "name": "stdout",
     "output_type": "stream",
     "text": [
      "<class 'pandas.core.frame.DataFrame'>\n",
      "RangeIndex: 309 entries, 0 to 308\n",
      "Data columns (total 5 columns):\n",
      " #   Column      Non-Null Count  Dtype         \n",
      "---  ------      --------------  -----         \n",
      " 0   id          309 non-null    int64         \n",
      " 1   created_at  309 non-null    datetime64[ns]\n",
      " 2   event_id    309 non-null    int64         \n",
      " 3   user_id     309 non-null    int64         \n",
      " 4   plus_point  309 non-null    int64         \n",
      "dtypes: datetime64[ns](1), int64(4)\n",
      "memory usage: 12.2 KB\n"
     ]
    }
   ],
   "source": [
    "event_receipts_df.info()"
   ]
  },
  {
   "cell_type": "code",
   "execution_count": 4,
   "id": "d169844c",
   "metadata": {},
   "outputs": [
    {
     "data": {
      "text/plain": [
       "id            0\n",
       "created_at    0\n",
       "event_id      0\n",
       "user_id       0\n",
       "plus_point    0\n",
       "dtype: int64"
      ]
     },
     "execution_count": 4,
     "metadata": {},
     "output_type": "execute_result"
    }
   ],
   "source": [
    "event_receipts_df.isnull().sum()"
   ]
  },
  {
   "cell_type": "code",
   "execution_count": 5,
   "id": "7723e336",
   "metadata": {},
   "outputs": [
    {
     "data": {
      "text/html": [
       "<div>\n",
       "<style scoped>\n",
       "    .dataframe tbody tr th:only-of-type {\n",
       "        vertical-align: middle;\n",
       "    }\n",
       "\n",
       "    .dataframe tbody tr th {\n",
       "        vertical-align: top;\n",
       "    }\n",
       "\n",
       "    .dataframe thead th {\n",
       "        text-align: right;\n",
       "    }\n",
       "</style>\n",
       "<table border=\"1\" class=\"dataframe\">\n",
       "  <thead>\n",
       "    <tr style=\"text-align: right;\">\n",
       "      <th></th>\n",
       "      <th>id</th>\n",
       "      <th>created_at</th>\n",
       "      <th>event_id</th>\n",
       "      <th>user_id</th>\n",
       "      <th>plus_point</th>\n",
       "    </tr>\n",
       "  </thead>\n",
       "  <tbody>\n",
       "    <tr>\n",
       "      <th>count</th>\n",
       "      <td>309.000000</td>\n",
       "      <td>309</td>\n",
       "      <td>309.000000</td>\n",
       "      <td>3.090000e+02</td>\n",
       "      <td>309.000000</td>\n",
       "    </tr>\n",
       "    <tr>\n",
       "      <th>mean</th>\n",
       "      <td>160.964401</td>\n",
       "      <td>2023-07-24 01:53:59.954692608</td>\n",
       "      <td>1.249191</td>\n",
       "      <td>1.179715e+06</td>\n",
       "      <td>559.870550</td>\n",
       "    </tr>\n",
       "    <tr>\n",
       "      <th>min</th>\n",
       "      <td>2.000000</td>\n",
       "      <td>2023-06-22 09:25:16</td>\n",
       "      <td>1.000000</td>\n",
       "      <td>8.378360e+05</td>\n",
       "      <td>500.000000</td>\n",
       "    </tr>\n",
       "    <tr>\n",
       "      <th>25%</th>\n",
       "      <td>82.000000</td>\n",
       "      <td>2023-07-10 16:58:20</td>\n",
       "      <td>1.000000</td>\n",
       "      <td>9.998160e+05</td>\n",
       "      <td>500.000000</td>\n",
       "    </tr>\n",
       "    <tr>\n",
       "      <th>50%</th>\n",
       "      <td>161.000000</td>\n",
       "      <td>2023-07-20 12:24:28</td>\n",
       "      <td>1.000000</td>\n",
       "      <td>1.139491e+06</td>\n",
       "      <td>500.000000</td>\n",
       "    </tr>\n",
       "    <tr>\n",
       "      <th>75%</th>\n",
       "      <td>239.000000</td>\n",
       "      <td>2023-07-29 09:38:22</td>\n",
       "      <td>1.000000</td>\n",
       "      <td>1.325911e+06</td>\n",
       "      <td>500.000000</td>\n",
       "    </tr>\n",
       "    <tr>\n",
       "      <th>max</th>\n",
       "      <td>321.000000</td>\n",
       "      <td>2023-11-21 12:03:02</td>\n",
       "      <td>3.000000</td>\n",
       "      <td>1.579064e+06</td>\n",
       "      <td>1000.000000</td>\n",
       "    </tr>\n",
       "    <tr>\n",
       "      <th>std</th>\n",
       "      <td>92.065029</td>\n",
       "      <td>NaN</td>\n",
       "      <td>0.563536</td>\n",
       "      <td>2.171981e+05</td>\n",
       "      <td>162.592579</td>\n",
       "    </tr>\n",
       "  </tbody>\n",
       "</table>\n",
       "</div>"
      ],
      "text/plain": [
       "               id                     created_at    event_id       user_id  \\\n",
       "count  309.000000                            309  309.000000  3.090000e+02   \n",
       "mean   160.964401  2023-07-24 01:53:59.954692608    1.249191  1.179715e+06   \n",
       "min      2.000000            2023-06-22 09:25:16    1.000000  8.378360e+05   \n",
       "25%     82.000000            2023-07-10 16:58:20    1.000000  9.998160e+05   \n",
       "50%    161.000000            2023-07-20 12:24:28    1.000000  1.139491e+06   \n",
       "75%    239.000000            2023-07-29 09:38:22    1.000000  1.325911e+06   \n",
       "max    321.000000            2023-11-21 12:03:02    3.000000  1.579064e+06   \n",
       "std     92.065029                            NaN    0.563536  2.171981e+05   \n",
       "\n",
       "        plus_point  \n",
       "count   309.000000  \n",
       "mean    559.870550  \n",
       "min     500.000000  \n",
       "25%     500.000000  \n",
       "50%     500.000000  \n",
       "75%     500.000000  \n",
       "max    1000.000000  \n",
       "std     162.592579  "
      ]
     },
     "execution_count": 5,
     "metadata": {},
     "output_type": "execute_result"
    }
   ],
   "source": [
    "event_receipts_df.describe(include='all')"
   ]
  },
  {
   "cell_type": "code",
   "execution_count": null,
   "id": "41621f54",
   "metadata": {},
   "outputs": [],
   "source": []
  },
  {
   "cell_type": "markdown",
   "id": "102ffd50",
   "metadata": {},
   "source": [
    "#### event_id별 plus_point 평균 비교"
   ]
  },
  {
   "cell_type": "code",
   "execution_count": 6,
   "id": "28e87052",
   "metadata": {},
   "outputs": [
    {
     "name": "stdout",
     "output_type": "stream",
     "text": [
      "   event_id  count    mean  median   max   min\n",
      "0         1    252   500.0   500.0   500   500\n",
      "1         2     37  1000.0  1000.0  1000  1000\n",
      "2         3     20   500.0   500.0   500   500\n"
     ]
    }
   ],
   "source": [
    "# event_id별 plus_point의 평균, 중앙값, 최대값 비교\n",
    "event_summary = event_receipts_df.groupby(\"event_id\")[\"plus_point\"].agg([\"count\", \"mean\", \"median\", \"max\", \"min\"]).reset_index()\n",
    "print(event_summary)"
   ]
  },
  {
   "cell_type": "markdown",
   "id": "96fac493",
   "metadata": {},
   "source": [
    "- event_id = 1: 가장 많은 참여가 있었고, 500포인트가 고정 지급됨.\n",
    "- event_id = 2: 소수만 참여했지만 1000포인트 고정 지급 → 고보상 이벤트\n",
    "- event_id = 3: 참여 수는 적고, 다시 500포인트 지급"
   ]
  },
  {
   "cell_type": "code",
   "execution_count": null,
   "id": "7d17b638",
   "metadata": {},
   "outputs": [],
   "source": []
  },
  {
   "cell_type": "markdown",
   "id": "13b7b11e",
   "metadata": {},
   "source": [
    "#### created_at 기준 이벤트 수 추이 "
   ]
  },
  {
   "cell_type": "code",
   "execution_count": 7,
   "id": "38b65536",
   "metadata": {},
   "outputs": [
    {
     "data": {
      "image/png": "[encoded data removed]",
      "text/plain": [
       "<Figure size 1200x500 with 1 Axes>"
      ]
     },
     "metadata": {},
     "output_type": "display_data"
    }
   ],
   "source": [
    "\n",
    "# 날짜만 추출\n",
    "event_receipts_df[\"created_date\"] = pd.to_datetime(event_receipts_df[\"created_at\"]).dt.date\n",
    "\n",
    "# 일별 이벤트 수 시각화\n",
    "event_counts = event_receipts_df[\"created_date\"].value_counts().sort_index()\n",
    "plt.figure(figsize=(12, 5))\n",
    "plt.plot(event_counts.index, event_counts.values, marker='o')\n",
    "plt.title(\"일별 이벤트 참여 수\")\n",
    "plt.xlabel(\"날짜\")\n",
    "plt.ylabel(\"참여 수\")\n",
    "plt.xticks(rotation=45)\n",
    "plt.tight_layout()\n",
    "plt.show()\n"
   ]
  },
  {
   "cell_type": "code",
   "execution_count": null,
   "id": "3e774096",
   "metadata": {},
   "outputs": [],
   "source": []
  },
  {
   "cell_type": "markdown",
   "id": "e401835b",
   "metadata": {},
   "source": [
    "#### 유저별 참여 횟수 및 누적 지급 포인트 분석"
   ]
  },
  {
   "cell_type": "code",
   "execution_count": 8,
   "id": "507cc710",
   "metadata": {},
   "outputs": [
    {
     "data": {
      "text/html": [
       "<div>\n",
       "<style scoped>\n",
       "    .dataframe tbody tr th:only-of-type {\n",
       "        vertical-align: middle;\n",
       "    }\n",
       "\n",
       "    .dataframe tbody tr th {\n",
       "        vertical-align: top;\n",
       "    }\n",
       "\n",
       "    .dataframe thead th {\n",
       "        text-align: right;\n",
       "    }\n",
       "</style>\n",
       "<table border=\"1\" class=\"dataframe\">\n",
       "  <thead>\n",
       "    <tr style=\"text-align: right;\">\n",
       "      <th></th>\n",
       "      <th>user_id</th>\n",
       "      <th>participation_count</th>\n",
       "      <th>total_plus_point</th>\n",
       "    </tr>\n",
       "  </thead>\n",
       "  <tbody>\n",
       "    <tr>\n",
       "      <th>0</th>\n",
       "      <td>837836</td>\n",
       "      <td>1</td>\n",
       "      <td>1000</td>\n",
       "    </tr>\n",
       "    <tr>\n",
       "      <th>282</th>\n",
       "      <td>1541150</td>\n",
       "      <td>1</td>\n",
       "      <td>1000</td>\n",
       "    </tr>\n",
       "    <tr>\n",
       "      <th>138</th>\n",
       "      <td>1115176</td>\n",
       "      <td>1</td>\n",
       "      <td>1000</td>\n",
       "    </tr>\n",
       "    <tr>\n",
       "      <th>133</th>\n",
       "      <td>1107696</td>\n",
       "      <td>1</td>\n",
       "      <td>1000</td>\n",
       "    </tr>\n",
       "    <tr>\n",
       "      <th>270</th>\n",
       "      <td>1512731</td>\n",
       "      <td>1</td>\n",
       "      <td>1000</td>\n",
       "    </tr>\n",
       "  </tbody>\n",
       "</table>\n",
       "</div>"
      ],
      "text/plain": [
       "     user_id  participation_count  total_plus_point\n",
       "0     837836                    1              1000\n",
       "282  1541150                    1              1000\n",
       "138  1115176                    1              1000\n",
       "133  1107696                    1              1000\n",
       "270  1512731                    1              1000"
      ]
     },
     "execution_count": 8,
     "metadata": {},
     "output_type": "execute_result"
    }
   ],
   "source": [
    "# 유저별 참여 횟수 및 누적 포인트\n",
    "user_summary = event_receipts_df.groupby(\"user_id\")[\"plus_point\"].agg([\"count\", \"sum\"]).reset_index()\n",
    "user_summary.columns = [\"user_id\", \"participation_count\", \"total_plus_point\"]\n",
    "user_summary.sort_values(by=\"total_plus_point\", ascending=False).head()"
   ]
  },
  {
   "cell_type": "code",
   "execution_count": null,
   "id": "5d31acc9",
   "metadata": {},
   "outputs": [],
   "source": []
  },
  {
   "cell_type": "markdown",
   "id": "5b11d04f",
   "metadata": {},
   "source": [
    "#### plus_point 분포"
   ]
  },
  {
   "cell_type": "code",
   "execution_count": 9,
   "id": "14d1d8c0",
   "metadata": {},
   "outputs": [
    {
     "data": {
      "image/png": "[encoded data removed]",
      "text/plain": [
       "<Figure size 1200x400 with 2 Axes>"
      ]
     },
     "metadata": {},
     "output_type": "display_data"
    }
   ],
   "source": [
    "\n",
    "plt.figure(figsize=(12, 4))\n",
    "\n",
    "# 히스토그램\n",
    "plt.subplot(1, 2, 1)\n",
    "sns.histplot(event_receipts_df[\"plus_point\"], bins=30, kde=True)\n",
    "plt.title(\"plus_point 분포 (히스토그램)\")\n",
    "\n",
    "# 박스플롯\n",
    "plt.subplot(1, 2, 2)\n",
    "sns.boxplot(x=event_receipts_df[\"plus_point\"])\n",
    "plt.title(\"plus_point 분포 (박스플롯)\")\n",
    "\n",
    "plt.tight_layout()\n",
    "plt.show()\n"
   ]
  },
  {
   "cell_type": "code",
   "execution_count": null,
   "id": "952d096e",
   "metadata": {},
   "outputs": [],
   "source": []
  },
  {
   "cell_type": "markdown",
   "id": "95137a35",
   "metadata": {},
   "source": [
    "#### event_id별 참여 유저 수 비교"
   ]
  },
  {
   "cell_type": "code",
   "execution_count": 10,
   "id": "2ded3939",
   "metadata": {},
   "outputs": [
    {
     "name": "stdout",
     "output_type": "stream",
     "text": [
      "   event_id  unique_user_count\n",
      "0         1                251\n",
      "1         2                 37\n",
      "2         3                 20\n"
     ]
    }
   ],
   "source": [
    "# event_id별 고유 유저 수\n",
    "event_user_counts = event_receipts_df.groupby(\"event_id\")[\"user_id\"].nunique().reset_index()\n",
    "event_user_counts.columns = [\"event_id\", \"unique_user_count\"]\n",
    "print(event_user_counts)"
   ]
  },
  {
   "cell_type": "code",
   "execution_count": null,
   "id": "217cec56",
   "metadata": {},
   "outputs": [],
   "source": []
  }
 ],
 "metadata": {
  "kernelspec": {
   "display_name": "Python 3",
   "language": "python",
   "name": "python3"
  },
  "language_info": {
   "codemirror_mode": {
    "name": "ipython",
    "version": 3
   },
   "file_extension": ".py",
   "mimetype": "text/x-python",
   "name": "python",
   "nbconvert_exporter": "python",
   "pygments_lexer": "ipython3",
   "version": "3.12.3"
  }
 },
 "nbformat": 4,
 "nbformat_minor": 5
}
