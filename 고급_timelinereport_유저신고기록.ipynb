{
 "cells": [
  {
   "cell_type": "code",
   "execution_count": 1,
   "id": "107e85f2",
   "metadata": {},
   "outputs": [],
   "source": [
    "import pandas as pd\n",
    "import numpy as np\n",
    "import matplotlib.pyplot as plt\n",
    "import seaborn as sns\n",
    "import os\n",
    "import matplotlib.font_manager as fm\n",
    "import koreanize_matplotlib\n",
    "\n",
    "# 폰트 경로 확인 및 설정\n",
    "font_path = '/usr/share/fonts/truetype/nanum/NanumGothic.ttf'  # 설치된 폰트 경로\n",
    "font_name = fm.FontProperties(fname=font_path).get_name()\n",
    "plt.rc('font', family=font_name)\n",
    "\n",
    "# 한글 깨짐 방지 - 마이너스 기호 처리\n",
    "plt.rcParams['axes.unicode_minus'] = False"
   ]
  },
  {
   "cell_type": "code",
   "execution_count": 2,
   "id": "b9a4cdd9",
   "metadata": {},
   "outputs": [
    {
     "data": {
      "text/html": [
       "<div>\n",
       "<style scoped>\n",
       "    .dataframe tbody tr th:only-of-type {\n",
       "        vertical-align: middle;\n",
       "    }\n",
       "\n",
       "    .dataframe tbody tr th {\n",
       "        vertical-align: top;\n",
       "    }\n",
       "\n",
       "    .dataframe thead th {\n",
       "        text-align: right;\n",
       "    }\n",
       "</style>\n",
       "<table border=\"1\" class=\"dataframe\">\n",
       "  <thead>\n",
       "    <tr style=\"text-align: right;\">\n",
       "      <th></th>\n",
       "      <th>id</th>\n",
       "      <th>reason</th>\n",
       "      <th>created_at</th>\n",
       "      <th>reported_user_id</th>\n",
       "      <th>user_id</th>\n",
       "      <th>user_question_record_id</th>\n",
       "    </tr>\n",
       "  </thead>\n",
       "  <tbody>\n",
       "    <tr>\n",
       "      <th>0</th>\n",
       "      <td>28</td>\n",
       "      <td>타인을 사칭함</td>\n",
       "      <td>2023-05-06 04:44:57</td>\n",
       "      <td>874587</td>\n",
       "      <td>885082</td>\n",
       "      <td>3920588</td>\n",
       "    </tr>\n",
       "    <tr>\n",
       "      <th>1</th>\n",
       "      <td>37</td>\n",
       "      <td>친구를 비하하거나 조롱하는 어투</td>\n",
       "      <td>2023-05-06 05:41:19</td>\n",
       "      <td>881048</td>\n",
       "      <td>881298</td>\n",
       "      <td>4018679</td>\n",
       "    </tr>\n",
       "    <tr>\n",
       "      <th>2</th>\n",
       "      <td>46</td>\n",
       "      <td>친구를 비하하거나 조롱하는 어투</td>\n",
       "      <td>2023-05-06 06:26:59</td>\n",
       "      <td>887882</td>\n",
       "      <td>881945</td>\n",
       "      <td>4120914</td>\n",
       "    </tr>\n",
       "    <tr>\n",
       "      <th>3</th>\n",
       "      <td>64</td>\n",
       "      <td>허위 사실 언급</td>\n",
       "      <td>2023-05-06 07:07:46</td>\n",
       "      <td>888610</td>\n",
       "      <td>893684</td>\n",
       "      <td>4143049</td>\n",
       "    </tr>\n",
       "    <tr>\n",
       "      <th>4</th>\n",
       "      <td>65</td>\n",
       "      <td>허위 사실 언급</td>\n",
       "      <td>2023-05-06 07:07:52</td>\n",
       "      <td>888610</td>\n",
       "      <td>893684</td>\n",
       "      <td>4143049</td>\n",
       "    </tr>\n",
       "    <tr>\n",
       "      <th>...</th>\n",
       "      <td>...</td>\n",
       "      <td>...</td>\n",
       "      <td>...</td>\n",
       "      <td>...</td>\n",
       "      <td>...</td>\n",
       "      <td>...</td>\n",
       "    </tr>\n",
       "    <tr>\n",
       "      <th>203</th>\n",
       "      <td>21857</td>\n",
       "      <td>선정적이거나 폭력적인 내용</td>\n",
       "      <td>2023-05-29 15:42:50</td>\n",
       "      <td>1479859</td>\n",
       "      <td>1402487</td>\n",
       "      <td>131364422</td>\n",
       "    </tr>\n",
       "    <tr>\n",
       "      <th>204</th>\n",
       "      <td>22634</td>\n",
       "      <td>허위 사실 언급</td>\n",
       "      <td>2023-05-31 10:33:00</td>\n",
       "      <td>1551005</td>\n",
       "      <td>1161757</td>\n",
       "      <td>135982670</td>\n",
       "    </tr>\n",
       "    <tr>\n",
       "      <th>205</th>\n",
       "      <td>22635</td>\n",
       "      <td>허위 사실 언급</td>\n",
       "      <td>2023-05-31 10:33:06</td>\n",
       "      <td>1551005</td>\n",
       "      <td>1161757</td>\n",
       "      <td>134909577</td>\n",
       "    </tr>\n",
       "    <tr>\n",
       "      <th>206</th>\n",
       "      <td>23022</td>\n",
       "      <td>선정적이거나 폭력적인 내용</td>\n",
       "      <td>2023-06-01 16:02:33</td>\n",
       "      <td>1479859</td>\n",
       "      <td>1498172</td>\n",
       "      <td>139837310</td>\n",
       "    </tr>\n",
       "    <tr>\n",
       "      <th>207</th>\n",
       "      <td>23108</td>\n",
       "      <td>친구를 비하하거나 조롱하는 어투</td>\n",
       "      <td>2023-06-02 08:30:06</td>\n",
       "      <td>1562736</td>\n",
       "      <td>1548002</td>\n",
       "      <td>140765885</td>\n",
       "    </tr>\n",
       "  </tbody>\n",
       "</table>\n",
       "<p>208 rows × 6 columns</p>\n",
       "</div>"
      ],
      "text/plain": [
       "        id             reason          created_at  reported_user_id  user_id  \\\n",
       "0       28            타인을 사칭함 2023-05-06 04:44:57            874587   885082   \n",
       "1       37  친구를 비하하거나 조롱하는 어투 2023-05-06 05:41:19            881048   881298   \n",
       "2       46  친구를 비하하거나 조롱하는 어투 2023-05-06 06:26:59            887882   881945   \n",
       "3       64           허위 사실 언급 2023-05-06 07:07:46            888610   893684   \n",
       "4       65           허위 사실 언급 2023-05-06 07:07:52            888610   893684   \n",
       "..     ...                ...                 ...               ...      ...   \n",
       "203  21857     선정적이거나 폭력적인 내용 2023-05-29 15:42:50           1479859  1402487   \n",
       "204  22634           허위 사실 언급 2023-05-31 10:33:00           1551005  1161757   \n",
       "205  22635           허위 사실 언급 2023-05-31 10:33:06           1551005  1161757   \n",
       "206  23022     선정적이거나 폭력적인 내용 2023-06-01 16:02:33           1479859  1498172   \n",
       "207  23108  친구를 비하하거나 조롱하는 어투 2023-06-02 08:30:06           1562736  1548002   \n",
       "\n",
       "     user_question_record_id  \n",
       "0                    3920588  \n",
       "1                    4018679  \n",
       "2                    4120914  \n",
       "3                    4143049  \n",
       "4                    4143049  \n",
       "..                       ...  \n",
       "203                131364422  \n",
       "204                135982670  \n",
       "205                134909577  \n",
       "206                139837310  \n",
       "207                140765885  \n",
       "\n",
       "[208 rows x 6 columns]"
      ]
     },
     "execution_count": 2,
     "metadata": {},
     "output_type": "execute_result"
    }
   ],
   "source": [
    "# 서비스 계정 키 경로 설정\n",
    "os.environ[\"GOOGLE_APPLICATION_CREDENTIALS\"] = r\"/home/eunyu/sprintda05-eunyu-a9946f7dea9c.json\"\n",
    "# GCS의 Parquet 파일 경로\n",
    "gcs_path = 'gs://final_project_enuyu/data/final_project/votes/accounts_timelinereport.parquet'\n",
    "\n",
    "# 데이터 불러오기\n",
    "timelinereport_df = pd.read_parquet(gcs_path, engine='pyarrow')\n",
    "timelinereport_df"
   ]
  },
  {
   "cell_type": "code",
   "execution_count": 3,
   "id": "056a8ff2",
   "metadata": {},
   "outputs": [
    {
     "name": "stdout",
     "output_type": "stream",
     "text": [
      "<class 'pandas.core.frame.DataFrame'>\n",
      "RangeIndex: 208 entries, 0 to 207\n",
      "Data columns (total 6 columns):\n",
      " #   Column                   Non-Null Count  Dtype         \n",
      "---  ------                   --------------  -----         \n",
      " 0   id                       208 non-null    int64         \n",
      " 1   reason                   208 non-null    object        \n",
      " 2   created_at               208 non-null    datetime64[ns]\n",
      " 3   reported_user_id         208 non-null    int64         \n",
      " 4   user_id                  208 non-null    int64         \n",
      " 5   user_question_record_id  208 non-null    int64         \n",
      "dtypes: datetime64[ns](1), int64(4), object(1)\n",
      "memory usage: 9.9+ KB\n"
     ]
    }
   ],
   "source": [
    "timelinereport_df.info()"
   ]
  },
  {
   "cell_type": "code",
   "execution_count": 4,
   "id": "fb63f2a7",
   "metadata": {},
   "outputs": [
    {
     "data": {
      "text/plain": [
       "id                         0\n",
       "reason                     0\n",
       "created_at                 0\n",
       "reported_user_id           0\n",
       "user_id                    0\n",
       "user_question_record_id    0\n",
       "dtype: int64"
      ]
     },
     "execution_count": 4,
     "metadata": {},
     "output_type": "execute_result"
    }
   ],
   "source": [
    "timelinereport_df.isnull().sum()"
   ]
  },
  {
   "cell_type": "code",
   "execution_count": 5,
   "id": "da56a8cb",
   "metadata": {},
   "outputs": [
    {
     "data": {
      "text/html": [
       "<div>\n",
       "<style scoped>\n",
       "    .dataframe tbody tr th:only-of-type {\n",
       "        vertical-align: middle;\n",
       "    }\n",
       "\n",
       "    .dataframe tbody tr th {\n",
       "        vertical-align: top;\n",
       "    }\n",
       "\n",
       "    .dataframe thead th {\n",
       "        text-align: right;\n",
       "    }\n",
       "</style>\n",
       "<table border=\"1\" class=\"dataframe\">\n",
       "  <thead>\n",
       "    <tr style=\"text-align: right;\">\n",
       "      <th></th>\n",
       "      <th>id</th>\n",
       "      <th>reason</th>\n",
       "      <th>created_at</th>\n",
       "      <th>reported_user_id</th>\n",
       "      <th>user_id</th>\n",
       "      <th>user_question_record_id</th>\n",
       "    </tr>\n",
       "  </thead>\n",
       "  <tbody>\n",
       "    <tr>\n",
       "      <th>count</th>\n",
       "      <td>208.000000</td>\n",
       "      <td>208</td>\n",
       "      <td>208</td>\n",
       "      <td>2.080000e+02</td>\n",
       "      <td>2.080000e+02</td>\n",
       "      <td>2.080000e+02</td>\n",
       "    </tr>\n",
       "    <tr>\n",
       "      <th>unique</th>\n",
       "      <td>NaN</td>\n",
       "      <td>5</td>\n",
       "      <td>NaN</td>\n",
       "      <td>NaN</td>\n",
       "      <td>NaN</td>\n",
       "      <td>NaN</td>\n",
       "    </tr>\n",
       "    <tr>\n",
       "      <th>top</th>\n",
       "      <td>NaN</td>\n",
       "      <td>허위 사실 언급</td>\n",
       "      <td>NaN</td>\n",
       "      <td>NaN</td>\n",
       "      <td>NaN</td>\n",
       "      <td>NaN</td>\n",
       "    </tr>\n",
       "    <tr>\n",
       "      <th>freq</th>\n",
       "      <td>NaN</td>\n",
       "      <td>80</td>\n",
       "      <td>NaN</td>\n",
       "      <td>NaN</td>\n",
       "      <td>NaN</td>\n",
       "      <td>NaN</td>\n",
       "    </tr>\n",
       "    <tr>\n",
       "      <th>mean</th>\n",
       "      <td>9786.269231</td>\n",
       "      <td>NaN</td>\n",
       "      <td>2023-05-15 08:13:50.278846208</td>\n",
       "      <td>1.132497e+06</td>\n",
       "      <td>1.159946e+06</td>\n",
       "      <td>4.932558e+07</td>\n",
       "    </tr>\n",
       "    <tr>\n",
       "      <th>min</th>\n",
       "      <td>28.000000</td>\n",
       "      <td>NaN</td>\n",
       "      <td>2023-05-06 04:44:57</td>\n",
       "      <td>8.372350e+05</td>\n",
       "      <td>8.340890e+05</td>\n",
       "      <td>3.920588e+06</td>\n",
       "    </tr>\n",
       "    <tr>\n",
       "      <th>25%</th>\n",
       "      <td>6123.750000</td>\n",
       "      <td>NaN</td>\n",
       "      <td>2023-05-11 16:41:43.500000</td>\n",
       "      <td>9.664702e+05</td>\n",
       "      <td>9.671202e+05</td>\n",
       "      <td>2.461178e+07</td>\n",
       "    </tr>\n",
       "    <tr>\n",
       "      <th>50%</th>\n",
       "      <td>10095.000000</td>\n",
       "      <td>NaN</td>\n",
       "      <td>2023-05-15 01:23:29</td>\n",
       "      <td>1.144432e+06</td>\n",
       "      <td>1.184397e+06</td>\n",
       "      <td>4.740327e+07</td>\n",
       "    </tr>\n",
       "    <tr>\n",
       "      <th>75%</th>\n",
       "      <td>14182.250000</td>\n",
       "      <td>NaN</td>\n",
       "      <td>2023-05-18 18:01:18</td>\n",
       "      <td>1.225963e+06</td>\n",
       "      <td>1.291813e+06</td>\n",
       "      <td>7.179578e+07</td>\n",
       "    </tr>\n",
       "    <tr>\n",
       "      <th>max</th>\n",
       "      <td>23108.000000</td>\n",
       "      <td>NaN</td>\n",
       "      <td>2023-06-02 08:30:06</td>\n",
       "      <td>1.562736e+06</td>\n",
       "      <td>1.548002e+06</td>\n",
       "      <td>1.407659e+08</td>\n",
       "    </tr>\n",
       "    <tr>\n",
       "      <th>std</th>\n",
       "      <td>5713.767759</td>\n",
       "      <td>NaN</td>\n",
       "      <td>NaN</td>\n",
       "      <td>1.694121e+05</td>\n",
       "      <td>1.800959e+05</td>\n",
       "      <td>3.311281e+07</td>\n",
       "    </tr>\n",
       "  </tbody>\n",
       "</table>\n",
       "</div>"
      ],
      "text/plain": [
       "                  id    reason                     created_at  \\\n",
       "count     208.000000       208                            208   \n",
       "unique           NaN         5                            NaN   \n",
       "top              NaN  허위 사실 언급                            NaN   \n",
       "freq             NaN        80                            NaN   \n",
       "mean     9786.269231       NaN  2023-05-15 08:13:50.278846208   \n",
       "min        28.000000       NaN            2023-05-06 04:44:57   \n",
       "25%      6123.750000       NaN     2023-05-11 16:41:43.500000   \n",
       "50%     10095.000000       NaN            2023-05-15 01:23:29   \n",
       "75%     14182.250000       NaN            2023-05-18 18:01:18   \n",
       "max     23108.000000       NaN            2023-06-02 08:30:06   \n",
       "std      5713.767759       NaN                            NaN   \n",
       "\n",
       "        reported_user_id       user_id  user_question_record_id  \n",
       "count       2.080000e+02  2.080000e+02             2.080000e+02  \n",
       "unique               NaN           NaN                      NaN  \n",
       "top                  NaN           NaN                      NaN  \n",
       "freq                 NaN           NaN                      NaN  \n",
       "mean        1.132497e+06  1.159946e+06             4.932558e+07  \n",
       "min         8.372350e+05  8.340890e+05             3.920588e+06  \n",
       "25%         9.664702e+05  9.671202e+05             2.461178e+07  \n",
       "50%         1.144432e+06  1.184397e+06             4.740327e+07  \n",
       "75%         1.225963e+06  1.291813e+06             7.179578e+07  \n",
       "max         1.562736e+06  1.548002e+06             1.407659e+08  \n",
       "std         1.694121e+05  1.800959e+05             3.311281e+07  "
      ]
     },
     "execution_count": 5,
     "metadata": {},
     "output_type": "execute_result"
    }
   ],
   "source": [
    "timelinereport_df.describe(include='all')"
   ]
  },
  {
   "cell_type": "code",
   "execution_count": null,
   "id": "54925477",
   "metadata": {},
   "outputs": [],
   "source": []
  },
  {
   "cell_type": "code",
   "execution_count": 6,
   "id": "1e77c943",
   "metadata": {},
   "outputs": [
    {
     "name": "stdout",
     "output_type": "stream",
     "text": [
      "완전 중복 행 수: 0\n",
      "id 기준 중복 수: 0\n"
     ]
    }
   ],
   "source": [
    "# 완전 중복 행 확인\n",
    "duplicate_rows = timelinereport_df[timelinereport_df.duplicated()]\n",
    "print(f\"완전 중복 행 수: {len(duplicate_rows)}\")\n",
    "\n",
    "# 특정 key 기준 중복 (예: id 기준)\n",
    "duplicate_ids = timelinereport_df[timelinereport_df.duplicated(subset='id')]\n",
    "print(f\"id 기준 중복 수: {len(duplicate_ids)}\")"
   ]
  },
  {
   "cell_type": "code",
   "execution_count": null,
   "id": "0bc1f5ec",
   "metadata": {},
   "outputs": [],
   "source": []
  },
  {
   "cell_type": "markdown",
   "id": "3e14eda2",
   "metadata": {},
   "source": [
    "#### 신고 사유별 비율"
   ]
  },
  {
   "cell_type": "code",
   "execution_count": 9,
   "id": "c5f5dd67",
   "metadata": {},
   "outputs": [
    {
     "data": {
      "image/png": "[encoded data removed]",
      "text/plain": [
       "<Figure size 640x480 with 1 Axes>"
      ]
     },
     "metadata": {},
     "output_type": "display_data"
    },
    {
     "data": {
      "text/plain": [
       "reason\n",
       "허위 사실 언급             38.461538\n",
       "친구를 비하하거나 조롱하는 어투    30.769231\n",
       "선정적이거나 폭력적인 내용       18.750000\n",
       "타인을 사칭함               7.211538\n",
       "광고                    4.807692\n",
       "Name: proportion, dtype: float64"
      ]
     },
     "execution_count": 9,
     "metadata": {},
     "output_type": "execute_result"
    }
   ],
   "source": [
    "\n",
    "# 비율 계산\n",
    "reason_counts = timelinereport_df['reason'].value_counts(normalize=True) * 100\n",
    "\n",
    "\n",
    "# 시각화\n",
    "reason_counts.plot(kind='bar', title='신고 사유별 비율 (%)', ylabel='비율 (%)', xlabel='신고 사유', rot=45)\n",
    "plt.tight_layout()\n",
    "plt.show()\n",
    "\n",
    "\n",
    "reason_counts"
   ]
  },
  {
   "cell_type": "code",
   "execution_count": null,
   "id": "052efc98",
   "metadata": {},
   "outputs": [],
   "source": []
  },
  {
   "cell_type": "markdown",
   "id": "a70d8b43",
   "metadata": {},
   "source": [
    "#### 사용자별 신고 누적 건수"
   ]
  },
  {
   "cell_type": "code",
   "execution_count": 12,
   "id": "e254df6e",
   "metadata": {},
   "outputs": [
    {
     "name": "stdout",
     "output_type": "stream",
     "text": [
      "reported_user_id\n",
      "1138757    15\n",
      "1156031     8\n",
      "1187305     7\n",
      "939196      7\n",
      "1225963     6\n",
      "885129      6\n",
      "885473      5\n",
      "1207784     4\n",
      "1131675     4\n",
      "1479859     3\n",
      "Name: count, dtype: int64\n"
     ]
    },
    {
     "data": {
      "image/png": "[encoded data removed]",
      "text/plain": [
       "<Figure size 640x480 with 1 Axes>"
      ]
     },
     "metadata": {},
     "output_type": "display_data"
    }
   ],
   "source": [
    "user_report_counts = timelinereport_df['reported_user_id'].value_counts()\n",
    "print(user_report_counts.head(10))  # 상위 10명 출력\n",
    "\n",
    "# 시각화 (상위 10명)\n",
    "user_report_counts.head(10).plot(kind='bar', title='신고 많이 받은 사용자 TOP 10', ylabel='신고 건수', xlabel='user_id')\n",
    "plt.tight_layout()\n",
    "plt.xticks(rotation=45)\n",
    "plt.show()"
   ]
  },
  {
   "cell_type": "code",
   "execution_count": null,
   "id": "768560bf",
   "metadata": {},
   "outputs": [],
   "source": []
  },
  {
   "cell_type": "markdown",
   "id": "634c3c2d",
   "metadata": {},
   "source": [
    "#### 날짜별 신고 트렌드 시각화"
   ]
  },
  {
   "cell_type": "code",
   "execution_count": 11,
   "id": "f29ae53d",
   "metadata": {},
   "outputs": [
    {
     "data": {
      "image/png": "[encoded data removed]",
      "text/plain": [
       "<Figure size 640x480 with 1 Axes>"
      ]
     },
     "metadata": {},
     "output_type": "display_data"
    }
   ],
   "source": [
    "# datetime 형 변환\n",
    "timelinereport_df['created_at'] = pd.to_datetime(timelinereport_df['created_at'])\n",
    "\n",
    "# 날짜별 신고 수\n",
    "daily_reports = timelinereport_df['created_at'].dt.date.value_counts().sort_index()\n",
    "\n",
    "# 시각화\n",
    "daily_reports.plot(kind='line', marker='o', title='날짜별 신고 발생 추이', ylabel='신고 수', xlabel='날짜')\n",
    "plt.xticks(rotation=45)\n",
    "plt.tight_layout()\n",
    "plt.show()"
   ]
  },
  {
   "cell_type": "code",
   "execution_count": null,
   "id": "b2a548de",
   "metadata": {},
   "outputs": [],
   "source": []
  },
  {
   "cell_type": "markdown",
   "id": "d2d09d42",
   "metadata": {},
   "source": [
    "#### 신고된 질문 기록 (user_question_record_id)의 중복 여부 확인"
   ]
  },
  {
   "cell_type": "code",
   "execution_count": 13,
   "id": "75b571e1",
   "metadata": {},
   "outputs": [
    {
     "name": "stdout",
     "output_type": "stream",
     "text": [
      "중복된 질문 ID 수: 45\n",
      "고유한 질문 ID 수: 163\n"
     ]
    }
   ],
   "source": [
    "# 중복 질문 ID 확인\n",
    "duplicate_questions = timelinereport_df['user_question_record_id'].duplicated().sum()\n",
    "total_questions = timelinereport_df['user_question_record_id'].nunique()\n",
    "print(f\"중복된 질문 ID 수: {duplicate_questions}\")\n",
    "print(f\"고유한 질문 ID 수: {total_questions}\")\n"
   ]
  },
  {
   "cell_type": "code",
   "execution_count": null,
   "id": "ca8ea400",
   "metadata": {},
   "outputs": [],
   "source": []
  },
  {
   "cell_type": "code",
   "execution_count": null,
   "id": "2bc4251f",
   "metadata": {},
   "outputs": [],
   "source": []
  },
  {
   "cell_type": "code",
   "execution_count": null,
   "id": "86988a5a",
   "metadata": {},
   "outputs": [],
   "source": []
  },
  {
   "cell_type": "code",
   "execution_count": null,
   "id": "f7ec8ee9",
   "metadata": {},
   "outputs": [],
   "source": []
  },
  {
   "cell_type": "code",
   "execution_count": null,
   "id": "a4fdd353",
   "metadata": {},
   "outputs": [],
   "source": []
  }
 ],
 "metadata": {
  "kernelspec": {
   "display_name": "Python 3",
   "language": "python",
   "name": "python3"
  },
  "language_info": {
   "codemirror_mode": {
    "name": "ipython",
    "version": 3
   },
   "file_extension": ".py",
   "mimetype": "text/x-python",
   "name": "python",
   "nbconvert_exporter": "python",
   "pygments_lexer": "ipython3",
   "version": "3.12.3"
  }
 },
 "nbformat": 4,
 "nbformat_minor": 5
}
