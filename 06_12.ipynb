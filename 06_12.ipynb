version https://git-lfs.github.com/spec/v1
oid sha256:1534871e991c5c3bd977133ce6a9cfe7c5ee30e055bd80f9fa9077728ff46a4b
size 199447
