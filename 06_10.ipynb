version https://git-lfs.github.com/spec/v1
oid sha256:6f868b6af00ac8e57bec62202c1f9c7465cfaace5c430673627e08e824dc6700
size 24087
