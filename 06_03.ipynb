{
 "cells": [
  {
   "cell_type": "code",
   "execution_count": 2,
   "id": "1a22a047",
   "metadata": {},
   "outputs": [],
   "source": [
    "import pandas as pd\n",
    "import os\n",
    "from glob import glob\n",
    "import platform\n",
    "import matplotlib.pyplot as plt\n",
    "import koreanize_matplotlib\n",
    "import matplotlib.font_manager as fm\n",
    "import seaborn as sns\n",
    "import ast\n",
    "\n",
    "# 마이너스 기호 깨짐 방지\n",
    "plt.rcParams['axes.unicode_minus'] = False\n",
    "\n",
    "# pandas 전체 출력 형식 설정(지수 표기 -> 자연수 표기)\n",
    "pd.set_option('display.float_format', '{:,.0f}'.format)\n",
    "\n",
    "pd.set_option('display.max_columns',100) # pandas 내 모든 칼럼 표시\n",
    "pd.set_option('display.max_rows', None) # pandas 내 모든 행 표시\n",
    "pd.set_option('display.max_seq_items', None) # 출력 옵션 설정\n",
    "pd.set_option('display.max_colwidth', None) # pandas 최대 열 너비 늘리기기"
   ]
  },
  {
   "cell_type": "code",
   "execution_count": 3,
   "metadata": {},
   "outputs": [],
   "source": [
    "hackle_events_df = pd.read_parquet('./data/hackle/hackle_events.parquet')"
   ]
  },
  {
   "cell_type": "code",
   "execution_count": 4,
   "metadata": {},
   "outputs": [
    {
     "name": "stdout",
     "output_type": "stream",
     "text": [
      "<class 'pandas.core.frame.DataFrame'>\n",
      "RangeIndex: 11441319 entries, 0 to 11441318\n",
      "Data columns (total 11 columns):\n",
      " #   Column          Dtype         \n",
      "---  ------          -----         \n",
      " 0   event_id        object        \n",
      " 1   event_datetime  datetime64[ms]\n",
      " 2   event_key       object        \n",
      " 3   session_id      object        \n",
      " 4   id              object        \n",
      " 5   item_name       object        \n",
      " 6   page_name       object        \n",
      " 7   friend_count    float64       \n",
      " 8   votes_count     float64       \n",
      " 9   heart_balance   float64       \n",
      " 10  question_id     float64       \n",
      "dtypes: datetime64[ms](1), float64(4), object(6)\n",
      "memory usage: 960.2+ MB\n"
     ]
    }
   ],
   "source": [
    "hackle_events_df.info()"
   ]
  },
  {
   "cell_type": "code",
   "execution_count": 5,
   "metadata": {},
   "outputs": [
    {
     "data": {
      "text/html": [
       "<div>\n",
       "<style scoped>\n",
       "    .dataframe tbody tr th:only-of-type {\n",
       "        vertical-align: middle;\n",
       "    }\n",
       "\n",
       "    .dataframe tbody tr th {\n",
       "        vertical-align: top;\n",
       "    }\n",
       "\n",
       "    .dataframe thead th {\n",
       "        text-align: right;\n",
       "    }\n",
       "</style>\n",
       "<table border=\"1\" class=\"dataframe\">\n",
       "  <thead>\n",
       "    <tr style=\"text-align: right;\">\n",
       "      <th></th>\n",
       "      <th>event_id</th>\n",
       "      <th>event_datetime</th>\n",
       "      <th>event_key</th>\n",
       "      <th>session_id</th>\n",
       "      <th>id</th>\n",
       "      <th>item_name</th>\n",
       "      <th>page_name</th>\n",
       "      <th>friend_count</th>\n",
       "      <th>votes_count</th>\n",
       "      <th>heart_balance</th>\n",
       "      <th>question_id</th>\n",
       "    </tr>\n",
       "  </thead>\n",
       "  <tbody>\n",
       "    <tr>\n",
       "      <th>0</th>\n",
       "      <td>00000533-3f1c-4b3b-81f1-0c8f35754b4e</td>\n",
       "      <td>2023-07-18 19:40:17</td>\n",
       "      <td>$session_start</td>\n",
       "      <td>4OzYh3seq3VKytpSn5pvQkZNQii1</td>\n",
       "      <td>00000533-3f1c-4b3b-81f1-0c8f35754b4e</td>\n",
       "      <td></td>\n",
       "      <td></td>\n",
       "      <td>NaN</td>\n",
       "      <td>NaN</td>\n",
       "      <td>NaN</td>\n",
       "      <td>NaN</td>\n",
       "    </tr>\n",
       "    <tr>\n",
       "      <th>1</th>\n",
       "      <td>00000716-27e9-4e72-a602-d0ce61784b06</td>\n",
       "      <td>2023-07-18 21:07:24</td>\n",
       "      <td>click_question_open</td>\n",
       "      <td>8QXy31PQxbW9qLzq0Y1dhR8Ypm52</td>\n",
       "      <td>00000716-27e9-4e72-a602-d0ce61784b06</td>\n",
       "      <td></td>\n",
       "      <td></td>\n",
       "      <td>64</td>\n",
       "      <td>436</td>\n",
       "      <td>4,830</td>\n",
       "      <td>NaN</td>\n",
       "    </tr>\n",
       "    <tr>\n",
       "      <th>2</th>\n",
       "      <td>000007c8-68ce-40e6-9b1e-f0e34e8ff9cc</td>\n",
       "      <td>2023-08-06 20:18:03</td>\n",
       "      <td>click_bottom_navigation_profile</td>\n",
       "      <td>6bcea65d-9f40-46fc-888c-700fe707483f</td>\n",
       "      <td>000007c8-68ce-40e6-9b1e-f0e34e8ff9cc</td>\n",
       "      <td></td>\n",
       "      <td></td>\n",
       "      <td>26</td>\n",
       "      <td>174</td>\n",
       "      <td>4,729</td>\n",
       "      <td>NaN</td>\n",
       "    </tr>\n",
       "    <tr>\n",
       "      <th>3</th>\n",
       "      <td>00000981-5e2a-4111-993e-4f1891ad9a53</td>\n",
       "      <td>2023-08-05 01:46:10</td>\n",
       "      <td>view_shop</td>\n",
       "      <td>XVYNT6zfhFWqIg9omwg2AHDjTLx2</td>\n",
       "      <td>00000981-5e2a-4111-993e-4f1891ad9a53</td>\n",
       "      <td></td>\n",
       "      <td></td>\n",
       "      <td>61</td>\n",
       "      <td>44</td>\n",
       "      <td>142</td>\n",
       "      <td>NaN</td>\n",
       "    </tr>\n",
       "    <tr>\n",
       "      <th>4</th>\n",
       "      <td>00000a7a-ba72-4332-b4a9-7910670aaeb2</td>\n",
       "      <td>2023-07-24 15:03:37</td>\n",
       "      <td>click_bottom_navigation_lab</td>\n",
       "      <td>XFB2SPiGfjbVhvJ3Q3DBsaT3m2B3</td>\n",
       "      <td>00000a7a-ba72-4332-b4a9-7910670aaeb2</td>\n",
       "      <td></td>\n",
       "      <td></td>\n",
       "      <td>119</td>\n",
       "      <td>545</td>\n",
       "      <td>3,287</td>\n",
       "      <td>NaN</td>\n",
       "    </tr>\n",
       "  </tbody>\n",
       "</table>\n",
       "</div>"
      ],
      "text/plain": [
       "                               event_id      event_datetime  \\\n",
       "0  00000533-3f1c-4b3b-81f1-0c8f35754b4e 2023-07-18 19:40:17   \n",
       "1  00000716-27e9-4e72-a602-d0ce61784b06 2023-07-18 21:07:24   \n",
       "2  000007c8-68ce-40e6-9b1e-f0e34e8ff9cc 2023-08-06 20:18:03   \n",
       "3  00000981-5e2a-4111-993e-4f1891ad9a53 2023-08-05 01:46:10   \n",
       "4  00000a7a-ba72-4332-b4a9-7910670aaeb2 2023-07-24 15:03:37   \n",
       "\n",
       "                         event_key                            session_id  \\\n",
       "0                   $session_start          4OzYh3seq3VKytpSn5pvQkZNQii1   \n",
       "1              click_question_open          8QXy31PQxbW9qLzq0Y1dhR8Ypm52   \n",
       "2  click_bottom_navigation_profile  6bcea65d-9f40-46fc-888c-700fe707483f   \n",
       "3                        view_shop          XVYNT6zfhFWqIg9omwg2AHDjTLx2   \n",
       "4      click_bottom_navigation_lab          XFB2SPiGfjbVhvJ3Q3DBsaT3m2B3   \n",
       "\n",
       "                                     id item_name page_name  friend_count  \\\n",
       "0  00000533-3f1c-4b3b-81f1-0c8f35754b4e                               NaN   \n",
       "1  00000716-27e9-4e72-a602-d0ce61784b06                                64   \n",
       "2  000007c8-68ce-40e6-9b1e-f0e34e8ff9cc                                26   \n",
       "3  00000981-5e2a-4111-993e-4f1891ad9a53                                61   \n",
       "4  00000a7a-ba72-4332-b4a9-7910670aaeb2                               119   \n",
       "\n",
       "   votes_count  heart_balance  question_id  \n",
       "0          NaN            NaN          NaN  \n",
       "1          436          4,830          NaN  \n",
       "2          174          4,729          NaN  \n",
       "3           44            142          NaN  \n",
       "4          545          3,287          NaN  "
      ]
     },
     "execution_count": 5,
     "metadata": {},
     "output_type": "execute_result"
    }
   ],
   "source": [
    "hackle_events_df.head()"
   ]
  },
  {
   "cell_type": "code",
   "execution_count": 23,
   "id": "89ba904f",
   "metadata": {},
   "outputs": [],
   "source": [
    "# 특정 session_id에서 event_key가 존재하는지 확인하고 앞 뒤 세 개의 event_key 확인하기\n",
    "\n",
    "def inspect_event_surroundings(df, session_id, target_event):\n",
    "    # 1. 해당 세션 필터링\n",
    "    session_df = df[df[\"session_id\"] == session_id].sort_values(\"event_datetime\").reset_index(drop=True)\n",
    "\n",
    "    # 2. target event 인덱스 찾기\n",
    "    idx_list = session_df[session_df[\"event_key\"] == target_event].index.tolist()\n",
    "\n",
    "    # 3. 없을 경우 메시지 출력\n",
    "    if not idx_list:\n",
    "        print(f\"[{session_id}] 세션에는 '{target_event}' 이벤트가 없습니다.\")\n",
    "        return\n",
    "\n",
    "    # 4. 앞뒤 이벤트 출력\n",
    "    for idx in idx_list:\n",
    "        print(f\"\\n[이벤트 인덱스 {idx}]\")\n",
    "        print(\"이전 이벤트:\", session_df.loc[idx - 3:idx - 1, \"event_key\"].tolist() if idx >= 3 else \"이전 이벤트 없음\")\n",
    "        print(\"현재 이벤트:\", session_df.loc[idx, \"event_key\"])\n",
    "        print(\"다음 이벤트:\", session_df.loc[idx + 1:idx + 3, \"event_key\"].tolist() if idx + 3 < len(session_df) else \"다음 이벤트 없음\")"
   ]
  },
  {
   "cell_type": "code",
   "execution_count": null,
   "id": "69ac2f91",
   "metadata": {},
   "outputs": [
    {
     "name": "stdout",
     "output_type": "stream",
     "text": [
      "session_id\n",
      "000137bc-80de-4bb5-b61d-df7f217a4501                                                                                                                                                                                                                                                                                                                                                                                                                                                                                                                                                                                                                                                                                                                                                                                                                                                                                                                                                                                                                                                                                               [launch_app, $session_start]\n",
      "00025EE1-BA46-4853-8FDD-B991FABA328F    [launch_app, $session_start, launch_app, click_appbar_alarm_center, click_notice_detail, click_notice_detail, click_notice_detail, click_notice_detail, launch_app, $session_start, click_question_start, complete_question, $session_start, launch_app, click_question_start, complete_question, click_bottom_navigation_lab, view_timeline_tap, view_lab_tap, click_bottom_navigation_profile, view_profile_tap, click_bottom_navigation_questions, view_timeline_tap, view_questions_tap, view_lab_tap, click_bottom_navigation_timeline, click_appbar_chat_rooms, view_timeline_tap, click_bottom_navigation_timeline, click_question_ask, view_lab_tap, view_profile_tap, click_bottom_navigation_profile, click_bottom_navigation_lab, view_lab_tap, view_timeline_tap, click_bottom_navigation_timeline, click_bottom_navigation_questions, view_questions_tap, click_bottom_navigation_profile, view_timeline_tap, view_lab_tap, view_profile_tap, click_bottom_navigation_questions, view_timeline_tap, view_questions_tap, view_lab_tap, click_appbar_alarm_center, click_notice_detail, click_notice_detail]\n",
      "00039F52-AC9A-4474-A645-DFE225C56753                                                                                                                                                                                                                                                                                                                                                                                                                                                                                                                                                                                                                                                                                                                                                                                                                                                                                                                                                                                                                                                                                               [$session_start, launch_app]\n",
      "0004482B-03B0-4638-8C5A-C2E49C085C7F                                                                                                                                                                                                                                                                                                                                                                                                                                                                                                                                                                                                                                                                                                                                                                                                                                                                                                                                                                                                                                                                                               [$session_start, launch_app]\n",
      "0004F43C-3A7A-4DE4-A02B-55AFDF07E9AD                                                                                                                                                                                                 [launch_app, $session_start, view_home_tap, $session_end, launch_app, $session_start, click_appbar_alarm_center, click_bottom_navigation_questions, click_bottom_navigation_questions, click_bottom_navigation_questions, view_timeline_tap, view_lab_tap, view_profile_tap, view_questions_tap, view_lab_tap, view_timeline_tap, click_bottom_navigation_questions, view_timeline_tap, click_bottom_navigation_timeline, view_questions_tap, click_bottom_navigation_questions, view_lab_tap, view_timeline_tap, click_bottom_navigation_lab, view_profile_tap, click_bottom_navigation_profile, click_bottom_navigation_lab, view_lab_tap, view_questions_tap, click_bottom_navigation_questions, view_timeline_tap, $session_start, $session_end, launch_app, $session_start, view_login, click_question_open, click_question_open, view_lab_tap, click_bottom_navigation_profile, view_profile_tap, view_timeline_tap]\n",
      "Name: event_key, dtype: object\n"
     ]
    }
   ],
   "source": [
    "session_sequence = hackle_events_df.sort_values(['session_id', 'event_datetime'])\n",
    "session_sequence = session_sequence.groupby('session_id')['event_key'].apply(list)"
   ]
  },
  {
   "cell_type": "code",
   "execution_count": 26,
   "id": "1d93a6e6",
   "metadata": {},
   "outputs": [
    {
     "data": {
      "text/plain": [
       "session_id\n",
       "000137bc-80de-4bb5-b61d-df7f217a4501                                                                                                                                                                                                                                                                                                                                                                                                                                                                                                                                                                                                                                                                                                                                                                                                                                                                                                                                                                                                                                                                                               [launch_app, $session_start]\n",
       "00025EE1-BA46-4853-8FDD-B991FABA328F    [launch_app, $session_start, launch_app, click_appbar_alarm_center, click_notice_detail, click_notice_detail, click_notice_detail, click_notice_detail, launch_app, $session_start, click_question_start, complete_question, $session_start, launch_app, click_question_start, complete_question, click_bottom_navigation_lab, view_timeline_tap, view_lab_tap, click_bottom_navigation_profile, view_profile_tap, click_bottom_navigation_questions, view_timeline_tap, view_questions_tap, view_lab_tap, click_bottom_navigation_timeline, click_appbar_chat_rooms, view_timeline_tap, click_bottom_navigation_timeline, click_question_ask, view_lab_tap, view_profile_tap, click_bottom_navigation_profile, click_bottom_navigation_lab, view_lab_tap, view_timeline_tap, click_bottom_navigation_timeline, click_bottom_navigation_questions, view_questions_tap, click_bottom_navigation_profile, view_timeline_tap, view_lab_tap, view_profile_tap, click_bottom_navigation_questions, view_timeline_tap, view_questions_tap, view_lab_tap, click_appbar_alarm_center, click_notice_detail, click_notice_detail]\n",
       "00039F52-AC9A-4474-A645-DFE225C56753                                                                                                                                                                                                                                                                                                                                                                                                                                                                                                                                                                                                                                                                                                                                                                                                                                                                                                                                                                                                                                                                                               [$session_start, launch_app]\n",
       "0004482B-03B0-4638-8C5A-C2E49C085C7F                                                                                                                                                                                                                                                                                                                                                                                                                                                                                                                                                                                                                                                                                                                                                                                                                                                                                                                                                                                                                                                                                               [$session_start, launch_app]\n",
       "0004F43C-3A7A-4DE4-A02B-55AFDF07E9AD                                                                                                                                                                                                 [launch_app, $session_start, view_home_tap, $session_end, launch_app, $session_start, click_appbar_alarm_center, click_bottom_navigation_questions, click_bottom_navigation_questions, click_bottom_navigation_questions, view_timeline_tap, view_lab_tap, view_profile_tap, view_questions_tap, view_lab_tap, view_timeline_tap, click_bottom_navigation_questions, view_timeline_tap, click_bottom_navigation_timeline, view_questions_tap, click_bottom_navigation_questions, view_lab_tap, view_timeline_tap, click_bottom_navigation_lab, view_profile_tap, click_bottom_navigation_profile, click_bottom_navigation_lab, view_lab_tap, view_questions_tap, click_bottom_navigation_questions, view_timeline_tap, $session_start, $session_end, launch_app, $session_start, view_login, click_question_open, click_question_open, view_lab_tap, click_bottom_navigation_profile, view_profile_tap, view_timeline_tap]\n",
       "00057831-A672-4163-9C02-AB920A371F2C                                                                                                                                                                                                                                                                                                                                                                                      [$session_end, launch_app, $session_start, $session_start, click_question_start, $session_end, launch_app, $session_start, click_question_start, skip_question, skip_question, skip_question, $session_end, click_question_start, $session_start, complete_question, click_question_open, view_lab_tap, click_bottom_navigation_lab, view_timeline_tap, view_timeline_tap, view_lab_tap, view_profile_tap, $session_end, $session_start, launch_app, click_question_start, skip_question, skip_question, skip_question, skip_question, skip_question, skip_question, skip_question, skip_question, complete_question, launch_app, $session_start, $session_end, $session_end, launch_app, $session_start, $session_start, launch_app]\n",
       "000638C3-2BC2-4068-A482-861B526B2651                                                                                                                                                                                                                                                                                                                                                                                                                                                                                                               [$session_start, launch_app, $session_end, $session_start, click_bottom_navigation_profile, view_timeline_tap, view_lab_tap, view_timeline_tap, click_bottom_navigation_questions, view_lab_tap, click_question_open, click_question_open, click_question_open, $session_end, $session_start, launch_app, click_appbar_friend_plus, view_lab_tap, view_timeline_tap, click_bottom_navigation_profile, click_appbar_alarm_center, $session_end, $session_start, launch_app, view_timeline_tap, view_lab_tap, click_bottom_navigation_profile, click_appbar_setting, $session_end, launch_app, $session_start]\n",
       "00077002-3194-4c04-8ce0-2945041865f2                                                                                                                                                                                                                                                                                                                                                                                                                                                                                                                                                                                                                                                                                                                                                                                                                                                                                                                                                                                                                                                                         [launch_app, $session_start, click_question_start]\n",
       "0009B464-970A-4030-9990-C28F90D4D0D8                                                                                                                                                                                                                                                                                                                                                                                                                                                                                                                                                                                                                                                                                                                                                                                                                                                                                                                                                                                                                                                                                                           [$session_start]\n",
       "000C66B7-BD0A-4238-9560-A86E4A3A60A4                                                                                                                                                                                                                                                                                                                                                                                                                                                                                      [launch_app, $session_start, view_login, view_login, $session_end, $session_start, click_bottom_navigation_questions, click_bottom_navigation_questions, click_bottom_navigation_questions, click_question_start, click_question_open, click_question_open, click_question_start, complete_question, $session_end, launch_app, $session_start, $session_end, $session_start, launch_app, $session_end, $session_start, launch_app, click_question_start, $session_start, launch_app, click_question_start, complete_question, click_question_open, $session_end, $session_start, launch_app, click_question_start, complete_question]\n",
       "Name: event_key, dtype: object"
      ]
     },
     "execution_count": 26,
     "metadata": {},
     "output_type": "execute_result"
    }
   ],
   "source": [
    "session_sequence.head(10)"
   ]
  },
  {
   "cell_type": "code",
   "execution_count": 32,
   "id": "60a219b9",
   "metadata": {},
   "outputs": [
    {
     "name": "stdout",
     "output_type": "stream",
     "text": [
      "\n",
      "[이벤트 인덱스 1183]\n",
      "이전 이벤트: ['view_lab_tap', 'view_timeline_tap', 'click_bottom_navigation_timeline']\n",
      "현재 이벤트: click_random_ask_normal\n",
      "다음 이벤트: ['click_bottom_navigation_questions', 'view_questions_tap', 'click_question_open']\n",
      "\n",
      "[이벤트 인덱스 2044]\n",
      "이전 이벤트: ['view_timeline_tap', 'click_bottom_navigation_timeline', 'view_timeline_tap']\n",
      "현재 이벤트: click_random_ask_normal\n",
      "다음 이벤트: ['$session_end', 'launch_app', '$session_start']\n"
     ]
    }
   ],
   "source": [
    "# inspect_event_surroundings(hackle_events_df, \"session_id\", \"event_key\")\n",
    "inspect_event_surroundings(hackle_events_df, \"008DAA55-8DF3-4405-9E11-D4A95E76825C\", \"click_random_ask_normal\")"
   ]
  },
  {
   "cell_type": "code",
   "execution_count": null,
   "id": "a6654afa",
   "metadata": {},
   "outputs": [],
   "source": []
  }
 ],
 "metadata": {
  "kernelspec": {
   "display_name": "Python 3",
   "language": "python",
   "name": "python3"
  },
  "language_info": {
   "codemirror_mode": {
    "name": "ipython",
    "version": 3
   },
   "file_extension": ".py",
   "mimetype": "text/x-python",
   "name": "python",
   "nbconvert_exporter": "python",
   "pygments_lexer": "ipython3",
   "version": "3.12.3"
  }
 },
 "nbformat": 4,
 "nbformat_minor": 5
}
