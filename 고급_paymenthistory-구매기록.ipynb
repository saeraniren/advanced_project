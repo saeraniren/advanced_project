{
 "cells": [
  {
   "cell_type": "code",
   "execution_count": 1,
   "id": "9992d069",
   "metadata": {},
   "outputs": [],
   "source": [
    "import pandas as pd\n",
    "import numpy as np\n",
    "import matplotlib.pyplot as plt\n",
    "import seaborn as sns\n",
    "import os\n",
    "import matplotlib.font_manager as fm\n",
    "import koreanize_matplotlib\n",
    "\n",
    "# 폰트 경로 확인 및 설정\n",
    "font_path = '/usr/share/fonts/truetype/nanum/NanumGothic.ttf'  # 설치된 폰트 경로\n",
    "font_name = fm.FontProperties(fname=font_path).get_name()\n",
    "plt.rc('font', family=font_name)\n",
    "\n",
    "# 한글 깨짐 방지 - 마이너스 기호 처리\n",
    "plt.rcParams['axes.unicode_minus'] = False"
   ]
  },
  {
   "cell_type": "code",
   "execution_count": 2,
   "id": "895266ca",
   "metadata": {},
   "outputs": [
    {
     "data": {
      "text/html": [
       "<div>\n",
       "<style scoped>\n",
       "    .dataframe tbody tr th:only-of-type {\n",
       "        vertical-align: middle;\n",
       "    }\n",
       "\n",
       "    .dataframe tbody tr th {\n",
       "        vertical-align: top;\n",
       "    }\n",
       "\n",
       "    .dataframe thead th {\n",
       "        text-align: right;\n",
       "    }\n",
       "</style>\n",
       "<table border=\"1\" class=\"dataframe\">\n",
       "  <thead>\n",
       "    <tr style=\"text-align: right;\">\n",
       "      <th></th>\n",
       "      <th>id</th>\n",
       "      <th>productId</th>\n",
       "      <th>phone_type</th>\n",
       "      <th>created_at</th>\n",
       "      <th>user_id</th>\n",
       "    </tr>\n",
       "  </thead>\n",
       "  <tbody>\n",
       "    <tr>\n",
       "      <th>0</th>\n",
       "      <td>6</td>\n",
       "      <td>heart.777</td>\n",
       "      <td>A</td>\n",
       "      <td>2023-05-13 21:28:34</td>\n",
       "      <td>1211127</td>\n",
       "    </tr>\n",
       "    <tr>\n",
       "      <th>1</th>\n",
       "      <td>7</td>\n",
       "      <td>heart.777</td>\n",
       "      <td>A</td>\n",
       "      <td>2023-05-13 21:29:39</td>\n",
       "      <td>1151343</td>\n",
       "    </tr>\n",
       "    <tr>\n",
       "      <th>2</th>\n",
       "      <td>8</td>\n",
       "      <td>heart.777</td>\n",
       "      <td>A</td>\n",
       "      <td>2023-05-13 21:31:33</td>\n",
       "      <td>1002147</td>\n",
       "    </tr>\n",
       "    <tr>\n",
       "      <th>3</th>\n",
       "      <td>9</td>\n",
       "      <td>heart.777</td>\n",
       "      <td>A</td>\n",
       "      <td>2023-05-13 21:31:39</td>\n",
       "      <td>1095040</td>\n",
       "    </tr>\n",
       "    <tr>\n",
       "      <th>4</th>\n",
       "      <td>11</td>\n",
       "      <td>heart.777</td>\n",
       "      <td>A</td>\n",
       "      <td>2023-05-13 21:34:32</td>\n",
       "      <td>1164081</td>\n",
       "    </tr>\n",
       "    <tr>\n",
       "      <th>...</th>\n",
       "      <td>...</td>\n",
       "      <td>...</td>\n",
       "      <td>...</td>\n",
       "      <td>...</td>\n",
       "      <td>...</td>\n",
       "    </tr>\n",
       "    <tr>\n",
       "      <th>95135</th>\n",
       "      <td>98074</td>\n",
       "      <td>heart.777</td>\n",
       "      <td>I</td>\n",
       "      <td>2024-05-06 14:51:27</td>\n",
       "      <td>1086654</td>\n",
       "    </tr>\n",
       "    <tr>\n",
       "      <th>95136</th>\n",
       "      <td>98075</td>\n",
       "      <td>heart.1000</td>\n",
       "      <td>I</td>\n",
       "      <td>2024-05-06 16:06:30</td>\n",
       "      <td>871740</td>\n",
       "    </tr>\n",
       "    <tr>\n",
       "      <th>95137</th>\n",
       "      <td>98076</td>\n",
       "      <td>heart.1000</td>\n",
       "      <td>I</td>\n",
       "      <td>2024-05-08 06:57:23</td>\n",
       "      <td>1166361</td>\n",
       "    </tr>\n",
       "    <tr>\n",
       "      <th>95138</th>\n",
       "      <td>98077</td>\n",
       "      <td>heart.1000</td>\n",
       "      <td>I</td>\n",
       "      <td>2024-05-08 14:12:45</td>\n",
       "      <td>1163480</td>\n",
       "    </tr>\n",
       "    <tr>\n",
       "      <th>95139</th>\n",
       "      <td>98078</td>\n",
       "      <td>heart.1000</td>\n",
       "      <td>I</td>\n",
       "      <td>2024-05-08 14:12:45</td>\n",
       "      <td>1163480</td>\n",
       "    </tr>\n",
       "  </tbody>\n",
       "</table>\n",
       "<p>95140 rows × 5 columns</p>\n",
       "</div>"
      ],
      "text/plain": [
       "          id   productId phone_type          created_at  user_id\n",
       "0          6   heart.777          A 2023-05-13 21:28:34  1211127\n",
       "1          7   heart.777          A 2023-05-13 21:29:39  1151343\n",
       "2          8   heart.777          A 2023-05-13 21:31:33  1002147\n",
       "3          9   heart.777          A 2023-05-13 21:31:39  1095040\n",
       "4         11   heart.777          A 2023-05-13 21:34:32  1164081\n",
       "...      ...         ...        ...                 ...      ...\n",
       "95135  98074   heart.777          I 2024-05-06 14:51:27  1086654\n",
       "95136  98075  heart.1000          I 2024-05-06 16:06:30   871740\n",
       "95137  98076  heart.1000          I 2024-05-08 06:57:23  1166361\n",
       "95138  98077  heart.1000          I 2024-05-08 14:12:45  1163480\n",
       "95139  98078  heart.1000          I 2024-05-08 14:12:45  1163480\n",
       "\n",
       "[95140 rows x 5 columns]"
      ]
     },
     "execution_count": 2,
     "metadata": {},
     "output_type": "execute_result"
    }
   ],
   "source": [
    "# 서비스 계정 키 경로 설정\n",
    "os.environ[\"GOOGLE_APPLICATION_CREDENTIALS\"] = r\"/home/eunyu/sprintda05-eunyu-a9946f7dea9c.json\"\n",
    "\n",
    "# GCS의 Parquet 파일 경로\n",
    "gcs_path = 'gs://final_project_enuyu/data/final_project/votes/accounts_paymenthistory.parquet'\n",
    "\n",
    "# 데이터 불러오기\n",
    "paymenthistory_df = pd.read_parquet(gcs_path, engine='pyarrow')\n",
    "paymenthistory_df"
   ]
  },
  {
   "cell_type": "code",
   "execution_count": 3,
   "id": "047d4b84",
   "metadata": {},
   "outputs": [
    {
     "name": "stdout",
     "output_type": "stream",
     "text": [
      "<class 'pandas.core.frame.DataFrame'>\n",
      "RangeIndex: 95140 entries, 0 to 95139\n",
      "Data columns (total 5 columns):\n",
      " #   Column      Non-Null Count  Dtype         \n",
      "---  ------      --------------  -----         \n",
      " 0   id          95140 non-null  int64         \n",
      " 1   productId   95140 non-null  object        \n",
      " 2   phone_type  95140 non-null  object        \n",
      " 3   created_at  95140 non-null  datetime64[ns]\n",
      " 4   user_id     95140 non-null  int64         \n",
      "dtypes: datetime64[ns](1), int64(2), object(2)\n",
      "memory usage: 3.6+ MB\n"
     ]
    }
   ],
   "source": [
    "paymenthistory_df.info()"
   ]
  },
  {
   "cell_type": "code",
   "execution_count": null,
   "id": "dc0642b5",
   "metadata": {},
   "outputs": [
    {
     "data": {
      "text/plain": [
       "id            0\n",
       "productId     0\n",
       "phone_type    0\n",
       "created_at    0\n",
       "user_id       0\n",
       "dtype: int64"
      ]
     },
     "execution_count": 4,
     "metadata": {},
     "output_type": "execute_result"
    }
   ],
   "source": [
    "paymenthistory_df.isnull().sum()"
   ]
  },
  {
   "cell_type": "code",
   "execution_count": 5,
   "id": "26390c2f",
   "metadata": {},
   "outputs": [
    {
     "data": {
      "text/html": [
       "<div>\n",
       "<style scoped>\n",
       "    .dataframe tbody tr th:only-of-type {\n",
       "        vertical-align: middle;\n",
       "    }\n",
       "\n",
       "    .dataframe tbody tr th {\n",
       "        vertical-align: top;\n",
       "    }\n",
       "\n",
       "    .dataframe thead th {\n",
       "        text-align: right;\n",
       "    }\n",
       "</style>\n",
       "<table border=\"1\" class=\"dataframe\">\n",
       "  <thead>\n",
       "    <tr style=\"text-align: right;\">\n",
       "      <th></th>\n",
       "      <th>id</th>\n",
       "      <th>productId</th>\n",
       "      <th>phone_type</th>\n",
       "      <th>created_at</th>\n",
       "      <th>user_id</th>\n",
       "    </tr>\n",
       "  </thead>\n",
       "  <tbody>\n",
       "    <tr>\n",
       "      <th>count</th>\n",
       "      <td>95140.000000</td>\n",
       "      <td>95140</td>\n",
       "      <td>95140</td>\n",
       "      <td>95140</td>\n",
       "      <td>9.514000e+04</td>\n",
       "    </tr>\n",
       "    <tr>\n",
       "      <th>unique</th>\n",
       "      <td>NaN</td>\n",
       "      <td>4</td>\n",
       "      <td>2</td>\n",
       "      <td>NaN</td>\n",
       "      <td>NaN</td>\n",
       "    </tr>\n",
       "    <tr>\n",
       "      <th>top</th>\n",
       "      <td>NaN</td>\n",
       "      <td>heart.777</td>\n",
       "      <td>I</td>\n",
       "      <td>NaN</td>\n",
       "      <td>NaN</td>\n",
       "    </tr>\n",
       "    <tr>\n",
       "      <th>freq</th>\n",
       "      <td>NaN</td>\n",
       "      <td>57873</td>\n",
       "      <td>61632</td>\n",
       "      <td>NaN</td>\n",
       "      <td>NaN</td>\n",
       "    </tr>\n",
       "    <tr>\n",
       "      <th>mean</th>\n",
       "      <td>49136.797572</td>\n",
       "      <td>NaN</td>\n",
       "      <td>NaN</td>\n",
       "      <td>2023-05-27 21:47:32.003741952</td>\n",
       "      <td>1.256912e+06</td>\n",
       "    </tr>\n",
       "    <tr>\n",
       "      <th>min</th>\n",
       "      <td>6.000000</td>\n",
       "      <td>NaN</td>\n",
       "      <td>NaN</td>\n",
       "      <td>2023-05-13 21:28:34</td>\n",
       "      <td>8.330410e+05</td>\n",
       "    </tr>\n",
       "    <tr>\n",
       "      <th>25%</th>\n",
       "      <td>24531.750000</td>\n",
       "      <td>NaN</td>\n",
       "      <td>NaN</td>\n",
       "      <td>2023-05-16 11:48:44.750000128</td>\n",
       "      <td>1.116654e+06</td>\n",
       "    </tr>\n",
       "    <tr>\n",
       "      <th>50%</th>\n",
       "      <td>49176.500000</td>\n",
       "      <td>NaN</td>\n",
       "      <td>NaN</td>\n",
       "      <td>2023-05-21 12:40:45.500000</td>\n",
       "      <td>1.270988e+06</td>\n",
       "    </tr>\n",
       "    <tr>\n",
       "      <th>75%</th>\n",
       "      <td>73740.250000</td>\n",
       "      <td>NaN</td>\n",
       "      <td>NaN</td>\n",
       "      <td>2023-05-27 13:02:52.249999872</td>\n",
       "      <td>1.417660e+06</td>\n",
       "    </tr>\n",
       "    <tr>\n",
       "      <th>max</th>\n",
       "      <td>98078.000000</td>\n",
       "      <td>NaN</td>\n",
       "      <td>NaN</td>\n",
       "      <td>2024-05-08 14:12:45</td>\n",
       "      <td>1.583632e+06</td>\n",
       "    </tr>\n",
       "    <tr>\n",
       "      <th>std</th>\n",
       "      <td>28366.854064</td>\n",
       "      <td>NaN</td>\n",
       "      <td>NaN</td>\n",
       "      <td>NaN</td>\n",
       "      <td>1.911243e+05</td>\n",
       "    </tr>\n",
       "  </tbody>\n",
       "</table>\n",
       "</div>"
      ],
      "text/plain": [
       "                  id  productId phone_type                     created_at  \\\n",
       "count   95140.000000      95140      95140                          95140   \n",
       "unique           NaN          4          2                            NaN   \n",
       "top              NaN  heart.777          I                            NaN   \n",
       "freq             NaN      57873      61632                            NaN   \n",
       "mean    49136.797572        NaN        NaN  2023-05-27 21:47:32.003741952   \n",
       "min         6.000000        NaN        NaN            2023-05-13 21:28:34   \n",
       "25%     24531.750000        NaN        NaN  2023-05-16 11:48:44.750000128   \n",
       "50%     49176.500000        NaN        NaN     2023-05-21 12:40:45.500000   \n",
       "75%     73740.250000        NaN        NaN  2023-05-27 13:02:52.249999872   \n",
       "max     98078.000000        NaN        NaN            2024-05-08 14:12:45   \n",
       "std     28366.854064        NaN        NaN                            NaN   \n",
       "\n",
       "             user_id  \n",
       "count   9.514000e+04  \n",
       "unique           NaN  \n",
       "top              NaN  \n",
       "freq             NaN  \n",
       "mean    1.256912e+06  \n",
       "min     8.330410e+05  \n",
       "25%     1.116654e+06  \n",
       "50%     1.270988e+06  \n",
       "75%     1.417660e+06  \n",
       "max     1.583632e+06  \n",
       "std     1.911243e+05  "
      ]
     },
     "execution_count": 5,
     "metadata": {},
     "output_type": "execute_result"
    }
   ],
   "source": [
    "paymenthistory_df.describe(include='all')"
   ]
  },
  {
   "cell_type": "code",
   "execution_count": null,
   "id": "1be40838",
   "metadata": {},
   "outputs": [],
   "source": []
  },
  {
   "cell_type": "markdown",
   "id": "adb89f35",
   "metadata": {},
   "source": [
    "#### 상품별/폰타입별 실패율 비교"
   ]
  },
  {
   "cell_type": "code",
   "execution_count": 9,
   "id": "35eb9fc8",
   "metadata": {},
   "outputs": [
    {
     "data": {
      "text/plain": [
       "productId\n",
       "heart.777     57873\n",
       "heart.1000    19309\n",
       "heart.200     15822\n",
       "heart.4000     2136\n",
       "Name: count, dtype: int64"
      ]
     },
     "execution_count": 9,
     "metadata": {},
     "output_type": "execute_result"
    }
   ],
   "source": [
    "paymenthistory_df['productId'].value_counts()\n"
   ]
  },
  {
   "cell_type": "code",
   "execution_count": 10,
   "id": "83f3811d",
   "metadata": {},
   "outputs": [
    {
     "data": {
      "text/plain": [
       "phone_type\n",
       "I    61632\n",
       "A    33508\n",
       "Name: count, dtype: int64"
      ]
     },
     "execution_count": 10,
     "metadata": {},
     "output_type": "execute_result"
    }
   ],
   "source": [
    "paymenthistory_df['phone_type'].value_counts()"
   ]
  },
  {
   "cell_type": "code",
   "execution_count": 8,
   "id": "ba27bce7",
   "metadata": {},
   "outputs": [
    {
     "name": "stdout",
     "output_type": "stream",
     "text": [
      "폰 타입별 고유 유저 수:\n",
      "phone_type\n",
      "A    21945\n",
      "I    37303\n",
      "Name: user_id, dtype: int64\n",
      "\n",
      "폰 타입별 유저 비율 (%):\n",
      "phone_type\n",
      "A    37.04\n",
      "I    62.96\n",
      "Name: user_id, dtype: float64\n"
     ]
    }
   ],
   "source": [
    "# 고유 유저 수 (중복 제거)\n",
    "unique_users_by_phone = paymenthistory_df.groupby('phone_type')['user_id'].nunique()\n",
    "\n",
    "# 비율 계산\n",
    "user_ratio_by_phone = (unique_users_by_phone / unique_users_by_phone.sum()) * 100\n",
    "\n",
    "# 출력\n",
    "print(\"폰 타입별 고유 유저 수:\")\n",
    "print(unique_users_by_phone)\n",
    "\n",
    "print(\"\\n폰 타입별 유저 비율 (%):\")\n",
    "print(user_ratio_by_phone.round(2))"
   ]
  },
  {
   "cell_type": "code",
   "execution_count": 7,
   "id": "7e846ac0",
   "metadata": {},
   "outputs": [
    {
     "data": {
      "text/plain": [
       "count\n",
       "1     43049\n",
       "2      8582\n",
       "3      3423\n",
       "4      1664\n",
       "5       920\n",
       "6       512\n",
       "7       302\n",
       "8       211\n",
       "9       146\n",
       "10      100\n",
       "11       55\n",
       "12       67\n",
       "13       30\n",
       "14       20\n",
       "15       23\n",
       "16       18\n",
       "17       13\n",
       "18       13\n",
       "19       10\n",
       "20        6\n",
       "21        7\n",
       "22        4\n",
       "23        4\n",
       "24        4\n",
       "25        2\n",
       "27        2\n",
       "30        1\n",
       "34        1\n",
       "35        1\n",
       "51        1\n",
       "60        1\n",
       "Name: count, dtype: int64"
      ]
     },
     "execution_count": 7,
     "metadata": {},
     "output_type": "execute_result"
    }
   ],
   "source": [
    "paymenthistory_df['user_id'].value_counts().value_counts().sort_index()"
   ]
  },
  {
   "cell_type": "code",
   "execution_count": 12,
   "id": "737c6a03",
   "metadata": {},
   "outputs": [
    {
     "data": {
      "text/html": [
       "<div>\n",
       "<style scoped>\n",
       "    .dataframe tbody tr th:only-of-type {\n",
       "        vertical-align: middle;\n",
       "    }\n",
       "\n",
       "    .dataframe tbody tr th {\n",
       "        vertical-align: top;\n",
       "    }\n",
       "\n",
       "    .dataframe thead th {\n",
       "        text-align: right;\n",
       "    }\n",
       "</style>\n",
       "<table border=\"1\" class=\"dataframe\">\n",
       "  <thead>\n",
       "    <tr style=\"text-align: right;\">\n",
       "      <th></th>\n",
       "      <th>user_id</th>\n",
       "      <th>productId</th>\n",
       "      <th>attempts</th>\n",
       "    </tr>\n",
       "  </thead>\n",
       "  <tbody>\n",
       "    <tr>\n",
       "      <th>0</th>\n",
       "      <td>833041</td>\n",
       "      <td>heart.4000</td>\n",
       "      <td>2</td>\n",
       "    </tr>\n",
       "    <tr>\n",
       "      <th>1</th>\n",
       "      <td>834112</td>\n",
       "      <td>heart.777</td>\n",
       "      <td>1</td>\n",
       "    </tr>\n",
       "    <tr>\n",
       "      <th>2</th>\n",
       "      <td>835815</td>\n",
       "      <td>heart.200</td>\n",
       "      <td>2</td>\n",
       "    </tr>\n",
       "    <tr>\n",
       "      <th>3</th>\n",
       "      <td>835815</td>\n",
       "      <td>heart.777</td>\n",
       "      <td>1</td>\n",
       "    </tr>\n",
       "    <tr>\n",
       "      <th>4</th>\n",
       "      <td>835839</td>\n",
       "      <td>heart.777</td>\n",
       "      <td>1</td>\n",
       "    </tr>\n",
       "    <tr>\n",
       "      <th>...</th>\n",
       "      <td>...</td>\n",
       "      <td>...</td>\n",
       "      <td>...</td>\n",
       "    </tr>\n",
       "    <tr>\n",
       "      <th>79435</th>\n",
       "      <td>1583408</td>\n",
       "      <td>heart.777</td>\n",
       "      <td>3</td>\n",
       "    </tr>\n",
       "    <tr>\n",
       "      <th>79436</th>\n",
       "      <td>1583445</td>\n",
       "      <td>heart.200</td>\n",
       "      <td>1</td>\n",
       "    </tr>\n",
       "    <tr>\n",
       "      <th>79437</th>\n",
       "      <td>1583450</td>\n",
       "      <td>heart.777</td>\n",
       "      <td>1</td>\n",
       "    </tr>\n",
       "    <tr>\n",
       "      <th>79438</th>\n",
       "      <td>1583454</td>\n",
       "      <td>heart.777</td>\n",
       "      <td>2</td>\n",
       "    </tr>\n",
       "    <tr>\n",
       "      <th>79439</th>\n",
       "      <td>1583632</td>\n",
       "      <td>heart.777</td>\n",
       "      <td>1</td>\n",
       "    </tr>\n",
       "  </tbody>\n",
       "</table>\n",
       "<p>79440 rows × 3 columns</p>\n",
       "</div>"
      ],
      "text/plain": [
       "       user_id   productId  attempts\n",
       "0       833041  heart.4000         2\n",
       "1       834112   heart.777         1\n",
       "2       835815   heart.200         2\n",
       "3       835815   heart.777         1\n",
       "4       835839   heart.777         1\n",
       "...        ...         ...       ...\n",
       "79435  1583408   heart.777         3\n",
       "79436  1583445   heart.200         1\n",
       "79437  1583450   heart.777         1\n",
       "79438  1583454   heart.777         2\n",
       "79439  1583632   heart.777         1\n",
       "\n",
       "[79440 rows x 3 columns]"
      ]
     },
     "execution_count": 12,
     "metadata": {},
     "output_type": "execute_result"
    }
   ],
   "source": [
    "# 같은 유저가 같은 상품을 몇 번 시도했는지 count\n",
    "user_product_attempts = paymenthistory_df.groupby(['user_id', 'productId']).size().reset_index(name='attempts')\n",
    "user_product_attempts"
   ]
  },
  {
   "cell_type": "markdown",
   "id": "d93b9802",
   "metadata": {},
   "source": [
    "#### 최대 구매 시도 횟수"
   ]
  },
  {
   "cell_type": "code",
   "execution_count": 13,
   "id": "db1127e7",
   "metadata": {},
   "outputs": [
    {
     "data": {
      "text/plain": [
       "50"
      ]
     },
     "execution_count": 13,
     "metadata": {},
     "output_type": "execute_result"
    }
   ],
   "source": [
    "user_product_attempts['attempts'].max()"
   ]
  },
  {
   "cell_type": "code",
   "execution_count": 14,
   "id": "d8fda102",
   "metadata": {},
   "outputs": [
    {
     "data": {
      "text/html": [
       "<div>\n",
       "<style scoped>\n",
       "    .dataframe tbody tr th:only-of-type {\n",
       "        vertical-align: middle;\n",
       "    }\n",
       "\n",
       "    .dataframe tbody tr th {\n",
       "        vertical-align: top;\n",
       "    }\n",
       "\n",
       "    .dataframe thead th {\n",
       "        text-align: right;\n",
       "    }\n",
       "</style>\n",
       "<table border=\"1\" class=\"dataframe\">\n",
       "  <thead>\n",
       "    <tr style=\"text-align: right;\">\n",
       "      <th></th>\n",
       "      <th>user_id</th>\n",
       "      <th>productId</th>\n",
       "      <th>attempts</th>\n",
       "    </tr>\n",
       "  </thead>\n",
       "  <tbody>\n",
       "    <tr>\n",
       "      <th>74725</th>\n",
       "      <td>1527451</td>\n",
       "      <td>heart.200</td>\n",
       "      <td>50</td>\n",
       "    </tr>\n",
       "  </tbody>\n",
       "</table>\n",
       "</div>"
      ],
      "text/plain": [
       "       user_id  productId  attempts\n",
       "74725  1527451  heart.200        50"
      ]
     },
     "execution_count": 14,
     "metadata": {},
     "output_type": "execute_result"
    }
   ],
   "source": [
    "user_product_attempts.sort_values(by='attempts', ascending=False).head(1)"
   ]
  },
  {
   "cell_type": "code",
   "execution_count": null,
   "id": "b046f21f",
   "metadata": {},
   "outputs": [],
   "source": []
  },
  {
   "cell_type": "code",
   "execution_count": null,
   "id": "e1765d44",
   "metadata": {},
   "outputs": [],
   "source": []
  },
  {
   "cell_type": "code",
   "execution_count": null,
   "id": "a5a21aea",
   "metadata": {},
   "outputs": [],
   "source": []
  }
 ],
 "metadata": {
  "kernelspec": {
   "display_name": "Python 3",
   "language": "python",
   "name": "python3"
  },
  "language_info": {
   "codemirror_mode": {
    "name": "ipython",
    "version": 3
   },
   "file_extension": ".py",
   "mimetype": "text/x-python",
   "name": "python",
   "nbconvert_exporter": "python",
   "pygments_lexer": "ipython3",
   "version": "3.12.3"
  }
 },
 "nbformat": 4,
 "nbformat_minor": 5
}
