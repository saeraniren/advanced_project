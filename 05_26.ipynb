{
 "cells": [
  {
   "cell_type": "code",
   "execution_count": 1,
   "id": "67939b76",
   "metadata": {},
   "outputs": [],
   "source": [
    "# pip install pandas pyarrow"
   ]
  },
  {
   "cell_type": "code",
   "execution_count": 2,
   "id": "6fff815d",
   "metadata": {},
   "outputs": [],
   "source": [
    "import pandas as pd\n",
    "import os\n",
    "from glob import glob\n",
    "\n",
    "pd.set_option('display.max_columns',100) # pandas 내 모든 칼럼 표시\n",
    "pd.set_option('display.max_rows', None) # pandas 내 모든 행 표시\n",
    "pd.set_option('display.max_seq_items', None) # 출력 옵션 설정\n",
    "pd.set_option('display.max_colwidth', None) # pandas 최대 열 너비 늘리기기"
   ]
  },
  {
   "cell_type": "code",
   "execution_count": 3,
   "id": "8efdf755",
   "metadata": {},
   "outputs": [],
   "source": [
    "# # 분석할 폴더 경로 지정 (예: ./final_project/hackle 또는 ./final_project/votes)\n",
    "# folder_path = './data/hackle'  # 또는 './final_project/votes'\n",
    "\n",
    "# # 모든 parquet 파일 경로 수집\n",
    "# parquet_files = glob(os.path.join(folder_path, '*.parquet'))\n",
    "\n",
    "# # 파일 정보 출력\n",
    "# for file_path in parquet_files:\n",
    "#     file_name = os.path.basename(file_path)\n",
    "#     print(f\"\\n=== {file_name} ===\")\n",
    "#     try:\n",
    "#         df = pd.read_parquet(file_path)\n",
    "#         print(f\"컬럼 수: {len(df.columns)}\")\n",
    "#         print(f\"행 수: {len(df)}\")\n",
    "#         print(\"컬럼 목록:\", df.columns.tolist())\n",
    "#         print(df.head(3))  # 상위 3개 행 미리보기\n",
    "#     except Exception as e:\n",
    "#         print(f\"파일 읽기 실패: {e}\")\n"
   ]
  },
  {
   "cell_type": "markdown",
   "id": "2375c414",
   "metadata": {},
   "source": [
    "---\n",
    "---\n",
    "# 1. hackle"
   ]
  },
  {
   "cell_type": "code",
   "execution_count": 4,
   "id": "cbbbfbb2",
   "metadata": {},
   "outputs": [
    {
     "ename": "KeyboardInterrupt",
     "evalue": "",
     "output_type": "error",
     "traceback": [
      "\u001b[1;31m---------------------------------------------------------------------------\u001b[0m",
      "\u001b[1;31mKeyboardInterrupt\u001b[0m                         Traceback (most recent call last)",
      "Cell \u001b[1;32mIn[4], line 2\u001b[0m\n\u001b[0;32m      1\u001b[0m device_properties_df \u001b[38;5;241m=\u001b[39m pd\u001b[38;5;241m.\u001b[39mread_parquet(\u001b[38;5;124m'\u001b[39m\u001b[38;5;124m./data/hackle/device_properties.parquet\u001b[39m\u001b[38;5;124m'\u001b[39m)\n\u001b[1;32m----> 2\u001b[0m hackle_events_df \u001b[38;5;241m=\u001b[39m pd\u001b[38;5;241m.\u001b[39mread_parquet(\u001b[38;5;124m'\u001b[39m\u001b[38;5;124m./data/hackle/hackle_events.parquet\u001b[39m\u001b[38;5;124m'\u001b[39m)\n\u001b[0;32m      3\u001b[0m hackle_properties_df \u001b[38;5;241m=\u001b[39m pd\u001b[38;5;241m.\u001b[39mread_parquet(\u001b[38;5;124m'\u001b[39m\u001b[38;5;124m./data/hackle/hackle_properties.parquet\u001b[39m\u001b[38;5;124m'\u001b[39m)\n\u001b[0;32m      4\u001b[0m user_properties_df \u001b[38;5;241m=\u001b[39m pd\u001b[38;5;241m.\u001b[39mread_parquet(\u001b[38;5;124m'\u001b[39m\u001b[38;5;124m./data/hackle/user_properties.parquet\u001b[39m\u001b[38;5;124m'\u001b[39m)\n",
      "File \u001b[1;32mc:\\Users\\user\\anaconda3\\Lib\\site-packages\\pandas\\io\\parquet.py:667\u001b[0m, in \u001b[0;36mread_parquet\u001b[1;34m(path, engine, columns, storage_options, use_nullable_dtypes, dtype_backend, filesystem, filters, **kwargs)\u001b[0m\n\u001b[0;32m    664\u001b[0m     use_nullable_dtypes \u001b[38;5;241m=\u001b[39m \u001b[38;5;28;01mFalse\u001b[39;00m\n\u001b[0;32m    665\u001b[0m check_dtype_backend(dtype_backend)\n\u001b[1;32m--> 667\u001b[0m \u001b[38;5;28;01mreturn\u001b[39;00m impl\u001b[38;5;241m.\u001b[39mread(\n\u001b[0;32m    668\u001b[0m     path,\n\u001b[0;32m    669\u001b[0m     columns\u001b[38;5;241m=\u001b[39mcolumns,\n\u001b[0;32m    670\u001b[0m     filters\u001b[38;5;241m=\u001b[39mfilters,\n\u001b[0;32m    671\u001b[0m     storage_options\u001b[38;5;241m=\u001b[39mstorage_options,\n\u001b[0;32m    672\u001b[0m     use_nullable_dtypes\u001b[38;5;241m=\u001b[39muse_nullable_dtypes,\n\u001b[0;32m    673\u001b[0m     dtype_backend\u001b[38;5;241m=\u001b[39mdtype_backend,\n\u001b[0;32m    674\u001b[0m     filesystem\u001b[38;5;241m=\u001b[39mfilesystem,\n\u001b[0;32m    675\u001b[0m     \u001b[38;5;241m*\u001b[39m\u001b[38;5;241m*\u001b[39mkwargs,\n\u001b[0;32m    676\u001b[0m )\n",
      "File \u001b[1;32mc:\\Users\\user\\anaconda3\\Lib\\site-packages\\pandas\\io\\parquet.py:274\u001b[0m, in \u001b[0;36mPyArrowImpl.read\u001b[1;34m(self, path, columns, filters, use_nullable_dtypes, dtype_backend, storage_options, filesystem, **kwargs)\u001b[0m\n\u001b[0;32m    267\u001b[0m path_or_handle, handles, filesystem \u001b[38;5;241m=\u001b[39m _get_path_or_handle(\n\u001b[0;32m    268\u001b[0m     path,\n\u001b[0;32m    269\u001b[0m     filesystem,\n\u001b[0;32m    270\u001b[0m     storage_options\u001b[38;5;241m=\u001b[39mstorage_options,\n\u001b[0;32m    271\u001b[0m     mode\u001b[38;5;241m=\u001b[39m\u001b[38;5;124m\"\u001b[39m\u001b[38;5;124mrb\u001b[39m\u001b[38;5;124m\"\u001b[39m,\n\u001b[0;32m    272\u001b[0m )\n\u001b[0;32m    273\u001b[0m \u001b[38;5;28;01mtry\u001b[39;00m:\n\u001b[1;32m--> 274\u001b[0m     pa_table \u001b[38;5;241m=\u001b[39m \u001b[38;5;28mself\u001b[39m\u001b[38;5;241m.\u001b[39mapi\u001b[38;5;241m.\u001b[39mparquet\u001b[38;5;241m.\u001b[39mread_table(\n\u001b[0;32m    275\u001b[0m         path_or_handle,\n\u001b[0;32m    276\u001b[0m         columns\u001b[38;5;241m=\u001b[39mcolumns,\n\u001b[0;32m    277\u001b[0m         filesystem\u001b[38;5;241m=\u001b[39mfilesystem,\n\u001b[0;32m    278\u001b[0m         filters\u001b[38;5;241m=\u001b[39mfilters,\n\u001b[0;32m    279\u001b[0m         \u001b[38;5;241m*\u001b[39m\u001b[38;5;241m*\u001b[39mkwargs,\n\u001b[0;32m    280\u001b[0m     )\n\u001b[0;32m    281\u001b[0m     result \u001b[38;5;241m=\u001b[39m pa_table\u001b[38;5;241m.\u001b[39mto_pandas(\u001b[38;5;241m*\u001b[39m\u001b[38;5;241m*\u001b[39mto_pandas_kwargs)\n\u001b[0;32m    283\u001b[0m     \u001b[38;5;28;01mif\u001b[39;00m manager \u001b[38;5;241m==\u001b[39m \u001b[38;5;124m\"\u001b[39m\u001b[38;5;124marray\u001b[39m\u001b[38;5;124m\"\u001b[39m:\n",
      "File \u001b[1;32mc:\\Users\\user\\anaconda3\\Lib\\site-packages\\pyarrow\\parquet\\core.py:1811\u001b[0m, in \u001b[0;36mread_table\u001b[1;34m(source, columns, use_threads, schema, use_pandas_metadata, read_dictionary, memory_map, buffer_size, partitioning, filesystem, filters, use_legacy_dataset, ignore_prefixes, pre_buffer, coerce_int96_timestamp_unit, decryption_properties, thrift_string_size_limit, thrift_container_size_limit, page_checksum_verification)\u001b[0m\n\u001b[0;32m   1799\u001b[0m     \u001b[38;5;66;03m# TODO test that source is not a directory or a list\u001b[39;00m\n\u001b[0;32m   1800\u001b[0m     dataset \u001b[38;5;241m=\u001b[39m ParquetFile(\n\u001b[0;32m   1801\u001b[0m         source, read_dictionary\u001b[38;5;241m=\u001b[39mread_dictionary,\n\u001b[0;32m   1802\u001b[0m         memory_map\u001b[38;5;241m=\u001b[39mmemory_map, buffer_size\u001b[38;5;241m=\u001b[39mbuffer_size,\n\u001b[1;32m   (...)\u001b[0m\n\u001b[0;32m   1808\u001b[0m         page_checksum_verification\u001b[38;5;241m=\u001b[39mpage_checksum_verification,\n\u001b[0;32m   1809\u001b[0m     )\n\u001b[1;32m-> 1811\u001b[0m \u001b[38;5;28;01mreturn\u001b[39;00m dataset\u001b[38;5;241m.\u001b[39mread(columns\u001b[38;5;241m=\u001b[39mcolumns, use_threads\u001b[38;5;241m=\u001b[39muse_threads,\n\u001b[0;32m   1812\u001b[0m                     use_pandas_metadata\u001b[38;5;241m=\u001b[39muse_pandas_metadata)\n",
      "File \u001b[1;32mc:\\Users\\user\\anaconda3\\Lib\\site-packages\\pyarrow\\parquet\\core.py:1454\u001b[0m, in \u001b[0;36mParquetDataset.read\u001b[1;34m(self, columns, use_threads, use_pandas_metadata)\u001b[0m\n\u001b[0;32m   1446\u001b[0m         index_columns \u001b[38;5;241m=\u001b[39m [\n\u001b[0;32m   1447\u001b[0m             col \u001b[38;5;28;01mfor\u001b[39;00m col \u001b[38;5;129;01min\u001b[39;00m _get_pandas_index_columns(metadata)\n\u001b[0;32m   1448\u001b[0m             \u001b[38;5;28;01mif\u001b[39;00m \u001b[38;5;129;01mnot\u001b[39;00m \u001b[38;5;28misinstance\u001b[39m(col, \u001b[38;5;28mdict\u001b[39m)\n\u001b[0;32m   1449\u001b[0m         ]\n\u001b[0;32m   1450\u001b[0m         columns \u001b[38;5;241m=\u001b[39m (\n\u001b[0;32m   1451\u001b[0m             \u001b[38;5;28mlist\u001b[39m(columns) \u001b[38;5;241m+\u001b[39m \u001b[38;5;28mlist\u001b[39m(\u001b[38;5;28mset\u001b[39m(index_columns) \u001b[38;5;241m-\u001b[39m \u001b[38;5;28mset\u001b[39m(columns))\n\u001b[0;32m   1452\u001b[0m         )\n\u001b[1;32m-> 1454\u001b[0m table \u001b[38;5;241m=\u001b[39m \u001b[38;5;28mself\u001b[39m\u001b[38;5;241m.\u001b[39m_dataset\u001b[38;5;241m.\u001b[39mto_table(\n\u001b[0;32m   1455\u001b[0m     columns\u001b[38;5;241m=\u001b[39mcolumns, \u001b[38;5;28mfilter\u001b[39m\u001b[38;5;241m=\u001b[39m\u001b[38;5;28mself\u001b[39m\u001b[38;5;241m.\u001b[39m_filter_expression,\n\u001b[0;32m   1456\u001b[0m     use_threads\u001b[38;5;241m=\u001b[39muse_threads\n\u001b[0;32m   1457\u001b[0m )\n\u001b[0;32m   1459\u001b[0m \u001b[38;5;66;03m# if use_pandas_metadata, restore the pandas metadata (which gets\u001b[39;00m\n\u001b[0;32m   1460\u001b[0m \u001b[38;5;66;03m# lost if doing a specific `columns` selection in to_table)\u001b[39;00m\n\u001b[0;32m   1461\u001b[0m \u001b[38;5;28;01mif\u001b[39;00m use_pandas_metadata:\n",
      "\u001b[1;31mKeyboardInterrupt\u001b[0m: "
     ]
    }
   ],
   "source": [
    "device_properties_df = pd.read_parquet('./data/hackle/device_properties.parquet')\n",
    "hackle_events_df = pd.read_parquet('./data/hackle/hackle_events.parquet')\n",
    "hackle_properties_df = pd.read_parquet('./data/hackle/hackle_properties.parquet')\n",
    "user_properties_df = pd.read_parquet('./data/hackle/user_properties.parquet')"
   ]
  },
  {
   "cell_type": "markdown",
   "id": "2f787d50",
   "metadata": {},
   "source": [
    "---\n",
    "---\n",
    "## 1.1 device_properties"
   ]
  },
  {
   "cell_type": "code",
   "execution_count": null,
   "id": "ddbf7eb6",
   "metadata": {},
   "outputs": [
    {
     "data": {
      "text/html": [
       "<div>\n",
       "<style scoped>\n",
       "    .dataframe tbody tr th:only-of-type {\n",
       "        vertical-align: middle;\n",
       "    }\n",
       "\n",
       "    .dataframe tbody tr th {\n",
       "        vertical-align: top;\n",
       "    }\n",
       "\n",
       "    .dataframe thead th {\n",
       "        text-align: right;\n",
       "    }\n",
       "</style>\n",
       "<table border=\"1\" class=\"dataframe\">\n",
       "  <thead>\n",
       "    <tr style=\"text-align: right;\">\n",
       "      <th></th>\n",
       "      <th>id</th>\n",
       "      <th>device_id</th>\n",
       "      <th>device_model</th>\n",
       "      <th>device_vendor</th>\n",
       "    </tr>\n",
       "  </thead>\n",
       "  <tbody>\n",
       "    <tr>\n",
       "      <th>0</th>\n",
       "      <td>1</td>\n",
       "      <td>000007C9-E103-4EB5-9777-A9084D4952DF</td>\n",
       "      <td>iPhone14,7</td>\n",
       "      <td>Apple</td>\n",
       "    </tr>\n",
       "    <tr>\n",
       "      <th>1</th>\n",
       "      <td>2</td>\n",
       "      <td>00002245-458F-4CDD-8533-B448CD43DBD2</td>\n",
       "      <td>iPhone14,7</td>\n",
       "      <td>Apple</td>\n",
       "    </tr>\n",
       "    <tr>\n",
       "      <th>2</th>\n",
       "      <td>3</td>\n",
       "      <td>00012620-313A-4502-9F8D-8DAB7443215B</td>\n",
       "      <td>iPhone14,5</td>\n",
       "      <td>Apple</td>\n",
       "    </tr>\n",
       "    <tr>\n",
       "      <th>3</th>\n",
       "      <td>4</td>\n",
       "      <td>000137bc-80de-4bb5-b61d-df7f217a4501</td>\n",
       "      <td>SM-F711N</td>\n",
       "      <td>samsung</td>\n",
       "    </tr>\n",
       "    <tr>\n",
       "      <th>4</th>\n",
       "      <td>5</td>\n",
       "      <td>000227D6-B782-4367-91C4-486B76DF9E37</td>\n",
       "      <td>iPhone12,3</td>\n",
       "      <td>Apple</td>\n",
       "    </tr>\n",
       "  </tbody>\n",
       "</table>\n",
       "</div>"
      ],
      "text/plain": [
       "   id                             device_id device_model device_vendor\n",
       "0   1  000007C9-E103-4EB5-9777-A9084D4952DF   iPhone14,7         Apple\n",
       "1   2  00002245-458F-4CDD-8533-B448CD43DBD2   iPhone14,7         Apple\n",
       "2   3  00012620-313A-4502-9F8D-8DAB7443215B   iPhone14,5         Apple\n",
       "3   4  000137bc-80de-4bb5-b61d-df7f217a4501     SM-F711N       samsung\n",
       "4   5  000227D6-B782-4367-91C4-486B76DF9E37   iPhone12,3         Apple"
      ]
     },
     "execution_count": 6,
     "metadata": {},
     "output_type": "execute_result"
    }
   ],
   "source": [
    "device_properties_df.head() # 252,380 행, 4 열"
   ]
  },
  {
   "cell_type": "code",
   "execution_count": null,
   "id": "a7377652",
   "metadata": {},
   "outputs": [
    {
     "name": "stdout",
     "output_type": "stream",
     "text": [
      "<class 'pandas.core.frame.DataFrame'>\n",
      "RangeIndex: 252380 entries, 0 to 252379\n",
      "Data columns (total 4 columns):\n",
      " #   Column         Non-Null Count   Dtype \n",
      "---  ------         --------------   ----- \n",
      " 0   id             252380 non-null  int64 \n",
      " 1   device_id      252380 non-null  object\n",
      " 2   device_model   252380 non-null  object\n",
      " 3   device_vendor  252380 non-null  object\n",
      "dtypes: int64(1), object(3)\n",
      "memory usage: 7.7+ MB\n"
     ]
    }
   ],
   "source": [
    "device_properties_df.info()"
   ]
  },
  {
   "cell_type": "code",
   "execution_count": null,
   "id": "6dc8f28b",
   "metadata": {},
   "outputs": [
    {
     "data": {
      "text/plain": [
       "device_vendor\n",
       "Apple      174444\n",
       "samsung     75887\n",
       "LGE          1578\n",
       "Xiaomi        284\n",
       "OnePlus        49\n",
       "Name: count, dtype: int64"
      ]
     },
     "execution_count": 8,
     "metadata": {},
     "output_type": "execute_result"
    }
   ],
   "source": [
    "device_properties_df['device_vendor'].value_counts().head()"
   ]
  },
  {
   "cell_type": "code",
   "execution_count": null,
   "id": "1e2da04c",
   "metadata": {},
   "outputs": [
    {
     "data": {
      "text/plain": [
       "device_model\n",
       "iPhone14,5    27656\n",
       "iPhone13,1    18276\n",
       "iPhone14,7    17891\n",
       "iPhone14,4    16746\n",
       "iPhone15,2    14097\n",
       "Name: count, dtype: int64"
      ]
     },
     "execution_count": 9,
     "metadata": {},
     "output_type": "execute_result"
    }
   ],
   "source": [
    "device_properties_df['device_model'].value_counts().head()"
   ]
  },
  {
   "cell_type": "code",
   "execution_count": null,
   "id": "e685b50d",
   "metadata": {},
   "outputs": [],
   "source": [
    "%xdel device_properties_df"
   ]
  },
  {
   "cell_type": "markdown",
   "id": "158ac2a9",
   "metadata": {},
   "source": [
    "---\n",
    "---\n",
    "## 1.2 hackle_events"
   ]
  },
  {
   "cell_type": "code",
   "execution_count": null,
   "id": "0731aabf",
   "metadata": {},
   "outputs": [
    {
     "data": {
      "text/html": [
       "<div>\n",
       "<style scoped>\n",
       "    .dataframe tbody tr th:only-of-type {\n",
       "        vertical-align: middle;\n",
       "    }\n",
       "\n",
       "    .dataframe tbody tr th {\n",
       "        vertical-align: top;\n",
       "    }\n",
       "\n",
       "    .dataframe thead th {\n",
       "        text-align: right;\n",
       "    }\n",
       "</style>\n",
       "<table border=\"1\" class=\"dataframe\">\n",
       "  <thead>\n",
       "    <tr style=\"text-align: right;\">\n",
       "      <th></th>\n",
       "      <th>event_id</th>\n",
       "      <th>event_datetime</th>\n",
       "      <th>event_key</th>\n",
       "      <th>session_id</th>\n",
       "      <th>id</th>\n",
       "      <th>item_name</th>\n",
       "      <th>page_name</th>\n",
       "      <th>friend_count</th>\n",
       "      <th>votes_count</th>\n",
       "      <th>heart_balance</th>\n",
       "      <th>question_id</th>\n",
       "    </tr>\n",
       "  </thead>\n",
       "  <tbody>\n",
       "    <tr>\n",
       "      <th>0</th>\n",
       "      <td>00000533-3f1c-4b3b-81f1-0c8f35754b4e</td>\n",
       "      <td>2023-07-18 19:40:17</td>\n",
       "      <td>$session_start</td>\n",
       "      <td>4OzYh3seq3VKytpSn5pvQkZNQii1</td>\n",
       "      <td>00000533-3f1c-4b3b-81f1-0c8f35754b4e</td>\n",
       "      <td></td>\n",
       "      <td></td>\n",
       "      <td>NaN</td>\n",
       "      <td>NaN</td>\n",
       "      <td>NaN</td>\n",
       "      <td>NaN</td>\n",
       "    </tr>\n",
       "    <tr>\n",
       "      <th>1</th>\n",
       "      <td>00000716-27e9-4e72-a602-d0ce61784b06</td>\n",
       "      <td>2023-07-18 21:07:24</td>\n",
       "      <td>click_question_open</td>\n",
       "      <td>8QXy31PQxbW9qLzq0Y1dhR8Ypm52</td>\n",
       "      <td>00000716-27e9-4e72-a602-d0ce61784b06</td>\n",
       "      <td></td>\n",
       "      <td></td>\n",
       "      <td>64.0</td>\n",
       "      <td>436.0</td>\n",
       "      <td>4830.0</td>\n",
       "      <td>NaN</td>\n",
       "    </tr>\n",
       "    <tr>\n",
       "      <th>2</th>\n",
       "      <td>000007c8-68ce-40e6-9b1e-f0e34e8ff9cc</td>\n",
       "      <td>2023-08-06 20:18:03</td>\n",
       "      <td>click_bottom_navigation_profile</td>\n",
       "      <td>6bcea65d-9f40-46fc-888c-700fe707483f</td>\n",
       "      <td>000007c8-68ce-40e6-9b1e-f0e34e8ff9cc</td>\n",
       "      <td></td>\n",
       "      <td></td>\n",
       "      <td>26.0</td>\n",
       "      <td>174.0</td>\n",
       "      <td>4729.0</td>\n",
       "      <td>NaN</td>\n",
       "    </tr>\n",
       "    <tr>\n",
       "      <th>3</th>\n",
       "      <td>00000981-5e2a-4111-993e-4f1891ad9a53</td>\n",
       "      <td>2023-08-05 01:46:10</td>\n",
       "      <td>view_shop</td>\n",
       "      <td>XVYNT6zfhFWqIg9omwg2AHDjTLx2</td>\n",
       "      <td>00000981-5e2a-4111-993e-4f1891ad9a53</td>\n",
       "      <td></td>\n",
       "      <td></td>\n",
       "      <td>61.0</td>\n",
       "      <td>44.0</td>\n",
       "      <td>142.0</td>\n",
       "      <td>NaN</td>\n",
       "    </tr>\n",
       "    <tr>\n",
       "      <th>4</th>\n",
       "      <td>00000a7a-ba72-4332-b4a9-7910670aaeb2</td>\n",
       "      <td>2023-07-24 15:03:37</td>\n",
       "      <td>click_bottom_navigation_lab</td>\n",
       "      <td>XFB2SPiGfjbVhvJ3Q3DBsaT3m2B3</td>\n",
       "      <td>00000a7a-ba72-4332-b4a9-7910670aaeb2</td>\n",
       "      <td></td>\n",
       "      <td></td>\n",
       "      <td>119.0</td>\n",
       "      <td>545.0</td>\n",
       "      <td>3287.0</td>\n",
       "      <td>NaN</td>\n",
       "    </tr>\n",
       "  </tbody>\n",
       "</table>\n",
       "</div>"
      ],
      "text/plain": [
       "                               event_id      event_datetime  \\\n",
       "0  00000533-3f1c-4b3b-81f1-0c8f35754b4e 2023-07-18 19:40:17   \n",
       "1  00000716-27e9-4e72-a602-d0ce61784b06 2023-07-18 21:07:24   \n",
       "2  000007c8-68ce-40e6-9b1e-f0e34e8ff9cc 2023-08-06 20:18:03   \n",
       "3  00000981-5e2a-4111-993e-4f1891ad9a53 2023-08-05 01:46:10   \n",
       "4  00000a7a-ba72-4332-b4a9-7910670aaeb2 2023-07-24 15:03:37   \n",
       "\n",
       "                         event_key                            session_id  \\\n",
       "0                   $session_start          4OzYh3seq3VKytpSn5pvQkZNQii1   \n",
       "1              click_question_open          8QXy31PQxbW9qLzq0Y1dhR8Ypm52   \n",
       "2  click_bottom_navigation_profile  6bcea65d-9f40-46fc-888c-700fe707483f   \n",
       "3                        view_shop          XVYNT6zfhFWqIg9omwg2AHDjTLx2   \n",
       "4      click_bottom_navigation_lab          XFB2SPiGfjbVhvJ3Q3DBsaT3m2B3   \n",
       "\n",
       "                                     id item_name page_name  friend_count  \\\n",
       "0  00000533-3f1c-4b3b-81f1-0c8f35754b4e                               NaN   \n",
       "1  00000716-27e9-4e72-a602-d0ce61784b06                              64.0   \n",
       "2  000007c8-68ce-40e6-9b1e-f0e34e8ff9cc                              26.0   \n",
       "3  00000981-5e2a-4111-993e-4f1891ad9a53                              61.0   \n",
       "4  00000a7a-ba72-4332-b4a9-7910670aaeb2                             119.0   \n",
       "\n",
       "   votes_count  heart_balance  question_id  \n",
       "0          NaN            NaN          NaN  \n",
       "1        436.0         4830.0          NaN  \n",
       "2        174.0         4729.0          NaN  \n",
       "3         44.0          142.0          NaN  \n",
       "4        545.0         3287.0          NaN  "
      ]
     },
     "execution_count": 10,
     "metadata": {},
     "output_type": "execute_result"
    }
   ],
   "source": [
    "hackle_events_df.head() # 11,441,319 행, 11 열"
   ]
  },
  {
   "cell_type": "code",
   "execution_count": null,
   "id": "063e2293",
   "metadata": {},
   "outputs": [
    {
     "name": "stdout",
     "output_type": "stream",
     "text": [
      "<class 'pandas.core.frame.DataFrame'>\n",
      "RangeIndex: 11441319 entries, 0 to 11441318\n",
      "Data columns (total 11 columns):\n",
      " #   Column          Dtype         \n",
      "---  ------          -----         \n",
      " 0   event_id        object        \n",
      " 1   event_datetime  datetime64[ms]\n",
      " 2   event_key       object        \n",
      " 3   session_id      object        \n",
      " 4   id              object        \n",
      " 5   item_name       object        \n",
      " 6   page_name       object        \n",
      " 7   friend_count    float64       \n",
      " 8   votes_count     float64       \n",
      " 9   heart_balance   float64       \n",
      " 10  question_id     float64       \n",
      "dtypes: datetime64[ms](1), float64(4), object(6)\n",
      "memory usage: 960.2+ MB\n"
     ]
    }
   ],
   "source": [
    "hackle_events_df.info()"
   ]
  },
  {
   "cell_type": "code",
   "execution_count": null,
   "id": "0a4325cc",
   "metadata": {},
   "outputs": [
    {
     "data": {
      "text/plain": [
       "event_id                 0\n",
       "event_datetime           0\n",
       "event_key                0\n",
       "session_id               0\n",
       "id                       0\n",
       "item_name                0\n",
       "page_name                0\n",
       "friend_count        752556\n",
       "votes_count         754554\n",
       "heart_balance       728643\n",
       "question_id       10991835\n",
       "dtype: int64"
      ]
     },
     "execution_count": 12,
     "metadata": {},
     "output_type": "execute_result"
    }
   ],
   "source": [
    "hackle_events_df.isna().sum()\n",
    "# friend_count : 친구 수\n",
    "# votes_count : 받은 투표 수\n",
    "# heart_balance : 잔여 하트\n",
    "# question_id : 고유 질문 ID"
   ]
  },
  {
   "cell_type": "code",
   "execution_count": null,
   "id": "f85a572c",
   "metadata": {},
   "outputs": [
    {
     "data": {
      "text/plain": [
       "0"
      ]
     },
     "execution_count": 13,
     "metadata": {},
     "output_type": "execute_result"
    }
   ],
   "source": [
    "hackle_events_df.duplicated().sum()"
   ]
  },
  {
   "cell_type": "code",
   "execution_count": null,
   "id": "520f53c8",
   "metadata": {},
   "outputs": [
    {
     "data": {
      "text/plain": [
       "11441319"
      ]
     },
     "execution_count": 14,
     "metadata": {},
     "output_type": "execute_result"
    }
   ],
   "source": [
    "hackle_events_df['event_id'].nunique() # nuniuque() 가 11,441,319개 = 모두가 다른 event_key를 가지고 있다."
   ]
  },
  {
   "cell_type": "code",
   "execution_count": null,
   "id": "8236dd87",
   "metadata": {},
   "outputs": [
    {
     "data": {
      "text/plain": [
       "253616"
      ]
     },
     "execution_count": 16,
     "metadata": {},
     "output_type": "execute_result"
    }
   ],
   "source": [
    "hackle_events_df['session_id'].nunique()"
   ]
  },
  {
   "cell_type": "code",
   "execution_count": null,
   "id": "51f552f5",
   "metadata": {},
   "outputs": [
    {
     "data": {
      "text/plain": [
       "False"
      ]
     },
     "execution_count": 17,
     "metadata": {},
     "output_type": "execute_result"
    }
   ],
   "source": [
    "(hackle_events_df['event_id'] != hackle_events_df['id']).any() # event_id와 id는 모두 같다."
   ]
  },
  {
   "cell_type": "code",
   "execution_count": null,
   "id": "d556d955",
   "metadata": {},
   "outputs": [
    {
     "data": {
      "text/plain": [
       "item_name\n",
       "           11428280\n",
       "무료충전소          7617\n",
       "777 하트         3258\n",
       "1000 하트        1112\n",
       "200 하트         1001\n",
       "4000 하트          51\n",
       "Name: count, dtype: int64"
      ]
     },
     "execution_count": 20,
     "metadata": {},
     "output_type": "execute_result"
    }
   ],
   "source": [
    "hackle_events_df['item_name'].value_counts()"
   ]
  },
  {
   "cell_type": "code",
   "execution_count": null,
   "id": "09e8f0a3",
   "metadata": {},
   "outputs": [
    {
     "data": {
      "text/plain": [
       "page_name\n",
       "           10652540\n",
       "home         518348\n",
       "notice       229358\n",
       "profile       14627\n",
       "학년선택          10714\n",
       "반선택            8592\n",
       "학교선택           1904\n",
       "번호인증           1246\n",
       "아이디입력          1072\n",
       "성별선택           1057\n",
       "프사설정           1020\n",
       "invite          816\n",
       "이름입력             25\n",
       "Name: count, dtype: int64"
      ]
     },
     "execution_count": 21,
     "metadata": {},
     "output_type": "execute_result"
    }
   ],
   "source": [
    "hackle_events_df['page_name'].value_counts()"
   ]
  },
  {
   "cell_type": "code",
   "execution_count": null,
   "id": "86dadcf9",
   "metadata": {},
   "outputs": [],
   "source": [
    "%xdel hackle_events_df"
   ]
  },
  {
   "cell_type": "markdown",
   "id": "1ffc4410",
   "metadata": {},
   "source": [
    "---\n",
    "---\n",
    "## 1.3 hackle_properties"
   ]
  },
  {
   "cell_type": "code",
   "execution_count": null,
   "id": "a9e475e9",
   "metadata": {},
   "outputs": [
    {
     "data": {
      "text/html": [
       "<div>\n",
       "<style scoped>\n",
       "    .dataframe tbody tr th:only-of-type {\n",
       "        vertical-align: middle;\n",
       "    }\n",
       "\n",
       "    .dataframe tbody tr th {\n",
       "        vertical-align: top;\n",
       "    }\n",
       "\n",
       "    .dataframe thead th {\n",
       "        text-align: right;\n",
       "    }\n",
       "</style>\n",
       "<table border=\"1\" class=\"dataframe\">\n",
       "  <thead>\n",
       "    <tr style=\"text-align: right;\">\n",
       "      <th></th>\n",
       "      <th>id</th>\n",
       "      <th>session_id</th>\n",
       "      <th>user_id</th>\n",
       "      <th>language</th>\n",
       "      <th>osname</th>\n",
       "      <th>osversion</th>\n",
       "      <th>versionname</th>\n",
       "      <th>device_id</th>\n",
       "    </tr>\n",
       "  </thead>\n",
       "  <tbody>\n",
       "    <tr>\n",
       "      <th>0</th>\n",
       "      <td>1</td>\n",
       "      <td>4OzYh3seq3VKytpSn5pvQkZNQii1</td>\n",
       "      <td></td>\n",
       "      <td>ko-KR</td>\n",
       "      <td>iOS</td>\n",
       "      <td>16.0</td>\n",
       "      <td>2.0.0</td>\n",
       "      <td>590E7C79-CBA0-44D8-8BE3-3C9BFABBBC74</td>\n",
       "    </tr>\n",
       "    <tr>\n",
       "      <th>1</th>\n",
       "      <td>2</td>\n",
       "      <td>8QXy31PQxbW9qLzq0Y1dhR8Ypm52</td>\n",
       "      <td>1046711</td>\n",
       "      <td>ko-KR</td>\n",
       "      <td>iOS</td>\n",
       "      <td>16.5.1</td>\n",
       "      <td>2.0.3</td>\n",
       "      <td>D5417226-F71B-4A9E-A180-CD072F2AB279</td>\n",
       "    </tr>\n",
       "    <tr>\n",
       "      <th>2</th>\n",
       "      <td>3</td>\n",
       "      <td>6bcea65d-9f40-46fc-888c-700fe707483f</td>\n",
       "      <td>1545130</td>\n",
       "      <td>ko</td>\n",
       "      <td>Android</td>\n",
       "      <td>13</td>\n",
       "      <td>2.0.5</td>\n",
       "      <td>6bcea65d-9f40-46fc-888c-700fe707483f</td>\n",
       "    </tr>\n",
       "    <tr>\n",
       "      <th>3</th>\n",
       "      <td>4</td>\n",
       "      <td>XVYNT6zfhFWqIg9omwg2AHDjTLx2</td>\n",
       "      <td>1224793</td>\n",
       "      <td>ko</td>\n",
       "      <td>Android</td>\n",
       "      <td>13</td>\n",
       "      <td>2.0.5</td>\n",
       "      <td>a05c1595-3e05-434b-8684-218b528bd725</td>\n",
       "    </tr>\n",
       "    <tr>\n",
       "      <th>4</th>\n",
       "      <td>5</td>\n",
       "      <td>XFB2SPiGfjbVhvJ3Q3DBsaT3m2B3</td>\n",
       "      <td>1329450</td>\n",
       "      <td>ko-US</td>\n",
       "      <td>iOS</td>\n",
       "      <td>16.5.1</td>\n",
       "      <td>2.0.5</td>\n",
       "      <td>EAC6C0B3-7CE8-40EA-8A91-9977C0BA5EF3</td>\n",
       "    </tr>\n",
       "  </tbody>\n",
       "</table>\n",
       "</div>"
      ],
      "text/plain": [
       "   id                            session_id  user_id language   osname  \\\n",
       "0   1          4OzYh3seq3VKytpSn5pvQkZNQii1             ko-KR      iOS   \n",
       "1   2          8QXy31PQxbW9qLzq0Y1dhR8Ypm52  1046711    ko-KR      iOS   \n",
       "2   3  6bcea65d-9f40-46fc-888c-700fe707483f  1545130       ko  Android   \n",
       "3   4          XVYNT6zfhFWqIg9omwg2AHDjTLx2  1224793       ko  Android   \n",
       "4   5          XFB2SPiGfjbVhvJ3Q3DBsaT3m2B3  1329450    ko-US      iOS   \n",
       "\n",
       "  osversion versionname                             device_id  \n",
       "0      16.0       2.0.0  590E7C79-CBA0-44D8-8BE3-3C9BFABBBC74  \n",
       "1    16.5.1       2.0.3  D5417226-F71B-4A9E-A180-CD072F2AB279  \n",
       "2        13       2.0.5  6bcea65d-9f40-46fc-888c-700fe707483f  \n",
       "3        13       2.0.5  a05c1595-3e05-434b-8684-218b528bd725  \n",
       "4    16.5.1       2.0.5  EAC6C0B3-7CE8-40EA-8A91-9977C0BA5EF3  "
      ]
     },
     "execution_count": 26,
     "metadata": {},
     "output_type": "execute_result"
    }
   ],
   "source": [
    "hackle_properties_df.head()"
   ]
  },
  {
   "cell_type": "code",
   "execution_count": null,
   "id": "86d43808",
   "metadata": {},
   "outputs": [
    {
     "data": {
      "text/plain": [
       "id             0\n",
       "session_id     0\n",
       "user_id        0\n",
       "language       0\n",
       "osname         0\n",
       "osversion      0\n",
       "versionname    0\n",
       "device_id      0\n",
       "dtype: int64"
      ]
     },
     "execution_count": 27,
     "metadata": {},
     "output_type": "execute_result"
    }
   ],
   "source": [
    "hackle_properties_df.isna().sum()"
   ]
  },
  {
   "cell_type": "code",
   "execution_count": null,
   "id": "6007992b",
   "metadata": {},
   "outputs": [
    {
     "data": {
      "text/plain": [
       "user_id\n",
       "           82255\n",
       "1578652       17\n",
       "1459833       13\n",
       "1571506       13\n",
       "1239584       12\n",
       "Name: count, dtype: int64"
      ]
     },
     "execution_count": 31,
     "metadata": {},
     "output_type": "execute_result"
    }
   ],
   "source": [
    "hackle_properties_df['user_id'].value_counts().head()"
   ]
  },
  {
   "cell_type": "code",
   "execution_count": null,
   "id": "9612495d",
   "metadata": {},
   "outputs": [
    {
     "data": {
      "text/plain": [
       "language\n",
       "ko-KR         340900\n",
       "ko            164682\n",
       "en-KR           9658\n",
       "ko-US           4931\n",
       "en              1122\n",
       "en-GB            513\n",
       "en-US            502\n",
       "ko-JP            465\n",
       "ko-CA            330\n",
       "ja-KR            306\n",
       "ko-GP            267\n",
       "ko-GH            119\n",
       "ko-CN            110\n",
       "ko-GU            108\n",
       "ko-GG             88\n",
       "ru-KR             81\n",
       "ko-GB             74\n",
       "ja                60\n",
       "ko-AU             56\n",
       "zh-Hans-KR        54\n",
       "en-AU             50\n",
       "ko-GM             44\n",
       "ko-GY             41\n",
       "ja-JP             41\n",
       "ru                37\n",
       "ko-DE             36\n",
       "en-CA             33\n",
       "ko-VN             32\n",
       "ko-PH             26\n",
       "zh                26\n",
       "ko-GA             22\n",
       "ko-RU             22\n",
       "ko-FR             22\n",
       "zh-Hans-CN        21\n",
       "fr-KR             21\n",
       "ko-GT             15\n",
       "en-JP             14\n",
       "ko-GD             14\n",
       "en-NZ             13\n",
       "ko-NZ             12\n",
       "ko-ES             12\n",
       "ko-SG             12\n",
       "de-KR             11\n",
       "es-KR             11\n",
       "ko-AE             11\n",
       "ko-MY             10\n",
       "vi-KR             10\n",
       "ko-ID             10\n",
       "ko-NL              9\n",
       "vi                 9\n",
       "ko-KH              8\n",
       "ko-TW              7\n",
       "fr                 6\n",
       "ko-LR              6\n",
       "ko-IT              6\n",
       "ko-TH              6\n",
       "ru-RU              6\n",
       "en-GP              5\n",
       "ko-AL              5\n",
       "ko-IN              5\n",
       "ko-ZA              5\n",
       "es-419             5\n",
       "ko-DK              5\n",
       "ko-SS              5\n",
       "ko-LA              4\n",
       "ko-NR              4\n",
       "en-IN              4\n",
       "ko-CF              4\n",
       "ko-HK              4\n",
       "en-GH              4\n",
       "zh-Hans-US         4\n",
       "en-SG              4\n",
       "ko-KZ              4\n",
       "ko-MM              4\n",
       "ko-LV              4\n",
       "ko-SR              4\n",
       "ko-BD              4\n",
       "es                 4\n",
       "la-KR              4\n",
       "ko-UM              4\n",
       "en-AR              3\n",
       "ko-SM              3\n",
       "ko-UY              3\n",
       "en-TN              3\n",
       "ko-DG              3\n",
       "ko-DM              3\n",
       "ko-AR              3\n",
       "ko-BB              3\n",
       "en-RU              3\n",
       "ko-KE              3\n",
       "en-ZA              3\n",
       "ko-FK              3\n",
       "en-AM              3\n",
       "ko-HU              3\n",
       "ja-US              3\n",
       "ko-CO              3\n",
       "fr-FR              2\n",
       "ko-GW              2\n",
       "ko-MN              2\n",
       "en-VN              2\n",
       "ko-LB              2\n",
       "ko-UZ              2\n",
       "ko-SE              2\n",
       "ko-MC              2\n",
       "ko-NU              2\n",
       "ko-ZM              2\n",
       "ko-MS              2\n",
       "en-CN              2\n",
       "es-JP              2\n",
       "ko-AM              2\n",
       "zh-Hant-KR         2\n",
       "ko-SA              2\n",
       "ko-BR              2\n",
       "ko-MR              2\n",
       "ko-BQ              2\n",
       "ko-GL              2\n",
       "ko-NA              2\n",
       "ru-KZ              2\n",
       "ru-UZ              2\n",
       "ko-NF              2\n",
       "ko-GS              2\n",
       "ko-CK              2\n",
       "ko-MW              2\n",
       "ko-TL              2\n",
       "ko-FI              2\n",
       "en-AE              2\n",
       "zh-Hant-TW         1\n",
       "ko-NI              1\n",
       "en-IQ              1\n",
       "it                 1\n",
       "ar-KR              1\n",
       "en-MY              1\n",
       "ar-SA              1\n",
       "de-GB              1\n",
       "es-US              1\n",
       "km-KR              1\n",
       "ko-PF              1\n",
       "en-AT              1\n",
       "ko-DZ              1\n",
       "en-AQ              1\n",
       "de-DE              1\n",
       "en-ES              1\n",
       "en-FR              1\n",
       "ko-VC              1\n",
       "ko-DO              1\n",
       "ko-CI              1\n",
       "en-MW              1\n",
       "en-AS              1\n",
       "en-NG              1\n",
       "en-PH              1\n",
       "ar-PS              1\n",
       "Name: count, dtype: int64"
      ]
     },
     "execution_count": 32,
     "metadata": {},
     "output_type": "execute_result"
    }
   ],
   "source": [
    "hackle_properties_df['language'].value_counts()"
   ]
  },
  {
   "cell_type": "code",
   "execution_count": null,
   "id": "11187d5c",
   "metadata": {},
   "outputs": [],
   "source": [
    "%xdel hackle_properties_df"
   ]
  },
  {
   "cell_type": "markdown",
   "id": "bcf53219",
   "metadata": {},
   "source": [
    "---\n",
    "---\n",
    "## 1.4 user_properties"
   ]
  },
  {
   "cell_type": "code",
   "execution_count": null,
   "id": "53d51f59",
   "metadata": {},
   "outputs": [
    {
     "data": {
      "text/html": [
       "<div>\n",
       "<style scoped>\n",
       "    .dataframe tbody tr th:only-of-type {\n",
       "        vertical-align: middle;\n",
       "    }\n",
       "\n",
       "    .dataframe tbody tr th {\n",
       "        vertical-align: top;\n",
       "    }\n",
       "\n",
       "    .dataframe thead th {\n",
       "        text-align: right;\n",
       "    }\n",
       "</style>\n",
       "<table border=\"1\" class=\"dataframe\">\n",
       "  <thead>\n",
       "    <tr style=\"text-align: right;\">\n",
       "      <th></th>\n",
       "      <th>user_id</th>\n",
       "      <th>class</th>\n",
       "      <th>gender</th>\n",
       "      <th>grade</th>\n",
       "      <th>school_id</th>\n",
       "    </tr>\n",
       "  </thead>\n",
       "  <tbody>\n",
       "    <tr>\n",
       "      <th>0</th>\n",
       "      <td>1000000</td>\n",
       "      <td>1</td>\n",
       "      <td>M</td>\n",
       "      <td>1</td>\n",
       "      <td>1885</td>\n",
       "    </tr>\n",
       "    <tr>\n",
       "      <th>1</th>\n",
       "      <td>1000009</td>\n",
       "      <td>10</td>\n",
       "      <td>F</td>\n",
       "      <td>2</td>\n",
       "      <td>3869</td>\n",
       "    </tr>\n",
       "    <tr>\n",
       "      <th>2</th>\n",
       "      <td>1000012</td>\n",
       "      <td>10</td>\n",
       "      <td>F</td>\n",
       "      <td>1</td>\n",
       "      <td>5091</td>\n",
       "    </tr>\n",
       "    <tr>\n",
       "      <th>3</th>\n",
       "      <td>1000013</td>\n",
       "      <td>8</td>\n",
       "      <td>F</td>\n",
       "      <td>2</td>\n",
       "      <td>1743</td>\n",
       "    </tr>\n",
       "    <tr>\n",
       "      <th>4</th>\n",
       "      <td>1000015</td>\n",
       "      <td>2</td>\n",
       "      <td>F</td>\n",
       "      <td>3</td>\n",
       "      <td>5078</td>\n",
       "    </tr>\n",
       "  </tbody>\n",
       "</table>\n",
       "</div>"
      ],
      "text/plain": [
       "   user_id  class gender  grade  school_id\n",
       "0  1000000      1      M      1       1885\n",
       "1  1000009     10      F      2       3869\n",
       "2  1000012     10      F      1       5091\n",
       "3  1000013      8      F      2       1743\n",
       "4  1000015      2      F      3       5078"
      ]
     },
     "execution_count": 34,
     "metadata": {},
     "output_type": "execute_result"
    }
   ],
   "source": [
    "user_properties_df.head()"
   ]
  },
  {
   "cell_type": "code",
   "execution_count": null,
   "id": "96e88109",
   "metadata": {},
   "outputs": [
    {
     "data": {
      "text/plain": [
       "20"
      ]
     },
     "execution_count": 35,
     "metadata": {},
     "output_type": "execute_result"
    }
   ],
   "source": [
    "user_properties_df['class'].nunique()"
   ]
  },
  {
   "cell_type": "code",
   "execution_count": null,
   "id": "ce441c94",
   "metadata": {},
   "outputs": [
    {
     "data": {
      "text/plain": [
       "3"
      ]
     },
     "execution_count": 36,
     "metadata": {},
     "output_type": "execute_result"
    }
   ],
   "source": [
    "user_properties_df['grade'].nunique()"
   ]
  },
  {
   "cell_type": "code",
   "execution_count": null,
   "id": "d5e4969b",
   "metadata": {},
   "outputs": [],
   "source": [
    "%xdel user_properties_df"
   ]
  },
  {
   "cell_type": "markdown",
   "id": "ea21dea1",
   "metadata": {},
   "source": [
    "---\n",
    "---\n",
    "---\n",
    "# 2. votes"
   ]
  },
  {
   "cell_type": "markdown",
   "id": "6737ed83",
   "metadata": {},
   "source": [
    "---\n",
    "---\n",
    "## 2.1 accounts_attendance"
   ]
  },
  {
   "cell_type": "code",
   "execution_count": null,
   "id": "11f71586",
   "metadata": {},
   "outputs": [],
   "source": [
    "accounts_attendance_df = pd.read_parquet('./data/votes/accounts_attendance.parquet')"
   ]
  },
  {
   "cell_type": "code",
   "execution_count": null,
   "id": "bb617551",
   "metadata": {},
   "outputs": [
    {
     "data": {
      "text/html": [
       "<div>\n",
       "<style scoped>\n",
       "    .dataframe tbody tr th:only-of-type {\n",
       "        vertical-align: middle;\n",
       "    }\n",
       "\n",
       "    .dataframe tbody tr th {\n",
       "        vertical-align: top;\n",
       "    }\n",
       "\n",
       "    .dataframe thead th {\n",
       "        text-align: right;\n",
       "    }\n",
       "</style>\n",
       "<table border=\"1\" class=\"dataframe\">\n",
       "  <thead>\n",
       "    <tr style=\"text-align: right;\">\n",
       "      <th></th>\n",
       "      <th>id</th>\n",
       "      <th>attendance_date_list</th>\n",
       "      <th>user_id</th>\n",
       "    </tr>\n",
       "  </thead>\n",
       "  <tbody>\n",
       "    <tr>\n",
       "      <th>0</th>\n",
       "      <td>1</td>\n",
       "      <td>[\"2023-05-27\", \"2023-05-28\", \"2023-05-29\", \"2023-05-30\", \"2023-06-03\", \"2023-06-06\", \"2023-06-12\", \"2023-06-15\", \"2023-07-10\", \"2023-07-31\", \"2023-09-12\", \"2023-09-14\", \"2023-09-19\"]</td>\n",
       "      <td>1446852</td>\n",
       "    </tr>\n",
       "    <tr>\n",
       "      <th>1</th>\n",
       "      <td>2</td>\n",
       "      <td>[\"2023-05-27\", \"2023-05-29\", \"2023-05-30\", \"2023-06-02\", \"2023-06-03\", \"2023-06-05\", \"2023-06-07\", \"2023-06-08\", \"2023-06-10\", \"2023-06-11\", \"2023-06-15\", \"2023-06-16\", \"2023-06-17\", \"2023-06-18\", \"2023-06-19\", \"2023-06-20\", \"2023-06-21\", \"2023-06-22\", \"2023-06-23\", \"2023-06-27\", \"2023-07-01\", \"2023-07-04\", \"2023-07-08\", \"2023-07-10\", \"2023-07-15\", \"2023-07-26\", \"2023-08-01\", \"2023-08-02\", \"2023-08-03\", \"2023-08-05\", \"2023-08-14\", \"2023-08-21\", \"2023-08-22\"]</td>\n",
       "      <td>1359398</td>\n",
       "    </tr>\n",
       "    <tr>\n",
       "      <th>2</th>\n",
       "      <td>3</td>\n",
       "      <td>[\"2023-05-27\", \"2023-05-29\", \"2023-05-30\", \"2023-05-31\", \"2023-06-01\", \"2023-06-02\", \"2023-06-06\", \"2023-06-07\", \"2023-06-14\"]</td>\n",
       "      <td>1501542</td>\n",
       "    </tr>\n",
       "    <tr>\n",
       "      <th>3</th>\n",
       "      <td>4</td>\n",
       "      <td>[\"2023-05-27\", \"2023-05-28\", \"2023-05-29\", \"2023-05-30\", \"2023-05-31\", \"2023-06-01\", \"2023-06-02\", \"2023-06-03\", \"2023-06-04\", \"2023-06-05\", \"2023-06-06\", \"2023-06-07\", \"2023-06-08\", \"2023-06-09\", \"2023-06-10\", \"2023-06-11\", \"2023-06-12\", \"2023-06-13\", \"2023-06-15\", \"2023-06-17\", \"2023-06-18\", \"2023-06-19\", \"2023-06-21\", \"2023-06-22\", \"2023-06-23\", \"2023-06-24\", \"2023-06-25\", \"2023-06-26\", \"2023-06-27\", \"2023-06-30\"]</td>\n",
       "      <td>1507767</td>\n",
       "    </tr>\n",
       "    <tr>\n",
       "      <th>4</th>\n",
       "      <td>5</td>\n",
       "      <td>[\"2023-05-27\", \"2023-05-28\", \"2023-05-29\", \"2023-05-30\", \"2023-05-31\", \"2023-06-01\", \"2023-06-02\", \"2023-06-03\", \"2023-06-04\", \"2023-06-05\", \"2023-06-06\", \"2023-06-07\", \"2023-06-08\", \"2023-06-09\", \"2023-06-10\", \"2023-06-11\", \"2023-06-12\", \"2023-06-13\", \"2023-06-14\", \"2023-06-15\", \"2023-06-16\", \"2023-06-17\", \"2023-06-18\", \"2023-06-19\", \"2023-06-20\", \"2023-06-21\", \"2023-06-22\", \"2023-06-23\", \"2023-06-24\", \"2023-06-25\", \"2023-06-28\"]</td>\n",
       "      <td>1287453</td>\n",
       "    </tr>\n",
       "  </tbody>\n",
       "</table>\n",
       "</div>"
      ],
      "text/plain": [
       "   id  \\\n",
       "0   1   \n",
       "1   2   \n",
       "2   3   \n",
       "3   4   \n",
       "4   5   \n",
       "\n",
       "                                                                                                                                                                                                                                                                                                                                                                                                                                                             attendance_date_list  \\\n",
       "0                                                                                                                                                                                                                                                                                          [\"2023-05-27\", \"2023-05-28\", \"2023-05-29\", \"2023-05-30\", \"2023-06-03\", \"2023-06-06\", \"2023-06-12\", \"2023-06-15\", \"2023-07-10\", \"2023-07-31\", \"2023-09-12\", \"2023-09-14\", \"2023-09-19\"]   \n",
       "1  [\"2023-05-27\", \"2023-05-29\", \"2023-05-30\", \"2023-06-02\", \"2023-06-03\", \"2023-06-05\", \"2023-06-07\", \"2023-06-08\", \"2023-06-10\", \"2023-06-11\", \"2023-06-15\", \"2023-06-16\", \"2023-06-17\", \"2023-06-18\", \"2023-06-19\", \"2023-06-20\", \"2023-06-21\", \"2023-06-22\", \"2023-06-23\", \"2023-06-27\", \"2023-07-01\", \"2023-07-04\", \"2023-07-08\", \"2023-07-10\", \"2023-07-15\", \"2023-07-26\", \"2023-08-01\", \"2023-08-02\", \"2023-08-03\", \"2023-08-05\", \"2023-08-14\", \"2023-08-21\", \"2023-08-22\"]   \n",
       "2                                                                                                                                                                                                                                                                                                                                                  [\"2023-05-27\", \"2023-05-29\", \"2023-05-30\", \"2023-05-31\", \"2023-06-01\", \"2023-06-02\", \"2023-06-06\", \"2023-06-07\", \"2023-06-14\"]   \n",
       "3                                            [\"2023-05-27\", \"2023-05-28\", \"2023-05-29\", \"2023-05-30\", \"2023-05-31\", \"2023-06-01\", \"2023-06-02\", \"2023-06-03\", \"2023-06-04\", \"2023-06-05\", \"2023-06-06\", \"2023-06-07\", \"2023-06-08\", \"2023-06-09\", \"2023-06-10\", \"2023-06-11\", \"2023-06-12\", \"2023-06-13\", \"2023-06-15\", \"2023-06-17\", \"2023-06-18\", \"2023-06-19\", \"2023-06-21\", \"2023-06-22\", \"2023-06-23\", \"2023-06-24\", \"2023-06-25\", \"2023-06-26\", \"2023-06-27\", \"2023-06-30\"]   \n",
       "4                              [\"2023-05-27\", \"2023-05-28\", \"2023-05-29\", \"2023-05-30\", \"2023-05-31\", \"2023-06-01\", \"2023-06-02\", \"2023-06-03\", \"2023-06-04\", \"2023-06-05\", \"2023-06-06\", \"2023-06-07\", \"2023-06-08\", \"2023-06-09\", \"2023-06-10\", \"2023-06-11\", \"2023-06-12\", \"2023-06-13\", \"2023-06-14\", \"2023-06-15\", \"2023-06-16\", \"2023-06-17\", \"2023-06-18\", \"2023-06-19\", \"2023-06-20\", \"2023-06-21\", \"2023-06-22\", \"2023-06-23\", \"2023-06-24\", \"2023-06-25\", \"2023-06-28\"]   \n",
       "\n",
       "   user_id  \n",
       "0  1446852  \n",
       "1  1359398  \n",
       "2  1501542  \n",
       "3  1507767  \n",
       "4  1287453  "
      ]
     },
     "execution_count": 11,
     "metadata": {},
     "output_type": "execute_result"
    }
   ],
   "source": [
    "accounts_attendance_df.head() # 349,637 행, 3열"
   ]
  },
  {
   "cell_type": "code",
   "execution_count": null,
   "id": "02eb6a0a",
   "metadata": {},
   "outputs": [
    {
     "name": "stdout",
     "output_type": "stream",
     "text": [
      "<class 'pandas.core.frame.DataFrame'>\n",
      "RangeIndex: 349637 entries, 0 to 349636\n",
      "Data columns (total 3 columns):\n",
      " #   Column                Non-Null Count   Dtype \n",
      "---  ------                --------------   ----- \n",
      " 0   id                    349637 non-null  int64 \n",
      " 1   attendance_date_list  349637 non-null  object\n",
      " 2   user_id               349637 non-null  int64 \n",
      "dtypes: int64(2), object(1)\n",
      "memory usage: 8.0+ MB\n"
     ]
    }
   ],
   "source": [
    "accounts_attendance_df.info()"
   ]
  },
  {
   "cell_type": "code",
   "execution_count": null,
   "id": "78b40cac",
   "metadata": {},
   "outputs": [],
   "source": [
    "%xdel accounts_attendance_df"
   ]
  },
  {
   "cell_type": "markdown",
   "id": "0c5b94e2",
   "metadata": {},
   "source": [
    "---\n",
    "---\n",
    "## 2.2 accounts_blockrecord"
   ]
  },
  {
   "cell_type": "code",
   "execution_count": null,
   "id": "f62227e9",
   "metadata": {},
   "outputs": [],
   "source": [
    "accounts_blockrecord_df = pd.read_parquet('./data/votes/accounts_blockrecord.parquet')"
   ]
  },
  {
   "cell_type": "code",
   "execution_count": null,
   "id": "1f91437c",
   "metadata": {},
   "outputs": [
    {
     "data": {
      "text/html": [
       "<div>\n",
       "<style scoped>\n",
       "    .dataframe tbody tr th:only-of-type {\n",
       "        vertical-align: middle;\n",
       "    }\n",
       "\n",
       "    .dataframe tbody tr th {\n",
       "        vertical-align: top;\n",
       "    }\n",
       "\n",
       "    .dataframe thead th {\n",
       "        text-align: right;\n",
       "    }\n",
       "</style>\n",
       "<table border=\"1\" class=\"dataframe\">\n",
       "  <thead>\n",
       "    <tr style=\"text-align: right;\">\n",
       "      <th></th>\n",
       "      <th>id</th>\n",
       "      <th>reason</th>\n",
       "      <th>created_at</th>\n",
       "      <th>block_user_id</th>\n",
       "      <th>user_id</th>\n",
       "    </tr>\n",
       "  </thead>\n",
       "  <tbody>\n",
       "    <tr>\n",
       "      <th>0</th>\n",
       "      <td>1</td>\n",
       "      <td>그냥...</td>\n",
       "      <td>2023-05-04 23:01:53</td>\n",
       "      <td>867483</td>\n",
       "      <td>878476</td>\n",
       "    </tr>\n",
       "    <tr>\n",
       "      <th>1</th>\n",
       "      <td>2</td>\n",
       "      <td>친구 사이가 어색해짐</td>\n",
       "      <td>2023-05-05 01:17:08</td>\n",
       "      <td>867190</td>\n",
       "      <td>867564</td>\n",
       "    </tr>\n",
       "    <tr>\n",
       "      <th>2</th>\n",
       "      <td>3</td>\n",
       "      <td>나랑 관련 없는 질문을 자꾸 보냄</td>\n",
       "      <td>2023-05-05 01:50:55</td>\n",
       "      <td>875110</td>\n",
       "      <td>875261</td>\n",
       "    </tr>\n",
       "    <tr>\n",
       "      <th>3</th>\n",
       "      <td>6</td>\n",
       "      <td>그냥...</td>\n",
       "      <td>2023-05-05 05:21:52</td>\n",
       "      <td>883696</td>\n",
       "      <td>883511</td>\n",
       "    </tr>\n",
       "    <tr>\n",
       "      <th>4</th>\n",
       "      <td>7</td>\n",
       "      <td>그냥...</td>\n",
       "      <td>2023-05-05 06:40:34</td>\n",
       "      <td>871349</td>\n",
       "      <td>870177</td>\n",
       "    </tr>\n",
       "  </tbody>\n",
       "</table>\n",
       "</div>"
      ],
      "text/plain": [
       "   id              reason          created_at  block_user_id  user_id\n",
       "0   1               그냥... 2023-05-04 23:01:53         867483   878476\n",
       "1   2         친구 사이가 어색해짐 2023-05-05 01:17:08         867190   867564\n",
       "2   3  나랑 관련 없는 질문을 자꾸 보냄 2023-05-05 01:50:55         875110   875261\n",
       "3   6               그냥... 2023-05-05 05:21:52         883696   883511\n",
       "4   7               그냥... 2023-05-05 06:40:34         871349   870177"
      ]
     },
     "execution_count": 9,
     "metadata": {},
     "output_type": "execute_result"
    }
   ],
   "source": [
    "accounts_blockrecord_df.head() # 19,482 행, 5열"
   ]
  },
  {
   "cell_type": "code",
   "execution_count": null,
   "id": "5acd2843",
   "metadata": {},
   "outputs": [
    {
     "name": "stdout",
     "output_type": "stream",
     "text": [
      "<class 'pandas.core.frame.DataFrame'>\n",
      "RangeIndex: 19482 entries, 0 to 19481\n",
      "Data columns (total 5 columns):\n",
      " #   Column         Non-Null Count  Dtype         \n",
      "---  ------         --------------  -----         \n",
      " 0   id             19482 non-null  int64         \n",
      " 1   reason         19482 non-null  object        \n",
      " 2   created_at     19482 non-null  datetime64[ns]\n",
      " 3   block_user_id  19482 non-null  int64         \n",
      " 4   user_id        19482 non-null  int64         \n",
      "dtypes: datetime64[ns](1), int64(3), object(1)\n",
      "memory usage: 761.1+ KB\n"
     ]
    }
   ],
   "source": [
    "accounts_blockrecord_df.info()"
   ]
  },
  {
   "cell_type": "code",
   "execution_count": null,
   "id": "6f5bead2",
   "metadata": {},
   "outputs": [
    {
     "data": {
      "text/plain": [
       "array(['그냥...', '친구 사이가 어색해짐', '나랑 관련 없는 질문을 자꾸 보냄', '기타', '모르는 사람임',\n",
       "       '너무 많은 양의 질문을 보냄', '사칭 계정'], dtype=object)"
      ]
     },
     "execution_count": 16,
     "metadata": {},
     "output_type": "execute_result"
    }
   ],
   "source": [
    "accounts_blockrecord_df['reason'].unique()"
   ]
  },
  {
   "cell_type": "code",
   "execution_count": null,
   "id": "feac765a",
   "metadata": {},
   "outputs": [
    {
     "data": {
      "text/plain": [
       "0"
      ]
     },
     "execution_count": 23,
     "metadata": {},
     "output_type": "execute_result"
    }
   ],
   "source": [
    "accounts_blockrecord_df['user_id'].isna().sum()\n",
    "# nunique() = 12,552개, duplicated().sum() = 6,930개"
   ]
  },
  {
   "cell_type": "code",
   "execution_count": null,
   "id": "17f5cdfc",
   "metadata": {},
   "outputs": [
    {
     "data": {
      "text/plain": [
       "0"
      ]
     },
     "execution_count": 24,
     "metadata": {},
     "output_type": "execute_result"
    }
   ],
   "source": [
    "accounts_blockrecord_df['block_user_id'].isna().sum()\n",
    "# nunique() = 16,240개, duplicated().sum() = 3,242개"
   ]
  },
  {
   "cell_type": "code",
   "execution_count": null,
   "id": "0aaf5f7e",
   "metadata": {},
   "outputs": [
    {
     "data": {
      "text/plain": [
       "user_id\n",
       "1526194    171\n",
       "1415197    163\n",
       "1519819     70\n",
       "1542675     66\n",
       "986459      60\n",
       "Name: count, dtype: int64"
      ]
     },
     "execution_count": 35,
     "metadata": {},
     "output_type": "execute_result"
    }
   ],
   "source": [
    "# user_id 기준으로 block 시도 횟수 (특정 유저의 과도한 차단 로그 확인)\n",
    "accounts_blockrecord_df['user_id'].value_counts().head()"
   ]
  },
  {
   "cell_type": "code",
   "execution_count": null,
   "id": "4312b900",
   "metadata": {},
   "outputs": [
    {
     "name": "stdout",
     "output_type": "stream",
     "text": [
      "중복된 쌍 개수: 1525\n"
     ]
    },
    {
     "data": {
      "text/html": [
       "<div>\n",
       "<style scoped>\n",
       "    .dataframe tbody tr th:only-of-type {\n",
       "        vertical-align: middle;\n",
       "    }\n",
       "\n",
       "    .dataframe tbody tr th {\n",
       "        vertical-align: top;\n",
       "    }\n",
       "\n",
       "    .dataframe thead th {\n",
       "        text-align: right;\n",
       "    }\n",
       "</style>\n",
       "<table border=\"1\" class=\"dataframe\">\n",
       "  <thead>\n",
       "    <tr style=\"text-align: right;\">\n",
       "      <th></th>\n",
       "      <th>id</th>\n",
       "      <th>reason</th>\n",
       "      <th>created_at</th>\n",
       "      <th>block_user_id</th>\n",
       "      <th>user_id</th>\n",
       "    </tr>\n",
       "  </thead>\n",
       "  <tbody>\n",
       "    <tr>\n",
       "      <th>8</th>\n",
       "      <td>12</td>\n",
       "      <td>기타</td>\n",
       "      <td>2023-05-05 13:04:31</td>\n",
       "      <td>885794</td>\n",
       "      <td>879662</td>\n",
       "    </tr>\n",
       "    <tr>\n",
       "      <th>9</th>\n",
       "      <td>13</td>\n",
       "      <td>기타</td>\n",
       "      <td>2023-05-05 13:04:42</td>\n",
       "      <td>885794</td>\n",
       "      <td>879662</td>\n",
       "    </tr>\n",
       "    <tr>\n",
       "      <th>10</th>\n",
       "      <td>14</td>\n",
       "      <td>그냥...</td>\n",
       "      <td>2023-05-05 13:04:52</td>\n",
       "      <td>885794</td>\n",
       "      <td>879662</td>\n",
       "    </tr>\n",
       "    <tr>\n",
       "      <th>11</th>\n",
       "      <td>15</td>\n",
       "      <td>기타</td>\n",
       "      <td>2023-05-05 13:04:56</td>\n",
       "      <td>885794</td>\n",
       "      <td>879662</td>\n",
       "    </tr>\n",
       "    <tr>\n",
       "      <th>12</th>\n",
       "      <td>16</td>\n",
       "      <td>기타</td>\n",
       "      <td>2023-05-05 13:05:01</td>\n",
       "      <td>885794</td>\n",
       "      <td>879662</td>\n",
       "    </tr>\n",
       "  </tbody>\n",
       "</table>\n",
       "</div>"
      ],
      "text/plain": [
       "    id reason          created_at  block_user_id  user_id\n",
       "8   12     기타 2023-05-05 13:04:31         885794   879662\n",
       "9   13     기타 2023-05-05 13:04:42         885794   879662\n",
       "10  14  그냥... 2023-05-05 13:04:52         885794   879662\n",
       "11  15     기타 2023-05-05 13:04:56         885794   879662\n",
       "12  16     기타 2023-05-05 13:05:01         885794   879662"
      ]
     },
     "execution_count": 26,
     "metadata": {},
     "output_type": "execute_result"
    }
   ],
   "source": [
    "# user_id와 block_user_id 쌍으로 중복된 행 찾기\n",
    "duplicate_rows = accounts_blockrecord_df[\n",
    "    accounts_blockrecord_df.duplicated(subset=['user_id', 'block_user_id'], keep=False)\n",
    "]\n",
    "\n",
    "# 결과 출력\n",
    "print(f\"중복된 쌍 개수: {len(duplicate_rows)}\")\n",
    "duplicate_rows.head()"
   ]
  },
  {
   "cell_type": "code",
   "execution_count": null,
   "id": "6cc25eee",
   "metadata": {},
   "outputs": [
    {
     "data": {
      "text/plain": [
       "user_id\n",
       "889732     20\n",
       "909818     17\n",
       "1043398    16\n",
       "896862     13\n",
       "1281471    12\n",
       "918735     11\n",
       "1124205    11\n",
       "1056156    11\n",
       "925508     10\n",
       "857420      9\n",
       "1253255     8\n",
       "914610      8\n",
       "952203      8\n",
       "901962      8\n",
       "883198      8\n",
       "1313373     8\n",
       "971524      8\n",
       "978390      7\n",
       "897037      7\n",
       "884464      7\n",
       "1253809     7\n",
       "874687      7\n",
       "941582      7\n",
       "1079487     7\n",
       "888946      7\n",
       "1054079     7\n",
       "1040510     6\n",
       "1041875     6\n",
       "948405      6\n",
       "919367      6\n",
       "917992      6\n",
       "965512      6\n",
       "924797      6\n",
       "959994      6\n",
       "894503      6\n",
       "902062      6\n",
       "948427      6\n",
       "1330926     6\n",
       "945202      6\n",
       "1011819     6\n",
       "1027816     6\n",
       "889161      6\n",
       "1235125     6\n",
       "1120295     6\n",
       "911470      5\n",
       "1221758     5\n",
       "901042      5\n",
       "1157671     5\n",
       "930190      5\n",
       "907139      5\n",
       "891998      5\n",
       "895604      5\n",
       "951434      5\n",
       "1139688     5\n",
       "937187      5\n",
       "1235635     5\n",
       "936692      5\n",
       "879662      5\n",
       "983596      5\n",
       "1028150     5\n",
       "937477      5\n",
       "910517      5\n",
       "985158      5\n",
       "945114      4\n",
       "1261005     4\n",
       "1368252     4\n",
       "915549      4\n",
       "955599      4\n",
       "894082      4\n",
       "1070475     4\n",
       "994450      4\n",
       "1261656     4\n",
       "1063594     4\n",
       "1286411     4\n",
       "1378893     4\n",
       "897950      4\n",
       "1065147     4\n",
       "1130134     4\n",
       "955098      4\n",
       "1279312     4\n",
       "923011      4\n",
       "1058368     4\n",
       "930445      4\n",
       "967723      4\n",
       "864437      4\n",
       "859334      4\n",
       "1003644     4\n",
       "1214159     4\n",
       "957625      4\n",
       "1229153     4\n",
       "940698      4\n",
       "1264147     4\n",
       "1024454     4\n",
       "895337      4\n",
       "898283      4\n",
       "910670      4\n",
       "875951      4\n",
       "893768      4\n",
       "883369      4\n",
       "909191      4\n",
       "911572      4\n",
       "897953      4\n",
       "1264907     4\n",
       "901327      4\n",
       "926156      4\n",
       "997807      3\n",
       "923118      3\n",
       "904071      3\n",
       "1028644     3\n",
       "1007362     3\n",
       "889336      3\n",
       "905483      3\n",
       "897345      3\n",
       "985472      3\n",
       "877553      3\n",
       "1043074     3\n",
       "1064434     3\n",
       "955891      3\n",
       "1255526     3\n",
       "1119093     3\n",
       "928352      3\n",
       "935318      3\n",
       "901995      3\n",
       "1060072     3\n",
       "1260366     3\n",
       "923870      3\n",
       "852455      3\n",
       "899732      3\n",
       "926487      3\n",
       "924664      3\n",
       "1241061     3\n",
       "915657      3\n",
       "1072966     3\n",
       "872902      3\n",
       "1165513     3\n",
       "1072478     3\n",
       "1579568     3\n",
       "1055357     3\n",
       "1308761     3\n",
       "1147833     3\n",
       "875178      3\n",
       "921896      3\n",
       "983387      3\n",
       "1149899     3\n",
       "1285353     3\n",
       "898071      3\n",
       "1084996     3\n",
       "1284550     3\n",
       "1103991     3\n",
       "1272243     3\n",
       "1013938     3\n",
       "1101889     3\n",
       "1062283     3\n",
       "1549175     3\n",
       "1127443     3\n",
       "1160177     3\n",
       "1303314     3\n",
       "1343652     3\n",
       "855858      3\n",
       "911301      3\n",
       "1189309     3\n",
       "1235549     3\n",
       "984387      3\n",
       "901874      3\n",
       "974391      3\n",
       "968819      3\n",
       "857995      3\n",
       "1371127     3\n",
       "915654      3\n",
       "1296323     3\n",
       "951571      3\n",
       "1018227     3\n",
       "954793      3\n",
       "949005      3\n",
       "966848      3\n",
       "847011      3\n",
       "897169      3\n",
       "917454      3\n",
       "895701      3\n",
       "992863      3\n",
       "848687      3\n",
       "977581      3\n",
       "1278328     3\n",
       "1400032     3\n",
       "1287910     3\n",
       "1370923     3\n",
       "986961      3\n",
       "1129746     3\n",
       "888496      3\n",
       "933315      3\n",
       "1477621     3\n",
       "988328      3\n",
       "931054      3\n",
       "1408339     3\n",
       "1472338     3\n",
       "906179      3\n",
       "953790      3\n",
       "965949      3\n",
       "1161730     3\n",
       "911282      3\n",
       "941994      3\n",
       "1309848     3\n",
       "1354477     2\n",
       "1284958     2\n",
       "1233503     2\n",
       "1472760     2\n",
       "1319306     2\n",
       "1304409     2\n",
       "1128808     2\n",
       "1238515     2\n",
       "1106108     2\n",
       "1345513     2\n",
       "1013781     2\n",
       "1569648     2\n",
       "1233684     2\n",
       "1007432     2\n",
       "1251540     2\n",
       "1274410     2\n",
       "1267323     2\n",
       "1179128     2\n",
       "1233932     2\n",
       "986583      2\n",
       "1211340     2\n",
       "1367079     2\n",
       "1336199     2\n",
       "1389602     2\n",
       "1387799     2\n",
       "923998      2\n",
       "1572325     2\n",
       "1342340     2\n",
       "1307447     2\n",
       "1228077     2\n",
       "1416828     2\n",
       "1069426     2\n",
       "1343300     2\n",
       "1036319     2\n",
       "1317178     2\n",
       "1478154     2\n",
       "1313787     2\n",
       "1343825     2\n",
       "961900      2\n",
       "1201275     2\n",
       "1210668     2\n",
       "859400      2\n",
       "1365572     2\n",
       "1211445     2\n",
       "1319740     2\n",
       "1125867     2\n",
       "1484220     2\n",
       "1081327     2\n",
       "848657      2\n",
       "858300      2\n",
       "1048209     2\n",
       "1117596     2\n",
       "973383      2\n",
       "1237971     2\n",
       "1226307     2\n",
       "967395      2\n",
       "1237159     2\n",
       "1383309     2\n",
       "1285397     2\n",
       "1296263     2\n",
       "1071261     2\n",
       "1340542     2\n",
       "1188151     2\n",
       "1062526     2\n",
       "1210484     2\n",
       "1097571     2\n",
       "1266960     2\n",
       "1100188     2\n",
       "1082828     2\n",
       "927723      2\n",
       "1065561     2\n",
       "981015      2\n",
       "1245032     2\n",
       "888592      2\n",
       "1179351     2\n",
       "1081092     2\n",
       "1291426     2\n",
       "1203648     2\n",
       "1176971     2\n",
       "1108465     2\n",
       "951404      2\n",
       "1321149     2\n",
       "937115      2\n",
       "1194019     2\n",
       "1283327     2\n",
       "1362580     2\n",
       "945651      2\n",
       "1124527     2\n",
       "1328892     2\n",
       "1478386     2\n",
       "988240      2\n",
       "1068303     2\n",
       "1328054     2\n",
       "949896      2\n",
       "1196057     2\n",
       "1232257     2\n",
       "1243128     2\n",
       "1190440     2\n",
       "1218098     2\n",
       "1530432     2\n",
       "1252314     2\n",
       "1269633     2\n",
       "1199670     2\n",
       "941622      2\n",
       "1366127     2\n",
       "1556766     2\n",
       "1204730     2\n",
       "915736      2\n",
       "1439526     2\n",
       "947911      2\n",
       "1347166     2\n",
       "1339638     2\n",
       "1295758     2\n",
       "1320326     2\n",
       "1098210     2\n",
       "1209113     2\n",
       "1296418     2\n",
       "1356449     2\n",
       "1316775     2\n",
       "1260638     2\n",
       "1348255     2\n",
       "1313123     2\n",
       "1270106     2\n",
       "873690      2\n",
       "951048      2\n",
       "922002      2\n",
       "930343      2\n",
       "895204      2\n",
       "844623      2\n",
       "990985      2\n",
       "894501      2\n",
       "935830      2\n",
       "983930      2\n",
       "921660      2\n",
       "908660      2\n",
       "976033      2\n",
       "980201      2\n",
       "895944      2\n",
       "917978      2\n",
       "854803      2\n",
       "931191      2\n",
       "957718      2\n",
       "937356      2\n",
       "939382      2\n",
       "962011      2\n",
       "961021      2\n",
       "937036      2\n",
       "860772      2\n",
       "872593      2\n",
       "971189      2\n",
       "973039      2\n",
       "902404      2\n",
       "974840      2\n",
       "1000705     2\n",
       "902486      2\n",
       "932020      2\n",
       "930163      2\n",
       "998038      2\n",
       "1007659     2\n",
       "931581      2\n",
       "1016391     2\n",
       "958752      2\n",
       "945870      2\n",
       "971342      2\n",
       "1005663     2\n",
       "959349      2\n",
       "948929      2\n",
       "855262      2\n",
       "944842      2\n",
       "853499      2\n",
       "978293      2\n",
       "907304      2\n",
       "863494      2\n",
       "928215      2\n",
       "897072      2\n",
       "895843      2\n",
       "899865      2\n",
       "881680      2\n",
       "908325      2\n",
       "919244      2\n",
       "905504      2\n",
       "897693      2\n",
       "905678      2\n",
       "892262      2\n",
       "898496      2\n",
       "900138      2\n",
       "891189      2\n",
       "851333      2\n",
       "857629      2\n",
       "885214      2\n",
       "884524      2\n",
       "900056      2\n",
       "925589      2\n",
       "906702      2\n",
       "873534      2\n",
       "916852      2\n",
       "932312      2\n",
       "951717      2\n",
       "906387      2\n",
       "866723      2\n",
       "920964      2\n",
       "912910      2\n",
       "896668      2\n",
       "946223      2\n",
       "904031      2\n",
       "940085      2\n",
       "888641      2\n",
       "860064      2\n",
       "918060      2\n",
       "900018      2\n",
       "901101      2\n",
       "895953      2\n",
       "887069      2\n",
       "849133      2\n",
       "934690      2\n",
       "893381      2\n",
       "1233375     2\n",
       "1107607     2\n",
       "1046836     2\n",
       "1238073     2\n",
       "1250294     2\n",
       "932878      2\n",
       "1001658     2\n",
       "1128624     2\n",
       "1187254     2\n",
       "1065182     2\n",
       "1235248     2\n",
       "1008206     2\n",
       "1241123     2\n",
       "1221770     2\n",
       "941514      2\n",
       "1191834     2\n",
       "1196755     2\n",
       "983281      2\n",
       "960052      2\n",
       "1215590     2\n",
       "1105163     2\n",
       "1095085     2\n",
       "1280131     2\n",
       "1014179     2\n",
       "1180884     2\n",
       "1312209     2\n",
       "1018442     2\n",
       "958521      2\n",
       "1009165     2\n",
       "1167937     2\n",
       "1151183     2\n",
       "1086454     2\n",
       "961026      2\n",
       "1200903     2\n",
       "1088446     2\n",
       "1124805     2\n",
       "1240867     2\n",
       "855671      2\n",
       "951436      2\n",
       "901552      2\n",
       "1103102     2\n",
       "1299379     2\n",
       "1190494     2\n",
       "981818      2\n",
       "1129552     2\n",
       "993741      2\n",
       "985687      2\n",
       "913235      2\n",
       "1046011     2\n",
       "1057489     2\n",
       "1000088     2\n",
       "967412      2\n",
       "949066      2\n",
       "896473      2\n",
       "932292      2\n",
       "1045474     2\n",
       "957558      2\n",
       "952909      2\n",
       "1029856     2\n",
       "1039265     2\n",
       "960017      2\n",
       "1032657     2\n",
       "1035729     2\n",
       "1020469     2\n",
       "923401      2\n",
       "1036173     2\n",
       "939145      2\n",
       "943324      2\n",
       "997940      2\n",
       "1227013     2\n",
       "1022258     2\n",
       "890754      2\n",
       "1203559     2\n",
       "1169540     2\n",
       "924774      2\n",
       "1134037     2\n",
       "881070      2\n",
       "1073067     2\n",
       "1067087     2\n",
       "1059084     2\n",
       "1069423     2\n",
       "1117631     2\n",
       "995221      2\n",
       "939804      2\n",
       "982599      2\n",
       "1066762     2\n",
       "1043734     2\n",
       "891111      2\n",
       "1059014     2\n",
       "995512      2\n",
       "976341      2\n",
       "Name: count, dtype: int64"
      ]
     },
     "execution_count": 41,
     "metadata": {},
     "output_type": "execute_result"
    }
   ],
   "source": [
    "# 한 유저가 같은 대상을 몇 번이나 차단했는지\n",
    "duplicate_rows['user_id'].value_counts()\n",
    "# nunique() = 15개"
   ]
  },
  {
   "cell_type": "code",
   "execution_count": null,
   "id": "a5f5a33b",
   "metadata": {},
   "outputs": [
    {
     "data": {
      "text/html": [
       "<div>\n",
       "<style scoped>\n",
       "    .dataframe tbody tr th:only-of-type {\n",
       "        vertical-align: middle;\n",
       "    }\n",
       "\n",
       "    .dataframe tbody tr th {\n",
       "        vertical-align: top;\n",
       "    }\n",
       "\n",
       "    .dataframe thead th {\n",
       "        text-align: right;\n",
       "    }\n",
       "</style>\n",
       "<table border=\"1\" class=\"dataframe\">\n",
       "  <thead>\n",
       "    <tr style=\"text-align: right;\">\n",
       "      <th></th>\n",
       "      <th>id</th>\n",
       "      <th>reason</th>\n",
       "      <th>created_at</th>\n",
       "      <th>block_user_id</th>\n",
       "      <th>user_id</th>\n",
       "    </tr>\n",
       "  </thead>\n",
       "  <tbody>\n",
       "    <tr>\n",
       "      <th>198</th>\n",
       "      <td>281</td>\n",
       "      <td>너무 많은 양의 질문을 보냄</td>\n",
       "      <td>2023-05-06 14:52:06</td>\n",
       "      <td>876207</td>\n",
       "      <td>889732</td>\n",
       "    </tr>\n",
       "    <tr>\n",
       "      <th>199</th>\n",
       "      <td>282</td>\n",
       "      <td>너무 많은 양의 질문을 보냄</td>\n",
       "      <td>2023-05-06 14:53:09</td>\n",
       "      <td>876207</td>\n",
       "      <td>889732</td>\n",
       "    </tr>\n",
       "    <tr>\n",
       "      <th>200</th>\n",
       "      <td>283</td>\n",
       "      <td>나랑 관련 없는 질문을 자꾸 보냄</td>\n",
       "      <td>2023-05-06 14:53:18</td>\n",
       "      <td>876207</td>\n",
       "      <td>889732</td>\n",
       "    </tr>\n",
       "    <tr>\n",
       "      <th>201</th>\n",
       "      <td>284</td>\n",
       "      <td>모르는 사람임</td>\n",
       "      <td>2023-05-06 14:53:33</td>\n",
       "      <td>876207</td>\n",
       "      <td>889732</td>\n",
       "    </tr>\n",
       "    <tr>\n",
       "      <th>203</th>\n",
       "      <td>286</td>\n",
       "      <td>너무 많은 양의 질문을 보냄</td>\n",
       "      <td>2023-05-06 14:54:09</td>\n",
       "      <td>876207</td>\n",
       "      <td>889732</td>\n",
       "    </tr>\n",
       "    <tr>\n",
       "      <th>204</th>\n",
       "      <td>287</td>\n",
       "      <td>나랑 관련 없는 질문을 자꾸 보냄</td>\n",
       "      <td>2023-05-06 14:54:17</td>\n",
       "      <td>876207</td>\n",
       "      <td>889732</td>\n",
       "    </tr>\n",
       "    <tr>\n",
       "      <th>205</th>\n",
       "      <td>288</td>\n",
       "      <td>너무 많은 양의 질문을 보냄</td>\n",
       "      <td>2023-05-06 14:54:53</td>\n",
       "      <td>876207</td>\n",
       "      <td>889732</td>\n",
       "    </tr>\n",
       "    <tr>\n",
       "      <th>206</th>\n",
       "      <td>290</td>\n",
       "      <td>너무 많은 양의 질문을 보냄</td>\n",
       "      <td>2023-05-06 14:56:13</td>\n",
       "      <td>876207</td>\n",
       "      <td>889732</td>\n",
       "    </tr>\n",
       "    <tr>\n",
       "      <th>207</th>\n",
       "      <td>291</td>\n",
       "      <td>너무 많은 양의 질문을 보냄</td>\n",
       "      <td>2023-05-06 14:57:09</td>\n",
       "      <td>876207</td>\n",
       "      <td>889732</td>\n",
       "    </tr>\n",
       "    <tr>\n",
       "      <th>209</th>\n",
       "      <td>293</td>\n",
       "      <td>너무 많은 양의 질문을 보냄</td>\n",
       "      <td>2023-05-06 14:58:34</td>\n",
       "      <td>876207</td>\n",
       "      <td>889732</td>\n",
       "    </tr>\n",
       "    <tr>\n",
       "      <th>212</th>\n",
       "      <td>296</td>\n",
       "      <td>나랑 관련 없는 질문을 자꾸 보냄</td>\n",
       "      <td>2023-05-06 14:59:05</td>\n",
       "      <td>876207</td>\n",
       "      <td>889732</td>\n",
       "    </tr>\n",
       "    <tr>\n",
       "      <th>213</th>\n",
       "      <td>297</td>\n",
       "      <td>너무 많은 양의 질문을 보냄</td>\n",
       "      <td>2023-05-06 14:59:49</td>\n",
       "      <td>876207</td>\n",
       "      <td>889732</td>\n",
       "    </tr>\n",
       "    <tr>\n",
       "      <th>214</th>\n",
       "      <td>298</td>\n",
       "      <td>너무 많은 양의 질문을 보냄</td>\n",
       "      <td>2023-05-06 14:59:54</td>\n",
       "      <td>876207</td>\n",
       "      <td>889732</td>\n",
       "    </tr>\n",
       "    <tr>\n",
       "      <th>215</th>\n",
       "      <td>299</td>\n",
       "      <td>너무 많은 양의 질문을 보냄</td>\n",
       "      <td>2023-05-06 15:00:33</td>\n",
       "      <td>876207</td>\n",
       "      <td>889732</td>\n",
       "    </tr>\n",
       "    <tr>\n",
       "      <th>216</th>\n",
       "      <td>300</td>\n",
       "      <td>너무 많은 양의 질문을 보냄</td>\n",
       "      <td>2023-05-06 15:00:53</td>\n",
       "      <td>876207</td>\n",
       "      <td>889732</td>\n",
       "    </tr>\n",
       "    <tr>\n",
       "      <th>217</th>\n",
       "      <td>301</td>\n",
       "      <td>너무 많은 양의 질문을 보냄</td>\n",
       "      <td>2023-05-06 15:01:03</td>\n",
       "      <td>876207</td>\n",
       "      <td>889732</td>\n",
       "    </tr>\n",
       "    <tr>\n",
       "      <th>219</th>\n",
       "      <td>303</td>\n",
       "      <td>너무 많은 양의 질문을 보냄</td>\n",
       "      <td>2023-05-06 15:02:19</td>\n",
       "      <td>876207</td>\n",
       "      <td>889732</td>\n",
       "    </tr>\n",
       "    <tr>\n",
       "      <th>220</th>\n",
       "      <td>305</td>\n",
       "      <td>너무 많은 양의 질문을 보냄</td>\n",
       "      <td>2023-05-06 15:03:27</td>\n",
       "      <td>876207</td>\n",
       "      <td>889732</td>\n",
       "    </tr>\n",
       "    <tr>\n",
       "      <th>221</th>\n",
       "      <td>307</td>\n",
       "      <td>너무 많은 양의 질문을 보냄</td>\n",
       "      <td>2023-05-06 15:04:59</td>\n",
       "      <td>876207</td>\n",
       "      <td>889732</td>\n",
       "    </tr>\n",
       "    <tr>\n",
       "      <th>233</th>\n",
       "      <td>325</td>\n",
       "      <td>너무 많은 양의 질문을 보냄</td>\n",
       "      <td>2023-05-06 15:22:22</td>\n",
       "      <td>876207</td>\n",
       "      <td>889732</td>\n",
       "    </tr>\n",
       "  </tbody>\n",
       "</table>\n",
       "</div>"
      ],
      "text/plain": [
       "      id              reason          created_at  block_user_id  user_id\n",
       "198  281     너무 많은 양의 질문을 보냄 2023-05-06 14:52:06         876207   889732\n",
       "199  282     너무 많은 양의 질문을 보냄 2023-05-06 14:53:09         876207   889732\n",
       "200  283  나랑 관련 없는 질문을 자꾸 보냄 2023-05-06 14:53:18         876207   889732\n",
       "201  284             모르는 사람임 2023-05-06 14:53:33         876207   889732\n",
       "203  286     너무 많은 양의 질문을 보냄 2023-05-06 14:54:09         876207   889732\n",
       "204  287  나랑 관련 없는 질문을 자꾸 보냄 2023-05-06 14:54:17         876207   889732\n",
       "205  288     너무 많은 양의 질문을 보냄 2023-05-06 14:54:53         876207   889732\n",
       "206  290     너무 많은 양의 질문을 보냄 2023-05-06 14:56:13         876207   889732\n",
       "207  291     너무 많은 양의 질문을 보냄 2023-05-06 14:57:09         876207   889732\n",
       "209  293     너무 많은 양의 질문을 보냄 2023-05-06 14:58:34         876207   889732\n",
       "212  296  나랑 관련 없는 질문을 자꾸 보냄 2023-05-06 14:59:05         876207   889732\n",
       "213  297     너무 많은 양의 질문을 보냄 2023-05-06 14:59:49         876207   889732\n",
       "214  298     너무 많은 양의 질문을 보냄 2023-05-06 14:59:54         876207   889732\n",
       "215  299     너무 많은 양의 질문을 보냄 2023-05-06 15:00:33         876207   889732\n",
       "216  300     너무 많은 양의 질문을 보냄 2023-05-06 15:00:53         876207   889732\n",
       "217  301     너무 많은 양의 질문을 보냄 2023-05-06 15:01:03         876207   889732\n",
       "219  303     너무 많은 양의 질문을 보냄 2023-05-06 15:02:19         876207   889732\n",
       "220  305     너무 많은 양의 질문을 보냄 2023-05-06 15:03:27         876207   889732\n",
       "221  307     너무 많은 양의 질문을 보냄 2023-05-06 15:04:59         876207   889732\n",
       "233  325     너무 많은 양의 질문을 보냄 2023-05-06 15:22:22         876207   889732"
      ]
     },
     "execution_count": 34,
     "metadata": {},
     "output_type": "execute_result"
    }
   ],
   "source": [
    "duplicate_rows[duplicate_rows['user_id'] == 889732]"
   ]
  },
  {
   "cell_type": "markdown",
   "id": "72d9ba38",
   "metadata": {},
   "source": [
    "- 중복을 제거하고 계산하기를 염두에 두고 진행"
   ]
  },
  {
   "cell_type": "code",
   "execution_count": null,
   "id": "14ca6830",
   "metadata": {},
   "outputs": [
    {
     "name": "stdout",
     "output_type": "stream",
     "text": [
      "NameError: name 'accounts_blockrecord_df' is not defined\n"
     ]
    }
   ],
   "source": [
    "%xdel accounts_blockrecord_df\n",
    "%xdel duplicate_rows"
   ]
  },
  {
   "cell_type": "markdown",
   "id": "294e7b6c",
   "metadata": {},
   "source": [
    "---\n",
    "---\n",
    "## 2.3 accounts_failpaymenthistory"
   ]
  },
  {
   "cell_type": "code",
   "execution_count": null,
   "id": "fc50ebd0",
   "metadata": {},
   "outputs": [],
   "source": [
    "accounts_failpaymenthistory_df = pd.read_parquet('./data/votes/accounts_failpaymenthistory.parquet')"
   ]
  },
  {
   "cell_type": "code",
   "execution_count": null,
   "id": "8ac0b532",
   "metadata": {},
   "outputs": [
    {
     "data": {
      "text/html": [
       "<div>\n",
       "<style scoped>\n",
       "    .dataframe tbody tr th:only-of-type {\n",
       "        vertical-align: middle;\n",
       "    }\n",
       "\n",
       "    .dataframe tbody tr th {\n",
       "        vertical-align: top;\n",
       "    }\n",
       "\n",
       "    .dataframe thead th {\n",
       "        text-align: right;\n",
       "    }\n",
       "</style>\n",
       "<table border=\"1\" class=\"dataframe\">\n",
       "  <thead>\n",
       "    <tr style=\"text-align: right;\">\n",
       "      <th></th>\n",
       "      <th>id</th>\n",
       "      <th>productId</th>\n",
       "      <th>phone_type</th>\n",
       "      <th>created_at</th>\n",
       "      <th>user_id</th>\n",
       "    </tr>\n",
       "  </thead>\n",
       "  <tbody>\n",
       "    <tr>\n",
       "      <th>0</th>\n",
       "      <td>6</td>\n",
       "      <td>heart.200</td>\n",
       "      <td>A</td>\n",
       "      <td>2023-05-14 05:49:22</td>\n",
       "      <td>1055891</td>\n",
       "    </tr>\n",
       "    <tr>\n",
       "      <th>1</th>\n",
       "      <td>7</td>\n",
       "      <td>heart.777</td>\n",
       "      <td>A</td>\n",
       "      <td>2023-05-14 08:17:21</td>\n",
       "      <td>1152151</td>\n",
       "    </tr>\n",
       "    <tr>\n",
       "      <th>2</th>\n",
       "      <td>8</td>\n",
       "      <td>heart.777</td>\n",
       "      <td>A</td>\n",
       "      <td>2023-05-14 10:11:46</td>\n",
       "      <td>986200</td>\n",
       "    </tr>\n",
       "    <tr>\n",
       "      <th>3</th>\n",
       "      <td>9</td>\n",
       "      <td>heart.1000</td>\n",
       "      <td>A</td>\n",
       "      <td>2023-05-14 11:53:09</td>\n",
       "      <td>1028261</td>\n",
       "    </tr>\n",
       "    <tr>\n",
       "      <th>4</th>\n",
       "      <td>10</td>\n",
       "      <td>heart.777</td>\n",
       "      <td>A</td>\n",
       "      <td>2023-05-14 12:30:47</td>\n",
       "      <td>1235730</td>\n",
       "    </tr>\n",
       "  </tbody>\n",
       "</table>\n",
       "</div>"
      ],
      "text/plain": [
       "   id   productId phone_type          created_at  user_id\n",
       "0   6   heart.200          A 2023-05-14 05:49:22  1055891\n",
       "1   7   heart.777          A 2023-05-14 08:17:21  1152151\n",
       "2   8   heart.777          A 2023-05-14 10:11:46   986200\n",
       "3   9  heart.1000          A 2023-05-14 11:53:09  1028261\n",
       "4  10   heart.777          A 2023-05-14 12:30:47  1235730"
      ]
     },
     "execution_count": 52,
     "metadata": {},
     "output_type": "execute_result"
    }
   ],
   "source": [
    "accounts_failpaymenthistory_df.head() # 163 행, 5 열"
   ]
  },
  {
   "cell_type": "code",
   "execution_count": null,
   "id": "01a0f234",
   "metadata": {},
   "outputs": [
    {
     "name": "stdout",
     "output_type": "stream",
     "text": [
      "<class 'pandas.core.frame.DataFrame'>\n",
      "RangeIndex: 163 entries, 0 to 162\n",
      "Data columns (total 5 columns):\n",
      " #   Column      Non-Null Count  Dtype         \n",
      "---  ------      --------------  -----         \n",
      " 0   id          163 non-null    int64         \n",
      " 1   productId   56 non-null     object        \n",
      " 2   phone_type  163 non-null    object        \n",
      " 3   created_at  163 non-null    datetime64[ns]\n",
      " 4   user_id     163 non-null    int64         \n",
      "dtypes: datetime64[ns](1), int64(2), object(2)\n",
      "memory usage: 6.5+ KB\n"
     ]
    }
   ],
   "source": [
    "accounts_failpaymenthistory_df.info()"
   ]
  },
  {
   "cell_type": "code",
   "execution_count": null,
   "id": "776eb230",
   "metadata": {},
   "outputs": [
    {
     "data": {
      "text/plain": [
       "0"
      ]
     },
     "execution_count": 69,
     "metadata": {},
     "output_type": "execute_result"
    }
   ],
   "source": [
    "accounts_failpaymenthistory_df['user_id'].isna().sum()"
   ]
  },
  {
   "cell_type": "code",
   "execution_count": null,
   "id": "6dba63d6",
   "metadata": {},
   "outputs": [
    {
     "name": "stdout",
     "output_type": "stream",
     "text": [
      "핸드폰 타입 수 : phone_type\n",
      "I    107\n",
      "A     56\n",
      "Name: count, dtype: int64\n",
      "productId가 null값인 핸드폰 타입 : phone_type\n",
      "I    107\n",
      "Name: count, dtype: int64\n"
     ]
    }
   ],
   "source": [
    "acc = accounts_failpaymenthistory_df[accounts_failpaymenthistory_df['productId'].isna()]\n",
    "print(\"핸드폰 타입 수 :\", accounts_failpaymenthistory_df['phone_type'].value_counts())\n",
    "print(\"productId가 null값인 핸드폰 타입 :\", acc['phone_type'].value_counts())\n",
    "\n",
    "# 모든 아이폰의 productId가 null값이다."
   ]
  },
  {
   "cell_type": "code",
   "execution_count": null,
   "id": "43a3c0e7",
   "metadata": {},
   "outputs": [],
   "source": [
    "%xdel accounts_failpaymenthistory_df\n",
    "%xdel acc"
   ]
  },
  {
   "cell_type": "markdown",
   "id": "ed982531",
   "metadata": {},
   "source": [
    "---\n",
    "---\n",
    "## 2.4 accounts_friendrequest"
   ]
  },
  {
   "cell_type": "code",
   "execution_count": null,
   "id": "618fbd51",
   "metadata": {},
   "outputs": [],
   "source": [
    "accounts_friendrequest_df = pd.read_parquet('./data/votes/accounts_friendrequest.parquet')"
   ]
  },
  {
   "cell_type": "code",
   "execution_count": null,
   "id": "fee1be0e",
   "metadata": {},
   "outputs": [
    {
     "data": {
      "text/html": [
       "<div>\n",
       "<style scoped>\n",
       "    .dataframe tbody tr th:only-of-type {\n",
       "        vertical-align: middle;\n",
       "    }\n",
       "\n",
       "    .dataframe tbody tr th {\n",
       "        vertical-align: top;\n",
       "    }\n",
       "\n",
       "    .dataframe thead th {\n",
       "        text-align: right;\n",
       "    }\n",
       "</style>\n",
       "<table border=\"1\" class=\"dataframe\">\n",
       "  <thead>\n",
       "    <tr style=\"text-align: right;\">\n",
       "      <th></th>\n",
       "      <th>id</th>\n",
       "      <th>status</th>\n",
       "      <th>created_at</th>\n",
       "      <th>updated_at</th>\n",
       "      <th>receive_user_id</th>\n",
       "      <th>send_user_id</th>\n",
       "    </tr>\n",
       "  </thead>\n",
       "  <tbody>\n",
       "    <tr>\n",
       "      <th>0</th>\n",
       "      <td>7</td>\n",
       "      <td>P</td>\n",
       "      <td>2023-04-17 18:29:11</td>\n",
       "      <td>2023-04-17 18:29:11</td>\n",
       "      <td>831962</td>\n",
       "      <td>837521</td>\n",
       "    </tr>\n",
       "    <tr>\n",
       "      <th>1</th>\n",
       "      <td>10</td>\n",
       "      <td>A</td>\n",
       "      <td>2023-04-17 18:29:11</td>\n",
       "      <td>2023-04-22 06:02:53</td>\n",
       "      <td>832151</td>\n",
       "      <td>837521</td>\n",
       "    </tr>\n",
       "    <tr>\n",
       "      <th>2</th>\n",
       "      <td>11</td>\n",
       "      <td>A</td>\n",
       "      <td>2023-04-17 18:29:11</td>\n",
       "      <td>2023-04-18 19:28:41</td>\n",
       "      <td>832340</td>\n",
       "      <td>837521</td>\n",
       "    </tr>\n",
       "    <tr>\n",
       "      <th>3</th>\n",
       "      <td>13</td>\n",
       "      <td>A</td>\n",
       "      <td>2023-04-17 18:29:11</td>\n",
       "      <td>2023-04-19 11:05:04</td>\n",
       "      <td>833041</td>\n",
       "      <td>837521</td>\n",
       "    </tr>\n",
       "    <tr>\n",
       "      <th>4</th>\n",
       "      <td>20</td>\n",
       "      <td>P</td>\n",
       "      <td>2023-04-17 18:29:11</td>\n",
       "      <td>2023-04-17 18:29:11</td>\n",
       "      <td>834415</td>\n",
       "      <td>837521</td>\n",
       "    </tr>\n",
       "  </tbody>\n",
       "</table>\n",
       "</div>"
      ],
      "text/plain": [
       "   id status          created_at          updated_at  receive_user_id  \\\n",
       "0   7      P 2023-04-17 18:29:11 2023-04-17 18:29:11           831962   \n",
       "1  10      A 2023-04-17 18:29:11 2023-04-22 06:02:53           832151   \n",
       "2  11      A 2023-04-17 18:29:11 2023-04-18 19:28:41           832340   \n",
       "3  13      A 2023-04-17 18:29:11 2023-04-19 11:05:04           833041   \n",
       "4  20      P 2023-04-17 18:29:11 2023-04-17 18:29:11           834415   \n",
       "\n",
       "   send_user_id  \n",
       "0        837521  \n",
       "1        837521  \n",
       "2        837521  \n",
       "3        837521  \n",
       "4        837521  "
      ]
     },
     "execution_count": 72,
     "metadata": {},
     "output_type": "execute_result"
    }
   ],
   "source": [
    "accounts_friendrequest_df.head() # 17,147,175 행, 6 열\n",
    "# status = P:대기, A:수락, R:거절"
   ]
  },
  {
   "cell_type": "code",
   "execution_count": null,
   "id": "b942b408",
   "metadata": {},
   "outputs": [
    {
     "data": {
      "text/plain": [
       "id                 0\n",
       "status             0\n",
       "created_at         0\n",
       "updated_at         0\n",
       "receive_user_id    0\n",
       "send_user_id       0\n",
       "dtype: int64"
      ]
     },
     "execution_count": 73,
     "metadata": {},
     "output_type": "execute_result"
    }
   ],
   "source": [
    "accounts_friendrequest_df.isna().sum()"
   ]
  },
  {
   "cell_type": "code",
   "execution_count": null,
   "id": "1e5c29f0",
   "metadata": {},
   "outputs": [],
   "source": [
    "accounts_friendrequest_df['receive_user_id']."
   ]
  },
  {
   "cell_type": "code",
   "execution_count": null,
   "id": "7ff1c8bf",
   "metadata": {},
   "outputs": [],
   "source": [
    "accounts_friendrequest_df['send_user_id'].value_counts()"
   ]
  },
  {
   "cell_type": "code",
   "execution_count": null,
   "id": "7c6a83a2",
   "metadata": {},
   "outputs": [],
   "source": []
  },
  {
   "cell_type": "code",
   "execution_count": null,
   "id": "a47b1615",
   "metadata": {},
   "outputs": [],
   "source": []
  },
  {
   "cell_type": "code",
   "execution_count": null,
   "id": "af8b15e1",
   "metadata": {},
   "outputs": [],
   "source": []
  },
  {
   "cell_type": "code",
   "execution_count": null,
   "id": "686ed61d",
   "metadata": {},
   "outputs": [],
   "source": []
  },
  {
   "cell_type": "code",
   "execution_count": null,
   "id": "aa0e7636",
   "metadata": {},
   "outputs": [],
   "source": []
  },
  {
   "cell_type": "code",
   "execution_count": null,
   "id": "cda82aef",
   "metadata": {},
   "outputs": [],
   "source": []
  },
  {
   "cell_type": "code",
   "execution_count": null,
   "id": "af5a9306",
   "metadata": {},
   "outputs": [],
   "source": []
  },
  {
   "cell_type": "code",
   "execution_count": null,
   "id": "1049727a",
   "metadata": {},
   "outputs": [],
   "source": []
  },
  {
   "cell_type": "code",
   "execution_count": null,
   "id": "c364e235",
   "metadata": {},
   "outputs": [],
   "source": []
  },
  {
   "cell_type": "code",
   "execution_count": null,
   "id": "97ddd569",
   "metadata": {},
   "outputs": [],
   "source": []
  },
  {
   "cell_type": "code",
   "execution_count": null,
   "id": "d671014a",
   "metadata": {},
   "outputs": [],
   "source": []
  }
 ],
 "metadata": {
  "kernelspec": {
   "display_name": "base",
   "language": "python",
   "name": "python3"
  },
  "language_info": {
   "codemirror_mode": {
    "name": "ipython",
    "version": 3
   },
   "file_extension": ".py",
   "mimetype": "text/x-python",
   "name": "python",
   "nbconvert_exporter": "python",
   "pygments_lexer": "ipython3",
   "version": "3.12.7"
  }
 },
 "nbformat": 4,
 "nbformat_minor": 5
}
