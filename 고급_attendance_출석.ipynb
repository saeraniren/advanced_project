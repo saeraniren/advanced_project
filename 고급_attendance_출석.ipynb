{
 "cells": [
  {
   "cell_type": "code",
   "execution_count": 21,
   "id": "7ca871b7",
   "metadata": {},
   "outputs": [],
   "source": [
    "import pandas as pd\n",
    "import numpy as np\n",
    "import matplotlib.pyplot as plt\n",
    "import seaborn as sns\n",
    "import os\n",
    "import matplotlib.font_manager as fm\n",
    "\n",
    "# 폰트 경로 확인 및 설정\n",
    "font_path = '/usr/share/fonts/truetype/nanum/NanumGothic.ttf'  # 설치된 폰트 경로\n",
    "font_name = fm.FontProperties(fname=font_path).get_name()\n",
    "plt.rc('font', family=font_name)\n",
    "\n",
    "# 한글 깨짐 방지 - 마이너스 기호 처리\n",
    "plt.rcParams['axes.unicode_minus'] = False"
   ]
  },
  {
   "cell_type": "code",
   "execution_count": 22,
   "id": "59952aaa",
   "metadata": {},
   "outputs": [
    {
     "data": {
      "text/html": [
       "<div>\n",
       "<style scoped>\n",
       "    .dataframe tbody tr th:only-of-type {\n",
       "        vertical-align: middle;\n",
       "    }\n",
       "\n",
       "    .dataframe tbody tr th {\n",
       "        vertical-align: top;\n",
       "    }\n",
       "\n",
       "    .dataframe thead th {\n",
       "        text-align: right;\n",
       "    }\n",
       "</style>\n",
       "<table border=\"1\" class=\"dataframe\">\n",
       "  <thead>\n",
       "    <tr style=\"text-align: right;\">\n",
       "      <th></th>\n",
       "      <th>id</th>\n",
       "      <th>attendance_date_list</th>\n",
       "      <th>user_id</th>\n",
       "    </tr>\n",
       "  </thead>\n",
       "  <tbody>\n",
       "    <tr>\n",
       "      <th>0</th>\n",
       "      <td>1</td>\n",
       "      <td>[\"2023-05-27\", \"2023-05-28\", \"2023-05-29\", \"20...</td>\n",
       "      <td>1446852</td>\n",
       "    </tr>\n",
       "    <tr>\n",
       "      <th>1</th>\n",
       "      <td>2</td>\n",
       "      <td>[\"2023-05-27\", \"2023-05-29\", \"2023-05-30\", \"20...</td>\n",
       "      <td>1359398</td>\n",
       "    </tr>\n",
       "    <tr>\n",
       "      <th>2</th>\n",
       "      <td>3</td>\n",
       "      <td>[\"2023-05-27\", \"2023-05-29\", \"2023-05-30\", \"20...</td>\n",
       "      <td>1501542</td>\n",
       "    </tr>\n",
       "    <tr>\n",
       "      <th>3</th>\n",
       "      <td>4</td>\n",
       "      <td>[\"2023-05-27\", \"2023-05-28\", \"2023-05-29\", \"20...</td>\n",
       "      <td>1507767</td>\n",
       "    </tr>\n",
       "    <tr>\n",
       "      <th>4</th>\n",
       "      <td>5</td>\n",
       "      <td>[\"2023-05-27\", \"2023-05-28\", \"2023-05-29\", \"20...</td>\n",
       "      <td>1287453</td>\n",
       "    </tr>\n",
       "    <tr>\n",
       "      <th>...</th>\n",
       "      <td>...</td>\n",
       "      <td>...</td>\n",
       "      <td>...</td>\n",
       "    </tr>\n",
       "    <tr>\n",
       "      <th>349632</th>\n",
       "      <td>360501</td>\n",
       "      <td>[]</td>\n",
       "      <td>897005</td>\n",
       "    </tr>\n",
       "    <tr>\n",
       "      <th>349633</th>\n",
       "      <td>360502</td>\n",
       "      <td>[\"2024-05-09\"]</td>\n",
       "      <td>1407059</td>\n",
       "    </tr>\n",
       "    <tr>\n",
       "      <th>349634</th>\n",
       "      <td>360503</td>\n",
       "      <td>[\"2024-05-09\"]</td>\n",
       "      <td>1583727</td>\n",
       "    </tr>\n",
       "    <tr>\n",
       "      <th>349635</th>\n",
       "      <td>360504</td>\n",
       "      <td>[\"2024-05-09\"]</td>\n",
       "      <td>1392372</td>\n",
       "    </tr>\n",
       "    <tr>\n",
       "      <th>349636</th>\n",
       "      <td>360505</td>\n",
       "      <td>[\"2024-05-09\"]</td>\n",
       "      <td>1583730</td>\n",
       "    </tr>\n",
       "  </tbody>\n",
       "</table>\n",
       "<p>349637 rows × 3 columns</p>\n",
       "</div>"
      ],
      "text/plain": [
       "            id                               attendance_date_list  user_id\n",
       "0            1  [\"2023-05-27\", \"2023-05-28\", \"2023-05-29\", \"20...  1446852\n",
       "1            2  [\"2023-05-27\", \"2023-05-29\", \"2023-05-30\", \"20...  1359398\n",
       "2            3  [\"2023-05-27\", \"2023-05-29\", \"2023-05-30\", \"20...  1501542\n",
       "3            4  [\"2023-05-27\", \"2023-05-28\", \"2023-05-29\", \"20...  1507767\n",
       "4            5  [\"2023-05-27\", \"2023-05-28\", \"2023-05-29\", \"20...  1287453\n",
       "...        ...                                                ...      ...\n",
       "349632  360501                                                 []   897005\n",
       "349633  360502                                     [\"2024-05-09\"]  1407059\n",
       "349634  360503                                     [\"2024-05-09\"]  1583727\n",
       "349635  360504                                     [\"2024-05-09\"]  1392372\n",
       "349636  360505                                     [\"2024-05-09\"]  1583730\n",
       "\n",
       "[349637 rows x 3 columns]"
      ]
     },
     "execution_count": 22,
     "metadata": {},
     "output_type": "execute_result"
    }
   ],
   "source": [
    "import os\n",
    "\n",
    "# 서비스 계정 키 경로 설정\n",
    "os.environ[\"GOOGLE_APPLICATION_CREDENTIALS\"] = r\"/home/eunyu/sprintda05-eunyu-a9946f7dea9c.json\"\n",
    "\n",
    "# GCS의 Parquet 파일 경로\n",
    "gcs_path = 'gs://final_project_enuyu/data/final_project/votes/accounts_attendance.parquet'\n",
    "\n",
    "# 데이터 불러오기\n",
    "attendance_df = pd.read_parquet(gcs_path, engine='pyarrow')\n",
    "attendance_df"
   ]
  },
  {
   "cell_type": "code",
   "execution_count": 23,
   "id": "2c86f3a3",
   "metadata": {},
   "outputs": [
    {
     "name": "stdout",
     "output_type": "stream",
     "text": [
      "<class 'pandas.core.frame.DataFrame'>\n",
      "RangeIndex: 349637 entries, 0 to 349636\n",
      "Data columns (total 3 columns):\n",
      " #   Column                Non-Null Count   Dtype \n",
      "---  ------                --------------   ----- \n",
      " 0   id                    349637 non-null  int64 \n",
      " 1   attendance_date_list  349637 non-null  object\n",
      " 2   user_id               349637 non-null  int64 \n",
      "dtypes: int64(2), object(1)\n",
      "memory usage: 8.0+ MB\n"
     ]
    }
   ],
   "source": [
    "attendance_df.info()"
   ]
  },
  {
   "cell_type": "code",
   "execution_count": 24,
   "id": "3d65d52d",
   "metadata": {},
   "outputs": [
    {
     "data": {
      "text/html": [
       "<div>\n",
       "<style scoped>\n",
       "    .dataframe tbody tr th:only-of-type {\n",
       "        vertical-align: middle;\n",
       "    }\n",
       "\n",
       "    .dataframe tbody tr th {\n",
       "        vertical-align: top;\n",
       "    }\n",
       "\n",
       "    .dataframe thead th {\n",
       "        text-align: right;\n",
       "    }\n",
       "</style>\n",
       "<table border=\"1\" class=\"dataframe\">\n",
       "  <thead>\n",
       "    <tr style=\"text-align: right;\">\n",
       "      <th></th>\n",
       "      <th>id</th>\n",
       "      <th>attendance_date_list</th>\n",
       "      <th>user_id</th>\n",
       "    </tr>\n",
       "  </thead>\n",
       "  <tbody>\n",
       "    <tr>\n",
       "      <th>count</th>\n",
       "      <td>349637.000000</td>\n",
       "      <td>349637</td>\n",
       "      <td>3.496370e+05</td>\n",
       "    </tr>\n",
       "    <tr>\n",
       "      <th>unique</th>\n",
       "      <td>NaN</td>\n",
       "      <td>128837</td>\n",
       "      <td>NaN</td>\n",
       "    </tr>\n",
       "    <tr>\n",
       "      <th>top</th>\n",
       "      <td>NaN</td>\n",
       "      <td>[]</td>\n",
       "      <td>NaN</td>\n",
       "    </tr>\n",
       "    <tr>\n",
       "      <th>freq</th>\n",
       "      <td>NaN</td>\n",
       "      <td>20945</td>\n",
       "      <td>NaN</td>\n",
       "    </tr>\n",
       "    <tr>\n",
       "      <th>mean</th>\n",
       "      <td>180550.143772</td>\n",
       "      <td>NaN</td>\n",
       "      <td>1.247187e+06</td>\n",
       "    </tr>\n",
       "    <tr>\n",
       "      <th>std</th>\n",
       "      <td>104168.322237</td>\n",
       "      <td>NaN</td>\n",
       "      <td>2.127986e+05</td>\n",
       "    </tr>\n",
       "    <tr>\n",
       "      <th>min</th>\n",
       "      <td>1.000000</td>\n",
       "      <td>NaN</td>\n",
       "      <td>8.321510e+05</td>\n",
       "    </tr>\n",
       "    <tr>\n",
       "      <th>25%</th>\n",
       "      <td>90432.000000</td>\n",
       "      <td>NaN</td>\n",
       "      <td>1.065813e+06</td>\n",
       "    </tr>\n",
       "    <tr>\n",
       "      <th>50%</th>\n",
       "      <td>180749.000000</td>\n",
       "      <td>NaN</td>\n",
       "      <td>1.261234e+06</td>\n",
       "    </tr>\n",
       "    <tr>\n",
       "      <th>75%</th>\n",
       "      <td>270674.000000</td>\n",
       "      <td>NaN</td>\n",
       "      <td>1.437486e+06</td>\n",
       "    </tr>\n",
       "    <tr>\n",
       "      <th>max</th>\n",
       "      <td>360505.000000</td>\n",
       "      <td>NaN</td>\n",
       "      <td>1.583730e+06</td>\n",
       "    </tr>\n",
       "  </tbody>\n",
       "</table>\n",
       "</div>"
      ],
      "text/plain": [
       "                   id attendance_date_list       user_id\n",
       "count   349637.000000               349637  3.496370e+05\n",
       "unique            NaN               128837           NaN\n",
       "top               NaN                   []           NaN\n",
       "freq              NaN                20945           NaN\n",
       "mean    180550.143772                  NaN  1.247187e+06\n",
       "std     104168.322237                  NaN  2.127986e+05\n",
       "min          1.000000                  NaN  8.321510e+05\n",
       "25%      90432.000000                  NaN  1.065813e+06\n",
       "50%     180749.000000                  NaN  1.261234e+06\n",
       "75%     270674.000000                  NaN  1.437486e+06\n",
       "max     360505.000000                  NaN  1.583730e+06"
      ]
     },
     "execution_count": 24,
     "metadata": {},
     "output_type": "execute_result"
    }
   ],
   "source": [
    "attendance_df.describe(include=\"all\")"
   ]
  },
  {
   "cell_type": "code",
   "execution_count": 25,
   "id": "d176109b",
   "metadata": {},
   "outputs": [
    {
     "data": {
      "text/plain": [
       "id                      0\n",
       "attendance_date_list    0\n",
       "user_id                 0\n",
       "dtype: int64"
      ]
     },
     "execution_count": 25,
     "metadata": {},
     "output_type": "execute_result"
    }
   ],
   "source": [
    "attendance_df.isnull().sum()"
   ]
  },
  {
   "cell_type": "code",
   "execution_count": 26,
   "id": "bc697666",
   "metadata": {},
   "outputs": [
    {
     "data": {
      "text/plain": [
       "(       user_id  attendance_count\n",
       " 38551  1499325               310\n",
       " 30166  1314665               302\n",
       " 21940  1467385               277\n",
       " 8741   1491003               274\n",
       " 11678  1467221               273,\n",
       "         user_id  attendance_count\n",
       " 268832  1555146                 0\n",
       " 24140   1438566                 0\n",
       " 315638  1573222                 0\n",
       " 315640  1573131                 0\n",
       " 172434  1117953                 0,\n",
       " count    349637.000000\n",
       " mean          6.356098\n",
       " std           9.158459\n",
       " min           0.000000\n",
       " 25%           1.000000\n",
       " 50%           3.000000\n",
       " 75%           8.000000\n",
       " max         310.000000\n",
       " Name: attendance_count, dtype: float64)"
      ]
     },
     "execution_count": 26,
     "metadata": {},
     "output_type": "execute_result"
    }
   ],
   "source": [
    "import ast\n",
    "\n",
    "# 리스트 문자열을 실제 리스트로 변환\n",
    "attendance_df['attendance_parsed'] = attendance_df['attendance_date_list'].apply(lambda x: ast.literal_eval(x))\n",
    "\n",
    "# 출결 일수 컬럼 생성\n",
    "attendance_df['attendance_count'] = attendance_df['attendance_parsed'].apply(len)\n",
    "\n",
    "# 출결 일수 상위 5명 및 하위 5명\n",
    "top_attendees = attendance_df.sort_values(by='attendance_count', ascending=False).head()\n",
    "bottom_attendees = attendance_df.sort_values(by='attendance_count', ascending=True).head()\n",
    "\n",
    "# 출결 일수 통계 요약\n",
    "attendance_count_summary = attendance_df['attendance_count'].describe()\n",
    "\n",
    "(top_attendees[['user_id', 'attendance_count']],\n",
    " bottom_attendees[['user_id', 'attendance_count']],\n",
    " attendance_count_summary)"
   ]
  },
  {
   "cell_type": "markdown",
   "id": "9094183e",
   "metadata": {},
   "source": [
    "### 출결일수 분포"
   ]
  },
  {
   "cell_type": "code",
   "execution_count": 27,
   "id": "a42d3a41",
   "metadata": {},
   "outputs": [
    {
     "data": {
      "image/png": "[encoded data removed]",
      "text/plain": [
       "<Figure size 1000x600 with 1 Axes>"
      ]
     },
     "metadata": {},
     "output_type": "display_data"
    }
   ],
   "source": [
    "plt.figure(figsize=(10, 6))\n",
    "attendance_df['attendance_count'].hist(bins=50)\n",
    "plt.title(\"사용자별 출석 수 분포\")\n",
    "plt.xlabel(\"출석 수\")\n",
    "plt.ylabel(\"레코드 수\")\n",
    "plt.grid(True)\n",
    "plt.show()"
   ]
  },
  {
   "cell_type": "markdown",
   "id": "08fcfbb4",
   "metadata": {},
   "source": [
    " 1. 출석 수 분포\n",
    "- 대부분의 사용자는 출석 수가 0~10일 사이에 분포함.\n",
    "- 롱테일 분포 형태로 일부 사용자만 매우 많은 출석 기록을 가짐.\n",
    "- 출석 수 50일 이상은 거의 없음.\n",
    "\n"
   ]
  },
  {
   "cell_type": "code",
   "execution_count": 28,
   "id": "b043b88c",
   "metadata": {},
   "outputs": [
    {
     "data": {
      "text/plain": [
       "(20945, 0.059904987172410246)"
      ]
     },
     "execution_count": 28,
     "metadata": {},
     "output_type": "execute_result"
    }
   ],
   "source": [
    "# 2. 출결이 아예 없는 유저 비율 확인 ([] 빈 리스트)\n",
    "no_attendance_count = (attendance_df['attendance_count'] == 0).sum()\n",
    "no_attendance_ratio = no_attendance_count / len(attendance_df)\n",
    "\n",
    "no_attendance_count, no_attendance_ratio\n"
   ]
  },
  {
   "cell_type": "markdown",
   "id": "32d69d9e",
   "metadata": {},
   "source": [
    "2. 출석 0회 사용자 비율\n",
    "- 출석 0회 사용자 수: 20,945명\n",
    "- 전체 대비 약 5.96%의 사용자가 출석 기록 없음."
   ]
  },
  {
   "cell_type": "code",
   "execution_count": 29,
   "id": "9df7b72c",
   "metadata": {},
   "outputs": [
    {
     "data": {
      "text/plain": [
       "count    349637.000000\n",
       "mean          6.356098\n",
       "std           9.158459\n",
       "min           0.000000\n",
       "25%           1.000000\n",
       "50%           3.000000\n",
       "75%           8.000000\n",
       "max         310.000000\n",
       "Name: total_attendance, dtype: float64"
      ]
     },
     "execution_count": 29,
     "metadata": {},
     "output_type": "execute_result"
    }
   ],
   "source": [
    "# 3. 유저 기준으로 그룹화한 출결 횟수 통계 (유저별로 여러 기록이 있을 수도 있으므로)\n",
    "user_summary = attendance_df.groupby('user_id')['attendance_count'].sum().reset_index(name='total_attendance')\n",
    "user_summary_stats = user_summary['total_attendance'].describe()\n",
    "\n",
    "user_summary_stats"
   ]
  },
  {
   "cell_type": "code",
   "execution_count": 30,
   "id": "a49b8786",
   "metadata": {},
   "outputs": [
    {
     "data": {
      "text/plain": [
       "(        user_id  total_attendance\n",
       " 297587  1499325               310\n",
       " 199839  1314665               302\n",
       " 278948  1467385               277\n",
       " 292760  1491003               274\n",
       " 278858  1467221               273,\n",
       "         user_id  total_attendance\n",
       " 180378  1273588                 0\n",
       " 157892  1224577                 0\n",
       " 66634   1016516                 0\n",
       " 288542  1483848                 0\n",
       " 288553  1483865                 0)"
      ]
     },
     "execution_count": 30,
     "metadata": {},
     "output_type": "execute_result"
    }
   ],
   "source": [
    "# 4. 출결일수 기준 상위/하위 유저 추출\n",
    "top_users = user_summary.sort_values(by='total_attendance', ascending=False).head()\n",
    "bottom_users = user_summary.sort_values(by='total_attendance', ascending=True).head()\n",
    "\n",
    "top_users, bottom_users"
   ]
  },
  {
   "cell_type": "markdown",
   "id": "390fb9e7",
   "metadata": {},
   "source": [
    "#### 일부 사용자만 매우 많은 출석 기록"
   ]
  },
  {
   "cell_type": "code",
   "execution_count": 31,
   "id": "04387a68",
   "metadata": {},
   "outputs": [
    {
     "data": {
      "image/png": "[encoded data removed]",
      "text/plain": [
       "<Figure size 1000x600 with 1 Axes>"
      ]
     },
     "metadata": {},
     "output_type": "display_data"
    }
   ],
   "source": [
    "# 출석 수 분포 로그 스케일로 시각화\n",
    "\n",
    "plt.figure(figsize=(10, 6))\n",
    "plt.hist(user_summary['total_attendance'], bins=100, log=True)\n",
    "plt.title('사용자당 총 참석자의 로그 스케일 분포')\n",
    "plt.xlabel('총 참석자 수')\n",
    "plt.ylabel('로그 스케일 사용자 수')\n",
    "plt.grid(True)\n",
    "plt.show()\n"
   ]
  },
  {
   "cell_type": "code",
   "execution_count": 32,
   "id": "9adbccf6",
   "metadata": {},
   "outputs": [
    {
     "name": "stdout",
     "output_type": "stream",
     "text": [
      "상위 1% 기준 출석 수: 41.0\n",
      "상위 1% 사용자 수: 3639\n",
      "전체 사용자 대비 비율: 1.04%\n"
     ]
    }
   ],
   "source": [
    "# 상위 1% 기준 출석 수\n",
    "threshold_99 = user_summary['total_attendance'].quantile(0.99)\n",
    "\n",
    "# 상위 1% 사용자 수\n",
    "top_1_percent_count = (user_summary['total_attendance'] >= threshold_99).sum()\n",
    "\n",
    "# 전체 대비 비율\n",
    "top_1_percent_ratio = top_1_percent_count / len(user_summary)\n",
    "\n",
    "print(f\"상위 1% 기준 출석 수: {threshold_99}\")\n",
    "print(f\"상위 1% 사용자 수: {top_1_percent_count}\")\n",
    "print(f\"전체 사용자 대비 비율: {top_1_percent_ratio:.2%}\")"
   ]
  },
  {
   "cell_type": "markdown",
   "id": "30feac88",
   "metadata": {},
   "source": [
    "### 상위 vs 전체 사용자 요일별 출석 비교"
   ]
  },
  {
   "cell_type": "code",
   "execution_count": 33,
   "id": "477d2301",
   "metadata": {},
   "outputs": [],
   "source": [
    "# 상위 1% 유저 ID 리스트 추출\n",
    "top_users_list = user_summary[user_summary['total_attendance'] >= 41]['user_id']\n"
   ]
  },
  {
   "cell_type": "code",
   "execution_count": 34,
   "id": "c92e656a",
   "metadata": {},
   "outputs": [],
   "source": [
    "# 전체 데이터를 user_id 단위로 explode\n",
    "attendance_df['attendance_date'] = attendance_df['attendance_parsed'].apply(lambda x: pd.to_datetime(x))\n",
    "df_exploded = attendance_df[['user_id', 'attendance_date']].explode('attendance_date')"
   ]
  },
  {
   "cell_type": "code",
   "execution_count": 35,
   "id": "c4995ee0",
   "metadata": {},
   "outputs": [],
   "source": [
    "df_exploded['weekday'] = df_exploded['attendance_date'].dt.day_name()\n",
    "df_exploded['month'] = df_exploded['attendance_date'].dt.month"
   ]
  },
  {
   "cell_type": "code",
   "execution_count": 36,
   "id": "8c903114",
   "metadata": {},
   "outputs": [],
   "source": [
    "# 상위 사용자만 필터링\n",
    "df_top = df_exploded[df_exploded['user_id'].isin(top_users_list)]"
   ]
  },
  {
   "cell_type": "code",
   "execution_count": 37,
   "id": "1e82711f",
   "metadata": {},
   "outputs": [],
   "source": [
    "# 요일별 출석 수 비교\n",
    "weekday_total = df_exploded['weekday'].value_counts().sort_index()\n",
    "weekday_top = df_top['weekday'].value_counts().sort_index()"
   ]
  },
  {
   "cell_type": "code",
   "execution_count": 38,
   "id": "c02ea8b5",
   "metadata": {},
   "outputs": [
    {
     "data": {
      "image/png": "[encoded data removed]",
      "text/plain": [
       "<Figure size 1000x500 with 1 Axes>"
      ]
     },
     "metadata": {},
     "output_type": "display_data"
    }
   ],
   "source": [
    "# 시각화\n",
    "\n",
    "plt.figure(figsize=(10,5))\n",
    "plt.bar(weekday_total.index, weekday_total.values, label='전체', alpha=0.5)\n",
    "plt.bar(weekday_top.index, weekday_top.values, label='상위 1%', alpha=0.7)\n",
    "plt.title('요일별 출석 비교')\n",
    "plt.ylabel('출석 수')\n",
    "plt.legend()\n",
    "plt.grid(True)\n",
    "plt.show()"
   ]
  },
  {
   "cell_type": "markdown",
   "id": "9f73e77d",
   "metadata": {},
   "source": [
    "1. 월요일(Monday)과 화요일(Tuesday):\n",
    "- 전체 출석자 수가 가장 많음.\n",
    "- 상위 1% 사용자 역시 이틀 간 가장 활발하게 출석함.\n",
    "- 주말이 끝나고 출석이 활성화되는 패턴이 있음.\n",
    "2. 금요일(Friday)과 목요일(Thursday):\n",
    "- 전체 출석은 비교적 낮음.\n",
    "- 특히 목요일은 전체 출석 수가 가장 적음.\n",
    "3. 상위 1% 유저의 기여:\n",
    "- 요일에 상관없이 상위 1% 사용자의 출석 기여는 항상 일정 수준 유지됨.\n",
    "- 출석 수치의 절대값은 전체 사용자에 비해 작지만, 비율적으로는 일정하거나 요일에 따라 상대적으로 커질 수 있음."
   ]
  },
  {
   "cell_type": "code",
   "execution_count": null,
   "id": "ad7daa13",
   "metadata": {},
   "outputs": [],
   "source": []
  },
  {
   "cell_type": "code",
   "execution_count": 39,
   "id": "3c9bfd33",
   "metadata": {},
   "outputs": [
    {
     "data": {
      "image/png": "[encoded data removed]",
      "text/plain": [
       "<Figure size 1000x500 with 1 Axes>"
      ]
     },
     "metadata": {},
     "output_type": "display_data"
    }
   ],
   "source": [
    "month_total = df_exploded['month'].value_counts().sort_index()\n",
    "month_top = df_top['month'].value_counts().sort_index()\n",
    "\n",
    "plt.figure(figsize=(10,5))\n",
    "plt.plot(month_total.index, month_total.values, label='전체', marker='o')\n",
    "plt.plot(month_top.index, month_top.values, label='상위 1%', marker='o')\n",
    "plt.title('월별 출석 비교')\n",
    "plt.xlabel('월')\n",
    "plt.ylabel('출석 수')\n",
    "plt.legend()\n",
    "plt.grid(True)\n",
    "plt.show()\n"
   ]
  },
  {
   "cell_type": "code",
   "execution_count": null,
   "id": "155ef793",
   "metadata": {},
   "outputs": [],
   "source": []
  },
  {
   "cell_type": "code",
   "execution_count": null,
   "id": "d365d002",
   "metadata": {},
   "outputs": [],
   "source": []
  }
 ],
 "metadata": {
  "kernelspec": {
   "display_name": "Python 3",
   "language": "python",
   "name": "python3"
  },
  "language_info": {
   "codemirror_mode": {
    "name": "ipython",
    "version": 3
   },
   "file_extension": ".py",
   "mimetype": "text/x-python",
   "name": "python",
   "nbconvert_exporter": "python",
   "pygments_lexer": "ipython3",
   "version": "3.12.3"
  }
 },
 "nbformat": 4,
 "nbformat_minor": 5
}
