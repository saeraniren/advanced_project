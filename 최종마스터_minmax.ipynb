{
 "cells": [
  {
   "cell_type": "code",
   "execution_count": 1,
   "id": "2a0a67ae",
   "metadata": {},
   "outputs": [],
   "source": [
    "import pandas as pd\n",
    "import numpy as np\n",
    "import matplotlib.pyplot as plt\n",
    "import seaborn as sns\n",
    "import os\n",
    "import matplotlib.font_manager as fm\n",
    "import koreanize_matplotlib\n",
    "\n",
    "# 폰트 경로 확인 및 설정\n",
    "font_path = '/usr/share/fonts/truetype/nanum/NanumGothic.ttf'  # 설치된 폰트 경로\n",
    "font_name = fm.FontProperties(fname=font_path).get_name()\n",
    "plt.rc('font', family=font_name)\n",
    "\n",
    "# 한글 깨짐 방지 - 마이너스 기호 처리\n",
    "plt.rcParams['axes.unicode_minus'] = False"
   ]
  },
  {
   "cell_type": "code",
   "execution_count": 2,
   "id": "56f8be91",
   "metadata": {},
   "outputs": [
    {
     "data": {
      "text/plain": [
       "(   user_id  total_votes  unique_days  first_vote   last_vote  active_days  \\\n",
       " 0   838023           22            5  2023-04-29  2023-05-04            5   \n",
       " 1   838466          127            6  2023-05-02  2023-05-07            5   \n",
       " 2   838642            1            1  2023-04-29  2023-04-29            0   \n",
       " \n",
       "    cohort_day  retention_day8 ret_group ret_group_over ret_group_under gender  \\\n",
       " 0  2023-04-29        0.515152     50 이상          50 이상             NaN      F   \n",
       " 1  2023-05-02        0.569444     50 이상          50 이상             NaN      F   \n",
       " 2  2023-04-29        0.515152     50 이상          50 이상             NaN      F   \n",
       " \n",
       "    group_id  school_id  grade  \n",
       " 0     233.0      271.0    1.0  \n",
       " 1     321.0      369.0    2.0  \n",
       " 2     356.0      271.0    2.0  ,\n",
       "        id status           created_at  chosen_user_id  question_id  user_id  \\\n",
       " 0  771777      C  2023-04-28 12:27:49          849469          252   849436   \n",
       " 1  771800      C  2023-04-28 12:28:02          849446          244   849436   \n",
       " 2  771812      C  2023-04-28 12:28:09          849454          183   849436   \n",
       " \n",
       "    question_piece_id  has_read answer_status    answer_updated_at  \\\n",
       " 0             998458         0             N  2023-04-28 12:27:49   \n",
       " 1             998459         0             N  2023-04-28 12:28:02   \n",
       " 2             998460         1             N  2023-04-28 12:28:09   \n",
       " \n",
       "    report_count  opened_times  \n",
       " 0             0             0  \n",
       " 1             0             0  \n",
       " 2             0             0  )"
      ]
     },
     "execution_count": 2,
     "metadata": {},
     "output_type": "execute_result"
    }
   ],
   "source": [
    "master_df = pd.read_csv('/home/eunyu/최종 마스터 테이블(8일차)v2.csv')\n",
    "votes_df = pd.read_csv('/home/eunyu/accounts_userquestionrecord.csv')\n",
    "\n",
    "master_df.head(3), votes_df.head(3)"
   ]
  },
  {
   "cell_type": "code",
   "execution_count": 3,
   "id": "1dd45169",
   "metadata": {},
   "outputs": [
    {
     "data": {
      "text/plain": [
       "(Index(['user_id', 'total_votes', 'unique_days', 'first_vote', 'last_vote',\n",
       "        'active_days', 'cohort_day', 'retention_day8', 'ret_group',\n",
       "        'ret_group_over', 'ret_group_under', 'gender', 'group_id', 'school_id',\n",
       "        'grade'],\n",
       "       dtype='object'),\n",
       " Index(['id', 'status', 'created_at', 'chosen_user_id', 'question_id',\n",
       "        'user_id', 'question_piece_id', 'has_read', 'answer_status',\n",
       "        'answer_updated_at', 'report_count', 'opened_times'],\n",
       "       dtype='object'))"
      ]
     },
     "execution_count": 3,
     "metadata": {},
     "output_type": "execute_result"
    }
   ],
   "source": [
    "master_df.columns, votes_df.columns"
   ]
  },
  {
   "cell_type": "markdown",
   "id": "ed38cb72",
   "metadata": {},
   "source": [
    "## 하위지표\n",
    "### 이성에게 받은 투표 수"
   ]
  },
  {
   "cell_type": "code",
   "execution_count": 4,
   "id": "d67107e1",
   "metadata": {},
   "outputs": [],
   "source": [
    "# ─── 0-A. 코호트 구분을 min / max 로 재정의 ──────────────────\n",
    "ret_min = master_df[\"retention_day8\"].min()\n",
    "ret_max = master_df[\"retention_day8\"].max()\n",
    "\n",
    "# ↓ retention_day8 이 '최소'인 유저들  → low 그룹\n",
    "under_df = master_df[master_df[\"retention_day8\"] == ret_min]\n",
    "\n",
    "# ↓ retention_day8 이 '최대'인 유저들  → high 그룹\n",
    "over_df  = master_df[master_df[\"retention_day8\"] == ret_max]\n",
    "\n",
    "# 각 집단의 user_id 집합\n",
    "low_ids  = set(under_df[\"user_id\"])\n",
    "high_ids = set(over_df[\"user_id\"])"
   ]
  },
  {
   "cell_type": "code",
   "execution_count": 5,
   "id": "2f3ec19a",
   "metadata": {},
   "outputs": [
    {
     "name": "stdout",
     "output_type": "stream",
     "text": [
      "[High] 전체 76,994 · 이성 20,813 · 비율 27.03%\n",
      "[Low ] 전체 20,414 · 이성 4,822 · 비율 23.62%\n",
      "High-M  비율 32.52% | High-F  비율 23.34%\n",
      "Low-M   비율 25.54% | Low-F   비율 21.71%\n"
     ]
    }
   ],
   "source": [
    "# 0. 기본 준비\n",
    "gender_map = master_df[[\"user_id\", \"gender\"]]\n",
    "votes = (\n",
    "    votes_df\n",
    "      .merge(gender_map, on=\"user_id\", how=\"left\")\n",
    "      .merge(\n",
    "          gender_map.rename(columns={\"user_id\": \"chosen_user_id\",\n",
    "                                     \"gender\":  \"chosen_gender\"}),\n",
    "          on=\"chosen_user_id\", how=\"left\")\n",
    ")\n",
    "\n",
    "# 1. 전체 통계\n",
    "def cohort_stats(id_set: set[int]) -> tuple[int, int, float]:\n",
    "    rcv = votes[votes[\"chosen_user_id\"].isin(id_set)]\n",
    "    tot = len(rcv)\n",
    "    opp = len(rcv[rcv[\"gender\"] != rcv[\"chosen_gender\"]])\n",
    "    return tot, opp, round(opp / tot, 4) if tot else (0, 0, 0.0)\n",
    "\n",
    "# 2. 성별 세분화\n",
    "def cohort_gender_stats(ids: set[int], g: str, cohort: pd.DataFrame):\n",
    "    gender_ids = set(cohort[cohort[\"gender\"] == g][\"user_id\"])\n",
    "    return cohort_stats(ids & gender_ids)\n",
    "\n",
    "# 결과 출력\n",
    "(high_total, high_opp, high_ratio) = cohort_stats(high_ids)\n",
    "(low_total,  low_opp,  low_ratio)  = cohort_stats(low_ids)\n",
    "\n",
    "print(f\"[High] 전체 {high_total:,} · 이성 {high_opp:,} · 비율 {high_ratio:.2%}\")\n",
    "print(f\"[Low ] 전체 {low_total :,} · 이성 {low_opp :,} · 비율 {low_ratio :.2%}\")\n",
    "\n",
    "h_m_total, h_m_opp, h_m_ratio = cohort_gender_stats(high_ids, \"M\", over_df)\n",
    "h_f_total, h_f_opp, h_f_ratio = cohort_gender_stats(high_ids, \"F\", over_df)\n",
    "l_m_total, l_m_opp, l_m_ratio = cohort_gender_stats(low_ids,  \"M\", under_df)\n",
    "l_f_total, l_f_opp, l_f_ratio = cohort_gender_stats(low_ids,  \"F\", under_df)\n",
    "\n",
    "print(f\"High-M  비율 {h_m_ratio:.2%} | High-F  비율 {h_f_ratio:.2%}\")\n",
    "print(f\"Low-M   비율 {l_m_ratio:.2%} | Low-F   비율 {l_f_ratio:.2%}\")"
   ]
  },
  {
   "cell_type": "code",
   "execution_count": 7,
   "id": "fcb0c381",
   "metadata": {},
   "outputs": [
    {
     "data": {
      "image/png": "[encoded data removed]",
      "text/plain": [
       "<Figure size 800x500 with 1 Axes>"
      ]
     },
     "metadata": {},
     "output_type": "display_data"
    }
   ],
   "source": [
    "\n",
    "\n",
    "# ─── min/max 코호트 기준 비율 시각화 ─────────────────────────\n",
    "labels = ['Max Cohort', 'Min Cohort']  # 기준 명칭 변경\n",
    "ratios = [0.2703, 0.2362]              # min/max 기준 비율\n",
    "colors = ['#009688', '#ffc107']        # 색상은 유지\n",
    "\n",
    "# 막대 그래프\n",
    "plt.figure(figsize=(8, 5))\n",
    "bars = plt.bar(labels, ratios, color=colors)\n",
    "for bar, ratio in zip(bars, ratios):\n",
    "    plt.text(bar.get_x() + bar.get_width()/2, bar.get_height() + 0.005,\n",
    "             f\"{ratio:.2%}\", ha='center', fontsize=12)\n",
    "\n",
    "plt.ylim(0, 0.35)\n",
    "plt.title(\"이성에게 받은 투표 비율 (Max vs Min Cohort)\", fontsize=14)\n",
    "plt.ylabel(\"비율\", fontsize=12)\n",
    "plt.tight_layout()\n",
    "plt.show()\n"
   ]
  },
  {
   "cell_type": "code",
   "execution_count": 8,
   "id": "6f3ee903",
   "metadata": {},
   "outputs": [
    {
     "data": {
      "text/plain": [
       "{'Max Cohort': {'남자 유저 수': 89,\n",
       "  '여자 유저 수': 142,\n",
       "  '남자 유저당 평균 이성 투표 수': 113.18,\n",
       "  '여자 유저당 평균 이성 투표 수': 75.63},\n",
       " 'Min Cohort': {'남자 유저 수': 57,\n",
       "  '여자 유저 수': 62,\n",
       "  '남자 유저당 평균 이성 투표 수': 45.61,\n",
       "  '여자 유저당 평균 이성 투표 수': 35.84}}"
      ]
     },
     "execution_count": 8,
     "metadata": {},
     "output_type": "execute_result"
    }
   ],
   "source": [
    "\n",
    "# ───────────────────────────────────────────────\n",
    "# 1. 성별 정보가 포함된 votes_with_gender 생성\n",
    "#   - master_df : user_id, gender  포함\n",
    "#   - votes_df  : user_id(투표자), chosen_user_id(피투표자) 포함\n",
    "# ───────────────────────────────────────────────\n",
    "gender_map = master_df[['user_id', 'gender']]\n",
    "\n",
    "votes_with_gender = (\n",
    "    votes_df\n",
    "      .merge(gender_map,                           on='user_id',      how='left')  # 투표자 성별 → gender\n",
    "      .merge(gender_map.rename(\n",
    "             columns={'user_id': 'chosen_user_id',\n",
    "                      'gender':  'chosen_gender'}),\n",
    "             on='chosen_user_id',                 how='left')         # 피투표자 성별 → chosen_gender\n",
    ")\n",
    "\n",
    "# ───────────────────────────────────────────────\n",
    "# 2. 성별·코호트별 유저 집합\n",
    "# ───────────────────────────────────────────────\n",
    "high_male_ids   = over_df.loc[over_df['gender']=='M', 'user_id']\n",
    "high_female_ids = over_df.loc[over_df['gender']=='F', 'user_id']\n",
    "low_male_ids    = under_df.loc[under_df['gender']=='M', 'user_id']\n",
    "low_female_ids  = under_df.loc[under_df['gender']=='F', 'user_id']\n",
    "\n",
    "# ───────────────────────────────────────────────\n",
    "# 3. 집합별 이성에게 받은 투표만 필터\n",
    "# ───────────────────────────────────────────────\n",
    "def opposite_votes(df, id_series):\n",
    "    return df[\n",
    "        (df['chosen_user_id'].isin(id_series)) &\n",
    "        (df['gender'] != df['chosen_gender'])\n",
    "    ]\n",
    "\n",
    "high_male_received   = opposite_votes(votes_with_gender, high_male_ids)\n",
    "high_female_received = opposite_votes(votes_with_gender, high_female_ids)\n",
    "low_male_received    = opposite_votes(votes_with_gender, low_male_ids)\n",
    "low_female_received  = opposite_votes(votes_with_gender, low_female_ids)\n",
    "\n",
    "# ───────────────────────────────────────────────\n",
    "# 4. 유저당 평균 이성 투표 수 계산\n",
    "# ───────────────────────────────────────────────\n",
    "avg_high_male   = len(high_male_received)   / len(high_male_ids)\n",
    "avg_high_female = len(high_female_received) / len(high_female_ids)\n",
    "avg_low_male    = len(low_male_received)    / len(low_male_ids)\n",
    "avg_low_female  = len(low_female_received)  / len(low_female_ids)\n",
    "\n",
    "summary = {\n",
    "    \"Max Cohort\": {\n",
    "        \"남자 유저 수\": len(high_male_ids),\n",
    "        \"여자 유저 수\": len(high_female_ids),\n",
    "        \"남자 유저당 평균 이성 투표 수\": round(avg_high_male,   2),\n",
    "        \"여자 유저당 평균 이성 투표 수\": round(avg_high_female, 2)\n",
    "    },\n",
    "    \"Min Cohort\": {\n",
    "        \"남자 유저 수\": len(low_male_ids),\n",
    "        \"여자 유저 수\": len(low_female_ids),\n",
    "        \"남자 유저당 평균 이성 투표 수\": round(avg_low_male,    2),\n",
    "        \"여자 유저당 평균 이성 투표 수\": round(avg_low_female,  2)\n",
    "    }\n",
    "}\n",
    "\n",
    "\n",
    "summary\n"
   ]
  },
  {
   "cell_type": "code",
   "execution_count": null,
   "id": "01166a5f",
   "metadata": {},
   "outputs": [],
   "source": []
  },
  {
   "cell_type": "code",
   "execution_count": null,
   "id": "dccd7676",
   "metadata": {},
   "outputs": [],
   "source": []
  },
  {
   "cell_type": "code",
   "execution_count": null,
   "id": "2e531f07",
   "metadata": {},
   "outputs": [],
   "source": []
  },
  {
   "cell_type": "code",
   "execution_count": null,
   "id": "1db260ad",
   "metadata": {},
   "outputs": [],
   "source": []
  },
  {
   "cell_type": "code",
   "execution_count": null,
   "id": "a925f9d5",
   "metadata": {},
   "outputs": [],
   "source": []
  },
  {
   "cell_type": "code",
   "execution_count": null,
   "id": "236dc861",
   "metadata": {},
   "outputs": [],
   "source": []
  },
  {
   "cell_type": "code",
   "execution_count": null,
   "id": "5aa94595",
   "metadata": {},
   "outputs": [],
   "source": []
  },
  {
   "cell_type": "code",
   "execution_count": null,
   "id": "eaa7b0a6",
   "metadata": {},
   "outputs": [],
   "source": []
  },
  {
   "cell_type": "code",
   "execution_count": null,
   "id": "74020b6b",
   "metadata": {},
   "outputs": [],
   "source": []
  },
  {
   "cell_type": "code",
   "execution_count": null,
   "id": "2cca5498",
   "metadata": {},
   "outputs": [],
   "source": []
  },
  {
   "cell_type": "code",
   "execution_count": null,
   "id": "79f7fde8",
   "metadata": {},
   "outputs": [],
   "source": []
  },
  {
   "cell_type": "code",
   "execution_count": null,
   "id": "c2c33dbe",
   "metadata": {},
   "outputs": [],
   "source": []
  },
  {
   "cell_type": "code",
   "execution_count": null,
   "id": "3bcdd0e9",
   "metadata": {},
   "outputs": [],
   "source": []
  },
  {
   "cell_type": "code",
   "execution_count": null,
   "id": "a921b461",
   "metadata": {},
   "outputs": [],
   "source": []
  },
  {
   "cell_type": "code",
   "execution_count": null,
   "id": "023ef361",
   "metadata": {},
   "outputs": [],
   "source": []
  },
  {
   "cell_type": "code",
   "execution_count": null,
   "id": "e3d0d7b8",
   "metadata": {},
   "outputs": [],
   "source": []
  },
  {
   "cell_type": "code",
   "execution_count": null,
   "id": "6cab51c3",
   "metadata": {},
   "outputs": [],
   "source": []
  },
  {
   "cell_type": "code",
   "execution_count": null,
   "id": "bdcf3676",
   "metadata": {},
   "outputs": [],
   "source": []
  },
  {
   "cell_type": "code",
   "execution_count": null,
   "id": "34745dda",
   "metadata": {},
   "outputs": [],
   "source": []
  },
  {
   "cell_type": "code",
   "execution_count": null,
   "id": "9a901c5e",
   "metadata": {},
   "outputs": [],
   "source": []
  },
  {
   "cell_type": "code",
   "execution_count": null,
   "id": "05a474e8",
   "metadata": {},
   "outputs": [],
   "source": []
  },
  {
   "cell_type": "code",
   "execution_count": null,
   "id": "c2bdf0fd",
   "metadata": {},
   "outputs": [],
   "source": []
  },
  {
   "cell_type": "code",
   "execution_count": null,
   "id": "e446655e",
   "metadata": {},
   "outputs": [],
   "source": []
  },
  {
   "cell_type": "code",
   "execution_count": null,
   "id": "04a09724",
   "metadata": {},
   "outputs": [],
   "source": []
  }
 ],
 "metadata": {
  "kernelspec": {
   "display_name": "Python 3",
   "language": "python",
   "name": "python3"
  },
  "language_info": {
   "codemirror_mode": {
    "name": "ipython",
    "version": 3
   },
   "file_extension": ".py",
   "mimetype": "text/x-python",
   "name": "python",
   "nbconvert_exporter": "python",
   "pygments_lexer": "ipython3",
   "version": "3.12.3"
  }
 },
 "nbformat": 4,
 "nbformat_minor": 5
}
