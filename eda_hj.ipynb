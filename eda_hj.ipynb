{
 "cells": [
  {
   "cell_type": "code",
   "execution_count": null,
   "id": "dbf26e29",
   "metadata": {},
   "outputs": [
    {
     "name": "stdout",
     "output_type": "stream",
     "text": [
      "Requirement already satisfied: pyarrow in /Library/Frameworks/Python.framework/Versions/3.10/lib/python3.10/site-packages (20.0.0)\n"
     ]
    }
   ],
   "source": [
    "# !pip3 install pyarrow"
   ]
  },
  {
   "cell_type": "code",
   "execution_count": null,
   "id": "caf99ba0",
   "metadata": {},
   "outputs": [
    {
     "name": "stdout",
     "output_type": "stream",
     "text": [
      "Collecting fastparquet\n",
      "  Downloading fastparquet-2024.11.0-cp310-cp310-macosx_11_0_arm64.whl.metadata (4.2 kB)\n",
      "Requirement already satisfied: pandas>=1.5.0 in /Library/Frameworks/Python.framework/Versions/3.10/lib/python3.10/site-packages (from fastparquet) (2.2.3)\n",
      "Requirement already satisfied: numpy in /Library/Frameworks/Python.framework/Versions/3.10/lib/python3.10/site-packages (from fastparquet) (2.2.5)\n",
      "Collecting cramjam>=2.3 (from fastparquet)\n",
      "  Downloading cramjam-2.10.0-cp310-cp310-macosx_11_0_arm64.whl.metadata (5.0 kB)\n",
      "Requirement already satisfied: fsspec in /Library/Frameworks/Python.framework/Versions/3.10/lib/python3.10/site-packages (from fastparquet) (2025.3.2)\n",
      "Requirement already satisfied: packaging in /Users/huijinlee/Library/Python/3.10/lib/python/site-packages (from fastparquet) (25.0)\n",
      "Requirement already satisfied: python-dateutil>=2.8.2 in /Users/huijinlee/Library/Python/3.10/lib/python/site-packages (from pandas>=1.5.0->fastparquet) (2.9.0.post0)\n",
      "Requirement already satisfied: pytz>=2020.1 in /Library/Frameworks/Python.framework/Versions/3.10/lib/python3.10/site-packages (from pandas>=1.5.0->fastparquet) (2025.2)\n",
      "Requirement already satisfied: tzdata>=2022.7 in /Library/Frameworks/Python.framework/Versions/3.10/lib/python3.10/site-packages (from pandas>=1.5.0->fastparquet) (2025.2)\n",
      "Requirement already satisfied: six>=1.5 in /Users/huijinlee/Library/Python/3.10/lib/python/site-packages (from python-dateutil>=2.8.2->pandas>=1.5.0->fastparquet) (1.17.0)\n",
      "Downloading fastparquet-2024.11.0-cp310-cp310-macosx_11_0_arm64.whl (684 kB)\n",
      "\u001b[2K   \u001b[90m━━━━━━━━━━━━━━━━━━━━━━━━━━━━━━━━━━━━━━━━\u001b[0m \u001b[32m684.1/684.1 kB\u001b[0m \u001b[31m6.9 MB/s\u001b[0m eta \u001b[36m0:00:00\u001b[0m\n",
      "\u001b[?25hDownloading cramjam-2.10.0-cp310-cp310-macosx_11_0_arm64.whl (1.7 MB)\n",
      "\u001b[2K   \u001b[90m━━━━━━━━━━━━━━━━━━━━━━━━━━━━━━━━━━━━━━━━\u001b[0m \u001b[32m1.7/1.7 MB\u001b[0m \u001b[31m9.9 MB/s\u001b[0m eta \u001b[36m0:00:00\u001b[0m\n",
      "\u001b[?25hInstalling collected packages: cramjam, fastparquet\n",
      "\u001b[2K   \u001b[90m━━━━━━━━━━━━━━━━━━━━━━━━━━━━━━━━━━━━━━━━\u001b[0m \u001b[32m2/2\u001b[0m [fastparquet]\n",
      "\u001b[1A\u001b[2KSuccessfully installed cramjam-2.10.0 fastparquet-2024.11.0\n"
     ]
    }
   ],
   "source": [
    "# !pip3 install fastparquet"
   ]
  },
  {
   "cell_type": "markdown",
   "id": "23999c7f",
   "metadata": {},
   "source": [
    "터미널에 git 연결하고 이름이랑 이메일 입력하고 개인 이름 브랜치 연결해서 커밋\n",
    "- git init\n",
    "- git config --global user.name {깃허브 아이디}\n",
    "- git config --global user.email {깃허브 email}\n",
    "- git checkout {자기 브랜치 이름{"
   ]
  },
  {
   "cell_type": "code",
   "execution_count": 1,
   "id": "45343366",
   "metadata": {},
   "outputs": [],
   "source": [
    "import pandas as pd"
   ]
  },
  {
   "cell_type": "markdown",
   "id": "049491c5",
   "metadata": {},
   "source": [
    "```\n",
    "### 데이터 #2 (유저 이벤트 데이터**)**\n",
    "\n",
    "- 고급 프로젝트 → dump-**hackle**-202411211621.sql\n",
    "- 이벤트 데이터 대상 기간: 2023-07-11 ~ 2023-08-04 **(약 4주)**\n",
    "    - 원본 이벤트 데이터의 양이 300GB 정도로 과도하게 많아 일부 데이터만 제공합니다.\n",
    "    - 전체 기간 중 데이터의 용량이나 관리하는 이벤트, 데이터 형식이 제각각 달라 데이터 형태가 가장 비슷하고, 정보량(데이터 크기)이 많은 기간만 선정하여 제공하였습니다.\n",
    "```"
   ]
  },
  {
   "cell_type": "code",
   "execution_count": 27,
   "id": "2d62e5b5",
   "metadata": {},
   "outputs": [
    {
     "data": {
      "text/html": [
       "<div>\n",
       "<style scoped>\n",
       "    .dataframe tbody tr th:only-of-type {\n",
       "        vertical-align: middle;\n",
       "    }\n",
       "\n",
       "    .dataframe tbody tr th {\n",
       "        vertical-align: top;\n",
       "    }\n",
       "\n",
       "    .dataframe thead th {\n",
       "        text-align: right;\n",
       "    }\n",
       "</style>\n",
       "<table border=\"1\" class=\"dataframe\">\n",
       "  <thead>\n",
       "    <tr style=\"text-align: right;\">\n",
       "      <th></th>\n",
       "      <th>id</th>\n",
       "      <th>device_id</th>\n",
       "      <th>device_model</th>\n",
       "      <th>device_vendor</th>\n",
       "    </tr>\n",
       "  </thead>\n",
       "  <tbody>\n",
       "    <tr>\n",
       "      <th>0</th>\n",
       "      <td>1</td>\n",
       "      <td>000007C9-E103-4EB5-9777-A9084D4952DF</td>\n",
       "      <td>iPhone14,7</td>\n",
       "      <td>Apple</td>\n",
       "    </tr>\n",
       "    <tr>\n",
       "      <th>1</th>\n",
       "      <td>2</td>\n",
       "      <td>00002245-458F-4CDD-8533-B448CD43DBD2</td>\n",
       "      <td>iPhone14,7</td>\n",
       "      <td>Apple</td>\n",
       "    </tr>\n",
       "    <tr>\n",
       "      <th>2</th>\n",
       "      <td>3</td>\n",
       "      <td>00012620-313A-4502-9F8D-8DAB7443215B</td>\n",
       "      <td>iPhone14,5</td>\n",
       "      <td>Apple</td>\n",
       "    </tr>\n",
       "    <tr>\n",
       "      <th>3</th>\n",
       "      <td>4</td>\n",
       "      <td>000137bc-80de-4bb5-b61d-df7f217a4501</td>\n",
       "      <td>SM-F711N</td>\n",
       "      <td>samsung</td>\n",
       "    </tr>\n",
       "    <tr>\n",
       "      <th>4</th>\n",
       "      <td>5</td>\n",
       "      <td>000227D6-B782-4367-91C4-486B76DF9E37</td>\n",
       "      <td>iPhone12,3</td>\n",
       "      <td>Apple</td>\n",
       "    </tr>\n",
       "  </tbody>\n",
       "</table>\n",
       "</div>"
      ],
      "text/plain": [
       "   id                             device_id device_model device_vendor\n",
       "0   1  000007C9-E103-4EB5-9777-A9084D4952DF   iPhone14,7         Apple\n",
       "1   2  00002245-458F-4CDD-8533-B448CD43DBD2   iPhone14,7         Apple\n",
       "2   3  00012620-313A-4502-9F8D-8DAB7443215B   iPhone14,5         Apple\n",
       "3   4  000137bc-80de-4bb5-b61d-df7f217a4501     SM-F711N       samsung\n",
       "4   5  000227D6-B782-4367-91C4-486B76DF9E37   iPhone12,3         Apple"
      ]
     },
     "execution_count": 27,
     "metadata": {},
     "output_type": "execute_result"
    }
   ],
   "source": [
    "device_properties_df = pd.read_parquet('hackle/device_properties.parquet')  # 엔진은 자동으로 선택됨\n",
    "device_properties_df.head()"
   ]
  },
  {
   "cell_type": "code",
   "execution_count": 29,
   "id": "a9a10b36",
   "metadata": {},
   "outputs": [
    {
     "name": "stdout",
     "output_type": "stream",
     "text": [
      "<class 'pandas.core.frame.DataFrame'>\n",
      "RangeIndex: 252380 entries, 0 to 252379\n",
      "Data columns (total 4 columns):\n",
      " #   Column         Non-Null Count   Dtype \n",
      "---  ------         --------------   ----- \n",
      " 0   id             252380 non-null  int64 \n",
      " 1   device_id      252380 non-null  object\n",
      " 2   device_model   252380 non-null  object\n",
      " 3   device_vendor  252380 non-null  object\n",
      "dtypes: int64(1), object(3)\n",
      "memory usage: 7.7+ MB\n"
     ]
    }
   ],
   "source": [
    "device_properties_df.info()"
   ]
  },
  {
   "cell_type": "code",
   "execution_count": 30,
   "id": "c64f8d6d",
   "metadata": {},
   "outputs": [
    {
     "data": {
      "text/html": [
       "<div>\n",
       "<style scoped>\n",
       "    .dataframe tbody tr th:only-of-type {\n",
       "        vertical-align: middle;\n",
       "    }\n",
       "\n",
       "    .dataframe tbody tr th {\n",
       "        vertical-align: top;\n",
       "    }\n",
       "\n",
       "    .dataframe thead th {\n",
       "        text-align: right;\n",
       "    }\n",
       "</style>\n",
       "<table border=\"1\" class=\"dataframe\">\n",
       "  <thead>\n",
       "    <tr style=\"text-align: right;\">\n",
       "      <th></th>\n",
       "      <th>device_id</th>\n",
       "      <th>device_model</th>\n",
       "      <th>device_vendor</th>\n",
       "    </tr>\n",
       "  </thead>\n",
       "  <tbody>\n",
       "    <tr>\n",
       "      <th>count</th>\n",
       "      <td>252380</td>\n",
       "      <td>252380</td>\n",
       "      <td>252380</td>\n",
       "    </tr>\n",
       "    <tr>\n",
       "      <th>unique</th>\n",
       "      <td>251720</td>\n",
       "      <td>522</td>\n",
       "      <td>36</td>\n",
       "    </tr>\n",
       "    <tr>\n",
       "      <th>top</th>\n",
       "      <td>5dab2e2f-54fd-4c4d-9996-1cccfa6c7428</td>\n",
       "      <td>iPhone14,5</td>\n",
       "      <td>Apple</td>\n",
       "    </tr>\n",
       "    <tr>\n",
       "      <th>freq</th>\n",
       "      <td>2</td>\n",
       "      <td>27656</td>\n",
       "      <td>174444</td>\n",
       "    </tr>\n",
       "  </tbody>\n",
       "</table>\n",
       "</div>"
      ],
      "text/plain": [
       "                                   device_id device_model device_vendor\n",
       "count                                 252380       252380        252380\n",
       "unique                                251720          522            36\n",
       "top     5dab2e2f-54fd-4c4d-9996-1cccfa6c7428   iPhone14,5         Apple\n",
       "freq                                       2        27656        174444"
      ]
     },
     "execution_count": 30,
     "metadata": {},
     "output_type": "execute_result"
    }
   ],
   "source": [
    "device_properties_df.describe(include='O')"
   ]
  },
  {
   "cell_type": "code",
   "execution_count": 31,
   "id": "5730be69",
   "metadata": {},
   "outputs": [
    {
     "data": {
      "text/plain": [
       "array(['Apple', 'samsung', 'Lenovo', 'LGE', 'Xiaomi', 'blackshark',\n",
       "       'Google', 'FYD', 'Samsung', 'Chinoe', 'vivo', 'ZTE', 'OnePlus',\n",
       "       'motorola', 'Foxconn', 'Shanling', 'Teclast', 'Nothing', 'Amazon',\n",
       "       'LENOVO', 'HUAWEI', 'vsmart', 'Digital', 'Sony', 'bnd',\n",
       "       'Alldocube', 'Teclast_korea', 'incar', 'asus', 'E-dong', 'realme',\n",
       "       'APEX', 'Razer', 'HXY', 'IMUZ', 'iMUZ'], dtype=object)"
      ]
     },
     "execution_count": 31,
     "metadata": {},
     "output_type": "execute_result"
    }
   ],
   "source": [
    "device_properties_df['device_vendor'].unique()"
   ]
  },
  {
   "cell_type": "code",
   "execution_count": 33,
   "id": "3f11c164",
   "metadata": {},
   "outputs": [
    {
     "data": {
      "text/html": [
       "<div>\n",
       "<style scoped>\n",
       "    .dataframe tbody tr th:only-of-type {\n",
       "        vertical-align: middle;\n",
       "    }\n",
       "\n",
       "    .dataframe tbody tr th {\n",
       "        vertical-align: top;\n",
       "    }\n",
       "\n",
       "    .dataframe thead th {\n",
       "        text-align: right;\n",
       "    }\n",
       "</style>\n",
       "<table border=\"1\" class=\"dataframe\">\n",
       "  <thead>\n",
       "    <tr style=\"text-align: right;\">\n",
       "      <th></th>\n",
       "      <th>id</th>\n",
       "      <th>device_id</th>\n",
       "      <th>device_model</th>\n",
       "      <th>device_vendor</th>\n",
       "    </tr>\n",
       "  </thead>\n",
       "  <tbody>\n",
       "    <tr>\n",
       "      <th>17</th>\n",
       "      <td>18</td>\n",
       "      <td>0006bed8-512b-48f9-9b33-f79bb1e225a8</td>\n",
       "      <td>SM-S911N</td>\n",
       "      <td>samsung</td>\n",
       "    </tr>\n",
       "    <tr>\n",
       "      <th>705</th>\n",
       "      <td>706</td>\n",
       "      <td>00bf3a4e-4ef9-4a6a-8558-cc5f68d4041d</td>\n",
       "      <td>SM-A716S</td>\n",
       "      <td>samsung</td>\n",
       "    </tr>\n",
       "    <tr>\n",
       "      <th>1719</th>\n",
       "      <td>1720</td>\n",
       "      <td>01BBBADC-073C-4AEC-8C00-52F0A29577B4</td>\n",
       "      <td>iPhone14,4</td>\n",
       "      <td>Apple</td>\n",
       "    </tr>\n",
       "    <tr>\n",
       "      <th>1825</th>\n",
       "      <td>1826</td>\n",
       "      <td>01D2DB25-5EF6-447C-B3FA-63156C4DCBCF</td>\n",
       "      <td>iPhone14,5</td>\n",
       "      <td>Apple</td>\n",
       "    </tr>\n",
       "    <tr>\n",
       "      <th>2135</th>\n",
       "      <td>2136</td>\n",
       "      <td>021fd2a9-a0e5-42e8-b9d1-0c2244101869</td>\n",
       "      <td>SM-S918N</td>\n",
       "      <td>samsung</td>\n",
       "    </tr>\n",
       "    <tr>\n",
       "      <th>...</th>\n",
       "      <td>...</td>\n",
       "      <td>...</td>\n",
       "      <td>...</td>\n",
       "      <td>...</td>\n",
       "    </tr>\n",
       "    <tr>\n",
       "      <th>250452</th>\n",
       "      <td>250453</td>\n",
       "      <td>FDFA56F4-2289-4542-AC99-4E68FA63D91A</td>\n",
       "      <td>iPhone14,4</td>\n",
       "      <td>Apple</td>\n",
       "    </tr>\n",
       "    <tr>\n",
       "      <th>250542</th>\n",
       "      <td>250543</td>\n",
       "      <td>fe135415-8a57-44da-91e6-2b2ac0c4ee61</td>\n",
       "      <td>SM-N950N</td>\n",
       "      <td>samsung</td>\n",
       "    </tr>\n",
       "    <tr>\n",
       "      <th>250799</th>\n",
       "      <td>250800</td>\n",
       "      <td>fe599a47-85ad-467b-b3e5-ec557117ec80</td>\n",
       "      <td>SM-G991N</td>\n",
       "      <td>samsung</td>\n",
       "    </tr>\n",
       "    <tr>\n",
       "      <th>251275</th>\n",
       "      <td>251276</td>\n",
       "      <td>FED7434C-C9F0-4FF2-BB80-8520E37A1E01</td>\n",
       "      <td>iPhone13,1</td>\n",
       "      <td>Apple</td>\n",
       "    </tr>\n",
       "    <tr>\n",
       "      <th>252294</th>\n",
       "      <td>252295</td>\n",
       "      <td>ffeae563-c45e-4f68-85e0-f0373dd940cf</td>\n",
       "      <td>SM-S918N</td>\n",
       "      <td>samsung</td>\n",
       "    </tr>\n",
       "  </tbody>\n",
       "</table>\n",
       "<p>660 rows × 4 columns</p>\n",
       "</div>"
      ],
      "text/plain": [
       "            id                             device_id device_model  \\\n",
       "17          18  0006bed8-512b-48f9-9b33-f79bb1e225a8     SM-S911N   \n",
       "705        706  00bf3a4e-4ef9-4a6a-8558-cc5f68d4041d     SM-A716S   \n",
       "1719      1720  01BBBADC-073C-4AEC-8C00-52F0A29577B4   iPhone14,4   \n",
       "1825      1826  01D2DB25-5EF6-447C-B3FA-63156C4DCBCF   iPhone14,5   \n",
       "2135      2136  021fd2a9-a0e5-42e8-b9d1-0c2244101869     SM-S918N   \n",
       "...        ...                                   ...          ...   \n",
       "250452  250453  FDFA56F4-2289-4542-AC99-4E68FA63D91A   iPhone14,4   \n",
       "250542  250543  fe135415-8a57-44da-91e6-2b2ac0c4ee61     SM-N950N   \n",
       "250799  250800  fe599a47-85ad-467b-b3e5-ec557117ec80     SM-G991N   \n",
       "251275  251276  FED7434C-C9F0-4FF2-BB80-8520E37A1E01   iPhone13,1   \n",
       "252294  252295  ffeae563-c45e-4f68-85e0-f0373dd940cf     SM-S918N   \n",
       "\n",
       "       device_vendor  \n",
       "17           samsung  \n",
       "705          samsung  \n",
       "1719           Apple  \n",
       "1825           Apple  \n",
       "2135         samsung  \n",
       "...              ...  \n",
       "250452         Apple  \n",
       "250542       samsung  \n",
       "250799       samsung  \n",
       "251275         Apple  \n",
       "252294       samsung  \n",
       "\n",
       "[660 rows x 4 columns]"
      ]
     },
     "execution_count": 33,
     "metadata": {},
     "output_type": "execute_result"
    }
   ],
   "source": [
    "device_properties_df[device_properties_df['device_id'].duplicated()]"
   ]
  },
  {
   "cell_type": "markdown",
   "id": "e4d98f8e",
   "metadata": {},
   "source": [
    "- device_id 의 중복은 최대가 2개이며 660개의 데이터. \n",
    "- 아이폰 14의 유저, 아이폰 기종이 가장 많은 비율을 차지\n",
    "- nan 결측치 없음"
   ]
  },
  {
   "cell_type": "markdown",
   "id": "c37750f2",
   "metadata": {},
   "source": [
    "---"
   ]
  },
  {
   "cell_type": "code",
   "execution_count": null,
   "id": "07805498",
   "metadata": {},
   "outputs": [
    {
     "data": {
      "text/html": [
       "<div>\n",
       "<style scoped>\n",
       "    .dataframe tbody tr th:only-of-type {\n",
       "        vertical-align: middle;\n",
       "    }\n",
       "\n",
       "    .dataframe tbody tr th {\n",
       "        vertical-align: top;\n",
       "    }\n",
       "\n",
       "    .dataframe thead th {\n",
       "        text-align: right;\n",
       "    }\n",
       "</style>\n",
       "<table border=\"1\" class=\"dataframe\">\n",
       "  <thead>\n",
       "    <tr style=\"text-align: right;\">\n",
       "      <th></th>\n",
       "      <th>event_id</th>\n",
       "      <th>event_datetime</th>\n",
       "      <th>event_key</th>\n",
       "      <th>session_id</th>\n",
       "      <th>id</th>\n",
       "      <th>item_name</th>\n",
       "      <th>page_name</th>\n",
       "      <th>friend_count</th>\n",
       "      <th>votes_count</th>\n",
       "      <th>heart_balance</th>\n",
       "      <th>question_id</th>\n",
       "    </tr>\n",
       "  </thead>\n",
       "  <tbody>\n",
       "    <tr>\n",
       "      <th>0</th>\n",
       "      <td>00000533-3f1c-4b3b-81f1-0c8f35754b4e</td>\n",
       "      <td>2023-07-18 19:40:17</td>\n",
       "      <td>$session_start</td>\n",
       "      <td>4OzYh3seq3VKytpSn5pvQkZNQii1</td>\n",
       "      <td>00000533-3f1c-4b3b-81f1-0c8f35754b4e</td>\n",
       "      <td></td>\n",
       "      <td></td>\n",
       "      <td>NaN</td>\n",
       "      <td>NaN</td>\n",
       "      <td>NaN</td>\n",
       "      <td>NaN</td>\n",
       "    </tr>\n",
       "    <tr>\n",
       "      <th>1</th>\n",
       "      <td>00000716-27e9-4e72-a602-d0ce61784b06</td>\n",
       "      <td>2023-07-18 21:07:24</td>\n",
       "      <td>click_question_open</td>\n",
       "      <td>8QXy31PQxbW9qLzq0Y1dhR8Ypm52</td>\n",
       "      <td>00000716-27e9-4e72-a602-d0ce61784b06</td>\n",
       "      <td></td>\n",
       "      <td></td>\n",
       "      <td>64.0</td>\n",
       "      <td>436.0</td>\n",
       "      <td>4830.0</td>\n",
       "      <td>NaN</td>\n",
       "    </tr>\n",
       "    <tr>\n",
       "      <th>2</th>\n",
       "      <td>000007c8-68ce-40e6-9b1e-f0e34e8ff9cc</td>\n",
       "      <td>2023-08-06 20:18:03</td>\n",
       "      <td>click_bottom_navigation_profile</td>\n",
       "      <td>6bcea65d-9f40-46fc-888c-700fe707483f</td>\n",
       "      <td>000007c8-68ce-40e6-9b1e-f0e34e8ff9cc</td>\n",
       "      <td></td>\n",
       "      <td></td>\n",
       "      <td>26.0</td>\n",
       "      <td>174.0</td>\n",
       "      <td>4729.0</td>\n",
       "      <td>NaN</td>\n",
       "    </tr>\n",
       "    <tr>\n",
       "      <th>3</th>\n",
       "      <td>00000981-5e2a-4111-993e-4f1891ad9a53</td>\n",
       "      <td>2023-08-05 01:46:10</td>\n",
       "      <td>view_shop</td>\n",
       "      <td>XVYNT6zfhFWqIg9omwg2AHDjTLx2</td>\n",
       "      <td>00000981-5e2a-4111-993e-4f1891ad9a53</td>\n",
       "      <td></td>\n",
       "      <td></td>\n",
       "      <td>61.0</td>\n",
       "      <td>44.0</td>\n",
       "      <td>142.0</td>\n",
       "      <td>NaN</td>\n",
       "    </tr>\n",
       "    <tr>\n",
       "      <th>4</th>\n",
       "      <td>00000a7a-ba72-4332-b4a9-7910670aaeb2</td>\n",
       "      <td>2023-07-24 15:03:37</td>\n",
       "      <td>click_bottom_navigation_lab</td>\n",
       "      <td>XFB2SPiGfjbVhvJ3Q3DBsaT3m2B3</td>\n",
       "      <td>00000a7a-ba72-4332-b4a9-7910670aaeb2</td>\n",
       "      <td></td>\n",
       "      <td></td>\n",
       "      <td>119.0</td>\n",
       "      <td>545.0</td>\n",
       "      <td>3287.0</td>\n",
       "      <td>NaN</td>\n",
       "    </tr>\n",
       "  </tbody>\n",
       "</table>\n",
       "</div>"
      ],
      "text/plain": [
       "                               event_id      event_datetime  \\\n",
       "0  00000533-3f1c-4b3b-81f1-0c8f35754b4e 2023-07-18 19:40:17   \n",
       "1  00000716-27e9-4e72-a602-d0ce61784b06 2023-07-18 21:07:24   \n",
       "2  000007c8-68ce-40e6-9b1e-f0e34e8ff9cc 2023-08-06 20:18:03   \n",
       "3  00000981-5e2a-4111-993e-4f1891ad9a53 2023-08-05 01:46:10   \n",
       "4  00000a7a-ba72-4332-b4a9-7910670aaeb2 2023-07-24 15:03:37   \n",
       "\n",
       "                         event_key                            session_id  \\\n",
       "0                   $session_start          4OzYh3seq3VKytpSn5pvQkZNQii1   \n",
       "1              click_question_open          8QXy31PQxbW9qLzq0Y1dhR8Ypm52   \n",
       "2  click_bottom_navigation_profile  6bcea65d-9f40-46fc-888c-700fe707483f   \n",
       "3                        view_shop          XVYNT6zfhFWqIg9omwg2AHDjTLx2   \n",
       "4      click_bottom_navigation_lab          XFB2SPiGfjbVhvJ3Q3DBsaT3m2B3   \n",
       "\n",
       "                                     id item_name page_name  friend_count  \\\n",
       "0  00000533-3f1c-4b3b-81f1-0c8f35754b4e                               NaN   \n",
       "1  00000716-27e9-4e72-a602-d0ce61784b06                              64.0   \n",
       "2  000007c8-68ce-40e6-9b1e-f0e34e8ff9cc                              26.0   \n",
       "3  00000981-5e2a-4111-993e-4f1891ad9a53                              61.0   \n",
       "4  00000a7a-ba72-4332-b4a9-7910670aaeb2                             119.0   \n",
       "\n",
       "   votes_count  heart_balance  question_id  \n",
       "0          NaN            NaN          NaN  \n",
       "1        436.0         4830.0          NaN  \n",
       "2        174.0         4729.0          NaN  \n",
       "3         44.0          142.0          NaN  \n",
       "4        545.0         3287.0          NaN  "
      ]
     },
     "execution_count": 28,
     "metadata": {},
     "output_type": "execute_result"
    }
   ],
   "source": [
    "# 약 4주간의 헥클 이벤트 발생 목록\n",
    "hackle_events_df = pd.read_parquet('hackle/hackle_events.parquet') \n",
    "hackle_events_df.head()"
   ]
  },
  {
   "cell_type": "code",
   "execution_count": 37,
   "id": "d81064e5",
   "metadata": {},
   "outputs": [
    {
     "name": "stdout",
     "output_type": "stream",
     "text": [
      "<class 'pandas.core.frame.DataFrame'>\n",
      "RangeIndex: 11441319 entries, 0 to 11441318\n",
      "Data columns (total 11 columns):\n",
      " #   Column          Dtype         \n",
      "---  ------          -----         \n",
      " 0   event_id        object        \n",
      " 1   event_datetime  datetime64[ms]\n",
      " 2   event_key       object        \n",
      " 3   session_id      object        \n",
      " 4   id              object        \n",
      " 5   item_name       object        \n",
      " 6   page_name       object        \n",
      " 7   friend_count    float64       \n",
      " 8   votes_count     float64       \n",
      " 9   heart_balance   float64       \n",
      " 10  question_id     float64       \n",
      "dtypes: datetime64[ms](1), float64(4), object(6)\n",
      "memory usage: 960.2+ MB\n",
      "None\n"
     ]
    }
   ],
   "source": [
    "# 최대 컬럼 정보 제한을 늘리기\n",
    "pd.set_option('display.max_info_columns', 100)\n",
    "pd.set_option('display.max_columns', None)  # 모든 컬럼 보이기\n",
    "pd.set_option('display.expand_frame_repr', False)\n",
    "\n",
    "print(hackle_events_df.info(verbose=True))"
   ]
  },
  {
   "cell_type": "code",
   "execution_count": 38,
   "id": "c83b1897",
   "metadata": {},
   "outputs": [
    {
     "data": {
      "text/plain": [
       "event_id                 0\n",
       "event_datetime           0\n",
       "event_key                0\n",
       "session_id               0\n",
       "id                       0\n",
       "item_name                0\n",
       "page_name                0\n",
       "friend_count        752556\n",
       "votes_count         754554\n",
       "heart_balance       728643\n",
       "question_id       10991835\n",
       "dtype: int64"
      ]
     },
     "execution_count": 38,
     "metadata": {},
     "output_type": "execute_result"
    }
   ],
   "source": [
    "hackle_events_df.isnull().sum()"
   ]
  },
  {
   "cell_type": "code",
   "execution_count": 39,
   "id": "c38a8e80",
   "metadata": {},
   "outputs": [
    {
     "data": {
      "text/html": [
       "<div>\n",
       "<style scoped>\n",
       "    .dataframe tbody tr th:only-of-type {\n",
       "        vertical-align: middle;\n",
       "    }\n",
       "\n",
       "    .dataframe tbody tr th {\n",
       "        vertical-align: top;\n",
       "    }\n",
       "\n",
       "    .dataframe thead th {\n",
       "        text-align: right;\n",
       "    }\n",
       "</style>\n",
       "<table border=\"1\" class=\"dataframe\">\n",
       "  <thead>\n",
       "    <tr style=\"text-align: right;\">\n",
       "      <th></th>\n",
       "      <th>event_datetime</th>\n",
       "      <th>friend_count</th>\n",
       "      <th>votes_count</th>\n",
       "      <th>heart_balance</th>\n",
       "      <th>question_id</th>\n",
       "    </tr>\n",
       "  </thead>\n",
       "  <tbody>\n",
       "    <tr>\n",
       "      <th>count</th>\n",
       "      <td>11441319</td>\n",
       "      <td>1.068876e+07</td>\n",
       "      <td>1.068676e+07</td>\n",
       "      <td>1.071268e+07</td>\n",
       "      <td>449484.000000</td>\n",
       "    </tr>\n",
       "    <tr>\n",
       "      <th>mean</th>\n",
       "      <td>2023-07-29 01:58:17.236000</td>\n",
       "      <td>5.434357e+01</td>\n",
       "      <td>2.572742e+02</td>\n",
       "      <td>1.626929e+04</td>\n",
       "      <td>2766.385262</td>\n",
       "    </tr>\n",
       "    <tr>\n",
       "      <th>min</th>\n",
       "      <td>2023-07-18 00:00:00</td>\n",
       "      <td>0.000000e+00</td>\n",
       "      <td>0.000000e+00</td>\n",
       "      <td>0.000000e+00</td>\n",
       "      <td>99.000000</td>\n",
       "    </tr>\n",
       "    <tr>\n",
       "      <th>25%</th>\n",
       "      <td>2023-07-22 21:31:17</td>\n",
       "      <td>3.200000e+01</td>\n",
       "      <td>9.700000e+01</td>\n",
       "      <td>4.340000e+02</td>\n",
       "      <td>1393.000000</td>\n",
       "    </tr>\n",
       "    <tr>\n",
       "      <th>50%</th>\n",
       "      <td>2023-07-28 17:08:58</td>\n",
       "      <td>4.900000e+01</td>\n",
       "      <td>2.100000e+02</td>\n",
       "      <td>1.249000e+03</td>\n",
       "      <td>2569.000000</td>\n",
       "    </tr>\n",
       "    <tr>\n",
       "      <th>75%</th>\n",
       "      <td>2023-08-04 17:59:10</td>\n",
       "      <td>7.100000e+01</td>\n",
       "      <td>3.620000e+02</td>\n",
       "      <td>3.188000e+03</td>\n",
       "      <td>4459.000000</td>\n",
       "    </tr>\n",
       "    <tr>\n",
       "      <th>max</th>\n",
       "      <td>2023-08-10 23:59:59</td>\n",
       "      <td>1.365000e+03</td>\n",
       "      <td>3.017000e+03</td>\n",
       "      <td>8.849998e+08</td>\n",
       "      <td>5133.000000</td>\n",
       "    </tr>\n",
       "    <tr>\n",
       "      <th>std</th>\n",
       "      <td>NaN</td>\n",
       "      <td>3.350798e+01</td>\n",
       "      <td>2.180682e+02</td>\n",
       "      <td>3.317340e+06</td>\n",
       "      <td>1599.967343</td>\n",
       "    </tr>\n",
       "  </tbody>\n",
       "</table>\n",
       "</div>"
      ],
      "text/plain": [
       "                   event_datetime  friend_count   votes_count  heart_balance    question_id\n",
       "count                    11441319  1.068876e+07  1.068676e+07   1.071268e+07  449484.000000\n",
       "mean   2023-07-29 01:58:17.236000  5.434357e+01  2.572742e+02   1.626929e+04    2766.385262\n",
       "min           2023-07-18 00:00:00  0.000000e+00  0.000000e+00   0.000000e+00      99.000000\n",
       "25%           2023-07-22 21:31:17  3.200000e+01  9.700000e+01   4.340000e+02    1393.000000\n",
       "50%           2023-07-28 17:08:58  4.900000e+01  2.100000e+02   1.249000e+03    2569.000000\n",
       "75%           2023-08-04 17:59:10  7.100000e+01  3.620000e+02   3.188000e+03    4459.000000\n",
       "max           2023-08-10 23:59:59  1.365000e+03  3.017000e+03   8.849998e+08    5133.000000\n",
       "std                           NaN  3.350798e+01  2.180682e+02   3.317340e+06    1599.967343"
      ]
     },
     "execution_count": 39,
     "metadata": {},
     "output_type": "execute_result"
    }
   ],
   "source": [
    "hackle_events_df.describe()"
   ]
  },
  {
   "cell_type": "code",
   "execution_count": null,
   "id": "d01902e6",
   "metadata": {},
   "outputs": [],
   "source": [
    "hackle_events_df.describe(include='O')"
   ]
  },
  {
   "cell_type": "markdown",
   "id": "d7b59854",
   "metadata": {},
   "source": [
    "- question_id는 결측값이 대부분임\n",
    "- item_name, page_name 은 nan 결측값은 없으나 이상치를 확인해야함"
   ]
  },
  {
   "cell_type": "markdown",
   "id": "a1efea96",
   "metadata": {},
   "source": [
    "---"
   ]
  },
  {
   "cell_type": "code",
   "execution_count": 3,
   "id": "a4ef5e94",
   "metadata": {},
   "outputs": [
    {
     "data": {
      "text/html": [
       "<div>\n",
       "<style scoped>\n",
       "    .dataframe tbody tr th:only-of-type {\n",
       "        vertical-align: middle;\n",
       "    }\n",
       "\n",
       "    .dataframe tbody tr th {\n",
       "        vertical-align: top;\n",
       "    }\n",
       "\n",
       "    .dataframe thead th {\n",
       "        text-align: right;\n",
       "    }\n",
       "</style>\n",
       "<table border=\"1\" class=\"dataframe\">\n",
       "  <thead>\n",
       "    <tr style=\"text-align: right;\">\n",
       "      <th></th>\n",
       "      <th>id</th>\n",
       "      <th>session_id</th>\n",
       "      <th>user_id</th>\n",
       "      <th>language</th>\n",
       "      <th>osname</th>\n",
       "      <th>osversion</th>\n",
       "      <th>versionname</th>\n",
       "      <th>device_id</th>\n",
       "    </tr>\n",
       "  </thead>\n",
       "  <tbody>\n",
       "    <tr>\n",
       "      <th>0</th>\n",
       "      <td>1</td>\n",
       "      <td>4OzYh3seq3VKytpSn5pvQkZNQii1</td>\n",
       "      <td></td>\n",
       "      <td>ko-KR</td>\n",
       "      <td>iOS</td>\n",
       "      <td>16.0</td>\n",
       "      <td>2.0.0</td>\n",
       "      <td>590E7C79-CBA0-44D8-8BE3-3C9BFABBBC74</td>\n",
       "    </tr>\n",
       "    <tr>\n",
       "      <th>1</th>\n",
       "      <td>2</td>\n",
       "      <td>8QXy31PQxbW9qLzq0Y1dhR8Ypm52</td>\n",
       "      <td>1046711</td>\n",
       "      <td>ko-KR</td>\n",
       "      <td>iOS</td>\n",
       "      <td>16.5.1</td>\n",
       "      <td>2.0.3</td>\n",
       "      <td>D5417226-F71B-4A9E-A180-CD072F2AB279</td>\n",
       "    </tr>\n",
       "    <tr>\n",
       "      <th>2</th>\n",
       "      <td>3</td>\n",
       "      <td>6bcea65d-9f40-46fc-888c-700fe707483f</td>\n",
       "      <td>1545130</td>\n",
       "      <td>ko</td>\n",
       "      <td>Android</td>\n",
       "      <td>13</td>\n",
       "      <td>2.0.5</td>\n",
       "      <td>6bcea65d-9f40-46fc-888c-700fe707483f</td>\n",
       "    </tr>\n",
       "    <tr>\n",
       "      <th>3</th>\n",
       "      <td>4</td>\n",
       "      <td>XVYNT6zfhFWqIg9omwg2AHDjTLx2</td>\n",
       "      <td>1224793</td>\n",
       "      <td>ko</td>\n",
       "      <td>Android</td>\n",
       "      <td>13</td>\n",
       "      <td>2.0.5</td>\n",
       "      <td>a05c1595-3e05-434b-8684-218b528bd725</td>\n",
       "    </tr>\n",
       "    <tr>\n",
       "      <th>4</th>\n",
       "      <td>5</td>\n",
       "      <td>XFB2SPiGfjbVhvJ3Q3DBsaT3m2B3</td>\n",
       "      <td>1329450</td>\n",
       "      <td>ko-US</td>\n",
       "      <td>iOS</td>\n",
       "      <td>16.5.1</td>\n",
       "      <td>2.0.5</td>\n",
       "      <td>EAC6C0B3-7CE8-40EA-8A91-9977C0BA5EF3</td>\n",
       "    </tr>\n",
       "  </tbody>\n",
       "</table>\n",
       "</div>"
      ],
      "text/plain": [
       "   id                            session_id  user_id language   osname  \\\n",
       "0   1          4OzYh3seq3VKytpSn5pvQkZNQii1             ko-KR      iOS   \n",
       "1   2          8QXy31PQxbW9qLzq0Y1dhR8Ypm52  1046711    ko-KR      iOS   \n",
       "2   3  6bcea65d-9f40-46fc-888c-700fe707483f  1545130       ko  Android   \n",
       "3   4          XVYNT6zfhFWqIg9omwg2AHDjTLx2  1224793       ko  Android   \n",
       "4   5          XFB2SPiGfjbVhvJ3Q3DBsaT3m2B3  1329450    ko-US      iOS   \n",
       "\n",
       "  osversion versionname                             device_id  \n",
       "0      16.0       2.0.0  590E7C79-CBA0-44D8-8BE3-3C9BFABBBC74  \n",
       "1    16.5.1       2.0.3  D5417226-F71B-4A9E-A180-CD072F2AB279  \n",
       "2        13       2.0.5  6bcea65d-9f40-46fc-888c-700fe707483f  \n",
       "3        13       2.0.5  a05c1595-3e05-434b-8684-218b528bd725  \n",
       "4    16.5.1       2.0.5  EAC6C0B3-7CE8-40EA-8A91-9977C0BA5EF3  "
      ]
     },
     "execution_count": 3,
     "metadata": {},
     "output_type": "execute_result"
    }
   ],
   "source": [
    "hackle_properties_df = pd.read_parquet('hackle/hackle_properties.parquet') \n",
    "hackle_properties_df.head()"
   ]
  },
  {
   "cell_type": "code",
   "execution_count": 4,
   "id": "5a3c9583",
   "metadata": {},
   "outputs": [
    {
     "name": "stdout",
     "output_type": "stream",
     "text": [
      "<class 'pandas.core.frame.DataFrame'>\n",
      "RangeIndex: 525350 entries, 0 to 525349\n",
      "Data columns (total 8 columns):\n",
      " #   Column       Non-Null Count   Dtype \n",
      "---  ------       --------------   ----- \n",
      " 0   id           525350 non-null  int64 \n",
      " 1   session_id   525350 non-null  object\n",
      " 2   user_id      525350 non-null  object\n",
      " 3   language     525350 non-null  object\n",
      " 4   osname       525350 non-null  object\n",
      " 5   osversion    525350 non-null  object\n",
      " 6   versionname  525350 non-null  object\n",
      " 7   device_id    525350 non-null  object\n",
      "dtypes: int64(1), object(7)\n",
      "memory usage: 32.1+ MB\n"
     ]
    }
   ],
   "source": [
    "hackle_properties_df.info()"
   ]
  },
  {
   "cell_type": "code",
   "execution_count": 8,
   "id": "4140c23d",
   "metadata": {},
   "outputs": [
    {
     "data": {
      "text/plain": [
       "np.int64(197969)"
      ]
     },
     "execution_count": 8,
     "metadata": {},
     "output_type": "execute_result"
    }
   ],
   "source": [
    "hackle_properties_df['user_id'].duplicated().sum()"
   ]
  },
  {
   "cell_type": "code",
   "execution_count": 11,
   "id": "73f59077",
   "metadata": {},
   "outputs": [
    {
     "data": {
      "text/plain": [
       "''"
      ]
     },
     "execution_count": 11,
     "metadata": {},
     "output_type": "execute_result"
    }
   ],
   "source": [
    "hackle_properties_df.loc[0, 'user_id']"
   ]
  },
  {
   "cell_type": "code",
   "execution_count": 12,
   "id": "b1ce916b",
   "metadata": {},
   "outputs": [
    {
     "data": {
      "text/html": [
       "<div>\n",
       "<style scoped>\n",
       "    .dataframe tbody tr th:only-of-type {\n",
       "        vertical-align: middle;\n",
       "    }\n",
       "\n",
       "    .dataframe tbody tr th {\n",
       "        vertical-align: top;\n",
       "    }\n",
       "\n",
       "    .dataframe thead th {\n",
       "        text-align: right;\n",
       "    }\n",
       "</style>\n",
       "<table border=\"1\" class=\"dataframe\">\n",
       "  <thead>\n",
       "    <tr style=\"text-align: right;\">\n",
       "      <th></th>\n",
       "      <th>id</th>\n",
       "      <th>session_id</th>\n",
       "      <th>user_id</th>\n",
       "      <th>language</th>\n",
       "      <th>osname</th>\n",
       "      <th>osversion</th>\n",
       "      <th>versionname</th>\n",
       "      <th>device_id</th>\n",
       "    </tr>\n",
       "  </thead>\n",
       "  <tbody>\n",
       "    <tr>\n",
       "      <th>0</th>\n",
       "      <td>1</td>\n",
       "      <td>4OzYh3seq3VKytpSn5pvQkZNQii1</td>\n",
       "      <td></td>\n",
       "      <td>ko-KR</td>\n",
       "      <td>iOS</td>\n",
       "      <td>16.0</td>\n",
       "      <td>2.0.0</td>\n",
       "      <td>590E7C79-CBA0-44D8-8BE3-3C9BFABBBC74</td>\n",
       "    </tr>\n",
       "    <tr>\n",
       "      <th>41</th>\n",
       "      <td>42</td>\n",
       "      <td>i6toBlZRPDNAnwhvkIWwD16Fcts1</td>\n",
       "      <td></td>\n",
       "      <td>ko-KR</td>\n",
       "      <td>iOS</td>\n",
       "      <td>16.4.1</td>\n",
       "      <td>2.0.5</td>\n",
       "      <td>0C3D3EDA-8F76-43BD-B9AD-7B5DCC3FB8B1</td>\n",
       "    </tr>\n",
       "    <tr>\n",
       "      <th>126</th>\n",
       "      <td>127</td>\n",
       "      <td>Smot2x4FSsNL1rXLWRGWCpbz2Hw2</td>\n",
       "      <td></td>\n",
       "      <td>ko-KR</td>\n",
       "      <td>iOS</td>\n",
       "      <td>16.5.1</td>\n",
       "      <td>2.0.5</td>\n",
       "      <td>0FB5C35C-EA5B-4D1B-BF14-6874FAF0E582</td>\n",
       "    </tr>\n",
       "    <tr>\n",
       "      <th>158</th>\n",
       "      <td>159</td>\n",
       "      <td>3734A994-8BF8-482D-9676-D837DAB4E1E8</td>\n",
       "      <td></td>\n",
       "      <td>ko-KR</td>\n",
       "      <td>iOS</td>\n",
       "      <td>16.5.1</td>\n",
       "      <td>2.0.5</td>\n",
       "      <td>3734A994-8BF8-482D-9676-D837DAB4E1E8</td>\n",
       "    </tr>\n",
       "    <tr>\n",
       "      <th>170</th>\n",
       "      <td>171</td>\n",
       "      <td>6287C8F6-AD13-414B-8320-12C00111E558</td>\n",
       "      <td></td>\n",
       "      <td>ko-KR</td>\n",
       "      <td>iOS</td>\n",
       "      <td>16.3.1</td>\n",
       "      <td>2.0.5</td>\n",
       "      <td>6287C8F6-AD13-414B-8320-12C00111E558</td>\n",
       "    </tr>\n",
       "    <tr>\n",
       "      <th>...</th>\n",
       "      <td>...</td>\n",
       "      <td>...</td>\n",
       "      <td>...</td>\n",
       "      <td>...</td>\n",
       "      <td>...</td>\n",
       "      <td>...</td>\n",
       "      <td>...</td>\n",
       "      <td>...</td>\n",
       "    </tr>\n",
       "    <tr>\n",
       "      <th>525316</th>\n",
       "      <td>525317</td>\n",
       "      <td>C59904D1-2B1A-4B3A-8318-B00B69C55045</td>\n",
       "      <td></td>\n",
       "      <td>ko-KR</td>\n",
       "      <td>iOS</td>\n",
       "      <td>16.3</td>\n",
       "      <td>2.0.3</td>\n",
       "      <td>C59904D1-2B1A-4B3A-8318-B00B69C55045</td>\n",
       "    </tr>\n",
       "    <tr>\n",
       "      <th>525319</th>\n",
       "      <td>525320</td>\n",
       "      <td>1A54B0B9-5FEC-4999-B51B-7349F6B14FB6</td>\n",
       "      <td></td>\n",
       "      <td>en-KR</td>\n",
       "      <td>iOS</td>\n",
       "      <td>16.5.1</td>\n",
       "      <td>2.0.5</td>\n",
       "      <td>1A54B0B9-5FEC-4999-B51B-7349F6B14FB6</td>\n",
       "    </tr>\n",
       "    <tr>\n",
       "      <th>525321</th>\n",
       "      <td>525322</td>\n",
       "      <td>D02C5530-AC9F-46F4-A2A2-D0B3DFB62C01</td>\n",
       "      <td></td>\n",
       "      <td>ko-KR</td>\n",
       "      <td>iOS</td>\n",
       "      <td>16.5.1</td>\n",
       "      <td>2.0.3</td>\n",
       "      <td>D02C5530-AC9F-46F4-A2A2-D0B3DFB62C01</td>\n",
       "    </tr>\n",
       "    <tr>\n",
       "      <th>525336</th>\n",
       "      <td>525337</td>\n",
       "      <td>IZUKxswvnIWkNW1JzNE7gBZJGiy2</td>\n",
       "      <td></td>\n",
       "      <td>ko-KR</td>\n",
       "      <td>iOS</td>\n",
       "      <td>16.1</td>\n",
       "      <td>1.2.10</td>\n",
       "      <td>A3A55D13-20B2-4CAC-ADA5-A70DEB4D4EC4</td>\n",
       "    </tr>\n",
       "    <tr>\n",
       "      <th>525347</th>\n",
       "      <td>525348</td>\n",
       "      <td>F9EA195C-862F-4572-80A5-C3AE06F83310</td>\n",
       "      <td></td>\n",
       "      <td>ko-KR</td>\n",
       "      <td>iOS</td>\n",
       "      <td>16.3.1</td>\n",
       "      <td>2.0.5</td>\n",
       "      <td>F9EA195C-862F-4572-80A5-C3AE06F83310</td>\n",
       "    </tr>\n",
       "  </tbody>\n",
       "</table>\n",
       "<p>82255 rows × 8 columns</p>\n",
       "</div>"
      ],
      "text/plain": [
       "            id                            session_id user_id language osname  \\\n",
       "0            1          4OzYh3seq3VKytpSn5pvQkZNQii1            ko-KR    iOS   \n",
       "41          42          i6toBlZRPDNAnwhvkIWwD16Fcts1            ko-KR    iOS   \n",
       "126        127          Smot2x4FSsNL1rXLWRGWCpbz2Hw2            ko-KR    iOS   \n",
       "158        159  3734A994-8BF8-482D-9676-D837DAB4E1E8            ko-KR    iOS   \n",
       "170        171  6287C8F6-AD13-414B-8320-12C00111E558            ko-KR    iOS   \n",
       "...        ...                                   ...     ...      ...    ...   \n",
       "525316  525317  C59904D1-2B1A-4B3A-8318-B00B69C55045            ko-KR    iOS   \n",
       "525319  525320  1A54B0B9-5FEC-4999-B51B-7349F6B14FB6            en-KR    iOS   \n",
       "525321  525322  D02C5530-AC9F-46F4-A2A2-D0B3DFB62C01            ko-KR    iOS   \n",
       "525336  525337          IZUKxswvnIWkNW1JzNE7gBZJGiy2            ko-KR    iOS   \n",
       "525347  525348  F9EA195C-862F-4572-80A5-C3AE06F83310            ko-KR    iOS   \n",
       "\n",
       "       osversion versionname                             device_id  \n",
       "0           16.0       2.0.0  590E7C79-CBA0-44D8-8BE3-3C9BFABBBC74  \n",
       "41        16.4.1       2.0.5  0C3D3EDA-8F76-43BD-B9AD-7B5DCC3FB8B1  \n",
       "126       16.5.1       2.0.5  0FB5C35C-EA5B-4D1B-BF14-6874FAF0E582  \n",
       "158       16.5.1       2.0.5  3734A994-8BF8-482D-9676-D837DAB4E1E8  \n",
       "170       16.3.1       2.0.5  6287C8F6-AD13-414B-8320-12C00111E558  \n",
       "...          ...         ...                                   ...  \n",
       "525316      16.3       2.0.3  C59904D1-2B1A-4B3A-8318-B00B69C55045  \n",
       "525319    16.5.1       2.0.5  1A54B0B9-5FEC-4999-B51B-7349F6B14FB6  \n",
       "525321    16.5.1       2.0.3  D02C5530-AC9F-46F4-A2A2-D0B3DFB62C01  \n",
       "525336      16.1      1.2.10  A3A55D13-20B2-4CAC-ADA5-A70DEB4D4EC4  \n",
       "525347    16.3.1       2.0.5  F9EA195C-862F-4572-80A5-C3AE06F83310  \n",
       "\n",
       "[82255 rows x 8 columns]"
      ]
     },
     "execution_count": 12,
     "metadata": {},
     "output_type": "execute_result"
    }
   ],
   "source": [
    "hackle_properties_df[hackle_properties_df['user_id'] == '']"
   ]
  },
  {
   "cell_type": "markdown",
   "id": "d6abfcc5",
   "metadata": {},
   "source": [
    "- user_id의 중복값과 ''인 값들이 많음"
   ]
  },
  {
   "cell_type": "markdown",
   "id": "9937ebdd",
   "metadata": {},
   "source": [
    "---"
   ]
  },
  {
   "cell_type": "code",
   "execution_count": 14,
   "id": "54ef2032",
   "metadata": {},
   "outputs": [
    {
     "data": {
      "text/html": [
       "<div>\n",
       "<style scoped>\n",
       "    .dataframe tbody tr th:only-of-type {\n",
       "        vertical-align: middle;\n",
       "    }\n",
       "\n",
       "    .dataframe tbody tr th {\n",
       "        vertical-align: top;\n",
       "    }\n",
       "\n",
       "    .dataframe thead th {\n",
       "        text-align: right;\n",
       "    }\n",
       "</style>\n",
       "<table border=\"1\" class=\"dataframe\">\n",
       "  <thead>\n",
       "    <tr style=\"text-align: right;\">\n",
       "      <th></th>\n",
       "      <th>user_id</th>\n",
       "      <th>class</th>\n",
       "      <th>gender</th>\n",
       "      <th>grade</th>\n",
       "      <th>school_id</th>\n",
       "    </tr>\n",
       "  </thead>\n",
       "  <tbody>\n",
       "    <tr>\n",
       "      <th>0</th>\n",
       "      <td>1000000</td>\n",
       "      <td>1</td>\n",
       "      <td>M</td>\n",
       "      <td>1</td>\n",
       "      <td>1885</td>\n",
       "    </tr>\n",
       "    <tr>\n",
       "      <th>1</th>\n",
       "      <td>1000009</td>\n",
       "      <td>10</td>\n",
       "      <td>F</td>\n",
       "      <td>2</td>\n",
       "      <td>3869</td>\n",
       "    </tr>\n",
       "    <tr>\n",
       "      <th>2</th>\n",
       "      <td>1000012</td>\n",
       "      <td>10</td>\n",
       "      <td>F</td>\n",
       "      <td>1</td>\n",
       "      <td>5091</td>\n",
       "    </tr>\n",
       "    <tr>\n",
       "      <th>3</th>\n",
       "      <td>1000013</td>\n",
       "      <td>8</td>\n",
       "      <td>F</td>\n",
       "      <td>2</td>\n",
       "      <td>1743</td>\n",
       "    </tr>\n",
       "    <tr>\n",
       "      <th>4</th>\n",
       "      <td>1000015</td>\n",
       "      <td>2</td>\n",
       "      <td>F</td>\n",
       "      <td>3</td>\n",
       "      <td>5078</td>\n",
       "    </tr>\n",
       "  </tbody>\n",
       "</table>\n",
       "</div>"
      ],
      "text/plain": [
       "   user_id  class gender  grade  school_id\n",
       "0  1000000      1      M      1       1885\n",
       "1  1000009     10      F      2       3869\n",
       "2  1000012     10      F      1       5091\n",
       "3  1000013      8      F      2       1743\n",
       "4  1000015      2      F      3       5078"
      ]
     },
     "execution_count": 14,
     "metadata": {},
     "output_type": "execute_result"
    }
   ],
   "source": [
    "user_properties_df = pd.read_parquet('hackle/user_properties.parquet') \n",
    "user_properties_df.head()"
   ]
  },
  {
   "cell_type": "code",
   "execution_count": 15,
   "id": "11492a1d",
   "metadata": {},
   "outputs": [
    {
     "name": "stdout",
     "output_type": "stream",
     "text": [
      "<class 'pandas.core.frame.DataFrame'>\n",
      "RangeIndex: 230819 entries, 0 to 230818\n",
      "Data columns (total 5 columns):\n",
      " #   Column     Non-Null Count   Dtype \n",
      "---  ------     --------------   ----- \n",
      " 0   user_id    230819 non-null  object\n",
      " 1   class      230819 non-null  int64 \n",
      " 2   gender     230819 non-null  object\n",
      " 3   grade      230819 non-null  int64 \n",
      " 4   school_id  230819 non-null  int64 \n",
      "dtypes: int64(3), object(2)\n",
      "memory usage: 8.8+ MB\n"
     ]
    }
   ],
   "source": [
    "user_properties_df.info()"
   ]
  },
  {
   "cell_type": "code",
   "execution_count": 16,
   "id": "6a8c4b74",
   "metadata": {},
   "outputs": [
    {
     "data": {
      "text/plain": [
       "np.int64(0)"
      ]
     },
     "execution_count": 16,
     "metadata": {},
     "output_type": "execute_result"
    }
   ],
   "source": [
    "user_properties_df['user_id'].duplicated().sum()"
   ]
  },
  {
   "cell_type": "code",
   "execution_count": 18,
   "id": "d93da0a5",
   "metadata": {},
   "outputs": [
    {
     "data": {
      "text/html": [
       "<div>\n",
       "<style scoped>\n",
       "    .dataframe tbody tr th:only-of-type {\n",
       "        vertical-align: middle;\n",
       "    }\n",
       "\n",
       "    .dataframe tbody tr th {\n",
       "        vertical-align: top;\n",
       "    }\n",
       "\n",
       "    .dataframe thead th {\n",
       "        text-align: right;\n",
       "    }\n",
       "</style>\n",
       "<table border=\"1\" class=\"dataframe\">\n",
       "  <thead>\n",
       "    <tr style=\"text-align: right;\">\n",
       "      <th></th>\n",
       "      <th>user_id</th>\n",
       "      <th>class</th>\n",
       "      <th>gender</th>\n",
       "      <th>grade</th>\n",
       "      <th>school_id</th>\n",
       "    </tr>\n",
       "  </thead>\n",
       "  <tbody>\n",
       "  </tbody>\n",
       "</table>\n",
       "</div>"
      ],
      "text/plain": [
       "Empty DataFrame\n",
       "Columns: [user_id, class, gender, grade, school_id]\n",
       "Index: []"
      ]
     },
     "execution_count": 18,
     "metadata": {},
     "output_type": "execute_result"
    }
   ],
   "source": [
    "user_properties_df[user_properties_df['user_id'] == '']"
   ]
  },
  {
   "cell_type": "code",
   "execution_count": 19,
   "id": "ff3efe5e",
   "metadata": {},
   "outputs": [
    {
     "data": {
      "text/html": [
       "<div>\n",
       "<style scoped>\n",
       "    .dataframe tbody tr th:only-of-type {\n",
       "        vertical-align: middle;\n",
       "    }\n",
       "\n",
       "    .dataframe tbody tr th {\n",
       "        vertical-align: top;\n",
       "    }\n",
       "\n",
       "    .dataframe thead th {\n",
       "        text-align: right;\n",
       "    }\n",
       "</style>\n",
       "<table border=\"1\" class=\"dataframe\">\n",
       "  <thead>\n",
       "    <tr style=\"text-align: right;\">\n",
       "      <th></th>\n",
       "      <th>class</th>\n",
       "      <th>grade</th>\n",
       "      <th>school_id</th>\n",
       "    </tr>\n",
       "  </thead>\n",
       "  <tbody>\n",
       "    <tr>\n",
       "      <th>count</th>\n",
       "      <td>230819.000000</td>\n",
       "      <td>230819.000000</td>\n",
       "      <td>230819.000000</td>\n",
       "    </tr>\n",
       "    <tr>\n",
       "      <th>mean</th>\n",
       "      <td>4.594999</td>\n",
       "      <td>2.002197</td>\n",
       "      <td>3083.383335</td>\n",
       "    </tr>\n",
       "    <tr>\n",
       "      <th>std</th>\n",
       "      <td>3.151979</td>\n",
       "      <td>0.762048</td>\n",
       "      <td>1711.671162</td>\n",
       "    </tr>\n",
       "    <tr>\n",
       "      <th>min</th>\n",
       "      <td>1.000000</td>\n",
       "      <td>1.000000</td>\n",
       "      <td>1.000000</td>\n",
       "    </tr>\n",
       "    <tr>\n",
       "      <th>25%</th>\n",
       "      <td>2.000000</td>\n",
       "      <td>1.000000</td>\n",
       "      <td>1594.000000</td>\n",
       "    </tr>\n",
       "    <tr>\n",
       "      <th>50%</th>\n",
       "      <td>4.000000</td>\n",
       "      <td>2.000000</td>\n",
       "      <td>3138.000000</td>\n",
       "    </tr>\n",
       "    <tr>\n",
       "      <th>75%</th>\n",
       "      <td>6.000000</td>\n",
       "      <td>3.000000</td>\n",
       "      <td>4640.000000</td>\n",
       "    </tr>\n",
       "    <tr>\n",
       "      <th>max</th>\n",
       "      <td>20.000000</td>\n",
       "      <td>3.000000</td>\n",
       "      <td>5964.000000</td>\n",
       "    </tr>\n",
       "  </tbody>\n",
       "</table>\n",
       "</div>"
      ],
      "text/plain": [
       "               class          grade      school_id\n",
       "count  230819.000000  230819.000000  230819.000000\n",
       "mean        4.594999       2.002197    3083.383335\n",
       "std         3.151979       0.762048    1711.671162\n",
       "min         1.000000       1.000000       1.000000\n",
       "25%         2.000000       1.000000    1594.000000\n",
       "50%         4.000000       2.000000    3138.000000\n",
       "75%         6.000000       3.000000    4640.000000\n",
       "max        20.000000       3.000000    5964.000000"
      ]
     },
     "execution_count": 19,
     "metadata": {},
     "output_type": "execute_result"
    }
   ],
   "source": [
    "user_properties_df.describe()"
   ]
  },
  {
   "cell_type": "code",
   "execution_count": 20,
   "id": "9166c5cb",
   "metadata": {},
   "outputs": [
    {
     "data": {
      "text/plain": [
       "school_id\n",
       "4917    206\n",
       "5520    206\n",
       "1471    194\n",
       "4666    190\n",
       "461     188\n",
       "4484    188\n",
       "465     183\n",
       "4454    181\n",
       "1566    180\n",
       "562     180\n",
       "Name: count, dtype: int64"
      ]
     },
     "execution_count": 20,
     "metadata": {},
     "output_type": "execute_result"
    }
   ],
   "source": [
    "user_properties_df['school_id'].value_counts().head(10)"
   ]
  },
  {
   "cell_type": "code",
   "execution_count": 21,
   "id": "6fcf4076",
   "metadata": {},
   "outputs": [
    {
     "data": {
      "text/plain": [
       "gender\n",
       "F    132610\n",
       "M     98209\n",
       "Name: count, dtype: int64"
      ]
     },
     "execution_count": 21,
     "metadata": {},
     "output_type": "execute_result"
    }
   ],
   "source": [
    "user_properties_df['gender'].value_counts()"
   ]
  },
  {
   "cell_type": "markdown",
   "id": "c1704ebf",
   "metadata": {},
   "source": [
    "- user_id의 중복 / 공백 / nan 결측 없음\n",
    "- class는 1 ~ 20. 50%가 4인 것으로 보아 큰 수의 class가 적음\n",
    "- grade는 1~3\n",
    "- gender는 여자의 비유일 더 많음"
   ]
  },
  {
   "cell_type": "markdown",
   "id": "1c71eeb9",
   "metadata": {},
   "source": [
    "---"
   ]
  },
  {
   "cell_type": "code",
   "execution_count": 23,
   "id": "5daa4932",
   "metadata": {},
   "outputs": [
    {
     "data": {
      "text/html": [
       "<div>\n",
       "<style scoped>\n",
       "    .dataframe tbody tr th:only-of-type {\n",
       "        vertical-align: middle;\n",
       "    }\n",
       "\n",
       "    .dataframe tbody tr th {\n",
       "        vertical-align: top;\n",
       "    }\n",
       "\n",
       "    .dataframe thead th {\n",
       "        text-align: right;\n",
       "    }\n",
       "</style>\n",
       "<table border=\"1\" class=\"dataframe\">\n",
       "  <thead>\n",
       "    <tr style=\"text-align: right;\">\n",
       "      <th></th>\n",
       "      <th>id</th>\n",
       "      <th>attendance_date_list</th>\n",
       "      <th>user_id</th>\n",
       "    </tr>\n",
       "  </thead>\n",
       "  <tbody>\n",
       "    <tr>\n",
       "      <th>0</th>\n",
       "      <td>1</td>\n",
       "      <td>[\"2023-05-27\", \"2023-05-28\", \"2023-05-29\", \"20...</td>\n",
       "      <td>1446852</td>\n",
       "    </tr>\n",
       "    <tr>\n",
       "      <th>1</th>\n",
       "      <td>2</td>\n",
       "      <td>[\"2023-05-27\", \"2023-05-29\", \"2023-05-30\", \"20...</td>\n",
       "      <td>1359398</td>\n",
       "    </tr>\n",
       "    <tr>\n",
       "      <th>2</th>\n",
       "      <td>3</td>\n",
       "      <td>[\"2023-05-27\", \"2023-05-29\", \"2023-05-30\", \"20...</td>\n",
       "      <td>1501542</td>\n",
       "    </tr>\n",
       "    <tr>\n",
       "      <th>3</th>\n",
       "      <td>4</td>\n",
       "      <td>[\"2023-05-27\", \"2023-05-28\", \"2023-05-29\", \"20...</td>\n",
       "      <td>1507767</td>\n",
       "    </tr>\n",
       "    <tr>\n",
       "      <th>4</th>\n",
       "      <td>5</td>\n",
       "      <td>[\"2023-05-27\", \"2023-05-28\", \"2023-05-29\", \"20...</td>\n",
       "      <td>1287453</td>\n",
       "    </tr>\n",
       "  </tbody>\n",
       "</table>\n",
       "</div>"
      ],
      "text/plain": [
       "   id                               attendance_date_list  user_id\n",
       "0   1  [\"2023-05-27\", \"2023-05-28\", \"2023-05-29\", \"20...  1446852\n",
       "1   2  [\"2023-05-27\", \"2023-05-29\", \"2023-05-30\", \"20...  1359398\n",
       "2   3  [\"2023-05-27\", \"2023-05-29\", \"2023-05-30\", \"20...  1501542\n",
       "3   4  [\"2023-05-27\", \"2023-05-28\", \"2023-05-29\", \"20...  1507767\n",
       "4   5  [\"2023-05-27\", \"2023-05-28\", \"2023-05-29\", \"20...  1287453"
      ]
     },
     "execution_count": 23,
     "metadata": {},
     "output_type": "execute_result"
    }
   ],
   "source": [
    "attendance_df = pd.read_parquet('votes/accounts_attendance.parquet') \n",
    "attendance_df.head()"
   ]
  },
  {
   "cell_type": "code",
   "execution_count": 24,
   "id": "53e685a9",
   "metadata": {},
   "outputs": [
    {
     "name": "stdout",
     "output_type": "stream",
     "text": [
      "<class 'pandas.core.frame.DataFrame'>\n",
      "RangeIndex: 349637 entries, 0 to 349636\n",
      "Data columns (total 3 columns):\n",
      " #   Column                Non-Null Count   Dtype \n",
      "---  ------                --------------   ----- \n",
      " 0   id                    349637 non-null  int64 \n",
      " 1   attendance_date_list  349637 non-null  object\n",
      " 2   user_id               349637 non-null  int64 \n",
      "dtypes: int64(2), object(1)\n",
      "memory usage: 8.0+ MB\n"
     ]
    }
   ],
   "source": [
    "attendance_df.info()"
   ]
  },
  {
   "cell_type": "code",
   "execution_count": 25,
   "id": "906ea25c",
   "metadata": {},
   "outputs": [
    {
     "data": {
      "text/plain": [
       "np.int64(0)"
      ]
     },
     "execution_count": 25,
     "metadata": {},
     "output_type": "execute_result"
    }
   ],
   "source": [
    "attendance_df['user_id'].duplicated().sum()"
   ]
  },
  {
   "cell_type": "code",
   "execution_count": 26,
   "id": "20459555",
   "metadata": {},
   "outputs": [
    {
     "data": {
      "text/html": [
       "<div>\n",
       "<style scoped>\n",
       "    .dataframe tbody tr th:only-of-type {\n",
       "        vertical-align: middle;\n",
       "    }\n",
       "\n",
       "    .dataframe tbody tr th {\n",
       "        vertical-align: top;\n",
       "    }\n",
       "\n",
       "    .dataframe thead th {\n",
       "        text-align: right;\n",
       "    }\n",
       "</style>\n",
       "<table border=\"1\" class=\"dataframe\">\n",
       "  <thead>\n",
       "    <tr style=\"text-align: right;\">\n",
       "      <th></th>\n",
       "      <th>id</th>\n",
       "      <th>attendance_date_list</th>\n",
       "      <th>user_id</th>\n",
       "    </tr>\n",
       "  </thead>\n",
       "  <tbody>\n",
       "  </tbody>\n",
       "</table>\n",
       "</div>"
      ],
      "text/plain": [
       "Empty DataFrame\n",
       "Columns: [id, attendance_date_list, user_id]\n",
       "Index: []"
      ]
     },
     "execution_count": 26,
     "metadata": {},
     "output_type": "execute_result"
    }
   ],
   "source": [
    "attendance_df[attendance_df['user_id'] == '']"
   ]
  },
  {
   "cell_type": "markdown",
   "id": "fe752770",
   "metadata": {},
   "source": [
    "- attendance_date_list 는 split 해서 얼마나 자주 방문했는지, 그 빈도는 어떠한지, 주기는 어떠한지 계산할 수 있음\n",
    "- user_id는 공백 / nan / 중복 없음"
   ]
  },
  {
   "cell_type": "markdown",
   "id": "a753e689",
   "metadata": {},
   "source": [
    "---"
   ]
  },
  {
   "cell_type": "code",
   "execution_count": 27,
   "id": "7c3643f6",
   "metadata": {},
   "outputs": [
    {
     "data": {
      "text/html": [
       "<div>\n",
       "<style scoped>\n",
       "    .dataframe tbody tr th:only-of-type {\n",
       "        vertical-align: middle;\n",
       "    }\n",
       "\n",
       "    .dataframe tbody tr th {\n",
       "        vertical-align: top;\n",
       "    }\n",
       "\n",
       "    .dataframe thead th {\n",
       "        text-align: right;\n",
       "    }\n",
       "</style>\n",
       "<table border=\"1\" class=\"dataframe\">\n",
       "  <thead>\n",
       "    <tr style=\"text-align: right;\">\n",
       "      <th></th>\n",
       "      <th>id</th>\n",
       "      <th>reason</th>\n",
       "      <th>created_at</th>\n",
       "      <th>block_user_id</th>\n",
       "      <th>user_id</th>\n",
       "    </tr>\n",
       "  </thead>\n",
       "  <tbody>\n",
       "    <tr>\n",
       "      <th>0</th>\n",
       "      <td>1</td>\n",
       "      <td>그냥...</td>\n",
       "      <td>2023-05-04 23:01:53</td>\n",
       "      <td>867483</td>\n",
       "      <td>878476</td>\n",
       "    </tr>\n",
       "    <tr>\n",
       "      <th>1</th>\n",
       "      <td>2</td>\n",
       "      <td>친구 사이가 어색해짐</td>\n",
       "      <td>2023-05-05 01:17:08</td>\n",
       "      <td>867190</td>\n",
       "      <td>867564</td>\n",
       "    </tr>\n",
       "    <tr>\n",
       "      <th>2</th>\n",
       "      <td>3</td>\n",
       "      <td>나랑 관련 없는 질문을 자꾸 보냄</td>\n",
       "      <td>2023-05-05 01:50:55</td>\n",
       "      <td>875110</td>\n",
       "      <td>875261</td>\n",
       "    </tr>\n",
       "    <tr>\n",
       "      <th>3</th>\n",
       "      <td>6</td>\n",
       "      <td>그냥...</td>\n",
       "      <td>2023-05-05 05:21:52</td>\n",
       "      <td>883696</td>\n",
       "      <td>883511</td>\n",
       "    </tr>\n",
       "    <tr>\n",
       "      <th>4</th>\n",
       "      <td>7</td>\n",
       "      <td>그냥...</td>\n",
       "      <td>2023-05-05 06:40:34</td>\n",
       "      <td>871349</td>\n",
       "      <td>870177</td>\n",
       "    </tr>\n",
       "  </tbody>\n",
       "</table>\n",
       "</div>"
      ],
      "text/plain": [
       "   id              reason          created_at  block_user_id  user_id\n",
       "0   1               그냥... 2023-05-04 23:01:53         867483   878476\n",
       "1   2         친구 사이가 어색해짐 2023-05-05 01:17:08         867190   867564\n",
       "2   3  나랑 관련 없는 질문을 자꾸 보냄 2023-05-05 01:50:55         875110   875261\n",
       "3   6               그냥... 2023-05-05 05:21:52         883696   883511\n",
       "4   7               그냥... 2023-05-05 06:40:34         871349   870177"
      ]
     },
     "execution_count": 27,
     "metadata": {},
     "output_type": "execute_result"
    }
   ],
   "source": [
    "blockrecord_df = pd.read_parquet('votes/accounts_blockrecord.parquet') \n",
    "blockrecord_df.head()"
   ]
  },
  {
   "cell_type": "code",
   "execution_count": 28,
   "id": "4217c4ea",
   "metadata": {},
   "outputs": [
    {
     "name": "stdout",
     "output_type": "stream",
     "text": [
      "<class 'pandas.core.frame.DataFrame'>\n",
      "RangeIndex: 19482 entries, 0 to 19481\n",
      "Data columns (total 5 columns):\n",
      " #   Column         Non-Null Count  Dtype         \n",
      "---  ------         --------------  -----         \n",
      " 0   id             19482 non-null  int64         \n",
      " 1   reason         19482 non-null  object        \n",
      " 2   created_at     19482 non-null  datetime64[ns]\n",
      " 3   block_user_id  19482 non-null  int64         \n",
      " 4   user_id        19482 non-null  int64         \n",
      "dtypes: datetime64[ns](1), int64(3), object(1)\n",
      "memory usage: 761.1+ KB\n"
     ]
    }
   ],
   "source": [
    "blockrecord_df.info()"
   ]
  },
  {
   "cell_type": "code",
   "execution_count": 30,
   "id": "12a4248b",
   "metadata": {},
   "outputs": [
    {
     "data": {
      "text/plain": [
       "7"
      ]
     },
     "execution_count": 30,
     "metadata": {},
     "output_type": "execute_result"
    }
   ],
   "source": [
    "blockrecord_df['reason'].nunique()"
   ]
  },
  {
   "cell_type": "code",
   "execution_count": 37,
   "id": "591d43d6",
   "metadata": {},
   "outputs": [
    {
     "data": {
      "text/plain": [
       "reason\n",
       "모르는 사람임               9640\n",
       "친구 사이가 어색해짐           5805\n",
       "사칭 계정                 2022\n",
       "나랑 관련 없는 질문을 자꾸 보냄    1083\n",
       "너무 많은 양의 질문을 보냄        919\n",
       "기타                       7\n",
       "그냥...                    6\n",
       "Name: count, dtype: int64"
      ]
     },
     "execution_count": 37,
     "metadata": {},
     "output_type": "execute_result"
    }
   ],
   "source": [
    "blockrecord_df['reason'].value_counts()"
   ]
  },
  {
   "cell_type": "code",
   "execution_count": 31,
   "id": "c8f1f708",
   "metadata": {},
   "outputs": [
    {
     "data": {
      "text/plain": [
       "block_user_id\n",
       "898020     76\n",
       "877266     25\n",
       "897681     25\n",
       "1380465    25\n",
       "1395312    24\n",
       "876207     24\n",
       "1198628    21\n",
       "1495281    19\n",
       "1031842    18\n",
       "1186363    17\n",
       "Name: count, dtype: int64"
      ]
     },
     "execution_count": 31,
     "metadata": {},
     "output_type": "execute_result"
    }
   ],
   "source": [
    "blockrecord_df['block_user_id'].value_counts().head(10)"
   ]
  },
  {
   "cell_type": "code",
   "execution_count": 33,
   "id": "9ca75433",
   "metadata": {},
   "outputs": [
    {
     "data": {
      "text/plain": [
       "reason\n",
       "모르는 사람임               25\n",
       "나랑 관련 없는 질문을 자꾸 보냄    23\n",
       "너무 많은 양의 질문을 보냄       18\n",
       "친구 사이가 어색해짐            6\n",
       "사칭 계정                  4\n",
       "Name: count, dtype: int64"
      ]
     },
     "execution_count": 33,
     "metadata": {},
     "output_type": "execute_result"
    }
   ],
   "source": [
    "blockrecord_df[blockrecord_df['block_user_id'] == 898020]['reason'].value_counts()"
   ]
  },
  {
   "cell_type": "code",
   "execution_count": 32,
   "id": "0f8d457d",
   "metadata": {},
   "outputs": [
    {
     "data": {
      "text/plain": [
       "user_id\n",
       "1526194    171\n",
       "1415197    163\n",
       "1519819     70\n",
       "1542675     66\n",
       "986459      60\n",
       "1536035     39\n",
       "879416      38\n",
       "1296499     34\n",
       "1343300     34\n",
       "1155373     33\n",
       "Name: count, dtype: int64"
      ]
     },
     "execution_count": 32,
     "metadata": {},
     "output_type": "execute_result"
    }
   ],
   "source": [
    "blockrecord_df['user_id'].value_counts().head(10)"
   ]
  },
  {
   "cell_type": "code",
   "execution_count": 34,
   "id": "bf169270",
   "metadata": {},
   "outputs": [
    {
     "data": {
      "text/plain": [
       "reason\n",
       "모르는 사람임    171\n",
       "Name: count, dtype: int64"
      ]
     },
     "execution_count": 34,
     "metadata": {},
     "output_type": "execute_result"
    }
   ],
   "source": [
    "blockrecord_df[blockrecord_df['user_id'] == 1526194]['reason'].value_counts()"
   ]
  },
  {
   "cell_type": "code",
   "execution_count": 35,
   "id": "31d1e034",
   "metadata": {},
   "outputs": [
    {
     "data": {
      "text/plain": [
       "reason\n",
       "모르는 사람임        127\n",
       "친구 사이가 어색해짐     35\n",
       "사칭 계정            1\n",
       "Name: count, dtype: int64"
      ]
     },
     "execution_count": 35,
     "metadata": {},
     "output_type": "execute_result"
    }
   ],
   "source": [
    "blockrecord_df[blockrecord_df['user_id'] == 1415197]['reason'].value_counts()"
   ]
  },
  {
   "cell_type": "code",
   "execution_count": 36,
   "id": "075accf5",
   "metadata": {},
   "outputs": [
    {
     "data": {
      "text/plain": [
       "reason\n",
       "모르는 사람임        61\n",
       "친구 사이가 어색해짐     7\n",
       "사칭 계정           2\n",
       "Name: count, dtype: int64"
      ]
     },
     "execution_count": 36,
     "metadata": {},
     "output_type": "execute_result"
    }
   ],
   "source": [
    "blockrecord_df[blockrecord_df['user_id'] == 1519819]['reason'].value_counts()"
   ]
  },
  {
   "cell_type": "markdown",
   "id": "cfe660d7",
   "metadata": {},
   "source": [
    "- reason 은 7개로 선택 가능해보임\n",
    "- 특정 유저가 차단을 많이 당하고, 차단을 많이 했던 것으로 확인되어서 이상치 논의 필요\n",
    "- 차단한 이유 대부분이 모르는 사람이므로, 3위권 안에는 사칭 계정도 많음"
   ]
  },
  {
   "cell_type": "markdown",
   "id": "5d673e7d",
   "metadata": {},
   "source": [
    "---"
   ]
  },
  {
   "cell_type": "code",
   "execution_count": null,
   "id": "b4d9d9a0",
   "metadata": {},
   "outputs": [
    {
     "data": {
      "text/html": [
       "<div>\n",
       "<style scoped>\n",
       "    .dataframe tbody tr th:only-of-type {\n",
       "        vertical-align: middle;\n",
       "    }\n",
       "\n",
       "    .dataframe tbody tr th {\n",
       "        vertical-align: top;\n",
       "    }\n",
       "\n",
       "    .dataframe thead th {\n",
       "        text-align: right;\n",
       "    }\n",
       "</style>\n",
       "<table border=\"1\" class=\"dataframe\">\n",
       "  <thead>\n",
       "    <tr style=\"text-align: right;\">\n",
       "      <th></th>\n",
       "      <th>id</th>\n",
       "      <th>productId</th>\n",
       "      <th>phone_type</th>\n",
       "      <th>created_at</th>\n",
       "      <th>user_id</th>\n",
       "    </tr>\n",
       "  </thead>\n",
       "  <tbody>\n",
       "    <tr>\n",
       "      <th>0</th>\n",
       "      <td>6</td>\n",
       "      <td>heart.200</td>\n",
       "      <td>A</td>\n",
       "      <td>2023-05-14 05:49:22</td>\n",
       "      <td>1055891</td>\n",
       "    </tr>\n",
       "    <tr>\n",
       "      <th>1</th>\n",
       "      <td>7</td>\n",
       "      <td>heart.777</td>\n",
       "      <td>A</td>\n",
       "      <td>2023-05-14 08:17:21</td>\n",
       "      <td>1152151</td>\n",
       "    </tr>\n",
       "    <tr>\n",
       "      <th>2</th>\n",
       "      <td>8</td>\n",
       "      <td>heart.777</td>\n",
       "      <td>A</td>\n",
       "      <td>2023-05-14 10:11:46</td>\n",
       "      <td>986200</td>\n",
       "    </tr>\n",
       "    <tr>\n",
       "      <th>3</th>\n",
       "      <td>9</td>\n",
       "      <td>heart.1000</td>\n",
       "      <td>A</td>\n",
       "      <td>2023-05-14 11:53:09</td>\n",
       "      <td>1028261</td>\n",
       "    </tr>\n",
       "    <tr>\n",
       "      <th>4</th>\n",
       "      <td>10</td>\n",
       "      <td>heart.777</td>\n",
       "      <td>A</td>\n",
       "      <td>2023-05-14 12:30:47</td>\n",
       "      <td>1235730</td>\n",
       "    </tr>\n",
       "  </tbody>\n",
       "</table>\n",
       "</div>"
      ],
      "text/plain": [
       "   id   productId phone_type          created_at  user_id\n",
       "0   6   heart.200          A 2023-05-14 05:49:22  1055891\n",
       "1   7   heart.777          A 2023-05-14 08:17:21  1152151\n",
       "2   8   heart.777          A 2023-05-14 10:11:46   986200\n",
       "3   9  heart.1000          A 2023-05-14 11:53:09  1028261\n",
       "4  10   heart.777          A 2023-05-14 12:30:47  1235730"
      ]
     },
     "execution_count": 38,
     "metadata": {},
     "output_type": "execute_result"
    }
   ],
   "source": [
    "# 상품 구매 실패 기록\n",
    "failpaymenthistory_df = pd.read_parquet('votes/accounts_failpaymenthistory.parquet') \n",
    "failpaymenthistory_df.head()"
   ]
  },
  {
   "cell_type": "code",
   "execution_count": 39,
   "id": "6117a425",
   "metadata": {},
   "outputs": [
    {
     "name": "stdout",
     "output_type": "stream",
     "text": [
      "<class 'pandas.core.frame.DataFrame'>\n",
      "RangeIndex: 163 entries, 0 to 162\n",
      "Data columns (total 5 columns):\n",
      " #   Column      Non-Null Count  Dtype         \n",
      "---  ------      --------------  -----         \n",
      " 0   id          163 non-null    int64         \n",
      " 1   productId   56 non-null     object        \n",
      " 2   phone_type  163 non-null    object        \n",
      " 3   created_at  163 non-null    datetime64[ns]\n",
      " 4   user_id     163 non-null    int64         \n",
      "dtypes: datetime64[ns](1), int64(2), object(2)\n",
      "memory usage: 6.5+ KB\n"
     ]
    }
   ],
   "source": [
    "failpaymenthistory_df.info()"
   ]
  },
  {
   "cell_type": "code",
   "execution_count": 40,
   "id": "372a0bc8",
   "metadata": {},
   "outputs": [
    {
     "data": {
      "text/plain": [
       "productId\n",
       "heart.777     49\n",
       "heart.1000     4\n",
       "heart.200      3\n",
       "Name: count, dtype: int64"
      ]
     },
     "execution_count": 40,
     "metadata": {},
     "output_type": "execute_result"
    }
   ],
   "source": [
    "failpaymenthistory_df['productId'].value_counts()"
   ]
  },
  {
   "cell_type": "code",
   "execution_count": 43,
   "id": "f33a65b1",
   "metadata": {},
   "outputs": [
    {
     "data": {
      "text/html": [
       "<div>\n",
       "<style scoped>\n",
       "    .dataframe tbody tr th:only-of-type {\n",
       "        vertical-align: middle;\n",
       "    }\n",
       "\n",
       "    .dataframe tbody tr th {\n",
       "        vertical-align: top;\n",
       "    }\n",
       "\n",
       "    .dataframe thead th {\n",
       "        text-align: right;\n",
       "    }\n",
       "</style>\n",
       "<table border=\"1\" class=\"dataframe\">\n",
       "  <thead>\n",
       "    <tr style=\"text-align: right;\">\n",
       "      <th></th>\n",
       "      <th>id</th>\n",
       "      <th>productId</th>\n",
       "      <th>phone_type</th>\n",
       "      <th>created_at</th>\n",
       "      <th>user_id</th>\n",
       "    </tr>\n",
       "  </thead>\n",
       "  <tbody>\n",
       "    <tr>\n",
       "      <th>53</th>\n",
       "      <td>61</td>\n",
       "      <td>None</td>\n",
       "      <td>I</td>\n",
       "      <td>2023-05-19 13:38:32</td>\n",
       "      <td>1322662</td>\n",
       "    </tr>\n",
       "    <tr>\n",
       "      <th>137</th>\n",
       "      <td>147</td>\n",
       "      <td>None</td>\n",
       "      <td>I</td>\n",
       "      <td>2023-05-31 12:38:35</td>\n",
       "      <td>1211047</td>\n",
       "    </tr>\n",
       "    <tr>\n",
       "      <th>162</th>\n",
       "      <td>174</td>\n",
       "      <td>None</td>\n",
       "      <td>I</td>\n",
       "      <td>2023-09-17 09:12:53</td>\n",
       "      <td>927108</td>\n",
       "    </tr>\n",
       "  </tbody>\n",
       "</table>\n",
       "</div>"
      ],
      "text/plain": [
       "      id productId phone_type          created_at  user_id\n",
       "53    61      None          I 2023-05-19 13:38:32  1322662\n",
       "137  147      None          I 2023-05-31 12:38:35  1211047\n",
       "162  174      None          I 2023-09-17 09:12:53   927108"
      ]
     },
     "execution_count": 43,
     "metadata": {},
     "output_type": "execute_result"
    }
   ],
   "source": [
    "failpaymenthistory_df[failpaymenthistory_df['user_id'].duplicated()]"
   ]
  },
  {
   "cell_type": "code",
   "execution_count": 44,
   "id": "08faed9e",
   "metadata": {},
   "outputs": [
    {
     "data": {
      "text/plain": [
       "created_at\n",
       "2023-09-17 09:12:53    2\n",
       "2023-05-29 10:52:40    1\n",
       "2023-05-25 11:55:06    1\n",
       "2023-05-25 12:38:08    1\n",
       "2023-05-26 00:54:31    1\n",
       "Name: count, dtype: int64"
      ]
     },
     "execution_count": 44,
     "metadata": {},
     "output_type": "execute_result"
    }
   ],
   "source": [
    "failpaymenthistory_df['created_at'].value_counts().head()"
   ]
  },
  {
   "cell_type": "markdown",
   "id": "f7545486",
   "metadata": {},
   "source": [
    "- 결제 실패는 주로 777 에서 발생, 가장 많은건 결측치인 None 타입으로 제거 불가해보임\n",
    "- 결제 실패를 여러번 겪은 고객은 3명으로 적으며, I 타입의 모바일에서 모두 발생되었음. "
   ]
  },
  {
   "cell_type": "markdown",
   "id": "e1050ce8",
   "metadata": {},
   "source": [
    "---"
   ]
  },
  {
   "cell_type": "code",
   "execution_count": null,
   "id": "864a88dd",
   "metadata": {},
   "outputs": [
    {
     "data": {
      "text/html": [
       "<div>\n",
       "<style scoped>\n",
       "    .dataframe tbody tr th:only-of-type {\n",
       "        vertical-align: middle;\n",
       "    }\n",
       "\n",
       "    .dataframe tbody tr th {\n",
       "        vertical-align: top;\n",
       "    }\n",
       "\n",
       "    .dataframe thead th {\n",
       "        text-align: right;\n",
       "    }\n",
       "</style>\n",
       "<table border=\"1\" class=\"dataframe\">\n",
       "  <thead>\n",
       "    <tr style=\"text-align: right;\">\n",
       "      <th></th>\n",
       "      <th>id</th>\n",
       "      <th>grade</th>\n",
       "      <th>class_num</th>\n",
       "      <th>school_id</th>\n",
       "    </tr>\n",
       "  </thead>\n",
       "  <tbody>\n",
       "    <tr>\n",
       "      <th>0</th>\n",
       "      <td>1</td>\n",
       "      <td>1</td>\n",
       "      <td>1</td>\n",
       "      <td>1</td>\n",
       "    </tr>\n",
       "    <tr>\n",
       "      <th>1</th>\n",
       "      <td>8</td>\n",
       "      <td>3</td>\n",
       "      <td>2</td>\n",
       "      <td>1</td>\n",
       "    </tr>\n",
       "    <tr>\n",
       "      <th>2</th>\n",
       "      <td>9</td>\n",
       "      <td>3</td>\n",
       "      <td>3</td>\n",
       "      <td>1</td>\n",
       "    </tr>\n",
       "    <tr>\n",
       "      <th>3</th>\n",
       "      <td>10</td>\n",
       "      <td>2</td>\n",
       "      <td>2</td>\n",
       "      <td>1</td>\n",
       "    </tr>\n",
       "    <tr>\n",
       "      <th>4</th>\n",
       "      <td>11</td>\n",
       "      <td>2</td>\n",
       "      <td>3</td>\n",
       "      <td>1</td>\n",
       "    </tr>\n",
       "  </tbody>\n",
       "</table>\n",
       "</div>"
      ],
      "text/plain": [
       "   id  grade  class_num  school_id\n",
       "0   1      1          1          1\n",
       "1   8      3          2          1\n",
       "2   9      3          3          1\n",
       "3  10      2          2          1\n",
       "4  11      2          3          1"
      ]
     },
     "execution_count": 45,
     "metadata": {},
     "output_type": "execute_result"
    }
   ],
   "source": [
    "# 학급 테이블\n",
    "group_df = pd.read_parquet('votes/accounts_group.parquet') \n",
    "group_df.head()"
   ]
  },
  {
   "cell_type": "code",
   "execution_count": 46,
   "id": "d77134b2",
   "metadata": {},
   "outputs": [
    {
     "name": "stdout",
     "output_type": "stream",
     "text": [
      "<class 'pandas.core.frame.DataFrame'>\n",
      "RangeIndex: 84515 entries, 0 to 84514\n",
      "Data columns (total 4 columns):\n",
      " #   Column     Non-Null Count  Dtype\n",
      "---  ------     --------------  -----\n",
      " 0   id         84515 non-null  int64\n",
      " 1   grade      84515 non-null  int64\n",
      " 2   class_num  84515 non-null  int64\n",
      " 3   school_id  84515 non-null  int64\n",
      "dtypes: int64(4)\n",
      "memory usage: 2.6 MB\n"
     ]
    }
   ],
   "source": [
    "group_df.info()"
   ]
  },
  {
   "cell_type": "code",
   "execution_count": 47,
   "id": "0fefe678",
   "metadata": {},
   "outputs": [
    {
     "data": {
      "text/html": [
       "<div>\n",
       "<style scoped>\n",
       "    .dataframe tbody tr th:only-of-type {\n",
       "        vertical-align: middle;\n",
       "    }\n",
       "\n",
       "    .dataframe tbody tr th {\n",
       "        vertical-align: top;\n",
       "    }\n",
       "\n",
       "    .dataframe thead th {\n",
       "        text-align: right;\n",
       "    }\n",
       "</style>\n",
       "<table border=\"1\" class=\"dataframe\">\n",
       "  <thead>\n",
       "    <tr style=\"text-align: right;\">\n",
       "      <th></th>\n",
       "      <th>id</th>\n",
       "      <th>grade</th>\n",
       "      <th>class_num</th>\n",
       "      <th>school_id</th>\n",
       "    </tr>\n",
       "  </thead>\n",
       "  <tbody>\n",
       "    <tr>\n",
       "      <th>count</th>\n",
       "      <td>84515.000000</td>\n",
       "      <td>84515.000000</td>\n",
       "      <td>84515.000000</td>\n",
       "      <td>84515.000000</td>\n",
       "    </tr>\n",
       "    <tr>\n",
       "      <th>mean</th>\n",
       "      <td>42279.376087</td>\n",
       "      <td>2.113992</td>\n",
       "      <td>5.318606</td>\n",
       "      <td>3079.496468</td>\n",
       "    </tr>\n",
       "    <tr>\n",
       "      <th>std</th>\n",
       "      <td>24400.962630</td>\n",
       "      <td>0.754896</td>\n",
       "      <td>4.089901</td>\n",
       "      <td>1675.036093</td>\n",
       "    </tr>\n",
       "    <tr>\n",
       "      <th>min</th>\n",
       "      <td>1.000000</td>\n",
       "      <td>1.000000</td>\n",
       "      <td>0.000000</td>\n",
       "      <td>1.000000</td>\n",
       "    </tr>\n",
       "    <tr>\n",
       "      <th>25%</th>\n",
       "      <td>21147.500000</td>\n",
       "      <td>2.000000</td>\n",
       "      <td>2.000000</td>\n",
       "      <td>1752.000000</td>\n",
       "    </tr>\n",
       "    <tr>\n",
       "      <th>50%</th>\n",
       "      <td>42279.000000</td>\n",
       "      <td>2.000000</td>\n",
       "      <td>4.000000</td>\n",
       "      <td>3023.000000</td>\n",
       "    </tr>\n",
       "    <tr>\n",
       "      <th>75%</th>\n",
       "      <td>63411.500000</td>\n",
       "      <td>3.000000</td>\n",
       "      <td>7.000000</td>\n",
       "      <td>4620.000000</td>\n",
       "    </tr>\n",
       "    <tr>\n",
       "      <th>max</th>\n",
       "      <td>84546.000000</td>\n",
       "      <td>20.000000</td>\n",
       "      <td>41.000000</td>\n",
       "      <td>5965.000000</td>\n",
       "    </tr>\n",
       "  </tbody>\n",
       "</table>\n",
       "</div>"
      ],
      "text/plain": [
       "                 id         grade     class_num     school_id\n",
       "count  84515.000000  84515.000000  84515.000000  84515.000000\n",
       "mean   42279.376087      2.113992      5.318606   3079.496468\n",
       "std    24400.962630      0.754896      4.089901   1675.036093\n",
       "min        1.000000      1.000000      0.000000      1.000000\n",
       "25%    21147.500000      2.000000      2.000000   1752.000000\n",
       "50%    42279.000000      2.000000      4.000000   3023.000000\n",
       "75%    63411.500000      3.000000      7.000000   4620.000000\n",
       "max    84546.000000     20.000000     41.000000   5965.000000"
      ]
     },
     "execution_count": 47,
     "metadata": {},
     "output_type": "execute_result"
    }
   ],
   "source": [
    "group_df.describe()"
   ]
  },
  {
   "cell_type": "code",
   "execution_count": 48,
   "id": "1ecf2529",
   "metadata": {},
   "outputs": [
    {
     "data": {
      "text/plain": [
       "grade\n",
       "2     35581\n",
       "3     29273\n",
       "1     19659\n",
       "4         1\n",
       "20        1\n",
       "Name: count, dtype: int64"
      ]
     },
     "execution_count": 48,
     "metadata": {},
     "output_type": "execute_result"
    }
   ],
   "source": [
    "group_df['grade'].value_counts()"
   ]
  },
  {
   "cell_type": "code",
   "execution_count": 49,
   "id": "a282c8c8",
   "metadata": {},
   "outputs": [
    {
     "data": {
      "text/plain": [
       "class_num\n",
       "1     12125\n",
       "2     11077\n",
       "3     10276\n",
       "4      9506\n",
       "5      8578\n",
       "6      7555\n",
       "7      6390\n",
       "8      5294\n",
       "9      3799\n",
       "10     3067\n",
       "20     2454\n",
       "11     1600\n",
       "12      998\n",
       "13      506\n",
       "14      311\n",
       "18      217\n",
       "15      216\n",
       "17      214\n",
       "19      177\n",
       "16      152\n",
       "0         2\n",
       "41        1\n",
       "Name: count, dtype: int64"
      ]
     },
     "execution_count": 49,
     "metadata": {},
     "output_type": "execute_result"
    }
   ],
   "source": [
    "group_df['class_num'].value_counts()"
   ]
  },
  {
   "cell_type": "markdown",
   "id": "ecc8de3c",
   "metadata": {},
   "source": [
    "- 2, 3 grade가 많고 1은 적으며, 4와 20은 이상치로 봐도 될듯한 수"
   ]
  },
  {
   "cell_type": "markdown",
   "id": "06376c58",
   "metadata": {},
   "source": [
    "---"
   ]
  },
  {
   "cell_type": "code",
   "execution_count": 50,
   "id": "3fb6f8f6",
   "metadata": {},
   "outputs": [
    {
     "data": {
      "text/html": [
       "<div>\n",
       "<style scoped>\n",
       "    .dataframe tbody tr th:only-of-type {\n",
       "        vertical-align: middle;\n",
       "    }\n",
       "\n",
       "    .dataframe tbody tr th {\n",
       "        vertical-align: top;\n",
       "    }\n",
       "\n",
       "    .dataframe thead th {\n",
       "        text-align: right;\n",
       "    }\n",
       "</style>\n",
       "<table border=\"1\" class=\"dataframe\">\n",
       "  <thead>\n",
       "    <tr style=\"text-align: right;\">\n",
       "      <th></th>\n",
       "      <th>id</th>\n",
       "      <th>distance</th>\n",
       "      <th>nearby_school_id</th>\n",
       "      <th>school_id</th>\n",
       "    </tr>\n",
       "  </thead>\n",
       "  <tbody>\n",
       "    <tr>\n",
       "      <th>0</th>\n",
       "      <td>119021</td>\n",
       "      <td>0.004564</td>\n",
       "      <td>6</td>\n",
       "      <td>7</td>\n",
       "    </tr>\n",
       "    <tr>\n",
       "      <th>1</th>\n",
       "      <td>119022</td>\n",
       "      <td>0.010787</td>\n",
       "      <td>13</td>\n",
       "      <td>7</td>\n",
       "    </tr>\n",
       "    <tr>\n",
       "      <th>2</th>\n",
       "      <td>119023</td>\n",
       "      <td>0.012928</td>\n",
       "      <td>20</td>\n",
       "      <td>7</td>\n",
       "    </tr>\n",
       "    <tr>\n",
       "      <th>3</th>\n",
       "      <td>119024</td>\n",
       "      <td>0.013590</td>\n",
       "      <td>4</td>\n",
       "      <td>7</td>\n",
       "    </tr>\n",
       "    <tr>\n",
       "      <th>4</th>\n",
       "      <td>119025</td>\n",
       "      <td>0.014122</td>\n",
       "      <td>24</td>\n",
       "      <td>7</td>\n",
       "    </tr>\n",
       "  </tbody>\n",
       "</table>\n",
       "</div>"
      ],
      "text/plain": [
       "       id  distance  nearby_school_id  school_id\n",
       "0  119021  0.004564                 6          7\n",
       "1  119022  0.010787                13          7\n",
       "2  119023  0.012928                20          7\n",
       "3  119024  0.013590                 4          7\n",
       "4  119025  0.014122                24          7"
      ]
     },
     "execution_count": 50,
     "metadata": {},
     "output_type": "execute_result"
    }
   ],
   "source": [
    "# 가까운 학교를 기록해두기 위한 관계형 테이블\n",
    "nearbyschool_df = pd.read_parquet('votes/accounts_nearbyschool.parquet') \n",
    "nearbyschool_df.head()"
   ]
  },
  {
   "cell_type": "code",
   "execution_count": 51,
   "id": "6d14ab0c",
   "metadata": {},
   "outputs": [
    {
     "name": "stdout",
     "output_type": "stream",
     "text": [
      "<class 'pandas.core.frame.DataFrame'>\n",
      "RangeIndex: 59500 entries, 0 to 59499\n",
      "Data columns (total 4 columns):\n",
      " #   Column            Non-Null Count  Dtype  \n",
      "---  ------            --------------  -----  \n",
      " 0   id                59500 non-null  int64  \n",
      " 1   distance          59500 non-null  float64\n",
      " 2   nearby_school_id  59500 non-null  int64  \n",
      " 3   school_id         59500 non-null  int64  \n",
      "dtypes: float64(1), int64(3)\n",
      "memory usage: 1.8 MB\n"
     ]
    }
   ],
   "source": [
    "nearbyschool_df.info()"
   ]
  },
  {
   "cell_type": "code",
   "execution_count": 52,
   "id": "a869b2cd",
   "metadata": {},
   "outputs": [
    {
     "data": {
      "text/html": [
       "<div>\n",
       "<style scoped>\n",
       "    .dataframe tbody tr th:only-of-type {\n",
       "        vertical-align: middle;\n",
       "    }\n",
       "\n",
       "    .dataframe tbody tr th {\n",
       "        vertical-align: top;\n",
       "    }\n",
       "\n",
       "    .dataframe thead th {\n",
       "        text-align: right;\n",
       "    }\n",
       "</style>\n",
       "<table border=\"1\" class=\"dataframe\">\n",
       "  <thead>\n",
       "    <tr style=\"text-align: right;\">\n",
       "      <th></th>\n",
       "      <th>id</th>\n",
       "      <th>distance</th>\n",
       "      <th>nearby_school_id</th>\n",
       "      <th>school_id</th>\n",
       "    </tr>\n",
       "  </thead>\n",
       "  <tbody>\n",
       "    <tr>\n",
       "      <th>count</th>\n",
       "      <td>59500.000000</td>\n",
       "      <td>59500.000000</td>\n",
       "      <td>59500.000000</td>\n",
       "      <td>59500.000000</td>\n",
       "    </tr>\n",
       "    <tr>\n",
       "      <th>mean</th>\n",
       "      <td>148770.500000</td>\n",
       "      <td>0.055338</td>\n",
       "      <td>2976.695882</td>\n",
       "      <td>2980.524538</td>\n",
       "    </tr>\n",
       "    <tr>\n",
       "      <th>std</th>\n",
       "      <td>17176.314845</td>\n",
       "      <td>0.604024</td>\n",
       "      <td>1706.965231</td>\n",
       "      <td>1718.663078</td>\n",
       "    </tr>\n",
       "    <tr>\n",
       "      <th>min</th>\n",
       "      <td>119021.000000</td>\n",
       "      <td>0.000000</td>\n",
       "      <td>4.000000</td>\n",
       "      <td>4.000000</td>\n",
       "    </tr>\n",
       "    <tr>\n",
       "      <th>25%</th>\n",
       "      <td>133895.750000</td>\n",
       "      <td>0.011484</td>\n",
       "      <td>1518.000000</td>\n",
       "      <td>1493.000000</td>\n",
       "    </tr>\n",
       "    <tr>\n",
       "      <th>50%</th>\n",
       "      <td>148770.500000</td>\n",
       "      <td>0.021658</td>\n",
       "      <td>2973.000000</td>\n",
       "      <td>2980.500000</td>\n",
       "    </tr>\n",
       "    <tr>\n",
       "      <th>75%</th>\n",
       "      <td>163645.250000</td>\n",
       "      <td>0.064555</td>\n",
       "      <td>4448.000000</td>\n",
       "      <td>4469.000000</td>\n",
       "    </tr>\n",
       "    <tr>\n",
       "      <th>max</th>\n",
       "      <td>178520.000000</td>\n",
       "      <td>49.296594</td>\n",
       "      <td>5964.000000</td>\n",
       "      <td>5964.000000</td>\n",
       "    </tr>\n",
       "  </tbody>\n",
       "</table>\n",
       "</div>"
      ],
      "text/plain": [
       "                  id      distance  nearby_school_id     school_id\n",
       "count   59500.000000  59500.000000      59500.000000  59500.000000\n",
       "mean   148770.500000      0.055338       2976.695882   2980.524538\n",
       "std     17176.314845      0.604024       1706.965231   1718.663078\n",
       "min    119021.000000      0.000000          4.000000      4.000000\n",
       "25%    133895.750000      0.011484       1518.000000   1493.000000\n",
       "50%    148770.500000      0.021658       2973.000000   2980.500000\n",
       "75%    163645.250000      0.064555       4448.000000   4469.000000\n",
       "max    178520.000000     49.296594       5964.000000   5964.000000"
      ]
     },
     "execution_count": 52,
     "metadata": {},
     "output_type": "execute_result"
    }
   ],
   "source": [
    "nearbyschool_df.describe()"
   ]
  },
  {
   "cell_type": "code",
   "execution_count": 53,
   "id": "a1877066",
   "metadata": {},
   "outputs": [
    {
     "data": {
      "text/plain": [
       "np.int64(0)"
      ]
     },
     "execution_count": 53,
     "metadata": {},
     "output_type": "execute_result"
    }
   ],
   "source": [
    "nearbyschool_df['id'].duplicated().sum()"
   ]
  },
  {
   "cell_type": "markdown",
   "id": "38d80256",
   "metadata": {},
   "source": [
    "- 거리는 0 ~ 0.064rk 75% 차지. max는 49로 이상치 확인 필요"
   ]
  },
  {
   "cell_type": "markdown",
   "id": "977e5739",
   "metadata": {},
   "source": [
    "---"
   ]
  },
  {
   "cell_type": "code",
   "execution_count": 54,
   "id": "615aa3c0",
   "metadata": {},
   "outputs": [
    {
     "data": {
      "text/html": [
       "<div>\n",
       "<style scoped>\n",
       "    .dataframe tbody tr th:only-of-type {\n",
       "        vertical-align: middle;\n",
       "    }\n",
       "\n",
       "    .dataframe tbody tr th {\n",
       "        vertical-align: top;\n",
       "    }\n",
       "\n",
       "    .dataframe thead th {\n",
       "        text-align: right;\n",
       "    }\n",
       "</style>\n",
       "<table border=\"1\" class=\"dataframe\">\n",
       "  <thead>\n",
       "    <tr style=\"text-align: right;\">\n",
       "      <th></th>\n",
       "      <th>id</th>\n",
       "      <th>productId</th>\n",
       "      <th>phone_type</th>\n",
       "      <th>created_at</th>\n",
       "      <th>user_id</th>\n",
       "    </tr>\n",
       "  </thead>\n",
       "  <tbody>\n",
       "    <tr>\n",
       "      <th>0</th>\n",
       "      <td>6</td>\n",
       "      <td>heart.777</td>\n",
       "      <td>A</td>\n",
       "      <td>2023-05-13 21:28:34</td>\n",
       "      <td>1211127</td>\n",
       "    </tr>\n",
       "    <tr>\n",
       "      <th>1</th>\n",
       "      <td>7</td>\n",
       "      <td>heart.777</td>\n",
       "      <td>A</td>\n",
       "      <td>2023-05-13 21:29:39</td>\n",
       "      <td>1151343</td>\n",
       "    </tr>\n",
       "    <tr>\n",
       "      <th>2</th>\n",
       "      <td>8</td>\n",
       "      <td>heart.777</td>\n",
       "      <td>A</td>\n",
       "      <td>2023-05-13 21:31:33</td>\n",
       "      <td>1002147</td>\n",
       "    </tr>\n",
       "    <tr>\n",
       "      <th>3</th>\n",
       "      <td>9</td>\n",
       "      <td>heart.777</td>\n",
       "      <td>A</td>\n",
       "      <td>2023-05-13 21:31:39</td>\n",
       "      <td>1095040</td>\n",
       "    </tr>\n",
       "    <tr>\n",
       "      <th>4</th>\n",
       "      <td>11</td>\n",
       "      <td>heart.777</td>\n",
       "      <td>A</td>\n",
       "      <td>2023-05-13 21:34:32</td>\n",
       "      <td>1164081</td>\n",
       "    </tr>\n",
       "  </tbody>\n",
       "</table>\n",
       "</div>"
      ],
      "text/plain": [
       "   id  productId phone_type          created_at  user_id\n",
       "0   6  heart.777          A 2023-05-13 21:28:34  1211127\n",
       "1   7  heart.777          A 2023-05-13 21:29:39  1151343\n",
       "2   8  heart.777          A 2023-05-13 21:31:33  1002147\n",
       "3   9  heart.777          A 2023-05-13 21:31:39  1095040\n",
       "4  11  heart.777          A 2023-05-13 21:34:32  1164081"
      ]
     },
     "execution_count": 54,
     "metadata": {},
     "output_type": "execute_result"
    }
   ],
   "source": [
    "# 구매 기록 테이블\n",
    "paymenthistory_df = pd.read_parquet('votes/accounts_paymenthistory.parquet') \n",
    "paymenthistory_df.head()"
   ]
  },
  {
   "cell_type": "code",
   "execution_count": 55,
   "id": "9e14ea00",
   "metadata": {},
   "outputs": [
    {
     "name": "stdout",
     "output_type": "stream",
     "text": [
      "<class 'pandas.core.frame.DataFrame'>\n",
      "RangeIndex: 95140 entries, 0 to 95139\n",
      "Data columns (total 5 columns):\n",
      " #   Column      Non-Null Count  Dtype         \n",
      "---  ------      --------------  -----         \n",
      " 0   id          95140 non-null  int64         \n",
      " 1   productId   95140 non-null  object        \n",
      " 2   phone_type  95140 non-null  object        \n",
      " 3   created_at  95140 non-null  datetime64[ns]\n",
      " 4   user_id     95140 non-null  int64         \n",
      "dtypes: datetime64[ns](1), int64(2), object(2)\n",
      "memory usage: 3.6+ MB\n"
     ]
    }
   ],
   "source": [
    "paymenthistory_df.info()"
   ]
  },
  {
   "cell_type": "code",
   "execution_count": 56,
   "id": "05e821ad",
   "metadata": {},
   "outputs": [
    {
     "data": {
      "text/plain": [
       "array(['heart.777', 'heart.200', 'heart.4000', 'heart.1000'], dtype=object)"
      ]
     },
     "execution_count": 56,
     "metadata": {},
     "output_type": "execute_result"
    }
   ],
   "source": [
    "paymenthistory_df['productId'].unique()"
   ]
  },
  {
   "cell_type": "code",
   "execution_count": 57,
   "id": "ffbd000c",
   "metadata": {},
   "outputs": [
    {
     "data": {
      "text/plain": [
       "productId\n",
       "heart.777     57873\n",
       "heart.1000    19309\n",
       "heart.200     15822\n",
       "heart.4000     2136\n",
       "Name: count, dtype: int64"
      ]
     },
     "execution_count": 57,
     "metadata": {},
     "output_type": "execute_result"
    }
   ],
   "source": [
    "paymenthistory_df['productId'].value_counts()"
   ]
  },
  {
   "cell_type": "code",
   "execution_count": 58,
   "id": "e143c902",
   "metadata": {},
   "outputs": [
    {
     "data": {
      "text/plain": [
       "np.int64(0)"
      ]
     },
     "execution_count": 58,
     "metadata": {},
     "output_type": "execute_result"
    }
   ],
   "source": [
    "paymenthistory_df['id'].duplicated().sum()"
   ]
  },
  {
   "cell_type": "code",
   "execution_count": 59,
   "id": "f1f0c7a6",
   "metadata": {},
   "outputs": [
    {
     "data": {
      "text/plain": [
       "np.int64(35948)"
      ]
     },
     "execution_count": 59,
     "metadata": {},
     "output_type": "execute_result"
    }
   ],
   "source": [
    "paymenthistory_df['user_id'].duplicated().sum()"
   ]
  },
  {
   "cell_type": "code",
   "execution_count": 60,
   "id": "e4222e1e",
   "metadata": {},
   "outputs": [
    {
     "data": {
      "text/plain": [
       "user_id\n",
       "1527451    60\n",
       "1246471    51\n",
       "1141603    35\n",
       "1204373    34\n",
       "1142775    30\n",
       "Name: count, dtype: int64"
      ]
     },
     "execution_count": 60,
     "metadata": {},
     "output_type": "execute_result"
    }
   ],
   "source": [
    "paymenthistory_df['user_id'].value_counts().head()"
   ]
  },
  {
   "cell_type": "code",
   "execution_count": 61,
   "id": "8e119ec9",
   "metadata": {},
   "outputs": [
    {
     "data": {
      "text/html": [
       "<div>\n",
       "<style scoped>\n",
       "    .dataframe tbody tr th:only-of-type {\n",
       "        vertical-align: middle;\n",
       "    }\n",
       "\n",
       "    .dataframe tbody tr th {\n",
       "        vertical-align: top;\n",
       "    }\n",
       "\n",
       "    .dataframe thead th {\n",
       "        text-align: right;\n",
       "    }\n",
       "</style>\n",
       "<table border=\"1\" class=\"dataframe\">\n",
       "  <thead>\n",
       "    <tr style=\"text-align: right;\">\n",
       "      <th></th>\n",
       "      <th>id</th>\n",
       "      <th>created_at</th>\n",
       "      <th>user_id</th>\n",
       "    </tr>\n",
       "  </thead>\n",
       "  <tbody>\n",
       "    <tr>\n",
       "      <th>count</th>\n",
       "      <td>95140.000000</td>\n",
       "      <td>95140</td>\n",
       "      <td>9.514000e+04</td>\n",
       "    </tr>\n",
       "    <tr>\n",
       "      <th>mean</th>\n",
       "      <td>49136.797572</td>\n",
       "      <td>2023-05-27 21:47:32.003741952</td>\n",
       "      <td>1.256912e+06</td>\n",
       "    </tr>\n",
       "    <tr>\n",
       "      <th>min</th>\n",
       "      <td>6.000000</td>\n",
       "      <td>2023-05-13 21:28:34</td>\n",
       "      <td>8.330410e+05</td>\n",
       "    </tr>\n",
       "    <tr>\n",
       "      <th>25%</th>\n",
       "      <td>24531.750000</td>\n",
       "      <td>2023-05-16 11:48:44.750000128</td>\n",
       "      <td>1.116654e+06</td>\n",
       "    </tr>\n",
       "    <tr>\n",
       "      <th>50%</th>\n",
       "      <td>49176.500000</td>\n",
       "      <td>2023-05-21 12:40:45.500000</td>\n",
       "      <td>1.270988e+06</td>\n",
       "    </tr>\n",
       "    <tr>\n",
       "      <th>75%</th>\n",
       "      <td>73740.250000</td>\n",
       "      <td>2023-05-27 13:02:52.249999872</td>\n",
       "      <td>1.417660e+06</td>\n",
       "    </tr>\n",
       "    <tr>\n",
       "      <th>max</th>\n",
       "      <td>98078.000000</td>\n",
       "      <td>2024-05-08 14:12:45</td>\n",
       "      <td>1.583632e+06</td>\n",
       "    </tr>\n",
       "    <tr>\n",
       "      <th>std</th>\n",
       "      <td>28366.854064</td>\n",
       "      <td>NaN</td>\n",
       "      <td>1.911243e+05</td>\n",
       "    </tr>\n",
       "  </tbody>\n",
       "</table>\n",
       "</div>"
      ],
      "text/plain": [
       "                 id                     created_at       user_id\n",
       "count  95140.000000                          95140  9.514000e+04\n",
       "mean   49136.797572  2023-05-27 21:47:32.003741952  1.256912e+06\n",
       "min        6.000000            2023-05-13 21:28:34  8.330410e+05\n",
       "25%    24531.750000  2023-05-16 11:48:44.750000128  1.116654e+06\n",
       "50%    49176.500000     2023-05-21 12:40:45.500000  1.270988e+06\n",
       "75%    73740.250000  2023-05-27 13:02:52.249999872  1.417660e+06\n",
       "max    98078.000000            2024-05-08 14:12:45  1.583632e+06\n",
       "std    28366.854064                            NaN  1.911243e+05"
      ]
     },
     "execution_count": 61,
     "metadata": {},
     "output_type": "execute_result"
    }
   ],
   "source": [
    "paymenthistory_df.describe()"
   ]
  },
  {
   "cell_type": "code",
   "execution_count": 62,
   "id": "bf67c0c0",
   "metadata": {},
   "outputs": [
    {
     "data": {
      "text/html": [
       "<div>\n",
       "<style scoped>\n",
       "    .dataframe tbody tr th:only-of-type {\n",
       "        vertical-align: middle;\n",
       "    }\n",
       "\n",
       "    .dataframe tbody tr th {\n",
       "        vertical-align: top;\n",
       "    }\n",
       "\n",
       "    .dataframe thead th {\n",
       "        text-align: right;\n",
       "    }\n",
       "</style>\n",
       "<table border=\"1\" class=\"dataframe\">\n",
       "  <thead>\n",
       "    <tr style=\"text-align: right;\">\n",
       "      <th></th>\n",
       "      <th>productId</th>\n",
       "      <th>phone_type</th>\n",
       "    </tr>\n",
       "  </thead>\n",
       "  <tbody>\n",
       "    <tr>\n",
       "      <th>count</th>\n",
       "      <td>95140</td>\n",
       "      <td>95140</td>\n",
       "    </tr>\n",
       "    <tr>\n",
       "      <th>unique</th>\n",
       "      <td>4</td>\n",
       "      <td>2</td>\n",
       "    </tr>\n",
       "    <tr>\n",
       "      <th>top</th>\n",
       "      <td>heart.777</td>\n",
       "      <td>I</td>\n",
       "    </tr>\n",
       "    <tr>\n",
       "      <th>freq</th>\n",
       "      <td>57873</td>\n",
       "      <td>61632</td>\n",
       "    </tr>\n",
       "  </tbody>\n",
       "</table>\n",
       "</div>"
      ],
      "text/plain": [
       "        productId phone_type\n",
       "count       95140      95140\n",
       "unique          4          2\n",
       "top     heart.777          I\n",
       "freq        57873      61632"
      ]
     },
     "execution_count": 62,
     "metadata": {},
     "output_type": "execute_result"
    }
   ],
   "source": [
    "paymenthistory_df.describe(include='O')"
   ]
  },
  {
   "cell_type": "markdown",
   "id": "538f142c",
   "metadata": {},
   "source": [
    "- phone_type 이 I가 가장 많아서 에러도 가장 많이 났던 것으로 유추\n",
    "- heart.777 구매 비중이 큰 편차로 많음"
   ]
  },
  {
   "cell_type": "markdown",
   "id": "fa3dd85e",
   "metadata": {},
   "source": [
    "---"
   ]
  },
  {
   "cell_type": "code",
   "execution_count": 63,
   "id": "3a5d7bd7",
   "metadata": {},
   "outputs": [
    {
     "data": {
      "text/html": [
       "<div>\n",
       "<style scoped>\n",
       "    .dataframe tbody tr th:only-of-type {\n",
       "        vertical-align: middle;\n",
       "    }\n",
       "\n",
       "    .dataframe tbody tr th {\n",
       "        vertical-align: top;\n",
       "    }\n",
       "\n",
       "    .dataframe thead th {\n",
       "        text-align: right;\n",
       "    }\n",
       "</style>\n",
       "<table border=\"1\" class=\"dataframe\">\n",
       "  <thead>\n",
       "    <tr style=\"text-align: right;\">\n",
       "      <th></th>\n",
       "      <th>id</th>\n",
       "      <th>delta_point</th>\n",
       "      <th>created_at</th>\n",
       "      <th>user_id</th>\n",
       "      <th>user_question_record_id</th>\n",
       "    </tr>\n",
       "  </thead>\n",
       "  <tbody>\n",
       "    <tr>\n",
       "      <th>0</th>\n",
       "      <td>790629</td>\n",
       "      <td>9</td>\n",
       "      <td>2023-04-28 12:27:49</td>\n",
       "      <td>849436</td>\n",
       "      <td>771777.0</td>\n",
       "    </tr>\n",
       "    <tr>\n",
       "      <th>1</th>\n",
       "      <td>790652</td>\n",
       "      <td>9</td>\n",
       "      <td>2023-04-28 12:28:02</td>\n",
       "      <td>849436</td>\n",
       "      <td>771800.0</td>\n",
       "    </tr>\n",
       "    <tr>\n",
       "      <th>2</th>\n",
       "      <td>790664</td>\n",
       "      <td>5</td>\n",
       "      <td>2023-04-28 12:28:09</td>\n",
       "      <td>849436</td>\n",
       "      <td>771812.0</td>\n",
       "    </tr>\n",
       "    <tr>\n",
       "      <th>3</th>\n",
       "      <td>790680</td>\n",
       "      <td>13</td>\n",
       "      <td>2023-04-28 12:28:16</td>\n",
       "      <td>849436</td>\n",
       "      <td>771828.0</td>\n",
       "    </tr>\n",
       "    <tr>\n",
       "      <th>4</th>\n",
       "      <td>790703</td>\n",
       "      <td>5</td>\n",
       "      <td>2023-04-28 12:28:26</td>\n",
       "      <td>849436</td>\n",
       "      <td>771851.0</td>\n",
       "    </tr>\n",
       "  </tbody>\n",
       "</table>\n",
       "</div>"
      ],
      "text/plain": [
       "       id  delta_point          created_at  user_id  user_question_record_id\n",
       "0  790629            9 2023-04-28 12:27:49   849436                 771777.0\n",
       "1  790652            9 2023-04-28 12:28:02   849436                 771800.0\n",
       "2  790664            5 2023-04-28 12:28:09   849436                 771812.0\n",
       "3  790680           13 2023-04-28 12:28:16   849436                 771828.0\n",
       "4  790703            5 2023-04-28 12:28:26   849436                 771851.0"
      ]
     },
     "execution_count": 63,
     "metadata": {},
     "output_type": "execute_result"
    }
   ],
   "source": [
    "# 포인트 기록 테이블\n",
    "pointhistory_df = pd.read_parquet('votes/accounts_pointhistory.parquet') \n",
    "pointhistory_df.head()"
   ]
  },
  {
   "cell_type": "code",
   "execution_count": 64,
   "id": "ef41634c",
   "metadata": {},
   "outputs": [
    {
     "name": "stdout",
     "output_type": "stream",
     "text": [
      "<class 'pandas.core.frame.DataFrame'>\n",
      "RangeIndex: 2338918 entries, 0 to 2338917\n",
      "Data columns (total 5 columns):\n",
      " #   Column                   Dtype         \n",
      "---  ------                   -----         \n",
      " 0   id                       int64         \n",
      " 1   delta_point              int64         \n",
      " 2   created_at               datetime64[ns]\n",
      " 3   user_id                  int64         \n",
      " 4   user_question_record_id  float64       \n",
      "dtypes: datetime64[ns](1), float64(1), int64(3)\n",
      "memory usage: 89.2 MB\n"
     ]
    }
   ],
   "source": [
    "pointhistory_df.info()"
   ]
  },
  {
   "cell_type": "code",
   "execution_count": 65,
   "id": "89aeaa67",
   "metadata": {},
   "outputs": [
    {
     "data": {
      "text/html": [
       "<div>\n",
       "<style scoped>\n",
       "    .dataframe tbody tr th:only-of-type {\n",
       "        vertical-align: middle;\n",
       "    }\n",
       "\n",
       "    .dataframe tbody tr th {\n",
       "        vertical-align: top;\n",
       "    }\n",
       "\n",
       "    .dataframe thead th {\n",
       "        text-align: right;\n",
       "    }\n",
       "</style>\n",
       "<table border=\"1\" class=\"dataframe\">\n",
       "  <thead>\n",
       "    <tr style=\"text-align: right;\">\n",
       "      <th></th>\n",
       "      <th>id</th>\n",
       "      <th>delta_point</th>\n",
       "      <th>created_at</th>\n",
       "      <th>user_id</th>\n",
       "      <th>user_question_record_id</th>\n",
       "    </tr>\n",
       "  </thead>\n",
       "  <tbody>\n",
       "    <tr>\n",
       "      <th>count</th>\n",
       "      <td>2.338918e+06</td>\n",
       "      <td>2.338918e+06</td>\n",
       "      <td>2338918</td>\n",
       "      <td>2.338918e+06</td>\n",
       "      <td>2.335926e+06</td>\n",
       "    </tr>\n",
       "    <tr>\n",
       "      <th>mean</th>\n",
       "      <td>1.265364e+08</td>\n",
       "      <td>8.610862e-01</td>\n",
       "      <td>2023-05-18 03:06:43.825683968</td>\n",
       "      <td>1.111554e+06</td>\n",
       "      <td>6.141803e+07</td>\n",
       "    </tr>\n",
       "    <tr>\n",
       "      <th>min</th>\n",
       "      <td>7.906290e+05</td>\n",
       "      <td>-1.000000e+03</td>\n",
       "      <td>2023-04-28 12:27:49</td>\n",
       "      <td>8.380230e+05</td>\n",
       "      <td>7.717770e+05</td>\n",
       "    </tr>\n",
       "    <tr>\n",
       "      <th>25%</th>\n",
       "      <td>4.112505e+07</td>\n",
       "      <td>7.000000e+00</td>\n",
       "      <td>2023-05-11 04:37:02</td>\n",
       "      <td>8.861890e+05</td>\n",
       "      <td>2.088561e+07</td>\n",
       "    </tr>\n",
       "    <tr>\n",
       "      <th>50%</th>\n",
       "      <td>1.123971e+08</td>\n",
       "      <td>1.000000e+01</td>\n",
       "      <td>2023-05-16 07:29:11</td>\n",
       "      <td>1.126012e+06</td>\n",
       "      <td>5.540614e+07</td>\n",
       "    </tr>\n",
       "    <tr>\n",
       "      <th>75%</th>\n",
       "      <td>1.982051e+08</td>\n",
       "      <td>1.300000e+01</td>\n",
       "      <td>2023-05-22 13:47:48.750000128</td>\n",
       "      <td>1.260221e+06</td>\n",
       "      <td>9.555855e+07</td>\n",
       "    </tr>\n",
       "    <tr>\n",
       "      <th>max</th>\n",
       "      <td>3.406724e+08</td>\n",
       "      <td>1.000000e+03</td>\n",
       "      <td>2024-05-08 01:36:18</td>\n",
       "      <td>1.583358e+06</td>\n",
       "      <td>1.616665e+08</td>\n",
       "    </tr>\n",
       "    <tr>\n",
       "      <th>std</th>\n",
       "      <td>9.610992e+07</td>\n",
       "      <td>5.885849e+01</td>\n",
       "      <td>NaN</td>\n",
       "      <td>2.024429e+05</td>\n",
       "      <td>4.531970e+07</td>\n",
       "    </tr>\n",
       "  </tbody>\n",
       "</table>\n",
       "</div>"
      ],
      "text/plain": [
       "                 id   delta_point                     created_at  \\\n",
       "count  2.338918e+06  2.338918e+06                        2338918   \n",
       "mean   1.265364e+08  8.610862e-01  2023-05-18 03:06:43.825683968   \n",
       "min    7.906290e+05 -1.000000e+03            2023-04-28 12:27:49   \n",
       "25%    4.112505e+07  7.000000e+00            2023-05-11 04:37:02   \n",
       "50%    1.123971e+08  1.000000e+01            2023-05-16 07:29:11   \n",
       "75%    1.982051e+08  1.300000e+01  2023-05-22 13:47:48.750000128   \n",
       "max    3.406724e+08  1.000000e+03            2024-05-08 01:36:18   \n",
       "std    9.610992e+07  5.885849e+01                            NaN   \n",
       "\n",
       "            user_id  user_question_record_id  \n",
       "count  2.338918e+06             2.335926e+06  \n",
       "mean   1.111554e+06             6.141803e+07  \n",
       "min    8.380230e+05             7.717770e+05  \n",
       "25%    8.861890e+05             2.088561e+07  \n",
       "50%    1.126012e+06             5.540614e+07  \n",
       "75%    1.260221e+06             9.555855e+07  \n",
       "max    1.583358e+06             1.616665e+08  \n",
       "std    2.024429e+05             4.531970e+07  "
      ]
     },
     "execution_count": 65,
     "metadata": {},
     "output_type": "execute_result"
    }
   ],
   "source": [
    "pointhistory_df.describe()"
   ]
  },
  {
   "cell_type": "markdown",
   "id": "378f993b",
   "metadata": {},
   "source": [
    "- delta_point에 마이너스도 있음"
   ]
  },
  {
   "cell_type": "markdown",
   "id": "79c855b4",
   "metadata": {},
   "source": [
    "---"
   ]
  },
  {
   "cell_type": "code",
   "execution_count": 66,
   "id": "168ef0f8",
   "metadata": {},
   "outputs": [
    {
     "data": {
      "text/html": [
       "<div>\n",
       "<style scoped>\n",
       "    .dataframe tbody tr th:only-of-type {\n",
       "        vertical-align: middle;\n",
       "    }\n",
       "\n",
       "    .dataframe tbody tr th {\n",
       "        vertical-align: top;\n",
       "    }\n",
       "\n",
       "    .dataframe thead th {\n",
       "        text-align: right;\n",
       "    }\n",
       "</style>\n",
       "<table border=\"1\" class=\"dataframe\">\n",
       "  <thead>\n",
       "    <tr style=\"text-align: right;\">\n",
       "      <th></th>\n",
       "      <th>id</th>\n",
       "      <th>address</th>\n",
       "      <th>student_count</th>\n",
       "      <th>school_type</th>\n",
       "    </tr>\n",
       "  </thead>\n",
       "  <tbody>\n",
       "    <tr>\n",
       "      <th>0</th>\n",
       "      <td>4</td>\n",
       "      <td>충청북도 충주시</td>\n",
       "      <td>239</td>\n",
       "      <td>H</td>\n",
       "    </tr>\n",
       "    <tr>\n",
       "      <th>1</th>\n",
       "      <td>5</td>\n",
       "      <td>충청북도 충주시</td>\n",
       "      <td>160</td>\n",
       "      <td>M</td>\n",
       "    </tr>\n",
       "    <tr>\n",
       "      <th>2</th>\n",
       "      <td>6</td>\n",
       "      <td>충청북도 충주시</td>\n",
       "      <td>200</td>\n",
       "      <td>H</td>\n",
       "    </tr>\n",
       "    <tr>\n",
       "      <th>3</th>\n",
       "      <td>7</td>\n",
       "      <td>충청북도 충주시</td>\n",
       "      <td>114</td>\n",
       "      <td>H</td>\n",
       "    </tr>\n",
       "    <tr>\n",
       "      <th>4</th>\n",
       "      <td>8</td>\n",
       "      <td>충청북도 충주시</td>\n",
       "      <td>139</td>\n",
       "      <td>M</td>\n",
       "    </tr>\n",
       "  </tbody>\n",
       "</table>\n",
       "</div>"
      ],
      "text/plain": [
       "   id   address  student_count school_type\n",
       "0   4  충청북도 충주시            239           H\n",
       "1   5  충청북도 충주시            160           M\n",
       "2   6  충청북도 충주시            200           H\n",
       "3   7  충청북도 충주시            114           H\n",
       "4   8  충청북도 충주시            139           M"
      ]
     },
     "execution_count": 66,
     "metadata": {},
     "output_type": "execute_result"
    }
   ],
   "source": [
    "# 학교 테이블\n",
    "school_df = pd.read_parquet('votes/accounts_school.parquet') \n",
    "school_df.head()"
   ]
  },
  {
   "cell_type": "code",
   "execution_count": 67,
   "id": "c1bc0a92",
   "metadata": {},
   "outputs": [
    {
     "name": "stdout",
     "output_type": "stream",
     "text": [
      "<class 'pandas.core.frame.DataFrame'>\n",
      "RangeIndex: 5951 entries, 0 to 5950\n",
      "Data columns (total 4 columns):\n",
      " #   Column         Non-Null Count  Dtype \n",
      "---  ------         --------------  ----- \n",
      " 0   id             5951 non-null   int64 \n",
      " 1   address        5951 non-null   object\n",
      " 2   student_count  5951 non-null   int64 \n",
      " 3   school_type    5951 non-null   object\n",
      "dtypes: int64(2), object(2)\n",
      "memory usage: 186.1+ KB\n"
     ]
    }
   ],
   "source": [
    "school_df.info()"
   ]
  },
  {
   "cell_type": "code",
   "execution_count": 68,
   "id": "d88ae1ae",
   "metadata": {},
   "outputs": [
    {
     "data": {
      "text/plain": [
       "278"
      ]
     },
     "execution_count": 68,
     "metadata": {},
     "output_type": "execute_result"
    }
   ],
   "source": [
    "school_df['address'].nunique()"
   ]
  },
  {
   "cell_type": "code",
   "execution_count": 69,
   "id": "6b175e55",
   "metadata": {},
   "outputs": [
    {
     "data": {
      "text/plain": [
       "school_type\n",
       "M    3290\n",
       "H    2661\n",
       "Name: count, dtype: int64"
      ]
     },
     "execution_count": 69,
     "metadata": {},
     "output_type": "execute_result"
    }
   ],
   "source": [
    "school_df['school_type'].value_counts()"
   ]
  },
  {
   "cell_type": "code",
   "execution_count": 70,
   "id": "d56c40c4",
   "metadata": {},
   "outputs": [
    {
     "data": {
      "text/html": [
       "<div>\n",
       "<style scoped>\n",
       "    .dataframe tbody tr th:only-of-type {\n",
       "        vertical-align: middle;\n",
       "    }\n",
       "\n",
       "    .dataframe tbody tr th {\n",
       "        vertical-align: top;\n",
       "    }\n",
       "\n",
       "    .dataframe thead th {\n",
       "        text-align: right;\n",
       "    }\n",
       "</style>\n",
       "<table border=\"1\" class=\"dataframe\">\n",
       "  <thead>\n",
       "    <tr style=\"text-align: right;\">\n",
       "      <th></th>\n",
       "      <th>id</th>\n",
       "      <th>student_count</th>\n",
       "    </tr>\n",
       "  </thead>\n",
       "  <tbody>\n",
       "    <tr>\n",
       "      <th>count</th>\n",
       "      <td>5951.000000</td>\n",
       "      <td>5951.000000</td>\n",
       "    </tr>\n",
       "    <tr>\n",
       "      <th>mean</th>\n",
       "      <td>2981.026046</td>\n",
       "      <td>113.772979</td>\n",
       "    </tr>\n",
       "    <tr>\n",
       "      <th>std</th>\n",
       "      <td>1719.084020</td>\n",
       "      <td>102.863428</td>\n",
       "    </tr>\n",
       "    <tr>\n",
       "      <th>min</th>\n",
       "      <td>4.000000</td>\n",
       "      <td>0.000000</td>\n",
       "    </tr>\n",
       "    <tr>\n",
       "      <th>25%</th>\n",
       "      <td>1493.500000</td>\n",
       "      <td>16.000000</td>\n",
       "    </tr>\n",
       "    <tr>\n",
       "      <th>50%</th>\n",
       "      <td>2981.000000</td>\n",
       "      <td>97.000000</td>\n",
       "    </tr>\n",
       "    <tr>\n",
       "      <th>75%</th>\n",
       "      <td>4469.500000</td>\n",
       "      <td>183.000000</td>\n",
       "    </tr>\n",
       "    <tr>\n",
       "      <th>max</th>\n",
       "      <td>5965.000000</td>\n",
       "      <td>578.000000</td>\n",
       "    </tr>\n",
       "  </tbody>\n",
       "</table>\n",
       "</div>"
      ],
      "text/plain": [
       "                id  student_count\n",
       "count  5951.000000    5951.000000\n",
       "mean   2981.026046     113.772979\n",
       "std    1719.084020     102.863428\n",
       "min       4.000000       0.000000\n",
       "25%    1493.500000      16.000000\n",
       "50%    2981.000000      97.000000\n",
       "75%    4469.500000     183.000000\n",
       "max    5965.000000     578.000000"
      ]
     },
     "execution_count": 70,
     "metadata": {},
     "output_type": "execute_result"
    }
   ],
   "source": [
    "school_df.describe()"
   ]
  },
  {
   "cell_type": "code",
   "execution_count": 71,
   "id": "e98f7a5d",
   "metadata": {},
   "outputs": [
    {
     "data": {
      "text/html": [
       "<div>\n",
       "<style scoped>\n",
       "    .dataframe tbody tr th:only-of-type {\n",
       "        vertical-align: middle;\n",
       "    }\n",
       "\n",
       "    .dataframe tbody tr th {\n",
       "        vertical-align: top;\n",
       "    }\n",
       "\n",
       "    .dataframe thead th {\n",
       "        text-align: right;\n",
       "    }\n",
       "</style>\n",
       "<table border=\"1\" class=\"dataframe\">\n",
       "  <thead>\n",
       "    <tr style=\"text-align: right;\">\n",
       "      <th></th>\n",
       "      <th>address</th>\n",
       "      <th>school_type</th>\n",
       "    </tr>\n",
       "  </thead>\n",
       "  <tbody>\n",
       "    <tr>\n",
       "      <th>count</th>\n",
       "      <td>5951</td>\n",
       "      <td>5951</td>\n",
       "    </tr>\n",
       "    <tr>\n",
       "      <th>unique</th>\n",
       "      <td>278</td>\n",
       "      <td>2</td>\n",
       "    </tr>\n",
       "    <tr>\n",
       "      <th>top</th>\n",
       "      <td>경기도 화성시</td>\n",
       "      <td>M</td>\n",
       "    </tr>\n",
       "    <tr>\n",
       "      <th>freq</th>\n",
       "      <td>78</td>\n",
       "      <td>3290</td>\n",
       "    </tr>\n",
       "  </tbody>\n",
       "</table>\n",
       "</div>"
      ],
      "text/plain": [
       "        address school_type\n",
       "count      5951        5951\n",
       "unique      278           2\n",
       "top     경기도 화성시           M\n",
       "freq         78        3290"
      ]
     },
     "execution_count": 71,
     "metadata": {},
     "output_type": "execute_result"
    }
   ],
   "source": [
    "school_df.describe(include='O')"
   ]
  },
  {
   "cell_type": "markdown",
   "id": "c473f4c7",
   "metadata": {},
   "source": [
    "- 경기도 화성시가 제일 큰 비중\n",
    "- 중/고등학교의 비율이 크게 차이나진 않음. 중학교가 더 많음\n",
    "- 학생수의 편차가 커서 이상치 확인 필요"
   ]
  },
  {
   "cell_type": "markdown",
   "id": "7843a73f",
   "metadata": {},
   "source": [
    "---"
   ]
  },
  {
   "cell_type": "code",
   "execution_count": 72,
   "id": "bfaac837",
   "metadata": {},
   "outputs": [
    {
     "data": {
      "text/html": [
       "<div>\n",
       "<style scoped>\n",
       "    .dataframe tbody tr th:only-of-type {\n",
       "        vertical-align: middle;\n",
       "    }\n",
       "\n",
       "    .dataframe tbody tr th {\n",
       "        vertical-align: top;\n",
       "    }\n",
       "\n",
       "    .dataframe thead th {\n",
       "        text-align: right;\n",
       "    }\n",
       "</style>\n",
       "<table border=\"1\" class=\"dataframe\">\n",
       "  <thead>\n",
       "    <tr style=\"text-align: right;\">\n",
       "      <th></th>\n",
       "      <th>id</th>\n",
       "      <th>reason</th>\n",
       "      <th>created_at</th>\n",
       "      <th>reported_user_id</th>\n",
       "      <th>user_id</th>\n",
       "      <th>user_question_record_id</th>\n",
       "    </tr>\n",
       "  </thead>\n",
       "  <tbody>\n",
       "    <tr>\n",
       "      <th>0</th>\n",
       "      <td>28</td>\n",
       "      <td>타인을 사칭함</td>\n",
       "      <td>2023-05-06 04:44:57</td>\n",
       "      <td>874587</td>\n",
       "      <td>885082</td>\n",
       "      <td>3920588</td>\n",
       "    </tr>\n",
       "    <tr>\n",
       "      <th>1</th>\n",
       "      <td>37</td>\n",
       "      <td>친구를 비하하거나 조롱하는 어투</td>\n",
       "      <td>2023-05-06 05:41:19</td>\n",
       "      <td>881048</td>\n",
       "      <td>881298</td>\n",
       "      <td>4018679</td>\n",
       "    </tr>\n",
       "    <tr>\n",
       "      <th>2</th>\n",
       "      <td>46</td>\n",
       "      <td>친구를 비하하거나 조롱하는 어투</td>\n",
       "      <td>2023-05-06 06:26:59</td>\n",
       "      <td>887882</td>\n",
       "      <td>881945</td>\n",
       "      <td>4120914</td>\n",
       "    </tr>\n",
       "    <tr>\n",
       "      <th>3</th>\n",
       "      <td>64</td>\n",
       "      <td>허위 사실 언급</td>\n",
       "      <td>2023-05-06 07:07:46</td>\n",
       "      <td>888610</td>\n",
       "      <td>893684</td>\n",
       "      <td>4143049</td>\n",
       "    </tr>\n",
       "    <tr>\n",
       "      <th>4</th>\n",
       "      <td>65</td>\n",
       "      <td>허위 사실 언급</td>\n",
       "      <td>2023-05-06 07:07:52</td>\n",
       "      <td>888610</td>\n",
       "      <td>893684</td>\n",
       "      <td>4143049</td>\n",
       "    </tr>\n",
       "  </tbody>\n",
       "</table>\n",
       "</div>"
      ],
      "text/plain": [
       "   id             reason          created_at  reported_user_id  user_id  \\\n",
       "0  28            타인을 사칭함 2023-05-06 04:44:57            874587   885082   \n",
       "1  37  친구를 비하하거나 조롱하는 어투 2023-05-06 05:41:19            881048   881298   \n",
       "2  46  친구를 비하하거나 조롱하는 어투 2023-05-06 06:26:59            887882   881945   \n",
       "3  64           허위 사실 언급 2023-05-06 07:07:46            888610   893684   \n",
       "4  65           허위 사실 언급 2023-05-06 07:07:52            888610   893684   \n",
       "\n",
       "   user_question_record_id  \n",
       "0                  3920588  \n",
       "1                  4018679  \n",
       "2                  4120914  \n",
       "3                  4143049  \n",
       "4                  4143049  "
      ]
     },
     "execution_count": 72,
     "metadata": {},
     "output_type": "execute_result"
    }
   ],
   "source": [
    "# 유저 신고 기록 테이블\n",
    "timelinereport_df = pd.read_parquet('votes/accounts_timelinereport.parquet') \n",
    "timelinereport_df.head()"
   ]
  },
  {
   "cell_type": "code",
   "execution_count": 73,
   "id": "f2b6b988",
   "metadata": {},
   "outputs": [
    {
     "name": "stdout",
     "output_type": "stream",
     "text": [
      "<class 'pandas.core.frame.DataFrame'>\n",
      "RangeIndex: 208 entries, 0 to 207\n",
      "Data columns (total 6 columns):\n",
      " #   Column                   Non-Null Count  Dtype         \n",
      "---  ------                   --------------  -----         \n",
      " 0   id                       208 non-null    int64         \n",
      " 1   reason                   208 non-null    object        \n",
      " 2   created_at               208 non-null    datetime64[ns]\n",
      " 3   reported_user_id         208 non-null    int64         \n",
      " 4   user_id                  208 non-null    int64         \n",
      " 5   user_question_record_id  208 non-null    int64         \n",
      "dtypes: datetime64[ns](1), int64(4), object(1)\n",
      "memory usage: 9.9+ KB\n"
     ]
    }
   ],
   "source": [
    "timelinereport_df.info()"
   ]
  },
  {
   "cell_type": "code",
   "execution_count": 75,
   "id": "a59c50af",
   "metadata": {},
   "outputs": [
    {
     "data": {
      "text/plain": [
       "reason\n",
       "허위 사실 언급             80\n",
       "친구를 비하하거나 조롱하는 어투    64\n",
       "선정적이거나 폭력적인 내용       39\n",
       "타인을 사칭함              15\n",
       "광고                   10\n",
       "Name: count, dtype: int64"
      ]
     },
     "execution_count": 75,
     "metadata": {},
     "output_type": "execute_result"
    }
   ],
   "source": [
    "timelinereport_df['reason'].value_counts()"
   ]
  },
  {
   "cell_type": "markdown",
   "id": "f8301f64",
   "metadata": {},
   "source": [
    "- 허위 사실 언급 신고가 가장 많음."
   ]
  },
  {
   "cell_type": "markdown",
   "id": "816fd175",
   "metadata": {},
   "source": [
    "---"
   ]
  },
  {
   "cell_type": "code",
   "execution_count": 76,
   "id": "f362cd64",
   "metadata": {},
   "outputs": [
    {
     "data": {
      "text/html": [
       "<div>\n",
       "<style scoped>\n",
       "    .dataframe tbody tr th:only-of-type {\n",
       "        vertical-align: middle;\n",
       "    }\n",
       "\n",
       "    .dataframe tbody tr th {\n",
       "        vertical-align: top;\n",
       "    }\n",
       "\n",
       "    .dataframe thead th {\n",
       "        text-align: right;\n",
       "    }\n",
       "</style>\n",
       "<table border=\"1\" class=\"dataframe\">\n",
       "  <thead>\n",
       "    <tr style=\"text-align: right;\">\n",
       "      <th></th>\n",
       "      <th>id</th>\n",
       "      <th>contacts_count</th>\n",
       "      <th>invite_user_id_list</th>\n",
       "      <th>user_id</th>\n",
       "    </tr>\n",
       "  </thead>\n",
       "  <tbody>\n",
       "    <tr>\n",
       "      <th>0</th>\n",
       "      <td>259</td>\n",
       "      <td>30</td>\n",
       "      <td>[]</td>\n",
       "      <td>1167696</td>\n",
       "    </tr>\n",
       "    <tr>\n",
       "      <th>1</th>\n",
       "      <td>1756</td>\n",
       "      <td>79</td>\n",
       "      <td>[]</td>\n",
       "      <td>863169</td>\n",
       "    </tr>\n",
       "    <tr>\n",
       "      <th>2</th>\n",
       "      <td>13742</td>\n",
       "      <td>21</td>\n",
       "      <td>[854615]</td>\n",
       "      <td>857205</td>\n",
       "    </tr>\n",
       "    <tr>\n",
       "      <th>3</th>\n",
       "      <td>13754</td>\n",
       "      <td>29</td>\n",
       "      <td>[]</td>\n",
       "      <td>851431</td>\n",
       "    </tr>\n",
       "    <tr>\n",
       "      <th>4</th>\n",
       "      <td>13756</td>\n",
       "      <td>28</td>\n",
       "      <td>[849318]</td>\n",
       "      <td>855476</td>\n",
       "    </tr>\n",
       "  </tbody>\n",
       "</table>\n",
       "</div>"
      ],
      "text/plain": [
       "      id  contacts_count invite_user_id_list  user_id\n",
       "0    259              30                  []  1167696\n",
       "1   1756              79                  []   863169\n",
       "2  13742              21            [854615]   857205\n",
       "3  13754              29                  []   851431\n",
       "4  13756              28            [849318]   855476"
      ]
     },
     "execution_count": 76,
     "metadata": {},
     "output_type": "execute_result"
    }
   ],
   "source": [
    "# 유저의 네트워크 정보 테이블 (연락처, 초대)\n",
    "contacts_df = pd.read_parquet('votes/accounts_user_contacts.parquet') \n",
    "contacts_df.head()"
   ]
  },
  {
   "cell_type": "code",
   "execution_count": 77,
   "id": "12cfbfc0",
   "metadata": {},
   "outputs": [
    {
     "name": "stdout",
     "output_type": "stream",
     "text": [
      "<class 'pandas.core.frame.DataFrame'>\n",
      "RangeIndex: 5063 entries, 0 to 5062\n",
      "Data columns (total 4 columns):\n",
      " #   Column               Non-Null Count  Dtype \n",
      "---  ------               --------------  ----- \n",
      " 0   id                   5063 non-null   int64 \n",
      " 1   contacts_count       5063 non-null   int64 \n",
      " 2   invite_user_id_list  5063 non-null   object\n",
      " 3   user_id              5063 non-null   int64 \n",
      "dtypes: int64(3), object(1)\n",
      "memory usage: 158.3+ KB\n"
     ]
    }
   ],
   "source": [
    "contacts_df.info()"
   ]
  },
  {
   "cell_type": "code",
   "execution_count": 78,
   "id": "3c89c9c2",
   "metadata": {},
   "outputs": [
    {
     "data": {
      "text/plain": [
       "np.int64(0)"
      ]
     },
     "execution_count": 78,
     "metadata": {},
     "output_type": "execute_result"
    }
   ],
   "source": [
    "contacts_df['user_id'].duplicated().sum()"
   ]
  },
  {
   "cell_type": "code",
   "execution_count": 79,
   "id": "49a3ae90",
   "metadata": {},
   "outputs": [
    {
     "data": {
      "text/plain": [
       "928"
      ]
     },
     "execution_count": 79,
     "metadata": {},
     "output_type": "execute_result"
    }
   ],
   "source": [
    "contacts_df['invite_user_id_list'].nunique()"
   ]
  },
  {
   "cell_type": "markdown",
   "id": "9ace023b",
   "metadata": {},
   "source": [
    "---"
   ]
  },
  {
   "cell_type": "code",
   "execution_count": 80,
   "id": "a6645062",
   "metadata": {},
   "outputs": [
    {
     "data": {
      "text/html": [
       "<div>\n",
       "<style scoped>\n",
       "    .dataframe tbody tr th:only-of-type {\n",
       "        vertical-align: middle;\n",
       "    }\n",
       "\n",
       "    .dataframe tbody tr th {\n",
       "        vertical-align: top;\n",
       "    }\n",
       "\n",
       "    .dataframe thead th {\n",
       "        text-align: right;\n",
       "    }\n",
       "</style>\n",
       "<table border=\"1\" class=\"dataframe\">\n",
       "  <thead>\n",
       "    <tr style=\"text-align: right;\">\n",
       "      <th></th>\n",
       "      <th>id</th>\n",
       "      <th>is_superuser</th>\n",
       "      <th>is_staff</th>\n",
       "      <th>gender</th>\n",
       "      <th>point</th>\n",
       "      <th>friend_id_list</th>\n",
       "      <th>is_push_on</th>\n",
       "      <th>created_at</th>\n",
       "      <th>block_user_id_list</th>\n",
       "      <th>hide_user_id_list</th>\n",
       "      <th>ban_status</th>\n",
       "      <th>report_count</th>\n",
       "      <th>alarm_count</th>\n",
       "      <th>pending_chat</th>\n",
       "      <th>pending_votes</th>\n",
       "      <th>group_id</th>\n",
       "    </tr>\n",
       "  </thead>\n",
       "  <tbody>\n",
       "    <tr>\n",
       "      <th>0</th>\n",
       "      <td>831956</td>\n",
       "      <td>1</td>\n",
       "      <td>1</td>\n",
       "      <td>None</td>\n",
       "      <td>600</td>\n",
       "      <td>[1292473, 913158, 1488461, 1064695, 1043565, 1...</td>\n",
       "      <td>0</td>\n",
       "      <td>2023-03-29 03:44:14.047130</td>\n",
       "      <td>[]</td>\n",
       "      <td>[]</td>\n",
       "      <td>N</td>\n",
       "      <td>0</td>\n",
       "      <td>0</td>\n",
       "      <td>0</td>\n",
       "      <td>0</td>\n",
       "      <td>NaN</td>\n",
       "    </tr>\n",
       "    <tr>\n",
       "      <th>1</th>\n",
       "      <td>831962</td>\n",
       "      <td>0</td>\n",
       "      <td>0</td>\n",
       "      <td>F</td>\n",
       "      <td>2248</td>\n",
       "      <td>[833025, 832642, 982531, 879496, 838541, 83752...</td>\n",
       "      <td>1</td>\n",
       "      <td>2023-03-29 05:18:56.162368</td>\n",
       "      <td>[]</td>\n",
       "      <td>[]</td>\n",
       "      <td>N</td>\n",
       "      <td>253</td>\n",
       "      <td>40878</td>\n",
       "      <td>5499</td>\n",
       "      <td>110</td>\n",
       "      <td>12.0</td>\n",
       "    </tr>\n",
       "    <tr>\n",
       "      <th>2</th>\n",
       "      <td>832151</td>\n",
       "      <td>0</td>\n",
       "      <td>0</td>\n",
       "      <td>M</td>\n",
       "      <td>1519</td>\n",
       "      <td>[838785, 982531, 882567, 879496, 838541, 83649...</td>\n",
       "      <td>0</td>\n",
       "      <td>2023-03-29 12:56:34.989468</td>\n",
       "      <td>[]</td>\n",
       "      <td>[]</td>\n",
       "      <td>N</td>\n",
       "      <td>0</td>\n",
       "      <td>37</td>\n",
       "      <td>0</td>\n",
       "      <td>47</td>\n",
       "      <td>1.0</td>\n",
       "    </tr>\n",
       "    <tr>\n",
       "      <th>3</th>\n",
       "      <td>832340</td>\n",
       "      <td>0</td>\n",
       "      <td>0</td>\n",
       "      <td>F</td>\n",
       "      <td>57</td>\n",
       "      <td>[841345, 982531, 838785, 963714, 882567, 83252...</td>\n",
       "      <td>1</td>\n",
       "      <td>2023-03-29 12:56:35.020790</td>\n",
       "      <td>[]</td>\n",
       "      <td>[]</td>\n",
       "      <td>N</td>\n",
       "      <td>0</td>\n",
       "      <td>19</td>\n",
       "      <td>0</td>\n",
       "      <td>21</td>\n",
       "      <td>1.0</td>\n",
       "    </tr>\n",
       "    <tr>\n",
       "      <th>4</th>\n",
       "      <td>832520</td>\n",
       "      <td>0</td>\n",
       "      <td>0</td>\n",
       "      <td>M</td>\n",
       "      <td>1039</td>\n",
       "      <td>[874050, 849763, 874212, 844297, 838541, 84004...</td>\n",
       "      <td>0</td>\n",
       "      <td>2023-03-29 12:56:35.049311</td>\n",
       "      <td>[]</td>\n",
       "      <td>[]</td>\n",
       "      <td>N</td>\n",
       "      <td>0</td>\n",
       "      <td>29</td>\n",
       "      <td>0</td>\n",
       "      <td>15</td>\n",
       "      <td>12.0</td>\n",
       "    </tr>\n",
       "  </tbody>\n",
       "</table>\n",
       "</div>"
      ],
      "text/plain": [
       "       id  is_superuser  is_staff gender  point  \\\n",
       "0  831956             1         1   None    600   \n",
       "1  831962             0         0      F   2248   \n",
       "2  832151             0         0      M   1519   \n",
       "3  832340             0         0      F     57   \n",
       "4  832520             0         0      M   1039   \n",
       "\n",
       "                                      friend_id_list  is_push_on  \\\n",
       "0  [1292473, 913158, 1488461, 1064695, 1043565, 1...           0   \n",
       "1  [833025, 832642, 982531, 879496, 838541, 83752...           1   \n",
       "2  [838785, 982531, 882567, 879496, 838541, 83649...           0   \n",
       "3  [841345, 982531, 838785, 963714, 882567, 83252...           1   \n",
       "4  [874050, 849763, 874212, 844297, 838541, 84004...           0   \n",
       "\n",
       "                  created_at block_user_id_list hide_user_id_list ban_status  \\\n",
       "0 2023-03-29 03:44:14.047130                 []                []          N   \n",
       "1 2023-03-29 05:18:56.162368                 []                []          N   \n",
       "2 2023-03-29 12:56:34.989468                 []                []          N   \n",
       "3 2023-03-29 12:56:35.020790                 []                []          N   \n",
       "4 2023-03-29 12:56:35.049311                 []                []          N   \n",
       "\n",
       "   report_count  alarm_count  pending_chat  pending_votes  group_id  \n",
       "0             0            0             0              0       NaN  \n",
       "1           253        40878          5499            110      12.0  \n",
       "2             0           37             0             47       1.0  \n",
       "3             0           19             0             21       1.0  \n",
       "4             0           29             0             15      12.0  "
      ]
     },
     "execution_count": 80,
     "metadata": {},
     "output_type": "execute_result"
    }
   ],
   "source": [
    "# 유저 테이블\n",
    "user_df = pd.read_parquet('votes/accounts_user.parquet') \n",
    "user_df.head()"
   ]
  },
  {
   "cell_type": "code",
   "execution_count": 81,
   "id": "53ff6ebc",
   "metadata": {},
   "outputs": [
    {
     "name": "stdout",
     "output_type": "stream",
     "text": [
      "<class 'pandas.core.frame.DataFrame'>\n",
      "RangeIndex: 677085 entries, 0 to 677084\n",
      "Data columns (total 16 columns):\n",
      " #   Column              Non-Null Count   Dtype         \n",
      "---  ------              --------------   -----         \n",
      " 0   id                  677085 non-null  int64         \n",
      " 1   is_superuser        677085 non-null  int64         \n",
      " 2   is_staff            677085 non-null  int64         \n",
      " 3   gender              677083 non-null  object        \n",
      " 4   point               677085 non-null  int64         \n",
      " 5   friend_id_list      677085 non-null  object        \n",
      " 6   is_push_on          677085 non-null  int64         \n",
      " 7   created_at          677085 non-null  datetime64[ns]\n",
      " 8   block_user_id_list  677085 non-null  object        \n",
      " 9   hide_user_id_list   677085 non-null  object        \n",
      " 10  ban_status          677085 non-null  object        \n",
      " 11  report_count        677085 non-null  int64         \n",
      " 12  alarm_count         677085 non-null  int64         \n",
      " 13  pending_chat        677085 non-null  int64         \n",
      " 14  pending_votes       677085 non-null  int64         \n",
      " 15  group_id            677082 non-null  float64       \n",
      "dtypes: datetime64[ns](1), float64(1), int64(9), object(5)\n",
      "memory usage: 82.7+ MB\n"
     ]
    }
   ],
   "source": [
    "user_df.info()"
   ]
  },
  {
   "cell_type": "code",
   "execution_count": 86,
   "id": "b7c018f5",
   "metadata": {},
   "outputs": [
    {
     "data": {
      "text/plain": [
       "gender\n",
       "F    396665\n",
       "M    280418\n",
       "Name: count, dtype: int64"
      ]
     },
     "execution_count": 86,
     "metadata": {},
     "output_type": "execute_result"
    }
   ],
   "source": [
    "user_df['gender'].value_counts()"
   ]
  },
  {
   "cell_type": "code",
   "execution_count": 87,
   "id": "915ae7a5",
   "metadata": {},
   "outputs": [
    {
     "data": {
      "text/plain": [
       "is_staff\n",
       "0    677082\n",
       "1         3\n",
       "Name: count, dtype: int64"
      ]
     },
     "execution_count": 87,
     "metadata": {},
     "output_type": "execute_result"
    }
   ],
   "source": [
    "user_df['is_staff'].value_counts()"
   ]
  },
  {
   "cell_type": "code",
   "execution_count": 88,
   "id": "f1a949ab",
   "metadata": {},
   "outputs": [
    {
     "data": {
      "text/plain": [
       "is_push_on\n",
       "1    570849\n",
       "0    106236\n",
       "Name: count, dtype: int64"
      ]
     },
     "execution_count": 88,
     "metadata": {},
     "output_type": "execute_result"
    }
   ],
   "source": [
    "user_df['is_push_on'].value_counts()"
   ]
  },
  {
   "cell_type": "code",
   "execution_count": 89,
   "id": "183599c2",
   "metadata": {},
   "outputs": [
    {
     "data": {
      "text/plain": [
       "is_superuser\n",
       "0    677083\n",
       "1         2\n",
       "Name: count, dtype: int64"
      ]
     },
     "execution_count": 89,
     "metadata": {},
     "output_type": "execute_result"
    }
   ],
   "source": [
    "user_df['is_superuser'].value_counts()"
   ]
  },
  {
   "cell_type": "markdown",
   "id": "56631067",
   "metadata": {},
   "source": [
    "- gender, group_id 에만 3개 이하의 nan 결측치\n",
    "- 대부분이 superuser\n",
    "- 여성 유저가 더 많음\n",
    "- 알람 동의가 더 많음\n",
    "- 친구 리스트, 차단 리스트 확인 가능"
   ]
  },
  {
   "cell_type": "markdown",
   "id": "f5af4a18",
   "metadata": {},
   "source": [
    "---"
   ]
  },
  {
   "cell_type": "code",
   "execution_count": 90,
   "id": "1e754df7",
   "metadata": {},
   "outputs": [
    {
     "data": {
      "text/html": [
       "<div>\n",
       "<style scoped>\n",
       "    .dataframe tbody tr th:only-of-type {\n",
       "        vertical-align: middle;\n",
       "    }\n",
       "\n",
       "    .dataframe tbody tr th {\n",
       "        vertical-align: top;\n",
       "    }\n",
       "\n",
       "    .dataframe thead th {\n",
       "        text-align: right;\n",
       "    }\n",
       "</style>\n",
       "<table border=\"1\" class=\"dataframe\">\n",
       "  <thead>\n",
       "    <tr style=\"text-align: right;\">\n",
       "      <th></th>\n",
       "      <th>id</th>\n",
       "      <th>status</th>\n",
       "      <th>created_at</th>\n",
       "      <th>chosen_user_id</th>\n",
       "      <th>question_id</th>\n",
       "      <th>user_id</th>\n",
       "      <th>question_piece_id</th>\n",
       "      <th>has_read</th>\n",
       "      <th>answer_status</th>\n",
       "      <th>answer_updated_at</th>\n",
       "      <th>report_count</th>\n",
       "      <th>opened_times</th>\n",
       "    </tr>\n",
       "  </thead>\n",
       "  <tbody>\n",
       "    <tr>\n",
       "      <th>0</th>\n",
       "      <td>771777</td>\n",
       "      <td>C</td>\n",
       "      <td>2023-04-28 12:27:49</td>\n",
       "      <td>849469</td>\n",
       "      <td>252</td>\n",
       "      <td>849436</td>\n",
       "      <td>998458</td>\n",
       "      <td>0</td>\n",
       "      <td>N</td>\n",
       "      <td>2023-04-28 12:27:49</td>\n",
       "      <td>0</td>\n",
       "      <td>0</td>\n",
       "    </tr>\n",
       "    <tr>\n",
       "      <th>1</th>\n",
       "      <td>771800</td>\n",
       "      <td>C</td>\n",
       "      <td>2023-04-28 12:28:02</td>\n",
       "      <td>849446</td>\n",
       "      <td>244</td>\n",
       "      <td>849436</td>\n",
       "      <td>998459</td>\n",
       "      <td>0</td>\n",
       "      <td>N</td>\n",
       "      <td>2023-04-28 12:28:02</td>\n",
       "      <td>0</td>\n",
       "      <td>0</td>\n",
       "    </tr>\n",
       "    <tr>\n",
       "      <th>2</th>\n",
       "      <td>771812</td>\n",
       "      <td>C</td>\n",
       "      <td>2023-04-28 12:28:09</td>\n",
       "      <td>849454</td>\n",
       "      <td>183</td>\n",
       "      <td>849436</td>\n",
       "      <td>998460</td>\n",
       "      <td>1</td>\n",
       "      <td>N</td>\n",
       "      <td>2023-04-28 12:28:09</td>\n",
       "      <td>0</td>\n",
       "      <td>0</td>\n",
       "    </tr>\n",
       "    <tr>\n",
       "      <th>3</th>\n",
       "      <td>771828</td>\n",
       "      <td>C</td>\n",
       "      <td>2023-04-28 12:28:16</td>\n",
       "      <td>847375</td>\n",
       "      <td>101</td>\n",
       "      <td>849436</td>\n",
       "      <td>998461</td>\n",
       "      <td>0</td>\n",
       "      <td>N</td>\n",
       "      <td>2023-04-28 12:28:16</td>\n",
       "      <td>0</td>\n",
       "      <td>0</td>\n",
       "    </tr>\n",
       "    <tr>\n",
       "      <th>4</th>\n",
       "      <td>771851</td>\n",
       "      <td>C</td>\n",
       "      <td>2023-04-28 12:28:26</td>\n",
       "      <td>849477</td>\n",
       "      <td>209</td>\n",
       "      <td>849436</td>\n",
       "      <td>998462</td>\n",
       "      <td>1</td>\n",
       "      <td>N</td>\n",
       "      <td>2023-04-28 12:28:26</td>\n",
       "      <td>0</td>\n",
       "      <td>0</td>\n",
       "    </tr>\n",
       "  </tbody>\n",
       "</table>\n",
       "</div>"
      ],
      "text/plain": [
       "       id status          created_at  chosen_user_id  question_id  user_id  \\\n",
       "0  771777      C 2023-04-28 12:27:49          849469          252   849436   \n",
       "1  771800      C 2023-04-28 12:28:02          849446          244   849436   \n",
       "2  771812      C 2023-04-28 12:28:09          849454          183   849436   \n",
       "3  771828      C 2023-04-28 12:28:16          847375          101   849436   \n",
       "4  771851      C 2023-04-28 12:28:26          849477          209   849436   \n",
       "\n",
       "   question_piece_id  has_read answer_status   answer_updated_at  \\\n",
       "0             998458         0             N 2023-04-28 12:27:49   \n",
       "1             998459         0             N 2023-04-28 12:28:02   \n",
       "2             998460         1             N 2023-04-28 12:28:09   \n",
       "3             998461         0             N 2023-04-28 12:28:16   \n",
       "4             998462         1             N 2023-04-28 12:28:26   \n",
       "\n",
       "   report_count  opened_times  \n",
       "0             0             0  \n",
       "1             0             0  \n",
       "2             0             0  \n",
       "3             0             0  \n",
       "4             0             0  "
      ]
     },
     "execution_count": 90,
     "metadata": {},
     "output_type": "execute_result"
    }
   ],
   "source": [
    "# 투표 기록 테이블\n",
    "userquestionrecord_df = pd.read_parquet('votes/accounts_userquestionrecord.parquet') \n",
    "userquestionrecord_df.head()"
   ]
  },
  {
   "cell_type": "code",
   "execution_count": 91,
   "id": "f74122f5",
   "metadata": {},
   "outputs": [
    {
     "name": "stdout",
     "output_type": "stream",
     "text": [
      "<class 'pandas.core.frame.DataFrame'>\n",
      "RangeIndex: 1217558 entries, 0 to 1217557\n",
      "Data columns (total 12 columns):\n",
      " #   Column             Non-Null Count    Dtype         \n",
      "---  ------             --------------    -----         \n",
      " 0   id                 1217558 non-null  int64         \n",
      " 1   status             1217558 non-null  object        \n",
      " 2   created_at         1217558 non-null  datetime64[ns]\n",
      " 3   chosen_user_id     1217558 non-null  int64         \n",
      " 4   question_id        1217558 non-null  int64         \n",
      " 5   user_id            1217558 non-null  int64         \n",
      " 6   question_piece_id  1217558 non-null  int64         \n",
      " 7   has_read           1217558 non-null  int64         \n",
      " 8   answer_status      1217558 non-null  object        \n",
      " 9   answer_updated_at  1217558 non-null  datetime64[ns]\n",
      " 10  report_count       1217558 non-null  int64         \n",
      " 11  opened_times       1217558 non-null  int64         \n",
      "dtypes: datetime64[ns](2), int64(8), object(2)\n",
      "memory usage: 111.5+ MB\n"
     ]
    }
   ],
   "source": [
    "userquestionrecord_df.info()"
   ]
  },
  {
   "cell_type": "code",
   "execution_count": 92,
   "id": "8df707f7",
   "metadata": {},
   "outputs": [
    {
     "data": {
      "text/plain": [
       "np.int64(0)"
      ]
     },
     "execution_count": 92,
     "metadata": {},
     "output_type": "execute_result"
    }
   ],
   "source": [
    "userquestionrecord_df['question_piece_id'].duplicated().sum()"
   ]
  },
  {
   "cell_type": "code",
   "execution_count": 93,
   "id": "4a01c2db",
   "metadata": {},
   "outputs": [
    {
     "data": {
      "text/plain": [
       "np.int64(1212753)"
      ]
     },
     "execution_count": 93,
     "metadata": {},
     "output_type": "execute_result"
    }
   ],
   "source": [
    "userquestionrecord_df['question_id'].duplicated().sum()"
   ]
  },
  {
   "cell_type": "code",
   "execution_count": 94,
   "id": "c9aab411",
   "metadata": {},
   "outputs": [
    {
     "data": {
      "text/plain": [
       "status\n",
       "C    1156322\n",
       "I      60578\n",
       "B        658\n",
       "Name: count, dtype: int64"
      ]
     },
     "execution_count": 94,
     "metadata": {},
     "output_type": "execute_result"
    }
   ],
   "source": [
    "userquestionrecord_df['status'].value_counts()"
   ]
  },
  {
   "cell_type": "code",
   "execution_count": 95,
   "id": "692fad34",
   "metadata": {},
   "outputs": [
    {
     "data": {
      "text/html": [
       "<div>\n",
       "<style scoped>\n",
       "    .dataframe tbody tr th:only-of-type {\n",
       "        vertical-align: middle;\n",
       "    }\n",
       "\n",
       "    .dataframe tbody tr th {\n",
       "        vertical-align: top;\n",
       "    }\n",
       "\n",
       "    .dataframe thead th {\n",
       "        text-align: right;\n",
       "    }\n",
       "</style>\n",
       "<table border=\"1\" class=\"dataframe\">\n",
       "  <thead>\n",
       "    <tr style=\"text-align: right;\">\n",
       "      <th></th>\n",
       "      <th>id</th>\n",
       "      <th>created_at</th>\n",
       "      <th>chosen_user_id</th>\n",
       "      <th>question_id</th>\n",
       "      <th>user_id</th>\n",
       "      <th>question_piece_id</th>\n",
       "      <th>has_read</th>\n",
       "      <th>answer_updated_at</th>\n",
       "      <th>report_count</th>\n",
       "      <th>opened_times</th>\n",
       "    </tr>\n",
       "  </thead>\n",
       "  <tbody>\n",
       "    <tr>\n",
       "      <th>count</th>\n",
       "      <td>1.217558e+06</td>\n",
       "      <td>1217558</td>\n",
       "      <td>1.217558e+06</td>\n",
       "      <td>1.217558e+06</td>\n",
       "      <td>1.217558e+06</td>\n",
       "      <td>1.217558e+06</td>\n",
       "      <td>1.217558e+06</td>\n",
       "      <td>1217558</td>\n",
       "      <td>1.217558e+06</td>\n",
       "      <td>1.217558e+06</td>\n",
       "    </tr>\n",
       "    <tr>\n",
       "      <th>mean</th>\n",
       "      <td>5.957298e+07</td>\n",
       "      <td>2023-05-17 12:51:25.947102208</td>\n",
       "      <td>1.092604e+06</td>\n",
       "      <td>6.843895e+02</td>\n",
       "      <td>1.105790e+06</td>\n",
       "      <td>7.413211e+07</td>\n",
       "      <td>5.551530e-01</td>\n",
       "      <td>2023-05-17 13:44:38.920359680</td>\n",
       "      <td>1.765830e-04</td>\n",
       "      <td>6.332511e-02</td>\n",
       "    </tr>\n",
       "    <tr>\n",
       "      <th>min</th>\n",
       "      <td>7.717770e+05</td>\n",
       "      <td>2023-04-28 12:27:49</td>\n",
       "      <td>8.331120e+05</td>\n",
       "      <td>9.900000e+01</td>\n",
       "      <td>8.380230e+05</td>\n",
       "      <td>9.984580e+05</td>\n",
       "      <td>0.000000e+00</td>\n",
       "      <td>2023-04-28 12:27:49</td>\n",
       "      <td>0.000000e+00</td>\n",
       "      <td>0.000000e+00</td>\n",
       "    </tr>\n",
       "    <tr>\n",
       "      <th>25%</th>\n",
       "      <td>1.553965e+07</td>\n",
       "      <td>2023-05-10 01:42:11</td>\n",
       "      <td>8.836920e+05</td>\n",
       "      <td>2.750000e+02</td>\n",
       "      <td>8.846190e+05</td>\n",
       "      <td>1.854142e+07</td>\n",
       "      <td>0.000000e+00</td>\n",
       "      <td>2023-05-10 02:38:44.750000128</td>\n",
       "      <td>0.000000e+00</td>\n",
       "      <td>0.000000e+00</td>\n",
       "    </tr>\n",
       "    <tr>\n",
       "      <th>50%</th>\n",
       "      <td>5.302680e+07</td>\n",
       "      <td>2023-05-15 15:43:01.500000</td>\n",
       "      <td>1.091749e+06</td>\n",
       "      <td>4.690000e+02</td>\n",
       "      <td>1.117537e+06</td>\n",
       "      <td>6.616843e+07</td>\n",
       "      <td>1.000000e+00</td>\n",
       "      <td>2023-05-15 16:29:08.500000</td>\n",
       "      <td>0.000000e+00</td>\n",
       "      <td>0.000000e+00</td>\n",
       "    </tr>\n",
       "    <tr>\n",
       "      <th>75%</th>\n",
       "      <td>9.480960e+07</td>\n",
       "      <td>2023-05-22 11:01:03.750000128</td>\n",
       "      <td>1.235698e+06</td>\n",
       "      <td>9.420000e+02</td>\n",
       "      <td>1.259186e+06</td>\n",
       "      <td>1.176735e+08</td>\n",
       "      <td>1.000000e+00</td>\n",
       "      <td>2023-05-22 11:41:54.750000128</td>\n",
       "      <td>0.000000e+00</td>\n",
       "      <td>0.000000e+00</td>\n",
       "    </tr>\n",
       "    <tr>\n",
       "      <th>max</th>\n",
       "      <td>1.616665e+08</td>\n",
       "      <td>2024-05-08 01:36:18</td>\n",
       "      <td>1.579422e+06</td>\n",
       "      <td>5.133000e+03</td>\n",
       "      <td>1.583358e+06</td>\n",
       "      <td>2.083515e+08</td>\n",
       "      <td>1.000000e+00</td>\n",
       "      <td>2024-05-08 01:36:18</td>\n",
       "      <td>1.400000e+01</td>\n",
       "      <td>3.000000e+00</td>\n",
       "    </tr>\n",
       "    <tr>\n",
       "      <th>std</th>\n",
       "      <td>4.608193e+07</td>\n",
       "      <td>NaN</td>\n",
       "      <td>2.027585e+05</td>\n",
       "      <td>6.250399e+02</td>\n",
       "      <td>2.062704e+05</td>\n",
       "      <td>5.757237e+07</td>\n",
       "      <td>4.969490e-01</td>\n",
       "      <td>NaN</td>\n",
       "      <td>2.040530e-02</td>\n",
       "      <td>3.011468e-01</td>\n",
       "    </tr>\n",
       "  </tbody>\n",
       "</table>\n",
       "</div>"
      ],
      "text/plain": [
       "                 id                     created_at  chosen_user_id  \\\n",
       "count  1.217558e+06                        1217558    1.217558e+06   \n",
       "mean   5.957298e+07  2023-05-17 12:51:25.947102208    1.092604e+06   \n",
       "min    7.717770e+05            2023-04-28 12:27:49    8.331120e+05   \n",
       "25%    1.553965e+07            2023-05-10 01:42:11    8.836920e+05   \n",
       "50%    5.302680e+07     2023-05-15 15:43:01.500000    1.091749e+06   \n",
       "75%    9.480960e+07  2023-05-22 11:01:03.750000128    1.235698e+06   \n",
       "max    1.616665e+08            2024-05-08 01:36:18    1.579422e+06   \n",
       "std    4.608193e+07                            NaN    2.027585e+05   \n",
       "\n",
       "        question_id       user_id  question_piece_id      has_read  \\\n",
       "count  1.217558e+06  1.217558e+06       1.217558e+06  1.217558e+06   \n",
       "mean   6.843895e+02  1.105790e+06       7.413211e+07  5.551530e-01   \n",
       "min    9.900000e+01  8.380230e+05       9.984580e+05  0.000000e+00   \n",
       "25%    2.750000e+02  8.846190e+05       1.854142e+07  0.000000e+00   \n",
       "50%    4.690000e+02  1.117537e+06       6.616843e+07  1.000000e+00   \n",
       "75%    9.420000e+02  1.259186e+06       1.176735e+08  1.000000e+00   \n",
       "max    5.133000e+03  1.583358e+06       2.083515e+08  1.000000e+00   \n",
       "std    6.250399e+02  2.062704e+05       5.757237e+07  4.969490e-01   \n",
       "\n",
       "                   answer_updated_at  report_count  opened_times  \n",
       "count                        1217558  1.217558e+06  1.217558e+06  \n",
       "mean   2023-05-17 13:44:38.920359680  1.765830e-04  6.332511e-02  \n",
       "min              2023-04-28 12:27:49  0.000000e+00  0.000000e+00  \n",
       "25%    2023-05-10 02:38:44.750000128  0.000000e+00  0.000000e+00  \n",
       "50%       2023-05-15 16:29:08.500000  0.000000e+00  0.000000e+00  \n",
       "75%    2023-05-22 11:41:54.750000128  0.000000e+00  0.000000e+00  \n",
       "max              2024-05-08 01:36:18  1.400000e+01  3.000000e+00  \n",
       "std                              NaN  2.040530e-02  3.011468e-01  "
      ]
     },
     "execution_count": 95,
     "metadata": {},
     "output_type": "execute_result"
    }
   ],
   "source": [
    "userquestionrecord_df.describe()"
   ]
  },
  {
   "cell_type": "markdown",
   "id": "d126e129",
   "metadata": {},
   "source": [
    "- question_id 는 중복 존재. question_piece_id는 중복 없음.\n",
    "- C 상태가 가장 많음"
   ]
  },
  {
   "cell_type": "markdown",
   "id": "a00293b2",
   "metadata": {},
   "source": [
    "---"
   ]
  },
  {
   "cell_type": "code",
   "execution_count": 96,
   "id": "df912867",
   "metadata": {},
   "outputs": [
    {
     "data": {
      "text/html": [
       "<div>\n",
       "<style scoped>\n",
       "    .dataframe tbody tr th:only-of-type {\n",
       "        vertical-align: middle;\n",
       "    }\n",
       "\n",
       "    .dataframe tbody tr th {\n",
       "        vertical-align: top;\n",
       "    }\n",
       "\n",
       "    .dataframe thead th {\n",
       "        text-align: right;\n",
       "    }\n",
       "</style>\n",
       "<table border=\"1\" class=\"dataframe\">\n",
       "  <thead>\n",
       "    <tr style=\"text-align: right;\">\n",
       "      <th></th>\n",
       "      <th>id</th>\n",
       "      <th>reason</th>\n",
       "      <th>created_at</th>\n",
       "    </tr>\n",
       "  </thead>\n",
       "  <tbody>\n",
       "    <tr>\n",
       "      <th>0</th>\n",
       "      <td>42</td>\n",
       "      <td>재밌는 질문이 없어서</td>\n",
       "      <td>2023-03-29 13:22:12</td>\n",
       "    </tr>\n",
       "    <tr>\n",
       "      <th>1</th>\n",
       "      <td>43</td>\n",
       "      <td>함께 할 친구가 없어서</td>\n",
       "      <td>2023-03-29 13:24:59</td>\n",
       "    </tr>\n",
       "    <tr>\n",
       "      <th>2</th>\n",
       "      <td>44</td>\n",
       "      <td>함께 할 친구가 없어서</td>\n",
       "      <td>2023-03-29 13:53:32</td>\n",
       "    </tr>\n",
       "    <tr>\n",
       "      <th>3</th>\n",
       "      <td>45</td>\n",
       "      <td>함께 할 친구가 없어서</td>\n",
       "      <td>2023-03-29 13:54:03</td>\n",
       "    </tr>\n",
       "    <tr>\n",
       "      <th>4</th>\n",
       "      <td>46</td>\n",
       "      <td>재밌는 질문이 없어서</td>\n",
       "      <td>2023-03-30 00:31:19</td>\n",
       "    </tr>\n",
       "  </tbody>\n",
       "</table>\n",
       "</div>"
      ],
      "text/plain": [
       "   id        reason          created_at\n",
       "0  42   재밌는 질문이 없어서 2023-03-29 13:22:12\n",
       "1  43  함께 할 친구가 없어서 2023-03-29 13:24:59\n",
       "2  44  함께 할 친구가 없어서 2023-03-29 13:53:32\n",
       "3  45  함께 할 친구가 없어서 2023-03-29 13:54:03\n",
       "4  46   재밌는 질문이 없어서 2023-03-30 00:31:19"
      ]
     },
     "execution_count": 96,
     "metadata": {},
     "output_type": "execute_result"
    }
   ],
   "source": [
    "# 탈퇴 기록 테이블\n",
    "userwithdraw_df = pd.read_parquet('votes/accounts_userwithdraw.parquet') \n",
    "userwithdraw_df.head()"
   ]
  },
  {
   "cell_type": "code",
   "execution_count": 97,
   "id": "9f037860",
   "metadata": {},
   "outputs": [
    {
     "name": "stdout",
     "output_type": "stream",
     "text": [
      "<class 'pandas.core.frame.DataFrame'>\n",
      "RangeIndex: 70764 entries, 0 to 70763\n",
      "Data columns (total 3 columns):\n",
      " #   Column      Non-Null Count  Dtype         \n",
      "---  ------      --------------  -----         \n",
      " 0   id          70764 non-null  int64         \n",
      " 1   reason      70764 non-null  object        \n",
      " 2   created_at  70764 non-null  datetime64[ns]\n",
      "dtypes: datetime64[ns](1), int64(1), object(1)\n",
      "memory usage: 1.6+ MB\n"
     ]
    }
   ],
   "source": [
    "userwithdraw_df.info()"
   ]
  },
  {
   "cell_type": "code",
   "execution_count": 98,
   "id": "ec17a373",
   "metadata": {},
   "outputs": [
    {
     "data": {
      "text/plain": [
       "reason\n",
       "기타 이유           40301\n",
       "함께 할 친구가 없어서    14450\n",
       "재밌는 질문이 없어서     13133\n",
       "버그가 너무 많아서       2031\n",
       "구독료가 너무 비싸서       730\n",
       "admin              61\n",
       "test               53\n",
       "기타                  5\n",
       "Name: count, dtype: int64"
      ]
     },
     "execution_count": 98,
     "metadata": {},
     "output_type": "execute_result"
    }
   ],
   "source": [
    "userwithdraw_df['reason'].value_counts()"
   ]
  },
  {
   "cell_type": "markdown",
   "id": "a7449440",
   "metadata": {},
   "source": [
    "---"
   ]
  },
  {
   "cell_type": "code",
   "execution_count": 99,
   "id": "48613f4e",
   "metadata": {},
   "outputs": [
    {
     "data": {
      "text/html": [
       "<div>\n",
       "<style scoped>\n",
       "    .dataframe tbody tr th:only-of-type {\n",
       "        vertical-align: middle;\n",
       "    }\n",
       "\n",
       "    .dataframe tbody tr th {\n",
       "        vertical-align: top;\n",
       "    }\n",
       "\n",
       "    .dataframe thead th {\n",
       "        text-align: right;\n",
       "    }\n",
       "</style>\n",
       "<table border=\"1\" class=\"dataframe\">\n",
       "  <thead>\n",
       "    <tr style=\"text-align: right;\">\n",
       "      <th></th>\n",
       "      <th>id</th>\n",
       "      <th>created_at</th>\n",
       "      <th>event_id</th>\n",
       "      <th>user_id</th>\n",
       "      <th>plus_point</th>\n",
       "    </tr>\n",
       "  </thead>\n",
       "  <tbody>\n",
       "    <tr>\n",
       "      <th>0</th>\n",
       "      <td>2</td>\n",
       "      <td>2023-06-22 09:25:16</td>\n",
       "      <td>1</td>\n",
       "      <td>1193618</td>\n",
       "      <td>500</td>\n",
       "    </tr>\n",
       "    <tr>\n",
       "      <th>1</th>\n",
       "      <td>3</td>\n",
       "      <td>2023-06-22 09:38:53</td>\n",
       "      <td>1</td>\n",
       "      <td>928351</td>\n",
       "      <td>500</td>\n",
       "    </tr>\n",
       "    <tr>\n",
       "      <th>2</th>\n",
       "      <td>4</td>\n",
       "      <td>2023-06-22 10:32:15</td>\n",
       "      <td>1</td>\n",
       "      <td>904872</td>\n",
       "      <td>500</td>\n",
       "    </tr>\n",
       "    <tr>\n",
       "      <th>3</th>\n",
       "      <td>5</td>\n",
       "      <td>2023-06-22 13:03:06</td>\n",
       "      <td>1</td>\n",
       "      <td>974697</td>\n",
       "      <td>500</td>\n",
       "    </tr>\n",
       "    <tr>\n",
       "      <th>4</th>\n",
       "      <td>6</td>\n",
       "      <td>2023-06-22 13:40:38</td>\n",
       "      <td>1</td>\n",
       "      <td>1168260</td>\n",
       "      <td>500</td>\n",
       "    </tr>\n",
       "  </tbody>\n",
       "</table>\n",
       "</div>"
      ],
      "text/plain": [
       "   id          created_at  event_id  user_id  plus_point\n",
       "0   2 2023-06-22 09:25:16         1  1193618         500\n",
       "1   3 2023-06-22 09:38:53         1   928351         500\n",
       "2   4 2023-06-22 10:32:15         1   904872         500\n",
       "3   5 2023-06-22 13:03:06         1   974697         500\n",
       "4   6 2023-06-22 13:40:38         1  1168260         500"
      ]
     },
     "execution_count": 99,
     "metadata": {},
     "output_type": "execute_result"
    }
   ],
   "source": [
    "# 포인트 이벤트 참여 테이블\n",
    "event_receipts_df = pd.read_parquet('votes/event_receipts.parquet') \n",
    "event_receipts_df.head()"
   ]
  },
  {
   "cell_type": "code",
   "execution_count": 100,
   "id": "b8b56a99",
   "metadata": {},
   "outputs": [
    {
     "name": "stdout",
     "output_type": "stream",
     "text": [
      "<class 'pandas.core.frame.DataFrame'>\n",
      "RangeIndex: 309 entries, 0 to 308\n",
      "Data columns (total 5 columns):\n",
      " #   Column      Non-Null Count  Dtype         \n",
      "---  ------      --------------  -----         \n",
      " 0   id          309 non-null    int64         \n",
      " 1   created_at  309 non-null    datetime64[ns]\n",
      " 2   event_id    309 non-null    int64         \n",
      " 3   user_id     309 non-null    int64         \n",
      " 4   plus_point  309 non-null    int64         \n",
      "dtypes: datetime64[ns](1), int64(4)\n",
      "memory usage: 12.2 KB\n"
     ]
    }
   ],
   "source": [
    "event_receipts_df.info()"
   ]
  },
  {
   "cell_type": "code",
   "execution_count": 101,
   "id": "68b37504",
   "metadata": {},
   "outputs": [
    {
     "data": {
      "text/plain": [
       "event_id\n",
       "1    252\n",
       "2     37\n",
       "3     20\n",
       "Name: count, dtype: int64"
      ]
     },
     "execution_count": 101,
     "metadata": {},
     "output_type": "execute_result"
    }
   ],
   "source": [
    "event_receipts_df['event_id'].value_counts()"
   ]
  },
  {
   "cell_type": "code",
   "execution_count": 103,
   "id": "0d4ef50b",
   "metadata": {},
   "outputs": [
    {
     "data": {
      "text/html": [
       "<div>\n",
       "<style scoped>\n",
       "    .dataframe tbody tr th:only-of-type {\n",
       "        vertical-align: middle;\n",
       "    }\n",
       "\n",
       "    .dataframe tbody tr th {\n",
       "        vertical-align: top;\n",
       "    }\n",
       "\n",
       "    .dataframe thead th {\n",
       "        text-align: right;\n",
       "    }\n",
       "</style>\n",
       "<table border=\"1\" class=\"dataframe\">\n",
       "  <thead>\n",
       "    <tr style=\"text-align: right;\">\n",
       "      <th></th>\n",
       "      <th>id</th>\n",
       "      <th>created_at</th>\n",
       "      <th>event_id</th>\n",
       "      <th>user_id</th>\n",
       "      <th>plus_point</th>\n",
       "    </tr>\n",
       "  </thead>\n",
       "  <tbody>\n",
       "    <tr>\n",
       "      <th>76</th>\n",
       "      <td>81</td>\n",
       "      <td>2023-07-10 16:57:04</td>\n",
       "      <td>1</td>\n",
       "      <td>1577954</td>\n",
       "      <td>500</td>\n",
       "    </tr>\n",
       "  </tbody>\n",
       "</table>\n",
       "</div>"
      ],
      "text/plain": [
       "    id          created_at  event_id  user_id  plus_point\n",
       "76  81 2023-07-10 16:57:04         1  1577954         500"
      ]
     },
     "execution_count": 103,
     "metadata": {},
     "output_type": "execute_result"
    }
   ],
   "source": [
    "event_receipts_df[event_receipts_df['user_id'].duplicated()]"
   ]
  },
  {
   "cell_type": "code",
   "execution_count": 104,
   "id": "b7cb3035",
   "metadata": {},
   "outputs": [
    {
     "data": {
      "text/html": [
       "<div>\n",
       "<style scoped>\n",
       "    .dataframe tbody tr th:only-of-type {\n",
       "        vertical-align: middle;\n",
       "    }\n",
       "\n",
       "    .dataframe tbody tr th {\n",
       "        vertical-align: top;\n",
       "    }\n",
       "\n",
       "    .dataframe thead th {\n",
       "        text-align: right;\n",
       "    }\n",
       "</style>\n",
       "<table border=\"1\" class=\"dataframe\">\n",
       "  <thead>\n",
       "    <tr style=\"text-align: right;\">\n",
       "      <th></th>\n",
       "      <th>id</th>\n",
       "      <th>created_at</th>\n",
       "      <th>event_id</th>\n",
       "      <th>user_id</th>\n",
       "      <th>plus_point</th>\n",
       "    </tr>\n",
       "  </thead>\n",
       "  <tbody>\n",
       "    <tr>\n",
       "      <th>count</th>\n",
       "      <td>309.000000</td>\n",
       "      <td>309</td>\n",
       "      <td>309.000000</td>\n",
       "      <td>3.090000e+02</td>\n",
       "      <td>309.000000</td>\n",
       "    </tr>\n",
       "    <tr>\n",
       "      <th>mean</th>\n",
       "      <td>160.964401</td>\n",
       "      <td>2023-07-24 01:53:59.954692608</td>\n",
       "      <td>1.249191</td>\n",
       "      <td>1.179715e+06</td>\n",
       "      <td>559.870550</td>\n",
       "    </tr>\n",
       "    <tr>\n",
       "      <th>min</th>\n",
       "      <td>2.000000</td>\n",
       "      <td>2023-06-22 09:25:16</td>\n",
       "      <td>1.000000</td>\n",
       "      <td>8.378360e+05</td>\n",
       "      <td>500.000000</td>\n",
       "    </tr>\n",
       "    <tr>\n",
       "      <th>25%</th>\n",
       "      <td>82.000000</td>\n",
       "      <td>2023-07-10 16:58:20</td>\n",
       "      <td>1.000000</td>\n",
       "      <td>9.998160e+05</td>\n",
       "      <td>500.000000</td>\n",
       "    </tr>\n",
       "    <tr>\n",
       "      <th>50%</th>\n",
       "      <td>161.000000</td>\n",
       "      <td>2023-07-20 12:24:28</td>\n",
       "      <td>1.000000</td>\n",
       "      <td>1.139491e+06</td>\n",
       "      <td>500.000000</td>\n",
       "    </tr>\n",
       "    <tr>\n",
       "      <th>75%</th>\n",
       "      <td>239.000000</td>\n",
       "      <td>2023-07-29 09:38:22</td>\n",
       "      <td>1.000000</td>\n",
       "      <td>1.325911e+06</td>\n",
       "      <td>500.000000</td>\n",
       "    </tr>\n",
       "    <tr>\n",
       "      <th>max</th>\n",
       "      <td>321.000000</td>\n",
       "      <td>2023-11-21 12:03:02</td>\n",
       "      <td>3.000000</td>\n",
       "      <td>1.579064e+06</td>\n",
       "      <td>1000.000000</td>\n",
       "    </tr>\n",
       "    <tr>\n",
       "      <th>std</th>\n",
       "      <td>92.065029</td>\n",
       "      <td>NaN</td>\n",
       "      <td>0.563536</td>\n",
       "      <td>2.171981e+05</td>\n",
       "      <td>162.592579</td>\n",
       "    </tr>\n",
       "  </tbody>\n",
       "</table>\n",
       "</div>"
      ],
      "text/plain": [
       "               id                     created_at    event_id       user_id  \\\n",
       "count  309.000000                            309  309.000000  3.090000e+02   \n",
       "mean   160.964401  2023-07-24 01:53:59.954692608    1.249191  1.179715e+06   \n",
       "min      2.000000            2023-06-22 09:25:16    1.000000  8.378360e+05   \n",
       "25%     82.000000            2023-07-10 16:58:20    1.000000  9.998160e+05   \n",
       "50%    161.000000            2023-07-20 12:24:28    1.000000  1.139491e+06   \n",
       "75%    239.000000            2023-07-29 09:38:22    1.000000  1.325911e+06   \n",
       "max    321.000000            2023-11-21 12:03:02    3.000000  1.579064e+06   \n",
       "std     92.065029                            NaN    0.563536  2.171981e+05   \n",
       "\n",
       "        plus_point  \n",
       "count   309.000000  \n",
       "mean    559.870550  \n",
       "min     500.000000  \n",
       "25%     500.000000  \n",
       "50%     500.000000  \n",
       "75%     500.000000  \n",
       "max    1000.000000  \n",
       "std     162.592579  "
      ]
     },
     "execution_count": 104,
     "metadata": {},
     "output_type": "execute_result"
    }
   ],
   "source": [
    "event_receipts_df.describe()"
   ]
  },
  {
   "cell_type": "code",
   "execution_count": 108,
   "id": "7c5e69dd",
   "metadata": {},
   "outputs": [
    {
     "data": {
      "text/plain": [
       "plus_point\n",
       "500     272\n",
       "1000     37\n",
       "Name: count, dtype: int64"
      ]
     },
     "execution_count": 108,
     "metadata": {},
     "output_type": "execute_result"
    }
   ],
   "source": [
    "event_receipts_df['plus_point'].value_counts()"
   ]
  },
  {
   "cell_type": "code",
   "execution_count": 110,
   "id": "5ad1fedb",
   "metadata": {},
   "outputs": [
    {
     "data": {
      "text/plain": [
       "event_id\n",
       "2    37\n",
       "Name: count, dtype: int64"
      ]
     },
     "execution_count": 110,
     "metadata": {},
     "output_type": "execute_result"
    }
   ],
   "source": [
    "event_receipts_df[event_receipts_df['plus_point'] == 1000]['event_id'].value_counts()"
   ]
  },
  {
   "cell_type": "markdown",
   "id": "24d7d715",
   "metadata": {},
   "source": [
    "- 1번 이벤트 참여가 제일 높음 (이벤트는 1~3)\n",
    "- 포인트는 500 ~ 1000 이고 대부분 500\n",
    "    - 1000포인트는 2번 이벤트 뿐"
   ]
  },
  {
   "cell_type": "markdown",
   "id": "018d2a00",
   "metadata": {},
   "source": [
    "---"
   ]
  },
  {
   "cell_type": "code",
   "execution_count": 107,
   "id": "f703bec6",
   "metadata": {},
   "outputs": [
    {
     "data": {
      "text/html": [
       "<div>\n",
       "<style scoped>\n",
       "    .dataframe tbody tr th:only-of-type {\n",
       "        vertical-align: middle;\n",
       "    }\n",
       "\n",
       "    .dataframe tbody tr th {\n",
       "        vertical-align: top;\n",
       "    }\n",
       "\n",
       "    .dataframe thead th {\n",
       "        text-align: right;\n",
       "    }\n",
       "</style>\n",
       "<table border=\"1\" class=\"dataframe\">\n",
       "  <thead>\n",
       "    <tr style=\"text-align: right;\">\n",
       "      <th></th>\n",
       "      <th>id</th>\n",
       "      <th>title</th>\n",
       "      <th>plus_point</th>\n",
       "      <th>event_type</th>\n",
       "      <th>is_expired</th>\n",
       "      <th>created_at</th>\n",
       "    </tr>\n",
       "  </thead>\n",
       "  <tbody>\n",
       "    <tr>\n",
       "      <th>0</th>\n",
       "      <td>1</td>\n",
       "      <td>코드잇 은행 가입 이벤트</td>\n",
       "      <td>500</td>\n",
       "      <td>FCFS</td>\n",
       "      <td>1</td>\n",
       "      <td>2023-06-20 11:56:38</td>\n",
       "    </tr>\n",
       "    <tr>\n",
       "      <th>1</th>\n",
       "      <td>2</td>\n",
       "      <td>코드잇 멤버십 가입 이벤트</td>\n",
       "      <td>1000</td>\n",
       "      <td>FCFS</td>\n",
       "      <td>1</td>\n",
       "      <td>2023-08-08 07:43:45</td>\n",
       "    </tr>\n",
       "    <tr>\n",
       "      <th>2</th>\n",
       "      <td>3</td>\n",
       "      <td>예고 영상 기대평 이벤트</td>\n",
       "      <td>500</td>\n",
       "      <td>FCFS</td>\n",
       "      <td>1</td>\n",
       "      <td>2023-09-24 17:05:59</td>\n",
       "    </tr>\n",
       "  </tbody>\n",
       "</table>\n",
       "</div>"
      ],
      "text/plain": [
       "   id           title  plus_point event_type  is_expired          created_at\n",
       "0   1   코드잇 은행 가입 이벤트         500       FCFS           1 2023-06-20 11:56:38\n",
       "1   2  코드잇 멤버십 가입 이벤트        1000       FCFS           1 2023-08-08 07:43:45\n",
       "2   3   예고 영상 기대평 이벤트         500       FCFS           1 2023-09-24 17:05:59"
      ]
     },
     "execution_count": 107,
     "metadata": {},
     "output_type": "execute_result"
    }
   ],
   "source": [
    "# 포인트 이벤트 테이블\n",
    "events_df = pd.read_parquet('votes/events.parquet') \n",
    "events_df"
   ]
  },
  {
   "cell_type": "code",
   "execution_count": 106,
   "id": "48bc2acb",
   "metadata": {},
   "outputs": [
    {
     "name": "stdout",
     "output_type": "stream",
     "text": [
      "<class 'pandas.core.frame.DataFrame'>\n",
      "RangeIndex: 3 entries, 0 to 2\n",
      "Data columns (total 6 columns):\n",
      " #   Column      Non-Null Count  Dtype         \n",
      "---  ------      --------------  -----         \n",
      " 0   id          3 non-null      int64         \n",
      " 1   title       3 non-null      object        \n",
      " 2   plus_point  3 non-null      int64         \n",
      " 3   event_type  3 non-null      object        \n",
      " 4   is_expired  3 non-null      int64         \n",
      " 5   created_at  3 non-null      datetime64[ns]\n",
      "dtypes: datetime64[ns](1), int64(3), object(2)\n",
      "memory usage: 272.0+ bytes\n"
     ]
    }
   ],
   "source": [
    "events_df.info()"
   ]
  },
  {
   "cell_type": "markdown",
   "id": "2b21c4ce",
   "metadata": {},
   "source": [
    "- 참여율 좋았던 1번 이벤트는 코드잇 은행 가입 이벤트\n",
    "- 이벤트 중복 참여는 안되는 것으로 확인됨"
   ]
  },
  {
   "cell_type": "markdown",
   "id": "505a20c7",
   "metadata": {},
   "source": [
    "---"
   ]
  },
  {
   "cell_type": "code",
   "execution_count": 111,
   "id": "a6a6a063",
   "metadata": {},
   "outputs": [
    {
     "data": {
      "text/html": [
       "<div>\n",
       "<style scoped>\n",
       "    .dataframe tbody tr th:only-of-type {\n",
       "        vertical-align: middle;\n",
       "    }\n",
       "\n",
       "    .dataframe tbody tr th {\n",
       "        vertical-align: top;\n",
       "    }\n",
       "\n",
       "    .dataframe thead th {\n",
       "        text-align: right;\n",
       "    }\n",
       "</style>\n",
       "<table border=\"1\" class=\"dataframe\">\n",
       "  <thead>\n",
       "    <tr style=\"text-align: right;\">\n",
       "      <th></th>\n",
       "      <th>id</th>\n",
       "      <th>question_text</th>\n",
       "      <th>created_at</th>\n",
       "    </tr>\n",
       "  </thead>\n",
       "  <tbody>\n",
       "    <tr>\n",
       "      <th>0</th>\n",
       "      <td>99</td>\n",
       "      <td>가장 신비한 매력이 있는 사람은?</td>\n",
       "      <td>2023-03-31 15:22:53</td>\n",
       "    </tr>\n",
       "    <tr>\n",
       "      <th>1</th>\n",
       "      <td>100</td>\n",
       "      <td>\"이 사람으로 한 번 살아보고 싶다\" 하는 사람은?</td>\n",
       "      <td>2023-03-31 15:22:53</td>\n",
       "    </tr>\n",
       "    <tr>\n",
       "      <th>2</th>\n",
       "      <td>101</td>\n",
       "      <td>미래의 틱톡커는?</td>\n",
       "      <td>2023-03-31 15:22:54</td>\n",
       "    </tr>\n",
       "    <tr>\n",
       "      <th>3</th>\n",
       "      <td>102</td>\n",
       "      <td>여기서 제일 특이한 친구는?</td>\n",
       "      <td>2023-03-31 15:22:54</td>\n",
       "    </tr>\n",
       "    <tr>\n",
       "      <th>4</th>\n",
       "      <td>103</td>\n",
       "      <td>가장 지켜주고 싶은 사람은?</td>\n",
       "      <td>2023-03-31 15:22:55</td>\n",
       "    </tr>\n",
       "  </tbody>\n",
       "</table>\n",
       "</div>"
      ],
      "text/plain": [
       "    id                 question_text          created_at\n",
       "0   99            가장 신비한 매력이 있는 사람은? 2023-03-31 15:22:53\n",
       "1  100  \"이 사람으로 한 번 살아보고 싶다\" 하는 사람은? 2023-03-31 15:22:53\n",
       "2  101                     미래의 틱톡커는? 2023-03-31 15:22:54\n",
       "3  102               여기서 제일 특이한 친구는? 2023-03-31 15:22:54\n",
       "4  103               가장 지켜주고 싶은 사람은? 2023-03-31 15:22:55"
      ]
     },
     "execution_count": 111,
     "metadata": {},
     "output_type": "execute_result"
    }
   ],
   "source": [
    "# 질문 내용 테이블\n",
    "polls_question_df = pd.read_parquet('votes/polls_question.parquet') \n",
    "polls_question_df.head()"
   ]
  },
  {
   "cell_type": "code",
   "execution_count": 112,
   "id": "9945044b",
   "metadata": {},
   "outputs": [
    {
     "name": "stdout",
     "output_type": "stream",
     "text": [
      "<class 'pandas.core.frame.DataFrame'>\n",
      "RangeIndex: 5025 entries, 0 to 5024\n",
      "Data columns (total 3 columns):\n",
      " #   Column         Non-Null Count  Dtype         \n",
      "---  ------         --------------  -----         \n",
      " 0   id             5025 non-null   int64         \n",
      " 1   question_text  5025 non-null   object        \n",
      " 2   created_at     5025 non-null   datetime64[ns]\n",
      "dtypes: datetime64[ns](1), int64(1), object(1)\n",
      "memory usage: 117.9+ KB\n"
     ]
    }
   ],
   "source": [
    "polls_question_df.info()"
   ]
  },
  {
   "cell_type": "code",
   "execution_count": 113,
   "id": "14a3eddc",
   "metadata": {},
   "outputs": [
    {
     "data": {
      "text/plain": [
       "3903"
      ]
     },
     "execution_count": 113,
     "metadata": {},
     "output_type": "execute_result"
    }
   ],
   "source": [
    "polls_question_df['question_text'].nunique()"
   ]
  },
  {
   "cell_type": "code",
   "execution_count": 114,
   "id": "dd43cfba",
   "metadata": {},
   "outputs": [
    {
     "data": {
      "text/plain": [
       "5025"
      ]
     },
     "execution_count": 114,
     "metadata": {},
     "output_type": "execute_result"
    }
   ],
   "source": [
    "polls_question_df['id'].nunique()"
   ]
  },
  {
   "cell_type": "markdown",
   "id": "e711f8ed",
   "metadata": {},
   "source": [
    "---"
   ]
  },
  {
   "cell_type": "code",
   "execution_count": 115,
   "id": "4e28a506",
   "metadata": {},
   "outputs": [
    {
     "data": {
      "text/html": [
       "<div>\n",
       "<style scoped>\n",
       "    .dataframe tbody tr th:only-of-type {\n",
       "        vertical-align: middle;\n",
       "    }\n",
       "\n",
       "    .dataframe tbody tr th {\n",
       "        vertical-align: top;\n",
       "    }\n",
       "\n",
       "    .dataframe thead th {\n",
       "        text-align: right;\n",
       "    }\n",
       "</style>\n",
       "<table border=\"1\" class=\"dataframe\">\n",
       "  <thead>\n",
       "    <tr style=\"text-align: right;\">\n",
       "      <th></th>\n",
       "      <th>id</th>\n",
       "      <th>is_voted</th>\n",
       "      <th>created_at</th>\n",
       "      <th>question_id</th>\n",
       "      <th>is_skipped</th>\n",
       "    </tr>\n",
       "  </thead>\n",
       "  <tbody>\n",
       "    <tr>\n",
       "      <th>0</th>\n",
       "      <td>998458</td>\n",
       "      <td>1</td>\n",
       "      <td>2023-04-28 12:27:22</td>\n",
       "      <td>252</td>\n",
       "      <td>0</td>\n",
       "    </tr>\n",
       "    <tr>\n",
       "      <th>1</th>\n",
       "      <td>998459</td>\n",
       "      <td>1</td>\n",
       "      <td>2023-04-28 12:27:22</td>\n",
       "      <td>244</td>\n",
       "      <td>0</td>\n",
       "    </tr>\n",
       "    <tr>\n",
       "      <th>2</th>\n",
       "      <td>998460</td>\n",
       "      <td>1</td>\n",
       "      <td>2023-04-28 12:27:22</td>\n",
       "      <td>183</td>\n",
       "      <td>0</td>\n",
       "    </tr>\n",
       "    <tr>\n",
       "      <th>3</th>\n",
       "      <td>998461</td>\n",
       "      <td>1</td>\n",
       "      <td>2023-04-28 12:27:22</td>\n",
       "      <td>101</td>\n",
       "      <td>0</td>\n",
       "    </tr>\n",
       "    <tr>\n",
       "      <th>4</th>\n",
       "      <td>998462</td>\n",
       "      <td>1</td>\n",
       "      <td>2023-04-28 12:27:22</td>\n",
       "      <td>209</td>\n",
       "      <td>0</td>\n",
       "    </tr>\n",
       "  </tbody>\n",
       "</table>\n",
       "</div>"
      ],
      "text/plain": [
       "       id  is_voted          created_at  question_id  is_skipped\n",
       "0  998458         1 2023-04-28 12:27:22          252           0\n",
       "1  998459         1 2023-04-28 12:27:22          244           0\n",
       "2  998460         1 2023-04-28 12:27:22          183           0\n",
       "3  998461         1 2023-04-28 12:27:22          101           0\n",
       "4  998462         1 2023-04-28 12:27:22          209           0"
      ]
     },
     "execution_count": 115,
     "metadata": {},
     "output_type": "execute_result"
    }
   ],
   "source": [
    "# 질문 테이블\n",
    "polls_questionpiece_df = pd.read_parquet('votes/polls_questionpiece.parquet') \n",
    "polls_questionpiece_df.head()"
   ]
  },
  {
   "cell_type": "code",
   "execution_count": 116,
   "id": "2e209108",
   "metadata": {},
   "outputs": [
    {
     "name": "stdout",
     "output_type": "stream",
     "text": [
      "<class 'pandas.core.frame.DataFrame'>\n",
      "RangeIndex: 1265476 entries, 0 to 1265475\n",
      "Data columns (total 5 columns):\n",
      " #   Column       Non-Null Count    Dtype         \n",
      "---  ------       --------------    -----         \n",
      " 0   id           1265476 non-null  int64         \n",
      " 1   is_voted     1265476 non-null  int64         \n",
      " 2   created_at   1265476 non-null  datetime64[ns]\n",
      " 3   question_id  1265476 non-null  int64         \n",
      " 4   is_skipped   1265476 non-null  int64         \n",
      "dtypes: datetime64[ns](1), int64(4)\n",
      "memory usage: 48.3 MB\n"
     ]
    }
   ],
   "source": [
    "polls_questionpiece_df.info()"
   ]
  },
  {
   "cell_type": "code",
   "execution_count": 117,
   "id": "eb220a34",
   "metadata": {},
   "outputs": [
    {
     "data": {
      "text/plain": [
       "np.int64(1260532)"
      ]
     },
     "execution_count": 117,
     "metadata": {},
     "output_type": "execute_result"
    }
   ],
   "source": [
    "polls_questionpiece_df['question_id'].duplicated().sum()"
   ]
  },
  {
   "cell_type": "code",
   "execution_count": 118,
   "id": "80adfd1c",
   "metadata": {},
   "outputs": [
    {
     "data": {
      "text/html": [
       "<div>\n",
       "<style scoped>\n",
       "    .dataframe tbody tr th:only-of-type {\n",
       "        vertical-align: middle;\n",
       "    }\n",
       "\n",
       "    .dataframe tbody tr th {\n",
       "        vertical-align: top;\n",
       "    }\n",
       "\n",
       "    .dataframe thead th {\n",
       "        text-align: right;\n",
       "    }\n",
       "</style>\n",
       "<table border=\"1\" class=\"dataframe\">\n",
       "  <thead>\n",
       "    <tr style=\"text-align: right;\">\n",
       "      <th></th>\n",
       "      <th>id</th>\n",
       "      <th>is_voted</th>\n",
       "      <th>created_at</th>\n",
       "      <th>question_id</th>\n",
       "      <th>is_skipped</th>\n",
       "    </tr>\n",
       "  </thead>\n",
       "  <tbody>\n",
       "    <tr>\n",
       "      <th>count</th>\n",
       "      <td>1.265476e+06</td>\n",
       "      <td>1.265476e+06</td>\n",
       "      <td>1265476</td>\n",
       "      <td>1.265476e+06</td>\n",
       "      <td>1.265476e+06</td>\n",
       "    </tr>\n",
       "    <tr>\n",
       "      <th>mean</th>\n",
       "      <td>7.658001e+07</td>\n",
       "      <td>9.630266e-01</td>\n",
       "      <td>2023-05-17 13:39:58.427317504</td>\n",
       "      <td>7.133598e+02</td>\n",
       "      <td>8.905740e-04</td>\n",
       "    </tr>\n",
       "    <tr>\n",
       "      <th>min</th>\n",
       "      <td>9.984580e+05</td>\n",
       "      <td>0.000000e+00</td>\n",
       "      <td>2023-04-28 12:27:22</td>\n",
       "      <td>9.900000e+01</td>\n",
       "      <td>0.000000e+00</td>\n",
       "    </tr>\n",
       "    <tr>\n",
       "      <th>25%</th>\n",
       "      <td>2.029260e+07</td>\n",
       "      <td>1.000000e+00</td>\n",
       "      <td>2023-05-09 21:50:54</td>\n",
       "      <td>2.780000e+02</td>\n",
       "      <td>0.000000e+00</td>\n",
       "    </tr>\n",
       "    <tr>\n",
       "      <th>50%</th>\n",
       "      <td>6.846533e+07</td>\n",
       "      <td>1.000000e+00</td>\n",
       "      <td>2023-05-15 14:18:31.500000</td>\n",
       "      <td>4.770000e+02</td>\n",
       "      <td>0.000000e+00</td>\n",
       "    </tr>\n",
       "    <tr>\n",
       "      <th>75%</th>\n",
       "      <td>1.212662e+08</td>\n",
       "      <td>1.000000e+00</td>\n",
       "      <td>2023-05-22 09:56:44</td>\n",
       "      <td>9.820000e+02</td>\n",
       "      <td>0.000000e+00</td>\n",
       "    </tr>\n",
       "    <tr>\n",
       "      <th>max</th>\n",
       "      <td>2.083852e+08</td>\n",
       "      <td>1.000000e+00</td>\n",
       "      <td>2024-05-07 11:32:30</td>\n",
       "      <td>5.133000e+03</td>\n",
       "      <td>1.000000e+00</td>\n",
       "    </tr>\n",
       "    <tr>\n",
       "      <th>std</th>\n",
       "      <td>5.912924e+07</td>\n",
       "      <td>1.886967e-01</td>\n",
       "      <td>NaN</td>\n",
       "      <td>6.706815e+02</td>\n",
       "      <td>2.982921e-02</td>\n",
       "    </tr>\n",
       "  </tbody>\n",
       "</table>\n",
       "</div>"
      ],
      "text/plain": [
       "                 id      is_voted                     created_at  \\\n",
       "count  1.265476e+06  1.265476e+06                        1265476   \n",
       "mean   7.658001e+07  9.630266e-01  2023-05-17 13:39:58.427317504   \n",
       "min    9.984580e+05  0.000000e+00            2023-04-28 12:27:22   \n",
       "25%    2.029260e+07  1.000000e+00            2023-05-09 21:50:54   \n",
       "50%    6.846533e+07  1.000000e+00     2023-05-15 14:18:31.500000   \n",
       "75%    1.212662e+08  1.000000e+00            2023-05-22 09:56:44   \n",
       "max    2.083852e+08  1.000000e+00            2024-05-07 11:32:30   \n",
       "std    5.912924e+07  1.886967e-01                            NaN   \n",
       "\n",
       "        question_id    is_skipped  \n",
       "count  1.265476e+06  1.265476e+06  \n",
       "mean   7.133598e+02  8.905740e-04  \n",
       "min    9.900000e+01  0.000000e+00  \n",
       "25%    2.780000e+02  0.000000e+00  \n",
       "50%    4.770000e+02  0.000000e+00  \n",
       "75%    9.820000e+02  0.000000e+00  \n",
       "max    5.133000e+03  1.000000e+00  \n",
       "std    6.706815e+02  2.982921e-02  "
      ]
     },
     "execution_count": 118,
     "metadata": {},
     "output_type": "execute_result"
    }
   ],
   "source": [
    "polls_questionpiece_df.describe()"
   ]
  },
  {
   "cell_type": "code",
   "execution_count": 119,
   "id": "8bd22ece",
   "metadata": {},
   "outputs": [
    {
     "data": {
      "text/plain": [
       "is_skipped\n",
       "0    1264349\n",
       "1       1127\n",
       "Name: count, dtype: int64"
      ]
     },
     "execution_count": 119,
     "metadata": {},
     "output_type": "execute_result"
    }
   ],
   "source": [
    "polls_questionpiece_df['is_skipped'].value_counts()"
   ]
  },
  {
   "cell_type": "code",
   "execution_count": 120,
   "id": "bba7431b",
   "metadata": {},
   "outputs": [
    {
     "data": {
      "text/plain": [
       "is_voted\n",
       "1    1218687\n",
       "0      46789\n",
       "Name: count, dtype: int64"
      ]
     },
     "execution_count": 120,
     "metadata": {},
     "output_type": "execute_result"
    }
   ],
   "source": [
    "polls_questionpiece_df['is_voted'].value_counts()"
   ]
  },
  {
   "cell_type": "markdown",
   "id": "81cc1dab",
   "metadata": {},
   "source": [
    "- 질문 id는 중복이 많음\n",
    "- 스킵 없음이 비중이 큼\n",
    "- 투표 비중이 큼"
   ]
  },
  {
   "cell_type": "markdown",
   "id": "1765f846",
   "metadata": {},
   "source": [
    "---"
   ]
  },
  {
   "cell_type": "code",
   "execution_count": 121,
   "id": "2f0e824c",
   "metadata": {},
   "outputs": [
    {
     "data": {
      "text/html": [
       "<div>\n",
       "<style scoped>\n",
       "    .dataframe tbody tr th:only-of-type {\n",
       "        vertical-align: middle;\n",
       "    }\n",
       "\n",
       "    .dataframe tbody tr th {\n",
       "        vertical-align: top;\n",
       "    }\n",
       "\n",
       "    .dataframe thead th {\n",
       "        text-align: right;\n",
       "    }\n",
       "</style>\n",
       "<table border=\"1\" class=\"dataframe\">\n",
       "  <thead>\n",
       "    <tr style=\"text-align: right;\">\n",
       "      <th></th>\n",
       "      <th>id</th>\n",
       "      <th>reason</th>\n",
       "      <th>created_at</th>\n",
       "      <th>question_id</th>\n",
       "      <th>user_id</th>\n",
       "    </tr>\n",
       "  </thead>\n",
       "  <tbody>\n",
       "    <tr>\n",
       "      <th>0</th>\n",
       "      <td>1</td>\n",
       "      <td>이 질문은 재미없어요</td>\n",
       "      <td>2023-04-19 06:20:35</td>\n",
       "      <td>250</td>\n",
       "      <td>837556</td>\n",
       "    </tr>\n",
       "    <tr>\n",
       "      <th>1</th>\n",
       "      <td>2</td>\n",
       "      <td>이 질문은 재미없어요</td>\n",
       "      <td>2023-04-19 06:58:09</td>\n",
       "      <td>113</td>\n",
       "      <td>837672</td>\n",
       "    </tr>\n",
       "    <tr>\n",
       "      <th>2</th>\n",
       "      <td>3</td>\n",
       "      <td>불쾌한 내용이 포함되어 있음</td>\n",
       "      <td>2023-04-19 06:58:17</td>\n",
       "      <td>113</td>\n",
       "      <td>837672</td>\n",
       "    </tr>\n",
       "    <tr>\n",
       "      <th>3</th>\n",
       "      <td>4</td>\n",
       "      <td>어떻게 이런 생각을? 이 질문 최고!</td>\n",
       "      <td>2023-04-19 08:12:42</td>\n",
       "      <td>119</td>\n",
       "      <td>837922</td>\n",
       "    </tr>\n",
       "    <tr>\n",
       "      <th>4</th>\n",
       "      <td>5</td>\n",
       "      <td>어떻게 이런 생각을? 이 질문 최고!</td>\n",
       "      <td>2023-04-19 08:12:50</td>\n",
       "      <td>119</td>\n",
       "      <td>837922</td>\n",
       "    </tr>\n",
       "  </tbody>\n",
       "</table>\n",
       "</div>"
      ],
      "text/plain": [
       "   id                reason          created_at  question_id  user_id\n",
       "0   1           이 질문은 재미없어요 2023-04-19 06:20:35          250   837556\n",
       "1   2           이 질문은 재미없어요 2023-04-19 06:58:09          113   837672\n",
       "2   3       불쾌한 내용이 포함되어 있음 2023-04-19 06:58:17          113   837672\n",
       "3   4  어떻게 이런 생각을? 이 질문 최고! 2023-04-19 08:12:42          119   837922\n",
       "4   5  어떻게 이런 생각을? 이 질문 최고! 2023-04-19 08:12:50          119   837922"
      ]
     },
     "execution_count": 121,
     "metadata": {},
     "output_type": "execute_result"
    }
   ],
   "source": [
    "# 질문에 대한 신고 기록 테이블\n",
    "polls_questionreport_df = pd.read_parquet('votes/polls_questionreport.parquet') \n",
    "polls_questionreport_df.head()"
   ]
  },
  {
   "cell_type": "code",
   "execution_count": 122,
   "id": "371596a3",
   "metadata": {},
   "outputs": [
    {
     "name": "stdout",
     "output_type": "stream",
     "text": [
      "<class 'pandas.core.frame.DataFrame'>\n",
      "RangeIndex: 51424 entries, 0 to 51423\n",
      "Data columns (total 5 columns):\n",
      " #   Column       Non-Null Count  Dtype         \n",
      "---  ------       --------------  -----         \n",
      " 0   id           51424 non-null  int64         \n",
      " 1   reason       51424 non-null  object        \n",
      " 2   created_at   51424 non-null  datetime64[ns]\n",
      " 3   question_id  51424 non-null  int64         \n",
      " 4   user_id      51424 non-null  int64         \n",
      "dtypes: datetime64[ns](1), int64(3), object(1)\n",
      "memory usage: 2.0+ MB\n"
     ]
    }
   ],
   "source": [
    "polls_questionreport_df.info()"
   ]
  },
  {
   "cell_type": "code",
   "execution_count": 127,
   "id": "00921aff",
   "metadata": {},
   "outputs": [
    {
     "data": {
      "text/html": [
       "<div>\n",
       "<style scoped>\n",
       "    .dataframe tbody tr th:only-of-type {\n",
       "        vertical-align: middle;\n",
       "    }\n",
       "\n",
       "    .dataframe tbody tr th {\n",
       "        vertical-align: top;\n",
       "    }\n",
       "\n",
       "    .dataframe thead th {\n",
       "        text-align: right;\n",
       "    }\n",
       "</style>\n",
       "<table border=\"1\" class=\"dataframe\">\n",
       "  <thead>\n",
       "    <tr style=\"text-align: right;\">\n",
       "      <th></th>\n",
       "      <th>id</th>\n",
       "      <th>reason</th>\n",
       "      <th>created_at</th>\n",
       "      <th>question_id</th>\n",
       "      <th>user_id</th>\n",
       "    </tr>\n",
       "  </thead>\n",
       "  <tbody>\n",
       "    <tr>\n",
       "      <th>1983</th>\n",
       "      <td>2136</td>\n",
       "      <td>어떻게 이런 생각을? 이 질문 최고!</td>\n",
       "      <td>2023-05-02 12:45:23</td>\n",
       "      <td>533</td>\n",
       "      <td>863947</td>\n",
       "    </tr>\n",
       "    <tr>\n",
       "      <th>2216</th>\n",
       "      <td>2382</td>\n",
       "      <td>이 질문은 재미없어요</td>\n",
       "      <td>2023-05-03 03:12:14</td>\n",
       "      <td>533</td>\n",
       "      <td>859534</td>\n",
       "    </tr>\n",
       "    <tr>\n",
       "      <th>2649</th>\n",
       "      <td>2839</td>\n",
       "      <td>어떻게 이런 생각을? 이 질문 최고!</td>\n",
       "      <td>2023-05-04 12:23:43</td>\n",
       "      <td>493</td>\n",
       "      <td>875572</td>\n",
       "    </tr>\n",
       "    <tr>\n",
       "      <th>2973</th>\n",
       "      <td>3194</td>\n",
       "      <td>어떻게 이런 생각을? 이 질문 최고!</td>\n",
       "      <td>2023-05-05 13:41:25</td>\n",
       "      <td>493</td>\n",
       "      <td>884403</td>\n",
       "    </tr>\n",
       "    <tr>\n",
       "      <th>2983</th>\n",
       "      <td>3204</td>\n",
       "      <td>어떻게 이런 생각을? 이 질문 최고!</td>\n",
       "      <td>2023-05-05 13:55:29</td>\n",
       "      <td>493</td>\n",
       "      <td>886404</td>\n",
       "    </tr>\n",
       "    <tr>\n",
       "      <th>...</th>\n",
       "      <td>...</td>\n",
       "      <td>...</td>\n",
       "      <td>...</td>\n",
       "      <td>...</td>\n",
       "      <td>...</td>\n",
       "    </tr>\n",
       "    <tr>\n",
       "      <th>46891</th>\n",
       "      <td>51013</td>\n",
       "      <td>그냥 싫어</td>\n",
       "      <td>2023-06-03 05:00:01</td>\n",
       "      <td>988</td>\n",
       "      <td>949231</td>\n",
       "    </tr>\n",
       "    <tr>\n",
       "      <th>47321</th>\n",
       "      <td>51493</td>\n",
       "      <td>불쾌한 질문 내용</td>\n",
       "      <td>2023-06-04 04:41:34</td>\n",
       "      <td>533</td>\n",
       "      <td>917248</td>\n",
       "    </tr>\n",
       "    <tr>\n",
       "      <th>49623</th>\n",
       "      <td>53922</td>\n",
       "      <td>그냥 싫어</td>\n",
       "      <td>2023-06-24 08:06:09</td>\n",
       "      <td>988</td>\n",
       "      <td>1441146</td>\n",
       "    </tr>\n",
       "    <tr>\n",
       "      <th>51230</th>\n",
       "      <td>55574</td>\n",
       "      <td>그냥 싫어</td>\n",
       "      <td>2023-10-31 13:11:33</td>\n",
       "      <td>493</td>\n",
       "      <td>928351</td>\n",
       "    </tr>\n",
       "    <tr>\n",
       "      <th>51291</th>\n",
       "      <td>55635</td>\n",
       "      <td>그냥 싫어</td>\n",
       "      <td>2023-12-18 11:14:02</td>\n",
       "      <td>493</td>\n",
       "      <td>942148</td>\n",
       "    </tr>\n",
       "  </tbody>\n",
       "</table>\n",
       "<p>191 rows × 5 columns</p>\n",
       "</div>"
      ],
      "text/plain": [
       "          id                reason          created_at  question_id  user_id\n",
       "1983    2136  어떻게 이런 생각을? 이 질문 최고! 2023-05-02 12:45:23          533   863947\n",
       "2216    2382           이 질문은 재미없어요 2023-05-03 03:12:14          533   859534\n",
       "2649    2839  어떻게 이런 생각을? 이 질문 최고! 2023-05-04 12:23:43          493   875572\n",
       "2973    3194  어떻게 이런 생각을? 이 질문 최고! 2023-05-05 13:41:25          493   884403\n",
       "2983    3204  어떻게 이런 생각을? 이 질문 최고! 2023-05-05 13:55:29          493   886404\n",
       "...      ...                   ...                 ...          ...      ...\n",
       "46891  51013                 그냥 싫어 2023-06-03 05:00:01          988   949231\n",
       "47321  51493             불쾌한 질문 내용 2023-06-04 04:41:34          533   917248\n",
       "49623  53922                 그냥 싫어 2023-06-24 08:06:09          988  1441146\n",
       "51230  55574                 그냥 싫어 2023-10-31 13:11:33          493   928351\n",
       "51291  55635                 그냥 싫어 2023-12-18 11:14:02          493   942148\n",
       "\n",
       "[191 rows x 5 columns]"
      ]
     },
     "execution_count": 127,
     "metadata": {},
     "output_type": "execute_result"
    }
   ],
   "source": [
    "polls_questionreport_df[polls_questionreport_df['question_id'].isin(polls_questionreport_df['question_id'].value_counts().head())]"
   ]
  },
  {
   "cell_type": "code",
   "execution_count": 128,
   "id": "81469817",
   "metadata": {},
   "outputs": [
    {
     "data": {
      "text/plain": [
       "reason\n",
       "그냥 싫어                   28446\n",
       "나랑 맞지 않는 질문인 것 같음        9541\n",
       "불쾌한 질문 내용                5386\n",
       "자꾸 같은 내용의 질문 반복          3202\n",
       "어떻게 이런 생각을? 이 질문 최고!     1821\n",
       "한 친구가 질문을 반복적으로 보냄       1701\n",
       "기타                        480\n",
       "이 질문은 재미없어요               471\n",
       "불쾌한 내용이 포함되어 있음           250\n",
       "오타가 있음                     68\n",
       "선정적이거나 자극적인 질문             58\n",
       "Name: count, dtype: int64"
      ]
     },
     "execution_count": 128,
     "metadata": {},
     "output_type": "execute_result"
    }
   ],
   "source": [
    "polls_questionreport_df['reason'].value_counts()"
   ]
  },
  {
   "cell_type": "markdown",
   "id": "fa67b3d0",
   "metadata": {},
   "source": [
    "- 신고에 어울리지 않는 칭찬 신고도 있음."
   ]
  },
  {
   "cell_type": "markdown",
   "id": "b049abc7",
   "metadata": {},
   "source": [
    "---"
   ]
  },
  {
   "cell_type": "code",
   "execution_count": 129,
   "id": "df9fef33",
   "metadata": {},
   "outputs": [
    {
     "data": {
      "text/html": [
       "<div>\n",
       "<style scoped>\n",
       "    .dataframe tbody tr th:only-of-type {\n",
       "        vertical-align: middle;\n",
       "    }\n",
       "\n",
       "    .dataframe tbody tr th {\n",
       "        vertical-align: top;\n",
       "    }\n",
       "\n",
       "    .dataframe thead th {\n",
       "        text-align: right;\n",
       "    }\n",
       "</style>\n",
       "<table border=\"1\" class=\"dataframe\">\n",
       "  <thead>\n",
       "    <tr style=\"text-align: right;\">\n",
       "      <th></th>\n",
       "      <th>id</th>\n",
       "      <th>question_piece_id_list</th>\n",
       "      <th>opening_time</th>\n",
       "      <th>status</th>\n",
       "      <th>created_at</th>\n",
       "      <th>user_id</th>\n",
       "    </tr>\n",
       "  </thead>\n",
       "  <tbody>\n",
       "    <tr>\n",
       "      <th>0</th>\n",
       "      <td>99817</td>\n",
       "      <td>[998458, 998459, 998460, 998461, 998462, 99846...</td>\n",
       "      <td>2023-04-28 12:27:22</td>\n",
       "      <td>F</td>\n",
       "      <td>2023-04-28 12:27:23</td>\n",
       "      <td>849436</td>\n",
       "    </tr>\n",
       "    <tr>\n",
       "      <th>1</th>\n",
       "      <td>99830</td>\n",
       "      <td>[998588, 998589, 998590, 998591, 998592, 99859...</td>\n",
       "      <td>2023-04-28 12:28:07</td>\n",
       "      <td>F</td>\n",
       "      <td>2023-04-28 12:28:07</td>\n",
       "      <td>849438</td>\n",
       "    </tr>\n",
       "    <tr>\n",
       "      <th>2</th>\n",
       "      <td>99840</td>\n",
       "      <td>[998689, 998691, 998693, 998695, 998697, 99869...</td>\n",
       "      <td>2023-04-28 12:28:38</td>\n",
       "      <td>F</td>\n",
       "      <td>2023-04-28 12:28:38</td>\n",
       "      <td>847375</td>\n",
       "    </tr>\n",
       "    <tr>\n",
       "      <th>3</th>\n",
       "      <td>99841</td>\n",
       "      <td>[998688, 998690, 998692, 998694, 998696, 99869...</td>\n",
       "      <td>2023-04-28 12:28:38</td>\n",
       "      <td>F</td>\n",
       "      <td>2023-04-28 12:28:38</td>\n",
       "      <td>849446</td>\n",
       "    </tr>\n",
       "    <tr>\n",
       "      <th>4</th>\n",
       "      <td>99848</td>\n",
       "      <td>[998768, 998769, 998770, 998771, 998772, 99877...</td>\n",
       "      <td>2023-04-28 12:28:57</td>\n",
       "      <td>F</td>\n",
       "      <td>2023-04-28 12:28:57</td>\n",
       "      <td>849477</td>\n",
       "    </tr>\n",
       "  </tbody>\n",
       "</table>\n",
       "</div>"
      ],
      "text/plain": [
       "      id                             question_piece_id_list  \\\n",
       "0  99817  [998458, 998459, 998460, 998461, 998462, 99846...   \n",
       "1  99830  [998588, 998589, 998590, 998591, 998592, 99859...   \n",
       "2  99840  [998689, 998691, 998693, 998695, 998697, 99869...   \n",
       "3  99841  [998688, 998690, 998692, 998694, 998696, 99869...   \n",
       "4  99848  [998768, 998769, 998770, 998771, 998772, 99877...   \n",
       "\n",
       "         opening_time status          created_at  user_id  \n",
       "0 2023-04-28 12:27:22      F 2023-04-28 12:27:23   849436  \n",
       "1 2023-04-28 12:28:07      F 2023-04-28 12:28:07   849438  \n",
       "2 2023-04-28 12:28:38      F 2023-04-28 12:28:38   847375  \n",
       "3 2023-04-28 12:28:38      F 2023-04-28 12:28:38   849446  \n",
       "4 2023-04-28 12:28:57      F 2023-04-28 12:28:57   849477  "
      ]
     },
     "execution_count": 129,
     "metadata": {},
     "output_type": "execute_result"
    }
   ],
   "source": [
    "# 질문 세트 테이블\n",
    "polls_questionset_df = pd.read_parquet('votes/polls_questionset.parquet') \n",
    "polls_questionset_df.head()"
   ]
  },
  {
   "cell_type": "code",
   "execution_count": 130,
   "id": "4b71eb9e",
   "metadata": {},
   "outputs": [
    {
     "name": "stdout",
     "output_type": "stream",
     "text": [
      "<class 'pandas.core.frame.DataFrame'>\n",
      "RangeIndex: 158384 entries, 0 to 158383\n",
      "Data columns (total 6 columns):\n",
      " #   Column                  Non-Null Count   Dtype         \n",
      "---  ------                  --------------   -----         \n",
      " 0   id                      158384 non-null  int64         \n",
      " 1   question_piece_id_list  158384 non-null  object        \n",
      " 2   opening_time            158384 non-null  datetime64[ns]\n",
      " 3   status                  158384 non-null  object        \n",
      " 4   created_at              158384 non-null  datetime64[ns]\n",
      " 5   user_id                 158384 non-null  int64         \n",
      "dtypes: datetime64[ns](2), int64(2), object(2)\n",
      "memory usage: 7.3+ MB\n"
     ]
    }
   ],
   "source": [
    "polls_questionset_df.info()"
   ]
  },
  {
   "cell_type": "code",
   "execution_count": 131,
   "id": "66e142e2",
   "metadata": {},
   "outputs": [
    {
     "data": {
      "text/plain": [
       "np.int64(153412)"
      ]
     },
     "execution_count": 131,
     "metadata": {},
     "output_type": "execute_result"
    }
   ],
   "source": [
    "polls_questionset_df['user_id'].duplicated().sum()"
   ]
  },
  {
   "cell_type": "code",
   "execution_count": 132,
   "id": "d30f5d61",
   "metadata": {},
   "outputs": [
    {
     "data": {
      "text/plain": [
       "status\n",
       "F    153411\n",
       "O      4407\n",
       "C       566\n",
       "Name: count, dtype: int64"
      ]
     },
     "execution_count": 132,
     "metadata": {},
     "output_type": "execute_result"
    }
   ],
   "source": [
    "polls_questionset_df['status'].value_counts()"
   ]
  },
  {
   "cell_type": "markdown",
   "id": "049e45ab",
   "metadata": {},
   "source": [
    "---"
   ]
  },
  {
   "cell_type": "code",
   "execution_count": 134,
   "id": "603111a7",
   "metadata": {},
   "outputs": [
    {
     "data": {
      "text/html": [
       "<div>\n",
       "<style scoped>\n",
       "    .dataframe tbody tr th:only-of-type {\n",
       "        vertical-align: middle;\n",
       "    }\n",
       "\n",
       "    .dataframe tbody tr th {\n",
       "        vertical-align: top;\n",
       "    }\n",
       "\n",
       "    .dataframe thead th {\n",
       "        text-align: right;\n",
       "    }\n",
       "</style>\n",
       "<table border=\"1\" class=\"dataframe\">\n",
       "  <thead>\n",
       "    <tr style=\"text-align: right;\">\n",
       "      <th></th>\n",
       "      <th>id</th>\n",
       "      <th>created_at</th>\n",
       "      <th>question_piece_id</th>\n",
       "      <th>user_id</th>\n",
       "    </tr>\n",
       "  </thead>\n",
       "  <tbody>\n",
       "    <tr>\n",
       "      <th>0</th>\n",
       "      <td>3088872</td>\n",
       "      <td>2023-04-28 12:27:49</td>\n",
       "      <td>998458</td>\n",
       "      <td>849444</td>\n",
       "    </tr>\n",
       "    <tr>\n",
       "      <th>1</th>\n",
       "      <td>3088873</td>\n",
       "      <td>2023-04-28 12:27:49</td>\n",
       "      <td>998458</td>\n",
       "      <td>849454</td>\n",
       "    </tr>\n",
       "    <tr>\n",
       "      <th>2</th>\n",
       "      <td>3088874</td>\n",
       "      <td>2023-04-28 12:27:49</td>\n",
       "      <td>998458</td>\n",
       "      <td>849460</td>\n",
       "    </tr>\n",
       "    <tr>\n",
       "      <th>3</th>\n",
       "      <td>3088875</td>\n",
       "      <td>2023-04-28 12:27:49</td>\n",
       "      <td>998458</td>\n",
       "      <td>849469</td>\n",
       "    </tr>\n",
       "    <tr>\n",
       "      <th>4</th>\n",
       "      <td>3088964</td>\n",
       "      <td>2023-04-28 12:28:02</td>\n",
       "      <td>998459</td>\n",
       "      <td>849446</td>\n",
       "    </tr>\n",
       "  </tbody>\n",
       "</table>\n",
       "</div>"
      ],
      "text/plain": [
       "        id          created_at  question_piece_id  user_id\n",
       "0  3088872 2023-04-28 12:27:49             998458   849444\n",
       "1  3088873 2023-04-28 12:27:49             998458   849454\n",
       "2  3088874 2023-04-28 12:27:49             998458   849460\n",
       "3  3088875 2023-04-28 12:27:49             998458   849469\n",
       "4  3088964 2023-04-28 12:28:02             998459   849446"
      ]
     },
     "execution_count": 134,
     "metadata": {},
     "output_type": "execute_result"
    }
   ],
   "source": [
    "# 질문에 등장하는 유저 테이블\n",
    "polls_usercandidate_df = pd.read_parquet('votes/polls_usercandidate.parquet') \n",
    "polls_usercandidate_df.head()"
   ]
  },
  {
   "cell_type": "code",
   "execution_count": 135,
   "id": "a3b442c2",
   "metadata": {},
   "outputs": [
    {
     "name": "stdout",
     "output_type": "stream",
     "text": [
      "<class 'pandas.core.frame.DataFrame'>\n",
      "RangeIndex: 4769609 entries, 0 to 4769608\n",
      "Data columns (total 4 columns):\n",
      " #   Column             Dtype         \n",
      "---  ------             -----         \n",
      " 0   id                 int64         \n",
      " 1   created_at         datetime64[ns]\n",
      " 2   question_piece_id  int64         \n",
      " 3   user_id            int64         \n",
      "dtypes: datetime64[ns](1), int64(3)\n",
      "memory usage: 145.6 MB\n"
     ]
    }
   ],
   "source": [
    "polls_usercandidate_df.info()"
   ]
  },
  {
   "cell_type": "code",
   "execution_count": 136,
   "id": "abd2d80f",
   "metadata": {},
   "outputs": [
    {
     "data": {
      "text/html": [
       "<div>\n",
       "<style scoped>\n",
       "    .dataframe tbody tr th:only-of-type {\n",
       "        vertical-align: middle;\n",
       "    }\n",
       "\n",
       "    .dataframe tbody tr th {\n",
       "        vertical-align: top;\n",
       "    }\n",
       "\n",
       "    .dataframe thead th {\n",
       "        text-align: right;\n",
       "    }\n",
       "</style>\n",
       "<table border=\"1\" class=\"dataframe\">\n",
       "  <thead>\n",
       "    <tr style=\"text-align: right;\">\n",
       "      <th></th>\n",
       "      <th>id</th>\n",
       "      <th>created_at</th>\n",
       "      <th>question_piece_id</th>\n",
       "      <th>user_id</th>\n",
       "    </tr>\n",
       "  </thead>\n",
       "  <tbody>\n",
       "    <tr>\n",
       "      <th>count</th>\n",
       "      <td>4.769609e+06</td>\n",
       "      <td>4769609</td>\n",
       "      <td>4.769609e+06</td>\n",
       "      <td>4.769609e+06</td>\n",
       "    </tr>\n",
       "    <tr>\n",
       "      <th>mean</th>\n",
       "      <td>2.388684e+08</td>\n",
       "      <td>2023-05-17 13:57:52.437731072</td>\n",
       "      <td>7.430248e+07</td>\n",
       "      <td>1.090241e+06</td>\n",
       "    </tr>\n",
       "    <tr>\n",
       "      <th>min</th>\n",
       "      <td>3.088872e+06</td>\n",
       "      <td>2023-04-28 12:27:49</td>\n",
       "      <td>9.984580e+05</td>\n",
       "      <td>8.331120e+05</td>\n",
       "    </tr>\n",
       "    <tr>\n",
       "      <th>25%</th>\n",
       "      <td>6.270339e+07</td>\n",
       "      <td>2023-05-10 02:49:19</td>\n",
       "      <td>1.891695e+07</td>\n",
       "      <td>8.835900e+05</td>\n",
       "    </tr>\n",
       "    <tr>\n",
       "      <th>50%</th>\n",
       "      <td>2.126700e+08</td>\n",
       "      <td>2023-05-15 16:15:12</td>\n",
       "      <td>6.639655e+07</td>\n",
       "      <td>1.087460e+06</td>\n",
       "    </tr>\n",
       "    <tr>\n",
       "      <th>75%</th>\n",
       "      <td>3.800215e+08</td>\n",
       "      <td>2023-05-22 11:33:33</td>\n",
       "      <td>1.178876e+08</td>\n",
       "      <td>1.233969e+06</td>\n",
       "    </tr>\n",
       "    <tr>\n",
       "      <th>max</th>\n",
       "      <td>6.466726e+08</td>\n",
       "      <td>2024-05-08 01:36:18</td>\n",
       "      <td>2.083515e+08</td>\n",
       "      <td>1.580629e+06</td>\n",
       "    </tr>\n",
       "    <tr>\n",
       "      <th>std</th>\n",
       "      <td>1.844893e+08</td>\n",
       "      <td>NaN</td>\n",
       "      <td>5.761959e+07</td>\n",
       "      <td>2.018190e+05</td>\n",
       "    </tr>\n",
       "  </tbody>\n",
       "</table>\n",
       "</div>"
      ],
      "text/plain": [
       "                 id                     created_at  question_piece_id  \\\n",
       "count  4.769609e+06                        4769609       4.769609e+06   \n",
       "mean   2.388684e+08  2023-05-17 13:57:52.437731072       7.430248e+07   \n",
       "min    3.088872e+06            2023-04-28 12:27:49       9.984580e+05   \n",
       "25%    6.270339e+07            2023-05-10 02:49:19       1.891695e+07   \n",
       "50%    2.126700e+08            2023-05-15 16:15:12       6.639655e+07   \n",
       "75%    3.800215e+08            2023-05-22 11:33:33       1.178876e+08   \n",
       "max    6.466726e+08            2024-05-08 01:36:18       2.083515e+08   \n",
       "std    1.844893e+08                            NaN       5.761959e+07   \n",
       "\n",
       "            user_id  \n",
       "count  4.769609e+06  \n",
       "mean   1.090241e+06  \n",
       "min    8.331120e+05  \n",
       "25%    8.835900e+05  \n",
       "50%    1.087460e+06  \n",
       "75%    1.233969e+06  \n",
       "max    1.580629e+06  \n",
       "std    2.018190e+05  "
      ]
     },
     "execution_count": 136,
     "metadata": {},
     "output_type": "execute_result"
    }
   ],
   "source": [
    "polls_usercandidate_df.describe()"
   ]
  },
  {
   "cell_type": "code",
   "execution_count": null,
   "id": "79f57dc0",
   "metadata": {},
   "outputs": [],
   "source": []
  },
  {
   "cell_type": "markdown",
   "id": "3899eb27",
   "metadata": {},
   "source": [
    "---"
   ]
  },
  {
   "cell_type": "code",
   "execution_count": null,
   "id": "ebd4b91a",
   "metadata": {},
   "outputs": [],
   "source": []
  }
 ],
 "metadata": {
  "kernelspec": {
   "display_name": "google_cloud",
   "language": "python",
   "name": "python3"
  },
  "language_info": {
   "codemirror_mode": {
    "name": "ipython",
    "version": 3
   },
   "file_extension": ".py",
   "mimetype": "text/x-python",
   "name": "python",
   "nbconvert_exporter": "python",
   "pygments_lexer": "ipython3",
   "version": "3.12.3"
  }
 },
 "nbformat": 4,
 "nbformat_minor": 5
}
