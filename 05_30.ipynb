{
 "cells": [
  {
   "cell_type": "code",
   "execution_count": 1,
   "id": "30dd8a78",
   "metadata": {},
   "outputs": [
    {
     "ename": "ModuleNotFoundError",
     "evalue": "No module named 'pandas'",
     "output_type": "error",
     "traceback": [
      "\u001b[31m---------------------------------------------------------------------------\u001b[39m",
      "\u001b[31mModuleNotFoundError\u001b[39m                       Traceback (most recent call last)",
      "\u001b[36mCell\u001b[39m\u001b[36m \u001b[39m\u001b[32mIn[1]\u001b[39m\u001b[32m, line 1\u001b[39m\n\u001b[32m----> \u001b[39m\u001b[32m1\u001b[39m \u001b[38;5;28;01mimport\u001b[39;00m\u001b[38;5;250m \u001b[39m\u001b[34;01mpandas\u001b[39;00m\u001b[38;5;250m \u001b[39m\u001b[38;5;28;01mas\u001b[39;00m\u001b[38;5;250m \u001b[39m\u001b[34;01mpd\u001b[39;00m\n\u001b[32m      2\u001b[39m \u001b[38;5;28;01mimport\u001b[39;00m\u001b[38;5;250m \u001b[39m\u001b[34;01mos\u001b[39;00m\n\u001b[32m      3\u001b[39m \u001b[38;5;28;01mfrom\u001b[39;00m\u001b[38;5;250m \u001b[39m\u001b[34;01mglob\u001b[39;00m\u001b[38;5;250m \u001b[39m\u001b[38;5;28;01mimport\u001b[39;00m glob\n",
      "\u001b[31mModuleNotFoundError\u001b[39m: No module named 'pandas'"
     ]
    }
   ],
   "source": [
    "import pandas as pd\n",
    "import os\n",
    "from glob import glob\n",
    "import platform\n",
    "import matplotlib.pyplot as plt\n",
    "import koreanize_matplotlib\n",
    "import matplotlib.font_manager as fm\n",
    "import seaborn as sns\n",
    "import ast\n",
    "\n",
    "# 마이너스 기호 깨짐 방지\n",
    "plt.rcParams['axes.unicode_minus'] = False\n",
    "\n",
    "# pandas 전체 출력 형식 설정(지수 표기 -> 자연수 표기)\n",
    "pd.set_option('display.float_format', '{:,.0f}'.format)\n",
    "\n",
    "pd.set_option('display.max_columns',100) # pandas 내 모든 칼럼 표시\n",
    "pd.set_option('display.max_rows', None) # pandas 내 모든 행 표시\n",
    "pd.set_option('display.max_seq_items', None) # 출력 옵션 설정\n",
    "pd.set_option('display.max_colwidth', None) # pandas 최대 열 너비 늘리기기"
   ]
  },
  {
   "cell_type": "code",
   "execution_count": 3,
   "id": "9a997688",
   "metadata": {},
   "outputs": [],
   "source": [
    "df_0705 = pd.read_parquet('./data/add_hackle/2023-07-05.parquet')"
   ]
  },
  {
   "cell_type": "code",
   "execution_count": 4,
   "id": "acb4f4e1",
   "metadata": {},
   "outputs": [
    {
     "name": "stdout",
     "output_type": "stream",
     "text": [
      "<class 'pandas.core.frame.DataFrame'>\n",
      "RangeIndex: 2878668 entries, 0 to 2878667\n",
      "Data columns (total 10 columns):\n",
      " #   Column             Dtype  \n",
      "---  ------             -----  \n",
      " 0   Asia/Seoul         object \n",
      " 1   event_key          object \n",
      " 2   session_id         object \n",
      " 3   user_id            object \n",
      " 4   value              float64\n",
      " 5   user_properties    object \n",
      " 6   hackle_properties  object \n",
      " 7   event_properties   object \n",
      " 8   id                 object \n",
      " 9   device_id          object \n",
      "dtypes: float64(1), object(9)\n",
      "memory usage: 219.6+ MB\n"
     ]
    }
   ],
   "source": [
    "df_0705.info()"
   ]
  },
  {
   "cell_type": "code",
   "execution_count": 5,
   "id": "5e32b999",
   "metadata": {},
   "outputs": [
    {
     "data": {
      "text/html": [
       "<div>\n",
       "<style scoped>\n",
       "    .dataframe tbody tr th:only-of-type {\n",
       "        vertical-align: middle;\n",
       "    }\n",
       "\n",
       "    .dataframe tbody tr th {\n",
       "        vertical-align: top;\n",
       "    }\n",
       "\n",
       "    .dataframe thead th {\n",
       "        text-align: right;\n",
       "    }\n",
       "</style>\n",
       "<table border=\"1\" class=\"dataframe\">\n",
       "  <thead>\n",
       "    <tr style=\"text-align: right;\">\n",
       "      <th></th>\n",
       "      <th>Asia/Seoul</th>\n",
       "      <th>event_key</th>\n",
       "      <th>session_id</th>\n",
       "      <th>user_id</th>\n",
       "      <th>value</th>\n",
       "      <th>user_properties</th>\n",
       "      <th>hackle_properties</th>\n",
       "      <th>event_properties</th>\n",
       "      <th>id</th>\n",
       "      <th>device_id</th>\n",
       "    </tr>\n",
       "  </thead>\n",
       "  <tbody>\n",
       "    <tr>\n",
       "      <th>0</th>\n",
       "      <td>2023-07-06T00:00:00.234Z</td>\n",
       "      <td>view_home_tap</td>\n",
       "      <td>GCZf2jHnnpSHH7DnviWmLLiG20j1</td>\n",
       "      <td>GCZf2jHnnpSHH7DnviWmLLiG20j1</td>\n",
       "      <td>0</td>\n",
       "      <td>[]</td>\n",
       "      <td>{'language': 'ko-KR', 'isapp': 'true', 'osversion': '15.3.1', 'devicevendor': 'Apple', 'versionname': '1.2.15', 'osname': 'iOS', 'platform': 'Mobile', 'devicemodel': 'iPhone12,8'}</td>\n",
       "      <td>[]</td>\n",
       "      <td>f0c6f1b5-2c63-4944-9755-f70f8c116829</td>\n",
       "      <td>19d76555-5bf6-4f86-9d79-e71b4f1e3589</td>\n",
       "    </tr>\n",
       "    <tr>\n",
       "      <th>1</th>\n",
       "      <td>2023-07-06T00:00:00.285Z</td>\n",
       "      <td>$session_start</td>\n",
       "      <td>8PZ7GgUaVXSAGn3lPv2E51lfeir1</td>\n",
       "      <td>8PZ7GgUaVXSAGn3lPv2E51lfeir1</td>\n",
       "      <td>0</td>\n",
       "      <td>[]</td>\n",
       "      <td>{'language': 'ko-KR', 'isapp': 'true', 'osversion': '16.5.1', 'devicevendor': 'Apple', 'versionname': '1.2.15', 'osname': 'iOS', 'platform': 'Mobile', 'devicemodel': 'iPhone15,2'}</td>\n",
       "      <td>[]</td>\n",
       "      <td>f76c51fd-1784-4161-bc9f-8ec621117179</td>\n",
       "      <td>37ba7f82-917f-464d-bfd8-2a83c4aef701</td>\n",
       "    </tr>\n",
       "    <tr>\n",
       "      <th>2</th>\n",
       "      <td>2023-07-06T00:00:00.372Z</td>\n",
       "      <td>view_profile_tap</td>\n",
       "      <td>ZeH6snQ1gxWQfRodLFDV6qMMcmG2</td>\n",
       "      <td>ZeH6snQ1gxWQfRodLFDV6qMMcmG2</td>\n",
       "      <td>0</td>\n",
       "      <td>[]</td>\n",
       "      <td>{'language': 'ko-KR', 'isapp': 'true', 'osversion': '16.5.1', 'devicevendor': 'Apple', 'versionname': '1.2.15', 'osname': 'iOS', 'platform': 'Mobile', 'devicemodel': 'iPhone12,1'}</td>\n",
       "      <td>[]</td>\n",
       "      <td>07a10746-b0cf-465d-9326-ba43ea02721c</td>\n",
       "      <td>3fe79d88-9d5c-43ff-b7ae-513855f9e97f</td>\n",
       "    </tr>\n",
       "    <tr>\n",
       "      <th>3</th>\n",
       "      <td>2023-07-06T00:00:00.397Z</td>\n",
       "      <td>launch_app</td>\n",
       "      <td>8PZ7GgUaVXSAGn3lPv2E51lfeir1</td>\n",
       "      <td>8PZ7GgUaVXSAGn3lPv2E51lfeir1</td>\n",
       "      <td>0</td>\n",
       "      <td>[]</td>\n",
       "      <td>{'language': 'ko-KR', 'isapp': 'true', 'osversion': '16.5.1', 'devicevendor': 'Apple', 'versionname': '1.2.15', 'osname': 'iOS', 'platform': 'Mobile', 'devicemodel': 'iPhone15,2'}</td>\n",
       "      <td>[]</td>\n",
       "      <td>6e09b3a6-690b-4204-a8aa-91fb71b68863</td>\n",
       "      <td>37ba7f82-917f-464d-bfd8-2a83c4aef701</td>\n",
       "    </tr>\n",
       "    <tr>\n",
       "      <th>4</th>\n",
       "      <td>2023-07-06T00:00:00.473Z</td>\n",
       "      <td>$session_start</td>\n",
       "      <td>raovhvckyKM8m1X2hKrIja8yIb92</td>\n",
       "      <td>raovhvckyKM8m1X2hKrIja8yIb92</td>\n",
       "      <td>0</td>\n",
       "      <td>[]</td>\n",
       "      <td>{'language': 'ko-KR', 'isapp': 'true', 'osversion': '16.0.2', 'devicevendor': 'Apple', 'versionname': '1.2.15', 'osname': 'iOS', 'platform': 'Mobile', 'devicemodel': 'iPhone12,8'}</td>\n",
       "      <td>[]</td>\n",
       "      <td>37d76708-46b3-46eb-a6a3-3c29d68bb8ca</td>\n",
       "      <td>25cf1eb3-65b8-418b-b99b-db2f87ef647a</td>\n",
       "    </tr>\n",
       "  </tbody>\n",
       "</table>\n",
       "</div>"
      ],
      "text/plain": [
       "                 Asia/Seoul         event_key                    session_id  \\\n",
       "0  2023-07-06T00:00:00.234Z     view_home_tap  GCZf2jHnnpSHH7DnviWmLLiG20j1   \n",
       "1  2023-07-06T00:00:00.285Z    $session_start  8PZ7GgUaVXSAGn3lPv2E51lfeir1   \n",
       "2  2023-07-06T00:00:00.372Z  view_profile_tap  ZeH6snQ1gxWQfRodLFDV6qMMcmG2   \n",
       "3  2023-07-06T00:00:00.397Z        launch_app  8PZ7GgUaVXSAGn3lPv2E51lfeir1   \n",
       "4  2023-07-06T00:00:00.473Z    $session_start  raovhvckyKM8m1X2hKrIja8yIb92   \n",
       "\n",
       "                        user_id  value user_properties  \\\n",
       "0  GCZf2jHnnpSHH7DnviWmLLiG20j1      0              []   \n",
       "1  8PZ7GgUaVXSAGn3lPv2E51lfeir1      0              []   \n",
       "2  ZeH6snQ1gxWQfRodLFDV6qMMcmG2      0              []   \n",
       "3  8PZ7GgUaVXSAGn3lPv2E51lfeir1      0              []   \n",
       "4  raovhvckyKM8m1X2hKrIja8yIb92      0              []   \n",
       "\n",
       "                                                                                                                                                                     hackle_properties  \\\n",
       "0  {'language': 'ko-KR', 'isapp': 'true', 'osversion': '15.3.1', 'devicevendor': 'Apple', 'versionname': '1.2.15', 'osname': 'iOS', 'platform': 'Mobile', 'devicemodel': 'iPhone12,8'}   \n",
       "1  {'language': 'ko-KR', 'isapp': 'true', 'osversion': '16.5.1', 'devicevendor': 'Apple', 'versionname': '1.2.15', 'osname': 'iOS', 'platform': 'Mobile', 'devicemodel': 'iPhone15,2'}   \n",
       "2  {'language': 'ko-KR', 'isapp': 'true', 'osversion': '16.5.1', 'devicevendor': 'Apple', 'versionname': '1.2.15', 'osname': 'iOS', 'platform': 'Mobile', 'devicemodel': 'iPhone12,1'}   \n",
       "3  {'language': 'ko-KR', 'isapp': 'true', 'osversion': '16.5.1', 'devicevendor': 'Apple', 'versionname': '1.2.15', 'osname': 'iOS', 'platform': 'Mobile', 'devicemodel': 'iPhone15,2'}   \n",
       "4  {'language': 'ko-KR', 'isapp': 'true', 'osversion': '16.0.2', 'devicevendor': 'Apple', 'versionname': '1.2.15', 'osname': 'iOS', 'platform': 'Mobile', 'devicemodel': 'iPhone12,8'}   \n",
       "\n",
       "  event_properties                                    id  \\\n",
       "0               []  f0c6f1b5-2c63-4944-9755-f70f8c116829   \n",
       "1               []  f76c51fd-1784-4161-bc9f-8ec621117179   \n",
       "2               []  07a10746-b0cf-465d-9326-ba43ea02721c   \n",
       "3               []  6e09b3a6-690b-4204-a8aa-91fb71b68863   \n",
       "4               []  37d76708-46b3-46eb-a6a3-3c29d68bb8ca   \n",
       "\n",
       "                              device_id  \n",
       "0  19d76555-5bf6-4f86-9d79-e71b4f1e3589  \n",
       "1  37ba7f82-917f-464d-bfd8-2a83c4aef701  \n",
       "2  3fe79d88-9d5c-43ff-b7ae-513855f9e97f  \n",
       "3  37ba7f82-917f-464d-bfd8-2a83c4aef701  \n",
       "4  25cf1eb3-65b8-418b-b99b-db2f87ef647a  "
      ]
     },
     "execution_count": 5,
     "metadata": {},
     "output_type": "execute_result"
    }
   ],
   "source": [
    "df_0705.head()"
   ]
  },
  {
   "cell_type": "code",
   "execution_count": 12,
   "id": "21bd6eac",
   "metadata": {},
   "outputs": [
    {
     "data": {
      "text/plain": [
       "event_properties\n",
       "[]                                     2642641\n",
       "[('page_name', 'home')]                 119562\n",
       "[('page_name', 'notice')]                31383\n",
       "[('$clearall', '{\"clearall\":\"-\"}')]      14228\n",
       "[('page_name', '학교선택')]                   3479\n",
       "[('page_name', '학년선택')]                   3362\n",
       "[('page_name', '반선택')]                    2486\n",
       "[('page_name', '연락처')]                    1517\n",
       "[('page_name', 'profile')]                1353\n",
       "[('item_name', '무료충전소')]                  1219\n",
       "Name: count, dtype: int64"
      ]
     },
     "execution_count": 12,
     "metadata": {},
     "output_type": "execute_result"
    }
   ],
   "source": [
    "df_0705['event_properties'].apply(str).value_counts().head(10)"
   ]
  },
  {
   "cell_type": "code",
   "execution_count": 11,
   "id": "edf80b43",
   "metadata": {},
   "outputs": [
    {
     "data": {
      "text/plain": [
       "user_properties\n",
       "[]                                                                                                                                                                                                                                                 1929499\n",
       "[('friend_count', '0')]                                                                                                                                                                                                                              18560\n",
       "[('heart_balance', '699')]                                                                                                                                                                                                                            1972\n",
       "[('is_member', 'true'), ('school_id', '3699'), ('gender', 'M'), ('school', '영양고등학교'), ('grade', '3'), ('created_at', '2023-06-06T11:23:24.349635Z'), ('friend_count', '57'), ('class', '1'), ('heart_balance', '3901'), ('votes_count', '326')]       1885\n",
       "[('heart_balance', '300')]                                                                                                                                                                                                                            1784\n",
       "[('heart_balance', '3821')]                                                                                                                                                                                                                           1576\n",
       "[('heart_balance', '1339')]                                                                                                                                                                                                                           1401\n",
       "[('heart_balance', '1829')]                                                                                                                                                                                                                           1250\n",
       "[('school_id', '3846'), ('is_member', 'true'), ('gender', 'M'), ('school', '형남중학교'), ('grade', '2'), ('created_at', '2023-05-17T07:07:33.329280Z'), ('friend_count', '69'), ('class', '1'), ('heart_balance', '2764'), ('votes_count', '143')]        1225\n",
       "[('heart_balance', '48')]                                                                                                                                                                                                                             1161\n",
       "Name: count, dtype: int64"
      ]
     },
     "execution_count": 11,
     "metadata": {},
     "output_type": "execute_result"
    }
   ],
   "source": [
    "df_0705['user_properties'].apply(str).value_counts().head(10)"
   ]
  },
  {
   "cell_type": "code",
   "execution_count": null,
   "id": "d59175d5",
   "metadata": {},
   "outputs": [],
   "source": []
  },
  {
   "cell_type": "code",
   "execution_count": null,
   "id": "aa390497",
   "metadata": {},
   "outputs": [],
   "source": []
  },
  {
   "cell_type": "code",
   "execution_count": null,
   "id": "0d3646f7",
   "metadata": {},
   "outputs": [],
   "source": []
  },
  {
   "cell_type": "code",
   "execution_count": null,
   "id": "f886fc21",
   "metadata": {},
   "outputs": [],
   "source": []
  },
  {
   "cell_type": "code",
   "execution_count": null,
   "id": "cdf4268d",
   "metadata": {},
   "outputs": [],
   "source": []
  },
  {
   "cell_type": "code",
   "execution_count": null,
   "id": "0fc85bc8",
   "metadata": {},
   "outputs": [],
   "source": []
  },
  {
   "cell_type": "code",
   "execution_count": null,
   "id": "e4d2b423",
   "metadata": {},
   "outputs": [],
   "source": []
  },
  {
   "cell_type": "code",
   "execution_count": null,
   "id": "dd9a05e0",
   "metadata": {},
   "outputs": [],
   "source": []
  },
  {
   "cell_type": "code",
   "execution_count": null,
   "id": "0598417d",
   "metadata": {},
   "outputs": [],
   "source": []
  },
  {
   "cell_type": "code",
   "execution_count": null,
   "id": "cff2486d",
   "metadata": {},
   "outputs": [],
   "source": []
  },
  {
   "cell_type": "code",
   "execution_count": null,
   "id": "93424d0d",
   "metadata": {},
   "outputs": [],
   "source": []
  },
  {
   "cell_type": "code",
   "execution_count": null,
   "id": "92b005a2",
   "metadata": {},
   "outputs": [],
   "source": []
  },
  {
   "cell_type": "code",
   "execution_count": null,
   "id": "152463c2",
   "metadata": {},
   "outputs": [],
   "source": []
  },
  {
   "cell_type": "code",
   "execution_count": null,
   "id": "699c4bb9",
   "metadata": {},
   "outputs": [],
   "source": []
  },
  {
   "cell_type": "code",
   "execution_count": null,
   "id": "f345f004",
   "metadata": {},
   "outputs": [],
   "source": []
  },
  {
   "cell_type": "code",
   "execution_count": null,
   "id": "cfd97be0",
   "metadata": {},
   "outputs": [],
   "source": []
  },
  {
   "cell_type": "code",
   "execution_count": null,
   "id": "8bab1e7b",
   "metadata": {},
   "outputs": [],
   "source": []
  },
  {
   "cell_type": "code",
   "execution_count": null,
   "id": "4dbc06f5",
   "metadata": {},
   "outputs": [],
   "source": []
  },
  {
   "cell_type": "code",
   "execution_count": null,
   "id": "0e142324",
   "metadata": {},
   "outputs": [],
   "source": []
  },
  {
   "cell_type": "code",
   "execution_count": null,
   "id": "039da1b6",
   "metadata": {},
   "outputs": [],
   "source": []
  },
  {
   "cell_type": "code",
   "execution_count": null,
   "id": "2c0480da",
   "metadata": {},
   "outputs": [],
   "source": []
  },
  {
   "cell_type": "code",
   "execution_count": null,
   "id": "ab464fb5",
   "metadata": {},
   "outputs": [],
   "source": []
  },
  {
   "cell_type": "code",
   "execution_count": null,
   "id": "f2ab05b4",
   "metadata": {},
   "outputs": [],
   "source": []
  },
  {
   "cell_type": "code",
   "execution_count": null,
   "id": "e431a3da",
   "metadata": {},
   "outputs": [],
   "source": []
  },
  {
   "cell_type": "code",
   "execution_count": null,
   "id": "00669f68",
   "metadata": {},
   "outputs": [],
   "source": []
  },
  {
   "cell_type": "code",
   "execution_count": null,
   "id": "de3fdc26",
   "metadata": {},
   "outputs": [],
   "source": []
  },
  {
   "cell_type": "code",
   "execution_count": null,
   "id": "06f2d844",
   "metadata": {},
   "outputs": [],
   "source": []
  },
  {
   "cell_type": "code",
   "execution_count": null,
   "id": "e7ba9e56",
   "metadata": {},
   "outputs": [],
   "source": []
  },
  {
   "cell_type": "code",
   "execution_count": null,
   "id": "beacfa6c",
   "metadata": {},
   "outputs": [],
   "source": []
  },
  {
   "cell_type": "code",
   "execution_count": null,
   "id": "67e896af",
   "metadata": {},
   "outputs": [],
   "source": []
  },
  {
   "cell_type": "code",
   "execution_count": null,
   "id": "79e410d6",
   "metadata": {},
   "outputs": [],
   "source": []
  }
 ],
 "metadata": {
  "kernelspec": {
   "display_name": "google_cloud",
   "language": "python",
   "name": "python3"
  },
  "language_info": {
   "codemirror_mode": {
    "name": "ipython",
    "version": 3
   },
   "file_extension": ".py",
   "mimetype": "text/x-python",
   "name": "python",
   "nbconvert_exporter": "python",
   "pygments_lexer": "ipython3",
   "version": "3.12.3"
  }
 },
 "nbformat": 4,
 "nbformat_minor": 5
}
