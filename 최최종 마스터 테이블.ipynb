{
 "cells": [
  {
   "cell_type": "code",
   "execution_count": 1,
   "id": "21fdbcda",
   "metadata": {},
   "outputs": [],
   "source": [
    "import pandas as pd\n",
    "import numpy as np\n",
    "import matplotlib.pyplot as plt\n",
    "import seaborn as sns\n",
    "import os\n",
    "import matplotlib.font_manager as fm\n",
    "import koreanize_matplotlib\n",
    "\n",
    "# 폰트 경로 확인 및 설정\n",
    "font_path = '/usr/share/fonts/truetype/nanum/NanumGothic.ttf'  # 설치된 폰트 경로\n",
    "font_name = fm.FontProperties(fname=font_path).get_name()\n",
    "plt.rc('font', family=font_name)\n",
    "\n",
    "# 한글 깨짐 방지 - 마이너스 기호 처리\n",
    "plt.rcParams['axes.unicode_minus'] = False"
   ]
  },
  {
   "cell_type": "code",
   "execution_count": 5,
   "id": "51c9d4a7",
   "metadata": {},
   "outputs": [
    {
     "data": {
      "text/plain": [
       "((2507, 23), (4845, 19))"
      ]
     },
     "execution_count": 5,
     "metadata": {},
     "output_type": "execute_result"
    }
   ],
   "source": [
    "# 파일 불러오기\n",
    "v5_path = \"/home/eunyu/master_last_v5.csv\"\n",
    "all_path = \"/home/eunyu/master_with_all.csv\"\n",
    "\n",
    "v5_df = pd.read_csv(v5_path)\n",
    "all_df = pd.read_csv(all_path)\n",
    "\n",
    "# 각 데이터프레임의 shape 확인\n",
    "v5_df.shape, all_df.shape\n"
   ]
  },
  {
   "cell_type": "code",
   "execution_count": 6,
   "id": "65c78184",
   "metadata": {},
   "outputs": [
    {
     "data": {
      "text/html": [
       "<div>\n",
       "<style scoped>\n",
       "    .dataframe tbody tr th:only-of-type {\n",
       "        vertical-align: middle;\n",
       "    }\n",
       "\n",
       "    .dataframe tbody tr th {\n",
       "        vertical-align: top;\n",
       "    }\n",
       "\n",
       "    .dataframe thead th {\n",
       "        text-align: right;\n",
       "    }\n",
       "</style>\n",
       "<table border=\"1\" class=\"dataframe\">\n",
       "  <thead>\n",
       "    <tr style=\"text-align: right;\">\n",
       "      <th></th>\n",
       "      <th>Unnamed: 0</th>\n",
       "      <th>user_id</th>\n",
       "      <th>total_votes</th>\n",
       "      <th>unique_days</th>\n",
       "      <th>first_vote</th>\n",
       "      <th>last_vote</th>\n",
       "      <th>active_days</th>\n",
       "      <th>cohort_day</th>\n",
       "      <th>retention_day8</th>\n",
       "      <th>gender</th>\n",
       "      <th>...</th>\n",
       "      <th>votes_within_3d</th>\n",
       "      <th>period_friend_count</th>\n",
       "      <th>retention_group</th>\n",
       "      <th>address</th>\n",
       "      <th>student_count</th>\n",
       "      <th>school_type</th>\n",
       "      <th>firstquestion_id</th>\n",
       "      <th>first_question_text</th>\n",
       "      <th>first_question_category</th>\n",
       "      <th>chosen_count</th>\n",
       "    </tr>\n",
       "  </thead>\n",
       "  <tbody>\n",
       "    <tr>\n",
       "      <th>0</th>\n",
       "      <td>0</td>\n",
       "      <td>838466</td>\n",
       "      <td>129</td>\n",
       "      <td>7</td>\n",
       "      <td>2023-05-02</td>\n",
       "      <td>2023-06-02</td>\n",
       "      <td>31</td>\n",
       "      <td>2023-05-02</td>\n",
       "      <td>0.569444</td>\n",
       "      <td>F</td>\n",
       "      <td>...</td>\n",
       "      <td>77</td>\n",
       "      <td>63.0</td>\n",
       "      <td>top25</td>\n",
       "      <td>충청남도 아산시</td>\n",
       "      <td>578</td>\n",
       "      <td>H</td>\n",
       "      <td>298</td>\n",
       "      <td>옷이 제일 많을 거 같은 사람은?</td>\n",
       "      <td>['스타일']</td>\n",
       "      <td>342.0</td>\n",
       "    </tr>\n",
       "    <tr>\n",
       "      <th>1</th>\n",
       "      <td>1</td>\n",
       "      <td>838642</td>\n",
       "      <td>10</td>\n",
       "      <td>2</td>\n",
       "      <td>2023-04-28</td>\n",
       "      <td>2023-04-29</td>\n",
       "      <td>1</td>\n",
       "      <td>2023-04-28</td>\n",
       "      <td>0.560000</td>\n",
       "      <td>F</td>\n",
       "      <td>...</td>\n",
       "      <td>10</td>\n",
       "      <td>6.0</td>\n",
       "      <td>top25</td>\n",
       "      <td>충청남도 천안시 서북구</td>\n",
       "      <td>491</td>\n",
       "      <td>H</td>\n",
       "      <td>161</td>\n",
       "      <td>화목한 가정을 꾸릴거 같은 사람은?</td>\n",
       "      <td>['인간관계']</td>\n",
       "      <td>40.0</td>\n",
       "    </tr>\n",
       "    <tr>\n",
       "      <th>2</th>\n",
       "      <td>2</td>\n",
       "      <td>840512</td>\n",
       "      <td>141</td>\n",
       "      <td>8</td>\n",
       "      <td>2023-05-02</td>\n",
       "      <td>2023-07-11</td>\n",
       "      <td>70</td>\n",
       "      <td>2023-05-02</td>\n",
       "      <td>0.569444</td>\n",
       "      <td>M</td>\n",
       "      <td>...</td>\n",
       "      <td>69</td>\n",
       "      <td>16.0</td>\n",
       "      <td>top25</td>\n",
       "      <td>충청남도 아산시</td>\n",
       "      <td>578</td>\n",
       "      <td>H</td>\n",
       "      <td>219</td>\n",
       "      <td>마술이 눈속임이 아니라 마법이라고 생각할 것 같은 사람은?</td>\n",
       "      <td>['상상']</td>\n",
       "      <td>309.0</td>\n",
       "    </tr>\n",
       "    <tr>\n",
       "      <th>3</th>\n",
       "      <td>3</td>\n",
       "      <td>840685</td>\n",
       "      <td>567</td>\n",
       "      <td>21</td>\n",
       "      <td>2023-05-02</td>\n",
       "      <td>2023-06-06</td>\n",
       "      <td>35</td>\n",
       "      <td>2023-05-02</td>\n",
       "      <td>0.569444</td>\n",
       "      <td>F</td>\n",
       "      <td>...</td>\n",
       "      <td>259</td>\n",
       "      <td>69.0</td>\n",
       "      <td>top25</td>\n",
       "      <td>충청남도 아산시</td>\n",
       "      <td>578</td>\n",
       "      <td>H</td>\n",
       "      <td>120</td>\n",
       "      <td>본인 방이 제일 깨끗할거 같은 사람은?</td>\n",
       "      <td>['스타일']</td>\n",
       "      <td>256.0</td>\n",
       "    </tr>\n",
       "    <tr>\n",
       "      <th>4</th>\n",
       "      <td>4</td>\n",
       "      <td>840902</td>\n",
       "      <td>250</td>\n",
       "      <td>14</td>\n",
       "      <td>2023-05-02</td>\n",
       "      <td>2023-05-27</td>\n",
       "      <td>25</td>\n",
       "      <td>2023-05-02</td>\n",
       "      <td>0.569444</td>\n",
       "      <td>F</td>\n",
       "      <td>...</td>\n",
       "      <td>73</td>\n",
       "      <td>60.0</td>\n",
       "      <td>top25</td>\n",
       "      <td>충청남도 아산시</td>\n",
       "      <td>578</td>\n",
       "      <td>H</td>\n",
       "      <td>332</td>\n",
       "      <td>선물 고르는 센스가 가장 좋을 것 같은 사람은?</td>\n",
       "      <td>['스타일']</td>\n",
       "      <td>201.0</td>\n",
       "    </tr>\n",
       "    <tr>\n",
       "      <th>...</th>\n",
       "      <td>...</td>\n",
       "      <td>...</td>\n",
       "      <td>...</td>\n",
       "      <td>...</td>\n",
       "      <td>...</td>\n",
       "      <td>...</td>\n",
       "      <td>...</td>\n",
       "      <td>...</td>\n",
       "      <td>...</td>\n",
       "      <td>...</td>\n",
       "      <td>...</td>\n",
       "      <td>...</td>\n",
       "      <td>...</td>\n",
       "      <td>...</td>\n",
       "      <td>...</td>\n",
       "      <td>...</td>\n",
       "      <td>...</td>\n",
       "      <td>...</td>\n",
       "      <td>...</td>\n",
       "      <td>...</td>\n",
       "      <td>...</td>\n",
       "    </tr>\n",
       "    <tr>\n",
       "      <th>2502</th>\n",
       "      <td>2502</td>\n",
       "      <td>1497413</td>\n",
       "      <td>335</td>\n",
       "      <td>13</td>\n",
       "      <td>2023-05-24</td>\n",
       "      <td>2023-07-28</td>\n",
       "      <td>65</td>\n",
       "      <td>2023-05-24</td>\n",
       "      <td>0.294118</td>\n",
       "      <td>M</td>\n",
       "      <td>...</td>\n",
       "      <td>152</td>\n",
       "      <td>35.0</td>\n",
       "      <td>bottom25</td>\n",
       "      <td>경상남도 거제시</td>\n",
       "      <td>483</td>\n",
       "      <td>H</td>\n",
       "      <td>1046</td>\n",
       "      <td>졸업 후 동창회에서 청첩장 돌릴 것 같은 친구는?</td>\n",
       "      <td>['인간관계']</td>\n",
       "      <td>199.0</td>\n",
       "    </tr>\n",
       "    <tr>\n",
       "      <th>2503</th>\n",
       "      <td>2503</td>\n",
       "      <td>1497699</td>\n",
       "      <td>15</td>\n",
       "      <td>2</td>\n",
       "      <td>2023-05-24</td>\n",
       "      <td>2023-05-25</td>\n",
       "      <td>1</td>\n",
       "      <td>2023-05-24</td>\n",
       "      <td>0.294118</td>\n",
       "      <td>M</td>\n",
       "      <td>...</td>\n",
       "      <td>15</td>\n",
       "      <td>2.0</td>\n",
       "      <td>bottom25</td>\n",
       "      <td>충청남도 천안시 서북구</td>\n",
       "      <td>491</td>\n",
       "      <td>H</td>\n",
       "      <td>336</td>\n",
       "      <td>제대로 놀 때 부르고 싶은 친구는?</td>\n",
       "      <td>['인간관계']</td>\n",
       "      <td>12.0</td>\n",
       "    </tr>\n",
       "    <tr>\n",
       "      <th>2504</th>\n",
       "      <td>2504</td>\n",
       "      <td>1498168</td>\n",
       "      <td>268</td>\n",
       "      <td>15</td>\n",
       "      <td>2023-05-24</td>\n",
       "      <td>2023-06-09</td>\n",
       "      <td>16</td>\n",
       "      <td>2023-05-24</td>\n",
       "      <td>0.294118</td>\n",
       "      <td>M</td>\n",
       "      <td>...</td>\n",
       "      <td>54</td>\n",
       "      <td>23.0</td>\n",
       "      <td>bottom25</td>\n",
       "      <td>경상남도 거제시</td>\n",
       "      <td>483</td>\n",
       "      <td>H</td>\n",
       "      <td>911</td>\n",
       "      <td>답장 속도가 가장 빠른 사람은?</td>\n",
       "      <td>['인간관계']</td>\n",
       "      <td>146.0</td>\n",
       "    </tr>\n",
       "    <tr>\n",
       "      <th>2505</th>\n",
       "      <td>2505</td>\n",
       "      <td>1498266</td>\n",
       "      <td>4</td>\n",
       "      <td>1</td>\n",
       "      <td>2023-05-24</td>\n",
       "      <td>2023-05-24</td>\n",
       "      <td>0</td>\n",
       "      <td>2023-05-24</td>\n",
       "      <td>0.294118</td>\n",
       "      <td>F</td>\n",
       "      <td>...</td>\n",
       "      <td>4</td>\n",
       "      <td>28.0</td>\n",
       "      <td>bottom25</td>\n",
       "      <td>울산광역시 울주군</td>\n",
       "      <td>550</td>\n",
       "      <td>H</td>\n",
       "      <td>914</td>\n",
       "      <td>예술감각이 가장 뛰어난 친구는?</td>\n",
       "      <td>['스타일']</td>\n",
       "      <td>34.0</td>\n",
       "    </tr>\n",
       "    <tr>\n",
       "      <th>2506</th>\n",
       "      <td>2506</td>\n",
       "      <td>1499419</td>\n",
       "      <td>37</td>\n",
       "      <td>2</td>\n",
       "      <td>2023-05-24</td>\n",
       "      <td>2023-05-25</td>\n",
       "      <td>1</td>\n",
       "      <td>2023-05-24</td>\n",
       "      <td>0.294118</td>\n",
       "      <td>M</td>\n",
       "      <td>...</td>\n",
       "      <td>37</td>\n",
       "      <td>25.0</td>\n",
       "      <td>bottom25</td>\n",
       "      <td>경상남도 거제시</td>\n",
       "      <td>483</td>\n",
       "      <td>H</td>\n",
       "      <td>831</td>\n",
       "      <td>과즙상인 친구는?</td>\n",
       "      <td>['스타일']</td>\n",
       "      <td>131.0</td>\n",
       "    </tr>\n",
       "  </tbody>\n",
       "</table>\n",
       "<p>2507 rows × 23 columns</p>\n",
       "</div>"
      ],
      "text/plain": [
       "      Unnamed: 0  user_id  total_votes  unique_days  first_vote   last_vote  \\\n",
       "0              0   838466          129            7  2023-05-02  2023-06-02   \n",
       "1              1   838642           10            2  2023-04-28  2023-04-29   \n",
       "2              2   840512          141            8  2023-05-02  2023-07-11   \n",
       "3              3   840685          567           21  2023-05-02  2023-06-06   \n",
       "4              4   840902          250           14  2023-05-02  2023-05-27   \n",
       "...          ...      ...          ...          ...         ...         ...   \n",
       "2502        2502  1497413          335           13  2023-05-24  2023-07-28   \n",
       "2503        2503  1497699           15            2  2023-05-24  2023-05-25   \n",
       "2504        2504  1498168          268           15  2023-05-24  2023-06-09   \n",
       "2505        2505  1498266            4            1  2023-05-24  2023-05-24   \n",
       "2506        2506  1499419           37            2  2023-05-24  2023-05-25   \n",
       "\n",
       "      active_days  cohort_day  retention_day8 gender  ...  votes_within_3d  \\\n",
       "0              31  2023-05-02        0.569444      F  ...               77   \n",
       "1               1  2023-04-28        0.560000      F  ...               10   \n",
       "2              70  2023-05-02        0.569444      M  ...               69   \n",
       "3              35  2023-05-02        0.569444      F  ...              259   \n",
       "4              25  2023-05-02        0.569444      F  ...               73   \n",
       "...           ...         ...             ...    ...  ...              ...   \n",
       "2502           65  2023-05-24        0.294118      M  ...              152   \n",
       "2503            1  2023-05-24        0.294118      M  ...               15   \n",
       "2504           16  2023-05-24        0.294118      M  ...               54   \n",
       "2505            0  2023-05-24        0.294118      F  ...                4   \n",
       "2506            1  2023-05-24        0.294118      M  ...               37   \n",
       "\n",
       "      period_friend_count  retention_group       address  student_count  \\\n",
       "0                    63.0            top25      충청남도 아산시            578   \n",
       "1                     6.0            top25  충청남도 천안시 서북구            491   \n",
       "2                    16.0            top25      충청남도 아산시            578   \n",
       "3                    69.0            top25      충청남도 아산시            578   \n",
       "4                    60.0            top25      충청남도 아산시            578   \n",
       "...                   ...              ...           ...            ...   \n",
       "2502                 35.0         bottom25      경상남도 거제시            483   \n",
       "2503                  2.0         bottom25  충청남도 천안시 서북구            491   \n",
       "2504                 23.0         bottom25      경상남도 거제시            483   \n",
       "2505                 28.0         bottom25     울산광역시 울주군            550   \n",
       "2506                 25.0         bottom25      경상남도 거제시            483   \n",
       "\n",
       "     school_type firstquestion_id               first_question_text  \\\n",
       "0              H              298                옷이 제일 많을 거 같은 사람은?   \n",
       "1              H              161               화목한 가정을 꾸릴거 같은 사람은?   \n",
       "2              H              219  마술이 눈속임이 아니라 마법이라고 생각할 것 같은 사람은?   \n",
       "3              H              120             본인 방이 제일 깨끗할거 같은 사람은?   \n",
       "4              H              332        선물 고르는 센스가 가장 좋을 것 같은 사람은?   \n",
       "...          ...              ...                               ...   \n",
       "2502           H             1046       졸업 후 동창회에서 청첩장 돌릴 것 같은 친구는?   \n",
       "2503           H              336               제대로 놀 때 부르고 싶은 친구는?   \n",
       "2504           H              911                 답장 속도가 가장 빠른 사람은?   \n",
       "2505           H              914                 예술감각이 가장 뛰어난 친구는?   \n",
       "2506           H              831                         과즙상인 친구는?   \n",
       "\n",
       "     first_question_category  chosen_count  \n",
       "0                    ['스타일']         342.0  \n",
       "1                   ['인간관계']          40.0  \n",
       "2                     ['상상']         309.0  \n",
       "3                    ['스타일']         256.0  \n",
       "4                    ['스타일']         201.0  \n",
       "...                      ...           ...  \n",
       "2502                ['인간관계']         199.0  \n",
       "2503                ['인간관계']          12.0  \n",
       "2504                ['인간관계']         146.0  \n",
       "2505                 ['스타일']          34.0  \n",
       "2506                 ['스타일']         131.0  \n",
       "\n",
       "[2507 rows x 23 columns]"
      ]
     },
     "execution_count": 6,
     "metadata": {},
     "output_type": "execute_result"
    }
   ],
   "source": [
    "v5_df"
   ]
  },
  {
   "cell_type": "markdown",
   "id": "df0e5aaf",
   "metadata": {},
   "source": [
    "# 상위 하위 25% 지표"
   ]
  },
  {
   "cell_type": "code",
   "execution_count": null,
   "id": "72b51096",
   "metadata": {},
   "outputs": [],
   "source": []
  },
  {
   "cell_type": "code",
   "execution_count": 11,
   "id": "c02bcfc5",
   "metadata": {},
   "outputs": [
    {
     "data": {
      "text/plain": [
       "school_type\n",
       "H    2000\n",
       "M     507\n",
       "Name: count, dtype: int64"
      ]
     },
     "execution_count": 11,
     "metadata": {},
     "output_type": "execute_result"
    }
   ],
   "source": [
    "# school_type 값 고유 확인\n",
    "v5_df[\"school_type\"].value_counts(dropna=False)\n",
    "\n"
   ]
  },
  {
   "cell_type": "markdown",
   "id": "e1f6fa16",
   "metadata": {},
   "source": [
    "- 고등학생: 2000명\n",
    "- 중학생: 507명"
   ]
  },
  {
   "cell_type": "code",
   "execution_count": null,
   "id": "0ecdc229",
   "metadata": {},
   "outputs": [
    {
     "data": {
      "text/plain": [
       "Index(['Unnamed: 0', 'user_id', 'total_votes', 'unique_days', 'first_vote',\n",
       "       'last_vote', 'active_days', 'cohort_day', 'retention_day8', 'gender',\n",
       "       'school_id', 'grade', 'group_id', 'votes_within_3d',\n",
       "       'period_friend_count', 'retention_group', 'address', 'student_count',\n",
       "       'school_type', 'firstquestion_id', 'first_question_text',\n",
       "       'first_question_category', 'chosen_count'],\n",
       "      dtype='object')"
      ]
     },
     "execution_count": 8,
     "metadata": {},
     "output_type": "execute_result"
    }
   ],
   "source": [
    "v5_df.columns"
   ]
  },
  {
   "cell_type": "code",
   "execution_count": null,
   "id": "21f6cf9d",
   "metadata": {},
   "outputs": [],
   "source": []
  },
  {
   "cell_type": "markdown",
   "id": "b2565f7f",
   "metadata": {},
   "source": [
    "### 코호트 분석 학교 타입"
   ]
  },
  {
   "cell_type": "code",
   "execution_count": 10,
   "id": "4eaa8705",
   "metadata": {},
   "outputs": [
    {
     "data": {
      "text/html": [
       "<div>\n",
       "<style scoped>\n",
       "    .dataframe tbody tr th:only-of-type {\n",
       "        vertical-align: middle;\n",
       "    }\n",
       "\n",
       "    .dataframe tbody tr th {\n",
       "        vertical-align: top;\n",
       "    }\n",
       "\n",
       "    .dataframe thead th {\n",
       "        text-align: right;\n",
       "    }\n",
       "</style>\n",
       "<table border=\"1\" class=\"dataframe\">\n",
       "  <thead>\n",
       "    <tr style=\"text-align: right;\">\n",
       "      <th>school_type</th>\n",
       "      <th>cohort</th>\n",
       "      <th>고등학생 비중</th>\n",
       "      <th>중학생 비중</th>\n",
       "    </tr>\n",
       "  </thead>\n",
       "  <tbody>\n",
       "    <tr>\n",
       "      <th>0</th>\n",
       "      <td>bottom25</td>\n",
       "      <td>95.4</td>\n",
       "      <td>4.6</td>\n",
       "    </tr>\n",
       "    <tr>\n",
       "      <th>1</th>\n",
       "      <td>top25</td>\n",
       "      <td>64.4</td>\n",
       "      <td>35.6</td>\n",
       "    </tr>\n",
       "  </tbody>\n",
       "</table>\n",
       "</div>"
      ],
      "text/plain": [
       "school_type    cohort  고등학생 비중  중학생 비중\n",
       "0            bottom25     95.4     4.6\n",
       "1               top25     64.4    35.6"
      ]
     },
     "metadata": {},
     "output_type": "display_data"
    }
   ],
   "source": [
    "# 중/고등학생 비율 다시 계산\n",
    "cohort_summary = (\n",
    "    v5_df[v5_df[\"retention_group\"].isin([\"top25\", \"bottom25\"])]\n",
    "    .groupby([\"retention_group\", \"school_type\"])[\"user_id\"]\n",
    "    .count()\n",
    "    .unstack(fill_value=0)\n",
    ")\n",
    "\n",
    "# 비율 계산 (H: 고등학생, M: 중학생)\n",
    "cohort_summary[\"중학생 비중\"] = cohort_summary.get(\"M\", 0) / cohort_summary.sum(axis=1)\n",
    "cohort_summary[\"고등학생 비중\"] = cohort_summary.get(\"H\", 0) / cohort_summary.sum(axis=1)\n",
    "\n",
    "# 결과 정리\n",
    "cohort_summary_result = cohort_summary[[\"고등학생 비중\", \"중학생 비중\"]] * 100\n",
    "cohort_summary_result = cohort_summary_result.round(1).reset_index().rename(columns={\"retention_group\": \"cohort\"})\n",
    "\n",
    "display(cohort_summary_result)"
   ]
  },
  {
   "cell_type": "markdown",
   "id": "068cd843",
   "metadata": {},
   "source": [
    "→ 중학생 비중이 상위 리텐션 그룹에서 유의하게 높음"
   ]
  },
  {
   "cell_type": "markdown",
   "id": "a2a58a37",
   "metadata": {},
   "source": [
    "#### z-test"
   ]
  },
  {
   "cell_type": "code",
   "execution_count": 13,
   "id": "1c68902c",
   "metadata": {},
   "outputs": [
    {
     "data": {
      "text/plain": [
       "(19.35067561685433, 2.0118760068034934e-83)"
      ]
     },
     "execution_count": 13,
     "metadata": {},
     "output_type": "execute_result"
    }
   ],
   "source": [
    "import sys\n",
    "sys.path.append('/home/eunyu/.local/share/pipx/shared/lib/python3.12/site-packages')\n",
    "from statsmodels.stats.proportion import proportions_ztest\n",
    "\n",
    "# 중학생 수\n",
    "m_top = v5_df[(v5_df[\"retention_group\"] == \"top25\") & (v5_df[\"school_type\"] == \"M\")].shape[0]\n",
    "m_bottom = v5_df[(v5_df[\"retention_group\"] == \"bottom25\") & (v5_df[\"school_type\"] == \"M\")].shape[0]\n",
    "\n",
    "# 전체 수\n",
    "n_top = v5_df[v5_df[\"retention_group\"] == \"top25\"].shape[0]\n",
    "n_bottom = v5_df[v5_df[\"retention_group\"] == \"bottom25\"].shape[0]\n",
    "\n",
    "# z-test for two proportions\n",
    "count = [m_top, m_bottom]\n",
    "nobs = [n_top, n_bottom]\n",
    "\n",
    "z_stat, p_val = proportions_ztest(count, nobs)\n",
    "\n",
    "z_stat, p_val\n"
   ]
  },
  {
   "cell_type": "markdown",
   "id": "2637e383",
   "metadata": {},
   "source": [
    "- Z-statistic: 19.35\n",
    "- P-value: ≈ 2.01 × 10⁻⁸³ (매우 작음)\n",
    "\n"
   ]
  },
  {
   "cell_type": "markdown",
   "id": "fc856e92",
   "metadata": {},
   "source": [
    "- 상위 25% 리텐션 그룹과 하위 25% 그룹 간의 중학생 비율 차이는 통계적으로 유의미\n",
    "- P-value가 0.05보다 훨씬 작기 때문에, → \"상위 리텐션 그룹에서 중학생 비중이 높다\"는 현상은 우연이 아닐 가능성이 매우 큼을 의미\n",
    "- 즉, 중학생은 리텐션이 좋은 유저군으로 간주할 수 있으며, 중학생을 타겟으로 한 전략 수립의 근거가 충분"
   ]
  },
  {
   "cell_type": "code",
   "execution_count": null,
   "id": "3c31c0fc",
   "metadata": {},
   "outputs": [],
   "source": []
  },
  {
   "cell_type": "code",
   "execution_count": 14,
   "id": "a8d7d81b",
   "metadata": {},
   "outputs": [
    {
     "data": {
      "text/plain": [
       "(  retention_group  평균 투표 획득률  유저 수\n",
       " 0        bottom25   8.129761    57\n",
       " 1           top25  17.573497   450,\n",
       " (4.125825724789996, 6.844504811367063e-05),\n",
       " (19799.5, 2.19184263659001e-11))"
      ]
     },
     "execution_count": 14,
     "metadata": {},
     "output_type": "execute_result"
    }
   ],
   "source": [
    "# days_to_vote (활동 기간) = last_vote - first_vote + 1\n",
    "v5_df[\"first_vote\"] = pd.to_datetime(v5_df[\"first_vote\"], errors=\"coerce\")\n",
    "v5_df[\"last_vote\"] = pd.to_datetime(v5_df[\"last_vote\"], errors=\"coerce\")\n",
    "v5_df[\"active_days\"] = (v5_df[\"last_vote\"] - v5_df[\"first_vote\"]).dt.days + 1\n",
    "\n",
    "# vote_acquisition_rate = chosen_count / active_days\n",
    "v5_df[\"vote_acquisition_rate\"] = v5_df[\"chosen_count\"] / v5_df[\"active_days\"]\n",
    "\n",
    "# 중학생 + 리텐션 그룹 필터\n",
    "middle_v5_df = v5_df[(v5_df[\"school_type\"] == \"M\") & v5_df[\"retention_group\"].isin([\"top25\", \"bottom25\"])]\n",
    "\n",
    "# 그룹별 평균 비교\n",
    "grouped_rate = (\n",
    "    middle_v5_df.groupby(\"retention_group\")[\"vote_acquisition_rate\"]\n",
    "    .agg([\"mean\", \"count\"])\n",
    "    .rename(columns={\"mean\": \"평균 투표 획득률\", \"count\": \"유저 수\"})\n",
    "    .reset_index()\n",
    ")\n",
    "\n",
    "# Welch t-test & Mann-Whitney U test\n",
    "from scipy.stats import ttest_ind, mannwhitneyu\n",
    "\n",
    "top = middle_v5_df[middle_v5_df[\"retention_group\"] == \"top25\"][\"vote_acquisition_rate\"].dropna()\n",
    "bottom = middle_v5_df[middle_v5_df[\"retention_group\"] == \"bottom25\"][\"vote_acquisition_rate\"].dropna()\n",
    "\n",
    "t_stat, t_pval = ttest_ind(top, bottom, equal_var=False)\n",
    "u_stat, u_pval = mannwhitneyu(top, bottom, alternative='two-sided')\n",
    "\n",
    "grouped_rate, (t_stat, t_pval), (u_stat, u_pval)\n"
   ]
  },
  {
   "cell_type": "markdown",
   "id": "54620273",
   "metadata": {},
   "source": [
    "통계 검정 결과               \n",
    "- Welch’s t-test → t = 4.13, p = 0.00007 \n",
    "- Mann-Whitney U test → U = 19,799.5, p = 2.19e-11"
   ]
  },
  {
   "cell_type": "markdown",
   "id": "99b9084a",
   "metadata": {},
   "source": [
    "- 상위 리텐션 집단은 하루 평균 17.6건의 투표를 받았으며,             \n",
    "하위 집단은 8.1건에 불과해 2배 이상의 차이가 난다.           \n",
    "- 두 검정 모두에서 p < 0.001이므로,→ 해당 차이는 우연이 아닌 통계적으로 유의한 차이       \n",
    "\n",
    "- 많은 투표를 받은 중학생일수록 리텐션이 높다는 가설을 강하게 지지한다."
   ]
  },
  {
   "cell_type": "code",
   "execution_count": null,
   "id": "19691a39",
   "metadata": {},
   "outputs": [],
   "source": []
  },
  {
   "cell_type": "markdown",
   "id": "387da320",
   "metadata": {},
   "source": [
    "## A/B 테스트 설계"
   ]
  },
  {
   "cell_type": "code",
   "execution_count": 15,
   "id": "1ceea7c6",
   "metadata": {},
   "outputs": [],
   "source": [
    "users_df = pd.read_parquet(\"gs://final_project_enuyu/data/final_project/votes/accounts_user.parquet\")"
   ]
  },
  {
   "cell_type": "code",
   "execution_count": 17,
   "id": "f79b96f9",
   "metadata": {},
   "outputs": [],
   "source": [
    "users_df[\"created_at\"] = pd.to_datetime(users_df[\"created_at\"])\n",
    "v5_df[\"first_vote\"] = pd.to_datetime(v5_df[\"first_vote\"])\n",
    "\n",
    "users_df = users_df.rename(columns={\"id\": \"user_id\"})\n",
    "\n",
    "#  가입일 병합\n",
    "days_to_vote_df = v5_df[[\"user_id\", \"first_vote\"]].merge(\n",
    "    users_df[[\"user_id\", \"created_at\"]],\n",
    "    on=\"user_id\",\n",
    "    how=\"left\"\n",
    ")\n",
    "\n",
    "# days_to_vote 계산\n",
    "days_to_vote_df[\"days_to_vote\"] = (days_to_vote_df[\"first_vote\"] - days_to_vote_df[\"created_at\"]).dt.days\n",
    "days_to_vote_df[\"days_to_vote\"] = days_to_vote_df[\"days_to_vote\"].apply(lambda x: max(x, 0))\n",
    "\n",
    "# 최종 마스터 병합\n",
    "final_master_df = v5_df.merge(\n",
    "    days_to_vote_df[[\"user_id\", \"days_to_vote\"]],\n",
    "    on=\"user_id\",\n",
    "    how=\"left\"\n",
    ")"
   ]
  },
  {
   "cell_type": "code",
   "execution_count": 19,
   "id": "e6fa2193",
   "metadata": {},
   "outputs": [
    {
     "data": {
      "text/plain": [
       "Index(['Unnamed: 0', 'user_id', 'total_votes', 'unique_days', 'first_vote',\n",
       "       'last_vote', 'active_days', 'cohort_day', 'retention_day8', 'gender',\n",
       "       'school_id', 'grade', 'group_id', 'votes_within_3d',\n",
       "       'period_friend_count', 'retention_group', 'address', 'student_count',\n",
       "       'school_type', 'firstquestion_id', 'first_question_text',\n",
       "       'first_question_category', 'chosen_count', 'days_to_vote',\n",
       "       'vote_acquisition_rate'],\n",
       "      dtype='object')"
      ]
     },
     "execution_count": 19,
     "metadata": {},
     "output_type": "execute_result"
    }
   ],
   "source": [
    "v5_df.columns"
   ]
  },
  {
   "cell_type": "markdown",
   "id": "248d6d8d",
   "metadata": {},
   "source": [
    "### Treatment 그룹 평균"
   ]
  },
  {
   "cell_type": "code",
   "execution_count": 21,
   "id": "142a779a",
   "metadata": {},
   "outputs": [
    {
     "data": {
      "text/plain": [
       "{'days_to_vote_mean': 19.08336657359394,\n",
       " 'votes_within_3d_mean': 108.47945751894694,\n",
       " 'retention_day8_mean': 0.4579178300757878,\n",
       " 'chosen_count_mean': 216.3320031923384}"
      ]
     },
     "execution_count": 21,
     "metadata": {},
     "output_type": "execute_result"
    }
   ],
   "source": [
    "# Treatment 그룹 정의: votes_within_3d > 0 (즉, 3일 내 투표 참여한 유저)\n",
    "treatment_group = v5_df[v5_df[\"votes_within_3d\"] > 0]\n",
    "\n",
    "# Treatment 그룹 평균 계산\n",
    "treatment_summary = {\n",
    "    \"days_to_vote_mean\": treatment_group[\"days_to_vote\"].mean(),\n",
    "    \"votes_within_3d_mean\": treatment_group[\"votes_within_3d\"].mean(),\n",
    "    \"retention_day8_mean\": treatment_group[\"retention_day8\"].mean(),\n",
    "    \"chosen_count_mean\": treatment_group[\"chosen_count\"].mean()\n",
    "}\n",
    "\n",
    "treatment_summary"
   ]
  },
  {
   "cell_type": "code",
   "execution_count": null,
   "id": "35f4d24b",
   "metadata": {},
   "outputs": [],
   "source": []
  },
  {
   "cell_type": "code",
   "execution_count": 23,
   "id": "930f797e",
   "metadata": {},
   "outputs": [
    {
     "data": {
      "text/plain": [
       "0"
      ]
     },
     "execution_count": 23,
     "metadata": {},
     "output_type": "execute_result"
    }
   ],
   "source": [
    "# votes_within_3d == 0인 유저 수 확인\n",
    "control_zero_count = (v5_df[\"votes_within_3d\"] == 0).sum()\n",
    "control_zero_count\n"
   ]
  },
  {
   "cell_type": "markdown",
   "id": "f18540d7",
   "metadata": {},
   "source": [
    "###  Control 그룹과 직접 비교하여 통계적 유의성 분석"
   ]
  },
  {
   "cell_type": "code",
   "execution_count": 24,
   "id": "7c535cf4",
   "metadata": {},
   "outputs": [
    {
     "data": {
      "text/plain": [
       "{'t_stat': -12.073171489196145,\n",
       " 'p_value': 9.441724875027655e-30,\n",
       " 'treatment_mean': 0.3758342855102431,\n",
       " 'control_mean': 0.47062168589063025,\n",
       " 'treatment_n': 336,\n",
       " 'control_n': 2171}"
      ]
     },
     "execution_count": 24,
     "metadata": {},
     "output_type": "execute_result"
    }
   ],
   "source": [
    "# days_to_vote ≤ 3일 vs > 3일 기준으로 그룹 분할\n",
    "treatment_group = v5_df[v5_df[\"days_to_vote\"] <= 3]\n",
    "control_group = v5_df[v5_df[\"days_to_vote\"] > 3]\n",
    "\n",
    "# 리텐션 컬럼 결측치 제거\n",
    "treatment_ret = treatment_group[\"retention_day8\"].dropna()\n",
    "control_ret = control_group[\"retention_day8\"].dropna()\n",
    "\n",
    "# t-test 수행\n",
    "t_stat, p_val = ttest_ind(treatment_ret, control_ret, equal_var=False)\n",
    "\n",
    "# 평균 리텐션 계산\n",
    "treatment_mean = treatment_ret.mean()\n",
    "control_mean = control_ret.mean()\n",
    "\n",
    "{\n",
    "    \"t_stat\": t_stat,\n",
    "    \"p_value\": p_val,\n",
    "    \"treatment_mean\": treatment_mean,\n",
    "    \"control_mean\": control_mean,\n",
    "    \"treatment_n\": len(treatment_ret),\n",
    "    \"control_n\": len(control_ret)\n",
    "}\n"
   ]
  },
  {
   "cell_type": "code",
   "execution_count": null,
   "id": "ec4ff51f",
   "metadata": {},
   "outputs": [],
   "source": []
  },
  {
   "cell_type": "code",
   "execution_count": null,
   "id": "e656b5b3",
   "metadata": {},
   "outputs": [],
   "source": []
  },
  {
   "cell_type": "code",
   "execution_count": null,
   "id": "a98780e4",
   "metadata": {},
   "outputs": [],
   "source": []
  },
  {
   "cell_type": "code",
   "execution_count": null,
   "id": "33ddf8fe",
   "metadata": {},
   "outputs": [],
   "source": []
  },
  {
   "cell_type": "code",
   "execution_count": null,
   "id": "d040cc67",
   "metadata": {},
   "outputs": [],
   "source": []
  },
  {
   "cell_type": "code",
   "execution_count": null,
   "id": "b489e86a",
   "metadata": {},
   "outputs": [],
   "source": []
  },
  {
   "cell_type": "code",
   "execution_count": null,
   "id": "07d5ff3f",
   "metadata": {},
   "outputs": [],
   "source": []
  },
  {
   "cell_type": "code",
   "execution_count": null,
   "id": "dfe81db3",
   "metadata": {},
   "outputs": [],
   "source": []
  },
  {
   "cell_type": "code",
   "execution_count": null,
   "id": "15bfddeb",
   "metadata": {},
   "outputs": [],
   "source": []
  },
  {
   "cell_type": "code",
   "execution_count": null,
   "id": "63ab00f5",
   "metadata": {},
   "outputs": [],
   "source": []
  }
 ],
 "metadata": {
  "kernelspec": {
   "display_name": "Python 3",
   "language": "python",
   "name": "python3"
  },
  "language_info": {
   "codemirror_mode": {
    "name": "ipython",
    "version": 3
   },
   "file_extension": ".py",
   "mimetype": "text/x-python",
   "name": "python",
   "nbconvert_exporter": "python",
   "pygments_lexer": "ipython3",
   "version": "3.12.3"
  }
 },
 "nbformat": 4,
 "nbformat_minor": 5
}
