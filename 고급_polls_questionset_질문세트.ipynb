{
 "cells": [
  {
   "cell_type": "code",
   "execution_count": 1,
   "id": "68564494",
   "metadata": {},
   "outputs": [
    {
     "name": "stdout",
     "output_type": "stream",
     "text": [
      "\u001b[1;31merror\u001b[0m: \u001b[1mexternally-managed-environment\u001b[0m\n",
      "\n",
      "\u001b[31m×\u001b[0m This environment is externally managed\n",
      "\u001b[31m╰─>\u001b[0m To install Python packages system-wide, try apt install\n",
      "\u001b[31m   \u001b[0m python3-xyz, where xyz is the package you are trying to\n",
      "\u001b[31m   \u001b[0m install.\n",
      "\u001b[31m   \u001b[0m \n",
      "\u001b[31m   \u001b[0m If you wish to install a non-Debian-packaged Python package,\n",
      "\u001b[31m   \u001b[0m create a virtual environment using python3 -m venv path/to/venv.\n",
      "\u001b[31m   \u001b[0m Then use path/to/venv/bin/python and path/to/venv/bin/pip. Make\n",
      "\u001b[31m   \u001b[0m sure you have python3-full installed.\n",
      "\u001b[31m   \u001b[0m \n",
      "\u001b[31m   \u001b[0m If you wish to install a non-Debian packaged Python application,\n",
      "\u001b[31m   \u001b[0m it may be easiest to use pipx install xyz, which will manage a\n",
      "\u001b[31m   \u001b[0m virtual environment for you. Make sure you have pipx installed.\n",
      "\u001b[31m   \u001b[0m \n",
      "\u001b[31m   \u001b[0m See /usr/share/doc/python3.12/README.venv for more information.\n",
      "\n",
      "\u001b[1;35mnote\u001b[0m: If you believe this is a mistake, please contact your Python installation or OS distribution provider. You can override this, at the risk of breaking your Python installation or OS, by passing --break-system-packages.\n",
      "\u001b[1;36mhint\u001b[0m: See PEP 668 for the detailed specification.\n"
     ]
    }
   ],
   "source": [
    "!pip install matplotlib"
   ]
  },
  {
   "cell_type": "code",
   "execution_count": 2,
   "id": "94975dd9",
   "metadata": {},
   "outputs": [
    {
     "name": "stdout",
     "output_type": "stream",
     "text": [
      "Requirement already satisfied: seaborn in c:\\users\\jey34\\appdata\\local\\programs\\python\\python312\\lib\\site-packages (0.13.2)\n",
      "Requirement already satisfied: numpy!=1.24.0,>=1.20 in c:\\users\\jey34\\appdata\\local\\programs\\python\\python312\\lib\\site-packages (from seaborn) (1.26.4)\n",
      "Requirement already satisfied: pandas>=1.2 in c:\\users\\jey34\\appdata\\local\\programs\\python\\python312\\lib\\site-packages (from seaborn) (2.1.4)\n",
      "Requirement already satisfied: matplotlib!=3.6.1,>=3.4 in c:\\users\\jey34\\appdata\\local\\programs\\python\\python312\\lib\\site-packages (from seaborn) (3.10.3)\n",
      "Requirement already satisfied: contourpy>=1.0.1 in c:\\users\\jey34\\appdata\\local\\programs\\python\\python312\\lib\\site-packages (from matplotlib!=3.6.1,>=3.4->seaborn) (1.3.2)\n",
      "Requirement already satisfied: cycler>=0.10 in c:\\users\\jey34\\appdata\\local\\programs\\python\\python312\\lib\\site-packages (from matplotlib!=3.6.1,>=3.4->seaborn) (0.12.1)\n",
      "Requirement already satisfied: fonttools>=4.22.0 in c:\\users\\jey34\\appdata\\local\\programs\\python\\python312\\lib\\site-packages (from matplotlib!=3.6.1,>=3.4->seaborn) (4.58.0)\n",
      "Requirement already satisfied: kiwisolver>=1.3.1 in c:\\users\\jey34\\appdata\\local\\programs\\python\\python312\\lib\\site-packages (from matplotlib!=3.6.1,>=3.4->seaborn) (1.4.8)\n",
      "Requirement already satisfied: packaging>=20.0 in c:\\users\\jey34\\appdata\\roaming\\python\\python312\\site-packages (from matplotlib!=3.6.1,>=3.4->seaborn) (25.0)\n",
      "Requirement already satisfied: pillow>=8 in c:\\users\\jey34\\appdata\\local\\programs\\python\\python312\\lib\\site-packages (from matplotlib!=3.6.1,>=3.4->seaborn) (11.2.1)\n",
      "Requirement already satisfied: pyparsing>=2.3.1 in c:\\users\\jey34\\appdata\\local\\programs\\python\\python312\\lib\\site-packages (from matplotlib!=3.6.1,>=3.4->seaborn) (3.2.3)\n",
      "Requirement already satisfied: python-dateutil>=2.7 in c:\\users\\jey34\\appdata\\roaming\\python\\python312\\site-packages (from matplotlib!=3.6.1,>=3.4->seaborn) (2.9.0.post0)\n",
      "Requirement already satisfied: pytz>=2020.1 in c:\\users\\jey34\\appdata\\local\\programs\\python\\python312\\lib\\site-packages (from pandas>=1.2->seaborn) (2025.2)\n",
      "Requirement already satisfied: tzdata>=2022.1 in c:\\users\\jey34\\appdata\\local\\programs\\python\\python312\\lib\\site-packages (from pandas>=1.2->seaborn) (2025.2)\n",
      "Requirement already satisfied: six>=1.5 in c:\\users\\jey34\\appdata\\roaming\\python\\python312\\site-packages (from python-dateutil>=2.7->matplotlib!=3.6.1,>=3.4->seaborn) (1.17.0)\n"
     ]
    },
    {
     "name": "stderr",
     "output_type": "stream",
     "text": [
      "\n",
      "[notice] A new release of pip is available: 24.2 -> 25.1.1\n",
      "[notice] To update, run: python.exe -m pip install --upgrade pip\n"
     ]
    }
   ],
   "source": [
    "!pip install seaborn"
   ]
  },
  {
   "cell_type": "code",
   "execution_count": 3,
   "id": "8a2626e2",
   "metadata": {},
   "outputs": [
    {
     "name": "stdout",
     "output_type": "stream",
     "text": [
      "Requirement already satisfied: koreanize-matplotlib in c:\\users\\jey34\\appdata\\local\\programs\\python\\python312\\lib\\site-packages (0.1.1)\n",
      "Requirement already satisfied: matplotlib in c:\\users\\jey34\\appdata\\local\\programs\\python\\python312\\lib\\site-packages (from koreanize-matplotlib) (3.10.3)\n",
      "Requirement already satisfied: contourpy>=1.0.1 in c:\\users\\jey34\\appdata\\local\\programs\\python\\python312\\lib\\site-packages (from matplotlib->koreanize-matplotlib) (1.3.2)\n",
      "Requirement already satisfied: cycler>=0.10 in c:\\users\\jey34\\appdata\\local\\programs\\python\\python312\\lib\\site-packages (from matplotlib->koreanize-matplotlib) (0.12.1)\n",
      "Requirement already satisfied: fonttools>=4.22.0 in c:\\users\\jey34\\appdata\\local\\programs\\python\\python312\\lib\\site-packages (from matplotlib->koreanize-matplotlib) (4.58.0)\n",
      "Requirement already satisfied: kiwisolver>=1.3.1 in c:\\users\\jey34\\appdata\\local\\programs\\python\\python312\\lib\\site-packages (from matplotlib->koreanize-matplotlib) (1.4.8)\n",
      "Requirement already satisfied: numpy>=1.23 in c:\\users\\jey34\\appdata\\local\\programs\\python\\python312\\lib\\site-packages (from matplotlib->koreanize-matplotlib) (1.26.4)\n",
      "Requirement already satisfied: packaging>=20.0 in c:\\users\\jey34\\appdata\\roaming\\python\\python312\\site-packages (from matplotlib->koreanize-matplotlib) (25.0)\n",
      "Requirement already satisfied: pillow>=8 in c:\\users\\jey34\\appdata\\local\\programs\\python\\python312\\lib\\site-packages (from matplotlib->koreanize-matplotlib) (11.2.1)\n",
      "Requirement already satisfied: pyparsing>=2.3.1 in c:\\users\\jey34\\appdata\\local\\programs\\python\\python312\\lib\\site-packages (from matplotlib->koreanize-matplotlib) (3.2.3)\n",
      "Requirement already satisfied: python-dateutil>=2.7 in c:\\users\\jey34\\appdata\\roaming\\python\\python312\\site-packages (from matplotlib->koreanize-matplotlib) (2.9.0.post0)\n",
      "Requirement already satisfied: six>=1.5 in c:\\users\\jey34\\appdata\\roaming\\python\\python312\\site-packages (from python-dateutil>=2.7->matplotlib->koreanize-matplotlib) (1.17.0)\n"
     ]
    },
    {
     "name": "stderr",
     "output_type": "stream",
     "text": [
      "\n",
      "[notice] A new release of pip is available: 24.2 -> 25.1.1\n",
      "[notice] To update, run: python.exe -m pip install --upgrade pip\n"
     ]
    }
   ],
   "source": [
    "!pip install koreanize-matplotlib"
   ]
  },
  {
   "cell_type": "code",
   "execution_count": 1,
   "id": "4ce1c1cb",
   "metadata": {},
   "outputs": [],
   "source": [
    "import pandas as pd\n",
    "import numpy as np\n",
    "import matplotlib.pyplot as plt\n",
    "import seaborn as sns\n",
    "import os\n",
    "import matplotlib.font_manager as fm\n",
    "import koreanize_matplotlib\n",
    "\n",
    "# 폰트 경로 확인 및 설정\n",
    "font_path = '/usr/share/fonts/truetype/nanum/NanumGothic.ttf'  # 설치된 폰트 경로\n",
    "font_name = fm.FontProperties(fname=font_path).get_name()\n",
    "plt.rc('font', family=font_name)\n",
    "\n",
    "# 한글 깨짐 방지 - 마이너스 기호 처리\n",
    "plt.rcParams['axes.unicode_minus'] = False"
   ]
  },
  {
   "cell_type": "code",
   "execution_count": null,
   "id": "a0cd3446",
   "metadata": {},
   "outputs": [],
   "source": []
  },
  {
   "cell_type": "code",
   "execution_count": 2,
   "id": "db2257cc",
   "metadata": {},
   "outputs": [
    {
     "data": {
      "text/html": [
       "<div>\n",
       "<style scoped>\n",
       "    .dataframe tbody tr th:only-of-type {\n",
       "        vertical-align: middle;\n",
       "    }\n",
       "\n",
       "    .dataframe tbody tr th {\n",
       "        vertical-align: top;\n",
       "    }\n",
       "\n",
       "    .dataframe thead th {\n",
       "        text-align: right;\n",
       "    }\n",
       "</style>\n",
       "<table border=\"1\" class=\"dataframe\">\n",
       "  <thead>\n",
       "    <tr style=\"text-align: right;\">\n",
       "      <th></th>\n",
       "      <th>id</th>\n",
       "      <th>question_piece_id_list</th>\n",
       "      <th>opening_time</th>\n",
       "      <th>status</th>\n",
       "      <th>created_at</th>\n",
       "      <th>user_id</th>\n",
       "    </tr>\n",
       "  </thead>\n",
       "  <tbody>\n",
       "    <tr>\n",
       "      <th>0</th>\n",
       "      <td>99817</td>\n",
       "      <td>[998458, 998459, 998460, 998461, 998462, 99846...</td>\n",
       "      <td>2023-04-28 12:27:22</td>\n",
       "      <td>F</td>\n",
       "      <td>2023-04-28 12:27:23</td>\n",
       "      <td>849436</td>\n",
       "    </tr>\n",
       "    <tr>\n",
       "      <th>1</th>\n",
       "      <td>99830</td>\n",
       "      <td>[998588, 998589, 998590, 998591, 998592, 99859...</td>\n",
       "      <td>2023-04-28 12:28:07</td>\n",
       "      <td>F</td>\n",
       "      <td>2023-04-28 12:28:07</td>\n",
       "      <td>849438</td>\n",
       "    </tr>\n",
       "    <tr>\n",
       "      <th>2</th>\n",
       "      <td>99840</td>\n",
       "      <td>[998689, 998691, 998693, 998695, 998697, 99869...</td>\n",
       "      <td>2023-04-28 12:28:38</td>\n",
       "      <td>F</td>\n",
       "      <td>2023-04-28 12:28:38</td>\n",
       "      <td>847375</td>\n",
       "    </tr>\n",
       "    <tr>\n",
       "      <th>3</th>\n",
       "      <td>99841</td>\n",
       "      <td>[998688, 998690, 998692, 998694, 998696, 99869...</td>\n",
       "      <td>2023-04-28 12:28:38</td>\n",
       "      <td>F</td>\n",
       "      <td>2023-04-28 12:28:38</td>\n",
       "      <td>849446</td>\n",
       "    </tr>\n",
       "    <tr>\n",
       "      <th>4</th>\n",
       "      <td>99848</td>\n",
       "      <td>[998768, 998769, 998770, 998771, 998772, 99877...</td>\n",
       "      <td>2023-04-28 12:28:57</td>\n",
       "      <td>F</td>\n",
       "      <td>2023-04-28 12:28:57</td>\n",
       "      <td>849477</td>\n",
       "    </tr>\n",
       "  </tbody>\n",
       "</table>\n",
       "</div>"
      ],
      "text/plain": [
       "      id                             question_piece_id_list  \\\n",
       "0  99817  [998458, 998459, 998460, 998461, 998462, 99846...   \n",
       "1  99830  [998588, 998589, 998590, 998591, 998592, 99859...   \n",
       "2  99840  [998689, 998691, 998693, 998695, 998697, 99869...   \n",
       "3  99841  [998688, 998690, 998692, 998694, 998696, 99869...   \n",
       "4  99848  [998768, 998769, 998770, 998771, 998772, 99877...   \n",
       "\n",
       "         opening_time status          created_at  user_id  \n",
       "0 2023-04-28 12:27:22      F 2023-04-28 12:27:23   849436  \n",
       "1 2023-04-28 12:28:07      F 2023-04-28 12:28:07   849438  \n",
       "2 2023-04-28 12:28:38      F 2023-04-28 12:28:38   847375  \n",
       "3 2023-04-28 12:28:38      F 2023-04-28 12:28:38   849446  \n",
       "4 2023-04-28 12:28:57      F 2023-04-28 12:28:57   849477  "
      ]
     },
     "execution_count": 2,
     "metadata": {},
     "output_type": "execute_result"
    }
   ],
   "source": [
    "\n",
    "\n",
    "# 서비스 계정 키 경로 설정\n",
    "os.environ[\"GOOGLE_APPLICATION_CREDENTIALS\"] = r\"/home/eunyu/sprintda05-eunyu-a9946f7dea9c.json\"\n",
    "# GCS의 Parquet 파일 경로\n",
    "gcs_path = 'gs://final_project_enuyu/data/final_project/votes/polls_questionset.parquet'\n",
    "\n",
    "# 데이터 불러오기\n",
    "questionset_df = pd.read_parquet(gcs_path, engine='pyarrow')\n",
    "questionset_df.head()\n"
   ]
  },
  {
   "cell_type": "code",
   "execution_count": 5,
   "id": "18192ae1",
   "metadata": {},
   "outputs": [
    {
     "data": {
      "text/plain": [
       "(158384, 6)"
      ]
     },
     "execution_count": 5,
     "metadata": {},
     "output_type": "execute_result"
    }
   ],
   "source": [
    "questionset_df.shape"
   ]
  },
  {
   "cell_type": "code",
   "execution_count": 6,
   "id": "69588c01",
   "metadata": {},
   "outputs": [
    {
     "data": {
      "text/plain": [
       "<bound method DataFrame.info of               id                             question_piece_id_list  \\\n",
       "0          99817  [998458, 998459, 998460, 998461, 998462, 99846...   \n",
       "1          99830  [998588, 998589, 998590, 998591, 998592, 99859...   \n",
       "2          99840  [998689, 998691, 998693, 998695, 998697, 99869...   \n",
       "3          99841  [998688, 998690, 998692, 998694, 998696, 99869...   \n",
       "4          99848  [998768, 998769, 998770, 998771, 998772, 99877...   \n",
       "...          ...                                                ...   \n",
       "158379  20838253  [208383291, 208383292, 208383293, 208383294, 2...   \n",
       "158380  20838344  [208384201, 208384202, 208384203, 208384204, 2...   \n",
       "158381  20838419  [208384951, 208384952, 208384953, 208384954, 2...   \n",
       "158382  20838445  [208385211, 208385212, 208385213, 208385214, 2...   \n",
       "158383  20838446  [208385221, 208385222, 208385223, 208385224, 2...   \n",
       "\n",
       "              opening_time status          created_at  user_id  \n",
       "0      2023-04-28 12:27:22      F 2023-04-28 12:27:23   849436  \n",
       "1      2023-04-28 12:28:07      F 2023-04-28 12:28:07   849438  \n",
       "2      2023-04-28 12:28:38      F 2023-04-28 12:28:38   847375  \n",
       "3      2023-04-28 12:28:38      F 2023-04-28 12:28:38   849446  \n",
       "4      2023-04-28 12:28:57      F 2023-04-28 12:28:57   849477  \n",
       "...                    ...    ...                 ...      ...  \n",
       "158379 2024-05-05 14:46:27      C 2024-05-05 14:06:27  1251933  \n",
       "158380 2024-05-06 11:38:20      C 2024-05-06 10:58:20   876072  \n",
       "158381 2024-05-07 00:55:00      C 2024-05-07 00:15:00  1208878  \n",
       "158382 2024-05-07 12:09:08      C 2024-05-07 11:29:08  1001607  \n",
       "158383 2024-05-07 12:12:30      C 2024-05-07 11:32:30   945560  \n",
       "\n",
       "[158384 rows x 6 columns]>"
      ]
     },
     "execution_count": 6,
     "metadata": {},
     "output_type": "execute_result"
    }
   ],
   "source": [
    "questionset_df.info"
   ]
  },
  {
   "cell_type": "code",
   "execution_count": 7,
   "id": "36025872",
   "metadata": {},
   "outputs": [
    {
     "data": {
      "text/plain": [
       "id                                 int64\n",
       "question_piece_id_list            object\n",
       "opening_time              datetime64[ns]\n",
       "status                            object\n",
       "created_at                datetime64[ns]\n",
       "user_id                            int64\n",
       "dtype: object"
      ]
     },
     "execution_count": 7,
     "metadata": {},
     "output_type": "execute_result"
    }
   ],
   "source": [
    "questionset_df.dtypes"
   ]
  },
  {
   "cell_type": "code",
   "execution_count": 8,
   "id": "caaa83ee",
   "metadata": {},
   "outputs": [
    {
     "data": {
      "text/plain": [
       "id                        0\n",
       "question_piece_id_list    0\n",
       "opening_time              0\n",
       "status                    0\n",
       "created_at                0\n",
       "user_id                   0\n",
       "dtype: int64"
      ]
     },
     "execution_count": 8,
     "metadata": {},
     "output_type": "execute_result"
    }
   ],
   "source": [
    "missing = questionset_df.isnull().sum()\n",
    "missing"
   ]
  },
  {
   "cell_type": "code",
   "execution_count": 9,
   "id": "71828980",
   "metadata": {},
   "outputs": [
    {
     "data": {
      "text/plain": [
       "id                        158384\n",
       "question_piece_id_list    158384\n",
       "opening_time              151839\n",
       "status                         3\n",
       "created_at                151940\n",
       "user_id                     4972\n",
       "dtype: int64"
      ]
     },
     "execution_count": 9,
     "metadata": {},
     "output_type": "execute_result"
    }
   ],
   "source": [
    "unique =questionset_df.nunique()\n",
    "\n",
    "unique"
   ]
  },
  {
   "cell_type": "code",
   "execution_count": 3,
   "id": "41f46966",
   "metadata": {},
   "outputs": [
    {
     "data": {
      "text/html": [
       "<div>\n",
       "<style scoped>\n",
       "    .dataframe tbody tr th:only-of-type {\n",
       "        vertical-align: middle;\n",
       "    }\n",
       "\n",
       "    .dataframe tbody tr th {\n",
       "        vertical-align: top;\n",
       "    }\n",
       "\n",
       "    .dataframe thead th {\n",
       "        text-align: right;\n",
       "    }\n",
       "</style>\n",
       "<table border=\"1\" class=\"dataframe\">\n",
       "  <thead>\n",
       "    <tr style=\"text-align: right;\">\n",
       "      <th></th>\n",
       "      <th>count</th>\n",
       "      <th>unique</th>\n",
       "      <th>top</th>\n",
       "      <th>freq</th>\n",
       "      <th>mean</th>\n",
       "      <th>min</th>\n",
       "      <th>25%</th>\n",
       "      <th>50%</th>\n",
       "      <th>75%</th>\n",
       "      <th>max</th>\n",
       "      <th>std</th>\n",
       "    </tr>\n",
       "  </thead>\n",
       "  <tbody>\n",
       "    <tr>\n",
       "      <th>id</th>\n",
       "      <td>158384.0</td>\n",
       "      <td>NaN</td>\n",
       "      <td>NaN</td>\n",
       "      <td>NaN</td>\n",
       "      <td>7641273.830696</td>\n",
       "      <td>99817.0</td>\n",
       "      <td>1953393.25</td>\n",
       "      <td>6757335.0</td>\n",
       "      <td>12175103.25</td>\n",
       "      <td>20838446.0</td>\n",
       "      <td>5943689.973322</td>\n",
       "    </tr>\n",
       "    <tr>\n",
       "      <th>question_piece_id_list</th>\n",
       "      <td>158384</td>\n",
       "      <td>158384</td>\n",
       "      <td>[998458, 998459, 998460, 998461, 998462, 99846...</td>\n",
       "      <td>1</td>\n",
       "      <td>NaN</td>\n",
       "      <td>NaN</td>\n",
       "      <td>NaN</td>\n",
       "      <td>NaN</td>\n",
       "      <td>NaN</td>\n",
       "      <td>NaN</td>\n",
       "      <td>NaN</td>\n",
       "    </tr>\n",
       "    <tr>\n",
       "      <th>opening_time</th>\n",
       "      <td>158384</td>\n",
       "      <td>NaN</td>\n",
       "      <td>NaN</td>\n",
       "      <td>NaN</td>\n",
       "      <td>2023-05-17 13:25:41.180416256</td>\n",
       "      <td>2023-04-28 12:27:22</td>\n",
       "      <td>2023-05-09 15:46:49.500000</td>\n",
       "      <td>2023-05-15 13:43:55.500000</td>\n",
       "      <td>2023-05-22 11:43:24.500000</td>\n",
       "      <td>2024-05-07 12:12:30</td>\n",
       "      <td>NaN</td>\n",
       "    </tr>\n",
       "    <tr>\n",
       "      <th>status</th>\n",
       "      <td>158384</td>\n",
       "      <td>3</td>\n",
       "      <td>F</td>\n",
       "      <td>153411</td>\n",
       "      <td>NaN</td>\n",
       "      <td>NaN</td>\n",
       "      <td>NaN</td>\n",
       "      <td>NaN</td>\n",
       "      <td>NaN</td>\n",
       "      <td>NaN</td>\n",
       "      <td>NaN</td>\n",
       "    </tr>\n",
       "    <tr>\n",
       "      <th>created_at</th>\n",
       "      <td>158384</td>\n",
       "      <td>NaN</td>\n",
       "      <td>NaN</td>\n",
       "      <td>NaN</td>\n",
       "      <td>2023-05-17 12:43:12.170648832</td>\n",
       "      <td>2023-04-28 12:27:23</td>\n",
       "      <td>2023-05-09 14:58:05.500000</td>\n",
       "      <td>2023-05-15 13:04:46.500000</td>\n",
       "      <td>2023-05-22 11:04:03</td>\n",
       "      <td>2024-05-07 11:32:30</td>\n",
       "      <td>NaN</td>\n",
       "    </tr>\n",
       "    <tr>\n",
       "      <th>user_id</th>\n",
       "      <td>158384.0</td>\n",
       "      <td>NaN</td>\n",
       "      <td>NaN</td>\n",
       "      <td>NaN</td>\n",
       "      <td>1106751.980939</td>\n",
       "      <td>838023.0</td>\n",
       "      <td>884747.0</td>\n",
       "      <td>1117999.0</td>\n",
       "      <td>1261250.0</td>\n",
       "      <td>1583358.0</td>\n",
       "      <td>207861.209058</td>\n",
       "    </tr>\n",
       "  </tbody>\n",
       "</table>\n",
       "</div>"
      ],
      "text/plain": [
       "                           count  unique  \\\n",
       "id                      158384.0     NaN   \n",
       "question_piece_id_list    158384  158384   \n",
       "opening_time              158384     NaN   \n",
       "status                    158384       3   \n",
       "created_at                158384     NaN   \n",
       "user_id                 158384.0     NaN   \n",
       "\n",
       "                                                                      top  \\\n",
       "id                                                                    NaN   \n",
       "question_piece_id_list  [998458, 998459, 998460, 998461, 998462, 99846...   \n",
       "opening_time                                                          NaN   \n",
       "status                                                                  F   \n",
       "created_at                                                            NaN   \n",
       "user_id                                                               NaN   \n",
       "\n",
       "                          freq                           mean  \\\n",
       "id                         NaN                 7641273.830696   \n",
       "question_piece_id_list       1                            NaN   \n",
       "opening_time               NaN  2023-05-17 13:25:41.180416256   \n",
       "status                  153411                            NaN   \n",
       "created_at                 NaN  2023-05-17 12:43:12.170648832   \n",
       "user_id                    NaN                 1106751.980939   \n",
       "\n",
       "                                        min                         25%  \\\n",
       "id                                  99817.0                  1953393.25   \n",
       "question_piece_id_list                  NaN                         NaN   \n",
       "opening_time            2023-04-28 12:27:22  2023-05-09 15:46:49.500000   \n",
       "status                                  NaN                         NaN   \n",
       "created_at              2023-04-28 12:27:23  2023-05-09 14:58:05.500000   \n",
       "user_id                            838023.0                    884747.0   \n",
       "\n",
       "                                               50%  \\\n",
       "id                                       6757335.0   \n",
       "question_piece_id_list                         NaN   \n",
       "opening_time            2023-05-15 13:43:55.500000   \n",
       "status                                         NaN   \n",
       "created_at              2023-05-15 13:04:46.500000   \n",
       "user_id                                  1117999.0   \n",
       "\n",
       "                                               75%                  max  \\\n",
       "id                                     12175103.25           20838446.0   \n",
       "question_piece_id_list                         NaN                  NaN   \n",
       "opening_time            2023-05-22 11:43:24.500000  2024-05-07 12:12:30   \n",
       "status                                         NaN                  NaN   \n",
       "created_at                     2023-05-22 11:04:03  2024-05-07 11:32:30   \n",
       "user_id                                  1261250.0            1583358.0   \n",
       "\n",
       "                                   std  \n",
       "id                      5943689.973322  \n",
       "question_piece_id_list             NaN  \n",
       "opening_time                       NaN  \n",
       "status                             NaN  \n",
       "created_at                         NaN  \n",
       "user_id                  207861.209058  "
      ]
     },
     "execution_count": 3,
     "metadata": {},
     "output_type": "execute_result"
    }
   ],
   "source": [
    "questionset_df.describe(include='all').transpose()\n"
   ]
  },
  {
   "cell_type": "code",
   "execution_count": 11,
   "id": "04943da3",
   "metadata": {},
   "outputs": [
    {
     "data": {
      "text/html": [
       "<div>\n",
       "<style scoped>\n",
       "    .dataframe tbody tr th:only-of-type {\n",
       "        vertical-align: middle;\n",
       "    }\n",
       "\n",
       "    .dataframe tbody tr th {\n",
       "        vertical-align: top;\n",
       "    }\n",
       "\n",
       "    .dataframe thead th {\n",
       "        text-align: right;\n",
       "    }\n",
       "</style>\n",
       "<table border=\"1\" class=\"dataframe\">\n",
       "  <thead>\n",
       "    <tr style=\"text-align: right;\">\n",
       "      <th></th>\n",
       "      <th>Missing Count</th>\n",
       "      <th>Missing Ratio (%)</th>\n",
       "      <th>Unique Values</th>\n",
       "    </tr>\n",
       "  </thead>\n",
       "  <tbody>\n",
       "    <tr>\n",
       "      <th>id</th>\n",
       "      <td>0</td>\n",
       "      <td>0.0</td>\n",
       "      <td>158384</td>\n",
       "    </tr>\n",
       "    <tr>\n",
       "      <th>question_piece_id_list</th>\n",
       "      <td>0</td>\n",
       "      <td>0.0</td>\n",
       "      <td>158384</td>\n",
       "    </tr>\n",
       "    <tr>\n",
       "      <th>opening_time</th>\n",
       "      <td>0</td>\n",
       "      <td>0.0</td>\n",
       "      <td>151839</td>\n",
       "    </tr>\n",
       "    <tr>\n",
       "      <th>status</th>\n",
       "      <td>0</td>\n",
       "      <td>0.0</td>\n",
       "      <td>3</td>\n",
       "    </tr>\n",
       "    <tr>\n",
       "      <th>created_at</th>\n",
       "      <td>0</td>\n",
       "      <td>0.0</td>\n",
       "      <td>151940</td>\n",
       "    </tr>\n",
       "    <tr>\n",
       "      <th>user_id</th>\n",
       "      <td>0</td>\n",
       "      <td>0.0</td>\n",
       "      <td>4972</td>\n",
       "    </tr>\n",
       "  </tbody>\n",
       "</table>\n",
       "</div>"
      ],
      "text/plain": [
       "                        Missing Count  Missing Ratio (%)  Unique Values\n",
       "id                                  0                0.0         158384\n",
       "question_piece_id_list              0                0.0         158384\n",
       "opening_time                        0                0.0         151839\n",
       "status                              0                0.0              3\n",
       "created_at                          0                0.0         151940\n",
       "user_id                             0                0.0           4972"
      ]
     },
     "execution_count": 11,
     "metadata": {},
     "output_type": "execute_result"
    }
   ],
   "source": [
    "missing_df = pd.DataFrame({\n",
    "    'Missing Count': missing,\n",
    "    'Missing Ratio (%)': (missing / len(questionset_df)) * 100,\n",
    "    'Unique Values': unique\n",
    "})\n",
    "\n",
    "missing_df.sort_values(by='Missing Ratio (%)', ascending=False)"
   ]
  },
  {
   "cell_type": "code",
   "execution_count": 12,
   "id": "708d8923",
   "metadata": {},
   "outputs": [],
   "source": [
    "import ast\n",
    "\n",
    "# 1. 형 변환\n",
    "questionset_df['opening_time'] = pd.to_datetime(questionset_df['opening_time'])\n",
    "questionset_df['created_at']  = pd.to_datetime(questionset_df['created_at'])\n",
    "if questionset_df['question_piece_id_list'].dtype == 'object':\n",
    "    questionset_df['question_piece_id_list'] = questionset_df['question_piece_id_list'].apply(\n",
    "        lambda x: x if isinstance(x, list) else ast.literal_eval(x)\n",
    "    )"
   ]
  },
  {
   "cell_type": "code",
   "execution_count": null,
   "id": "b689ea43",
   "metadata": {},
   "outputs": [],
   "source": []
  },
  {
   "cell_type": "code",
   "execution_count": 13,
   "id": "671e9eba",
   "metadata": {},
   "outputs": [
    {
     "data": {
      "text/plain": [
       "(0,\n",
       " Empty DataFrame\n",
       " Columns: [user_id, question_id]\n",
       " Index: [])"
      ]
     },
     "execution_count": 13,
     "metadata": {},
     "output_type": "execute_result"
    }
   ],
   "source": [
    "# question_piece_id_list가 문자열이면 리스트로 변환\n",
    "if questionset_df['question_piece_id_list'].dtype == 'object':\n",
    "    questionset_df['question_piece_id_list'] = questionset_df['question_piece_id_list'].apply(\n",
    "        lambda x: x if isinstance(x, list) else ast.literal_eval(x)\n",
    "    )\n",
    "\n",
    "# 추천용 인터랙션 테이블 생성\n",
    "interactions = (\n",
    "    questionset_df[['user_id', 'question_piece_id_list']]\n",
    "    .explode('question_piece_id_list')\n",
    "    .rename(columns={'question_piece_id_list': 'question_id'})\n",
    ")\n",
    "\n",
    "# 중복 확인\n",
    "duplicated_rows = interactions.duplicated().sum()\n",
    "duplicated_examples = interactions[interactions.duplicated()].head()\n",
    "\n",
    "duplicated_rows, duplicated_examples"
   ]
  },
  {
   "cell_type": "code",
   "execution_count": null,
   "id": "acf3da86",
   "metadata": {},
   "outputs": [],
   "source": []
  },
  {
   "cell_type": "code",
   "execution_count": 14,
   "id": "1879e24f",
   "metadata": {},
   "outputs": [
    {
     "data": {
      "image/png": "[encoded data removed]",
      "text/plain": [
       "<Figure size 1500x2000 with 4 Axes>"
      ]
     },
     "metadata": {},
     "output_type": "display_data"
    }
   ],
   "source": [
    "# 파생 변수 생성\n",
    "questionset_df['question_count'] = questionset_df['question_piece_id_list'].apply(len)\n",
    "questionset_df['created_hour'] = questionset_df['created_at'].dt.hour\n",
    "questionset_df['created_dayofweek'] = questionset_df['created_at'].dt.dayofweek\n",
    "\n",
    "# 유저별 생성 문항 수\n",
    "user_question_df = questionset_df[['user_id', 'question_piece_id_list']].explode('question_piece_id_list')\n",
    "user_question_count = user_question_df.groupby('user_id').size().reset_index(name='question_count')\n",
    "\n",
    "\n",
    "\n",
    "# 시각화\n",
    "plt.figure(figsize=(15, 20))\n",
    "\n",
    "# 1. 질문 수 분포\n",
    "plt.subplot(4, 1, 1)\n",
    "sns.histplot(questionset_df['question_count'], bins=30, kde=True)\n",
    "plt.title(\"질문 세트별 문항 수 분포\")\n",
    "\n",
    "# 2. 유저별 생성 문항 수\n",
    "plt.subplot(4, 1, 2)\n",
    "sns.histplot(user_question_count['question_count'], bins=50, kde=True)\n",
    "plt.title(\"유저별 생성 문항 수 분포\")\n",
    "\n",
    "# 3. 시간대별 생성 패턴\n",
    "plt.subplot(4, 1, 3)\n",
    "sns.countplot(data=questionset_df, x='created_hour')\n",
    "plt.title(\"시간대별 질문 세트 생성 수\")\n",
    "\n",
    "# 4. 요일별 생성 패턴\n",
    "plt.subplot(4, 1, 4)\n",
    "sns.countplot(data=questionset_df, x='created_dayofweek')\n",
    "plt.title(\"요일별 질문 세트 생성 수 (0=월 ~ 6=일)\")\n",
    "\n",
    "plt.tight_layout()\n",
    "plt.show()\n"
   ]
  },
  {
   "cell_type": "code",
   "execution_count": null,
   "id": "8a6eaf7d",
   "metadata": {},
   "outputs": [],
   "source": []
  },
  {
   "cell_type": "code",
   "execution_count": 15,
   "id": "14d0637e",
   "metadata": {},
   "outputs": [
    {
     "data": {
      "text/html": [
       "<div>\n",
       "<style scoped>\n",
       "    .dataframe tbody tr th:only-of-type {\n",
       "        vertical-align: middle;\n",
       "    }\n",
       "\n",
       "    .dataframe tbody tr th {\n",
       "        vertical-align: top;\n",
       "    }\n",
       "\n",
       "    .dataframe thead th {\n",
       "        text-align: right;\n",
       "    }\n",
       "</style>\n",
       "<table border=\"1\" class=\"dataframe\">\n",
       "  <thead>\n",
       "    <tr style=\"text-align: right;\">\n",
       "      <th></th>\n",
       "      <th>user_id</th>\n",
       "      <th>question_id</th>\n",
       "      <th>count</th>\n",
       "    </tr>\n",
       "  </thead>\n",
       "  <tbody>\n",
       "    <tr>\n",
       "      <th>0</th>\n",
       "      <td>838023</td>\n",
       "      <td>1167328</td>\n",
       "      <td>1</td>\n",
       "    </tr>\n",
       "    <tr>\n",
       "      <th>1</th>\n",
       "      <td>838466</td>\n",
       "      <td>3059298</td>\n",
       "      <td>1</td>\n",
       "    </tr>\n",
       "    <tr>\n",
       "      <th>2</th>\n",
       "      <td>838642</td>\n",
       "      <td>1023128</td>\n",
       "      <td>1</td>\n",
       "    </tr>\n",
       "    <tr>\n",
       "      <th>3</th>\n",
       "      <td>839357</td>\n",
       "      <td>1338618</td>\n",
       "      <td>1</td>\n",
       "    </tr>\n",
       "    <tr>\n",
       "      <th>4</th>\n",
       "      <td>840293</td>\n",
       "      <td>3154458</td>\n",
       "      <td>1</td>\n",
       "    </tr>\n",
       "    <tr>\n",
       "      <th>5</th>\n",
       "      <td>840473</td>\n",
       "      <td>3288518</td>\n",
       "      <td>1</td>\n",
       "    </tr>\n",
       "    <tr>\n",
       "      <th>6</th>\n",
       "      <td>840474</td>\n",
       "      <td>3119308</td>\n",
       "      <td>1</td>\n",
       "    </tr>\n",
       "    <tr>\n",
       "      <th>7</th>\n",
       "      <td>840512</td>\n",
       "      <td>3050518</td>\n",
       "      <td>1</td>\n",
       "    </tr>\n",
       "    <tr>\n",
       "      <th>8</th>\n",
       "      <td>840685</td>\n",
       "      <td>3046548</td>\n",
       "      <td>1</td>\n",
       "    </tr>\n",
       "    <tr>\n",
       "      <th>9</th>\n",
       "      <td>840902</td>\n",
       "      <td>3053278</td>\n",
       "      <td>1</td>\n",
       "    </tr>\n",
       "  </tbody>\n",
       "</table>\n",
       "</div>"
      ],
      "text/plain": [
       "   user_id  question_id  count\n",
       "0   838023      1167328      1\n",
       "1   838466      3059298      1\n",
       "2   838642      1023128      1\n",
       "3   839357      1338618      1\n",
       "4   840293      3154458      1\n",
       "5   840473      3288518      1\n",
       "6   840474      3119308      1\n",
       "7   840512      3050518      1\n",
       "8   840685      3046548      1\n",
       "9   840902      3053278      1"
      ]
     },
     "execution_count": 15,
     "metadata": {},
     "output_type": "execute_result"
    }
   ],
   "source": [
    "# 리스트 변환\n",
    "if questionset_df['question_piece_id_list'].dtype == 'object':\n",
    "    questionset_df['question_piece_id_list'] = questionset_df['question_piece_id_list'].apply(\n",
    "        lambda x: x if isinstance(x, list) else ast.literal_eval(x)\n",
    "    )\n",
    "\n",
    "# explode 후 컬럼명 정리\n",
    "user_question_df = questionset_df[['user_id', 'question_piece_id_list']].explode('question_piece_id_list')\n",
    "user_question_df.rename(columns={'question_piece_id_list': 'question_id'}, inplace=True)\n",
    "\n",
    "# 사용자별 가장 많이 생성한 문항 집계\n",
    "most_frequent_by_user = (\n",
    "    user_question_df.groupby(['user_id', 'question_id'])\n",
    "    .size()\n",
    "    .reset_index(name='count')\n",
    "    .sort_values(['user_id', 'count'], ascending=[True, False])\n",
    ")\n",
    "\n",
    "# 각 사용자별 최다 문항 1개씩 추출\n",
    "most_frequent_top1 = most_frequent_by_user.groupby('user_id').head(1).reset_index(drop=True)\n",
    "\n",
    "most_frequent_top1.head(10)"
   ]
  },
  {
   "cell_type": "code",
   "execution_count": null,
   "id": "777f5fc0",
   "metadata": {},
   "outputs": [],
   "source": []
  },
  {
   "cell_type": "code",
   "execution_count": 16,
   "id": "29c533ce",
   "metadata": {},
   "outputs": [
    {
     "data": {
      "text/html": [
       "<div>\n",
       "<style scoped>\n",
       "    .dataframe tbody tr th:only-of-type {\n",
       "        vertical-align: middle;\n",
       "    }\n",
       "\n",
       "    .dataframe tbody tr th {\n",
       "        vertical-align: top;\n",
       "    }\n",
       "\n",
       "    .dataframe thead th {\n",
       "        text-align: right;\n",
       "    }\n",
       "</style>\n",
       "<table border=\"1\" class=\"dataframe\">\n",
       "  <thead>\n",
       "    <tr style=\"text-align: right;\">\n",
       "      <th></th>\n",
       "      <th>question_id</th>\n",
       "      <th>num_users</th>\n",
       "    </tr>\n",
       "  </thead>\n",
       "  <tbody>\n",
       "    <tr>\n",
       "      <th>0</th>\n",
       "      <td>998458</td>\n",
       "      <td>1</td>\n",
       "    </tr>\n",
       "    <tr>\n",
       "      <th>1055924</th>\n",
       "      <td>101579661</td>\n",
       "      <td>1</td>\n",
       "    </tr>\n",
       "    <tr>\n",
       "      <th>1055898</th>\n",
       "      <td>101576600</td>\n",
       "      <td>1</td>\n",
       "    </tr>\n",
       "    <tr>\n",
       "      <th>1055897</th>\n",
       "      <td>101576598</td>\n",
       "      <td>1</td>\n",
       "    </tr>\n",
       "    <tr>\n",
       "      <th>1055896</th>\n",
       "      <td>101576595</td>\n",
       "      <td>1</td>\n",
       "    </tr>\n",
       "    <tr>\n",
       "      <th>...</th>\n",
       "      <td>...</td>\n",
       "      <td>...</td>\n",
       "    </tr>\n",
       "    <tr>\n",
       "      <th>527945</th>\n",
       "      <td>38822812</td>\n",
       "      <td>1</td>\n",
       "    </tr>\n",
       "    <tr>\n",
       "      <th>527944</th>\n",
       "      <td>38822809</td>\n",
       "      <td>1</td>\n",
       "    </tr>\n",
       "    <tr>\n",
       "      <th>527943</th>\n",
       "      <td>38822804</td>\n",
       "      <td>1</td>\n",
       "    </tr>\n",
       "    <tr>\n",
       "      <th>527942</th>\n",
       "      <td>38822800</td>\n",
       "      <td>1</td>\n",
       "    </tr>\n",
       "    <tr>\n",
       "      <th>1583839</th>\n",
       "      <td>208385230</td>\n",
       "      <td>1</td>\n",
       "    </tr>\n",
       "  </tbody>\n",
       "</table>\n",
       "<p>1583840 rows × 2 columns</p>\n",
       "</div>"
      ],
      "text/plain": [
       "         question_id  num_users\n",
       "0             998458          1\n",
       "1055924    101579661          1\n",
       "1055898    101576600          1\n",
       "1055897    101576598          1\n",
       "1055896    101576595          1\n",
       "...              ...        ...\n",
       "527945      38822812          1\n",
       "527944      38822809          1\n",
       "527943      38822804          1\n",
       "527942      38822800          1\n",
       "1583839    208385230          1\n",
       "\n",
       "[1583840 rows x 2 columns]"
      ]
     },
     "execution_count": 16,
     "metadata": {},
     "output_type": "execute_result"
    }
   ],
   "source": [
    "user_per_question = (\n",
    "    user_question_df\n",
    "    .groupby('question_id')['user_id']\n",
    "    .nunique()\n",
    "    .reset_index(name='num_users')\n",
    "    .sort_values(by='num_users', ascending=False)\n",
    ")\n",
    "user_per_question"
   ]
  },
  {
   "cell_type": "markdown",
   "id": "a61faca4",
   "metadata": {},
   "source": [
    "#### 오픈율"
   ]
  },
  {
   "cell_type": "code",
   "execution_count": 5,
   "id": "7683eebf",
   "metadata": {},
   "outputs": [
    {
     "name": "stdout",
     "output_type": "stream",
     "text": [
      "중복된 질문조각 세트 수: 0개\n"
     ]
    },
    {
     "data": {
      "text/plain": [
       "Series([], Name: count, dtype: int64)"
      ]
     },
     "metadata": {},
     "output_type": "display_data"
    }
   ],
   "source": [
    "# 중복값 개수 세기\n",
    "duplicate_counts = questionset_df['question_piece_id_list'].value_counts()\n",
    "\n",
    "# 2개 이상인 값만 필터링\n",
    "duplicate_formats = duplicate_counts[duplicate_counts > 1]\n",
    "\n",
    "# 결과 확인\n",
    "print(f\"중복된 질문조각 세트 수: {len(duplicate_formats)}개\")\n",
    "display(duplicate_formats.head(10))\n"
   ]
  },
  {
   "cell_type": "code",
   "execution_count": 6,
   "id": "3dbd21ba",
   "metadata": {},
   "outputs": [],
   "source": [
    "import ast\n",
    "\n",
    "# 문자열 형태의 리스트를 실제 리스트로 변환\n",
    "questionset_df['piece_list'] = questionset_df['question_piece_id_list'].apply(ast.literal_eval)\n"
   ]
  },
  {
   "cell_type": "code",
   "execution_count": 7,
   "id": "e5b50f05",
   "metadata": {},
   "outputs": [],
   "source": [
    "# 정렬 후 튜플화 → 해시 가능한 형태로 변환\n",
    "questionset_df['piece_tuple'] = questionset_df['piece_list'].apply(lambda x: tuple(sorted(x)))\n"
   ]
  },
  {
   "cell_type": "code",
   "execution_count": 8,
   "id": "fef60fa2",
   "metadata": {},
   "outputs": [
    {
     "name": "stdout",
     "output_type": "stream",
     "text": [
      "중복된 질문조각 세트 수: 0개\n"
     ]
    },
    {
     "data": {
      "text/plain": [
       "Series([], Name: count, dtype: int64)"
      ]
     },
     "metadata": {},
     "output_type": "display_data"
    }
   ],
   "source": [
    "# 중복된 포맷 개수 세기\n",
    "duplicate_counts = questionset_df['piece_tuple'].value_counts()\n",
    "duplicate_formats = duplicate_counts[duplicate_counts > 1]\n",
    "\n",
    "print(f\"중복된 질문조각 세트 수: {len(duplicate_formats)}개\")\n",
    "display(duplicate_formats.head(10))\n"
   ]
  },
  {
   "cell_type": "code",
   "execution_count": 9,
   "id": "74fad7d0",
   "metadata": {},
   "outputs": [
    {
     "data": {
      "text/html": [
       "<div>\n",
       "<style scoped>\n",
       "    .dataframe tbody tr th:only-of-type {\n",
       "        vertical-align: middle;\n",
       "    }\n",
       "\n",
       "    .dataframe tbody tr th {\n",
       "        vertical-align: top;\n",
       "    }\n",
       "\n",
       "    .dataframe thead th {\n",
       "        text-align: right;\n",
       "    }\n",
       "</style>\n",
       "<table border=\"1\" class=\"dataframe\">\n",
       "  <thead>\n",
       "    <tr style=\"text-align: right;\">\n",
       "      <th></th>\n",
       "      <th>id</th>\n",
       "      <th>question_piece_id_list</th>\n",
       "      <th>opening_time</th>\n",
       "      <th>status</th>\n",
       "      <th>created_at</th>\n",
       "      <th>user_id</th>\n",
       "      <th>is_open</th>\n",
       "      <th>piece_list</th>\n",
       "      <th>piece_tuple</th>\n",
       "    </tr>\n",
       "  </thead>\n",
       "  <tbody>\n",
       "  </tbody>\n",
       "</table>\n",
       "</div>"
      ],
      "text/plain": [
       "Empty DataFrame\n",
       "Columns: [id, question_piece_id_list, opening_time, status, created_at, user_id, is_open, piece_list, piece_tuple]\n",
       "Index: []"
      ]
     },
     "metadata": {},
     "output_type": "display_data"
    }
   ],
   "source": [
    "duplicate_sets_df = questionset_df[questionset_df['piece_tuple'].isin(duplicate_formats.index)]\n",
    "display(duplicate_sets_df.head())\n"
   ]
  },
  {
   "cell_type": "code",
   "execution_count": 3,
   "id": "5a992cbd",
   "metadata": {},
   "outputs": [
    {
     "data": {
      "text/html": [
       "<div>\n",
       "<style scoped>\n",
       "    .dataframe tbody tr th:only-of-type {\n",
       "        vertical-align: middle;\n",
       "    }\n",
       "\n",
       "    .dataframe tbody tr th {\n",
       "        vertical-align: top;\n",
       "    }\n",
       "\n",
       "    .dataframe thead th {\n",
       "        text-align: right;\n",
       "    }\n",
       "</style>\n",
       "<table border=\"1\" class=\"dataframe\">\n",
       "  <thead>\n",
       "    <tr style=\"text-align: right;\">\n",
       "      <th></th>\n",
       "      <th>question_piece_id_list</th>\n",
       "      <th>total_sets</th>\n",
       "      <th>opened_sets</th>\n",
       "      <th>open_rate</th>\n",
       "    </tr>\n",
       "  </thead>\n",
       "  <tbody>\n",
       "  </tbody>\n",
       "</table>\n",
       "</div>"
      ],
      "text/plain": [
       "Empty DataFrame\n",
       "Columns: [question_piece_id_list, total_sets, opened_sets, open_rate]\n",
       "Index: []"
      ]
     },
     "metadata": {},
     "output_type": "display_data"
    }
   ],
   "source": [
    "# opening_time 존재 여부를 is_open으로 정의\n",
    "questionset_df['is_open'] = questionset_df['opening_time'].notna()\n",
    "\n",
    "# 동일 question_piece_id_list 기준 중복 개수와 오픈 여부 집계\n",
    "open_rate_df = questionset_df.groupby('question_piece_id_list').agg(\n",
    "    total_sets=('id', 'count'),\n",
    "    opened_sets=('is_open', 'sum')  # True = 1\n",
    ").reset_index()\n",
    "\n",
    "# 오픈율 계산\n",
    "open_rate_df['open_rate'] = open_rate_df['opened_sets'] / open_rate_df['total_sets']\n",
    "\n",
    "# 중복이 많은 경우(2개 이상)만 필터링\n",
    "duplicate_formats = open_rate_df[open_rate_df['total_sets'] >= 2]\n",
    "\n",
    "# 상위 확인\n",
    "display(duplicate_formats.sort_values('total_sets', ascending=False).head(10))"
   ]
  },
  {
   "cell_type": "code",
   "execution_count": null,
   "id": "490da55f",
   "metadata": {},
   "outputs": [],
   "source": []
  },
  {
   "cell_type": "code",
   "execution_count": 13,
   "id": "8e4d9925",
   "metadata": {},
   "outputs": [
    {
     "name": "stdout",
     "output_type": "stream",
     "text": [
      "중복된 질문조각 조합을 가진 세트 수: 0개\n"
     ]
    },
    {
     "data": {
      "text/html": [
       "<div>\n",
       "<style scoped>\n",
       "    .dataframe tbody tr th:only-of-type {\n",
       "        vertical-align: middle;\n",
       "    }\n",
       "\n",
       "    .dataframe tbody tr th {\n",
       "        vertical-align: top;\n",
       "    }\n",
       "\n",
       "    .dataframe thead th {\n",
       "        text-align: right;\n",
       "    }\n",
       "</style>\n",
       "<table border=\"1\" class=\"dataframe\">\n",
       "  <thead>\n",
       "    <tr style=\"text-align: right;\">\n",
       "      <th></th>\n",
       "      <th>id</th>\n",
       "      <th>question_piece_id_list</th>\n",
       "      <th>opening_time</th>\n",
       "      <th>status</th>\n",
       "      <th>created_at</th>\n",
       "      <th>user_id</th>\n",
       "      <th>is_open</th>\n",
       "      <th>piece_list</th>\n",
       "      <th>piece_tuple</th>\n",
       "      <th>question_piece_id_list_sorted</th>\n",
       "    </tr>\n",
       "  </thead>\n",
       "  <tbody>\n",
       "  </tbody>\n",
       "</table>\n",
       "</div>"
      ],
      "text/plain": [
       "Empty DataFrame\n",
       "Columns: [id, question_piece_id_list, opening_time, status, created_at, user_id, is_open, piece_list, piece_tuple, question_piece_id_list_sorted]\n",
       "Index: []"
      ]
     },
     "metadata": {},
     "output_type": "display_data"
    }
   ],
   "source": [
    "import ast\n",
    "\n",
    "# 0. 원본 데이터프레임 이름을 정확히 사용하세요!\n",
    "# 예: questionset_df가 실제 데이터프레임이라면\n",
    "df = questionset_df.copy()\n",
    "\n",
    "# 1. 문자열 → 리스트 변환\n",
    "df['question_piece_id_list'] = df['question_piece_id_list'].apply(ast.literal_eval)\n",
    "\n",
    "# 2. 정렬 + 튜플화 (중복 탐지용)\n",
    "df['question_piece_id_list_sorted'] = df['question_piece_id_list'].apply(lambda x: tuple(sorted(x)))\n",
    "\n",
    "# 3. 중복된 질문조각 조합 탐지\n",
    "duplicates = df[df.duplicated(subset=['question_piece_id_list_sorted'], keep=False)]\n",
    "\n",
    "# 4. 결과 확인\n",
    "print(f\"중복된 질문조각 조합을 가진 세트 수: {len(duplicates)}개\")\n",
    "display(duplicates.sort_values('question_piece_id_list_sorted').head())\n"
   ]
  },
  {
   "cell_type": "code",
   "execution_count": null,
   "id": "10ca4853",
   "metadata": {},
   "outputs": [],
   "source": []
  },
  {
   "cell_type": "markdown",
   "id": "4ac52b1e",
   "metadata": {},
   "source": [
    "#### 질문 오픈시간 23년 5월부터 7월까지"
   ]
  },
  {
   "cell_type": "code",
   "execution_count": 5,
   "id": "a78e0fb2",
   "metadata": {},
   "outputs": [
    {
     "name": "stdout",
     "output_type": "stream",
     "text": [
      "          id        opening_time\n",
      "3624  173714 2023-05-01 04:10:17\n",
      "4165  187416 2023-05-01 00:01:02\n",
      "4166  187452 2023-05-01 00:02:12\n",
      "4167  187453 2023-05-01 00:02:13\n",
      "4168  187501 2023-05-01 00:03:45\n"
     ]
    }
   ],
   "source": [
    "# opening_time 컬럼이 datetime 타입이 아닐 경우 변환\n",
    "questionset_df['opening_time'] = pd.to_datetime(questionset_df['opening_time'])\n",
    "\n",
    "# 2023년 5월 1일 ~ 7월 31일 사이로 필터링\n",
    "filtered_df = questionset_df[\n",
    "    (questionset_df['opening_time'] >= '2023-05-01') &\n",
    "    (questionset_df['opening_time'] <= '2023-07-31')\n",
    "]\n",
    "\n",
    "# 결과 확인\n",
    "print(filtered_df[['id', 'opening_time']].head())\n"
   ]
  },
  {
   "cell_type": "code",
   "execution_count": 6,
   "id": "52abd402",
   "metadata": {},
   "outputs": [
    {
     "name": "stdout",
     "output_type": "stream",
     "text": [
      "2023년 5월~7월 질문 개수: 153,441개\n"
     ]
    },
    {
     "name": "stderr",
     "output_type": "stream",
     "text": [
      "/tmp/ipykernel_498566/409170639.py:6: SettingWithCopyWarning: \n",
      "A value is trying to be set on a copy of a slice from a DataFrame.\n",
      "Try using .loc[row_indexer,col_indexer] = value instead\n",
      "\n",
      "See the caveats in the documentation: https://pandas.pydata.org/pandas-docs/stable/user_guide/indexing.html#returning-a-view-versus-a-copy\n",
      "  filtered_df['date'] = filtered_df['opening_time'].dt.date\n"
     ]
    },
    {
     "data": {
      "image/png": "[encoded data removed]",
      "text/plain": [
       "<Figure size 2200x600 with 1 Axes>"
      ]
     },
     "metadata": {},
     "output_type": "display_data"
    }
   ],
   "source": [
    "# 전체 질문 개수\n",
    "total_questions = len(filtered_df)\n",
    "print(f\"2023년 5월~7월 질문 개수: {total_questions:,}개\")\n",
    "\n",
    "# 날짜별 질문 수 계산\n",
    "filtered_df['date'] = filtered_df['opening_time'].dt.date\n",
    "questions_per_day = filtered_df['date'].value_counts().sort_index()\n",
    "\n",
    "# 시각화\n",
    "plt.figure(figsize=(22, 6))\n",
    "questions_per_day.plot(kind='bar')\n",
    "plt.title('2023년 5월~7월 날짜별 질문 생성 수')\n",
    "plt.xlabel('날짜')\n",
    "plt.ylabel('질문 수')\n",
    "plt.tight_layout()\n",
    "plt.xticks(rotation=45)\n",
    "plt.grid(True)\n",
    "plt.show()"
   ]
  },
  {
   "cell_type": "code",
   "execution_count": 7,
   "id": "74857564",
   "metadata": {},
   "outputs": [
    {
     "name": "stdout",
     "output_type": "stream",
     "text": [
      "2023년 5월~7월 월별 질문 생성 수:\n",
      "month\n",
      "2023-05    143158\n",
      "2023-06      9579\n",
      "2023-07       704\n",
      "Freq: M, Name: count, dtype: int64\n"
     ]
    },
    {
     "name": "stderr",
     "output_type": "stream",
     "text": [
      "/tmp/ipykernel_498566/1264833279.py:2: SettingWithCopyWarning: \n",
      "A value is trying to be set on a copy of a slice from a DataFrame.\n",
      "Try using .loc[row_indexer,col_indexer] = value instead\n",
      "\n",
      "See the caveats in the documentation: https://pandas.pydata.org/pandas-docs/stable/user_guide/indexing.html#returning-a-view-versus-a-copy\n",
      "  filtered_df['month'] = filtered_df['opening_time'].dt.to_period('M')\n"
     ]
    }
   ],
   "source": [
    "# 월별 집계 (YYYY-MM 형식)\n",
    "filtered_df['month'] = filtered_df['opening_time'].dt.to_period('M')\n",
    "monthly_counts = filtered_df['month'].value_counts().sort_index()\n",
    "\n",
    "# 출력\n",
    "print(\"2023년 5월~7월 월별 질문 생성 수:\")\n",
    "print(monthly_counts)"
   ]
  },
  {
   "cell_type": "code",
   "execution_count": null,
   "id": "434a452c",
   "metadata": {},
   "outputs": [],
   "source": []
  },
  {
   "cell_type": "code",
   "execution_count": 9,
   "id": "c94d0910",
   "metadata": {},
   "outputs": [
    {
     "name": "stderr",
     "output_type": "stream",
     "text": [
      "/tmp/ipykernel_498566/3252123740.py:2: SettingWithCopyWarning: \n",
      "A value is trying to be set on a copy of a slice from a DataFrame.\n",
      "Try using .loc[row_indexer,col_indexer] = value instead\n",
      "\n",
      "See the caveats in the documentation: https://pandas.pydata.org/pandas-docs/stable/user_guide/indexing.html#returning-a-view-versus-a-copy\n",
      "  filtered_df['hour'] = filtered_df['opening_time'].dt.hour\n"
     ]
    },
    {
     "data": {
      "image/png": "[encoded data removed]",
      "text/plain": [
       "<Figure size 1000x400 with 1 Axes>"
      ]
     },
     "metadata": {},
     "output_type": "display_data"
    },
    {
     "data": {
      "text/plain": [
       "hour\n",
       "0      5095\n",
       "1      4161\n",
       "2      4863\n",
       "3      5569\n",
       "4      5865\n",
       "5      5984\n",
       "6      6368\n",
       "7      7316\n",
       "8      8526\n",
       "9      8981\n",
       "10     9127\n",
       "11     9314\n",
       "12    10559\n",
       "13    11947\n",
       "14    12687\n",
       "15    11925\n",
       "16     8765\n",
       "17     4747\n",
       "18     1903\n",
       "19      751\n",
       "20      379\n",
       "21      526\n",
       "22     2037\n",
       "23     6046\n",
       "Name: count, dtype: int64"
      ]
     },
     "execution_count": 9,
     "metadata": {},
     "output_type": "execute_result"
    }
   ],
   "source": [
    "# 시간대 추출\n",
    "filtered_df['hour'] = filtered_df['opening_time'].dt.hour\n",
    "\n",
    "# 시간대별 질문 수 계산\n",
    "questions_per_hour = filtered_df['hour'].value_counts().sort_index()\n",
    "\n",
    "# 시각화\n",
    "plt.figure(figsize=(10, 4))\n",
    "questions_per_hour.plot(kind='bar')\n",
    "plt.title('2023년 5월~7월 시간대별 질문 생성 수')\n",
    "plt.xlabel('오픈 시간 (시)')\n",
    "plt.ylabel('질문 수')\n",
    "plt.xticks(rotation=0)\n",
    "plt.grid(True)\n",
    "plt.tight_layout()\n",
    "plt.show()\n",
    "\n",
    "\n",
    "questions_per_hour"
   ]
  },
  {
   "cell_type": "code",
   "execution_count": null,
   "id": "a4e5cdac",
   "metadata": {},
   "outputs": [],
   "source": []
  },
  {
   "cell_type": "code",
   "execution_count": 3,
   "id": "7808d765",
   "metadata": {},
   "outputs": [],
   "source": [
    "question_df = pd.read_parquet(\"gs://final_project_enuyu/data/final_project/votes/polls_question.parquet\")"
   ]
  },
  {
   "cell_type": "code",
   "execution_count": 4,
   "id": "907fde4e",
   "metadata": {},
   "outputs": [],
   "source": [
    "question_df = question_df.rename(columns={'id': 'question_id'})"
   ]
  },
  {
   "cell_type": "code",
   "execution_count": 5,
   "id": "1c3f6b48",
   "metadata": {},
   "outputs": [
    {
     "ename": "KeyError",
     "evalue": "'question_id'",
     "output_type": "error",
     "traceback": [
      "\u001b[31m---------------------------------------------------------------------------\u001b[39m",
      "\u001b[31mKeyError\u001b[39m                                  Traceback (most recent call last)",
      "\u001b[32m/tmp/ipykernel_3214197/3967585420.py\u001b[39m in \u001b[36m?\u001b[39m\u001b[34m()\u001b[39m\n\u001b[32m      1\u001b[39m \u001b[38;5;66;03m# 병합 (question_id 기준)\u001b[39;00m\n\u001b[32m----> \u001b[39m\u001b[32m2\u001b[39m df_merged = questionset_df.merge(question_df[[\u001b[33m'question_id'\u001b[39m, \u001b[33m'question_text'\u001b[39m]], on=\u001b[33m'question_id'\u001b[39m, how=\u001b[33m'left'\u001b[39m)\n\u001b[32m      3\u001b[39m \n\u001b[32m      4\u001b[39m \u001b[38;5;66;03m# 동일한 question_text에 여러 question_id가 매핑된 경우 찾기\u001b[39;00m\n\u001b[32m      5\u001b[39m dup_group = df_merged.groupby(\u001b[33m'question_text'\u001b[39m)[\u001b[33m'question_id'\u001b[39m].nunique()\n",
      "\u001b[32m~/.local/lib/python3.12/site-packages/pandas/core/frame.py\u001b[39m in \u001b[36m?\u001b[39m\u001b[34m(self, right, how, on, left_on, right_on, left_index, right_index, sort, suffixes, copy, indicator, validate)\u001b[39m\n\u001b[32m  10486\u001b[39m         validate: MergeValidate | \u001b[38;5;28;01mNone\u001b[39;00m = \u001b[38;5;28;01mNone\u001b[39;00m,\n\u001b[32m  10487\u001b[39m     ) -> DataFrame:\n\u001b[32m  10488\u001b[39m         \u001b[38;5;28;01mfrom\u001b[39;00m pandas.core.reshape.merge \u001b[38;5;28;01mimport\u001b[39;00m merge\n\u001b[32m  10489\u001b[39m \n\u001b[32m> \u001b[39m\u001b[32m10490\u001b[39m         return merge(\n\u001b[32m  10491\u001b[39m             self,\n\u001b[32m  10492\u001b[39m             right,\n\u001b[32m  10493\u001b[39m             how=how,\n",
      "\u001b[32m~/.local/lib/python3.12/site-packages/pandas/core/reshape/merge.py\u001b[39m in \u001b[36m?\u001b[39m\u001b[34m(left, right, how, on, left_on, right_on, left_index, right_index, sort, suffixes, copy, indicator, validate)\u001b[39m\n\u001b[32m    165\u001b[39m             validate=validate,\n\u001b[32m    166\u001b[39m             copy=copy,\n\u001b[32m    167\u001b[39m         )\n\u001b[32m    168\u001b[39m     \u001b[38;5;28;01melse\u001b[39;00m:\n\u001b[32m--> \u001b[39m\u001b[32m169\u001b[39m         op = _MergeOperation(\n\u001b[32m    170\u001b[39m             left_df,\n\u001b[32m    171\u001b[39m             right_df,\n\u001b[32m    172\u001b[39m             how=how,\n",
      "\u001b[32m~/.local/lib/python3.12/site-packages/pandas/core/reshape/merge.py\u001b[39m in \u001b[36m?\u001b[39m\u001b[34m(self, left, right, how, on, left_on, right_on, left_index, right_index, sort, suffixes, indicator, validate)\u001b[39m\n\u001b[32m    787\u001b[39m             self.right_join_keys,\n\u001b[32m    788\u001b[39m             self.join_names,\n\u001b[32m    789\u001b[39m             left_drop,\n\u001b[32m    790\u001b[39m             right_drop,\n\u001b[32m--> \u001b[39m\u001b[32m791\u001b[39m         ) = self._get_merge_keys()\n\u001b[32m    792\u001b[39m \n\u001b[32m    793\u001b[39m         \u001b[38;5;28;01mif\u001b[39;00m left_drop:\n\u001b[32m    794\u001b[39m             self.left = self.left._drop_labels_or_levels(left_drop)\n",
      "\u001b[32m~/.local/lib/python3.12/site-packages/pandas/core/reshape/merge.py\u001b[39m in \u001b[36m?\u001b[39m\u001b[34m(self)\u001b[39m\n\u001b[32m   1283\u001b[39m                     \u001b[38;5;28;01mif\u001b[39;00m lk \u001b[38;5;28;01mis\u001b[39;00m \u001b[38;5;28;01mnot\u001b[39;00m \u001b[38;5;28;01mNone\u001b[39;00m:\n\u001b[32m   1284\u001b[39m                         \u001b[38;5;66;03m# Then we're either Hashable or a wrong-length arraylike,\u001b[39;00m\n\u001b[32m   1285\u001b[39m                         \u001b[38;5;66;03m#  the latter of which will raise\u001b[39;00m\n\u001b[32m   1286\u001b[39m                         lk = cast(Hashable, lk)\n\u001b[32m-> \u001b[39m\u001b[32m1287\u001b[39m                         left_keys.append(left._get_label_or_level_values(lk))\n\u001b[32m   1288\u001b[39m                         join_names.append(lk)\n\u001b[32m   1289\u001b[39m                     \u001b[38;5;28;01melse\u001b[39;00m:\n\u001b[32m   1290\u001b[39m                         \u001b[38;5;66;03m# work-around for merge_asof(left_index=True)\u001b[39;00m\n",
      "\u001b[32m~/.local/lib/python3.12/site-packages/pandas/core/generic.py\u001b[39m in \u001b[36m?\u001b[39m\u001b[34m(self, key, axis)\u001b[39m\n\u001b[32m   1840\u001b[39m             values = self.xs(key, axis=other_axes[\u001b[32m0\u001b[39m])._values\n\u001b[32m   1841\u001b[39m         \u001b[38;5;28;01melif\u001b[39;00m self._is_level_reference(key, axis=axis):\n\u001b[32m   1842\u001b[39m             values = self.axes[axis].get_level_values(key)._values\n\u001b[32m   1843\u001b[39m         \u001b[38;5;28;01melse\u001b[39;00m:\n\u001b[32m-> \u001b[39m\u001b[32m1844\u001b[39m             \u001b[38;5;28;01mraise\u001b[39;00m KeyError(key)\n\u001b[32m   1845\u001b[39m \n\u001b[32m   1846\u001b[39m         \u001b[38;5;66;03m# Check for duplicates\u001b[39;00m\n\u001b[32m   1847\u001b[39m         \u001b[38;5;28;01mif\u001b[39;00m values.ndim > \u001b[32m1\u001b[39m:\n",
      "\u001b[31mKeyError\u001b[39m: 'question_id'"
     ]
    }
   ],
   "source": [
    "# 병합 (question_id 기준)\n",
    "df_merged = questionset_df.merge(question_df[['question_id', 'question_text']], on='question_id', how='left')\n",
    "\n",
    "# 동일한 question_text에 여러 question_id가 매핑된 경우 찾기\n",
    "dup_group = df_merged.groupby('question_text')['question_id'].nunique()\n",
    "text_with_multiple_ids = dup_group[dup_group > 1]\n",
    "\n",
    "print(f\"동일한 텍스트지만 ID가 다른 질문 개수: {len(text_with_multiple_ids)}\")\n",
    "\n",
    "# 각 중복 질문별 연결된 ID 확인\n",
    "for question in text_with_multiple_ids.index:\n",
    "    ids = df_merged[df_merged['question_text'] == question]['question_id'].unique()\n",
    "    print(f\"\\n질문: {question}\\n→ 연결된 question_id들: {list(ids)}\")\n"
   ]
  },
  {
   "cell_type": "code",
   "execution_count": 6,
   "id": "a05d2c18",
   "metadata": {},
   "outputs": [
    {
     "name": "stdout",
     "output_type": "stream",
     "text": [
      "Index(['id', 'question_piece_id_list', 'opening_time', 'status', 'created_at',\n",
      "       'user_id'],\n",
      "      dtype='object')\n"
     ]
    }
   ],
   "source": [
    "print(questionset_df.columns)\n"
   ]
  },
  {
   "cell_type": "code",
   "execution_count": null,
   "id": "a82793d5",
   "metadata": {},
   "outputs": [],
   "source": []
  },
  {
   "cell_type": "code",
   "execution_count": 7,
   "id": "4f1c1367",
   "metadata": {},
   "outputs": [],
   "source": [
    "import ast\n",
    "\n",
    "questionset_df['question_piece_id_list'] = questionset_df['question_piece_id_list'].apply(ast.literal_eval)\n"
   ]
  },
  {
   "cell_type": "code",
   "execution_count": 8,
   "id": "e4c53010",
   "metadata": {},
   "outputs": [],
   "source": [
    "questionset_df['question_piece_id_list_sorted'] = questionset_df['question_piece_id_list'].apply(lambda x: sorted(x))\n"
   ]
  },
  {
   "cell_type": "code",
   "execution_count": null,
   "id": "ce7885dd",
   "metadata": {},
   "outputs": [],
   "source": [
    "# 중복된 조합 찾기\n",
    "duplicate_sets = questionset_df[questionset_df.duplicated(subset=['question_piece_id_list_sorted'], keep=False)]\n",
    "\n",
    "print(f\"중복된 질문 세트 수: {duplicate_sets['question_piece_id_list_sorted'].nunique()}\")\n"
   ]
  },
  {
   "cell_type": "code",
   "execution_count": null,
   "id": "f04473a7",
   "metadata": {},
   "outputs": [],
   "source": [
    "from collections import Counter\n",
    "\n",
    "# 리스트를 튜플로 변환해서 count\n",
    "combo_counter = Counter(questionset_df['question_piece_id_list_sorted'].map(tuple))\n",
    "\n",
    "# 중복만 추출\n",
    "duplicate_combos = {k: v for k, v in combo_counter.items() if v > 1}\n",
    "\n",
    "print(f\"총 중복된 조합 개수: {len(duplicate_combos)}\")\n",
    "\n",
    "# 예시 상위 몇 개 출력\n",
    "for combo, count in list(duplicate_combos.items())[:5]:\n",
    "    print(f\"조합 {combo} → {count}회 등장\")\n"
   ]
  },
  {
   "cell_type": "code",
   "execution_count": null,
   "id": "a4941c7a",
   "metadata": {},
   "outputs": [],
   "source": []
  }
 ],
 "metadata": {
  "kernelspec": {
   "display_name": "Python 3",
   "language": "python",
   "name": "python3"
  },
  "language_info": {
   "codemirror_mode": {
    "name": "ipython",
    "version": 3
   },
   "file_extension": ".py",
   "mimetype": "text/x-python",
   "name": "python",
   "nbconvert_exporter": "python",
   "pygments_lexer": "ipython3",
   "version": "3.12.3"
  }
 },
 "nbformat": 4,
 "nbformat_minor": 5
}
