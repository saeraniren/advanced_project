{
 "cells": [
  {
   "cell_type": "code",
   "execution_count": 1,
   "id": "a52cc8a5",
   "metadata": {},
   "outputs": [],
   "source": [
    "import pandas as pd\n",
    "import numpy as np\n",
    "import matplotlib.pyplot as plt\n",
    "import seaborn as sns\n",
    "import os\n",
    "import matplotlib.font_manager as fm\n",
    "import koreanize_matplotlib\n",
    "\n",
    "# 폰트 경로 확인 및 설정\n",
    "font_path = '/usr/share/fonts/truetype/nanum/NanumGothic.ttf'  # 설치된 폰트 경로\n",
    "font_name = fm.FontProperties(fname=font_path).get_name()\n",
    "plt.rc('font', family=font_name)\n",
    "\n",
    "# 한글 깨짐 방지 - 마이너스 기호 처리\n",
    "plt.rcParams['axes.unicode_minus'] = False"
   ]
  },
  {
   "cell_type": "code",
   "execution_count": 2,
   "id": "a78acc93",
   "metadata": {},
   "outputs": [
    {
     "data": {
      "text/html": [
       "<div>\n",
       "<style scoped>\n",
       "    .dataframe tbody tr th:only-of-type {\n",
       "        vertical-align: middle;\n",
       "    }\n",
       "\n",
       "    .dataframe tbody tr th {\n",
       "        vertical-align: top;\n",
       "    }\n",
       "\n",
       "    .dataframe thead th {\n",
       "        text-align: right;\n",
       "    }\n",
       "</style>\n",
       "<table border=\"1\" class=\"dataframe\">\n",
       "  <thead>\n",
       "    <tr style=\"text-align: right;\">\n",
       "      <th></th>\n",
       "      <th>id</th>\n",
       "      <th>status</th>\n",
       "      <th>created_at</th>\n",
       "      <th>chosen_user_id</th>\n",
       "      <th>question_id</th>\n",
       "      <th>user_id</th>\n",
       "      <th>question_piece_id</th>\n",
       "      <th>has_read</th>\n",
       "      <th>answer_status</th>\n",
       "      <th>answer_updated_at</th>\n",
       "      <th>report_count</th>\n",
       "      <th>opened_times</th>\n",
       "    </tr>\n",
       "  </thead>\n",
       "  <tbody>\n",
       "    <tr>\n",
       "      <th>0</th>\n",
       "      <td>771777</td>\n",
       "      <td>C</td>\n",
       "      <td>2023-04-28 12:27:49</td>\n",
       "      <td>849469</td>\n",
       "      <td>252</td>\n",
       "      <td>849436</td>\n",
       "      <td>998458</td>\n",
       "      <td>0</td>\n",
       "      <td>N</td>\n",
       "      <td>2023-04-28 12:27:49</td>\n",
       "      <td>0</td>\n",
       "      <td>0</td>\n",
       "    </tr>\n",
       "    <tr>\n",
       "      <th>1</th>\n",
       "      <td>771800</td>\n",
       "      <td>C</td>\n",
       "      <td>2023-04-28 12:28:02</td>\n",
       "      <td>849446</td>\n",
       "      <td>244</td>\n",
       "      <td>849436</td>\n",
       "      <td>998459</td>\n",
       "      <td>0</td>\n",
       "      <td>N</td>\n",
       "      <td>2023-04-28 12:28:02</td>\n",
       "      <td>0</td>\n",
       "      <td>0</td>\n",
       "    </tr>\n",
       "    <tr>\n",
       "      <th>2</th>\n",
       "      <td>771812</td>\n",
       "      <td>C</td>\n",
       "      <td>2023-04-28 12:28:09</td>\n",
       "      <td>849454</td>\n",
       "      <td>183</td>\n",
       "      <td>849436</td>\n",
       "      <td>998460</td>\n",
       "      <td>1</td>\n",
       "      <td>N</td>\n",
       "      <td>2023-04-28 12:28:09</td>\n",
       "      <td>0</td>\n",
       "      <td>0</td>\n",
       "    </tr>\n",
       "    <tr>\n",
       "      <th>3</th>\n",
       "      <td>771828</td>\n",
       "      <td>C</td>\n",
       "      <td>2023-04-28 12:28:16</td>\n",
       "      <td>847375</td>\n",
       "      <td>101</td>\n",
       "      <td>849436</td>\n",
       "      <td>998461</td>\n",
       "      <td>0</td>\n",
       "      <td>N</td>\n",
       "      <td>2023-04-28 12:28:16</td>\n",
       "      <td>0</td>\n",
       "      <td>0</td>\n",
       "    </tr>\n",
       "    <tr>\n",
       "      <th>4</th>\n",
       "      <td>771851</td>\n",
       "      <td>C</td>\n",
       "      <td>2023-04-28 12:28:26</td>\n",
       "      <td>849477</td>\n",
       "      <td>209</td>\n",
       "      <td>849436</td>\n",
       "      <td>998462</td>\n",
       "      <td>1</td>\n",
       "      <td>N</td>\n",
       "      <td>2023-04-28 12:28:26</td>\n",
       "      <td>0</td>\n",
       "      <td>0</td>\n",
       "    </tr>\n",
       "    <tr>\n",
       "      <th>...</th>\n",
       "      <td>...</td>\n",
       "      <td>...</td>\n",
       "      <td>...</td>\n",
       "      <td>...</td>\n",
       "      <td>...</td>\n",
       "      <td>...</td>\n",
       "      <td>...</td>\n",
       "      <td>...</td>\n",
       "      <td>...</td>\n",
       "      <td>...</td>\n",
       "      <td>...</td>\n",
       "      <td>...</td>\n",
       "    </tr>\n",
       "    <tr>\n",
       "      <th>1217553</th>\n",
       "      <td>161666166</td>\n",
       "      <td>C</td>\n",
       "      <td>2024-05-07 11:29:07</td>\n",
       "      <td>945560</td>\n",
       "      <td>2614</td>\n",
       "      <td>1001607</td>\n",
       "      <td>190864020</td>\n",
       "      <td>1</td>\n",
       "      <td>N</td>\n",
       "      <td>2024-05-07 11:29:07</td>\n",
       "      <td>0</td>\n",
       "      <td>0</td>\n",
       "    </tr>\n",
       "    <tr>\n",
       "      <th>1217554</th>\n",
       "      <td>161666461</td>\n",
       "      <td>C</td>\n",
       "      <td>2024-05-08 01:34:56</td>\n",
       "      <td>850774</td>\n",
       "      <td>1679</td>\n",
       "      <td>855525</td>\n",
       "      <td>200139931</td>\n",
       "      <td>0</td>\n",
       "      <td>N</td>\n",
       "      <td>2024-05-08 01:34:56</td>\n",
       "      <td>0</td>\n",
       "      <td>0</td>\n",
       "    </tr>\n",
       "    <tr>\n",
       "      <th>1217555</th>\n",
       "      <td>161666462</td>\n",
       "      <td>C</td>\n",
       "      <td>2024-05-08 01:35:02</td>\n",
       "      <td>855509</td>\n",
       "      <td>2605</td>\n",
       "      <td>855525</td>\n",
       "      <td>200139932</td>\n",
       "      <td>0</td>\n",
       "      <td>N</td>\n",
       "      <td>2024-05-08 01:35:02</td>\n",
       "      <td>0</td>\n",
       "      <td>0</td>\n",
       "    </tr>\n",
       "    <tr>\n",
       "      <th>1217556</th>\n",
       "      <td>161666463</td>\n",
       "      <td>C</td>\n",
       "      <td>2024-05-08 01:36:00</td>\n",
       "      <td>855526</td>\n",
       "      <td>3801</td>\n",
       "      <td>855525</td>\n",
       "      <td>200139933</td>\n",
       "      <td>0</td>\n",
       "      <td>N</td>\n",
       "      <td>2024-05-08 01:36:00</td>\n",
       "      <td>0</td>\n",
       "      <td>0</td>\n",
       "    </tr>\n",
       "    <tr>\n",
       "      <th>1217557</th>\n",
       "      <td>161666464</td>\n",
       "      <td>C</td>\n",
       "      <td>2024-05-08 01:36:18</td>\n",
       "      <td>874566</td>\n",
       "      <td>3117</td>\n",
       "      <td>855525</td>\n",
       "      <td>200139934</td>\n",
       "      <td>0</td>\n",
       "      <td>N</td>\n",
       "      <td>2024-05-08 01:36:18</td>\n",
       "      <td>0</td>\n",
       "      <td>0</td>\n",
       "    </tr>\n",
       "  </tbody>\n",
       "</table>\n",
       "<p>1217558 rows × 12 columns</p>\n",
       "</div>"
      ],
      "text/plain": [
       "                id status          created_at  chosen_user_id  question_id  \\\n",
       "0           771777      C 2023-04-28 12:27:49          849469          252   \n",
       "1           771800      C 2023-04-28 12:28:02          849446          244   \n",
       "2           771812      C 2023-04-28 12:28:09          849454          183   \n",
       "3           771828      C 2023-04-28 12:28:16          847375          101   \n",
       "4           771851      C 2023-04-28 12:28:26          849477          209   \n",
       "...            ...    ...                 ...             ...          ...   \n",
       "1217553  161666166      C 2024-05-07 11:29:07          945560         2614   \n",
       "1217554  161666461      C 2024-05-08 01:34:56          850774         1679   \n",
       "1217555  161666462      C 2024-05-08 01:35:02          855509         2605   \n",
       "1217556  161666463      C 2024-05-08 01:36:00          855526         3801   \n",
       "1217557  161666464      C 2024-05-08 01:36:18          874566         3117   \n",
       "\n",
       "         user_id  question_piece_id  has_read answer_status  \\\n",
       "0         849436             998458         0             N   \n",
       "1         849436             998459         0             N   \n",
       "2         849436             998460         1             N   \n",
       "3         849436             998461         0             N   \n",
       "4         849436             998462         1             N   \n",
       "...          ...                ...       ...           ...   \n",
       "1217553  1001607          190864020         1             N   \n",
       "1217554   855525          200139931         0             N   \n",
       "1217555   855525          200139932         0             N   \n",
       "1217556   855525          200139933         0             N   \n",
       "1217557   855525          200139934         0             N   \n",
       "\n",
       "          answer_updated_at  report_count  opened_times  \n",
       "0       2023-04-28 12:27:49             0             0  \n",
       "1       2023-04-28 12:28:02             0             0  \n",
       "2       2023-04-28 12:28:09             0             0  \n",
       "3       2023-04-28 12:28:16             0             0  \n",
       "4       2023-04-28 12:28:26             0             0  \n",
       "...                     ...           ...           ...  \n",
       "1217553 2024-05-07 11:29:07             0             0  \n",
       "1217554 2024-05-08 01:34:56             0             0  \n",
       "1217555 2024-05-08 01:35:02             0             0  \n",
       "1217556 2024-05-08 01:36:00             0             0  \n",
       "1217557 2024-05-08 01:36:18             0             0  \n",
       "\n",
       "[1217558 rows x 12 columns]"
      ]
     },
     "execution_count": 2,
     "metadata": {},
     "output_type": "execute_result"
    }
   ],
   "source": [
    "# 서비스 계정 키 경로 설정\n",
    "os.environ[\"GOOGLE_APPLICATION_CREDENTIALS\"] = r\"/home/eunyu/sprintda05-eunyu-a9946f7dea9c.json\"\n",
    "\n",
    "# GCS의 Parquet 파일 경로\n",
    "gcs_path = 'gs://final_project_enuyu/data/final_project/votes/accounts_userquestionrecord.parquet'\n",
    "\n",
    "# 데이터 불러오기\n",
    "userquestionrecord_df = pd.read_parquet(gcs_path, engine='pyarrow')\n",
    "userquestionrecord_df"
   ]
  },
  {
   "cell_type": "code",
   "execution_count": 3,
   "id": "187b82d3",
   "metadata": {},
   "outputs": [
    {
     "name": "stdout",
     "output_type": "stream",
     "text": [
      "<class 'pandas.core.frame.DataFrame'>\n",
      "RangeIndex: 1217558 entries, 0 to 1217557\n",
      "Data columns (total 12 columns):\n",
      " #   Column             Non-Null Count    Dtype         \n",
      "---  ------             --------------    -----         \n",
      " 0   id                 1217558 non-null  int64         \n",
      " 1   status             1217558 non-null  object        \n",
      " 2   created_at         1217558 non-null  datetime64[ns]\n",
      " 3   chosen_user_id     1217558 non-null  int64         \n",
      " 4   question_id        1217558 non-null  int64         \n",
      " 5   user_id            1217558 non-null  int64         \n",
      " 6   question_piece_id  1217558 non-null  int64         \n",
      " 7   has_read           1217558 non-null  int64         \n",
      " 8   answer_status      1217558 non-null  object        \n",
      " 9   answer_updated_at  1217558 non-null  datetime64[ns]\n",
      " 10  report_count       1217558 non-null  int64         \n",
      " 11  opened_times       1217558 non-null  int64         \n",
      "dtypes: datetime64[ns](2), int64(8), object(2)\n",
      "memory usage: 111.5+ MB\n"
     ]
    }
   ],
   "source": [
    "userquestionrecord_df.info()"
   ]
  },
  {
   "cell_type": "code",
   "execution_count": 4,
   "id": "67954a1a",
   "metadata": {},
   "outputs": [
    {
     "data": {
      "text/plain": [
       "['id',\n",
       " 'status',\n",
       " 'created_at',\n",
       " 'chosen_user_id',\n",
       " 'question_id',\n",
       " 'user_id',\n",
       " 'question_piece_id',\n",
       " 'has_read',\n",
       " 'answer_status',\n",
       " 'answer_updated_at',\n",
       " 'report_count',\n",
       " 'opened_times']"
      ]
     },
     "execution_count": 4,
     "metadata": {},
     "output_type": "execute_result"
    }
   ],
   "source": [
    "userquestionrecord_df.columns.tolist()"
   ]
  },
  {
   "cell_type": "code",
   "execution_count": 5,
   "id": "e4516d8d",
   "metadata": {},
   "outputs": [
    {
     "data": {
      "text/plain": [
       "id                            int64\n",
       "status                       object\n",
       "created_at           datetime64[ns]\n",
       "chosen_user_id                int64\n",
       "question_id                   int64\n",
       "user_id                       int64\n",
       "question_piece_id             int64\n",
       "has_read                      int64\n",
       "answer_status                object\n",
       "answer_updated_at    datetime64[ns]\n",
       "report_count                  int64\n",
       "opened_times                  int64\n",
       "dtype: object"
      ]
     },
     "execution_count": 5,
     "metadata": {},
     "output_type": "execute_result"
    }
   ],
   "source": [
    "userquestionrecord_df.dtypes"
   ]
  },
  {
   "cell_type": "code",
   "execution_count": 6,
   "id": "c091858f",
   "metadata": {},
   "outputs": [
    {
     "data": {
      "text/plain": [
       "id                   0\n",
       "status               0\n",
       "created_at           0\n",
       "chosen_user_id       0\n",
       "question_id          0\n",
       "user_id              0\n",
       "question_piece_id    0\n",
       "has_read             0\n",
       "answer_status        0\n",
       "answer_updated_at    0\n",
       "report_count         0\n",
       "opened_times         0\n",
       "dtype: int64"
      ]
     },
     "execution_count": 6,
     "metadata": {},
     "output_type": "execute_result"
    }
   ],
   "source": [
    "userquestionrecord_df.isnull().sum()"
   ]
  },
  {
   "cell_type": "code",
   "execution_count": 7,
   "id": "e21125d4",
   "metadata": {},
   "outputs": [
    {
     "data": {
      "text/html": [
       "<div>\n",
       "<style scoped>\n",
       "    .dataframe tbody tr th:only-of-type {\n",
       "        vertical-align: middle;\n",
       "    }\n",
       "\n",
       "    .dataframe tbody tr th {\n",
       "        vertical-align: top;\n",
       "    }\n",
       "\n",
       "    .dataframe thead th {\n",
       "        text-align: right;\n",
       "    }\n",
       "</style>\n",
       "<table border=\"1\" class=\"dataframe\">\n",
       "  <thead>\n",
       "    <tr style=\"text-align: right;\">\n",
       "      <th></th>\n",
       "      <th>count</th>\n",
       "      <th>unique</th>\n",
       "      <th>top</th>\n",
       "      <th>freq</th>\n",
       "      <th>mean</th>\n",
       "      <th>min</th>\n",
       "      <th>25%</th>\n",
       "      <th>50%</th>\n",
       "      <th>75%</th>\n",
       "      <th>max</th>\n",
       "      <th>std</th>\n",
       "    </tr>\n",
       "  </thead>\n",
       "  <tbody>\n",
       "    <tr>\n",
       "      <th>id</th>\n",
       "      <td>1217558.0</td>\n",
       "      <td>NaN</td>\n",
       "      <td>NaN</td>\n",
       "      <td>NaN</td>\n",
       "      <td>59572979.018822</td>\n",
       "      <td>771777.0</td>\n",
       "      <td>15539652.75</td>\n",
       "      <td>53026805.0</td>\n",
       "      <td>94809596.25</td>\n",
       "      <td>161666464.0</td>\n",
       "      <td>46081927.886242</td>\n",
       "    </tr>\n",
       "    <tr>\n",
       "      <th>status</th>\n",
       "      <td>1217558</td>\n",
       "      <td>3</td>\n",
       "      <td>C</td>\n",
       "      <td>1156322</td>\n",
       "      <td>NaN</td>\n",
       "      <td>NaN</td>\n",
       "      <td>NaN</td>\n",
       "      <td>NaN</td>\n",
       "      <td>NaN</td>\n",
       "      <td>NaN</td>\n",
       "      <td>NaN</td>\n",
       "    </tr>\n",
       "    <tr>\n",
       "      <th>created_at</th>\n",
       "      <td>1217558</td>\n",
       "      <td>NaN</td>\n",
       "      <td>NaN</td>\n",
       "      <td>NaN</td>\n",
       "      <td>2023-05-17 12:51:25.947102208</td>\n",
       "      <td>2023-04-28 12:27:49</td>\n",
       "      <td>2023-05-10 01:42:11</td>\n",
       "      <td>2023-05-15 15:43:01.500000</td>\n",
       "      <td>2023-05-22 11:01:03.750000128</td>\n",
       "      <td>2024-05-08 01:36:18</td>\n",
       "      <td>NaN</td>\n",
       "    </tr>\n",
       "    <tr>\n",
       "      <th>chosen_user_id</th>\n",
       "      <td>1217558.0</td>\n",
       "      <td>NaN</td>\n",
       "      <td>NaN</td>\n",
       "      <td>NaN</td>\n",
       "      <td>1092603.584565</td>\n",
       "      <td>833112.0</td>\n",
       "      <td>883692.0</td>\n",
       "      <td>1091749.0</td>\n",
       "      <td>1235698.0</td>\n",
       "      <td>1579422.0</td>\n",
       "      <td>202758.478202</td>\n",
       "    </tr>\n",
       "    <tr>\n",
       "      <th>question_id</th>\n",
       "      <td>1217558.0</td>\n",
       "      <td>NaN</td>\n",
       "      <td>NaN</td>\n",
       "      <td>NaN</td>\n",
       "      <td>684.389544</td>\n",
       "      <td>99.0</td>\n",
       "      <td>275.0</td>\n",
       "      <td>469.0</td>\n",
       "      <td>942.0</td>\n",
       "      <td>5133.0</td>\n",
       "      <td>625.039927</td>\n",
       "    </tr>\n",
       "    <tr>\n",
       "      <th>user_id</th>\n",
       "      <td>1217558.0</td>\n",
       "      <td>NaN</td>\n",
       "      <td>NaN</td>\n",
       "      <td>NaN</td>\n",
       "      <td>1105789.856924</td>\n",
       "      <td>838023.0</td>\n",
       "      <td>884619.0</td>\n",
       "      <td>1117537.0</td>\n",
       "      <td>1259186.0</td>\n",
       "      <td>1583358.0</td>\n",
       "      <td>206270.380697</td>\n",
       "    </tr>\n",
       "    <tr>\n",
       "      <th>question_piece_id</th>\n",
       "      <td>1217558.0</td>\n",
       "      <td>NaN</td>\n",
       "      <td>NaN</td>\n",
       "      <td>NaN</td>\n",
       "      <td>74132114.86932</td>\n",
       "      <td>998458.0</td>\n",
       "      <td>18541420.5</td>\n",
       "      <td>66168425.5</td>\n",
       "      <td>117673456.75</td>\n",
       "      <td>208351468.0</td>\n",
       "      <td>57572369.476189</td>\n",
       "    </tr>\n",
       "    <tr>\n",
       "      <th>has_read</th>\n",
       "      <td>1217558.0</td>\n",
       "      <td>NaN</td>\n",
       "      <td>NaN</td>\n",
       "      <td>NaN</td>\n",
       "      <td>0.555153</td>\n",
       "      <td>0.0</td>\n",
       "      <td>0.0</td>\n",
       "      <td>1.0</td>\n",
       "      <td>1.0</td>\n",
       "      <td>1.0</td>\n",
       "      <td>0.496949</td>\n",
       "    </tr>\n",
       "    <tr>\n",
       "      <th>answer_status</th>\n",
       "      <td>1217558</td>\n",
       "      <td>3</td>\n",
       "      <td>N</td>\n",
       "      <td>1097932</td>\n",
       "      <td>NaN</td>\n",
       "      <td>NaN</td>\n",
       "      <td>NaN</td>\n",
       "      <td>NaN</td>\n",
       "      <td>NaN</td>\n",
       "      <td>NaN</td>\n",
       "      <td>NaN</td>\n",
       "    </tr>\n",
       "    <tr>\n",
       "      <th>answer_updated_at</th>\n",
       "      <td>1217558</td>\n",
       "      <td>NaN</td>\n",
       "      <td>NaN</td>\n",
       "      <td>NaN</td>\n",
       "      <td>2023-05-17 13:44:38.920359680</td>\n",
       "      <td>2023-04-28 12:27:49</td>\n",
       "      <td>2023-05-10 02:38:44.750000128</td>\n",
       "      <td>2023-05-15 16:29:08.500000</td>\n",
       "      <td>2023-05-22 11:41:54.750000128</td>\n",
       "      <td>2024-05-08 01:36:18</td>\n",
       "      <td>NaN</td>\n",
       "    </tr>\n",
       "    <tr>\n",
       "      <th>report_count</th>\n",
       "      <td>1217558.0</td>\n",
       "      <td>NaN</td>\n",
       "      <td>NaN</td>\n",
       "      <td>NaN</td>\n",
       "      <td>0.000177</td>\n",
       "      <td>0.0</td>\n",
       "      <td>0.0</td>\n",
       "      <td>0.0</td>\n",
       "      <td>0.0</td>\n",
       "      <td>14.0</td>\n",
       "      <td>0.020405</td>\n",
       "    </tr>\n",
       "    <tr>\n",
       "      <th>opened_times</th>\n",
       "      <td>1217558.0</td>\n",
       "      <td>NaN</td>\n",
       "      <td>NaN</td>\n",
       "      <td>NaN</td>\n",
       "      <td>0.063325</td>\n",
       "      <td>0.0</td>\n",
       "      <td>0.0</td>\n",
       "      <td>0.0</td>\n",
       "      <td>0.0</td>\n",
       "      <td>3.0</td>\n",
       "      <td>0.301147</td>\n",
       "    </tr>\n",
       "  </tbody>\n",
       "</table>\n",
       "</div>"
      ],
      "text/plain": [
       "                       count unique  top     freq  \\\n",
       "id                 1217558.0    NaN  NaN      NaN   \n",
       "status               1217558      3    C  1156322   \n",
       "created_at           1217558    NaN  NaN      NaN   \n",
       "chosen_user_id     1217558.0    NaN  NaN      NaN   \n",
       "question_id        1217558.0    NaN  NaN      NaN   \n",
       "user_id            1217558.0    NaN  NaN      NaN   \n",
       "question_piece_id  1217558.0    NaN  NaN      NaN   \n",
       "has_read           1217558.0    NaN  NaN      NaN   \n",
       "answer_status        1217558      3    N  1097932   \n",
       "answer_updated_at    1217558    NaN  NaN      NaN   \n",
       "report_count       1217558.0    NaN  NaN      NaN   \n",
       "opened_times       1217558.0    NaN  NaN      NaN   \n",
       "\n",
       "                                            mean                  min  \\\n",
       "id                               59572979.018822             771777.0   \n",
       "status                                       NaN                  NaN   \n",
       "created_at         2023-05-17 12:51:25.947102208  2023-04-28 12:27:49   \n",
       "chosen_user_id                    1092603.584565             833112.0   \n",
       "question_id                           684.389544                 99.0   \n",
       "user_id                           1105789.856924             838023.0   \n",
       "question_piece_id                 74132114.86932             998458.0   \n",
       "has_read                                0.555153                  0.0   \n",
       "answer_status                                NaN                  NaN   \n",
       "answer_updated_at  2023-05-17 13:44:38.920359680  2023-04-28 12:27:49   \n",
       "report_count                            0.000177                  0.0   \n",
       "opened_times                            0.063325                  0.0   \n",
       "\n",
       "                                             25%                         50%  \\\n",
       "id                                   15539652.75                  53026805.0   \n",
       "status                                       NaN                         NaN   \n",
       "created_at                   2023-05-10 01:42:11  2023-05-15 15:43:01.500000   \n",
       "chosen_user_id                          883692.0                   1091749.0   \n",
       "question_id                                275.0                       469.0   \n",
       "user_id                                 884619.0                   1117537.0   \n",
       "question_piece_id                     18541420.5                  66168425.5   \n",
       "has_read                                     0.0                         1.0   \n",
       "answer_status                                NaN                         NaN   \n",
       "answer_updated_at  2023-05-10 02:38:44.750000128  2023-05-15 16:29:08.500000   \n",
       "report_count                                 0.0                         0.0   \n",
       "opened_times                                 0.0                         0.0   \n",
       "\n",
       "                                             75%                  max  \\\n",
       "id                                   94809596.25          161666464.0   \n",
       "status                                       NaN                  NaN   \n",
       "created_at         2023-05-22 11:01:03.750000128  2024-05-08 01:36:18   \n",
       "chosen_user_id                         1235698.0            1579422.0   \n",
       "question_id                                942.0               5133.0   \n",
       "user_id                                1259186.0            1583358.0   \n",
       "question_piece_id                   117673456.75          208351468.0   \n",
       "has_read                                     1.0                  1.0   \n",
       "answer_status                                NaN                  NaN   \n",
       "answer_updated_at  2023-05-22 11:41:54.750000128  2024-05-08 01:36:18   \n",
       "report_count                                 0.0                 14.0   \n",
       "opened_times                                 0.0                  3.0   \n",
       "\n",
       "                               std  \n",
       "id                 46081927.886242  \n",
       "status                         NaN  \n",
       "created_at                     NaN  \n",
       "chosen_user_id       202758.478202  \n",
       "question_id             625.039927  \n",
       "user_id              206270.380697  \n",
       "question_piece_id  57572369.476189  \n",
       "has_read                  0.496949  \n",
       "answer_status                  NaN  \n",
       "answer_updated_at              NaN  \n",
       "report_count              0.020405  \n",
       "opened_times              0.301147  "
      ]
     },
     "execution_count": 7,
     "metadata": {},
     "output_type": "execute_result"
    }
   ],
   "source": [
    "userquestionrecord_df.describe(include='all').T"
   ]
  },
  {
   "cell_type": "code",
   "execution_count": null,
   "id": "dcd53f41",
   "metadata": {},
   "outputs": [],
   "source": []
  },
  {
   "cell_type": "code",
   "execution_count": 8,
   "id": "bc3db3b7",
   "metadata": {},
   "outputs": [
    {
     "name": "stdout",
     "output_type": "stream",
     "text": [
      "\n",
      "'status' 고유값 수: 3\n",
      "status\n",
      "C    1156322\n",
      "I      60578\n",
      "B        658\n",
      "Name: count, dtype: int64\n"
     ]
    },
    {
     "data": {
      "image/png": "[encoded data removed]",
      "text/plain": [
       "<Figure size 600x300 with 1 Axes>"
      ]
     },
     "metadata": {},
     "output_type": "display_data"
    },
    {
     "name": "stdout",
     "output_type": "stream",
     "text": [
      "\n",
      "'answer_status' 고유값 수: 3\n",
      "answer_status\n",
      "N    1097932\n",
      "A     111761\n",
      "P       7865\n",
      "Name: count, dtype: int64\n"
     ]
    },
    {
     "data": {
      "image/png": "[encoded data removed]",
      "text/plain": [
       "<Figure size 600x300 with 1 Axes>"
      ]
     },
     "metadata": {},
     "output_type": "display_data"
    }
   ],
   "source": [
    "plt.rcParams['font.family'] = 'NanumGothic'\n",
    "\n",
    "\n",
    "# 한글 폰트 없을 경우 영문 기본 설정\n",
    "plt.rcParams['font.family'] = 'DejaVu Sans'\n",
    "plt.rcParams['axes.unicode_minus'] = False\n",
    "\n",
    "# object 또는 category 타입 컬럼 추출\n",
    "categorical_cols = userquestionrecord_df.select_dtypes(include=['object', 'category']).columns\n",
    "\n",
    "for col in categorical_cols:\n",
    "    print(f\"\\n'{col}' 고유값 수:\", userquestionrecord_df[col].nunique())\n",
    "    print(userquestionrecord_df[col].value_counts(dropna=False).head(5))  # 결측 포함 출력\n",
    "\n",
    "    # 시각화\n",
    "    plt.figure(figsize=(6, 3))\n",
    "    userquestionrecord_df[col].value_counts(dropna=False).head(10).plot(\n",
    "        kind='bar', color='skyblue'\n",
    "    )\n",
    "    plt.title(f\"{col} distribution\")  \n",
    "    plt.ylabel(\"Count\")\n",
    "    plt.xticks(rotation=45)\n",
    "    plt.tight_layout()\n",
    "    plt.show()\n"
   ]
  },
  {
   "cell_type": "markdown",
   "id": "7061d63a",
   "metadata": {},
   "source": [
    "C: Closed (닫힘) // I: Initial (초성 열림) // B: Blocked (차단)       \n",
    "                  \n",
    "N: Not Answered (미답변) // P: Private (비공개) // A: Available (공개)"
   ]
  },
  {
   "cell_type": "code",
   "execution_count": null,
   "id": "b0f18ca9",
   "metadata": {},
   "outputs": [],
   "source": []
  },
  {
   "cell_type": "markdown",
   "id": "529d8a73",
   "metadata": {},
   "source": [
    "#### 기간 필터링 (5월~7월) 일별 투표수"
   ]
  },
  {
   "cell_type": "code",
   "execution_count": null,
   "id": "7a2c7672",
   "metadata": {},
   "outputs": [],
   "source": []
  },
  {
   "cell_type": "code",
   "execution_count": 9,
   "id": "61fde3ad",
   "metadata": {},
   "outputs": [
    {
     "data": {
      "image/png": "[encoded data removed]",
      "text/plain": [
       "<Figure size 1000x500 with 1 Axes>"
      ]
     },
     "metadata": {},
     "output_type": "display_data"
    },
    {
     "data": {
      "text/plain": [
       "date\n",
       "2023-05-01    12274\n",
       "2023-05-02    13663\n",
       "2023-05-03    24718\n",
       "2023-05-04    22814\n",
       "2023-05-05    41509\n",
       "              ...  \n",
       "2023-07-27      101\n",
       "2023-07-28      121\n",
       "2023-07-29      125\n",
       "2023-07-30       61\n",
       "2023-07-31      119\n",
       "Length: 92, dtype: int64"
      ]
     },
     "execution_count": 9,
     "metadata": {},
     "output_type": "execute_result"
    }
   ],
   "source": [
    "import matplotlib.pyplot as plt\n",
    "import matplotlib.font_manager as fm\n",
    "import matplotlib as mpl\n",
    "\n",
    "# 정확한 경로의 폰트 불러오기\n",
    "font_path = \"/usr/share/fonts/truetype/nanum/NanumGothic.ttf\"\n",
    "font_prop = fm.FontProperties(fname=font_path)\n",
    "font_name = font_prop.get_name()  # -> 'NanumGothic' 확인\n",
    "\n",
    "# 폰트 설정 적용\n",
    "mpl.rcParams['font.family'] = font_name\n",
    "mpl.rcParams['axes.unicode_minus'] = False\n",
    "\n",
    "\n",
    "# 1. date 컬럼이 datetime 형식인지 확인\n",
    "userquestionrecord_df['date'] = pd.to_datetime(userquestionrecord_df['created_at'].dt.date)\n",
    "\n",
    "# 2. 날짜 필터링 (2023년 5월 1일 ~ 7월 31일)\n",
    "start_date = pd.to_datetime('2023-05-01')\n",
    "end_date = pd.to_datetime('2023-07-31')\n",
    "\n",
    "filtered_df = userquestionrecord_df[(userquestionrecord_df['date'] >= start_date) & (userquestionrecord_df['date'] <= end_date)]\n",
    "\n",
    "# 3. 일별 투표 수 계산\n",
    "daily_vote_count = filtered_df.groupby('date').size()\n",
    "\n",
    "# 4. 시각화\n",
    "plt.figure(figsize=(10, 5))\n",
    "daily_vote_count.plot(kind='line', title='[2023년 5월~7월] 일별 투표 수')\n",
    "plt.xlabel('날짜')\n",
    "plt.ylabel('투표 수')\n",
    "plt.xticks(rotation=45)\n",
    "plt.grid(True)\n",
    "plt.tight_layout()\n",
    "plt.show()\n",
    "\n",
    "\n",
    "daily_vote_count"
   ]
  },
  {
   "cell_type": "code",
   "execution_count": null,
   "id": "dd17218e",
   "metadata": {},
   "outputs": [],
   "source": []
  },
  {
   "cell_type": "markdown",
   "id": "91703c07",
   "metadata": {},
   "source": [
    "#### 유저당 평균 투표 수"
   ]
  },
  {
   "cell_type": "code",
   "execution_count": 10,
   "id": "d0113e35",
   "metadata": {},
   "outputs": [
    {
     "name": "stdout",
     "output_type": "stream",
     "text": [
      "평균: 251.09465869251392 중앙값: 190.0\n"
     ]
    },
    {
     "data": {
      "text/plain": [
       "<Axes: title={'center': '유저당 투표 수 분포'}, ylabel='Frequency'>"
      ]
     },
     "execution_count": 10,
     "metadata": {},
     "output_type": "execute_result"
    },
    {
     "data": {
      "image/png": "[encoded data removed]",
      "text/plain": [
       "<Figure size 640x480 with 1 Axes>"
      ]
     },
     "metadata": {},
     "output_type": "display_data"
    }
   ],
   "source": [
    "votes_per_user = userquestionrecord_df['user_id'].value_counts()\n",
    "print(\"평균:\", votes_per_user.mean(), \"중앙값:\", votes_per_user.median())\n",
    "votes_per_user.plot(kind='hist', bins=50, title='유저당 투표 수 분포')"
   ]
  },
  {
   "cell_type": "code",
   "execution_count": null,
   "id": "f1486b22",
   "metadata": {},
   "outputs": [],
   "source": []
  },
  {
   "cell_type": "markdown",
   "id": "4a0d726a",
   "metadata": {},
   "source": [
    "#### 질문별 투표 수"
   ]
  },
  {
   "cell_type": "code",
   "execution_count": 11,
   "id": "5869f507",
   "metadata": {},
   "outputs": [
    {
     "data": {
      "text/plain": [
       "question_id\n",
       "170    1996\n",
       "290    1986\n",
       "169    1984\n",
       "211    1974\n",
       "310    1956\n",
       "186    1951\n",
       "244    1946\n",
       "102    1946\n",
       "309    1939\n",
       "152    1933\n",
       "Name: count, dtype: int64"
      ]
     },
     "execution_count": 11,
     "metadata": {},
     "output_type": "execute_result"
    },
    {
     "data": {
      "image/png": "[encoded data removed]",
      "text/plain": [
       "<Figure size 640x480 with 1 Axes>"
      ]
     },
     "metadata": {},
     "output_type": "display_data"
    }
   ],
   "source": [
    "votes_per_question = userquestionrecord_df['question_id'].value_counts()\n",
    "votes_per_question.head(10).plot(kind='bar', title='투표 수 상위 10개 질문')\n",
    "\n",
    "plt.xticks(rotation=0)\n",
    "\n",
    "votes_per_question.head(10)"
   ]
  },
  {
   "cell_type": "code",
   "execution_count": null,
   "id": "6b1df6c7",
   "metadata": {},
   "outputs": [],
   "source": []
  },
  {
   "cell_type": "markdown",
   "id": "f0c68a1d",
   "metadata": {},
   "source": [
    "- 170: 처음 보는 사람과 가장 빨리 친해질 것 같은 사람은?\n",
    "- 290: 모든 사람과 잘 지낼 것 같은 사람은?\n",
    "- 169: 축제에서 공연을 제일 잘 할거 같은 사람은?\n",
    "- 211: 앞으로의 인생을 가장 재미있게 살것 같은 사람은?\n",
    "- 310: 반려동물과 가장 잘 지낼거 같은 사람은?\t\n",
    "- 186: vote\n",
    "- 244: 대학교에서 학생회장할 것 같은 사람은?\n",
    "- 102: 여기서 제일 특이한 친구는?\t\n",
    "- 309:  흰티에 청바지가 잘 어울릴것 같은 사람은?\n",
    "- 152: 숨겨진 댄싱 머신이라고 생각하는 사람은?"
   ]
  },
  {
   "cell_type": "code",
   "execution_count": null,
   "id": "9a96d166",
   "metadata": {},
   "outputs": [],
   "source": []
  },
  {
   "cell_type": "code",
   "execution_count": 4,
   "id": "c0bb1bc2",
   "metadata": {},
   "outputs": [],
   "source": [
    "question_df = pd.read_parquet(\"gs://final_project_enuyu/data/final_project/votes/polls_question.parquet\")"
   ]
  },
  {
   "cell_type": "code",
   "execution_count": 5,
   "id": "135e7e7d",
   "metadata": {},
   "outputs": [
    {
     "data": {
      "text/html": [
       "<div>\n",
       "<style scoped>\n",
       "    .dataframe tbody tr th:only-of-type {\n",
       "        vertical-align: middle;\n",
       "    }\n",
       "\n",
       "    .dataframe tbody tr th {\n",
       "        vertical-align: top;\n",
       "    }\n",
       "\n",
       "    .dataframe thead th {\n",
       "        text-align: right;\n",
       "    }\n",
       "</style>\n",
       "<table border=\"1\" class=\"dataframe\">\n",
       "  <thead>\n",
       "    <tr style=\"text-align: right;\">\n",
       "      <th></th>\n",
       "      <th>question_id</th>\n",
       "      <th>vote_count</th>\n",
       "      <th>question_text</th>\n",
       "      <th>created_at</th>\n",
       "    </tr>\n",
       "  </thead>\n",
       "  <tbody>\n",
       "    <tr>\n",
       "      <th>0</th>\n",
       "      <td>170</td>\n",
       "      <td>1996</td>\n",
       "      <td>처음 보는 사람과 가장 빨리 친해질 것 같은 사람은?</td>\n",
       "      <td>2023-03-31 15:23:30</td>\n",
       "    </tr>\n",
       "    <tr>\n",
       "      <th>1</th>\n",
       "      <td>290</td>\n",
       "      <td>1986</td>\n",
       "      <td>모든 사람과 잘 지낼 것 같은 사람은?</td>\n",
       "      <td>2023-04-01 11:09:35</td>\n",
       "    </tr>\n",
       "    <tr>\n",
       "      <th>2</th>\n",
       "      <td>169</td>\n",
       "      <td>1984</td>\n",
       "      <td>축제에서 공연을 제일 잘 할거 같은 사람은?</td>\n",
       "      <td>2023-03-31 15:23:29</td>\n",
       "    </tr>\n",
       "    <tr>\n",
       "      <th>3</th>\n",
       "      <td>211</td>\n",
       "      <td>1974</td>\n",
       "      <td>앞으로의 인생을 가장 재미있게 살것 같은 사람은?</td>\n",
       "      <td>2023-04-01 11:09:20</td>\n",
       "    </tr>\n",
       "    <tr>\n",
       "      <th>4</th>\n",
       "      <td>310</td>\n",
       "      <td>1956</td>\n",
       "      <td>반려동물과 가장 잘 지낼거 같은 사람은?</td>\n",
       "      <td>2023-04-01 11:09:39</td>\n",
       "    </tr>\n",
       "    <tr>\n",
       "      <th>5</th>\n",
       "      <td>186</td>\n",
       "      <td>1951</td>\n",
       "      <td>vote</td>\n",
       "      <td>2023-04-01 11:09:15</td>\n",
       "    </tr>\n",
       "    <tr>\n",
       "      <th>6</th>\n",
       "      <td>244</td>\n",
       "      <td>1946</td>\n",
       "      <td>대학교에서 학생회장할 것 같은 사람은?</td>\n",
       "      <td>2023-04-01 11:09:26</td>\n",
       "    </tr>\n",
       "    <tr>\n",
       "      <th>7</th>\n",
       "      <td>102</td>\n",
       "      <td>1946</td>\n",
       "      <td>여기서 제일 특이한 친구는?</td>\n",
       "      <td>2023-03-31 15:22:54</td>\n",
       "    </tr>\n",
       "    <tr>\n",
       "      <th>8</th>\n",
       "      <td>309</td>\n",
       "      <td>1939</td>\n",
       "      <td>흰티에 청바지가 잘 어울릴것 같은 사람은?</td>\n",
       "      <td>2023-04-01 11:09:38</td>\n",
       "    </tr>\n",
       "    <tr>\n",
       "      <th>9</th>\n",
       "      <td>152</td>\n",
       "      <td>1933</td>\n",
       "      <td>숨겨진 댄싱 머신이라고 생각하는 사람은?</td>\n",
       "      <td>2023-03-31 15:23:19</td>\n",
       "    </tr>\n",
       "  </tbody>\n",
       "</table>\n",
       "</div>"
      ],
      "text/plain": [
       "   question_id  vote_count                  question_text          created_at\n",
       "0          170        1996  처음 보는 사람과 가장 빨리 친해질 것 같은 사람은? 2023-03-31 15:23:30\n",
       "1          290        1986          모든 사람과 잘 지낼 것 같은 사람은? 2023-04-01 11:09:35\n",
       "2          169        1984       축제에서 공연을 제일 잘 할거 같은 사람은? 2023-03-31 15:23:29\n",
       "3          211        1974    앞으로의 인생을 가장 재미있게 살것 같은 사람은? 2023-04-01 11:09:20\n",
       "4          310        1956         반려동물과 가장 잘 지낼거 같은 사람은? 2023-04-01 11:09:39\n",
       "5          186        1951                           vote 2023-04-01 11:09:15\n",
       "6          244        1946          대학교에서 학생회장할 것 같은 사람은? 2023-04-01 11:09:26\n",
       "7          102        1946                여기서 제일 특이한 친구는? 2023-03-31 15:22:54\n",
       "8          309        1939        흰티에 청바지가 잘 어울릴것 같은 사람은? 2023-04-01 11:09:38\n",
       "9          152        1933         숨겨진 댄싱 머신이라고 생각하는 사람은? 2023-03-31 15:23:19"
      ]
     },
     "metadata": {},
     "output_type": "display_data"
    }
   ],
   "source": [
    "# 질문별 투표 수\n",
    "question_vote_counts = userquestionrecord_df['question_id'].value_counts().reset_index()\n",
    "question_vote_counts.columns = ['question_id', 'vote_count']\n",
    "\n",
    "# 질문 텍스트 붙이기 (question_df가 이미 로드되어 있다고 가정)\n",
    "question_vote_counts = question_vote_counts.merge(\n",
    "    question_df.rename(columns={'id': 'question_id'}),\n",
    "    on='question_id', how='left'\n",
    ")\n",
    "\n",
    "# 상위 10개 출력\n",
    "top_voted_questions = question_vote_counts.head(10)\n",
    "display(top_voted_questions)"
   ]
  },
  {
   "cell_type": "code",
   "execution_count": 6,
   "id": "d36dd256",
   "metadata": {},
   "outputs": [
    {
     "data": {
      "image/png": "[encoded data removed]",
      "text/plain": [
       "<Figure size 1000x600 with 1 Axes>"
      ]
     },
     "metadata": {},
     "output_type": "display_data"
    }
   ],
   "source": [
    "# 질문별 투표 수 집계\n",
    "question_vote_counts = userquestionrecord_df['question_id'].value_counts().reset_index()\n",
    "question_vote_counts.columns = ['question_id', 'vote_count']\n",
    "\n",
    "# 질문 텍스트 병합\n",
    "question_vote_counts = question_vote_counts.merge(\n",
    "    question_df.rename(columns={'id': 'question_id'}),\n",
    "    on='question_id', how='left'\n",
    ")\n",
    "\n",
    "# 상위 10개 출력\n",
    "top_voted_questions = question_vote_counts.head(10)\n",
    "\n",
    "# 시각화\n",
    "\n",
    "\n",
    "plt.figure(figsize=(10, 6))\n",
    "sns.barplot(data=top_voted_questions, y='question_text', x='vote_count')\n",
    "plt.title('질문별 투표 수 Top 10')\n",
    "plt.xlabel('투표 수')\n",
    "plt.ylabel('질문 내용')\n",
    "plt.tight_layout()\n",
    "plt.show()\n"
   ]
  },
  {
   "cell_type": "code",
   "execution_count": null,
   "id": "75137342",
   "metadata": {},
   "outputs": [],
   "source": []
  },
  {
   "cell_type": "markdown",
   "id": "bf6e988c",
   "metadata": {},
   "source": [
    "#### 투표율이 높고 투표 건수도 많은 질문"
   ]
  },
  {
   "cell_type": "code",
   "execution_count": 8,
   "id": "7187c89a",
   "metadata": {},
   "outputs": [],
   "source": [
    "questionpiece_df = pd.read_parquet(\"gs://final_project_enuyu/data/final_project/votes/polls_questionpiece.parquet\")"
   ]
  },
  {
   "cell_type": "code",
   "execution_count": 13,
   "id": "d9ff5f6e",
   "metadata": {},
   "outputs": [
    {
     "data": {
      "text/html": [
       "<div>\n",
       "<style scoped>\n",
       "    .dataframe tbody tr th:only-of-type {\n",
       "        vertical-align: middle;\n",
       "    }\n",
       "\n",
       "    .dataframe tbody tr th {\n",
       "        vertical-align: top;\n",
       "    }\n",
       "\n",
       "    .dataframe thead th {\n",
       "        text-align: right;\n",
       "    }\n",
       "</style>\n",
       "<table border=\"1\" class=\"dataframe\">\n",
       "  <thead>\n",
       "    <tr style=\"text-align: right;\">\n",
       "      <th></th>\n",
       "      <th>question_id</th>\n",
       "      <th>vote_rate</th>\n",
       "      <th>total_count</th>\n",
       "      <th>vote_count</th>\n",
       "      <th>composite_score</th>\n",
       "      <th>question_text</th>\n",
       "    </tr>\n",
       "  </thead>\n",
       "  <tbody>\n",
       "    <tr>\n",
       "      <th>71</th>\n",
       "      <td>170</td>\n",
       "      <td>0.984236</td>\n",
       "      <td>2030</td>\n",
       "      <td>1998</td>\n",
       "      <td>7.496224</td>\n",
       "      <td>처음 보는 사람과 가장 빨리 친해질 것 같은 사람은?</td>\n",
       "    </tr>\n",
       "    <tr>\n",
       "      <th>53</th>\n",
       "      <td>152</td>\n",
       "      <td>0.988753</td>\n",
       "      <td>1956</td>\n",
       "      <td>1934</td>\n",
       "      <td>7.493922</td>\n",
       "      <td>숨겨진 댄싱 머신이라고 생각하는 사람은?</td>\n",
       "    </tr>\n",
       "    <tr>\n",
       "      <th>211</th>\n",
       "      <td>310</td>\n",
       "      <td>0.986398</td>\n",
       "      <td>1985</td>\n",
       "      <td>1958</td>\n",
       "      <td>7.490586</td>\n",
       "      <td>반려동물과 가장 잘 지낼거 같은 사람은?</td>\n",
       "    </tr>\n",
       "    <tr>\n",
       "      <th>210</th>\n",
       "      <td>309</td>\n",
       "      <td>0.987774</td>\n",
       "      <td>1963</td>\n",
       "      <td>1939</td>\n",
       "      <td>7.490031</td>\n",
       "      <td>흰티에 청바지가 잘 어울릴것 같은 사람은?</td>\n",
       "    </tr>\n",
       "    <tr>\n",
       "      <th>70</th>\n",
       "      <td>169</td>\n",
       "      <td>0.984135</td>\n",
       "      <td>2017</td>\n",
       "      <td>1985</td>\n",
       "      <td>7.489131</td>\n",
       "      <td>축제에서 공연을 제일 잘 할거 같은 사람은?</td>\n",
       "    </tr>\n",
       "    <tr>\n",
       "      <th>191</th>\n",
       "      <td>290</td>\n",
       "      <td>0.983177</td>\n",
       "      <td>2021</td>\n",
       "      <td>1987</td>\n",
       "      <td>7.483786</td>\n",
       "      <td>모든 사람과 잘 지낼 것 같은 사람은?</td>\n",
       "    </tr>\n",
       "    <tr>\n",
       "      <th>3</th>\n",
       "      <td>102</td>\n",
       "      <td>0.985316</td>\n",
       "      <td>1975</td>\n",
       "      <td>1946</td>\n",
       "      <td>7.477399</td>\n",
       "      <td>여기서 제일 특이한 친구는?</td>\n",
       "    </tr>\n",
       "    <tr>\n",
       "      <th>145</th>\n",
       "      <td>244</td>\n",
       "      <td>0.985316</td>\n",
       "      <td>1975</td>\n",
       "      <td>1946</td>\n",
       "      <td>7.477399</td>\n",
       "      <td>대학교에서 학생회장할 것 같은 사람은?</td>\n",
       "    </tr>\n",
       "    <tr>\n",
       "      <th>112</th>\n",
       "      <td>211</td>\n",
       "      <td>0.983076</td>\n",
       "      <td>2009</td>\n",
       "      <td>1975</td>\n",
       "      <td>7.477169</td>\n",
       "      <td>앞으로의 인생을 가장 재미있게 살것 같은 사람은?</td>\n",
       "    </tr>\n",
       "    <tr>\n",
       "      <th>72</th>\n",
       "      <td>171</td>\n",
       "      <td>0.987026</td>\n",
       "      <td>1927</td>\n",
       "      <td>1902</td>\n",
       "      <td>7.466104</td>\n",
       "      <td>틱톡 팔로워가 가장 많을 것 같은 사람</td>\n",
       "    </tr>\n",
       "  </tbody>\n",
       "</table>\n",
       "</div>"
      ],
      "text/plain": [
       "     question_id  vote_rate  total_count  vote_count  composite_score  \\\n",
       "71           170   0.984236         2030        1998         7.496224   \n",
       "53           152   0.988753         1956        1934         7.493922   \n",
       "211          310   0.986398         1985        1958         7.490586   \n",
       "210          309   0.987774         1963        1939         7.490031   \n",
       "70           169   0.984135         2017        1985         7.489131   \n",
       "191          290   0.983177         2021        1987         7.483786   \n",
       "3            102   0.985316         1975        1946         7.477399   \n",
       "145          244   0.985316         1975        1946         7.477399   \n",
       "112          211   0.983076         2009        1975         7.477169   \n",
       "72           171   0.987026         1927        1902         7.466104   \n",
       "\n",
       "                     question_text  \n",
       "71   처음 보는 사람과 가장 빨리 친해질 것 같은 사람은?  \n",
       "53          숨겨진 댄싱 머신이라고 생각하는 사람은?  \n",
       "211         반려동물과 가장 잘 지낼거 같은 사람은?  \n",
       "210        흰티에 청바지가 잘 어울릴것 같은 사람은?  \n",
       "70        축제에서 공연을 제일 잘 할거 같은 사람은?  \n",
       "191          모든 사람과 잘 지낼 것 같은 사람은?  \n",
       "3                  여기서 제일 특이한 친구는?  \n",
       "145          대학교에서 학생회장할 것 같은 사람은?  \n",
       "112    앞으로의 인생을 가장 재미있게 살것 같은 사람은?  \n",
       "72           틱톡 팔로워가 가장 많을 것 같은 사람  "
      ]
     },
     "metadata": {},
     "output_type": "display_data"
    }
   ],
   "source": [
    "# total_count가 0인 경우 대비\n",
    "question_vote_rate = question_vote_rate[question_vote_rate['total_count'] > 0].copy()\n",
    "\n",
    "# 복합 점수 계산\n",
    "question_vote_rate['composite_score'] = question_vote_rate['vote_rate'] * np.log1p(question_vote_rate['total_count'])\n",
    "\n",
    "# 상위 10개 추출\n",
    "top_combined = question_vote_rate.sort_values(by='composite_score', ascending=False).head(10)\n",
    "display(top_combined[['question_id', 'vote_rate', 'total_count', 'vote_count', 'composite_score', 'question_text']])"
   ]
  },
  {
   "cell_type": "markdown",
   "id": "e799a45a",
   "metadata": {},
   "source": [
    "많이 노출되고도 참여율이 매우 높은 고품질 질문"
   ]
  },
  {
   "cell_type": "code",
   "execution_count": null,
   "id": "4ffc6d7c",
   "metadata": {},
   "outputs": [],
   "source": []
  },
  {
   "cell_type": "markdown",
   "id": "1dd364cf",
   "metadata": {},
   "source": [
    "#### 시간대별 투표"
   ]
  },
  {
   "cell_type": "code",
   "execution_count": 12,
   "id": "11ede1c9",
   "metadata": {},
   "outputs": [
    {
     "data": {
      "image/png": "[encoded data removed]",
      "text/plain": [
       "<Figure size 1000x500 with 1 Axes>"
      ]
     },
     "metadata": {},
     "output_type": "display_data"
    }
   ],
   "source": [
    "userquestionrecord_df['hour'] = userquestionrecord_df['created_at'].dt.hour\n",
    "\n",
    "# 시각화\n",
    "plt.figure(figsize=(10, 5))\n",
    "userquestionrecord_df['hour'].value_counts().sort_index().plot(kind='bar', title='시간대별 투표 수')\n",
    "plt.xlabel('시간대 (hour)')\n",
    "plt.ylabel('투표 수')\n",
    "plt.xticks(rotation=0)  \n",
    "plt.tight_layout()\n",
    "plt.show()\n"
   ]
  },
  {
   "cell_type": "code",
   "execution_count": null,
   "id": "caf2a506",
   "metadata": {},
   "outputs": [],
   "source": []
  },
  {
   "cell_type": "code",
   "execution_count": null,
   "id": "31dbac36",
   "metadata": {},
   "outputs": [],
   "source": []
  },
  {
   "cell_type": "markdown",
   "id": "068dfec5",
   "metadata": {},
   "source": [
    "#### status == C(닫힘) vs status == I(초성 열림) 그룹의 투표 수 비교"
   ]
  },
  {
   "cell_type": "code",
   "execution_count": 13,
   "id": "c362e8d5",
   "metadata": {},
   "outputs": [
    {
     "name": "stdout",
     "output_type": "stream",
     "text": [
      "status\n",
      "C    1156322\n",
      "I      60578\n",
      "Name: count, dtype: int64\n"
     ]
    },
    {
     "data": {
      "image/png": "[encoded data removed]",
      "text/plain": [
       "<Figure size 640x480 with 1 Axes>"
      ]
     },
     "metadata": {},
     "output_type": "display_data"
    }
   ],
   "source": [
    "# status별 투표 수 집계\n",
    "status_votes = userquestionrecord_df[userquestionrecord_df['status'].isin(['C', 'I'])]['status'].value_counts()\n",
    "print(status_votes)\n",
    "\n",
    "# 시각화\n",
    "status_votes.plot(kind='bar', title='status별 투표 수 비교', xlabel='status', ylabel='투표 수', rot=0)\n",
    "plt.show()"
   ]
  },
  {
   "cell_type": "markdown",
   "id": "f71ee574",
   "metadata": {},
   "source": [
    "#### answer_status == A(공개) vs P(비공개)) 질문에 대한 투표 수 차이"
   ]
  },
  {
   "cell_type": "code",
   "execution_count": 14,
   "id": "7c5d7584",
   "metadata": {},
   "outputs": [
    {
     "name": "stdout",
     "output_type": "stream",
     "text": [
      "answer_status\n",
      "A    111761\n",
      "P      7865\n",
      "Name: count, dtype: int64\n"
     ]
    },
    {
     "data": {
      "image/png": "[encoded data removed]",
      "text/plain": [
       "<Figure size 640x480 with 1 Axes>"
      ]
     },
     "metadata": {},
     "output_type": "display_data"
    }
   ],
   "source": [
    "# answer_status 필터링 후 투표 수 집계\n",
    "answer_status_votes = userquestionrecord_df[userquestionrecord_df['answer_status'].isin(['A', 'P'])]['answer_status'].value_counts()\n",
    "print(answer_status_votes)\n",
    "\n",
    "# 시각화\n",
    "answer_status_votes.plot(kind='bar', title='답장 상태 별 투표 수 비교', xlabel='answer_status', ylabel='투표 수', rot=0)\n",
    "plt.show()"
   ]
  },
  {
   "cell_type": "markdown",
   "id": "17448e79",
   "metadata": {},
   "source": [
    "#### 피크 시간대(12~14시) vs 비피크 시간대의 평균 질문당 투표 수 비교"
   ]
  },
  {
   "cell_type": "code",
   "execution_count": 15,
   "id": "71138ffa",
   "metadata": {},
   "outputs": [
    {
     "name": "stdout",
     "output_type": "stream",
     "text": [
      "time_group\n",
      "비피크    213.963017\n",
      "피크     349.489270\n",
      "Name: vote_count, dtype: float64\n"
     ]
    },
    {
     "data": {
      "image/png": "[encoded data removed]",
      "text/plain": [
       "<Figure size 640x480 with 1 Axes>"
      ]
     },
     "metadata": {},
     "output_type": "display_data"
    }
   ],
   "source": [
    "# 질문 생성 시점 기준으로 피크/비피크 분류\n",
    "# 1. question 테이블에서 질문별 created_at 가져오기\n",
    "question_created_df = userquestionrecord_df.groupby('question_id')['created_at'].min().reset_index()\n",
    "\n",
    "# 2. 생성 시간에서 hour 추출\n",
    "question_created_df['hour'] = question_created_df['created_at'].dt.hour\n",
    "\n",
    "# 3. 피크/비피크 분류\n",
    "question_created_df['time_group'] = question_created_df['hour'].apply(\n",
    "    lambda x: '피크' if 12 <= x <= 14 else '비피크'\n",
    ")\n",
    "\n",
    "# 4. 각 question_id의 투표 수 집계\n",
    "votes_per_question = userquestionrecord_df['question_id'].value_counts().reset_index()\n",
    "votes_per_question.columns = ['question_id', 'vote_count']\n",
    "\n",
    "# 5. 병합\n",
    "merged = pd.merge(question_created_df, votes_per_question, on='question_id')\n",
    "\n",
    "# 6. 그룹별 평균 투표 수\n",
    "avg_votes = merged.groupby('time_group')['vote_count'].mean()\n",
    "print(avg_votes)\n",
    "\n",
    "# 7. 시각화\n",
    "avg_votes.plot(kind='bar', title='피크 vs 비피크 시간대 질문의 평균 투표 수', ylabel='평균 투표 수', rot=0)\n",
    "plt.show()"
   ]
  },
  {
   "cell_type": "code",
   "execution_count": null,
   "id": "a09d44dd",
   "metadata": {},
   "outputs": [],
   "source": []
  },
  {
   "cell_type": "markdown",
   "id": "0fdc32a8",
   "metadata": {},
   "source": [
    "#### 초성을 여는 질문"
   ]
  },
  {
   "cell_type": "code",
   "execution_count": 16,
   "id": "a3d4b118",
   "metadata": {},
   "outputs": [
    {
     "name": "stdout",
     "output_type": "stream",
     "text": [
      "[297 209 257 245 253]\n"
     ]
    }
   ],
   "source": [
    "initial_questions = userquestionrecord_df[userquestionrecord_df['status'] == 'I']\n",
    "sample_initial_q_ids = initial_questions['question_id'].unique()[:5]\n",
    "print(sample_initial_q_ids)"
   ]
  },
  {
   "cell_type": "markdown",
   "id": "875b93ca",
   "metadata": {},
   "source": [
    "- 297: 공과사를 가장 구분 잘할거 같은 사람은?\t\n",
    "- 209: 항상 좋은 냄새가 나는 사람은?\n",
    "- 257: 가장 친해지고 싶었던 사람은?\n",
    "- 245: 매일 보고 싶은 사람은?\n",
    "- 253: 생각이 가장 깊은 사람은?\t"
   ]
  },
  {
   "cell_type": "code",
   "execution_count": null,
   "id": "59e8a084",
   "metadata": {},
   "outputs": [],
   "source": []
  },
  {
   "cell_type": "markdown",
   "id": "af7b4235",
   "metadata": {},
   "source": [
    "#### 읽지 않고 투표만 한 경우"
   ]
  },
  {
   "cell_type": "code",
   "execution_count": null,
   "id": "257435e8",
   "metadata": {},
   "outputs": [],
   "source": []
  },
  {
   "cell_type": "code",
   "execution_count": 30,
   "id": "c5d057f3",
   "metadata": {},
   "outputs": [
    {
     "name": "stdout",
     "output_type": "stream",
     "text": [
      "열어보지 않았는데 읽은 것으로 처리된 건수: 618,901건\n"
     ]
    }
   ],
   "source": [
    "# 조건: 열람 횟수 0인데 읽음 처리된 경우\n",
    "anomaly_df = userquestionrecord_df[(userquestionrecord_df[\"opened_times\"] == 0) & (userquestionrecord_df[\"has_read\"] == 1)]\n",
    "\n",
    "# 건수 확인\n",
    "print(f\"열어보지 않았는데 읽은 것으로 처리된 건수: {len(anomaly_df):,}건\")"
   ]
  },
  {
   "cell_type": "code",
   "execution_count": 31,
   "id": "2938ecf9",
   "metadata": {},
   "outputs": [
    {
     "name": "stdout",
     "output_type": "stream",
     "text": [
      "전체 중 이런 케이스 비율: 50.83%\n"
     ]
    }
   ],
   "source": [
    "total_rows = len(userquestionrecord_df)\n",
    "anomaly_rate = len(anomaly_df) / total_rows * 100\n",
    "print(f\"전체 중 이런 케이스 비율: {anomaly_rate:.2f}%\")"
   ]
  },
  {
   "cell_type": "markdown",
   "id": "d068d6bc",
   "metadata": {},
   "source": [
    "has_read 플래그는 단순히 \"질문이 자동으로 화면에 노출된 상태\"를 의미할 수 있으며,              \n",
    "실제 유저가 주도적으로 열람한 경우(opened_times > 0) 와는 구분할 필요가 있다."
   ]
  },
  {
   "cell_type": "code",
   "execution_count": null,
   "id": "d7198831",
   "metadata": {},
   "outputs": [],
   "source": []
  },
  {
   "cell_type": "code",
   "execution_count": 32,
   "id": "00d50cee",
   "metadata": {},
   "outputs": [],
   "source": [
    "# 진짜 읽은 사람 = 읽음 표시가 있으면서 실제로 열어본 기록이 있음\n",
    "userquestionrecord_df[\"is_truly_read\"] = (userquestionrecord_df[\"has_read\"] == 1) & (userquestionrecord_df[\"opened_times\"] > 0)"
   ]
  },
  {
   "cell_type": "code",
   "execution_count": 33,
   "id": "f6482ea4",
   "metadata": {},
   "outputs": [],
   "source": [
    "# 투표 여부 정의 (기존대로 chosen_user_id 기준)\n",
    "userquestionrecord_df[\"is_voted\"] = userquestionrecord_df[\"chosen_user_id\"].notnull()\n",
    "\n",
    "# 무성의 투표 = 읽지 않았고 투표만 함\n",
    "userquestionrecord_df[\"is_careless_vote_v2\"] = (~userquestionrecord_df[\"is_truly_read\"]) & (userquestionrecord_df[\"is_voted\"])\n"
   ]
  },
  {
   "cell_type": "code",
   "execution_count": 34,
   "id": "1c8f9d0a",
   "metadata": {},
   "outputs": [
    {
     "name": "stdout",
     "output_type": "stream",
     "text": [
      "진짜 안 읽고 투표한 건수: 1,160,528건\n",
      "진짜 안 읽고 투표한 비율: 95.32%\n"
     ]
    }
   ],
   "source": [
    "careless_votes_v2 = userquestionrecord_df[\"is_careless_vote_v2\"].sum()\n",
    "total_votes = userquestionrecord_df[\"is_voted\"].sum()\n",
    "careless_rate_v2 = careless_votes_v2 / total_votes * 100\n",
    "\n",
    "print(f\"진짜 안 읽고 투표한 건수: {careless_votes_v2:,}건\")\n",
    "print(f\"진짜 안 읽고 투표한 비율: {careless_rate_v2:.2f}%\")\n"
   ]
  },
  {
   "cell_type": "code",
   "execution_count": 35,
   "id": "9e78e77d",
   "metadata": {},
   "outputs": [
    {
     "name": "stdout",
     "output_type": "stream",
     "text": [
      "진짜 무성의 투표한 적 있는 유저 비율: 99.96%\n"
     ]
    }
   ],
   "source": [
    "careless_user_df_v2 = userquestionrecord_df.groupby(\"user_id\")[\"is_careless_vote_v2\"].max().reset_index()\n",
    "careless_user_rate_v2 = careless_user_df_v2[\"is_careless_vote_v2\"].mean() * 100\n",
    "\n",
    "print(f\"진짜 무성의 투표한 적 있는 유저 비율: {careless_user_rate_v2:.2f}%\")\n"
   ]
  },
  {
   "cell_type": "markdown",
   "id": "da74622d",
   "metadata": {},
   "source": [
    "서비스 구조상 질문이 자동 노출되거나, 사용자 컨텍스트 없이도 쉽게 투표할 수 있도록 설계되어 있음을 의미"
   ]
  },
  {
   "cell_type": "markdown",
   "id": "e1d9ac39",
   "metadata": {},
   "source": [
    "#### 실제로 읽고 투표함"
   ]
  },
  {
   "cell_type": "code",
   "execution_count": 36,
   "id": "535b3d07",
   "metadata": {},
   "outputs": [],
   "source": [
    "# is_truly_read와 is_voted가 모두 True\n",
    "userquestionrecord_df[\"is_truly_read_vote\"] = (\n",
    "    (userquestionrecord_df[\"has_read\"] == 1) &\n",
    "    (userquestionrecord_df[\"opened_times\"] > 0) &\n",
    "    (userquestionrecord_df[\"chosen_user_id\"].notnull())\n",
    ")\n"
   ]
  },
  {
   "cell_type": "code",
   "execution_count": 37,
   "id": "636d6aeb",
   "metadata": {},
   "outputs": [
    {
     "name": "stdout",
     "output_type": "stream",
     "text": [
      "실제 읽고 투표한 건수: 57,030건\n",
      "실제 읽고 투표한 비율: 4.68%\n"
     ]
    }
   ],
   "source": [
    "truly_read_votes = userquestionrecord_df[\"is_truly_read_vote\"].sum()\n",
    "total_votes = userquestionrecord_df[\"chosen_user_id\"].notnull().sum()\n",
    "truly_read_vote_rate = truly_read_votes / total_votes * 100\n",
    "\n",
    "print(f\"실제 읽고 투표한 건수: {truly_read_votes:,}건\")\n",
    "print(f\"실제 읽고 투표한 비율: {truly_read_vote_rate:.2f}%\")\n"
   ]
  },
  {
   "cell_type": "code",
   "execution_count": null,
   "id": "7bb6ea74",
   "metadata": {},
   "outputs": [],
   "source": []
  },
  {
   "cell_type": "code",
   "execution_count": 39,
   "id": "a38f755a",
   "metadata": {},
   "outputs": [
    {
     "data": {
      "text/plain": [
       "0"
      ]
     },
     "execution_count": 39,
     "metadata": {},
     "output_type": "execute_result"
    }
   ],
   "source": [
    "# 투표 안 한 기록이 있는지 확인\n",
    "userquestionrecord_df[\"chosen_user_id\"].isnull().sum()"
   ]
  },
  {
   "cell_type": "code",
   "execution_count": null,
   "id": "afe3290d",
   "metadata": {},
   "outputs": [],
   "source": []
  },
  {
   "cell_type": "code",
   "execution_count": null,
   "id": "4a311af6",
   "metadata": {},
   "outputs": [],
   "source": []
  },
  {
   "cell_type": "code",
   "execution_count": null,
   "id": "f30a1b92",
   "metadata": {},
   "outputs": [],
   "source": []
  },
  {
   "cell_type": "code",
   "execution_count": null,
   "id": "946dee6b",
   "metadata": {},
   "outputs": [],
   "source": []
  },
  {
   "cell_type": "code",
   "execution_count": null,
   "id": "07d19aaf",
   "metadata": {},
   "outputs": [],
   "source": []
  },
  {
   "cell_type": "code",
   "execution_count": null,
   "id": "7bb4cbd4",
   "metadata": {},
   "outputs": [],
   "source": []
  },
  {
   "cell_type": "code",
   "execution_count": null,
   "id": "f8d68224",
   "metadata": {},
   "outputs": [],
   "source": []
  },
  {
   "cell_type": "code",
   "execution_count": null,
   "id": "158eb90a",
   "metadata": {},
   "outputs": [],
   "source": []
  },
  {
   "cell_type": "code",
   "execution_count": null,
   "id": "4695cc84",
   "metadata": {},
   "outputs": [],
   "source": []
  },
  {
   "cell_type": "code",
   "execution_count": null,
   "id": "95e83e53",
   "metadata": {},
   "outputs": [],
   "source": []
  },
  {
   "cell_type": "code",
   "execution_count": null,
   "id": "86f6da83",
   "metadata": {},
   "outputs": [],
   "source": []
  },
  {
   "cell_type": "code",
   "execution_count": null,
   "id": "977c9c0c",
   "metadata": {},
   "outputs": [],
   "source": []
  },
  {
   "cell_type": "code",
   "execution_count": null,
   "id": "e79cc849",
   "metadata": {},
   "outputs": [],
   "source": []
  }
 ],
 "metadata": {
  "kernelspec": {
   "display_name": "Python 3",
   "language": "python",
   "name": "python3"
  },
  "language_info": {
   "codemirror_mode": {
    "name": "ipython",
    "version": 3
   },
   "file_extension": ".py",
   "mimetype": "text/x-python",
   "name": "python",
   "nbconvert_exporter": "python",
   "pygments_lexer": "ipython3",
   "version": "3.12.3"
  }
 },
 "nbformat": 4,
 "nbformat_minor": 5
}
