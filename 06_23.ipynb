version https://git-lfs.github.com/spec/v1
oid sha256:32359c2905cf83e4ebb5c789e315a8099eb04357f449434ccf40419e3da67681
size 35955
