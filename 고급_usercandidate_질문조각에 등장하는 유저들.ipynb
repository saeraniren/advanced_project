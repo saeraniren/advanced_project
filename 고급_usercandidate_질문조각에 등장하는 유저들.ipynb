{
 "cells": [
  {
   "cell_type": "code",
   "execution_count": 1,
   "id": "0eb9e7a3",
   "metadata": {},
   "outputs": [],
   "source": [
    "import pandas as pd\n",
    "import numpy as np\n",
    "import matplotlib.pyplot as plt\n",
    "import seaborn as sns\n",
    "import os\n",
    "import matplotlib.font_manager as fm\n",
    "import koreanize_matplotlib\n",
    "\n",
    "# 폰트 경로 확인 및 설정\n",
    "font_path = '/usr/share/fonts/truetype/nanum/NanumGothic.ttf'  # 설치된 폰트 경로\n",
    "font_name = fm.FontProperties(fname=font_path).get_name()\n",
    "plt.rc('font', family=font_name)\n",
    "\n",
    "# 한글 깨짐 방지 - 마이너스 기호 처리\n",
    "plt.rcParams['axes.unicode_minus'] = False"
   ]
  },
  {
   "cell_type": "code",
   "execution_count": 2,
   "id": "e26ec4e2",
   "metadata": {},
   "outputs": [
    {
     "data": {
      "text/html": [
       "<div>\n",
       "<style scoped>\n",
       "    .dataframe tbody tr th:only-of-type {\n",
       "        vertical-align: middle;\n",
       "    }\n",
       "\n",
       "    .dataframe tbody tr th {\n",
       "        vertical-align: top;\n",
       "    }\n",
       "\n",
       "    .dataframe thead th {\n",
       "        text-align: right;\n",
       "    }\n",
       "</style>\n",
       "<table border=\"1\" class=\"dataframe\">\n",
       "  <thead>\n",
       "    <tr style=\"text-align: right;\">\n",
       "      <th></th>\n",
       "      <th>id</th>\n",
       "      <th>created_at</th>\n",
       "      <th>question_piece_id</th>\n",
       "      <th>user_id</th>\n",
       "    </tr>\n",
       "  </thead>\n",
       "  <tbody>\n",
       "    <tr>\n",
       "      <th>0</th>\n",
       "      <td>3088872</td>\n",
       "      <td>2023-04-28 12:27:49</td>\n",
       "      <td>998458</td>\n",
       "      <td>849444</td>\n",
       "    </tr>\n",
       "    <tr>\n",
       "      <th>1</th>\n",
       "      <td>3088873</td>\n",
       "      <td>2023-04-28 12:27:49</td>\n",
       "      <td>998458</td>\n",
       "      <td>849454</td>\n",
       "    </tr>\n",
       "    <tr>\n",
       "      <th>2</th>\n",
       "      <td>3088874</td>\n",
       "      <td>2023-04-28 12:27:49</td>\n",
       "      <td>998458</td>\n",
       "      <td>849460</td>\n",
       "    </tr>\n",
       "    <tr>\n",
       "      <th>3</th>\n",
       "      <td>3088875</td>\n",
       "      <td>2023-04-28 12:27:49</td>\n",
       "      <td>998458</td>\n",
       "      <td>849469</td>\n",
       "    </tr>\n",
       "    <tr>\n",
       "      <th>4</th>\n",
       "      <td>3088964</td>\n",
       "      <td>2023-04-28 12:28:02</td>\n",
       "      <td>998459</td>\n",
       "      <td>849446</td>\n",
       "    </tr>\n",
       "    <tr>\n",
       "      <th>...</th>\n",
       "      <td>...</td>\n",
       "      <td>...</td>\n",
       "      <td>...</td>\n",
       "      <td>...</td>\n",
       "    </tr>\n",
       "    <tr>\n",
       "      <th>4769604</th>\n",
       "      <td>646672580</td>\n",
       "      <td>2024-05-08 01:36:00</td>\n",
       "      <td>200139933</td>\n",
       "      <td>857296</td>\n",
       "    </tr>\n",
       "    <tr>\n",
       "      <th>4769605</th>\n",
       "      <td>646672581</td>\n",
       "      <td>2024-05-08 01:36:18</td>\n",
       "      <td>200139934</td>\n",
       "      <td>850774</td>\n",
       "    </tr>\n",
       "    <tr>\n",
       "      <th>4769606</th>\n",
       "      <td>646672582</td>\n",
       "      <td>2024-05-08 01:36:18</td>\n",
       "      <td>200139934</td>\n",
       "      <td>856446</td>\n",
       "    </tr>\n",
       "    <tr>\n",
       "      <th>4769607</th>\n",
       "      <td>646672583</td>\n",
       "      <td>2024-05-08 01:36:18</td>\n",
       "      <td>200139934</td>\n",
       "      <td>857101</td>\n",
       "    </tr>\n",
       "    <tr>\n",
       "      <th>4769608</th>\n",
       "      <td>646672584</td>\n",
       "      <td>2024-05-08 01:36:18</td>\n",
       "      <td>200139934</td>\n",
       "      <td>874566</td>\n",
       "    </tr>\n",
       "  </tbody>\n",
       "</table>\n",
       "<p>4769609 rows × 4 columns</p>\n",
       "</div>"
      ],
      "text/plain": [
       "                id          created_at  question_piece_id  user_id\n",
       "0          3088872 2023-04-28 12:27:49             998458   849444\n",
       "1          3088873 2023-04-28 12:27:49             998458   849454\n",
       "2          3088874 2023-04-28 12:27:49             998458   849460\n",
       "3          3088875 2023-04-28 12:27:49             998458   849469\n",
       "4          3088964 2023-04-28 12:28:02             998459   849446\n",
       "...            ...                 ...                ...      ...\n",
       "4769604  646672580 2024-05-08 01:36:00          200139933   857296\n",
       "4769605  646672581 2024-05-08 01:36:18          200139934   850774\n",
       "4769606  646672582 2024-05-08 01:36:18          200139934   856446\n",
       "4769607  646672583 2024-05-08 01:36:18          200139934   857101\n",
       "4769608  646672584 2024-05-08 01:36:18          200139934   874566\n",
       "\n",
       "[4769609 rows x 4 columns]"
      ]
     },
     "execution_count": 2,
     "metadata": {},
     "output_type": "execute_result"
    }
   ],
   "source": [
    "# 서비스 계정 키 경로 설정\n",
    "os.environ[\"GOOGLE_APPLICATION_CREDENTIALS\"] = r\"/home/eunyu/sprintda05-eunyu-a9946f7dea9c.json\"\n",
    "\n",
    "# GCS의 Parquet 파일 경로\n",
    "gcs_path = 'gs://final_project_enuyu/data/final_project/votes/polls_usercandidate.parquet'\n",
    "\n",
    "# 데이터 불러오기\n",
    "usercandidate_df = pd.read_parquet(gcs_path, engine='pyarrow')\n",
    "usercandidate_df"
   ]
  },
  {
   "cell_type": "code",
   "execution_count": 3,
   "id": "340616ee",
   "metadata": {},
   "outputs": [
    {
     "name": "stdout",
     "output_type": "stream",
     "text": [
      "<class 'pandas.core.frame.DataFrame'>\n",
      "RangeIndex: 4769609 entries, 0 to 4769608\n",
      "Data columns (total 4 columns):\n",
      " #   Column             Dtype         \n",
      "---  ------             -----         \n",
      " 0   id                 int64         \n",
      " 1   created_at         datetime64[ns]\n",
      " 2   question_piece_id  int64         \n",
      " 3   user_id            int64         \n",
      "dtypes: datetime64[ns](1), int64(3)\n",
      "memory usage: 145.6 MB\n"
     ]
    }
   ],
   "source": [
    "usercandidate_df.info()"
   ]
  },
  {
   "cell_type": "code",
   "execution_count": 4,
   "id": "633775dd",
   "metadata": {},
   "outputs": [
    {
     "data": {
      "text/plain": [
       "id                   0\n",
       "created_at           0\n",
       "question_piece_id    0\n",
       "user_id              0\n",
       "dtype: int64"
      ]
     },
     "execution_count": 4,
     "metadata": {},
     "output_type": "execute_result"
    }
   ],
   "source": [
    "usercandidate_df.isnull().sum()"
   ]
  },
  {
   "cell_type": "code",
   "execution_count": 5,
   "id": "26ccb000",
   "metadata": {},
   "outputs": [
    {
     "data": {
      "text/html": [
       "<div>\n",
       "<style scoped>\n",
       "    .dataframe tbody tr th:only-of-type {\n",
       "        vertical-align: middle;\n",
       "    }\n",
       "\n",
       "    .dataframe tbody tr th {\n",
       "        vertical-align: top;\n",
       "    }\n",
       "\n",
       "    .dataframe thead th {\n",
       "        text-align: right;\n",
       "    }\n",
       "</style>\n",
       "<table border=\"1\" class=\"dataframe\">\n",
       "  <thead>\n",
       "    <tr style=\"text-align: right;\">\n",
       "      <th></th>\n",
       "      <th>id</th>\n",
       "      <th>created_at</th>\n",
       "      <th>question_piece_id</th>\n",
       "      <th>user_id</th>\n",
       "    </tr>\n",
       "  </thead>\n",
       "  <tbody>\n",
       "    <tr>\n",
       "      <th>count</th>\n",
       "      <td>4.769609e+06</td>\n",
       "      <td>4769609</td>\n",
       "      <td>4.769609e+06</td>\n",
       "      <td>4.769609e+06</td>\n",
       "    </tr>\n",
       "    <tr>\n",
       "      <th>mean</th>\n",
       "      <td>2.388684e+08</td>\n",
       "      <td>2023-05-17 13:57:52.437731072</td>\n",
       "      <td>7.430248e+07</td>\n",
       "      <td>1.090241e+06</td>\n",
       "    </tr>\n",
       "    <tr>\n",
       "      <th>min</th>\n",
       "      <td>3.088872e+06</td>\n",
       "      <td>2023-04-28 12:27:49</td>\n",
       "      <td>9.984580e+05</td>\n",
       "      <td>8.331120e+05</td>\n",
       "    </tr>\n",
       "    <tr>\n",
       "      <th>25%</th>\n",
       "      <td>6.270339e+07</td>\n",
       "      <td>2023-05-10 02:49:19</td>\n",
       "      <td>1.891695e+07</td>\n",
       "      <td>8.835900e+05</td>\n",
       "    </tr>\n",
       "    <tr>\n",
       "      <th>50%</th>\n",
       "      <td>2.126700e+08</td>\n",
       "      <td>2023-05-15 16:15:12</td>\n",
       "      <td>6.639655e+07</td>\n",
       "      <td>1.087460e+06</td>\n",
       "    </tr>\n",
       "    <tr>\n",
       "      <th>75%</th>\n",
       "      <td>3.800215e+08</td>\n",
       "      <td>2023-05-22 11:33:33</td>\n",
       "      <td>1.178876e+08</td>\n",
       "      <td>1.233969e+06</td>\n",
       "    </tr>\n",
       "    <tr>\n",
       "      <th>max</th>\n",
       "      <td>6.466726e+08</td>\n",
       "      <td>2024-05-08 01:36:18</td>\n",
       "      <td>2.083515e+08</td>\n",
       "      <td>1.580629e+06</td>\n",
       "    </tr>\n",
       "    <tr>\n",
       "      <th>std</th>\n",
       "      <td>1.844893e+08</td>\n",
       "      <td>NaN</td>\n",
       "      <td>5.761959e+07</td>\n",
       "      <td>2.018190e+05</td>\n",
       "    </tr>\n",
       "  </tbody>\n",
       "</table>\n",
       "</div>"
      ],
      "text/plain": [
       "                 id                     created_at  question_piece_id  \\\n",
       "count  4.769609e+06                        4769609       4.769609e+06   \n",
       "mean   2.388684e+08  2023-05-17 13:57:52.437731072       7.430248e+07   \n",
       "min    3.088872e+06            2023-04-28 12:27:49       9.984580e+05   \n",
       "25%    6.270339e+07            2023-05-10 02:49:19       1.891695e+07   \n",
       "50%    2.126700e+08            2023-05-15 16:15:12       6.639655e+07   \n",
       "75%    3.800215e+08            2023-05-22 11:33:33       1.178876e+08   \n",
       "max    6.466726e+08            2024-05-08 01:36:18       2.083515e+08   \n",
       "std    1.844893e+08                            NaN       5.761959e+07   \n",
       "\n",
       "            user_id  \n",
       "count  4.769609e+06  \n",
       "mean   1.090241e+06  \n",
       "min    8.331120e+05  \n",
       "25%    8.835900e+05  \n",
       "50%    1.087460e+06  \n",
       "75%    1.233969e+06  \n",
       "max    1.580629e+06  \n",
       "std    2.018190e+05  "
      ]
     },
     "execution_count": 5,
     "metadata": {},
     "output_type": "execute_result"
    }
   ],
   "source": [
    "usercandidate_df.describe(include='all')"
   ]
  },
  {
   "cell_type": "code",
   "execution_count": null,
   "id": "6b6a5519",
   "metadata": {},
   "outputs": [],
   "source": []
  },
  {
   "cell_type": "markdown",
   "id": "d6b6bad3",
   "metadata": {},
   "source": [
    "#### 일별 생성 수"
   ]
  },
  {
   "cell_type": "code",
   "execution_count": 6,
   "id": "5c423d2c",
   "metadata": {},
   "outputs": [
    {
     "data": {
      "text/plain": [
       "<Axes: title={'center': '일별 후보 생성 수'}, xlabel='date'>"
      ]
     },
     "execution_count": 6,
     "metadata": {},
     "output_type": "execute_result"
    },
    {
     "data": {
      "image/png": "[encoded data removed]",
      "text/plain": [
       "<Figure size 1200x400 with 1 Axes>"
      ]
     },
     "metadata": {},
     "output_type": "display_data"
    }
   ],
   "source": [
    "usercandidate_df['date'] = usercandidate_df['created_at'].dt.date\n",
    "usercandidate_df['date'].value_counts().sort_index().plot(kind='line', figsize=(12, 4), title='일별 후보 생성 수')"
   ]
  },
  {
   "cell_type": "markdown",
   "id": "779b69b7",
   "metadata": {},
   "source": [
    " 1. 2023년 5월 전후에 폭발적인 생성\n",
    "- 일별 30만 건 이상 생성된 시점도 있음\n",
    "- 이후 급격한 하락, 약 한 달 내에 거의 0 근처로 수렴\n",
    "              \n",
    "2. 2023년 7월 이후로는 미미한 활동\n",
    "- 이후 수개월간 거의 활동이 없음\n",
    "- 소수의 유저 또는 테스트성 활동만 지속된 것으로 보임\n",
    "\n"
   ]
  },
  {
   "cell_type": "code",
   "execution_count": null,
   "id": "0d1390fa",
   "metadata": {},
   "outputs": [],
   "source": []
  },
  {
   "cell_type": "code",
   "execution_count": 15,
   "id": "55dd85b4",
   "metadata": {},
   "outputs": [
    {
     "data": {
      "text/plain": [
       "user_id\n",
       "860304     4226\n",
       "940572     4070\n",
       "1137034    3948\n",
       "1207066    3920\n",
       "994573     3674\n",
       "1019558    3664\n",
       "1206668    3648\n",
       "1017272    3584\n",
       "1085141    3562\n",
       "915833     3544\n",
       "Name: count, dtype: int64"
      ]
     },
     "execution_count": 15,
     "metadata": {},
     "output_type": "execute_result"
    }
   ],
   "source": [
    "# 상위 활동 유저\n",
    "top_users = usercandidate_df['user_id'].value_counts().head(10)\n",
    "top_users"
   ]
  },
  {
   "cell_type": "code",
   "execution_count": 19,
   "id": "c4a26886",
   "metadata": {},
   "outputs": [
    {
     "data": {
      "text/plain": [
       "user_id\n",
       "1207784    927\n",
       "1235019    917\n",
       "1207066    915\n",
       "1207079    903\n",
       "1185764    855\n",
       "1206668    784\n",
       "1207076    765\n",
       "1165022    667\n",
       "1207183    633\n",
       "1207022    600\n",
       "Name: count, dtype: int64"
      ]
     },
     "execution_count": 19,
     "metadata": {},
     "output_type": "execute_result"
    }
   ],
   "source": [
    "# 특정 날짜에 누가 활동 했는지\n",
    "peak_day = usercandidate_df['date'].value_counts().idxmax()\n",
    "peak_day_users = usercandidate_df[usercandidate_df['date'] == peak_day]['user_id'].value_counts()\n",
    "peak_day_users.head(10)"
   ]
  },
  {
   "cell_type": "code",
   "execution_count": 20,
   "id": "c95f2211",
   "metadata": {},
   "outputs": [
    {
     "data": {
      "text/plain": [
       "weekday\n",
       "Sunday       873202\n",
       "Saturday     800332\n",
       "Monday       677272\n",
       "Friday       635749\n",
       "Tuesday      618986\n",
       "Wednesday    616945\n",
       "Thursday     547123\n",
       "Name: count, dtype: int64"
      ]
     },
     "execution_count": 20,
     "metadata": {},
     "output_type": "execute_result"
    }
   ],
   "source": [
    "usercandidate_df['weekday'] = usercandidate_df['created_at'].dt.day_name()\n",
    "usercandidate_df['hour'] = usercandidate_df['created_at'].dt.hour\n",
    "\n",
    "# 요일/시간대별 활동량\n",
    "usercandidate_df['weekday'].value_counts()"
   ]
  },
  {
   "cell_type": "code",
   "execution_count": 21,
   "id": "dd14649a",
   "metadata": {},
   "outputs": [
    {
     "data": {
      "text/plain": [
       "hour\n",
       "13    388599\n",
       "14    380334\n",
       "12    342797\n",
       "15    311914\n",
       "11    311307\n",
       "9     282286\n",
       "10    281208\n",
       "8     279848\n",
       "7     247207\n",
       "6     218564\n",
       "5     197787\n",
       "23    196781\n",
       "4     187800\n",
       "16    185900\n",
       "3     183052\n",
       "2     166842\n",
       "22    151646\n",
       "1     150168\n",
       "0     125684\n",
       "17     79839\n",
       "21     40085\n",
       "18     33175\n",
       "19     14276\n",
       "20     12510\n",
       "Name: count, dtype: int64"
      ]
     },
     "execution_count": 21,
     "metadata": {},
     "output_type": "execute_result"
    }
   ],
   "source": [
    "usercandidate_df['hour'].value_counts()"
   ]
  },
  {
   "cell_type": "code",
   "execution_count": null,
   "id": "4181f3d8",
   "metadata": {},
   "outputs": [],
   "source": []
  },
  {
   "cell_type": "markdown",
   "id": "77b8c3b6",
   "metadata": {},
   "source": [
    "#### 유저별 후보 생성 수 분포"
   ]
  },
  {
   "cell_type": "code",
   "execution_count": 7,
   "id": "f742d987",
   "metadata": {},
   "outputs": [
    {
     "data": {
      "text/plain": [
       "Text(0, 0.5, '유저 수')"
      ]
     },
     "execution_count": 7,
     "metadata": {},
     "output_type": "execute_result"
    },
    {
     "data": {
      "image/png": "[encoded data removed]",
      "text/plain": [
       "<Figure size 800x400 with 1 Axes>"
      ]
     },
     "metadata": {},
     "output_type": "display_data"
    }
   ],
   "source": [
    "user_counts = usercandidate_df['user_id'].value_counts()\n",
    "user_counts.hist(bins=50, figsize=(8, 4))\n",
    "plt.title('유저별 후보 생성 수 분포')\n",
    "plt.xlabel('생성 수')\n",
    "plt.ylabel('유저 수')"
   ]
  },
  {
   "cell_type": "code",
   "execution_count": 22,
   "id": "3e2b307b",
   "metadata": {},
   "outputs": [
    {
     "name": "stdout",
     "output_type": "stream",
     "text": [
      "상위 3641명의 유저가 전체 후보 생성의 80%를 담당\n"
     ]
    }
   ],
   "source": [
    "cumulative = user_counts.sort_values(ascending=False).cumsum()\n",
    "total = cumulative.max()\n",
    "pareto_cutoff = cumulative[cumulative <= total * 0.8].shape[0]\n",
    "print(f\"상위 {pareto_cutoff}명의 유저가 전체 후보 생성의 80%를 담당\")"
   ]
  },
  {
   "cell_type": "code",
   "execution_count": 23,
   "id": "06f3056b",
   "metadata": {},
   "outputs": [
    {
     "data": {
      "text/plain": [
       "4226"
      ]
     },
     "execution_count": 23,
     "metadata": {},
     "output_type": "execute_result"
    }
   ],
   "source": [
    "top_user_id = user_counts.idxmax()\n",
    "usercandidate_df[usercandidate_df['user_id'] == top_user_id]['question_piece_id'].nunique()\n"
   ]
  },
  {
   "cell_type": "code",
   "execution_count": null,
   "id": "a33c89d0",
   "metadata": {},
   "outputs": [],
   "source": []
  },
  {
   "cell_type": "markdown",
   "id": "f14239b3",
   "metadata": {},
   "source": [
    "#### 질문 조각별 후보 수 분포"
   ]
  },
  {
   "cell_type": "code",
   "execution_count": 8,
   "id": "5cac57c8",
   "metadata": {},
   "outputs": [
    {
     "data": {
      "text/plain": [
       "question_piece_id\n",
       "9494270      16\n",
       "14806469     16\n",
       "28856618     16\n",
       "124552858    12\n",
       "80794775     12\n",
       "73631610     12\n",
       "14559335     12\n",
       "70947287     12\n",
       "73172618     12\n",
       "119363599    12\n",
       "Name: count, dtype: int64"
      ]
     },
     "execution_count": 8,
     "metadata": {},
     "output_type": "execute_result"
    }
   ],
   "source": [
    "question_piece_counts = usercandidate_df['question_piece_id'].value_counts()\n",
    "question_piece_counts.head(10)  # 가장 많이 후보가 달린 question_piece_id 10개"
   ]
  },
  {
   "cell_type": "code",
   "execution_count": null,
   "id": "43093a93",
   "metadata": {},
   "outputs": [],
   "source": []
  },
  {
   "cell_type": "markdown",
   "id": "a222cbb4",
   "metadata": {},
   "source": [
    "#### 시간대별 후보 생성 패턴"
   ]
  },
  {
   "cell_type": "code",
   "execution_count": 9,
   "id": "261d2d0c",
   "metadata": {},
   "outputs": [
    {
     "data": {
      "text/plain": [
       "<Axes: title={'center': '시간대별 후보 생성 수'}, xlabel='hour'>"
      ]
     },
     "execution_count": 9,
     "metadata": {},
     "output_type": "execute_result"
    },
    {
     "data": {
      "image/png": "[encoded data removed]",
      "text/plain": [
       "<Figure size 640x480 with 1 Axes>"
      ]
     },
     "metadata": {},
     "output_type": "display_data"
    }
   ],
   "source": [
    "usercandidate_df['hour'] = usercandidate_df['created_at'].dt.hour\n",
    "usercandidate_df['hour'].value_counts().sort_index().plot(kind='bar', title='시간대별 후보 생성 수')"
   ]
  },
  {
   "cell_type": "code",
   "execution_count": null,
   "id": "3b7f83c9",
   "metadata": {},
   "outputs": [],
   "source": []
  },
  {
   "cell_type": "markdown",
   "id": "50eb65e3",
   "metadata": {},
   "source": [
    "#### 유저-질문 조각 매핑 다양성"
   ]
  },
  {
   "cell_type": "code",
   "execution_count": 10,
   "id": "95fb5f78",
   "metadata": {},
   "outputs": [
    {
     "data": {
      "text/plain": [
       "count    19994.000000\n",
       "mean       238.523257\n",
       "std        447.276428\n",
       "min          1.000000\n",
       "25%          7.000000\n",
       "50%         29.000000\n",
       "75%        220.000000\n",
       "max       4226.000000\n",
       "Name: question_piece_id, dtype: float64"
      ]
     },
     "execution_count": 10,
     "metadata": {},
     "output_type": "execute_result"
    }
   ],
   "source": [
    "# 유저가 몇 개의 question_piece_id에 참여했는지\n",
    "diversity = usercandidate_df.groupby('user_id')['question_piece_id'].nunique()\n",
    "diversity.describe()"
   ]
  },
  {
   "cell_type": "code",
   "execution_count": null,
   "id": "4fbb5db0",
   "metadata": {},
   "outputs": [],
   "source": []
  },
  {
   "cell_type": "code",
   "execution_count": 11,
   "id": "be3bcb60",
   "metadata": {},
   "outputs": [
    {
     "data": {
      "text/plain": [
       "user_id\n",
       "860304     4226\n",
       "940572     4070\n",
       "1137034    3948\n",
       "1207066    3920\n",
       "994573     3674\n",
       "           ... \n",
       "883576     1002\n",
       "854168     1002\n",
       "1157397    1001\n",
       "1406155    1001\n",
       "867992     1001\n",
       "Name: count, Length: 1575, dtype: int64"
      ]
     },
     "execution_count": 11,
     "metadata": {},
     "output_type": "execute_result"
    }
   ],
   "source": [
    "user_counts[user_counts > 1000]  # 예: 1000건 초과"
   ]
  },
  {
   "cell_type": "code",
   "execution_count": null,
   "id": "bd3d740f",
   "metadata": {},
   "outputs": [],
   "source": []
  },
  {
   "cell_type": "code",
   "execution_count": null,
   "id": "9516c2ed",
   "metadata": {},
   "outputs": [],
   "source": []
  }
 ],
 "metadata": {
  "kernelspec": {
   "display_name": "Python 3",
   "language": "python",
   "name": "python3"
  },
  "language_info": {
   "codemirror_mode": {
    "name": "ipython",
    "version": 3
   },
   "file_extension": ".py",
   "mimetype": "text/x-python",
   "name": "python",
   "nbconvert_exporter": "python",
   "pygments_lexer": "ipython3",
   "version": "3.12.3"
  }
 },
 "nbformat": 4,
 "nbformat_minor": 5
}
