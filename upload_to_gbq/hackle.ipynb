{
 "cells": [
  {
   "cell_type": "code",
   "execution_count": 1,
   "id": "db0ab996",
   "metadata": {},
   "outputs": [],
   "source": [
    "import pandas as pd\n",
    "from pandas_gbq import to_gbq\n",
    "from sqlalchemy import create_engine\n",
    "from google.oauth2 import service_account\n",
    "import dotenv"
   ]
  },
  {
   "cell_type": "code",
   "execution_count": 2,
   "id": "672a3eb3",
   "metadata": {},
   "outputs": [],
   "source": [
    "def load_database(db_name:str):\n",
    "    # 데이터베이스 연결\n",
    "    engine_name = \"mysql+pymysql\"\n",
    "    user = 'root'\n",
    "    password = 'sat_dreams12'\n",
    "    host = 'localhost'\n",
    "    port = 3306\n",
    "    database = db_name\n",
    "\n",
    "    return create_engine(f\"{engine_name}://{user}:{password}@{host}:{port}/{database}\")\n"
   ]
  },
  {
   "cell_type": "code",
   "execution_count": 3,
   "id": "735809a5",
   "metadata": {},
   "outputs": [
    {
     "data": {
      "text/plain": [
       "<sqlalchemy.engine.base.Connection at 0x1f03eddc6e0>"
      ]
     },
     "execution_count": 3,
     "metadata": {},
     "output_type": "execute_result"
    }
   ],
   "source": [
    "# hackle 연결정보 등록\n",
    "hackle_mysql_conn = load_database('hackle')\n",
    "\n",
    "hackle_mysql_conn.connect()"
   ]
  },
  {
   "cell_type": "code",
   "execution_count": 4,
   "id": "279a1059",
   "metadata": {},
   "outputs": [
    {
     "name": "stdout",
     "output_type": "stream",
     "text": [
      "Hackle Database Tables:\n",
      "device_properties\n",
      "hackle_events\n",
      "hackle_properties\n",
      "user_properties\n"
     ]
    }
   ],
   "source": [
    "# 해당 데이터베이스의 테이븖 목록 조회\n",
    "query = \"\"\"\n",
    "SHOW TABLES;\n",
    "\"\"\"\n",
    "\n",
    "# 쿼리문 조회\n",
    "HACKLE_TABLES = pd.read_sql(query, hackle_mysql_conn)\n",
    "\n",
    "# 테이블 목록 출력\n",
    "print(\"Hackle Database Tables:\")\n",
    "for table in HACKLE_TABLES.values:\n",
    "    print(table[0])"
   ]
  },
  {
   "cell_type": "code",
   "execution_count": 5,
   "id": "61d598fd",
   "metadata": {},
   "outputs": [],
   "source": [
    "hackle_df_list = []\n",
    "\n",
    "# 각 테이블의 데이터를 DataFrame으로 읽어오기\n",
    "for table_name in HACKLE_TABLES.values:\n",
    "    query = f\"SELECT * FROM {table_name[0]}\"\n",
    "    df = pd.read_sql(query, hackle_mysql_conn)\n",
    "    hackle_df_list.append(df)"
   ]
  },
  {
   "cell_type": "code",
   "execution_count": null,
   "id": "830e474a",
   "metadata": {},
   "outputs": [
    {
     "name": "stderr",
     "output_type": "stream",
     "text": [
      "100%|██████████| 1/1 [00:00<00:00, 18157.16it/s]\n",
      "100%|██████████| 1/1 [00:00<00:00, 7928.74it/s]\n",
      "100%|██████████| 1/1 [00:00<00:00, 10922.67it/s]\n",
      "100%|██████████| 1/1 [00:00<00:00, 9258.95it/s]\n"
     ]
    }
   ],
   "source": [
    "# BigQuery에 업로드하기 위해 인증정보 가져오기\n",
    "dotenv.load_dotenv()\n",
    "key_path = dotenv.get_key(dotenv.find_dotenv(), \"GOOGLE_APPLICATION_CREDENTIALS\")\n",
    "\n",
    "credentials = service_account.Credentials.from_service_account_file(key_path)\n",
    "\n",
    "# 데이터 테이블을 BigQuery에 업로드\n",
    "for i, df in enumerate(hackle_df_list):\n",
    "    to_gbq(\n",
    "        dataframe=df,\n",
    "        destination_table=f'hackle.{HACKLE_TABLES.values[i][0]}',\n",
    "        project_id=dotenv.get_key(dotenv.find_dotenv(), \"GOOGLE_PROJECT_ID\"),  # 여기에 실제 프로젝트 ID를 입력하세요\n",
    "        if_exists='replace',  # 기존 테이블이 있으면 대체\n",
    "        progress_bar=True,  # 진행 상황 표시\n",
    "        credentials=credentials  \n",
    "    )"
   ]
  }
 ],
 "metadata": {
  "kernelspec": {
   "display_name": "Python 3",
   "language": "python",
   "name": "python3"
  },
  "language_info": {
   "codemirror_mode": {
    "name": "ipython",
    "version": 3
   },
   "file_extension": ".py",
   "mimetype": "text/x-python",
   "name": "python",
   "nbconvert_exporter": "python",
   "pygments_lexer": "ipython3",
   "version": "3.13.2"
  }
 },
 "nbformat": 4,
 "nbformat_minor": 5
}
