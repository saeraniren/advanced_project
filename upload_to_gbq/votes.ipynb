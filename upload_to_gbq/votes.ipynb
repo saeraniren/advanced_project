{
 "cells": [
  {
   "cell_type": "code",
   "execution_count": 1,
   "id": "071ff32b",
   "metadata": {},
   "outputs": [],
   "source": [
    "import pandas as pd\n",
    "from pandas_gbq import to_gbq\n",
    "from sqlalchemy import create_engine\n",
    "from google.oauth2 import service_account\n",
    "import dotenv"
   ]
  },
  {
   "cell_type": "code",
   "execution_count": 2,
   "id": "814767a3",
   "metadata": {},
   "outputs": [],
   "source": [
    "def load_database(db_name:str):\n",
    "    # 데이터베이스 연결\n",
    "    engine_name = \"mysql+pymysql\"\n",
    "    user = 'root'\n",
    "    password = 'sat_dreams12'\n",
    "    host = 'localhost'\n",
    "    port = 3306\n",
    "    database = db_name\n",
    "\n",
    "    return create_engine(f\"{engine_name}://{user}:{password}@{host}:{port}/{database}\")\n"
   ]
  },
  {
   "cell_type": "code",
   "execution_count": 3,
   "id": "61574fa8",
   "metadata": {},
   "outputs": [
    {
     "data": {
      "text/plain": [
       "<sqlalchemy.engine.base.Connection at 0x253cac3c6e0>"
      ]
     },
     "execution_count": 3,
     "metadata": {},
     "output_type": "execute_result"
    }
   ],
   "source": [
    "# hackle 연결정보 등록\n",
    "votes_mysql_conn = load_database('votes')\n",
    "\n",
    "votes_mysql_conn.connect()"
   ]
  },
  {
   "cell_type": "code",
   "execution_count": 4,
   "id": "d535077f",
   "metadata": {},
   "outputs": [
    {
     "name": "stdout",
     "output_type": "stream",
     "text": [
      "Hackle Database Tables:\n",
      "accounts_attendance\n",
      "accounts_blockrecord\n",
      "accounts_failpaymenthistory\n",
      "accounts_friendrequest\n",
      "accounts_group\n",
      "accounts_nearbyschool\n",
      "accounts_paymenthistory\n",
      "accounts_pointhistory\n",
      "accounts_school\n",
      "accounts_timelinereport\n",
      "accounts_user\n",
      "accounts_user_contacts\n",
      "accounts_userquestionrecord\n",
      "accounts_userwithdraw\n",
      "event_receipts\n",
      "events\n",
      "polls_question\n",
      "polls_questionpiece\n",
      "polls_questionreport\n",
      "polls_questionset\n",
      "polls_usercandidate\n"
     ]
    }
   ],
   "source": [
    "# 해당 데이터베이스의 테이븖 목록 조회\n",
    "query = \"\"\"\n",
    "SHOW TABLES;\n",
    "\"\"\"\n",
    "\n",
    "# 쿼리문 조회\n",
    "VOTES_TABLES = pd.read_sql(query, votes_mysql_conn)\n",
    "\n",
    "# 테이블 목록 출력\n",
    "print(\"Hackle Database Tables:\")\n",
    "for table in VOTES_TABLES.values:\n",
    "    print(table[0])"
   ]
  },
  {
   "cell_type": "code",
   "execution_count": null,
   "id": "521597c0",
   "metadata": {},
   "outputs": [
    {
     "name": "stderr",
     "output_type": "stream",
     "text": [
      "100%|██████████| 1/1 [00:00<00:00, 22671.91it/s]\n",
      "100%|██████████| 1/1 [00:00<00:00, 14614.30it/s]\n",
      "100%|██████████| 1/1 [00:00<00:00, 13189.64it/s]\n",
      "100%|██████████| 1/1 [00:00<00:00, 27413.75it/s]\n",
      "100%|██████████| 1/1 [00:00<00:00, 8338.58it/s]\n",
      "100%|██████████| 1/1 [00:00<00:00, 12520.31it/s]\n",
      "100%|██████████| 1/1 [00:00<00:00, 21845.33it/s]\n",
      "100%|██████████| 1/1 [00:00<00:00, 29746.84it/s]\n",
      "100%|██████████| 1/1 [00:00<00:00, 28926.23it/s]\n",
      "100%|██████████| 1/1 [00:00<00:00, 19065.02it/s]\n",
      "100%|██████████| 1/1 [00:00<00:00, 9868.95it/s]\n",
      "100%|██████████| 1/1 [00:00<00:00, 29959.31it/s]\n",
      "100%|██████████| 1/1 [00:00<00:00, 6482.70it/s]\n",
      "100%|██████████| 1/1 [00:00<00:00, 37117.73it/s]\n",
      "100%|██████████| 1/1 [00:00<00:00, 30174.85it/s]\n",
      "100%|██████████| 1/1 [00:00<00:00, 7752.87it/s]\n",
      "100%|██████████| 1/1 [00:00<00:00, 13273.11it/s]\n",
      "100%|██████████| 1/1 [00:00<00:00, 13486.51it/s]\n",
      "100%|██████████| 1/1 [00:00<00:00, 25890.77it/s]\n",
      "100%|██████████| 1/1 [00:00<00:00, 24105.20it/s]\n",
      "100%|██████████| 1/1 [00:00<00:00, 11397.57it/s]\n"
     ]
    }
   ],
   "source": [
    "# 각 테이블의 데이터를 DataFrame으로 읽어오기\n",
    "for i, table_name in enumerate(VOTES_TABLES.values):\n",
    "    query = f\"SELECT * FROM votes.{table_name[0]}\"\n",
    "    df = pd.read_sql(query, votes_mysql_conn)\n",
    "\n",
    "    # BigQuery에 업로드하기 위해 인증정보 가져오기\n",
    "    dotenv.load_dotenv()\n",
    "    key_path = dotenv.get_key(dotenv.find_dotenv(), \"GOOGLE_APPLICATION_CREDENTIALS\")\n",
    "\n",
    "    credentials = service_account.Credentials.from_service_account_file(key_path)\n",
    "\n",
    "    to_gbq(\n",
    "        dataframe=df,\n",
    "        destination_table=f'votes.{VOTES_TABLES.values[i][0]}',\n",
    "        project_id=dotenv.get_key(dotenv.find_dotenv(), \"GOOGLE_PROJECT_ID\"),  # 여기에 실제 프로젝트 ID를 입력하세요\n",
    "        if_exists='replace',  # 기존 테이블이 있으면 대체\n",
    "        progress_bar=True,  # 진행 상황 표시\n",
    "        credentials=credentials  \n",
    "    )"
   ]
  }
 ],
 "metadata": {
  "kernelspec": {
   "display_name": "Python 3",
   "language": "python",
   "name": "python3"
  },
  "language_info": {
   "codemirror_mode": {
    "name": "ipython",
    "version": 3
   },
   "file_extension": ".py",
   "mimetype": "text/x-python",
   "name": "python",
   "nbconvert_exporter": "python",
   "pygments_lexer": "ipython3",
   "version": "3.13.2"
  }
 },
 "nbformat": 4,
 "nbformat_minor": 5
}
