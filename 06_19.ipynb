version https://git-lfs.github.com/spec/v1
oid sha256:93db887bfea888752818f1c9dba692edb134359b9234518f636b6ca745a408ca
size 29815
