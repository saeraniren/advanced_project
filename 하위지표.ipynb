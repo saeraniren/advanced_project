{
 "cells": [
  {
   "cell_type": "code",
   "execution_count": 1,
   "id": "0cf730c3",
   "metadata": {},
   "outputs": [],
   "source": [
    "import pandas as pd\n",
    "import numpy as np\n",
    "import matplotlib.pyplot as plt\n",
    "import seaborn as sns\n",
    "import ast \n",
    "\n",
    "# import os\n",
    "# if os.name == 'posix' :\n",
    "#     plt.rc('font', family='AppleGothic')\n",
    "# else :\n",
    "#     plt.rc('font', family='Malgun Gothic')\n",
    "    \n",
    "plt.rc('axes', unicode_minus=False)\n",
    "\n",
    "plt.rcParams['font.family'] = 'NanumGothic' \n",
    "plt.rcParams['axes.unicode_minus'] = False\n",
    "import koreanize_matplotlib"
   ]
  },
  {
   "cell_type": "code",
   "execution_count": 2,
   "id": "8ac420a8",
   "metadata": {},
   "outputs": [],
   "source": [
    "# 검정을 위해 필요한 라이브러리\n",
    "from statsmodels.stats.proportion import proportions_ztest\n",
    "from scipy.stats import ttest_ind, mannwhitneyu\n",
    "from scipy.stats import shapiro"
   ]
  },
  {
   "cell_type": "markdown",
   "id": "3512be20",
   "metadata": {},
   "source": [
    "# 하위 지표 찾기"
   ]
  },
  {
   "cell_type": "markdown",
   "id": "c65734f3",
   "metadata": {},
   "source": [
    "## 데이터 불러오기"
   ]
  },
  {
   "cell_type": "markdown",
   "id": "20fa6a9b",
   "metadata": {},
   "source": [
    "### 통합 데이터 "
   ]
  },
  {
   "cell_type": "code",
   "execution_count": 3,
   "id": "acc8f8b4",
   "metadata": {},
   "outputs": [
    {
     "data": {
      "text/html": [
       "<div>\n",
       "<style scoped>\n",
       "    .dataframe tbody tr th:only-of-type {\n",
       "        vertical-align: middle;\n",
       "    }\n",
       "\n",
       "    .dataframe tbody tr th {\n",
       "        vertical-align: top;\n",
       "    }\n",
       "\n",
       "    .dataframe thead th {\n",
       "        text-align: right;\n",
       "    }\n",
       "</style>\n",
       "<table border=\"1\" class=\"dataframe\">\n",
       "  <thead>\n",
       "    <tr style=\"text-align: right;\">\n",
       "      <th></th>\n",
       "      <th>Unnamed: 0</th>\n",
       "      <th>user_id</th>\n",
       "      <th>total_votes</th>\n",
       "      <th>unique_days</th>\n",
       "      <th>first_vote</th>\n",
       "      <th>last_vote</th>\n",
       "      <th>active_days</th>\n",
       "      <th>cohort_day</th>\n",
       "      <th>retention_day8</th>\n",
       "      <th>gender</th>\n",
       "      <th>...</th>\n",
       "      <th>sign_up_date</th>\n",
       "      <th>first_vote_date</th>\n",
       "      <th>first_point_use_date</th>\n",
       "      <th>first_point_use_amount</th>\n",
       "      <th>vote_sameday_signup</th>\n",
       "      <th>days_to_vote</th>\n",
       "      <th>days_to_point</th>\n",
       "      <th>days_to_point_after_vote</th>\n",
       "      <th>first_vote_hour</th>\n",
       "      <th>first_voteday_question_count</th>\n",
       "    </tr>\n",
       "  </thead>\n",
       "  <tbody>\n",
       "    <tr>\n",
       "      <th>0</th>\n",
       "      <td>0</td>\n",
       "      <td>838466</td>\n",
       "      <td>129</td>\n",
       "      <td>7</td>\n",
       "      <td>2023-05-02</td>\n",
       "      <td>2023-06-02</td>\n",
       "      <td>31</td>\n",
       "      <td>2023-05-02</td>\n",
       "      <td>0.569444</td>\n",
       "      <td>F</td>\n",
       "      <td>...</td>\n",
       "      <td>2023-04-19 15:10:56.560337</td>\n",
       "      <td>2023-05-02 22:42:05</td>\n",
       "      <td>2023-05-05 07:32:34</td>\n",
       "      <td>-300.0</td>\n",
       "      <td>0</td>\n",
       "      <td>13</td>\n",
       "      <td>15.0</td>\n",
       "      <td>2.0</td>\n",
       "      <td>22</td>\n",
       "      <td>9</td>\n",
       "    </tr>\n",
       "    <tr>\n",
       "      <th>1</th>\n",
       "      <td>1</td>\n",
       "      <td>838642</td>\n",
       "      <td>10</td>\n",
       "      <td>2</td>\n",
       "      <td>2023-04-28</td>\n",
       "      <td>2023-04-29</td>\n",
       "      <td>1</td>\n",
       "      <td>2023-04-28</td>\n",
       "      <td>0.560000</td>\n",
       "      <td>F</td>\n",
       "      <td>...</td>\n",
       "      <td>2023-04-20 00:11:00.962160</td>\n",
       "      <td>2023-04-28 14:18:07</td>\n",
       "      <td>2023-04-30 06:49:01</td>\n",
       "      <td>-300.0</td>\n",
       "      <td>0</td>\n",
       "      <td>8</td>\n",
       "      <td>10.0</td>\n",
       "      <td>1.0</td>\n",
       "      <td>14</td>\n",
       "      <td>9</td>\n",
       "    </tr>\n",
       "    <tr>\n",
       "      <th>2</th>\n",
       "      <td>2</td>\n",
       "      <td>840512</td>\n",
       "      <td>141</td>\n",
       "      <td>8</td>\n",
       "      <td>2023-05-02</td>\n",
       "      <td>2023-07-11</td>\n",
       "      <td>70</td>\n",
       "      <td>2023-05-02</td>\n",
       "      <td>0.569444</td>\n",
       "      <td>M</td>\n",
       "      <td>...</td>\n",
       "      <td>2023-04-21 14:02:03.764186</td>\n",
       "      <td>2023-05-02 23:42:03</td>\n",
       "      <td>2023-05-03 05:10:18</td>\n",
       "      <td>-300.0</td>\n",
       "      <td>0</td>\n",
       "      <td>11</td>\n",
       "      <td>11.0</td>\n",
       "      <td>0.0</td>\n",
       "      <td>23</td>\n",
       "      <td>1</td>\n",
       "    </tr>\n",
       "    <tr>\n",
       "      <th>3</th>\n",
       "      <td>3</td>\n",
       "      <td>840685</td>\n",
       "      <td>567</td>\n",
       "      <td>21</td>\n",
       "      <td>2023-05-02</td>\n",
       "      <td>2023-06-06</td>\n",
       "      <td>35</td>\n",
       "      <td>2023-05-02</td>\n",
       "      <td>0.569444</td>\n",
       "      <td>F</td>\n",
       "      <td>...</td>\n",
       "      <td>2023-04-21 15:23:53.149852</td>\n",
       "      <td>2023-05-02 22:22:58</td>\n",
       "      <td>2023-05-03 02:56:17</td>\n",
       "      <td>-300.0</td>\n",
       "      <td>0</td>\n",
       "      <td>11</td>\n",
       "      <td>11.0</td>\n",
       "      <td>0.0</td>\n",
       "      <td>22</td>\n",
       "      <td>12</td>\n",
       "    </tr>\n",
       "    <tr>\n",
       "      <th>4</th>\n",
       "      <td>4</td>\n",
       "      <td>840902</td>\n",
       "      <td>250</td>\n",
       "      <td>14</td>\n",
       "      <td>2023-05-02</td>\n",
       "      <td>2023-05-27</td>\n",
       "      <td>25</td>\n",
       "      <td>2023-05-02</td>\n",
       "      <td>0.569444</td>\n",
       "      <td>F</td>\n",
       "      <td>...</td>\n",
       "      <td>2023-04-22 00:10:16.615160</td>\n",
       "      <td>2023-05-02 22:33:49</td>\n",
       "      <td>2023-05-03 13:03:16</td>\n",
       "      <td>-300.0</td>\n",
       "      <td>0</td>\n",
       "      <td>10</td>\n",
       "      <td>11.0</td>\n",
       "      <td>0.0</td>\n",
       "      <td>22</td>\n",
       "      <td>6</td>\n",
       "    </tr>\n",
       "  </tbody>\n",
       "</table>\n",
       "<p>5 rows × 33 columns</p>\n",
       "</div>"
      ],
      "text/plain": [
       "   Unnamed: 0  user_id  total_votes  unique_days  first_vote   last_vote  \\\n",
       "0           0   838466          129            7  2023-05-02  2023-06-02   \n",
       "1           1   838642           10            2  2023-04-28  2023-04-29   \n",
       "2           2   840512          141            8  2023-05-02  2023-07-11   \n",
       "3           3   840685          567           21  2023-05-02  2023-06-06   \n",
       "4           4   840902          250           14  2023-05-02  2023-05-27   \n",
       "\n",
       "   active_days  cohort_day  retention_day8 gender  ...  \\\n",
       "0           31  2023-05-02        0.569444      F  ...   \n",
       "1            1  2023-04-28        0.560000      F  ...   \n",
       "2           70  2023-05-02        0.569444      M  ...   \n",
       "3           35  2023-05-02        0.569444      F  ...   \n",
       "4           25  2023-05-02        0.569444      F  ...   \n",
       "\n",
       "                 sign_up_date      first_vote_date  first_point_use_date  \\\n",
       "0  2023-04-19 15:10:56.560337  2023-05-02 22:42:05   2023-05-05 07:32:34   \n",
       "1  2023-04-20 00:11:00.962160  2023-04-28 14:18:07   2023-04-30 06:49:01   \n",
       "2  2023-04-21 14:02:03.764186  2023-05-02 23:42:03   2023-05-03 05:10:18   \n",
       "3  2023-04-21 15:23:53.149852  2023-05-02 22:22:58   2023-05-03 02:56:17   \n",
       "4  2023-04-22 00:10:16.615160  2023-05-02 22:33:49   2023-05-03 13:03:16   \n",
       "\n",
       "   first_point_use_amount  vote_sameday_signup days_to_vote days_to_point  \\\n",
       "0                  -300.0                    0           13          15.0   \n",
       "1                  -300.0                    0            8          10.0   \n",
       "2                  -300.0                    0           11          11.0   \n",
       "3                  -300.0                    0           11          11.0   \n",
       "4                  -300.0                    0           10          11.0   \n",
       "\n",
       "   days_to_point_after_vote first_vote_hour  first_voteday_question_count  \n",
       "0                       2.0              22                             9  \n",
       "1                       1.0              14                             9  \n",
       "2                       0.0              23                             1  \n",
       "3                       0.0              22                            12  \n",
       "4                       0.0              22                             6  \n",
       "\n",
       "[5 rows x 33 columns]"
      ]
     },
     "execution_count": 3,
     "metadata": {},
     "output_type": "execute_result"
    }
   ],
   "source": [
    "master_df = pd.read_csv('./master_table_v6.csv')\n",
    "master_df.head()"
   ]
  },
  {
   "cell_type": "code",
   "execution_count": 4,
   "id": "0a845c85",
   "metadata": {},
   "outputs": [
    {
     "data": {
      "text/plain": [
       "Index(['Unnamed: 0', 'user_id', 'total_votes', 'unique_days', 'first_vote',\n",
       "       'last_vote', 'active_days', 'cohort_day', 'retention_day8', 'gender',\n",
       "       'school_id', 'grade', 'group_id', 'votes_within_3d',\n",
       "       'period_friend_count', 'retention_group', 'address', 'student_count',\n",
       "       'school_type', 'firstquestion_id', 'first_question_text',\n",
       "       'first_question_category', 'chosen_count', 'sign_up_date',\n",
       "       'first_vote_date', 'first_point_use_date', 'first_point_use_amount',\n",
       "       'vote_sameday_signup', 'days_to_vote', 'days_to_point',\n",
       "       'days_to_point_after_vote', 'first_vote_hour',\n",
       "       'first_voteday_question_count'],\n",
       "      dtype='object')"
      ]
     },
     "execution_count": 4,
     "metadata": {},
     "output_type": "execute_result"
    }
   ],
   "source": [
    "master_df.columns"
   ]
  },
  {
   "cell_type": "markdown",
   "id": "a386f75d",
   "metadata": {},
   "source": [
    "## cohort"
   ]
  },
  {
   "cell_type": "markdown",
   "id": "64f69ea3",
   "metadata": {},
   "source": [
    "- 상위 25%\n",
    "    - 날짜 :  04.30, 05.02, 05.09, 05.10, 05.12, 05.20, 05.21\n",
    "    - 행 개수 : 18,795개\n",
    "    - 인원 수 : 1,253명\n",
    "- 하위 25%\n",
    "    - 05.04, 05.05, 05.06, 05.15, 05.16, 05.17, 05.24\n",
    "    - 행 개수 : 18,660개\n",
    "    - 인원 수 : 1,244명"
   ]
  },
  {
   "cell_type": "code",
   "execution_count": 5,
   "id": "e3611155",
   "metadata": {},
   "outputs": [
    {
     "data": {
      "text/plain": [
       "array(['top25', 'bottom25'], dtype=object)"
      ]
     },
     "execution_count": 5,
     "metadata": {},
     "output_type": "execute_result"
    }
   ],
   "source": [
    "master_df['retention_group'].unique()"
   ]
  },
  {
   "cell_type": "code",
   "execution_count": 6,
   "id": "96aec906",
   "metadata": {},
   "outputs": [],
   "source": [
    "### 상위\n",
    "# 상위 25% 그룹 나누기\n",
    "cohort_upper25_df = master_df[master_df['retention_group']=='top25']\n",
    "\n",
    "# 상위 25%의 유저 id 리스트로 정리\n",
    "upper25_user_list = list(cohort_upper25_df['user_id'].unique())\n",
    "\n",
    "\n",
    "### 하위\n",
    "# 하위 25% 그룹 나누기\n",
    "cohort_lower25_df = master_df[master_df['retention_group']=='bottom25']\n",
    "\n",
    "# 하위 25%의 유저 id 리스트로 정리\n",
    "lower25_user_list = list(cohort_lower25_df['user_id'].unique())"
   ]
  },
  {
   "cell_type": "code",
   "execution_count": 7,
   "id": "b4554509",
   "metadata": {},
   "outputs": [
    {
     "name": "stdout",
     "output_type": "stream",
     "text": [
      "리텐션 상위 25% 그룹 유저 수 : 1263\n",
      "리텐션 하위 25% 그룹 유저 수 : 1244\n"
     ]
    }
   ],
   "source": [
    "# 각 코호트별 유저 수 확인해보기\n",
    "\n",
    "print(f\"리텐션 상위 25% 그룹 유저 수 : {len(upper25_user_list)}\")\n",
    "print(f\"리텐션 하위 25% 그룹 유저 수 : {len(lower25_user_list)}\")"
   ]
  },
  {
   "cell_type": "markdown",
   "id": "28eaef26",
   "metadata": {},
   "source": [
    "---"
   ]
  },
  {
   "cell_type": "markdown",
   "id": "4adf8391",
   "metadata": {},
   "source": [
    "## 25%로 나눈 cohort별 지표 비교해보기"
   ]
  },
  {
   "cell_type": "markdown",
   "id": "eaec92a2",
   "metadata": {},
   "source": [
    "### 중학생? 고등학생?"
   ]
  },
  {
   "cell_type": "code",
   "execution_count": 8,
   "metadata": {},
   "outputs": [
    {
     "data": {
      "text/html": [
       "<div>\n",
       "<style scoped>\n",
       "    .dataframe tbody tr th:only-of-type {\n",
       "        vertical-align: middle;\n",
       "    }\n",
       "\n",
       "    .dataframe tbody tr th {\n",
       "        vertical-align: top;\n",
       "    }\n",
       "\n",
       "    .dataframe thead th {\n",
       "        text-align: right;\n",
       "    }\n",
       "</style>\n",
       "<table border=\"1\" class=\"dataframe\">\n",
       "  <thead>\n",
       "    <tr style=\"text-align: right;\">\n",
       "      <th></th>\n",
       "      <th>school_type</th>\n",
       "      <th>count</th>\n",
       "      <th>rate</th>\n",
       "    </tr>\n",
       "  </thead>\n",
       "  <tbody>\n",
       "    <tr>\n",
       "      <th>0</th>\n",
       "      <td>H</td>\n",
       "      <td>813</td>\n",
       "      <td>0.653537</td>\n",
       "    </tr>\n",
       "    <tr>\n",
       "      <th>1</th>\n",
       "      <td>M</td>\n",
       "      <td>450</td>\n",
       "      <td>0.361736</td>\n",
       "    </tr>\n",
       "  </tbody>\n",
       "</table>\n",
       "</div>"
      ],
      "text/plain": [
       "  school_type  count      rate\n",
       "0           H    813  0.653537\n",
       "1           M    450  0.361736"
      ]
     },
     "execution_count": 8,
     "metadata": {},
     "output_type": "execute_result"
    }
   ],
   "source": [
    "# 상위 25%\n",
    "school_type_rate_upper25 = cohort_upper25_df['school_type'].value_counts().reset_index()\n",
    "school_type_rate_upper25['rate'] = school_type_rate_upper25['count'] / len(lower25_user_list)\n",
    "school_type_rate_upper25"
   ]
  },
  {
   "cell_type": "code",
   "execution_count": 9,
   "id": "2c2d1e05",
   "metadata": {},
   "outputs": [
    {
     "data": {
      "image/png": "[encoded data removed]",
      "text/plain": [
       "<Figure size 600x600 with 1 Axes>"
      ]
     },
     "metadata": {},
     "output_type": "display_data"
    }
   ],
   "source": [
    "# 시각화\n",
    "plt.figure(figsize=(6,6))\n",
    "sns.barplot(data=school_type_rate_upper25, x='school_type', y='rate')\n",
    "plt.title('리텐션 상위 cohort의 학교 타입 비율 비교')\n",
    "plt.show()"
   ]
  },
  {
   "cell_type": "code",
   "execution_count": 10,
   "id": "c275e449",
   "metadata": {},
   "outputs": [
    {
     "data": {
      "text/html": [
       "<div>\n",
       "<style scoped>\n",
       "    .dataframe tbody tr th:only-of-type {\n",
       "        vertical-align: middle;\n",
       "    }\n",
       "\n",
       "    .dataframe tbody tr th {\n",
       "        vertical-align: top;\n",
       "    }\n",
       "\n",
       "    .dataframe thead th {\n",
       "        text-align: right;\n",
       "    }\n",
       "</style>\n",
       "<table border=\"1\" class=\"dataframe\">\n",
       "  <thead>\n",
       "    <tr style=\"text-align: right;\">\n",
       "      <th></th>\n",
       "      <th>school_type</th>\n",
       "      <th>count</th>\n",
       "      <th>rate</th>\n",
       "    </tr>\n",
       "  </thead>\n",
       "  <tbody>\n",
       "    <tr>\n",
       "      <th>0</th>\n",
       "      <td>H</td>\n",
       "      <td>1187</td>\n",
       "      <td>0.939826</td>\n",
       "    </tr>\n",
       "    <tr>\n",
       "      <th>1</th>\n",
       "      <td>M</td>\n",
       "      <td>57</td>\n",
       "      <td>0.045131</td>\n",
       "    </tr>\n",
       "  </tbody>\n",
       "</table>\n",
       "</div>"
      ],
      "text/plain": [
       "  school_type  count      rate\n",
       "0           H   1187  0.939826\n",
       "1           M     57  0.045131"
      ]
     },
     "execution_count": 10,
     "metadata": {},
     "output_type": "execute_result"
    }
   ],
   "source": [
    "# 하위 25%\n",
    "school_type_rate_lower25 = cohort_lower25_df['school_type'].value_counts().reset_index()\n",
    "school_type_rate_lower25['rate'] = school_type_rate_lower25['count'] / len(upper25_user_list)\n",
    "school_type_rate_lower25"
   ]
  },
  {
   "cell_type": "code",
   "execution_count": 11,
   "id": "fa162a2b",
   "metadata": {},
   "outputs": [
    {
     "data": {
      "image/png": "[encoded data removed]",
      "text/plain": [
       "<Figure size 600x600 with 1 Axes>"
      ]
     },
     "metadata": {},
     "output_type": "display_data"
    }
   ],
   "source": [
    "# 시각화\n",
    "plt.figure(figsize=(6,6))\n",
    "sns.barplot(data=school_type_rate_lower25, x='school_type', y='rate')\n",
    "plt.title('리텐션 하위 cohort의 학교 타입 비율 비교')\n",
    "plt.show()"
   ]
  },
  {
   "cell_type": "markdown",
   "id": "f49ae2be",
   "metadata": {},
   "source": [
    "### 마스터 테이블에 cohort 추가하기"
   ]
  },
  {
   "cell_type": "code",
   "execution_count": 12,
   "id": "b9551e1c",
   "metadata": {},
   "outputs": [
    {
     "data": {
      "text/html": [
       "<div>\n",
       "<style scoped>\n",
       "    .dataframe tbody tr th:only-of-type {\n",
       "        vertical-align: middle;\n",
       "    }\n",
       "\n",
       "    .dataframe tbody tr th {\n",
       "        vertical-align: top;\n",
       "    }\n",
       "\n",
       "    .dataframe thead th {\n",
       "        text-align: right;\n",
       "    }\n",
       "</style>\n",
       "<table border=\"1\" class=\"dataframe\">\n",
       "  <thead>\n",
       "    <tr style=\"text-align: right;\">\n",
       "      <th></th>\n",
       "      <th>Unnamed: 0</th>\n",
       "      <th>user_id</th>\n",
       "      <th>total_votes</th>\n",
       "      <th>unique_days</th>\n",
       "      <th>first_vote</th>\n",
       "      <th>last_vote</th>\n",
       "      <th>active_days</th>\n",
       "      <th>cohort_day</th>\n",
       "      <th>retention_day8</th>\n",
       "      <th>gender</th>\n",
       "      <th>...</th>\n",
       "      <th>first_vote_date</th>\n",
       "      <th>first_point_use_date</th>\n",
       "      <th>first_point_use_amount</th>\n",
       "      <th>vote_sameday_signup</th>\n",
       "      <th>days_to_vote</th>\n",
       "      <th>days_to_point</th>\n",
       "      <th>days_to_point_after_vote</th>\n",
       "      <th>first_vote_hour</th>\n",
       "      <th>first_voteday_question_count</th>\n",
       "      <th>cohort</th>\n",
       "    </tr>\n",
       "  </thead>\n",
       "  <tbody>\n",
       "    <tr>\n",
       "      <th>0</th>\n",
       "      <td>0</td>\n",
       "      <td>838466</td>\n",
       "      <td>129</td>\n",
       "      <td>7</td>\n",
       "      <td>2023-05-02</td>\n",
       "      <td>2023-06-02</td>\n",
       "      <td>31</td>\n",
       "      <td>2023-05-02</td>\n",
       "      <td>0.569444</td>\n",
       "      <td>F</td>\n",
       "      <td>...</td>\n",
       "      <td>2023-05-02 22:42:05</td>\n",
       "      <td>2023-05-05 07:32:34</td>\n",
       "      <td>-300.0</td>\n",
       "      <td>0</td>\n",
       "      <td>13</td>\n",
       "      <td>15.0</td>\n",
       "      <td>2.0</td>\n",
       "      <td>22</td>\n",
       "      <td>9</td>\n",
       "      <td>1</td>\n",
       "    </tr>\n",
       "    <tr>\n",
       "      <th>1</th>\n",
       "      <td>1</td>\n",
       "      <td>838642</td>\n",
       "      <td>10</td>\n",
       "      <td>2</td>\n",
       "      <td>2023-04-28</td>\n",
       "      <td>2023-04-29</td>\n",
       "      <td>1</td>\n",
       "      <td>2023-04-28</td>\n",
       "      <td>0.560000</td>\n",
       "      <td>F</td>\n",
       "      <td>...</td>\n",
       "      <td>2023-04-28 14:18:07</td>\n",
       "      <td>2023-04-30 06:49:01</td>\n",
       "      <td>-300.0</td>\n",
       "      <td>0</td>\n",
       "      <td>8</td>\n",
       "      <td>10.0</td>\n",
       "      <td>1.0</td>\n",
       "      <td>14</td>\n",
       "      <td>9</td>\n",
       "      <td>1</td>\n",
       "    </tr>\n",
       "    <tr>\n",
       "      <th>2</th>\n",
       "      <td>2</td>\n",
       "      <td>840512</td>\n",
       "      <td>141</td>\n",
       "      <td>8</td>\n",
       "      <td>2023-05-02</td>\n",
       "      <td>2023-07-11</td>\n",
       "      <td>70</td>\n",
       "      <td>2023-05-02</td>\n",
       "      <td>0.569444</td>\n",
       "      <td>M</td>\n",
       "      <td>...</td>\n",
       "      <td>2023-05-02 23:42:03</td>\n",
       "      <td>2023-05-03 05:10:18</td>\n",
       "      <td>-300.0</td>\n",
       "      <td>0</td>\n",
       "      <td>11</td>\n",
       "      <td>11.0</td>\n",
       "      <td>0.0</td>\n",
       "      <td>23</td>\n",
       "      <td>1</td>\n",
       "      <td>1</td>\n",
       "    </tr>\n",
       "    <tr>\n",
       "      <th>3</th>\n",
       "      <td>3</td>\n",
       "      <td>840685</td>\n",
       "      <td>567</td>\n",
       "      <td>21</td>\n",
       "      <td>2023-05-02</td>\n",
       "      <td>2023-06-06</td>\n",
       "      <td>35</td>\n",
       "      <td>2023-05-02</td>\n",
       "      <td>0.569444</td>\n",
       "      <td>F</td>\n",
       "      <td>...</td>\n",
       "      <td>2023-05-02 22:22:58</td>\n",
       "      <td>2023-05-03 02:56:17</td>\n",
       "      <td>-300.0</td>\n",
       "      <td>0</td>\n",
       "      <td>11</td>\n",
       "      <td>11.0</td>\n",
       "      <td>0.0</td>\n",
       "      <td>22</td>\n",
       "      <td>12</td>\n",
       "      <td>1</td>\n",
       "    </tr>\n",
       "    <tr>\n",
       "      <th>4</th>\n",
       "      <td>4</td>\n",
       "      <td>840902</td>\n",
       "      <td>250</td>\n",
       "      <td>14</td>\n",
       "      <td>2023-05-02</td>\n",
       "      <td>2023-05-27</td>\n",
       "      <td>25</td>\n",
       "      <td>2023-05-02</td>\n",
       "      <td>0.569444</td>\n",
       "      <td>F</td>\n",
       "      <td>...</td>\n",
       "      <td>2023-05-02 22:33:49</td>\n",
       "      <td>2023-05-03 13:03:16</td>\n",
       "      <td>-300.0</td>\n",
       "      <td>0</td>\n",
       "      <td>10</td>\n",
       "      <td>11.0</td>\n",
       "      <td>0.0</td>\n",
       "      <td>22</td>\n",
       "      <td>6</td>\n",
       "      <td>1</td>\n",
       "    </tr>\n",
       "  </tbody>\n",
       "</table>\n",
       "<p>5 rows × 34 columns</p>\n",
       "</div>"
      ],
      "text/plain": [
       "   Unnamed: 0  user_id  total_votes  unique_days  first_vote   last_vote  \\\n",
       "0           0   838466          129            7  2023-05-02  2023-06-02   \n",
       "1           1   838642           10            2  2023-04-28  2023-04-29   \n",
       "2           2   840512          141            8  2023-05-02  2023-07-11   \n",
       "3           3   840685          567           21  2023-05-02  2023-06-06   \n",
       "4           4   840902          250           14  2023-05-02  2023-05-27   \n",
       "\n",
       "   active_days  cohort_day  retention_day8 gender  ...      first_vote_date  \\\n",
       "0           31  2023-05-02        0.569444      F  ...  2023-05-02 22:42:05   \n",
       "1            1  2023-04-28        0.560000      F  ...  2023-04-28 14:18:07   \n",
       "2           70  2023-05-02        0.569444      M  ...  2023-05-02 23:42:03   \n",
       "3           35  2023-05-02        0.569444      F  ...  2023-05-02 22:22:58   \n",
       "4           25  2023-05-02        0.569444      F  ...  2023-05-02 22:33:49   \n",
       "\n",
       "   first_point_use_date  first_point_use_amount  vote_sameday_signup  \\\n",
       "0   2023-05-05 07:32:34                  -300.0                    0   \n",
       "1   2023-04-30 06:49:01                  -300.0                    0   \n",
       "2   2023-05-03 05:10:18                  -300.0                    0   \n",
       "3   2023-05-03 02:56:17                  -300.0                    0   \n",
       "4   2023-05-03 13:03:16                  -300.0                    0   \n",
       "\n",
       "   days_to_vote days_to_point days_to_point_after_vote  first_vote_hour  \\\n",
       "0            13          15.0                      2.0               22   \n",
       "1             8          10.0                      1.0               14   \n",
       "2            11          11.0                      0.0               23   \n",
       "3            11          11.0                      0.0               22   \n",
       "4            10          11.0                      0.0               22   \n",
       "\n",
       "  first_voteday_question_count  cohort  \n",
       "0                            9       1  \n",
       "1                            9       1  \n",
       "2                            1       1  \n",
       "3                           12       1  \n",
       "4                            6       1  \n",
       "\n",
       "[5 rows x 34 columns]"
      ]
     },
     "execution_count": 12,
     "metadata": {},
     "output_type": "execute_result"
    }
   ],
   "source": [
    "# cohort 추가한 데이터프레임 만들기\n",
    "master_cohort_df = master_df.copy()\n",
    "\n",
    "# 상위 25% 유저는 1, 하위 25% 유저는 2, 아니면 결측값 넣기\n",
    "master_cohort_df['cohort'] = master_cohort_df['user_id'].apply(\n",
    "    lambda x : 1 if x in upper25_user_list\n",
    "    else 2 if x in lower25_user_list\n",
    "    else np.nan\n",
    ")\n",
    "\n",
    "master_cohort_df.head()"
   ]
  },
  {
   "cell_type": "markdown",
   "id": "966bff6b",
   "metadata": {},
   "source": [
    "### 리텐션이 높은 집단에는 중학생이 더 많이 포함되어 있을 것이다\n",
    "\t•\t귀무가설(H₀): 중학생 비율(cohort 1) ≤ 중학생 비율(cohort 2)\n",
    "\t•\t대립가설(H₁): 중학생 비율(cohort 1) > 중학생 비율(cohort 2)\n",
    "- 이 차이가 통계적으로 유의한가?이런 차이가 우연히 발생할 확률이 얼마나 되냐? 를 확인하기 위해서 통계 검정 진행\n",
    "- 검정 방법 : \"중학생은 리텐션 높은 집단에 더 많을 것이다”를 확인하기 위한 단측 검정 수행 ->  Z-test "
   ]
  },
  {
   "cell_type": "code",
   "execution_count": 13,
   "id": "68143c0f",
   "metadata": {},
   "outputs": [
    {
     "data": {
      "text/html": [
       "<div>\n",
       "<style scoped>\n",
       "    .dataframe tbody tr th:only-of-type {\n",
       "        vertical-align: middle;\n",
       "    }\n",
       "\n",
       "    .dataframe tbody tr th {\n",
       "        vertical-align: top;\n",
       "    }\n",
       "\n",
       "    .dataframe thead th {\n",
       "        text-align: right;\n",
       "    }\n",
       "</style>\n",
       "<table border=\"1\" class=\"dataframe\">\n",
       "  <thead>\n",
       "    <tr style=\"text-align: right;\">\n",
       "      <th></th>\n",
       "      <th>Unnamed: 0</th>\n",
       "      <th>user_id</th>\n",
       "      <th>total_votes</th>\n",
       "      <th>unique_days</th>\n",
       "      <th>first_vote</th>\n",
       "      <th>last_vote</th>\n",
       "      <th>active_days</th>\n",
       "      <th>cohort_day</th>\n",
       "      <th>retention_day8</th>\n",
       "      <th>gender</th>\n",
       "      <th>...</th>\n",
       "      <th>first_point_use_date</th>\n",
       "      <th>first_point_use_amount</th>\n",
       "      <th>vote_sameday_signup</th>\n",
       "      <th>days_to_vote</th>\n",
       "      <th>days_to_point</th>\n",
       "      <th>days_to_point_after_vote</th>\n",
       "      <th>first_vote_hour</th>\n",
       "      <th>first_voteday_question_count</th>\n",
       "      <th>cohort</th>\n",
       "      <th>middleschooler</th>\n",
       "    </tr>\n",
       "  </thead>\n",
       "  <tbody>\n",
       "    <tr>\n",
       "      <th>0</th>\n",
       "      <td>0</td>\n",
       "      <td>838466</td>\n",
       "      <td>129</td>\n",
       "      <td>7</td>\n",
       "      <td>2023-05-02</td>\n",
       "      <td>2023-06-02</td>\n",
       "      <td>31</td>\n",
       "      <td>2023-05-02</td>\n",
       "      <td>0.569444</td>\n",
       "      <td>F</td>\n",
       "      <td>...</td>\n",
       "      <td>2023-05-05 07:32:34</td>\n",
       "      <td>-300.0</td>\n",
       "      <td>0</td>\n",
       "      <td>13</td>\n",
       "      <td>15.0</td>\n",
       "      <td>2.0</td>\n",
       "      <td>22</td>\n",
       "      <td>9</td>\n",
       "      <td>1</td>\n",
       "      <td>0</td>\n",
       "    </tr>\n",
       "    <tr>\n",
       "      <th>1</th>\n",
       "      <td>1</td>\n",
       "      <td>838642</td>\n",
       "      <td>10</td>\n",
       "      <td>2</td>\n",
       "      <td>2023-04-28</td>\n",
       "      <td>2023-04-29</td>\n",
       "      <td>1</td>\n",
       "      <td>2023-04-28</td>\n",
       "      <td>0.560000</td>\n",
       "      <td>F</td>\n",
       "      <td>...</td>\n",
       "      <td>2023-04-30 06:49:01</td>\n",
       "      <td>-300.0</td>\n",
       "      <td>0</td>\n",
       "      <td>8</td>\n",
       "      <td>10.0</td>\n",
       "      <td>1.0</td>\n",
       "      <td>14</td>\n",
       "      <td>9</td>\n",
       "      <td>1</td>\n",
       "      <td>0</td>\n",
       "    </tr>\n",
       "    <tr>\n",
       "      <th>2</th>\n",
       "      <td>2</td>\n",
       "      <td>840512</td>\n",
       "      <td>141</td>\n",
       "      <td>8</td>\n",
       "      <td>2023-05-02</td>\n",
       "      <td>2023-07-11</td>\n",
       "      <td>70</td>\n",
       "      <td>2023-05-02</td>\n",
       "      <td>0.569444</td>\n",
       "      <td>M</td>\n",
       "      <td>...</td>\n",
       "      <td>2023-05-03 05:10:18</td>\n",
       "      <td>-300.0</td>\n",
       "      <td>0</td>\n",
       "      <td>11</td>\n",
       "      <td>11.0</td>\n",
       "      <td>0.0</td>\n",
       "      <td>23</td>\n",
       "      <td>1</td>\n",
       "      <td>1</td>\n",
       "      <td>0</td>\n",
       "    </tr>\n",
       "    <tr>\n",
       "      <th>3</th>\n",
       "      <td>3</td>\n",
       "      <td>840685</td>\n",
       "      <td>567</td>\n",
       "      <td>21</td>\n",
       "      <td>2023-05-02</td>\n",
       "      <td>2023-06-06</td>\n",
       "      <td>35</td>\n",
       "      <td>2023-05-02</td>\n",
       "      <td>0.569444</td>\n",
       "      <td>F</td>\n",
       "      <td>...</td>\n",
       "      <td>2023-05-03 02:56:17</td>\n",
       "      <td>-300.0</td>\n",
       "      <td>0</td>\n",
       "      <td>11</td>\n",
       "      <td>11.0</td>\n",
       "      <td>0.0</td>\n",
       "      <td>22</td>\n",
       "      <td>12</td>\n",
       "      <td>1</td>\n",
       "      <td>0</td>\n",
       "    </tr>\n",
       "    <tr>\n",
       "      <th>4</th>\n",
       "      <td>4</td>\n",
       "      <td>840902</td>\n",
       "      <td>250</td>\n",
       "      <td>14</td>\n",
       "      <td>2023-05-02</td>\n",
       "      <td>2023-05-27</td>\n",
       "      <td>25</td>\n",
       "      <td>2023-05-02</td>\n",
       "      <td>0.569444</td>\n",
       "      <td>F</td>\n",
       "      <td>...</td>\n",
       "      <td>2023-05-03 13:03:16</td>\n",
       "      <td>-300.0</td>\n",
       "      <td>0</td>\n",
       "      <td>10</td>\n",
       "      <td>11.0</td>\n",
       "      <td>0.0</td>\n",
       "      <td>22</td>\n",
       "      <td>6</td>\n",
       "      <td>1</td>\n",
       "      <td>0</td>\n",
       "    </tr>\n",
       "  </tbody>\n",
       "</table>\n",
       "<p>5 rows × 35 columns</p>\n",
       "</div>"
      ],
      "text/plain": [
       "   Unnamed: 0  user_id  total_votes  unique_days  first_vote   last_vote  \\\n",
       "0           0   838466          129            7  2023-05-02  2023-06-02   \n",
       "1           1   838642           10            2  2023-04-28  2023-04-29   \n",
       "2           2   840512          141            8  2023-05-02  2023-07-11   \n",
       "3           3   840685          567           21  2023-05-02  2023-06-06   \n",
       "4           4   840902          250           14  2023-05-02  2023-05-27   \n",
       "\n",
       "   active_days  cohort_day  retention_day8 gender  ...  first_point_use_date  \\\n",
       "0           31  2023-05-02        0.569444      F  ...   2023-05-05 07:32:34   \n",
       "1            1  2023-04-28        0.560000      F  ...   2023-04-30 06:49:01   \n",
       "2           70  2023-05-02        0.569444      M  ...   2023-05-03 05:10:18   \n",
       "3           35  2023-05-02        0.569444      F  ...   2023-05-03 02:56:17   \n",
       "4           25  2023-05-02        0.569444      F  ...   2023-05-03 13:03:16   \n",
       "\n",
       "   first_point_use_amount  vote_sameday_signup  days_to_vote  days_to_point  \\\n",
       "0                  -300.0                    0            13           15.0   \n",
       "1                  -300.0                    0             8           10.0   \n",
       "2                  -300.0                    0            11           11.0   \n",
       "3                  -300.0                    0            11           11.0   \n",
       "4                  -300.0                    0            10           11.0   \n",
       "\n",
       "  days_to_point_after_vote first_vote_hour  first_voteday_question_count  \\\n",
       "0                      2.0              22                             9   \n",
       "1                      1.0              14                             9   \n",
       "2                      0.0              23                             1   \n",
       "3                      0.0              22                            12   \n",
       "4                      0.0              22                             6   \n",
       "\n",
       "  cohort  middleschooler  \n",
       "0      1               0  \n",
       "1      1               0  \n",
       "2      1               0  \n",
       "3      1               0  \n",
       "4      1               0  \n",
       "\n",
       "[5 rows x 35 columns]"
      ]
     },
     "execution_count": 13,
     "metadata": {},
     "output_type": "execute_result"
    }
   ],
   "source": [
    "# 중학생 여부 컬럼 추가하기\n",
    "\n",
    "# 원본 데이터 유지\n",
    "master_cohort_middleschool_df = master_cohort_df.copy()\n",
    "\n",
    "# 컬럼 추가\n",
    "master_cohort_middleschool_df['middleschooler'] = master_cohort_middleschool_df['school_type'].apply(\n",
    "    lambda x : 1 if x == 'M'\n",
    "    else 0\n",
    ")\n",
    "master_cohort_middleschool_df.head()"
   ]
  },
  {
   "cell_type": "code",
   "execution_count": 14,
   "id": "764f6953",
   "metadata": {},
   "outputs": [
    {
     "data": {
      "text/plain": [
       "Index(['Unnamed: 0', 'user_id', 'total_votes', 'unique_days', 'first_vote',\n",
       "       'last_vote', 'active_days', 'cohort_day', 'retention_day8', 'gender',\n",
       "       'school_id', 'grade', 'group_id', 'votes_within_3d',\n",
       "       'period_friend_count', 'retention_group', 'address', 'student_count',\n",
       "       'school_type', 'firstquestion_id', 'first_question_text',\n",
       "       'first_question_category', 'chosen_count', 'sign_up_date',\n",
       "       'first_vote_date', 'first_point_use_date', 'first_point_use_amount',\n",
       "       'vote_sameday_signup', 'days_to_vote', 'days_to_point',\n",
       "       'days_to_point_after_vote', 'first_vote_hour',\n",
       "       'first_voteday_question_count', 'cohort', 'middleschooler'],\n",
       "      dtype='object')"
      ]
     },
     "execution_count": 14,
     "metadata": {},
     "output_type": "execute_result"
    }
   ],
   "source": [
    "master_cohort_middleschool_df.columns"
   ]
  },
  {
   "cell_type": "code",
   "execution_count": 15,
   "id": "804032fb",
   "metadata": {},
   "outputs": [],
   "source": [
    "# 중학생 유저 id 뽑기\n",
    "middleschool_user_list = list(master_cohort_middleschool_df[master_cohort_middleschool_df['middleschooler'] == 1]['user_id'].unique())"
   ]
  },
  {
   "cell_type": "code",
   "execution_count": 16,
   "id": "f7aeee13",
   "metadata": {},
   "outputs": [
    {
     "name": "stdout",
     "output_type": "stream",
     "text": [
      "Z-statistic: 19.35\n",
      "p-value: 0.0000\n",
      "중학생 비율이 리텐션 높은 그룹(cohort 1)에서 유의하게 더 높습니다.\n"
     ]
    }
   ],
   "source": [
    "# cohort별로 중학생 수 세기\n",
    "count_group1 = master_cohort_middleschool_df[(master_cohort_middleschool_df[\"cohort\"] == 1) & (master_cohort_middleschool_df[\"middleschooler\"] == 1)].shape[0]\n",
    "count_group2 = master_cohort_middleschool_df[(master_cohort_middleschool_df[\"cohort\"] == 2) & (master_cohort_middleschool_df[\"middleschooler\"] == 1)].shape[0]\n",
    "\n",
    "# cohort별 전체 수 세기\n",
    "nobs_group1 = master_cohort_middleschool_df[master_cohort_middleschool_df[\"cohort\"] == 1].shape[0]\n",
    "nobs_group2 = master_cohort_middleschool_df[master_cohort_middleschool_df[\"cohort\"] == 2].shape[0]\n",
    "\n",
    "# proportions_ztest 실행 - 단측 검정 (group1이 더 클 것이라는 가정)\n",
    "count = [count_group1, count_group2]\n",
    "nobs = [nobs_group1, nobs_group2]\n",
    "\n",
    "zstat, pval = proportions_ztest(count, nobs, alternative='larger')\n",
    "\n",
    "print(f\"Z-statistic: {zstat:.2f}\")\n",
    "print(f\"p-value: {pval:.4f}\")\n",
    "\n",
    "if pval < 0.05:\n",
    "    print(\"중학생 비율이 리텐션 높은 그룹(cohort 1)에서 유의하게 더 높습니다.\")\n",
    "else:\n",
    "    print(\"중학생 비율 차이가 유의하지 않습니다.\")"
   ]
  },
  {
   "cell_type": "markdown",
   "id": "ec354945",
   "metadata": {},
   "source": [
    "- zstat은 두 비율 차이가 얼마나 큰지 표준 정규 분포 기준으로 수치화한 값.\n",
    "- 즉, zstat이 클수록 → p-value는 작아짐 → 귀무가설 기각 가능성 높아짐\n",
    "```\n",
    "중학생은 리텐션 높은 집단에 더 많음.\n",
    "중학생의 참여를 높이자!\n",
    "```"
   ]
  },
  {
   "cell_type": "markdown",
   "id": "a138f20c",
   "metadata": {},
   "source": [
    "- cohort별 중학생 유저 리스트"
   ]
  },
  {
   "cell_type": "code",
   "execution_count": 17,
   "id": "9d8fb712",
   "metadata": {},
   "outputs": [],
   "source": [
    "upper25_middler_list = master_cohort_middleschool_df[(master_cohort_middleschool_df[\"cohort\"] == 1) & (master_cohort_middleschool_df[\"middleschooler\"] == 1)]['user_id'].unique()\n",
    "lower25_middler_list = master_cohort_middleschool_df[(master_cohort_middleschool_df[\"cohort\"] == 2) & (master_cohort_middleschool_df[\"middleschooler\"] == 1)]['user_id'].unique()"
   ]
  },
  {
   "cell_type": "markdown",
   "id": "2e149ccf",
   "metadata": {},
   "source": [
    "---"
   ]
  },
  {
   "cell_type": "markdown",
   "id": "c23821f4",
   "metadata": {},
   "source": [
    "#### 리텐션이 높았던 집단의 중학생과 낮은 집단의 중학생이 처음 접한 질문 카테고리에 차이가 있을까?"
   ]
  },
  {
   "cell_type": "code",
   "execution_count": 18,
   "id": "d592a7c3",
   "metadata": {},
   "outputs": [
    {
     "data": {
      "text/plain": [
       "str"
      ]
     },
     "execution_count": 18,
     "metadata": {},
     "output_type": "execute_result"
    }
   ],
   "source": [
    "type(master_cohort_middleschool_df['first_question_category'].iloc[0])"
   ]
  },
  {
   "cell_type": "code",
   "execution_count": 19,
   "id": "3e5567c8",
   "metadata": {},
   "outputs": [
    {
     "data": {
      "text/plain": [
       "\"['스타일']\""
      ]
     },
     "execution_count": 19,
     "metadata": {},
     "output_type": "execute_result"
    }
   ],
   "source": [
    "master_cohort_middleschool_df['first_question_category'].iloc[0]"
   ]
  },
  {
   "cell_type": "code",
   "execution_count": 20,
   "id": "96563788",
   "metadata": {},
   "outputs": [
    {
     "name": "stderr",
     "output_type": "stream",
     "text": [
      "/tmp/ipykernel_1342256/1816540209.py:17: SettingWithCopyWarning: \n",
      "A value is trying to be set on a copy of a slice from a DataFrame.\n",
      "Try using .loc[row_indexer,col_indexer] = value instead\n",
      "\n",
      "See the caveats in the documentation: https://pandas.pydata.org/pandas-docs/stable/user_guide/indexing.html#returning-a-view-versus-a-copy\n",
      "  middleschool_firstquestion_category_upper25['first_question_category'] = (\n"
     ]
    },
    {
     "data": {
      "text/plain": [
       "first_question_category\n",
       "인간관계    129\n",
       "일상      121\n",
       "스타일      45\n",
       "연애       34\n",
       "미래       29\n",
       "성격       22\n",
       "상상       20\n",
       "지식       15\n",
       "미디어      11\n",
       "운동        9\n",
       "심리        8\n",
       "감성        7\n",
       "Name: count, dtype: int64"
      ]
     },
     "execution_count": 20,
     "metadata": {},
     "output_type": "execute_result"
    }
   ],
   "source": [
    "# 상위 25% 집단 중 중학생의 첫 질문 카테고리 가져오기\n",
    "\n",
    "middleschool_firstquestion_category_upper25 = master_cohort_middleschool_df[(master_cohort_middleschool_df['cohort']==1)&(master_cohort_middleschool_df['middleschooler']==1)]\n",
    "\n",
    "# 문자열을 리스트로 바꿔주는 함수\n",
    "def parse_category_string(s):\n",
    "    if isinstance(s, str):\n",
    "        # 1. 대괄호 제거\n",
    "        s = s.strip()[1:-1]\n",
    "        # 2. 작은따옴표 제거\n",
    "        s = s.replace(\"'\", \"\")\n",
    "        # 3. 공백 기준 split\n",
    "        return s.split()\n",
    "    return s\n",
    "\n",
    "# 리스트로 변환\n",
    "middleschool_firstquestion_category_upper25['first_question_category'] = (\n",
    "    middleschool_firstquestion_category_upper25['first_question_category'].apply(parse_category_string)\n",
    ")\n",
    "\n",
    "# 카테고리 펼치기\n",
    "middleschool_firstquestion_category_upper25 = middleschool_firstquestion_category_upper25.explode('first_question_category')\n",
    "# 순위 확인해보기\n",
    "middleschool_firstquestion_category_upper25['first_question_category'].value_counts()"
   ]
  },
  {
   "cell_type": "code",
   "execution_count": 21,
   "id": "f949c8a7",
   "metadata": {},
   "outputs": [
    {
     "name": "stderr",
     "output_type": "stream",
     "text": [
      "/tmp/ipykernel_1342256/2068301723.py:17: SettingWithCopyWarning: \n",
      "A value is trying to be set on a copy of a slice from a DataFrame.\n",
      "Try using .loc[row_indexer,col_indexer] = value instead\n",
      "\n",
      "See the caveats in the documentation: https://pandas.pydata.org/pandas-docs/stable/user_guide/indexing.html#returning-a-view-versus-a-copy\n",
      "  middleschool_firstquestion_category_lower25['first_question_category'] = (\n"
     ]
    },
    {
     "data": {
      "text/plain": [
       "first_question_category\n",
       "일상      19\n",
       "인간관계    16\n",
       "연애       6\n",
       "스타일      4\n",
       "운동       3\n",
       "미래       3\n",
       "미디어      3\n",
       "상상       2\n",
       "지식       1\n",
       "성격       1\n",
       "Name: count, dtype: int64"
      ]
     },
     "execution_count": 21,
     "metadata": {},
     "output_type": "execute_result"
    }
   ],
   "source": [
    "# 하위 25% 집단 중 중학생의 첫 질문 카테고리 가져오기\n",
    "\n",
    "middleschool_firstquestion_category_lower25 = master_cohort_middleschool_df[(master_cohort_middleschool_df['cohort']==2)&(master_cohort_middleschool_df['middleschooler']==1)]\n",
    "\n",
    "# 문자열을 리스트로 바꿔주는 함수\n",
    "def parse_category_string(s):\n",
    "    if isinstance(s, str):\n",
    "        # 1. 대괄호 제거\n",
    "        s = s.strip()[1:-1]\n",
    "        # 2. 작은따옴표 제거\n",
    "        s = s.replace(\"'\", \"\")\n",
    "        # 3. 공백 기준 split\n",
    "        return s.split()\n",
    "    return s\n",
    "\n",
    "# 리스트로 변환\n",
    "middleschool_firstquestion_category_lower25['first_question_category'] = (\n",
    "    middleschool_firstquestion_category_lower25['first_question_category'].apply(parse_category_string)\n",
    ")\n",
    "# 카테고리 펼치기\n",
    "middleschool_firstquestion_category_lower25 = middleschool_firstquestion_category_lower25.explode('first_question_category')\n",
    "# 순위 확인해보기\n",
    "middleschool_firstquestion_category_lower25['first_question_category'].value_counts()"
   ]
  },
  {
   "cell_type": "markdown",
   "id": "f1a13739",
   "metadata": {},
   "source": [
    "- cohort별 참여한 모든 투표에 대해서 질문 카테고리 순위 확인해보기"
   ]
  },
  {
   "cell_type": "code",
   "execution_count": 22,
   "id": "1240255a",
   "metadata": {},
   "outputs": [
    {
     "data": {
      "text/html": [
       "<div>\n",
       "<style scoped>\n",
       "    .dataframe tbody tr th:only-of-type {\n",
       "        vertical-align: middle;\n",
       "    }\n",
       "\n",
       "    .dataframe tbody tr th {\n",
       "        vertical-align: top;\n",
       "    }\n",
       "\n",
       "    .dataframe thead th {\n",
       "        text-align: right;\n",
       "    }\n",
       "</style>\n",
       "<table border=\"1\" class=\"dataframe\">\n",
       "  <thead>\n",
       "    <tr style=\"text-align: right;\">\n",
       "      <th></th>\n",
       "      <th>id</th>\n",
       "      <th>question_text</th>\n",
       "      <th>created_at</th>\n",
       "      <th>category</th>\n",
       "    </tr>\n",
       "  </thead>\n",
       "  <tbody>\n",
       "    <tr>\n",
       "      <th>0</th>\n",
       "      <td>99</td>\n",
       "      <td>가장 신비한 매력이 있는 사람은?</td>\n",
       "      <td>2023-03-31 15:22:53</td>\n",
       "      <td>[상상]</td>\n",
       "    </tr>\n",
       "    <tr>\n",
       "      <th>1</th>\n",
       "      <td>100</td>\n",
       "      <td>\"이 사람으로 한 번 살아보고 싶다\" 하는 사람은?</td>\n",
       "      <td>2023-03-31 15:22:53</td>\n",
       "      <td>[상상]</td>\n",
       "    </tr>\n",
       "    <tr>\n",
       "      <th>2</th>\n",
       "      <td>101</td>\n",
       "      <td>미래의 틱톡커는?</td>\n",
       "      <td>2023-03-31 15:22:54</td>\n",
       "      <td>[미래]</td>\n",
       "    </tr>\n",
       "    <tr>\n",
       "      <th>3</th>\n",
       "      <td>102</td>\n",
       "      <td>여기서 제일 특이한 친구는?</td>\n",
       "      <td>2023-03-31 15:22:54</td>\n",
       "      <td>[인간관계]</td>\n",
       "    </tr>\n",
       "    <tr>\n",
       "      <th>4</th>\n",
       "      <td>103</td>\n",
       "      <td>가장 지켜주고 싶은 사람은?</td>\n",
       "      <td>2023-03-31 15:22:55</td>\n",
       "      <td>[인간관계]</td>\n",
       "    </tr>\n",
       "  </tbody>\n",
       "</table>\n",
       "</div>"
      ],
      "text/plain": [
       "    id                 question_text          created_at category\n",
       "0   99            가장 신비한 매력이 있는 사람은? 2023-03-31 15:22:53     [상상]\n",
       "1  100  \"이 사람으로 한 번 살아보고 싶다\" 하는 사람은? 2023-03-31 15:22:53     [상상]\n",
       "2  101                     미래의 틱톡커는? 2023-03-31 15:22:54     [미래]\n",
       "3  102               여기서 제일 특이한 친구는? 2023-03-31 15:22:54   [인간관계]\n",
       "4  103               가장 지켜주고 싶은 사람은? 2023-03-31 15:22:55   [인간관계]"
      ]
     },
     "execution_count": 22,
     "metadata": {},
     "output_type": "execute_result"
    }
   ],
   "source": [
    "# 질문 유형 정보 테이블\n",
    "question_category_df = pd.read_parquet('./polls_question_add_one_category.parquet')\n",
    "question_category_df.head()"
   ]
  },
  {
   "cell_type": "code",
   "execution_count": 23,
   "id": "5e72bc1e",
   "metadata": {},
   "outputs": [
    {
     "data": {
      "text/html": [
       "<div>\n",
       "<style scoped>\n",
       "    .dataframe tbody tr th:only-of-type {\n",
       "        vertical-align: middle;\n",
       "    }\n",
       "\n",
       "    .dataframe tbody tr th {\n",
       "        vertical-align: top;\n",
       "    }\n",
       "\n",
       "    .dataframe thead th {\n",
       "        text-align: right;\n",
       "    }\n",
       "</style>\n",
       "<table border=\"1\" class=\"dataframe\">\n",
       "  <thead>\n",
       "    <tr style=\"text-align: right;\">\n",
       "      <th></th>\n",
       "      <th>id</th>\n",
       "      <th>status</th>\n",
       "      <th>created_at</th>\n",
       "      <th>chosen_user_id</th>\n",
       "      <th>question_id</th>\n",
       "      <th>user_id</th>\n",
       "      <th>question_piece_id</th>\n",
       "      <th>has_read</th>\n",
       "      <th>answer_status</th>\n",
       "      <th>answer_updated_at</th>\n",
       "      <th>report_count</th>\n",
       "      <th>opened_times</th>\n",
       "    </tr>\n",
       "  </thead>\n",
       "  <tbody>\n",
       "    <tr>\n",
       "      <th>0</th>\n",
       "      <td>771777</td>\n",
       "      <td>C</td>\n",
       "      <td>2023-04-28 12:27:49</td>\n",
       "      <td>849469</td>\n",
       "      <td>252</td>\n",
       "      <td>849436</td>\n",
       "      <td>998458</td>\n",
       "      <td>0</td>\n",
       "      <td>N</td>\n",
       "      <td>2023-04-28 12:27:49</td>\n",
       "      <td>0</td>\n",
       "      <td>0</td>\n",
       "    </tr>\n",
       "    <tr>\n",
       "      <th>1</th>\n",
       "      <td>771800</td>\n",
       "      <td>C</td>\n",
       "      <td>2023-04-28 12:28:02</td>\n",
       "      <td>849446</td>\n",
       "      <td>244</td>\n",
       "      <td>849436</td>\n",
       "      <td>998459</td>\n",
       "      <td>0</td>\n",
       "      <td>N</td>\n",
       "      <td>2023-04-28 12:28:02</td>\n",
       "      <td>0</td>\n",
       "      <td>0</td>\n",
       "    </tr>\n",
       "    <tr>\n",
       "      <th>2</th>\n",
       "      <td>771812</td>\n",
       "      <td>C</td>\n",
       "      <td>2023-04-28 12:28:09</td>\n",
       "      <td>849454</td>\n",
       "      <td>183</td>\n",
       "      <td>849436</td>\n",
       "      <td>998460</td>\n",
       "      <td>1</td>\n",
       "      <td>N</td>\n",
       "      <td>2023-04-28 12:28:09</td>\n",
       "      <td>0</td>\n",
       "      <td>0</td>\n",
       "    </tr>\n",
       "    <tr>\n",
       "      <th>3</th>\n",
       "      <td>771828</td>\n",
       "      <td>C</td>\n",
       "      <td>2023-04-28 12:28:16</td>\n",
       "      <td>847375</td>\n",
       "      <td>101</td>\n",
       "      <td>849436</td>\n",
       "      <td>998461</td>\n",
       "      <td>0</td>\n",
       "      <td>N</td>\n",
       "      <td>2023-04-28 12:28:16</td>\n",
       "      <td>0</td>\n",
       "      <td>0</td>\n",
       "    </tr>\n",
       "    <tr>\n",
       "      <th>4</th>\n",
       "      <td>771851</td>\n",
       "      <td>C</td>\n",
       "      <td>2023-04-28 12:28:26</td>\n",
       "      <td>849477</td>\n",
       "      <td>209</td>\n",
       "      <td>849436</td>\n",
       "      <td>998462</td>\n",
       "      <td>1</td>\n",
       "      <td>N</td>\n",
       "      <td>2023-04-28 12:28:26</td>\n",
       "      <td>0</td>\n",
       "      <td>0</td>\n",
       "    </tr>\n",
       "  </tbody>\n",
       "</table>\n",
       "</div>"
      ],
      "text/plain": [
       "       id status          created_at  chosen_user_id  question_id  user_id  \\\n",
       "0  771777      C 2023-04-28 12:27:49          849469          252   849436   \n",
       "1  771800      C 2023-04-28 12:28:02          849446          244   849436   \n",
       "2  771812      C 2023-04-28 12:28:09          849454          183   849436   \n",
       "3  771828      C 2023-04-28 12:28:16          847375          101   849436   \n",
       "4  771851      C 2023-04-28 12:28:26          849477          209   849436   \n",
       "\n",
       "   question_piece_id  has_read answer_status   answer_updated_at  \\\n",
       "0             998458         0             N 2023-04-28 12:27:49   \n",
       "1             998459         0             N 2023-04-28 12:28:02   \n",
       "2             998460         1             N 2023-04-28 12:28:09   \n",
       "3             998461         0             N 2023-04-28 12:28:16   \n",
       "4             998462         1             N 2023-04-28 12:28:26   \n",
       "\n",
       "   report_count  opened_times  \n",
       "0             0             0  \n",
       "1             0             0  \n",
       "2             0             0  \n",
       "3             0             0  \n",
       "4             0             0  "
      ]
     },
     "execution_count": 23,
     "metadata": {},
     "output_type": "execute_result"
    }
   ],
   "source": [
    "# 투표 기록 테이블\n",
    "userquestionrecord_df = pd.read_parquet('votes/accounts_userquestionrecord.parquet') \n",
    "userquestionrecord_df.head()"
   ]
  },
  {
   "cell_type": "code",
   "execution_count": 24,
   "id": "9712c5f4",
   "metadata": {},
   "outputs": [
    {
     "data": {
      "text/html": [
       "<div>\n",
       "<style scoped>\n",
       "    .dataframe tbody tr th:only-of-type {\n",
       "        vertical-align: middle;\n",
       "    }\n",
       "\n",
       "    .dataframe tbody tr th {\n",
       "        vertical-align: top;\n",
       "    }\n",
       "\n",
       "    .dataframe thead th {\n",
       "        text-align: right;\n",
       "    }\n",
       "</style>\n",
       "<table border=\"1\" class=\"dataframe\">\n",
       "  <thead>\n",
       "    <tr style=\"text-align: right;\">\n",
       "      <th></th>\n",
       "      <th>created_at</th>\n",
       "      <th>user_id</th>\n",
       "      <th>question_id</th>\n",
       "      <th>category</th>\n",
       "    </tr>\n",
       "  </thead>\n",
       "  <tbody>\n",
       "    <tr>\n",
       "      <th>0</th>\n",
       "      <td>2023-04-28 12:27:49</td>\n",
       "      <td>849436</td>\n",
       "      <td>252</td>\n",
       "      <td>[스타일]</td>\n",
       "    </tr>\n",
       "    <tr>\n",
       "      <th>1</th>\n",
       "      <td>2023-04-28 12:28:02</td>\n",
       "      <td>849436</td>\n",
       "      <td>244</td>\n",
       "      <td>[인간관계]</td>\n",
       "    </tr>\n",
       "    <tr>\n",
       "      <th>2</th>\n",
       "      <td>2023-04-28 12:28:09</td>\n",
       "      <td>849436</td>\n",
       "      <td>183</td>\n",
       "      <td>[인간관계]</td>\n",
       "    </tr>\n",
       "    <tr>\n",
       "      <th>3</th>\n",
       "      <td>2023-04-28 12:28:16</td>\n",
       "      <td>849436</td>\n",
       "      <td>101</td>\n",
       "      <td>[미래]</td>\n",
       "    </tr>\n",
       "    <tr>\n",
       "      <th>4</th>\n",
       "      <td>2023-04-28 12:28:26</td>\n",
       "      <td>849436</td>\n",
       "      <td>209</td>\n",
       "      <td>[스타일]</td>\n",
       "    </tr>\n",
       "  </tbody>\n",
       "</table>\n",
       "</div>"
      ],
      "text/plain": [
       "           created_at  user_id  question_id category\n",
       "0 2023-04-28 12:27:49   849436          252    [스타일]\n",
       "1 2023-04-28 12:28:02   849436          244   [인간관계]\n",
       "2 2023-04-28 12:28:09   849436          183   [인간관계]\n",
       "3 2023-04-28 12:28:16   849436          101     [미래]\n",
       "4 2023-04-28 12:28:26   849436          209    [스타일]"
      ]
     },
     "execution_count": 24,
     "metadata": {},
     "output_type": "execute_result"
    }
   ],
   "source": [
    "# 질문id, user_id, category 함께 확인 가능하게 합치기\n",
    "\n",
    "# 필요한 컬럼만 남기기\n",
    "userquestionrecord_user_df = userquestionrecord_df[['created_at','user_id', 'question_id']]\n",
    "question_category_user_df = question_category_df[['id', 'category']]\n",
    "# merge\n",
    "questionrecord_user_df = pd.merge(userquestionrecord_user_df, question_category_user_df, left_on='question_id', right_on='id', how='left')\n",
    "# 중복컬럼 제거\n",
    "questionrecord_user_df = questionrecord_user_df.drop(columns=['id'])\n",
    "# 날짜 자르기\n",
    "questionrecord_user_df = questionrecord_user_df[(questionrecord_user_df['created_at']>= '2023-04-28')&(questionrecord_user_df['created_at']<'2023-05-26')]\n",
    "questionrecord_user_df.head()"
   ]
  },
  {
   "cell_type": "code",
   "execution_count": 25,
   "id": "70656d9a",
   "metadata": {},
   "outputs": [
    {
     "name": "stderr",
     "output_type": "stream",
     "text": [
      "/tmp/ipykernel_1342256/3186568979.py:17: SettingWithCopyWarning: \n",
      "A value is trying to be set on a copy of a slice from a DataFrame.\n",
      "Try using .loc[row_indexer,col_indexer] = value instead\n",
      "\n",
      "See the caveats in the documentation: https://pandas.pydata.org/pandas-docs/stable/user_guide/indexing.html#returning-a-view-versus-a-copy\n",
      "  question_category_upper25['category'] = (\n"
     ]
    },
    {
     "data": {
      "text/plain": [
       "category\n",
       "인간관계    34335\n",
       "일상      27519\n",
       "스타일     12500\n",
       "연애       9616\n",
       "성격       6543\n",
       "미래       6029\n",
       "상상       6003\n",
       "지식       3862\n",
       "미디어      2606\n",
       "심리       2366\n",
       "운동       2214\n",
       "감성       1970\n",
       "Name: count, dtype: int64"
      ]
     },
     "execution_count": 25,
     "metadata": {},
     "output_type": "execute_result"
    }
   ],
   "source": [
    "# 상위 25% 집단 중 중학생의 데이터 분석 기간동안 투표한 질문 카테고리 확인하기\n",
    "\n",
    "question_category_upper25 = questionrecord_user_df[questionrecord_user_df['user_id'].isin(upper25_middler_list)]\n",
    "\n",
    "# 문자열을 리스트로 바꿔주는 함수\n",
    "def parse_category_string(s):\n",
    "    if isinstance(s, str):\n",
    "        # 1. 대괄호 제거\n",
    "        s = s.strip()[1:-1]\n",
    "        # 2. 작은따옴표 제거\n",
    "        s = s.replace(\"'\", \"\")\n",
    "        # 3. 공백 기준 split\n",
    "        return s.split()\n",
    "    return s\n",
    "\n",
    "# 리스트로 변환\n",
    "question_category_upper25['category'] = (\n",
    "    question_category_upper25['category'].apply(parse_category_string)\n",
    ")\n",
    "\n",
    "# 카테고리 펼치기\n",
    "question_category_upper25 = question_category_upper25.explode('category')\n",
    "# 순위 확인해보기\n",
    "question_category_upper25['category'].value_counts()"
   ]
  },
  {
   "cell_type": "code",
   "execution_count": 26,
   "id": "472f7472",
   "metadata": {},
   "outputs": [
    {
     "name": "stderr",
     "output_type": "stream",
     "text": [
      "/tmp/ipykernel_1342256/3501898772.py:17: SettingWithCopyWarning: \n",
      "A value is trying to be set on a copy of a slice from a DataFrame.\n",
      "Try using .loc[row_indexer,col_indexer] = value instead\n",
      "\n",
      "See the caveats in the documentation: https://pandas.pydata.org/pandas-docs/stable/user_guide/indexing.html#returning-a-view-versus-a-copy\n",
      "  question_category_lower25['category'] = (\n"
     ]
    },
    {
     "data": {
      "text/plain": [
       "category\n",
       "인간관계    2244\n",
       "일상      1956\n",
       "스타일      896\n",
       "연애       628\n",
       "성격       389\n",
       "상상       342\n",
       "미래       289\n",
       "미디어      229\n",
       "지식       171\n",
       "운동       152\n",
       "심리       107\n",
       "감성       106\n",
       "Name: count, dtype: int64"
      ]
     },
     "execution_count": 26,
     "metadata": {},
     "output_type": "execute_result"
    }
   ],
   "source": [
    "# 하위 25% 집단 중 중학생의 데이터 분석 기간동안 투표한 질문 카테고리 확인하기\n",
    "\n",
    "question_category_lower25 = questionrecord_user_df[questionrecord_user_df['user_id'].isin(lower25_middler_list)]\n",
    "\n",
    "# 문자열을 리스트로 바꿔주는 함수\n",
    "def parse_category_string(s):\n",
    "    if isinstance(s, str):\n",
    "        # 1. 대괄호 제거\n",
    "        s = s.strip()[1:-1]\n",
    "        # 2. 작은따옴표 제거\n",
    "        s = s.replace(\"'\", \"\")\n",
    "        # 3. 공백 기준 split\n",
    "        return s.split()\n",
    "    return s\n",
    "\n",
    "# 리스트로 변환\n",
    "question_category_lower25['category'] = (\n",
    "    question_category_lower25['category'].apply(parse_category_string)\n",
    ")\n",
    "\n",
    "# 카테고리 펼치기\n",
    "question_category_lower25 = question_category_lower25.explode('category')\n",
    "# 순위 확인해보기\n",
    "question_category_lower25['category'].value_counts()"
   ]
  },
  {
   "cell_type": "markdown",
   "id": "5ae4c289",
   "metadata": {},
   "source": [
    "- cohort 상관없이 비슷한 카테고리의 질문에 투표를 많이함. \n",
    "- 전체 유저 편리성을 위해서 질문 카테고리를 선택할 수 있게 해주는건?"
   ]
  },
  {
   "cell_type": "code",
   "execution_count": 27,
   "id": "1ce19b3d",
   "metadata": {},
   "outputs": [
    {
     "data": {
      "text/plain": [
       "category\n",
       "일상      1466\n",
       "인간관계    1401\n",
       "스타일      618\n",
       "연애       404\n",
       "상상       268\n",
       "성격       205\n",
       "미래       170\n",
       "미디어      164\n",
       "지식       124\n",
       "운동       116\n",
       "심리        80\n",
       "감성        68\n",
       "Name: count, dtype: int64"
      ]
     },
     "execution_count": 27,
     "metadata": {},
     "output_type": "execute_result"
    }
   ],
   "source": [
    "# 생성된 질문의 카테고리 수 확인해보기\n",
    "\n",
    "# 펼치기\n",
    "question_category_explode_df = question_category_df.explode('category')\n",
    "# 카테고리 내림차순\n",
    "question_category_explode_df['category'].value_counts()"
   ]
  },
  {
   "cell_type": "markdown",
   "id": "cdd15981",
   "metadata": {},
   "source": [
    "---"
   ]
  },
  {
   "cell_type": "markdown",
   "id": "4125454b",
   "metadata": {},
   "source": [
    "- 그렇다면? 중학생만이 아니라 전체 유저도 확인해보기"
   ]
  },
  {
   "cell_type": "code",
   "execution_count": 28,
   "id": "79e6b3ce",
   "metadata": {},
   "outputs": [
    {
     "name": "stderr",
     "output_type": "stream",
     "text": [
      "/tmp/ipykernel_1342256/2813701525.py:17: SettingWithCopyWarning: \n",
      "A value is trying to be set on a copy of a slice from a DataFrame.\n",
      "Try using .loc[row_indexer,col_indexer] = value instead\n",
      "\n",
      "See the caveats in the documentation: https://pandas.pydata.org/pandas-docs/stable/user_guide/indexing.html#returning-a-view-versus-a-copy\n",
      "  question_category_upper25['category'] = (\n"
     ]
    },
    {
     "data": {
      "text/plain": [
       "category\n",
       "인간관계    95074\n",
       "일상      73819\n",
       "스타일     34271\n",
       "연애      24940\n",
       "성격      17547\n",
       "미래      16696\n",
       "상상      16163\n",
       "지식      11137\n",
       "미디어      7106\n",
       "심리       6202\n",
       "운동       5873\n",
       "감성       5180\n",
       "Name: count, dtype: int64"
      ]
     },
     "execution_count": 28,
     "metadata": {},
     "output_type": "execute_result"
    }
   ],
   "source": [
    "# 상위 25% 집단 중 데이터 분석 기간동안 투표한 질문 카테고리 확인하기\n",
    "\n",
    "question_category_upper25 = questionrecord_user_df[questionrecord_user_df['user_id'].isin(upper25_user_list)]\n",
    "\n",
    "# 문자열을 리스트로 바꿔주는 함수\n",
    "def parse_category_string(s):\n",
    "    if isinstance(s, str):\n",
    "        # 1. 대괄호 제거\n",
    "        s = s.strip()[1:-1]\n",
    "        # 2. 작은따옴표 제거\n",
    "        s = s.replace(\"'\", \"\")\n",
    "        # 3. 공백 기준 split\n",
    "        return s.split()\n",
    "    return s\n",
    "\n",
    "# 리스트로 변환\n",
    "question_category_upper25['category'] = (\n",
    "    question_category_upper25['category'].apply(parse_category_string)\n",
    ")\n",
    "\n",
    "# 카테고리 펼치기\n",
    "question_category_upper25 = question_category_upper25.explode('category')\n",
    "# 순위 확인해보기\n",
    "question_category_upper25['category'].value_counts()"
   ]
  },
  {
   "cell_type": "code",
   "execution_count": 29,
   "id": "90185124",
   "metadata": {},
   "outputs": [
    {
     "name": "stderr",
     "output_type": "stream",
     "text": [
      "/tmp/ipykernel_1342256/3861168031.py:17: SettingWithCopyWarning: \n",
      "A value is trying to be set on a copy of a slice from a DataFrame.\n",
      "Try using .loc[row_indexer,col_indexer] = value instead\n",
      "\n",
      "See the caveats in the documentation: https://pandas.pydata.org/pandas-docs/stable/user_guide/indexing.html#returning-a-view-versus-a-copy\n",
      "  question_category_lower25['category'] = (\n"
     ]
    },
    {
     "data": {
      "text/plain": [
       "category\n",
       "인간관계    68592\n",
       "일상      53444\n",
       "스타일     25391\n",
       "연애      17988\n",
       "성격      13270\n",
       "미래      12881\n",
       "상상      12318\n",
       "지식       8682\n",
       "미디어      4873\n",
       "심리       4813\n",
       "운동       4497\n",
       "감성       4331\n",
       "Name: count, dtype: int64"
      ]
     },
     "execution_count": 29,
     "metadata": {},
     "output_type": "execute_result"
    }
   ],
   "source": [
    "# 하위 25% 집단 중 중학생의 데이터 분석 기간동안 투표한 질문 카테고리 확인하기\n",
    "\n",
    "question_category_lower25 = questionrecord_user_df[questionrecord_user_df['user_id'].isin(lower25_user_list)]\n",
    "\n",
    "# 문자열을 리스트로 바꿔주는 함수\n",
    "def parse_category_string(s):\n",
    "    if isinstance(s, str):\n",
    "        # 1. 대괄호 제거\n",
    "        s = s.strip()[1:-1]\n",
    "        # 2. 작은따옴표 제거\n",
    "        s = s.replace(\"'\", \"\")\n",
    "        # 3. 공백 기준 split\n",
    "        return s.split()\n",
    "    return s\n",
    "\n",
    "# 리스트로 변환\n",
    "question_category_lower25['category'] = (\n",
    "    question_category_lower25['category'].apply(parse_category_string)\n",
    ")\n",
    "\n",
    "# 카테고리 펼치기\n",
    "question_category_lower25 = question_category_lower25.explode('category')\n",
    "# 순위 확인해보기\n",
    "question_category_lower25['category'].value_counts()"
   ]
  },
  {
   "cell_type": "markdown",
   "id": "da07ddd1",
   "metadata": {},
   "source": [
    "- 해당 카테고리의 질문이 많아서 그랬던건 아닐까?\n",
    "- 카테고리별 비중이 비슷한데도 저렇게 순위가 나뉜걸까?"
   ]
  },
  {
   "cell_type": "markdown",
   "id": "d75bffbe",
   "metadata": {},
   "source": [
    "---"
   ]
  },
  {
   "cell_type": "markdown",
   "id": "aa600d19",
   "metadata": {},
   "source": [
    "#### 리텐션이 높았던 집단의 중학생과 낮은 집단의 중학생 사이 첫 투표 시간대에 차이가 있을까??"
   ]
  },
  {
   "cell_type": "code",
   "execution_count": 30,
   "id": "47b4896a",
   "metadata": {},
   "outputs": [
    {
     "data": {
      "text/html": [
       "<div>\n",
       "<style scoped>\n",
       "    .dataframe tbody tr th:only-of-type {\n",
       "        vertical-align: middle;\n",
       "    }\n",
       "\n",
       "    .dataframe tbody tr th {\n",
       "        vertical-align: top;\n",
       "    }\n",
       "\n",
       "    .dataframe thead th {\n",
       "        text-align: right;\n",
       "    }\n",
       "</style>\n",
       "<table border=\"1\" class=\"dataframe\">\n",
       "  <thead>\n",
       "    <tr style=\"text-align: right;\">\n",
       "      <th></th>\n",
       "      <th>user_id</th>\n",
       "      <th>created_at</th>\n",
       "      <th>hour</th>\n",
       "    </tr>\n",
       "  </thead>\n",
       "  <tbody>\n",
       "    <tr>\n",
       "      <th>0</th>\n",
       "      <td>838023</td>\n",
       "      <td>2023-04-29 16:22:56</td>\n",
       "      <td>16</td>\n",
       "    </tr>\n",
       "    <tr>\n",
       "      <th>1</th>\n",
       "      <td>838466</td>\n",
       "      <td>2023-05-02 22:42:05</td>\n",
       "      <td>22</td>\n",
       "    </tr>\n",
       "    <tr>\n",
       "      <th>2</th>\n",
       "      <td>838642</td>\n",
       "      <td>2023-04-28 14:18:07</td>\n",
       "      <td>14</td>\n",
       "    </tr>\n",
       "    <tr>\n",
       "      <th>3</th>\n",
       "      <td>839357</td>\n",
       "      <td>2023-04-29 16:51:01</td>\n",
       "      <td>16</td>\n",
       "    </tr>\n",
       "    <tr>\n",
       "      <th>4</th>\n",
       "      <td>840293</td>\n",
       "      <td>2023-05-03 02:24:05</td>\n",
       "      <td>2</td>\n",
       "    </tr>\n",
       "  </tbody>\n",
       "</table>\n",
       "</div>"
      ],
      "text/plain": [
       "   user_id          created_at  hour\n",
       "0   838023 2023-04-29 16:22:56    16\n",
       "1   838466 2023-05-02 22:42:05    22\n",
       "2   838642 2023-04-28 14:18:07    14\n",
       "3   839357 2023-04-29 16:51:01    16\n",
       "4   840293 2023-05-03 02:24:05     2"
      ]
     },
     "execution_count": 30,
     "metadata": {},
     "output_type": "execute_result"
    }
   ],
   "source": [
    "# 첫 투표 시간대 확인하기\n",
    "\n",
    "# 투표 기록 테이블에서 기간 4/28 ~ 7/31 자르기\n",
    "userquestionrecord_hour_df = userquestionrecord_df[(userquestionrecord_df['created_at']>='2023-04-28')&(userquestionrecord_df['created_at']<'2023-08-01')]\n",
    "\n",
    "# 날짜, 유저id만 남기기\n",
    "userquestionrecord_hour_df = userquestionrecord_hour_df[['created_at', 'user_id']]\n",
    "\n",
    "# 유저별 첫 투표 일자만 남기기\n",
    "userquestionrecord_hour_df = userquestionrecord_hour_df.groupby(['user_id'])['created_at'].first().reset_index()\n",
    "\n",
    "# 시간 컬럼 생성\n",
    "userquestionrecord_hour_df['hour'] = userquestionrecord_hour_df['created_at'].dt.hour\n",
    "\n",
    "userquestionrecord_hour_df.head()"
   ]
  },
  {
   "cell_type": "code",
   "execution_count": 31,
   "id": "77a54dbd",
   "metadata": {},
   "outputs": [
    {
     "data": {
      "text/html": [
       "<div>\n",
       "<style scoped>\n",
       "    .dataframe tbody tr th:only-of-type {\n",
       "        vertical-align: middle;\n",
       "    }\n",
       "\n",
       "    .dataframe tbody tr th {\n",
       "        vertical-align: top;\n",
       "    }\n",
       "\n",
       "    .dataframe thead th {\n",
       "        text-align: right;\n",
       "    }\n",
       "</style>\n",
       "<table border=\"1\" class=\"dataframe\">\n",
       "  <thead>\n",
       "    <tr style=\"text-align: right;\">\n",
       "      <th></th>\n",
       "      <th>Unnamed: 0</th>\n",
       "      <th>user_id</th>\n",
       "      <th>total_votes</th>\n",
       "      <th>unique_days</th>\n",
       "      <th>first_vote</th>\n",
       "      <th>last_vote</th>\n",
       "      <th>active_days</th>\n",
       "      <th>cohort_day</th>\n",
       "      <th>retention_day8</th>\n",
       "      <th>gender</th>\n",
       "      <th>...</th>\n",
       "      <th>vote_sameday_signup</th>\n",
       "      <th>days_to_vote</th>\n",
       "      <th>days_to_point</th>\n",
       "      <th>days_to_point_after_vote</th>\n",
       "      <th>first_vote_hour</th>\n",
       "      <th>first_voteday_question_count</th>\n",
       "      <th>cohort</th>\n",
       "      <th>middleschooler</th>\n",
       "      <th>created_at</th>\n",
       "      <th>hour</th>\n",
       "    </tr>\n",
       "  </thead>\n",
       "  <tbody>\n",
       "    <tr>\n",
       "      <th>0</th>\n",
       "      <td>0</td>\n",
       "      <td>838466</td>\n",
       "      <td>129</td>\n",
       "      <td>7</td>\n",
       "      <td>2023-05-02</td>\n",
       "      <td>2023-06-02</td>\n",
       "      <td>31</td>\n",
       "      <td>2023-05-02</td>\n",
       "      <td>0.569444</td>\n",
       "      <td>F</td>\n",
       "      <td>...</td>\n",
       "      <td>0</td>\n",
       "      <td>13</td>\n",
       "      <td>15.0</td>\n",
       "      <td>2.0</td>\n",
       "      <td>22</td>\n",
       "      <td>9</td>\n",
       "      <td>1</td>\n",
       "      <td>0</td>\n",
       "      <td>2023-05-02 22:42:05</td>\n",
       "      <td>22</td>\n",
       "    </tr>\n",
       "    <tr>\n",
       "      <th>1</th>\n",
       "      <td>1</td>\n",
       "      <td>838642</td>\n",
       "      <td>10</td>\n",
       "      <td>2</td>\n",
       "      <td>2023-04-28</td>\n",
       "      <td>2023-04-29</td>\n",
       "      <td>1</td>\n",
       "      <td>2023-04-28</td>\n",
       "      <td>0.560000</td>\n",
       "      <td>F</td>\n",
       "      <td>...</td>\n",
       "      <td>0</td>\n",
       "      <td>8</td>\n",
       "      <td>10.0</td>\n",
       "      <td>1.0</td>\n",
       "      <td>14</td>\n",
       "      <td>9</td>\n",
       "      <td>1</td>\n",
       "      <td>0</td>\n",
       "      <td>2023-04-28 14:18:07</td>\n",
       "      <td>14</td>\n",
       "    </tr>\n",
       "    <tr>\n",
       "      <th>2</th>\n",
       "      <td>2</td>\n",
       "      <td>840512</td>\n",
       "      <td>141</td>\n",
       "      <td>8</td>\n",
       "      <td>2023-05-02</td>\n",
       "      <td>2023-07-11</td>\n",
       "      <td>70</td>\n",
       "      <td>2023-05-02</td>\n",
       "      <td>0.569444</td>\n",
       "      <td>M</td>\n",
       "      <td>...</td>\n",
       "      <td>0</td>\n",
       "      <td>11</td>\n",
       "      <td>11.0</td>\n",
       "      <td>0.0</td>\n",
       "      <td>23</td>\n",
       "      <td>1</td>\n",
       "      <td>1</td>\n",
       "      <td>0</td>\n",
       "      <td>2023-05-02 23:42:03</td>\n",
       "      <td>23</td>\n",
       "    </tr>\n",
       "    <tr>\n",
       "      <th>3</th>\n",
       "      <td>3</td>\n",
       "      <td>840685</td>\n",
       "      <td>567</td>\n",
       "      <td>21</td>\n",
       "      <td>2023-05-02</td>\n",
       "      <td>2023-06-06</td>\n",
       "      <td>35</td>\n",
       "      <td>2023-05-02</td>\n",
       "      <td>0.569444</td>\n",
       "      <td>F</td>\n",
       "      <td>...</td>\n",
       "      <td>0</td>\n",
       "      <td>11</td>\n",
       "      <td>11.0</td>\n",
       "      <td>0.0</td>\n",
       "      <td>22</td>\n",
       "      <td>12</td>\n",
       "      <td>1</td>\n",
       "      <td>0</td>\n",
       "      <td>2023-05-02 22:22:58</td>\n",
       "      <td>22</td>\n",
       "    </tr>\n",
       "    <tr>\n",
       "      <th>4</th>\n",
       "      <td>4</td>\n",
       "      <td>840902</td>\n",
       "      <td>250</td>\n",
       "      <td>14</td>\n",
       "      <td>2023-05-02</td>\n",
       "      <td>2023-05-27</td>\n",
       "      <td>25</td>\n",
       "      <td>2023-05-02</td>\n",
       "      <td>0.569444</td>\n",
       "      <td>F</td>\n",
       "      <td>...</td>\n",
       "      <td>0</td>\n",
       "      <td>10</td>\n",
       "      <td>11.0</td>\n",
       "      <td>0.0</td>\n",
       "      <td>22</td>\n",
       "      <td>6</td>\n",
       "      <td>1</td>\n",
       "      <td>0</td>\n",
       "      <td>2023-05-02 22:33:49</td>\n",
       "      <td>22</td>\n",
       "    </tr>\n",
       "  </tbody>\n",
       "</table>\n",
       "<p>5 rows × 37 columns</p>\n",
       "</div>"
      ],
      "text/plain": [
       "   Unnamed: 0  user_id  total_votes  unique_days  first_vote   last_vote  \\\n",
       "0           0   838466          129            7  2023-05-02  2023-06-02   \n",
       "1           1   838642           10            2  2023-04-28  2023-04-29   \n",
       "2           2   840512          141            8  2023-05-02  2023-07-11   \n",
       "3           3   840685          567           21  2023-05-02  2023-06-06   \n",
       "4           4   840902          250           14  2023-05-02  2023-05-27   \n",
       "\n",
       "   active_days  cohort_day  retention_day8 gender  ...  vote_sameday_signup  \\\n",
       "0           31  2023-05-02        0.569444      F  ...                    0   \n",
       "1            1  2023-04-28        0.560000      F  ...                    0   \n",
       "2           70  2023-05-02        0.569444      M  ...                    0   \n",
       "3           35  2023-05-02        0.569444      F  ...                    0   \n",
       "4           25  2023-05-02        0.569444      F  ...                    0   \n",
       "\n",
       "   days_to_vote  days_to_point  days_to_point_after_vote  first_vote_hour  \\\n",
       "0            13           15.0                       2.0               22   \n",
       "1             8           10.0                       1.0               14   \n",
       "2            11           11.0                       0.0               23   \n",
       "3            11           11.0                       0.0               22   \n",
       "4            10           11.0                       0.0               22   \n",
       "\n",
       "  first_voteday_question_count cohort  middleschooler          created_at  \\\n",
       "0                            9      1               0 2023-05-02 22:42:05   \n",
       "1                            9      1               0 2023-04-28 14:18:07   \n",
       "2                            1      1               0 2023-05-02 23:42:03   \n",
       "3                           12      1               0 2023-05-02 22:22:58   \n",
       "4                            6      1               0 2023-05-02 22:33:49   \n",
       "\n",
       "   hour  \n",
       "0    22  \n",
       "1    14  \n",
       "2    23  \n",
       "3    22  \n",
       "4    22  \n",
       "\n",
       "[5 rows x 37 columns]"
      ]
     },
     "execution_count": 31,
     "metadata": {},
     "output_type": "execute_result"
    }
   ],
   "source": [
    "# 최종 테이블에 합치기\n",
    "master_cohort_middleschool_df = pd.merge(master_cohort_middleschool_df, userquestionrecord_hour_df, on='user_id', how='left')\n",
    "master_cohort_middleschool_df.head()"
   ]
  },
  {
   "cell_type": "code",
   "execution_count": 32,
   "id": "af03d09e",
   "metadata": {},
   "outputs": [],
   "source": [
    "# 상위 25% 집단 중 중학생\n",
    "middleschool_upper25 = master_cohort_middleschool_df[(master_cohort_middleschool_df['cohort']==1)&(master_cohort_middleschool_df['middleschooler']==1)]\n",
    "\n",
    "# 하위 25% 집단 중 중학생\n",
    "middleschool_lower25 = master_cohort_middleschool_df[(master_cohort_middleschool_df['cohort']==2)&(master_cohort_middleschool_df['middleschooler']==1)]\n"
   ]
  },
  {
   "cell_type": "markdown",
   "id": "66a8ff98",
   "metadata": {},
   "source": [
    "- cohort별 서비스 사용(투표한) 평균 시간 확인해보기"
   ]
  },
  {
   "cell_type": "code",
   "execution_count": 33,
   "id": "f9782c65",
   "metadata": {},
   "outputs": [
    {
     "data": {
      "text/plain": [
       "hour\n",
       "9     65\n",
       "10    43\n",
       "11    43\n",
       "12    43\n",
       "8     41\n",
       "14    40\n",
       "13    39\n",
       "15    30\n",
       "7     21\n",
       "6     20\n",
       "23    16\n",
       "4     15\n",
       "22    12\n",
       "16    10\n",
       "5      6\n",
       "3      4\n",
       "21     1\n",
       "18     1\n",
       "Name: count, dtype: int64"
      ]
     },
     "execution_count": 33,
     "metadata": {},
     "output_type": "execute_result"
    }
   ],
   "source": [
    "# 중학생 상위 25%의 이용 시간 확인하기\n",
    "middleschool_upper25['hour'].value_counts()"
   ]
  },
  {
   "cell_type": "code",
   "execution_count": 34,
   "id": "e0a6e72d",
   "metadata": {},
   "outputs": [
    {
     "data": {
      "text/plain": [
       "hour\n",
       "13    10\n",
       "10     6\n",
       "8      6\n",
       "6      5\n",
       "11     5\n",
       "9      5\n",
       "7      4\n",
       "5      3\n",
       "12     3\n",
       "15     2\n",
       "23     2\n",
       "4      2\n",
       "14     1\n",
       "17     1\n",
       "16     1\n",
       "3      1\n",
       "Name: count, dtype: int64"
      ]
     },
     "execution_count": 34,
     "metadata": {},
     "output_type": "execute_result"
    }
   ],
   "source": [
    "# 중학생 하위 25%의 이용 시간 확인하기\n",
    "middleschool_lower25['hour'].value_counts()"
   ]
  },
  {
   "cell_type": "markdown",
   "id": "a9b16f66",
   "metadata": {},
   "source": [
    "---"
   ]
  },
  {
   "cell_type": "markdown",
   "id": "22916cd0",
   "metadata": {},
   "source": [
    "#### 리텐션이 높았던 집단의 중학생과 낮은 집단의 중학생 사이 투표받은 수는 차이가 있을까??"
   ]
  },
  {
   "cell_type": "code",
   "execution_count": 35,
   "id": "0c01ec42",
   "metadata": {},
   "outputs": [
    {
     "data": {
      "text/plain": [
       "0"
      ]
     },
     "execution_count": 35,
     "metadata": {},
     "output_type": "execute_result"
    }
   ],
   "source": [
    "middleschool_upper25['chosen_count'].isna().sum()"
   ]
  },
  {
   "cell_type": "code",
   "execution_count": 36,
   "id": "5e907037",
   "metadata": {},
   "outputs": [
    {
     "data": {
      "text/plain": [
       "0"
      ]
     },
     "execution_count": 36,
     "metadata": {},
     "output_type": "execute_result"
    }
   ],
   "source": [
    "middleschool_lower25['chosen_count'].isna().sum()"
   ]
  },
  {
   "cell_type": "code",
   "execution_count": 37,
   "id": "e676b85b",
   "metadata": {},
   "outputs": [
    {
     "name": "stdout",
     "output_type": "stream",
     "text": [
      "[Welch's t-test] t-stat: 15.551, p-value: 0.0000\n",
      "[Mann-Whitney U] U-stat: 22281.000, p-value: 0.0000\n"
     ]
    }
   ],
   "source": [
    "# t-test\n",
    "group1 = master_cohort_middleschool_df[(master_cohort_middleschool_df['cohort']==1)&(master_cohort_middleschool_df['middleschooler']==1)]['chosen_count']\n",
    "group2 = master_cohort_middleschool_df[(master_cohort_middleschool_df['cohort']==2)&(master_cohort_middleschool_df['middleschooler']==1)]['chosen_count']\n",
    "\n",
    "# 결측값 제거 \n",
    "group1 = group1.dropna()\n",
    "group2 = group2.dropna()\n",
    "\n",
    "# Welch's t-test (비등분산)\n",
    "tstat, pval = ttest_ind(group1, group2, equal_var=False)\n",
    "print(f\"[Welch's t-test] t-stat: {tstat:.3f}, p-value: {pval:.4f}\")\n",
    "\n",
    "# Mann-Whitney U test (비모수)\n",
    "u_stat, pval_u = mannwhitneyu(group1, group2, alternative='two-sided')\n",
    "print(f\"[Mann-Whitney U] U-stat: {u_stat:.3f}, p-value: {pval_u:.4f}\")"
   ]
  },
  {
   "cell_type": "code",
   "execution_count": 38,
   "id": "7664c040",
   "metadata": {},
   "outputs": [
    {
     "data": {
      "text/plain": [
       "320.81333333333333"
      ]
     },
     "execution_count": 38,
     "metadata": {},
     "output_type": "execute_result"
    }
   ],
   "source": [
    "group1.mean()"
   ]
  },
  {
   "cell_type": "code",
   "execution_count": 39,
   "id": "876eb2a1",
   "metadata": {},
   "outputs": [
    {
     "data": {
      "text/plain": [
       "109.54385964912281"
      ]
     },
     "execution_count": 39,
     "metadata": {},
     "output_type": "execute_result"
    }
   ],
   "source": [
    "group2.mean()"
   ]
  },
  {
   "cell_type": "markdown",
   "id": "43b966cd",
   "metadata": {},
   "source": [
    "- Welch’s t-test는 평균을 비교하는 검정이므로: “cohort 1과 2의 chosen_count 평균이 유의미하게 다르다”고 해석.\n",
    "- Mann-Whitney U test는 분포(특히 중위수)를 비교하는 비모수 검정이므로: “cohort 1과 2의 chosen_count 중앙값 또는 전체 분포가 유의미하게 다르다”고 해석."
   ]
  },
  {
   "cell_type": "code",
   "execution_count": 40,
   "id": "28c6be8a",
   "metadata": {},
   "outputs": [
    {
     "data": {
      "image/png": "[encoded data removed]",
      "text/plain": [
       "<Figure size 800x600 with 1 Axes>"
      ]
     },
     "metadata": {},
     "output_type": "display_data"
    }
   ],
   "source": [
    "# 시각화\n",
    "\n",
    "# 중학생 데이만 남기기\n",
    "middleschool_df = master_cohort_middleschool_df[master_cohort_middleschool_df['middleschooler']==1]\n",
    "# 박스플롯\n",
    "plt.figure(figsize=(8, 6))\n",
    "sns.boxplot(x='cohort', y='chosen_count', data=middleschool_df)\n",
    "plt.title('Chosen Count by Cohort (Boxplot)')\n",
    "plt.xlabel('Cohort Group')\n",
    "plt.ylabel('Chosen Count')\n",
    "plt.show()"
   ]
  },
  {
   "cell_type": "markdown",
   "id": "35ebe11a",
   "metadata": {},
   "source": [
    "- 리텐션이 높은 집단은 당연하게 사용 기간이 기니까 투표 받은것도 많지 않은가??\n",
    "- 그렇다면 사용 일자 대비 받은 투표수를 확인해보자!"
   ]
  },
  {
   "cell_type": "code",
   "execution_count": 41,
   "id": "d675e55e",
   "metadata": {},
   "outputs": [
    {
     "data": {
      "text/html": [
       "<div>\n",
       "<style scoped>\n",
       "    .dataframe tbody tr th:only-of-type {\n",
       "        vertical-align: middle;\n",
       "    }\n",
       "\n",
       "    .dataframe tbody tr th {\n",
       "        vertical-align: top;\n",
       "    }\n",
       "\n",
       "    .dataframe thead th {\n",
       "        text-align: right;\n",
       "    }\n",
       "</style>\n",
       "<table border=\"1\" class=\"dataframe\">\n",
       "  <thead>\n",
       "    <tr style=\"text-align: right;\">\n",
       "      <th></th>\n",
       "      <th>Unnamed: 0</th>\n",
       "      <th>user_id</th>\n",
       "      <th>total_votes</th>\n",
       "      <th>unique_days</th>\n",
       "      <th>first_vote</th>\n",
       "      <th>last_vote</th>\n",
       "      <th>active_days</th>\n",
       "      <th>cohort_day</th>\n",
       "      <th>retention_day8</th>\n",
       "      <th>gender</th>\n",
       "      <th>...</th>\n",
       "      <th>vote_sameday_signup</th>\n",
       "      <th>days_to_vote</th>\n",
       "      <th>days_to_point</th>\n",
       "      <th>days_to_point_after_vote</th>\n",
       "      <th>first_vote_hour</th>\n",
       "      <th>first_voteday_question_count</th>\n",
       "      <th>cohort</th>\n",
       "      <th>middleschooler</th>\n",
       "      <th>created_at</th>\n",
       "      <th>hour</th>\n",
       "    </tr>\n",
       "  </thead>\n",
       "  <tbody>\n",
       "    <tr>\n",
       "      <th>938</th>\n",
       "      <td>938</td>\n",
       "      <td>899988</td>\n",
       "      <td>420</td>\n",
       "      <td>27</td>\n",
       "      <td>2023-05-17</td>\n",
       "      <td>2023-07-19</td>\n",
       "      <td>63</td>\n",
       "      <td>2023-05-17</td>\n",
       "      <td>0.275362</td>\n",
       "      <td>M</td>\n",
       "      <td>...</td>\n",
       "      <td>0</td>\n",
       "      <td>10</td>\n",
       "      <td>10.0</td>\n",
       "      <td>-1.0</td>\n",
       "      <td>6</td>\n",
       "      <td>25</td>\n",
       "      <td>2</td>\n",
       "      <td>1</td>\n",
       "      <td>2023-05-17 06:23:27</td>\n",
       "      <td>6</td>\n",
       "    </tr>\n",
       "    <tr>\n",
       "      <th>1000</th>\n",
       "      <td>1000</td>\n",
       "      <td>918489</td>\n",
       "      <td>159</td>\n",
       "      <td>7</td>\n",
       "      <td>2023-05-12</td>\n",
       "      <td>2023-05-27</td>\n",
       "      <td>15</td>\n",
       "      <td>2023-05-12</td>\n",
       "      <td>0.529032</td>\n",
       "      <td>F</td>\n",
       "      <td>...</td>\n",
       "      <td>0</td>\n",
       "      <td>5</td>\n",
       "      <td>5.0</td>\n",
       "      <td>0.0</td>\n",
       "      <td>9</td>\n",
       "      <td>25</td>\n",
       "      <td>1</td>\n",
       "      <td>1</td>\n",
       "      <td>2023-05-12 09:54:06</td>\n",
       "      <td>9</td>\n",
       "    </tr>\n",
       "    <tr>\n",
       "      <th>1004</th>\n",
       "      <td>1004</td>\n",
       "      <td>922680</td>\n",
       "      <td>1001</td>\n",
       "      <td>30</td>\n",
       "      <td>2023-05-09</td>\n",
       "      <td>2023-07-08</td>\n",
       "      <td>60</td>\n",
       "      <td>2023-05-09</td>\n",
       "      <td>0.731602</td>\n",
       "      <td>F</td>\n",
       "      <td>...</td>\n",
       "      <td>0</td>\n",
       "      <td>2</td>\n",
       "      <td>3.0</td>\n",
       "      <td>1.0</td>\n",
       "      <td>8</td>\n",
       "      <td>67</td>\n",
       "      <td>1</td>\n",
       "      <td>1</td>\n",
       "      <td>2023-05-09 08:52:39</td>\n",
       "      <td>8</td>\n",
       "    </tr>\n",
       "    <tr>\n",
       "      <th>1007</th>\n",
       "      <td>1007</td>\n",
       "      <td>924006</td>\n",
       "      <td>166</td>\n",
       "      <td>11</td>\n",
       "      <td>2023-05-09</td>\n",
       "      <td>2023-05-29</td>\n",
       "      <td>20</td>\n",
       "      <td>2023-05-09</td>\n",
       "      <td>0.731602</td>\n",
       "      <td>F</td>\n",
       "      <td>...</td>\n",
       "      <td>0</td>\n",
       "      <td>2</td>\n",
       "      <td>2.0</td>\n",
       "      <td>0.0</td>\n",
       "      <td>8</td>\n",
       "      <td>22</td>\n",
       "      <td>1</td>\n",
       "      <td>1</td>\n",
       "      <td>2023-05-09 08:47:23</td>\n",
       "      <td>8</td>\n",
       "    </tr>\n",
       "    <tr>\n",
       "      <th>1021</th>\n",
       "      <td>1021</td>\n",
       "      <td>928814</td>\n",
       "      <td>640</td>\n",
       "      <td>24</td>\n",
       "      <td>2023-05-09</td>\n",
       "      <td>2023-07-20</td>\n",
       "      <td>72</td>\n",
       "      <td>2023-05-09</td>\n",
       "      <td>0.731602</td>\n",
       "      <td>F</td>\n",
       "      <td>...</td>\n",
       "      <td>0</td>\n",
       "      <td>2</td>\n",
       "      <td>6.0</td>\n",
       "      <td>3.0</td>\n",
       "      <td>8</td>\n",
       "      <td>40</td>\n",
       "      <td>1</td>\n",
       "      <td>1</td>\n",
       "      <td>2023-05-09 08:48:12</td>\n",
       "      <td>8</td>\n",
       "    </tr>\n",
       "  </tbody>\n",
       "</table>\n",
       "<p>5 rows × 37 columns</p>\n",
       "</div>"
      ],
      "text/plain": [
       "      Unnamed: 0  user_id  total_votes  unique_days  first_vote   last_vote  \\\n",
       "938          938   899988          420           27  2023-05-17  2023-07-19   \n",
       "1000        1000   918489          159            7  2023-05-12  2023-05-27   \n",
       "1004        1004   922680         1001           30  2023-05-09  2023-07-08   \n",
       "1007        1007   924006          166           11  2023-05-09  2023-05-29   \n",
       "1021        1021   928814          640           24  2023-05-09  2023-07-20   \n",
       "\n",
       "      active_days  cohort_day  retention_day8 gender  ...  \\\n",
       "938            63  2023-05-17        0.275362      M  ...   \n",
       "1000           15  2023-05-12        0.529032      F  ...   \n",
       "1004           60  2023-05-09        0.731602      F  ...   \n",
       "1007           20  2023-05-09        0.731602      F  ...   \n",
       "1021           72  2023-05-09        0.731602      F  ...   \n",
       "\n",
       "      vote_sameday_signup  days_to_vote  days_to_point  \\\n",
       "938                     0            10           10.0   \n",
       "1000                    0             5            5.0   \n",
       "1004                    0             2            3.0   \n",
       "1007                    0             2            2.0   \n",
       "1021                    0             2            6.0   \n",
       "\n",
       "      days_to_point_after_vote  first_vote_hour first_voteday_question_count  \\\n",
       "938                       -1.0                6                           25   \n",
       "1000                       0.0                9                           25   \n",
       "1004                       1.0                8                           67   \n",
       "1007                       0.0                8                           22   \n",
       "1021                       3.0                8                           40   \n",
       "\n",
       "     cohort  middleschooler          created_at  hour  \n",
       "938       2               1 2023-05-17 06:23:27     6  \n",
       "1000      1               1 2023-05-12 09:54:06     9  \n",
       "1004      1               1 2023-05-09 08:52:39     8  \n",
       "1007      1               1 2023-05-09 08:47:23     8  \n",
       "1021      1               1 2023-05-09 08:48:12     8  \n",
       "\n",
       "[5 rows x 37 columns]"
      ]
     },
     "execution_count": 41,
     "metadata": {},
     "output_type": "execute_result"
    }
   ],
   "source": [
    "middleschool_df.head()"
   ]
  },
  {
   "cell_type": "code",
   "execution_count": 42,
   "id": "cc978ae8",
   "metadata": {},
   "outputs": [
    {
     "data": {
      "text/plain": [
       "count    507.000000\n",
       "mean      27.794872\n",
       "std       17.617627\n",
       "min        0.000000\n",
       "25%       15.000000\n",
       "50%       25.000000\n",
       "75%       36.000000\n",
       "max       82.000000\n",
       "Name: active_days, dtype: float64"
      ]
     },
     "execution_count": 42,
     "metadata": {},
     "output_type": "execute_result"
    }
   ],
   "source": [
    "middleschool_df['active_days'].describe()"
   ]
  },
  {
   "cell_type": "code",
   "execution_count": 43,
   "id": "c4a597ff",
   "metadata": {},
   "outputs": [
    {
     "name": "stderr",
     "output_type": "stream",
     "text": [
      "/tmp/ipykernel_1342256/3412071390.py:8: SettingWithCopyWarning: \n",
      "A value is trying to be set on a copy of a slice from a DataFrame.\n",
      "Try using .loc[row_indexer,col_indexer] = value instead\n",
      "\n",
      "See the caveats in the documentation: https://pandas.pydata.org/pandas-docs/stable/user_guide/indexing.html#returning-a-view-versus-a-copy\n",
      "  middleschool_df['active_days'] = middleschool_df['active_days'] + 1\n",
      "/tmp/ipykernel_1342256/3412071390.py:11: SettingWithCopyWarning: \n",
      "A value is trying to be set on a copy of a slice from a DataFrame.\n",
      "Try using .loc[row_indexer,col_indexer] = value instead\n",
      "\n",
      "See the caveats in the documentation: https://pandas.pydata.org/pandas-docs/stable/user_guide/indexing.html#returning-a-view-versus-a-copy\n",
      "  middleschool_df['vote_acquisition_rate'] = middleschool_df['chosen_count'] / middleschool_df['active_days']\n"
     ]
    },
    {
     "data": {
      "image/png": "[encoded data removed]",
      "text/plain": [
       "<Figure size 800x600 with 1 Axes>"
      ]
     },
     "metadata": {},
     "output_type": "display_data"
    }
   ],
   "source": [
    "# 일별 투표 획득률 vote_acquisition_rate = chosen_count(받은 투표) / active_days (활동 기간)\n",
    "\n",
    "# active_days = last_vote - first_vote\n",
    "# 이렇게 되면 사용한 날짜 중 하루가 빠지게됨\n",
    "# ex ) 첫 날 투표하고 다시 투표한적이 없는 경우 1일이 아니라 0일로 됨\n",
    "# active_days + 1 하기로 결정\n",
    "\n",
    "middleschool_df['active_days'] = middleschool_df['active_days'] + 1\n",
    "\n",
    "# 중학생 데이터에서 일별 투표 획득률 뽑아보기\n",
    "middleschool_df['vote_acquisition_rate'] = middleschool_df['chosen_count'] / middleschool_df['active_days']\n",
    "\n",
    "# 박스플롯\n",
    "plt.figure(figsize=(8, 6))\n",
    "sns.boxplot(x='cohort', y='vote_acquisition_rate', data=middleschool_df)\n",
    "plt.title('vote_acquisition_ratet by Cohort (Boxplot)')\n",
    "plt.xlabel('Cohort Group')\n",
    "plt.ylabel('vote_acquisition_rate')\n",
    "plt.show()\n"
   ]
  },
  {
   "cell_type": "code",
   "execution_count": 44,
   "id": "c2ce4315",
   "metadata": {},
   "outputs": [
    {
     "data": {
      "text/plain": [
       "938      5.203125\n",
       "1000    14.687500\n",
       "1004    12.196721\n",
       "1007    31.142857\n",
       "1021     8.657534\n",
       "          ...    \n",
       "2468     3.615385\n",
       "2482    41.000000\n",
       "2485     2.777778\n",
       "2494     0.937500\n",
       "2496     2.350000\n",
       "Name: vote_acquisition_rate, Length: 507, dtype: float64"
      ]
     },
     "execution_count": 44,
     "metadata": {},
     "output_type": "execute_result"
    }
   ],
   "source": [
    "# 중학생 데이터에서 투표 획득률 뽑아보기\n",
    "middleschool_df['vote_acquisition_rate']"
   ]
  },
  {
   "cell_type": "code",
   "execution_count": 45,
   "id": "b6bd9a63",
   "metadata": {},
   "outputs": [
    {
     "name": "stdout",
     "output_type": "stream",
     "text": [
      "Group1: ShapiroResult(statistic=0.4161464987714417, pvalue=1.220705500513939e-35)\n",
      "Group2: ShapiroResult(statistic=0.45757770242094786, pvalue=3.383638840974255e-13)\n"
     ]
    }
   ],
   "source": [
    "# 일별 투표 획득률이 통계적으로 유의한지 검정하기 위해서 정규성 검정\n",
    "\n",
    "# 두 집단으로 나누기\n",
    "group1 = middleschool_df[(middleschool_df['cohort']==1)]['vote_acquisition_rate']\n",
    "group2 = middleschool_df[(middleschool_df['cohort']==2)]['vote_acquisition_rate']\n",
    "\n",
    "# 결측값 제거 \n",
    "group1 = group1.dropna()\n",
    "group2 = group2.dropna()\n",
    "\n",
    "print(\"Group1:\", shapiro(group1))\n",
    "print(\"Group2:\", shapiro(group2))"
   ]
  },
  {
   "cell_type": "code",
   "execution_count": 46,
   "id": "c203acf0",
   "metadata": {},
   "outputs": [
    {
     "name": "stdout",
     "output_type": "stream",
     "text": [
      "[Welch's t-test] t-stat: 4.126, p-value: 0.0001\n",
      "[Mann-Whitney U] U-stat: 19799.500, p-value: 0.0000\n"
     ]
    }
   ],
   "source": [
    "# t-test\n",
    "\n",
    "# Welch's t-test (비등분산)\n",
    "tstat, pval = ttest_ind(group1, group2, equal_var=False)\n",
    "print(f\"[Welch's t-test] t-stat: {tstat:.3f}, p-value: {pval:.4f}\")\n",
    "\n",
    "# Mann-Whitney U test (비모수)\n",
    "u_stat, pval_u = mannwhitneyu(group1, group2, alternative='two-sided')\n",
    "print(f\"[Mann-Whitney U] U-stat: {u_stat:.3f}, p-value: {pval_u:.4f}\")"
   ]
  },
  {
   "cell_type": "markdown",
   "id": "a0b90052",
   "metadata": {},
   "source": [
    "- 통계적으로 유의한 차이"
   ]
  },
  {
   "cell_type": "code",
   "execution_count": 47,
   "id": "489670c0",
   "metadata": {},
   "outputs": [
    {
     "name": "stdout",
     "output_type": "stream",
     "text": [
      "450 57\n",
      "count    450.000000\n",
      "mean      17.573497\n",
      "std       27.759190\n",
      "min        0.041667\n",
      "25%        6.612772\n",
      "50%       11.518590\n",
      "75%       18.923077\n",
      "max      407.000000\n",
      "Name: vote_acquisition_rate, dtype: float64\n",
      "count    57.000000\n",
      "mean      8.129761\n",
      "std      14.178476\n",
      "min       0.133333\n",
      "25%       2.434783\n",
      "50%       4.875000\n",
      "75%       6.833333\n",
      "max      97.000000\n",
      "Name: vote_acquisition_rate, dtype: float64\n"
     ]
    }
   ],
   "source": [
    "print(len(group1), len(group2))\n",
    "print(group1.describe())\n",
    "print(group2.describe())"
   ]
  },
  {
   "cell_type": "markdown",
   "id": "f38eb1a3",
   "metadata": {},
   "source": [
    "- 리텐션 상위 25% cohort의 일평균 받은 투표 수 : 약 17.573\n",
    "- 리텐션 하위 25% cohort의 일평균 받은 투표 수 : 약 8.129"
   ]
  },
  {
   "cell_type": "markdown",
   "id": "663c008c",
   "metadata": {},
   "source": [
    "---"
   ]
  },
  {
   "cell_type": "markdown",
   "id": "c2f88af2",
   "metadata": {},
   "source": [
    "- 중학생 유저들의 지역 확인하기"
   ]
  },
  {
   "cell_type": "code",
   "execution_count": 48,
   "id": "65fbd115",
   "metadata": {},
   "outputs": [
    {
     "data": {
      "text/plain": [
       "Index(['Unnamed: 0', 'user_id', 'total_votes', 'unique_days', 'first_vote',\n",
       "       'last_vote', 'active_days', 'cohort_day', 'retention_day8', 'gender',\n",
       "       'school_id', 'grade', 'group_id', 'votes_within_3d',\n",
       "       'period_friend_count', 'retention_group', 'address', 'student_count',\n",
       "       'school_type', 'firstquestion_id', 'first_question_text',\n",
       "       'first_question_category', 'chosen_count', 'sign_up_date',\n",
       "       'first_vote_date', 'first_point_use_date', 'first_point_use_amount',\n",
       "       'vote_sameday_signup', 'days_to_vote', 'days_to_point',\n",
       "       'days_to_point_after_vote', 'first_vote_hour',\n",
       "       'first_voteday_question_count', 'cohort', 'middleschooler',\n",
       "       'created_at', 'hour'],\n",
       "      dtype='object')"
      ]
     },
     "execution_count": 48,
     "metadata": {},
     "output_type": "execute_result"
    }
   ],
   "source": [
    "master_cohort_middleschool_df.columns"
   ]
  },
  {
   "cell_type": "code",
   "execution_count": 49,
   "id": "d907ec88",
   "metadata": {},
   "outputs": [
    {
     "data": {
      "text/plain": [
       "array(['충청남도 아산시', '충청남도 천안시 서북구', '경기도 광주시', '경기도 화성시', '경상남도 거제시',\n",
       "       '경기도 광명시', '인천광역시 서구', '경기도 남양주시', '울산광역시 울주군'], dtype=object)"
      ]
     },
     "execution_count": 49,
     "metadata": {},
     "output_type": "execute_result"
    }
   ],
   "source": [
    "master_cohort_middleschool_df['address'].unique()"
   ]
  },
  {
   "cell_type": "code",
   "execution_count": 50,
   "id": "4c195b59",
   "metadata": {},
   "outputs": [
    {
     "data": {
      "image/png": "[encoded data removed]",
      "text/plain": [
       "<Figure size 1000x600 with 1 Axes>"
      ]
     },
     "metadata": {},
     "output_type": "display_data"
    }
   ],
   "source": [
    "# 중학생 데이터\n",
    "middleschooler_df = master_cohort_middleschool_df[master_cohort_middleschool_df['middleschooler'] == 1]\n",
    "\n",
    "# 시각화 해보기\n",
    "plt.figure(figsize=(10,6))\n",
    "sns.countplot(data=middleschooler_df, x='address', hue='retention_group')\n",
    "plt.show()"
   ]
  },
  {
   "cell_type": "markdown",
   "id": "dbd0c244",
   "metadata": {},
   "source": [
    "---"
   ]
  },
  {
   "cell_type": "markdown",
   "id": "0f0f8036",
   "metadata": {},
   "source": [
    "- 중학생 유저들의 성별 확인"
   ]
  },
  {
   "cell_type": "code",
   "execution_count": 51,
   "id": "3d7c71cb",
   "metadata": {},
   "outputs": [
    {
     "data": {
      "image/png": "[encoded data removed]",
      "text/plain": [
       "<Figure size 1000x600 with 1 Axes>"
      ]
     },
     "metadata": {},
     "output_type": "display_data"
    }
   ],
   "source": [
    "# 시각화 해보기\n",
    "plt.figure(figsize=(10,6))\n",
    "sns.countplot(data=middleschooler_df, x='gender', hue='retention_group')\n",
    "plt.show()"
   ]
  },
  {
   "cell_type": "markdown",
   "id": "55400294",
   "metadata": {},
   "source": [
    "---"
   ]
  },
  {
   "cell_type": "markdown",
   "id": "c03f3705",
   "metadata": {},
   "source": [
    "- 중학생들의 알람 on 여부 확인"
   ]
  },
  {
   "cell_type": "code",
   "execution_count": 52,
   "id": "6573a453",
   "metadata": {},
   "outputs": [
    {
     "data": {
      "text/html": [
       "<div>\n",
       "<style scoped>\n",
       "    .dataframe tbody tr th:only-of-type {\n",
       "        vertical-align: middle;\n",
       "    }\n",
       "\n",
       "    .dataframe tbody tr th {\n",
       "        vertical-align: top;\n",
       "    }\n",
       "\n",
       "    .dataframe thead th {\n",
       "        text-align: right;\n",
       "    }\n",
       "</style>\n",
       "<table border=\"1\" class=\"dataframe\">\n",
       "  <thead>\n",
       "    <tr style=\"text-align: right;\">\n",
       "      <th></th>\n",
       "      <th>id</th>\n",
       "      <th>is_superuser</th>\n",
       "      <th>is_staff</th>\n",
       "      <th>gender</th>\n",
       "      <th>point</th>\n",
       "      <th>friend_id_list</th>\n",
       "      <th>is_push_on</th>\n",
       "      <th>created_at</th>\n",
       "      <th>block_user_id_list</th>\n",
       "      <th>hide_user_id_list</th>\n",
       "      <th>ban_status</th>\n",
       "      <th>report_count</th>\n",
       "      <th>alarm_count</th>\n",
       "      <th>pending_chat</th>\n",
       "      <th>pending_votes</th>\n",
       "      <th>group_id</th>\n",
       "    </tr>\n",
       "  </thead>\n",
       "  <tbody>\n",
       "    <tr>\n",
       "      <th>0</th>\n",
       "      <td>831956</td>\n",
       "      <td>1</td>\n",
       "      <td>1</td>\n",
       "      <td>None</td>\n",
       "      <td>600</td>\n",
       "      <td>[1292473, 913158, 1488461, 1064695, 1043565, 1...</td>\n",
       "      <td>0</td>\n",
       "      <td>2023-03-29 03:44:14.047130</td>\n",
       "      <td>[]</td>\n",
       "      <td>[]</td>\n",
       "      <td>N</td>\n",
       "      <td>0</td>\n",
       "      <td>0</td>\n",
       "      <td>0</td>\n",
       "      <td>0</td>\n",
       "      <td>NaN</td>\n",
       "    </tr>\n",
       "    <tr>\n",
       "      <th>1</th>\n",
       "      <td>831962</td>\n",
       "      <td>0</td>\n",
       "      <td>0</td>\n",
       "      <td>F</td>\n",
       "      <td>2248</td>\n",
       "      <td>[833025, 832642, 982531, 879496, 838541, 83752...</td>\n",
       "      <td>1</td>\n",
       "      <td>2023-03-29 05:18:56.162368</td>\n",
       "      <td>[]</td>\n",
       "      <td>[]</td>\n",
       "      <td>N</td>\n",
       "      <td>253</td>\n",
       "      <td>40878</td>\n",
       "      <td>5499</td>\n",
       "      <td>110</td>\n",
       "      <td>12.0</td>\n",
       "    </tr>\n",
       "    <tr>\n",
       "      <th>2</th>\n",
       "      <td>832151</td>\n",
       "      <td>0</td>\n",
       "      <td>0</td>\n",
       "      <td>M</td>\n",
       "      <td>1519</td>\n",
       "      <td>[838785, 982531, 882567, 879496, 838541, 83649...</td>\n",
       "      <td>0</td>\n",
       "      <td>2023-03-29 12:56:34.989468</td>\n",
       "      <td>[]</td>\n",
       "      <td>[]</td>\n",
       "      <td>N</td>\n",
       "      <td>0</td>\n",
       "      <td>37</td>\n",
       "      <td>0</td>\n",
       "      <td>47</td>\n",
       "      <td>1.0</td>\n",
       "    </tr>\n",
       "    <tr>\n",
       "      <th>3</th>\n",
       "      <td>832340</td>\n",
       "      <td>0</td>\n",
       "      <td>0</td>\n",
       "      <td>F</td>\n",
       "      <td>57</td>\n",
       "      <td>[841345, 982531, 838785, 963714, 882567, 83252...</td>\n",
       "      <td>1</td>\n",
       "      <td>2023-03-29 12:56:35.020790</td>\n",
       "      <td>[]</td>\n",
       "      <td>[]</td>\n",
       "      <td>N</td>\n",
       "      <td>0</td>\n",
       "      <td>19</td>\n",
       "      <td>0</td>\n",
       "      <td>21</td>\n",
       "      <td>1.0</td>\n",
       "    </tr>\n",
       "    <tr>\n",
       "      <th>4</th>\n",
       "      <td>832520</td>\n",
       "      <td>0</td>\n",
       "      <td>0</td>\n",
       "      <td>M</td>\n",
       "      <td>1039</td>\n",
       "      <td>[874050, 849763, 874212, 844297, 838541, 84004...</td>\n",
       "      <td>0</td>\n",
       "      <td>2023-03-29 12:56:35.049311</td>\n",
       "      <td>[]</td>\n",
       "      <td>[]</td>\n",
       "      <td>N</td>\n",
       "      <td>0</td>\n",
       "      <td>29</td>\n",
       "      <td>0</td>\n",
       "      <td>15</td>\n",
       "      <td>12.0</td>\n",
       "    </tr>\n",
       "  </tbody>\n",
       "</table>\n",
       "</div>"
      ],
      "text/plain": [
       "       id  is_superuser  is_staff gender  point  \\\n",
       "0  831956             1         1   None    600   \n",
       "1  831962             0         0      F   2248   \n",
       "2  832151             0         0      M   1519   \n",
       "3  832340             0         0      F     57   \n",
       "4  832520             0         0      M   1039   \n",
       "\n",
       "                                      friend_id_list  is_push_on  \\\n",
       "0  [1292473, 913158, 1488461, 1064695, 1043565, 1...           0   \n",
       "1  [833025, 832642, 982531, 879496, 838541, 83752...           1   \n",
       "2  [838785, 982531, 882567, 879496, 838541, 83649...           0   \n",
       "3  [841345, 982531, 838785, 963714, 882567, 83252...           1   \n",
       "4  [874050, 849763, 874212, 844297, 838541, 84004...           0   \n",
       "\n",
       "                  created_at block_user_id_list hide_user_id_list ban_status  \\\n",
       "0 2023-03-29 03:44:14.047130                 []                []          N   \n",
       "1 2023-03-29 05:18:56.162368                 []                []          N   \n",
       "2 2023-03-29 12:56:34.989468                 []                []          N   \n",
       "3 2023-03-29 12:56:35.020790                 []                []          N   \n",
       "4 2023-03-29 12:56:35.049311                 []                []          N   \n",
       "\n",
       "   report_count  alarm_count  pending_chat  pending_votes  group_id  \n",
       "0             0            0             0              0       NaN  \n",
       "1           253        40878          5499            110      12.0  \n",
       "2             0           37             0             47       1.0  \n",
       "3             0           19             0             21       1.0  \n",
       "4             0           29             0             15      12.0  "
      ]
     },
     "execution_count": 52,
     "metadata": {},
     "output_type": "execute_result"
    }
   ],
   "source": [
    "user_df = pd.read_parquet('./votes/accounts_user.parquet')\n",
    "user_df.head()"
   ]
  },
  {
   "cell_type": "code",
   "execution_count": 53,
   "id": "d34ea3ff",
   "metadata": {},
   "outputs": [],
   "source": [
    "# 중학생들 데이터만 뽑기\n",
    "user_push_df = user_df[user_df['id'].isin(middleschool_user_list)]\n",
    "\n",
    "# 필요 컬럼만 뽑기\n",
    "user_push_df = user_push_df[['id', 'is_push_on']]"
   ]
  },
  {
   "cell_type": "code",
   "execution_count": 54,
   "id": "b26cec54",
   "metadata": {},
   "outputs": [
    {
     "data": {
      "text/plain": [
       "is_push_on\n",
       "1    451\n",
       "0     56\n",
       "Name: count, dtype: int64"
      ]
     },
     "execution_count": 54,
     "metadata": {},
     "output_type": "execute_result"
    }
   ],
   "source": [
    "user_push_df['is_push_on'].value_counts()"
   ]
  },
  {
   "cell_type": "markdown",
   "id": "5d75f03f",
   "metadata": {},
   "source": [
    "- 'first_point_use_date'\n",
    "- 'first_point_use_amount',\n",
    "- 'vote_sameday_signup'\n",
    "- 'days_to_vote'\n",
    "- 'days_to_point',\n",
    "- 'days_to_point_after_vote'\n",
    "- 'first_vote_hour'\n",
    "- 'first_voteday_question_count"
   ]
  },
  {
   "cell_type": "code",
   "execution_count": 55,
   "id": "d51c8c80",
   "metadata": {},
   "outputs": [
    {
     "data": {
      "text/html": [
       "<div>\n",
       "<style scoped>\n",
       "    .dataframe tbody tr th:only-of-type {\n",
       "        vertical-align: middle;\n",
       "    }\n",
       "\n",
       "    .dataframe tbody tr th {\n",
       "        vertical-align: top;\n",
       "    }\n",
       "\n",
       "    .dataframe thead th {\n",
       "        text-align: right;\n",
       "    }\n",
       "</style>\n",
       "<table border=\"1\" class=\"dataframe\">\n",
       "  <thead>\n",
       "    <tr style=\"text-align: right;\">\n",
       "      <th></th>\n",
       "      <th>Unnamed: 0</th>\n",
       "      <th>user_id</th>\n",
       "      <th>total_votes</th>\n",
       "      <th>unique_days</th>\n",
       "      <th>first_vote</th>\n",
       "      <th>last_vote</th>\n",
       "      <th>active_days</th>\n",
       "      <th>cohort_day</th>\n",
       "      <th>retention_day8</th>\n",
       "      <th>gender</th>\n",
       "      <th>...</th>\n",
       "      <th>days_to_vote</th>\n",
       "      <th>days_to_point</th>\n",
       "      <th>days_to_point_after_vote</th>\n",
       "      <th>first_vote_hour</th>\n",
       "      <th>first_voteday_question_count</th>\n",
       "      <th>cohort</th>\n",
       "      <th>middleschooler</th>\n",
       "      <th>created_at</th>\n",
       "      <th>hour</th>\n",
       "      <th>vote_acquisition_rate</th>\n",
       "    </tr>\n",
       "  </thead>\n",
       "  <tbody>\n",
       "    <tr>\n",
       "      <th>938</th>\n",
       "      <td>938</td>\n",
       "      <td>899988</td>\n",
       "      <td>420</td>\n",
       "      <td>27</td>\n",
       "      <td>2023-05-17</td>\n",
       "      <td>2023-07-19</td>\n",
       "      <td>64</td>\n",
       "      <td>2023-05-17</td>\n",
       "      <td>0.275362</td>\n",
       "      <td>M</td>\n",
       "      <td>...</td>\n",
       "      <td>10</td>\n",
       "      <td>10.0</td>\n",
       "      <td>-1.0</td>\n",
       "      <td>6</td>\n",
       "      <td>25</td>\n",
       "      <td>2</td>\n",
       "      <td>1</td>\n",
       "      <td>2023-05-17 06:23:27</td>\n",
       "      <td>6</td>\n",
       "      <td>5.203125</td>\n",
       "    </tr>\n",
       "    <tr>\n",
       "      <th>1000</th>\n",
       "      <td>1000</td>\n",
       "      <td>918489</td>\n",
       "      <td>159</td>\n",
       "      <td>7</td>\n",
       "      <td>2023-05-12</td>\n",
       "      <td>2023-05-27</td>\n",
       "      <td>16</td>\n",
       "      <td>2023-05-12</td>\n",
       "      <td>0.529032</td>\n",
       "      <td>F</td>\n",
       "      <td>...</td>\n",
       "      <td>5</td>\n",
       "      <td>5.0</td>\n",
       "      <td>0.0</td>\n",
       "      <td>9</td>\n",
       "      <td>25</td>\n",
       "      <td>1</td>\n",
       "      <td>1</td>\n",
       "      <td>2023-05-12 09:54:06</td>\n",
       "      <td>9</td>\n",
       "      <td>14.687500</td>\n",
       "    </tr>\n",
       "    <tr>\n",
       "      <th>1004</th>\n",
       "      <td>1004</td>\n",
       "      <td>922680</td>\n",
       "      <td>1001</td>\n",
       "      <td>30</td>\n",
       "      <td>2023-05-09</td>\n",
       "      <td>2023-07-08</td>\n",
       "      <td>61</td>\n",
       "      <td>2023-05-09</td>\n",
       "      <td>0.731602</td>\n",
       "      <td>F</td>\n",
       "      <td>...</td>\n",
       "      <td>2</td>\n",
       "      <td>3.0</td>\n",
       "      <td>1.0</td>\n",
       "      <td>8</td>\n",
       "      <td>67</td>\n",
       "      <td>1</td>\n",
       "      <td>1</td>\n",
       "      <td>2023-05-09 08:52:39</td>\n",
       "      <td>8</td>\n",
       "      <td>12.196721</td>\n",
       "    </tr>\n",
       "    <tr>\n",
       "      <th>1007</th>\n",
       "      <td>1007</td>\n",
       "      <td>924006</td>\n",
       "      <td>166</td>\n",
       "      <td>11</td>\n",
       "      <td>2023-05-09</td>\n",
       "      <td>2023-05-29</td>\n",
       "      <td>21</td>\n",
       "      <td>2023-05-09</td>\n",
       "      <td>0.731602</td>\n",
       "      <td>F</td>\n",
       "      <td>...</td>\n",
       "      <td>2</td>\n",
       "      <td>2.0</td>\n",
       "      <td>0.0</td>\n",
       "      <td>8</td>\n",
       "      <td>22</td>\n",
       "      <td>1</td>\n",
       "      <td>1</td>\n",
       "      <td>2023-05-09 08:47:23</td>\n",
       "      <td>8</td>\n",
       "      <td>31.142857</td>\n",
       "    </tr>\n",
       "    <tr>\n",
       "      <th>1021</th>\n",
       "      <td>1021</td>\n",
       "      <td>928814</td>\n",
       "      <td>640</td>\n",
       "      <td>24</td>\n",
       "      <td>2023-05-09</td>\n",
       "      <td>2023-07-20</td>\n",
       "      <td>73</td>\n",
       "      <td>2023-05-09</td>\n",
       "      <td>0.731602</td>\n",
       "      <td>F</td>\n",
       "      <td>...</td>\n",
       "      <td>2</td>\n",
       "      <td>6.0</td>\n",
       "      <td>3.0</td>\n",
       "      <td>8</td>\n",
       "      <td>40</td>\n",
       "      <td>1</td>\n",
       "      <td>1</td>\n",
       "      <td>2023-05-09 08:48:12</td>\n",
       "      <td>8</td>\n",
       "      <td>8.657534</td>\n",
       "    </tr>\n",
       "  </tbody>\n",
       "</table>\n",
       "<p>5 rows × 38 columns</p>\n",
       "</div>"
      ],
      "text/plain": [
       "      Unnamed: 0  user_id  total_votes  unique_days  first_vote   last_vote  \\\n",
       "938          938   899988          420           27  2023-05-17  2023-07-19   \n",
       "1000        1000   918489          159            7  2023-05-12  2023-05-27   \n",
       "1004        1004   922680         1001           30  2023-05-09  2023-07-08   \n",
       "1007        1007   924006          166           11  2023-05-09  2023-05-29   \n",
       "1021        1021   928814          640           24  2023-05-09  2023-07-20   \n",
       "\n",
       "      active_days  cohort_day  retention_day8 gender  ...  days_to_vote  \\\n",
       "938            64  2023-05-17        0.275362      M  ...            10   \n",
       "1000           16  2023-05-12        0.529032      F  ...             5   \n",
       "1004           61  2023-05-09        0.731602      F  ...             2   \n",
       "1007           21  2023-05-09        0.731602      F  ...             2   \n",
       "1021           73  2023-05-09        0.731602      F  ...             2   \n",
       "\n",
       "      days_to_point  days_to_point_after_vote  first_vote_hour  \\\n",
       "938            10.0                      -1.0                6   \n",
       "1000            5.0                       0.0                9   \n",
       "1004            3.0                       1.0                8   \n",
       "1007            2.0                       0.0                8   \n",
       "1021            6.0                       3.0                8   \n",
       "\n",
       "      first_voteday_question_count cohort middleschooler          created_at  \\\n",
       "938                             25      2              1 2023-05-17 06:23:27   \n",
       "1000                            25      1              1 2023-05-12 09:54:06   \n",
       "1004                            67      1              1 2023-05-09 08:52:39   \n",
       "1007                            22      1              1 2023-05-09 08:47:23   \n",
       "1021                            40      1              1 2023-05-09 08:48:12   \n",
       "\n",
       "     hour  vote_acquisition_rate  \n",
       "938     6               5.203125  \n",
       "1000    9              14.687500  \n",
       "1004    8              12.196721  \n",
       "1007    8              31.142857  \n",
       "1021    8               8.657534  \n",
       "\n",
       "[5 rows x 38 columns]"
      ]
     },
     "execution_count": 55,
     "metadata": {},
     "output_type": "execute_result"
    }
   ],
   "source": [
    "middleschool_df.head()"
   ]
  },
  {
   "cell_type": "code",
   "execution_count": 56,
   "id": "8b7b0586",
   "metadata": {},
   "outputs": [
    {
     "data": {
      "text/plain": [
       "days_to_point\n",
       "0.0     339\n",
       "1.0      73\n",
       "2.0      36\n",
       "3.0      15\n",
       "5.0       6\n",
       "7.0       6\n",
       "4.0       6\n",
       "6.0       5\n",
       "10.0      4\n",
       "9.0       2\n",
       "71.0      1\n",
       "11.0      1\n",
       "75.0      1\n",
       "12.0      1\n",
       "Name: count, dtype: int64"
      ]
     },
     "execution_count": 56,
     "metadata": {},
     "output_type": "execute_result"
    }
   ],
   "source": [
    "# 중학생 리텐션 상위/하위 집단 데이터\n",
    "middleschool_df['days_to_point'].value_counts()"
   ]
  },
  {
   "cell_type": "code",
   "execution_count": 57,
   "id": "c49919b2",
   "metadata": {},
   "outputs": [
    {
     "data": {
      "text/plain": [
       "retention_group\n",
       "bottom25   -249.038462\n",
       "top25      -272.454955\n",
       "Name: first_point_use_amount, dtype: float64"
      ]
     },
     "execution_count": 57,
     "metadata": {},
     "output_type": "execute_result"
    }
   ],
   "source": [
    "middleschool_df.groupby(['retention_group'])['first_point_use_amount'].mean()"
   ]
  },
  {
   "cell_type": "code",
   "execution_count": 58,
   "id": "2449d1cd",
   "metadata": {},
   "outputs": [
    {
     "data": {
      "text/plain": [
       "retention_group\n",
       "bottom25    0.771930\n",
       "top25       0.766667\n",
       "Name: vote_sameday_signup, dtype: float64"
      ]
     },
     "execution_count": 58,
     "metadata": {},
     "output_type": "execute_result"
    }
   ],
   "source": [
    "middleschool_df.groupby(['retention_group'])['vote_sameday_signup'].mean()"
   ]
  },
  {
   "cell_type": "code",
   "execution_count": 59,
   "id": "2ecf4270",
   "metadata": {},
   "outputs": [
    {
     "data": {
      "text/plain": [
       "retention_group\n",
       "bottom25    3.019231\n",
       "top25       0.869369\n",
       "Name: days_to_point, dtype: float64"
      ]
     },
     "execution_count": 59,
     "metadata": {},
     "output_type": "execute_result"
    }
   ],
   "source": [
    "middleschool_df.groupby(['retention_group'])['days_to_point'].mean()"
   ]
  },
  {
   "cell_type": "code",
   "execution_count": 60,
   "id": "faadc549",
   "metadata": {},
   "outputs": [
    {
     "data": {
      "image/png": "[encoded data removed]",
      "text/plain": [
       "<Figure size 1000x600 with 1 Axes>"
      ]
     },
     "metadata": {},
     "output_type": "display_data"
    }
   ],
   "source": [
    "plt.figure(figsize=(10,6))\n",
    "sns.countplot(data=middleschool_df, x='days_to_point', hue='retention_group')\n",
    "plt.show()"
   ]
  },
  {
   "cell_type": "markdown",
   "id": "61da686b",
   "metadata": {},
   "source": [
    "- 리텐션이 높은 집단이 낮은 집단과 차이나는 점\n",
    "    - 가입 당일에 포인트 사용 비중이 높음.\n",
    "    - 중학생 프로모션으로 회원가입 즉시 포인트 사용 유도"
   ]
  },
  {
   "cell_type": "code",
   "execution_count": null,
   "id": "58a6b67c",
   "metadata": {},
   "outputs": [
    {
     "name": "stdout",
     "output_type": "stream",
     "text": [
      "Group1: ShapiroResult(statistic=0.19120095306518503, pvalue=8.71169475062546e-40)\n",
      "Group2: ShapiroResult(statistic=0.27515399146515895, pvalue=1.3754137986985716e-14)\n"
     ]
    }
   ],
   "source": [
    "# 회원가입부터 첫 포인트 사용일까지의 기간이 통계적으로 유의한지 검정하기 위해서 정규성 검정\n",
    "\n",
    "# 두 집단으로 나누기\n",
    "group1 = middleschool_df[(middleschool_df['retention_group']=='top25')]['days_to_point']\n",
    "group2 = middleschool_df[(middleschool_df['retention_group']=='bottom25')]['days_to_point']\n",
    "\n",
    "# 결측값 제거 \n",
    "group1 = group1.dropna()\n",
    "group2 = group2.dropna()\n",
    "\n",
    "print(\"Group1:\", shapiro(group1))\n",
    "print(\"Group2:\", shapiro(group2))"
   ]
  },
  {
   "cell_type": "markdown",
   "id": "c52d27f1",
   "metadata": {},
   "source": [
    "- 두 그룹은 정규분포가 아님. 평균을 비교할 경우 비모수 검정 사용 진행"
   ]
  },
  {
   "cell_type": "code",
   "execution_count": 63,
   "id": "ad9f1245",
   "metadata": {},
   "outputs": [
    {
     "name": "stdout",
     "output_type": "stream",
     "text": [
      "[Mann-Whitney U] U-stat: 9012.000, p-value: 0.0017\n"
     ]
    }
   ],
   "source": [
    "# t-test\n",
    "\n",
    "# Mann-Whitney U test (비모수)\n",
    "u_stat, pval_u = mannwhitneyu(group1, group2, alternative='two-sided')\n",
    "print(f\"[Mann-Whitney U] U-stat: {u_stat:.3f}, p-value: {pval_u:.4f}\")"
   ]
  },
  {
   "cell_type": "code",
   "execution_count": 64,
   "id": "0d246344",
   "metadata": {},
   "outputs": [
    {
     "name": "stdout",
     "output_type": "stream",
     "text": [
      "444 52\n",
      "count    444.000000\n",
      "mean       0.869369\n",
      "std        3.702974\n",
      "min        0.000000\n",
      "25%        0.000000\n",
      "50%        0.000000\n",
      "75%        1.000000\n",
      "max       71.000000\n",
      "Name: days_to_point, dtype: float64\n",
      "count    52.000000\n",
      "mean      3.019231\n",
      "std      10.554230\n",
      "min       0.000000\n",
      "25%       0.000000\n",
      "50%       0.500000\n",
      "75%       2.000000\n",
      "max      75.000000\n",
      "Name: days_to_point, dtype: float64\n"
     ]
    }
   ],
   "source": [
    "print(len(group1), len(group2))\n",
    "print(group1.describe())\n",
    "print(group2.describe())"
   ]
  },
  {
   "cell_type": "code",
   "execution_count": null,
   "id": "15d7d03c",
   "metadata": {},
   "outputs": [],
   "source": []
  }
 ],
 "metadata": {
  "kernelspec": {
   "display_name": "google_cloud",
   "language": "python",
   "name": "python3"
  },
  "language_info": {
   "codemirror_mode": {
    "name": "ipython",
    "version": 3
   },
   "file_extension": ".py",
   "mimetype": "text/x-python",
   "name": "python",
   "nbconvert_exporter": "python",
   "pygments_lexer": "ipython3",
   "version": "3.12.3"
  }
 },
 "nbformat": 4,
 "nbformat_minor": 5
}
