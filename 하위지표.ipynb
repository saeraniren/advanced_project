{
 "cells": [
  {
   "cell_type": "code",
   "execution_count": 1,
   "id": "0cf730c3",
   "metadata": {},
   "outputs": [],
   "source": [
    "import pandas as pd\n",
    "import numpy as np\n",
    "import matplotlib.pyplot as plt\n",
    "import seaborn as sns\n",
    "import ast \n",
    "\n",
    "# import os\n",
    "# if os.name == 'posix' :\n",
    "#     plt.rc('font', family='AppleGothic')\n",
    "# else :\n",
    "#     plt.rc('font', family='Malgun Gothic')\n",
    "    \n",
    "plt.rc('axes', unicode_minus=False)\n",
    "\n",
    "plt.rcParams['font.family'] = 'NanumGothic' \n",
    "plt.rcParams['axes.unicode_minus'] = False\n",
    "import koreanize_matplotlib"
   ]
  },
  {
   "cell_type": "code",
   "execution_count": 66,
   "id": "8ac420a8",
   "metadata": {},
   "outputs": [],
   "source": [
    "# 검정을 위해 필요한 라이브러리\n",
    "from statsmodels.stats.proportion import proportions_ztest\n",
    "from scipy.stats import ttest_ind, mannwhitneyu"
   ]
  },
  {
   "cell_type": "markdown",
   "id": "3512be20",
   "metadata": {},
   "source": [
    "# 하위 지표 찾기"
   ]
  },
  {
   "cell_type": "markdown",
   "id": "c65734f3",
   "metadata": {},
   "source": [
    "## 데이터 불러오기"
   ]
  },
  {
   "cell_type": "markdown",
   "id": "20fa6a9b",
   "metadata": {},
   "source": [
    "### 통합 데이터 "
   ]
  },
  {
   "cell_type": "code",
   "execution_count": 4,
   "id": "acc8f8b4",
   "metadata": {},
   "outputs": [
    {
     "data": {
      "text/html": [
       "<div>\n",
       "<style scoped>\n",
       "    .dataframe tbody tr th:only-of-type {\n",
       "        vertical-align: middle;\n",
       "    }\n",
       "\n",
       "    .dataframe tbody tr th {\n",
       "        vertical-align: top;\n",
       "    }\n",
       "\n",
       "    .dataframe thead th {\n",
       "        text-align: right;\n",
       "    }\n",
       "</style>\n",
       "<table border=\"1\" class=\"dataframe\">\n",
       "  <thead>\n",
       "    <tr style=\"text-align: right;\">\n",
       "      <th></th>\n",
       "      <th>Unnamed: 0</th>\n",
       "      <th>user_id</th>\n",
       "      <th>total_votes</th>\n",
       "      <th>unique_days</th>\n",
       "      <th>first_vote</th>\n",
       "      <th>last_vote</th>\n",
       "      <th>active_days</th>\n",
       "      <th>cohort_day</th>\n",
       "      <th>retention_day8</th>\n",
       "      <th>ret_group</th>\n",
       "      <th>...</th>\n",
       "      <th>opposite_sex_vote_received_ratio</th>\n",
       "      <th>candidate_count</th>\n",
       "      <th>chosen_count</th>\n",
       "      <th>ratio</th>\n",
       "      <th>address</th>\n",
       "      <th>student_count</th>\n",
       "      <th>school_type</th>\n",
       "      <th>firstquestion_id</th>\n",
       "      <th>first_question_text</th>\n",
       "      <th>first_question_category</th>\n",
       "    </tr>\n",
       "  </thead>\n",
       "  <tbody>\n",
       "    <tr>\n",
       "      <th>0</th>\n",
       "      <td>0</td>\n",
       "      <td>838023</td>\n",
       "      <td>22</td>\n",
       "      <td>5</td>\n",
       "      <td>2023-04-29</td>\n",
       "      <td>2023-05-04</td>\n",
       "      <td>5</td>\n",
       "      <td>2023-04-29</td>\n",
       "      <td>0.515152</td>\n",
       "      <td>50 이상</td>\n",
       "      <td>...</td>\n",
       "      <td>0.125954</td>\n",
       "      <td>27.0</td>\n",
       "      <td>10.0</td>\n",
       "      <td>0.370370</td>\n",
       "      <td>충청남도 천안시 서북구</td>\n",
       "      <td>491</td>\n",
       "      <td>H</td>\n",
       "      <td>121</td>\n",
       "      <td>가장 어른스러운 사람은?</td>\n",
       "      <td>['심리' '성격' '인간관계']</td>\n",
       "    </tr>\n",
       "    <tr>\n",
       "      <th>1</th>\n",
       "      <td>1</td>\n",
       "      <td>838466</td>\n",
       "      <td>127</td>\n",
       "      <td>6</td>\n",
       "      <td>2023-05-02</td>\n",
       "      <td>2023-05-07</td>\n",
       "      <td>5</td>\n",
       "      <td>2023-05-02</td>\n",
       "      <td>0.569444</td>\n",
       "      <td>50 이상</td>\n",
       "      <td>...</td>\n",
       "      <td>0.134111</td>\n",
       "      <td>82.0</td>\n",
       "      <td>37.0</td>\n",
       "      <td>0.451220</td>\n",
       "      <td>충청남도 아산시</td>\n",
       "      <td>578</td>\n",
       "      <td>H</td>\n",
       "      <td>298</td>\n",
       "      <td>옷이 제일 많을 거 같은 사람은?</td>\n",
       "      <td>['일상' '스타일' '관찰']</td>\n",
       "    </tr>\n",
       "    <tr>\n",
       "      <th>2</th>\n",
       "      <td>2</td>\n",
       "      <td>838642</td>\n",
       "      <td>1</td>\n",
       "      <td>1</td>\n",
       "      <td>2023-04-29</td>\n",
       "      <td>2023-04-29</td>\n",
       "      <td>0</td>\n",
       "      <td>2023-04-29</td>\n",
       "      <td>0.515152</td>\n",
       "      <td>50 이상</td>\n",
       "      <td>...</td>\n",
       "      <td>0.100000</td>\n",
       "      <td>44.0</td>\n",
       "      <td>5.0</td>\n",
       "      <td>0.113636</td>\n",
       "      <td>충청남도 천안시 서북구</td>\n",
       "      <td>491</td>\n",
       "      <td>H</td>\n",
       "      <td>161</td>\n",
       "      <td>화목한 가정을 꾸릴거 같은 사람은?</td>\n",
       "      <td>['일상' '라이프스타일' '인간관계']</td>\n",
       "    </tr>\n",
       "    <tr>\n",
       "      <th>3</th>\n",
       "      <td>3</td>\n",
       "      <td>839357</td>\n",
       "      <td>205</td>\n",
       "      <td>8</td>\n",
       "      <td>2023-04-29</td>\n",
       "      <td>2023-05-07</td>\n",
       "      <td>8</td>\n",
       "      <td>2023-04-29</td>\n",
       "      <td>0.515152</td>\n",
       "      <td>50 이상</td>\n",
       "      <td>...</td>\n",
       "      <td>0.797688</td>\n",
       "      <td>42.0</td>\n",
       "      <td>10.0</td>\n",
       "      <td>0.238095</td>\n",
       "      <td>충청남도 천안시 서북구</td>\n",
       "      <td>491</td>\n",
       "      <td>H</td>\n",
       "      <td>179</td>\n",
       "      <td>책을 제일 많이 읽은 것 같은 사람은?</td>\n",
       "      <td>['일상' '지식' '관찰']</td>\n",
       "    </tr>\n",
       "    <tr>\n",
       "      <th>4</th>\n",
       "      <td>4</td>\n",
       "      <td>840293</td>\n",
       "      <td>170</td>\n",
       "      <td>7</td>\n",
       "      <td>2023-05-03</td>\n",
       "      <td>2023-05-15</td>\n",
       "      <td>12</td>\n",
       "      <td>2023-05-03</td>\n",
       "      <td>0.422977</td>\n",
       "      <td>50 미만</td>\n",
       "      <td>...</td>\n",
       "      <td>0.207469</td>\n",
       "      <td>74.0</td>\n",
       "      <td>31.0</td>\n",
       "      <td>0.418919</td>\n",
       "      <td>충청남도 아산시</td>\n",
       "      <td>578</td>\n",
       "      <td>H</td>\n",
       "      <td>464</td>\n",
       "      <td>뭔가 제대로 한 번 보여줄 것 같은 사람은?</td>\n",
       "      <td>['성격' '미래' '관찰']</td>\n",
       "    </tr>\n",
       "  </tbody>\n",
       "</table>\n",
       "<p>5 rows × 43 columns</p>\n",
       "</div>"
      ],
      "text/plain": [
       "   Unnamed: 0  user_id  total_votes  unique_days  first_vote   last_vote  \\\n",
       "0           0   838023           22            5  2023-04-29  2023-05-04   \n",
       "1           1   838466          127            6  2023-05-02  2023-05-07   \n",
       "2           2   838642            1            1  2023-04-29  2023-04-29   \n",
       "3           3   839357          205            8  2023-04-29  2023-05-07   \n",
       "4           4   840293          170            7  2023-05-03  2023-05-15   \n",
       "\n",
       "   active_days  cohort_day  retention_day8 ret_group  ...  \\\n",
       "0            5  2023-04-29        0.515152     50 이상  ...   \n",
       "1            5  2023-05-02        0.569444     50 이상  ...   \n",
       "2            0  2023-04-29        0.515152     50 이상  ...   \n",
       "3            8  2023-04-29        0.515152     50 이상  ...   \n",
       "4           12  2023-05-03        0.422977     50 미만  ...   \n",
       "\n",
       "  opposite_sex_vote_received_ratio candidate_count chosen_count     ratio  \\\n",
       "0                         0.125954            27.0         10.0  0.370370   \n",
       "1                         0.134111            82.0         37.0  0.451220   \n",
       "2                         0.100000            44.0          5.0  0.113636   \n",
       "3                         0.797688            42.0         10.0  0.238095   \n",
       "4                         0.207469            74.0         31.0  0.418919   \n",
       "\n",
       "        address  student_count  school_type  firstquestion_id  \\\n",
       "0  충청남도 천안시 서북구            491            H               121   \n",
       "1      충청남도 아산시            578            H               298   \n",
       "2  충청남도 천안시 서북구            491            H               161   \n",
       "3  충청남도 천안시 서북구            491            H               179   \n",
       "4      충청남도 아산시            578            H               464   \n",
       "\n",
       "        first_question_text  first_question_category  \n",
       "0             가장 어른스러운 사람은?       ['심리' '성격' '인간관계']  \n",
       "1        옷이 제일 많을 거 같은 사람은?        ['일상' '스타일' '관찰']  \n",
       "2       화목한 가정을 꾸릴거 같은 사람은?   ['일상' '라이프스타일' '인간관계']  \n",
       "3     책을 제일 많이 읽은 것 같은 사람은?         ['일상' '지식' '관찰']  \n",
       "4  뭔가 제대로 한 번 보여줄 것 같은 사람은?         ['성격' '미래' '관찰']  \n",
       "\n",
       "[5 rows x 43 columns]"
      ]
     },
     "execution_count": 4,
     "metadata": {},
     "output_type": "execute_result"
    }
   ],
   "source": [
    "master_df = pd.read_csv('./integrated_master_data.csv')\n",
    "master_df.head()"
   ]
  },
  {
   "cell_type": "code",
   "execution_count": 5,
   "id": "0a845c85",
   "metadata": {},
   "outputs": [
    {
     "data": {
      "text/plain": [
       "Index(['Unnamed: 0', 'user_id', 'total_votes', 'unique_days', 'first_vote',\n",
       "       'last_vote', 'active_days', 'cohort_day', 'retention_day8', 'ret_group',\n",
       "       'ret_group_over', 'ret_group_under', 'gender', 'group_id', 'school_id',\n",
       "       'grade', 'votes_within_3d_count', 'reported_user_count',\n",
       "       'vote_nunique_user_count', 'period_friend_count', 'sign_up_date',\n",
       "       'first_vote_date', 'first_point_use_date', 'first_point_use_amount',\n",
       "       'vote_sameday_signup', 'days_to_vote', 'days_to_point',\n",
       "       'days_to_point_after_vote', 'first_vote_hour',\n",
       "       'first_voteday_question_count', 'total_voted', 'total_read',\n",
       "       'opposite_sex_votes_received_count', 'opposite_sex_vote_received_ratio',\n",
       "       'candidate_count', 'chosen_count', 'ratio', 'address', 'student_count',\n",
       "       'school_type', 'firstquestion_id', 'first_question_text',\n",
       "       'first_question_category'],\n",
       "      dtype='object')"
      ]
     },
     "execution_count": 5,
     "metadata": {},
     "output_type": "execute_result"
    }
   ],
   "source": [
    "master_df.columns"
   ]
  },
  {
   "cell_type": "markdown",
   "id": "a386f75d",
   "metadata": {},
   "source": [
    "## cohort"
   ]
  },
  {
   "cell_type": "markdown",
   "id": "64f69ea3",
   "metadata": {},
   "source": [
    "- 상위 25%\n",
    "    - 날짜 :  04.30, 05.02, 05.09, 05.10, 05.12, 05.20, 05.21\n",
    "    - 행 개수 : 18,795개\n",
    "    - 인원 수 : 1,253명\n",
    "- 하위 25%\n",
    "    - 05.04, 05.05, 05.06, 05.15, 05.16, 05.17, 05.24\n",
    "    - 행 개수 : 18,660개\n",
    "    - 인원 수 : 1,244명"
   ]
  },
  {
   "cell_type": "code",
   "execution_count": 6,
   "id": "39bb26c4",
   "metadata": {},
   "outputs": [],
   "source": [
    "# 25% 기준으로 날짜 나누기\n",
    "upper25_days = ['2023-04-30', '2023-05-02', '2023-05-09', '2023-05-10', '2023-05-12', '2023-05-20', '2023-05-21']\n",
    "lower25_days = ['2023-05-04', '2023-05-05', '2023-05-06', '2023-05-15', '2023-05-16', '2023-05-17', '2023-05-24']"
   ]
  },
  {
   "cell_type": "code",
   "execution_count": 11,
   "id": "96aec906",
   "metadata": {},
   "outputs": [],
   "source": [
    "### 상위\n",
    "# 상위 25% 그룹 나누기\n",
    "cohort_upper25_df = master_df[master_df['first_vote'].isin(upper25_days)]\n",
    "\n",
    "# 상위 25%의 유저 id 리스트로 정리\n",
    "upper25_user_list = list(cohort_upper25_df['user_id'].unique())\n",
    "\n",
    "\n",
    "### 하위\n",
    "# 하위 25% 그룹 나누기\n",
    "cohort_lower25_df = master_df[master_df['first_vote'].isin(lower25_days)]\n",
    "\n",
    "# 하위 25%의 유저 id 리스트로 정리\n",
    "lower25_user_list = list(cohort_lower25_df['user_id'].unique())"
   ]
  },
  {
   "cell_type": "code",
   "execution_count": 13,
   "id": "b4554509",
   "metadata": {},
   "outputs": [
    {
     "name": "stdout",
     "output_type": "stream",
     "text": [
      "리텐션 상위 25% 그룹 유저 수 : 1253\n",
      "리텐션 하위 25% 그룹 유저 수 : 1244\n"
     ]
    }
   ],
   "source": [
    "# 각 코호트별 유저 수 확인해보기\n",
    "\n",
    "print(f\"리텐션 상위 25% 그룹 유저 수 : {len(upper25_user_list)}\")\n",
    "print(f\"리텐션 하위 25% 그룹 유저 수 : {len(lower25_user_list)}\")"
   ]
  },
  {
   "cell_type": "markdown",
   "id": "28eaef26",
   "metadata": {},
   "source": [
    "---"
   ]
  },
  {
   "cell_type": "markdown",
   "id": "4adf8391",
   "metadata": {},
   "source": [
    "## 25%로 나눈 cohort별 지표 비교해보기"
   ]
  },
  {
   "cell_type": "markdown",
   "id": "eaec92a2",
   "metadata": {},
   "source": [
    "### 중학생? 고등학생?"
   ]
  },
  {
   "cell_type": "code",
   "execution_count": 18,
   "metadata": {},
   "outputs": [
    {
     "data": {
      "text/html": [
       "<div>\n",
       "<style scoped>\n",
       "    .dataframe tbody tr th:only-of-type {\n",
       "        vertical-align: middle;\n",
       "    }\n",
       "\n",
       "    .dataframe tbody tr th {\n",
       "        vertical-align: top;\n",
       "    }\n",
       "\n",
       "    .dataframe thead th {\n",
       "        text-align: right;\n",
       "    }\n",
       "</style>\n",
       "<table border=\"1\" class=\"dataframe\">\n",
       "  <thead>\n",
       "    <tr style=\"text-align: right;\">\n",
       "      <th></th>\n",
       "      <th>school_type</th>\n",
       "      <th>count</th>\n",
       "      <th>rate</th>\n",
       "    </tr>\n",
       "  </thead>\n",
       "  <tbody>\n",
       "    <tr>\n",
       "      <th>0</th>\n",
       "      <td>H</td>\n",
       "      <td>803</td>\n",
       "      <td>0.645498</td>\n",
       "    </tr>\n",
       "    <tr>\n",
       "      <th>1</th>\n",
       "      <td>M</td>\n",
       "      <td>450</td>\n",
       "      <td>0.361736</td>\n",
       "    </tr>\n",
       "  </tbody>\n",
       "</table>\n",
       "</div>"
      ],
      "text/plain": [
       "  school_type  count      rate\n",
       "0           H    803  0.645498\n",
       "1           M    450  0.361736"
      ]
     },
     "execution_count": 18,
     "metadata": {},
     "output_type": "execute_result"
    }
   ],
   "source": [
    "# 상위 25%\n",
    "school_type_rate_upper25 = cohort_upper25_df['school_type'].value_counts().reset_index()\n",
    "school_type_rate_upper25['rate'] = school_type_rate_upper25['count'] / len(lower25_user_list)\n",
    "school_type_rate_upper25"
   ]
  },
  {
   "cell_type": "code",
   "execution_count": 22,
   "id": "2c2d1e05",
   "metadata": {},
   "outputs": [
    {
     "data": {
      "image/png": "[encoded data removed]",
      "text/plain": [
       "<Figure size 600x600 with 1 Axes>"
      ]
     },
     "metadata": {},
     "output_type": "display_data"
    }
   ],
   "source": [
    "# 시각화\n",
    "plt.figure(figsize=(6,6))\n",
    "sns.barplot(data=school_type_rate_upper25, x='school_type', y='rate')\n",
    "plt.title('리텐션 상위 cohort의 학교 타입 비율 비교')\n",
    "plt.show()"
   ]
  },
  {
   "cell_type": "code",
   "execution_count": 19,
   "id": "c275e449",
   "metadata": {},
   "outputs": [
    {
     "data": {
      "text/html": [
       "<div>\n",
       "<style scoped>\n",
       "    .dataframe tbody tr th:only-of-type {\n",
       "        vertical-align: middle;\n",
       "    }\n",
       "\n",
       "    .dataframe tbody tr th {\n",
       "        vertical-align: top;\n",
       "    }\n",
       "\n",
       "    .dataframe thead th {\n",
       "        text-align: right;\n",
       "    }\n",
       "</style>\n",
       "<table border=\"1\" class=\"dataframe\">\n",
       "  <thead>\n",
       "    <tr style=\"text-align: right;\">\n",
       "      <th></th>\n",
       "      <th>school_type</th>\n",
       "      <th>count</th>\n",
       "      <th>rate</th>\n",
       "    </tr>\n",
       "  </thead>\n",
       "  <tbody>\n",
       "    <tr>\n",
       "      <th>0</th>\n",
       "      <td>H</td>\n",
       "      <td>1187</td>\n",
       "      <td>0.947326</td>\n",
       "    </tr>\n",
       "    <tr>\n",
       "      <th>1</th>\n",
       "      <td>M</td>\n",
       "      <td>57</td>\n",
       "      <td>0.045491</td>\n",
       "    </tr>\n",
       "  </tbody>\n",
       "</table>\n",
       "</div>"
      ],
      "text/plain": [
       "  school_type  count      rate\n",
       "0           H   1187  0.947326\n",
       "1           M     57  0.045491"
      ]
     },
     "execution_count": 19,
     "metadata": {},
     "output_type": "execute_result"
    }
   ],
   "source": [
    "# 하위 25%\n",
    "school_type_rate_lower25 = cohort_lower25_df['school_type'].value_counts().reset_index()\n",
    "school_type_rate_lower25['rate'] = school_type_rate_lower25['count'] / len(upper25_user_list)\n",
    "school_type_rate_lower25"
   ]
  },
  {
   "cell_type": "code",
   "execution_count": 23,
   "id": "fa162a2b",
   "metadata": {},
   "outputs": [
    {
     "data": {
      "image/png": "[encoded data removed]",
      "text/plain": [
       "<Figure size 600x600 with 1 Axes>"
      ]
     },
     "metadata": {},
     "output_type": "display_data"
    }
   ],
   "source": [
    "# 시각화\n",
    "plt.figure(figsize=(6,6))\n",
    "sns.barplot(data=school_type_rate_lower25, x='school_type', y='rate')\n",
    "plt.title('리텐션 하위 cohort의 학교 타입 비율 비교')\n",
    "plt.show()"
   ]
  },
  {
   "cell_type": "markdown",
   "id": "f49ae2be",
   "metadata": {},
   "source": [
    "### 마스터 테이블에 cohort 추가하기"
   ]
  },
  {
   "cell_type": "code",
   "execution_count": 29,
   "id": "b9551e1c",
   "metadata": {},
   "outputs": [
    {
     "data": {
      "text/html": [
       "<div>\n",
       "<style scoped>\n",
       "    .dataframe tbody tr th:only-of-type {\n",
       "        vertical-align: middle;\n",
       "    }\n",
       "\n",
       "    .dataframe tbody tr th {\n",
       "        vertical-align: top;\n",
       "    }\n",
       "\n",
       "    .dataframe thead th {\n",
       "        text-align: right;\n",
       "    }\n",
       "</style>\n",
       "<table border=\"1\" class=\"dataframe\">\n",
       "  <thead>\n",
       "    <tr style=\"text-align: right;\">\n",
       "      <th></th>\n",
       "      <th>Unnamed: 0</th>\n",
       "      <th>user_id</th>\n",
       "      <th>total_votes</th>\n",
       "      <th>unique_days</th>\n",
       "      <th>first_vote</th>\n",
       "      <th>last_vote</th>\n",
       "      <th>active_days</th>\n",
       "      <th>cohort_day</th>\n",
       "      <th>retention_day8</th>\n",
       "      <th>ret_group</th>\n",
       "      <th>...</th>\n",
       "      <th>candidate_count</th>\n",
       "      <th>chosen_count</th>\n",
       "      <th>ratio</th>\n",
       "      <th>address</th>\n",
       "      <th>student_count</th>\n",
       "      <th>school_type</th>\n",
       "      <th>firstquestion_id</th>\n",
       "      <th>first_question_text</th>\n",
       "      <th>first_question_category</th>\n",
       "      <th>cohort</th>\n",
       "    </tr>\n",
       "  </thead>\n",
       "  <tbody>\n",
       "    <tr>\n",
       "      <th>0</th>\n",
       "      <td>0</td>\n",
       "      <td>838023</td>\n",
       "      <td>22</td>\n",
       "      <td>5</td>\n",
       "      <td>2023-04-29</td>\n",
       "      <td>2023-05-04</td>\n",
       "      <td>5</td>\n",
       "      <td>2023-04-29</td>\n",
       "      <td>0.515152</td>\n",
       "      <td>50 이상</td>\n",
       "      <td>...</td>\n",
       "      <td>27.0</td>\n",
       "      <td>10.0</td>\n",
       "      <td>0.370370</td>\n",
       "      <td>충청남도 천안시 서북구</td>\n",
       "      <td>491</td>\n",
       "      <td>H</td>\n",
       "      <td>121</td>\n",
       "      <td>가장 어른스러운 사람은?</td>\n",
       "      <td>['심리' '성격' '인간관계']</td>\n",
       "      <td>NaN</td>\n",
       "    </tr>\n",
       "    <tr>\n",
       "      <th>1</th>\n",
       "      <td>1</td>\n",
       "      <td>838466</td>\n",
       "      <td>127</td>\n",
       "      <td>6</td>\n",
       "      <td>2023-05-02</td>\n",
       "      <td>2023-05-07</td>\n",
       "      <td>5</td>\n",
       "      <td>2023-05-02</td>\n",
       "      <td>0.569444</td>\n",
       "      <td>50 이상</td>\n",
       "      <td>...</td>\n",
       "      <td>82.0</td>\n",
       "      <td>37.0</td>\n",
       "      <td>0.451220</td>\n",
       "      <td>충청남도 아산시</td>\n",
       "      <td>578</td>\n",
       "      <td>H</td>\n",
       "      <td>298</td>\n",
       "      <td>옷이 제일 많을 거 같은 사람은?</td>\n",
       "      <td>['일상' '스타일' '관찰']</td>\n",
       "      <td>1.0</td>\n",
       "    </tr>\n",
       "    <tr>\n",
       "      <th>2</th>\n",
       "      <td>2</td>\n",
       "      <td>838642</td>\n",
       "      <td>1</td>\n",
       "      <td>1</td>\n",
       "      <td>2023-04-29</td>\n",
       "      <td>2023-04-29</td>\n",
       "      <td>0</td>\n",
       "      <td>2023-04-29</td>\n",
       "      <td>0.515152</td>\n",
       "      <td>50 이상</td>\n",
       "      <td>...</td>\n",
       "      <td>44.0</td>\n",
       "      <td>5.0</td>\n",
       "      <td>0.113636</td>\n",
       "      <td>충청남도 천안시 서북구</td>\n",
       "      <td>491</td>\n",
       "      <td>H</td>\n",
       "      <td>161</td>\n",
       "      <td>화목한 가정을 꾸릴거 같은 사람은?</td>\n",
       "      <td>['일상' '라이프스타일' '인간관계']</td>\n",
       "      <td>NaN</td>\n",
       "    </tr>\n",
       "    <tr>\n",
       "      <th>3</th>\n",
       "      <td>3</td>\n",
       "      <td>839357</td>\n",
       "      <td>205</td>\n",
       "      <td>8</td>\n",
       "      <td>2023-04-29</td>\n",
       "      <td>2023-05-07</td>\n",
       "      <td>8</td>\n",
       "      <td>2023-04-29</td>\n",
       "      <td>0.515152</td>\n",
       "      <td>50 이상</td>\n",
       "      <td>...</td>\n",
       "      <td>42.0</td>\n",
       "      <td>10.0</td>\n",
       "      <td>0.238095</td>\n",
       "      <td>충청남도 천안시 서북구</td>\n",
       "      <td>491</td>\n",
       "      <td>H</td>\n",
       "      <td>179</td>\n",
       "      <td>책을 제일 많이 읽은 것 같은 사람은?</td>\n",
       "      <td>['일상' '지식' '관찰']</td>\n",
       "      <td>NaN</td>\n",
       "    </tr>\n",
       "    <tr>\n",
       "      <th>4</th>\n",
       "      <td>4</td>\n",
       "      <td>840293</td>\n",
       "      <td>170</td>\n",
       "      <td>7</td>\n",
       "      <td>2023-05-03</td>\n",
       "      <td>2023-05-15</td>\n",
       "      <td>12</td>\n",
       "      <td>2023-05-03</td>\n",
       "      <td>0.422977</td>\n",
       "      <td>50 미만</td>\n",
       "      <td>...</td>\n",
       "      <td>74.0</td>\n",
       "      <td>31.0</td>\n",
       "      <td>0.418919</td>\n",
       "      <td>충청남도 아산시</td>\n",
       "      <td>578</td>\n",
       "      <td>H</td>\n",
       "      <td>464</td>\n",
       "      <td>뭔가 제대로 한 번 보여줄 것 같은 사람은?</td>\n",
       "      <td>['성격' '미래' '관찰']</td>\n",
       "      <td>NaN</td>\n",
       "    </tr>\n",
       "  </tbody>\n",
       "</table>\n",
       "<p>5 rows × 44 columns</p>\n",
       "</div>"
      ],
      "text/plain": [
       "   Unnamed: 0  user_id  total_votes  unique_days  first_vote   last_vote  \\\n",
       "0           0   838023           22            5  2023-04-29  2023-05-04   \n",
       "1           1   838466          127            6  2023-05-02  2023-05-07   \n",
       "2           2   838642            1            1  2023-04-29  2023-04-29   \n",
       "3           3   839357          205            8  2023-04-29  2023-05-07   \n",
       "4           4   840293          170            7  2023-05-03  2023-05-15   \n",
       "\n",
       "   active_days  cohort_day  retention_day8 ret_group  ... candidate_count  \\\n",
       "0            5  2023-04-29        0.515152     50 이상  ...            27.0   \n",
       "1            5  2023-05-02        0.569444     50 이상  ...            82.0   \n",
       "2            0  2023-04-29        0.515152     50 이상  ...            44.0   \n",
       "3            8  2023-04-29        0.515152     50 이상  ...            42.0   \n",
       "4           12  2023-05-03        0.422977     50 미만  ...            74.0   \n",
       "\n",
       "  chosen_count     ratio       address  student_count  school_type  \\\n",
       "0         10.0  0.370370  충청남도 천안시 서북구            491            H   \n",
       "1         37.0  0.451220      충청남도 아산시            578            H   \n",
       "2          5.0  0.113636  충청남도 천안시 서북구            491            H   \n",
       "3         10.0  0.238095  충청남도 천안시 서북구            491            H   \n",
       "4         31.0  0.418919      충청남도 아산시            578            H   \n",
       "\n",
       "   firstquestion_id       first_question_text  first_question_category  cohort  \n",
       "0               121             가장 어른스러운 사람은?       ['심리' '성격' '인간관계']     NaN  \n",
       "1               298        옷이 제일 많을 거 같은 사람은?        ['일상' '스타일' '관찰']     1.0  \n",
       "2               161       화목한 가정을 꾸릴거 같은 사람은?   ['일상' '라이프스타일' '인간관계']     NaN  \n",
       "3               179     책을 제일 많이 읽은 것 같은 사람은?         ['일상' '지식' '관찰']     NaN  \n",
       "4               464  뭔가 제대로 한 번 보여줄 것 같은 사람은?         ['성격' '미래' '관찰']     NaN  \n",
       "\n",
       "[5 rows x 44 columns]"
      ]
     },
     "execution_count": 29,
     "metadata": {},
     "output_type": "execute_result"
    }
   ],
   "source": [
    "# cohort 추가한 데이터프레임 만들기\n",
    "master_cohort_df = master_df.copy()\n",
    "\n",
    "# 상위 25% 유저는 1, 하위 25% 유저는 2, 아니면 결측값 넣기\n",
    "master_cohort_df['cohort'] = master_cohort_df['user_id'].apply(\n",
    "    lambda x : 1 if x in upper25_user_list\n",
    "    else 2 if x in lower25_user_list\n",
    "    else np.nan\n",
    ")\n",
    "\n",
    "master_cohort_df.head()"
   ]
  },
  {
   "cell_type": "markdown",
   "id": "966bff6b",
   "metadata": {},
   "source": [
    "### 리텐션이 높은 집단에는 중학생이 더 많이 포함되어 있을 것이다\n",
    "\t•\t귀무가설(H₀): 중학생 비율(cohort 1) ≤ 중학생 비율(cohort 2)\n",
    "\t•\t대립가설(H₁): 중학생 비율(cohort 1) > 중학생 비율(cohort 2)\n",
    "- 이 차이가 통계적으로 유의한가?이런 차이가 우연히 발생할 확률이 얼마나 되냐? 를 확인하기 위해서 통계 검정 진행\n",
    "- 검정 방법 : \"중학생은 리텐션 높은 집단에 더 많을 것이다”를 확인하기 위한 단측 검정 수행 ->  Z-test "
   ]
  },
  {
   "cell_type": "code",
   "execution_count": null,
   "id": "68143c0f",
   "metadata": {},
   "outputs": [
    {
     "data": {
      "text/html": [
       "<div>\n",
       "<style scoped>\n",
       "    .dataframe tbody tr th:only-of-type {\n",
       "        vertical-align: middle;\n",
       "    }\n",
       "\n",
       "    .dataframe tbody tr th {\n",
       "        vertical-align: top;\n",
       "    }\n",
       "\n",
       "    .dataframe thead th {\n",
       "        text-align: right;\n",
       "    }\n",
       "</style>\n",
       "<table border=\"1\" class=\"dataframe\">\n",
       "  <thead>\n",
       "    <tr style=\"text-align: right;\">\n",
       "      <th></th>\n",
       "      <th>Unnamed: 0</th>\n",
       "      <th>user_id</th>\n",
       "      <th>total_votes</th>\n",
       "      <th>unique_days</th>\n",
       "      <th>first_vote</th>\n",
       "      <th>last_vote</th>\n",
       "      <th>active_days</th>\n",
       "      <th>cohort_day</th>\n",
       "      <th>retention_day8</th>\n",
       "      <th>ret_group</th>\n",
       "      <th>...</th>\n",
       "      <th>chosen_count</th>\n",
       "      <th>ratio</th>\n",
       "      <th>address</th>\n",
       "      <th>student_count</th>\n",
       "      <th>school_type</th>\n",
       "      <th>firstquestion_id</th>\n",
       "      <th>first_question_text</th>\n",
       "      <th>first_question_category</th>\n",
       "      <th>cohort</th>\n",
       "      <th>middleschooler</th>\n",
       "    </tr>\n",
       "  </thead>\n",
       "  <tbody>\n",
       "    <tr>\n",
       "      <th>0</th>\n",
       "      <td>0</td>\n",
       "      <td>838023</td>\n",
       "      <td>22</td>\n",
       "      <td>5</td>\n",
       "      <td>2023-04-29</td>\n",
       "      <td>2023-05-04</td>\n",
       "      <td>5</td>\n",
       "      <td>2023-04-29</td>\n",
       "      <td>0.515152</td>\n",
       "      <td>50 이상</td>\n",
       "      <td>...</td>\n",
       "      <td>10.0</td>\n",
       "      <td>0.370370</td>\n",
       "      <td>충청남도 천안시 서북구</td>\n",
       "      <td>491</td>\n",
       "      <td>H</td>\n",
       "      <td>121</td>\n",
       "      <td>가장 어른스러운 사람은?</td>\n",
       "      <td>['심리' '성격' '인간관계']</td>\n",
       "      <td>NaN</td>\n",
       "      <td>0</td>\n",
       "    </tr>\n",
       "    <tr>\n",
       "      <th>1</th>\n",
       "      <td>1</td>\n",
       "      <td>838466</td>\n",
       "      <td>127</td>\n",
       "      <td>6</td>\n",
       "      <td>2023-05-02</td>\n",
       "      <td>2023-05-07</td>\n",
       "      <td>5</td>\n",
       "      <td>2023-05-02</td>\n",
       "      <td>0.569444</td>\n",
       "      <td>50 이상</td>\n",
       "      <td>...</td>\n",
       "      <td>37.0</td>\n",
       "      <td>0.451220</td>\n",
       "      <td>충청남도 아산시</td>\n",
       "      <td>578</td>\n",
       "      <td>H</td>\n",
       "      <td>298</td>\n",
       "      <td>옷이 제일 많을 거 같은 사람은?</td>\n",
       "      <td>['일상' '스타일' '관찰']</td>\n",
       "      <td>1.0</td>\n",
       "      <td>0</td>\n",
       "    </tr>\n",
       "    <tr>\n",
       "      <th>2</th>\n",
       "      <td>2</td>\n",
       "      <td>838642</td>\n",
       "      <td>1</td>\n",
       "      <td>1</td>\n",
       "      <td>2023-04-29</td>\n",
       "      <td>2023-04-29</td>\n",
       "      <td>0</td>\n",
       "      <td>2023-04-29</td>\n",
       "      <td>0.515152</td>\n",
       "      <td>50 이상</td>\n",
       "      <td>...</td>\n",
       "      <td>5.0</td>\n",
       "      <td>0.113636</td>\n",
       "      <td>충청남도 천안시 서북구</td>\n",
       "      <td>491</td>\n",
       "      <td>H</td>\n",
       "      <td>161</td>\n",
       "      <td>화목한 가정을 꾸릴거 같은 사람은?</td>\n",
       "      <td>['일상' '라이프스타일' '인간관계']</td>\n",
       "      <td>NaN</td>\n",
       "      <td>0</td>\n",
       "    </tr>\n",
       "    <tr>\n",
       "      <th>3</th>\n",
       "      <td>3</td>\n",
       "      <td>839357</td>\n",
       "      <td>205</td>\n",
       "      <td>8</td>\n",
       "      <td>2023-04-29</td>\n",
       "      <td>2023-05-07</td>\n",
       "      <td>8</td>\n",
       "      <td>2023-04-29</td>\n",
       "      <td>0.515152</td>\n",
       "      <td>50 이상</td>\n",
       "      <td>...</td>\n",
       "      <td>10.0</td>\n",
       "      <td>0.238095</td>\n",
       "      <td>충청남도 천안시 서북구</td>\n",
       "      <td>491</td>\n",
       "      <td>H</td>\n",
       "      <td>179</td>\n",
       "      <td>책을 제일 많이 읽은 것 같은 사람은?</td>\n",
       "      <td>['일상' '지식' '관찰']</td>\n",
       "      <td>NaN</td>\n",
       "      <td>0</td>\n",
       "    </tr>\n",
       "    <tr>\n",
       "      <th>4</th>\n",
       "      <td>4</td>\n",
       "      <td>840293</td>\n",
       "      <td>170</td>\n",
       "      <td>7</td>\n",
       "      <td>2023-05-03</td>\n",
       "      <td>2023-05-15</td>\n",
       "      <td>12</td>\n",
       "      <td>2023-05-03</td>\n",
       "      <td>0.422977</td>\n",
       "      <td>50 미만</td>\n",
       "      <td>...</td>\n",
       "      <td>31.0</td>\n",
       "      <td>0.418919</td>\n",
       "      <td>충청남도 아산시</td>\n",
       "      <td>578</td>\n",
       "      <td>H</td>\n",
       "      <td>464</td>\n",
       "      <td>뭔가 제대로 한 번 보여줄 것 같은 사람은?</td>\n",
       "      <td>['성격' '미래' '관찰']</td>\n",
       "      <td>NaN</td>\n",
       "      <td>0</td>\n",
       "    </tr>\n",
       "  </tbody>\n",
       "</table>\n",
       "<p>5 rows × 45 columns</p>\n",
       "</div>"
      ],
      "text/plain": [
       "   Unnamed: 0  user_id  total_votes  unique_days  first_vote   last_vote  \\\n",
       "0           0   838023           22            5  2023-04-29  2023-05-04   \n",
       "1           1   838466          127            6  2023-05-02  2023-05-07   \n",
       "2           2   838642            1            1  2023-04-29  2023-04-29   \n",
       "3           3   839357          205            8  2023-04-29  2023-05-07   \n",
       "4           4   840293          170            7  2023-05-03  2023-05-15   \n",
       "\n",
       "   active_days  cohort_day  retention_day8 ret_group  ... chosen_count  \\\n",
       "0            5  2023-04-29        0.515152     50 이상  ...         10.0   \n",
       "1            5  2023-05-02        0.569444     50 이상  ...         37.0   \n",
       "2            0  2023-04-29        0.515152     50 이상  ...          5.0   \n",
       "3            8  2023-04-29        0.515152     50 이상  ...         10.0   \n",
       "4           12  2023-05-03        0.422977     50 미만  ...         31.0   \n",
       "\n",
       "      ratio       address  student_count  school_type  firstquestion_id  \\\n",
       "0  0.370370  충청남도 천안시 서북구            491            H               121   \n",
       "1  0.451220      충청남도 아산시            578            H               298   \n",
       "2  0.113636  충청남도 천안시 서북구            491            H               161   \n",
       "3  0.238095  충청남도 천안시 서북구            491            H               179   \n",
       "4  0.418919      충청남도 아산시            578            H               464   \n",
       "\n",
       "        first_question_text  first_question_category  cohort  middleschooler  \n",
       "0             가장 어른스러운 사람은?       ['심리' '성격' '인간관계']     NaN               0  \n",
       "1        옷이 제일 많을 거 같은 사람은?        ['일상' '스타일' '관찰']     1.0               0  \n",
       "2       화목한 가정을 꾸릴거 같은 사람은?   ['일상' '라이프스타일' '인간관계']     NaN               0  \n",
       "3     책을 제일 많이 읽은 것 같은 사람은?         ['일상' '지식' '관찰']     NaN               0  \n",
       "4  뭔가 제대로 한 번 보여줄 것 같은 사람은?         ['성격' '미래' '관찰']     NaN               0  \n",
       "\n",
       "[5 rows x 45 columns]"
      ]
     },
     "execution_count": 33,
     "metadata": {},
     "output_type": "execute_result"
    }
   ],
   "source": [
    "# 중학생 여부 컬럼 추가하기\n",
    "\n",
    "# 원본 데이터 유지\n",
    "master_cohort_middleschool_df = master_cohort_df.copy()\n",
    "\n",
    "# 컬럼 추가\n",
    "master_cohort_middleschool_df['middleschooler'] = master_cohort_middleschool_df['school_type'].apply(\n",
    "    lambda x : 1 if x == 'M'\n",
    "    else 0\n",
    ")\n",
    "master_cohort_middleschool_df.head()"
   ]
  },
  {
   "cell_type": "code",
   "execution_count": 56,
   "id": "06dff7d9",
   "metadata": {},
   "outputs": [
    {
     "data": {
      "text/plain": [
       "first_vote_hour\n",
       "13    460\n",
       "14    407\n",
       "12    405\n",
       "10    386\n",
       "11    348\n",
       "15    338\n",
       "8     318\n",
       "9     306\n",
       "7     213\n",
       "6     188\n",
       "4     177\n",
       "23    177\n",
       "5     164\n",
       "3     152\n",
       "16    147\n",
       "1     118\n",
       "2     109\n",
       "22     86\n",
       "17     80\n",
       "0      66\n",
       "18     24\n",
       "21     19\n",
       "19     10\n",
       "20      5\n",
       "Name: count, dtype: int64"
      ]
     },
     "execution_count": 56,
     "metadata": {},
     "output_type": "execute_result"
    }
   ],
   "source": [
    "master_cohort_middleschool_df['first_vote_hour'].value_counts()"
   ]
  },
  {
   "cell_type": "code",
   "execution_count": 36,
   "id": "f7aeee13",
   "metadata": {},
   "outputs": [
    {
     "name": "stdout",
     "output_type": "stream",
     "text": [
      "Z-statistic: 19.46\n",
      "p-value: 0.0000\n",
      "중학생 비율이 리텐션 높은 그룹(cohort 1)에서 유의하게 더 높습니다.\n"
     ]
    }
   ],
   "source": [
    "# cohort별로 중학생 수 세기\n",
    "count_group1 = master_cohort_middleschool_df[(master_cohort_middleschool_df[\"cohort\"] == 1) & (master_cohort_middleschool_df[\"middleschooler\"] == 1)].shape[0]\n",
    "count_group2 = master_cohort_middleschool_df[(master_cohort_middleschool_df[\"cohort\"] == 2) & (master_cohort_middleschool_df[\"middleschooler\"] == 1)].shape[0]\n",
    "\n",
    "# cohort별 전체 수 세기\n",
    "nobs_group1 = master_cohort_middleschool_df[master_cohort_middleschool_df[\"cohort\"] == 1].shape[0]\n",
    "nobs_group2 = master_cohort_middleschool_df[master_cohort_middleschool_df[\"cohort\"] == 2].shape[0]\n",
    "\n",
    "# proportions_ztest 실행 - 단측 검정 (group1이 더 클 것이라는 가정)\n",
    "count = [count_group1, count_group2]\n",
    "nobs = [nobs_group1, nobs_group2]\n",
    "\n",
    "zstat, pval = proportions_ztest(count, nobs, alternative='larger')\n",
    "\n",
    "print(f\"Z-statistic: {zstat:.2f}\")\n",
    "print(f\"p-value: {pval:.4f}\")\n",
    "\n",
    "if pval < 0.05:\n",
    "    print(\"중학생 비율이 리텐션 높은 그룹(cohort 1)에서 유의하게 더 높습니다.\")\n",
    "else:\n",
    "    print(\"중학생 비율 차이가 유의하지 않습니다.\")"
   ]
  },
  {
   "cell_type": "markdown",
   "id": "ec354945",
   "metadata": {},
   "source": [
    "- zstat은 두 비율 차이가 얼마나 큰지 표준 정규 분포 기준으로 수치화한 값.\n",
    "- 즉, zstat이 클수록 → p-value는 작아짐 → 귀무가설 기각 가능성 높아짐\n",
    "```\n",
    "중학생은 리텐션 높은 집단에 더 많음.\n",
    "중학생의 참여를 높이자!\n",
    "```"
   ]
  },
  {
   "cell_type": "markdown",
   "id": "c23821f4",
   "metadata": {},
   "source": [
    "#### 리텐션이 높았던 집단의 중학생과 낮은 집단의 중학생이 처음 접한 질문 카테고리에 차이가 있을까?"
   ]
  },
  {
   "cell_type": "code",
   "execution_count": 42,
   "id": "d592a7c3",
   "metadata": {},
   "outputs": [
    {
     "data": {
      "text/plain": [
       "str"
      ]
     },
     "execution_count": 42,
     "metadata": {},
     "output_type": "execute_result"
    }
   ],
   "source": [
    "type(master_cohort_middleschool_df['first_question_category'].iloc[0])"
   ]
  },
  {
   "cell_type": "code",
   "execution_count": 52,
   "id": "3e5567c8",
   "metadata": {},
   "outputs": [
    {
     "data": {
      "text/plain": [
       "\"['심리' '성격' '인간관계']\""
      ]
     },
     "execution_count": 52,
     "metadata": {},
     "output_type": "execute_result"
    }
   ],
   "source": [
    "master_cohort_middleschool_df['first_question_category'].iloc[0]"
   ]
  },
  {
   "cell_type": "code",
   "execution_count": 53,
   "id": "96563788",
   "metadata": {},
   "outputs": [
    {
     "name": "stderr",
     "output_type": "stream",
     "text": [
      "/tmp/ipykernel_1074938/1816540209.py:17: SettingWithCopyWarning: \n",
      "A value is trying to be set on a copy of a slice from a DataFrame.\n",
      "Try using .loc[row_indexer,col_indexer] = value instead\n",
      "\n",
      "See the caveats in the documentation: https://pandas.pydata.org/pandas-docs/stable/user_guide/indexing.html#returning-a-view-versus-a-copy\n",
      "  middleschool_firstquestion_category_upper25['first_question_category'] = (\n"
     ]
    },
    {
     "data": {
      "text/plain": [
       "first_question_category\n",
       "일상        277\n",
       "인간관계      226\n",
       "성격        178\n",
       "관찰        136\n",
       "심리         96\n",
       "스타일        85\n",
       "감성         60\n",
       "상상         55\n",
       "라이프스타일     51\n",
       "미래         50\n",
       "연애         40\n",
       "대화         37\n",
       "미디어        22\n",
       "지식         21\n",
       "운동         13\n",
       "음식          2\n",
       "성장          1\n",
       "Name: count, dtype: int64"
      ]
     },
     "execution_count": 53,
     "metadata": {},
     "output_type": "execute_result"
    }
   ],
   "source": [
    "# 상위 25% 집단 중 중학생의 첫 질문 카테고리 가져오기\n",
    "\n",
    "middleschool_firstquestion_category_upper25 = master_cohort_middleschool_df[(master_cohort_middleschool_df['cohort']==1)&(master_cohort_middleschool_df['middleschooler']==1)]\n",
    "\n",
    "# 문자열을 리스트로 바꿔주는 함수\n",
    "def parse_category_string(s):\n",
    "    if isinstance(s, str):\n",
    "        # 1. 대괄호 제거\n",
    "        s = s.strip()[1:-1]\n",
    "        # 2. 작은따옴표 제거\n",
    "        s = s.replace(\"'\", \"\")\n",
    "        # 3. 공백 기준 split\n",
    "        return s.split()\n",
    "    return s\n",
    "\n",
    "# 리스트로 변환\n",
    "middleschool_firstquestion_category_upper25['first_question_category'] = (\n",
    "    middleschool_firstquestion_category_upper25['first_question_category'].apply(parse_category_string)\n",
    ")\n",
    "\n",
    "# 카테고리 펼치기\n",
    "middleschool_firstquestion_category_upper25 = middleschool_firstquestion_category_upper25.explode('first_question_category')\n",
    "# 순위 확인해보기\n",
    "middleschool_firstquestion_category_upper25['first_question_category'].value_counts()"
   ]
  },
  {
   "cell_type": "code",
   "execution_count": null,
   "id": "f949c8a7",
   "metadata": {},
   "outputs": [
    {
     "name": "stderr",
     "output_type": "stream",
     "text": [
      "/tmp/ipykernel_1074938/3862275646.py:17: SettingWithCopyWarning: \n",
      "A value is trying to be set on a copy of a slice from a DataFrame.\n",
      "Try using .loc[row_indexer,col_indexer] = value instead\n",
      "\n",
      "See the caveats in the documentation: https://pandas.pydata.org/pandas-docs/stable/user_guide/indexing.html#returning-a-view-versus-a-copy\n",
      "  middleschool_firstquestion_category_lower25['first_question_category'] = (\n"
     ]
    },
    {
     "data": {
      "text/plain": [
       "first_question_category\n",
       "일상        34\n",
       "인간관계      32\n",
       "성격        22\n",
       "관찰        12\n",
       "심리        12\n",
       "대화        10\n",
       "라이프스타일     9\n",
       "상상         9\n",
       "스타일        6\n",
       "연애         6\n",
       "감성         6\n",
       "미래         4\n",
       "미디어        4\n",
       "운동         3\n",
       "지식         1\n",
       "생존         1\n",
       "Name: count, dtype: int64"
      ]
     },
     "execution_count": 54,
     "metadata": {},
     "output_type": "execute_result"
    }
   ],
   "source": [
    "# 하위 25% 집단 중 중학생의 첫 질문 카테고리 가져오기\n",
    "\n",
    "middleschool_firstquestion_category_lower25 = master_cohort_middleschool_df[(master_cohort_middleschool_df['cohort']==2)&(master_cohort_middleschool_df['middleschooler']==1)]\n",
    "\n",
    "# 문자열을 리스트로 바꿔주는 함수\n",
    "def parse_category_string(s):\n",
    "    if isinstance(s, str):\n",
    "        # 1. 대괄호 제거\n",
    "        s = s.strip()[1:-1]\n",
    "        # 2. 작은따옴표 제거\n",
    "        s = s.replace(\"'\", \"\")\n",
    "        # 3. 공백 기준 split\n",
    "        return s.split()\n",
    "    return s\n",
    "\n",
    "# 리스트로 변환\n",
    "middleschool_firstquestion_category_lower25['first_question_category'] = (\n",
    "    middleschool_firstquestion_category_lower25['first_question_category'].apply(parse_category_string)\n",
    ")\n",
    "# 카테고리 펼치기\n",
    "middleschool_firstquestion_category_lower25 = middleschool_firstquestion_category_lower25.explode('first_question_category')\n",
    "# 순위 확인해보기\n",
    "middleschool_firstquestion_category_lower25['first_question_category'].value_counts()"
   ]
  },
  {
   "cell_type": "code",
   "execution_count": null,
   "id": "1240255a",
   "metadata": {},
   "outputs": [],
   "source": []
  },
  {
   "cell_type": "markdown",
   "id": "d75bffbe",
   "metadata": {},
   "source": [
    "---"
   ]
  },
  {
   "cell_type": "markdown",
   "id": "aa600d19",
   "metadata": {},
   "source": [
    "#### 리텐션이 높았던 집단의 중학생과 낮은 집단의 중학생 사이 첫 투표 시간대에 차이가 있을까??"
   ]
  },
  {
   "cell_type": "code",
   "execution_count": 59,
   "id": "59f90df4",
   "metadata": {},
   "outputs": [],
   "source": [
    "# 상위 25% 집단 중 중학생\n",
    "middleschool_upper25 = master_cohort_middleschool_df[(master_cohort_middleschool_df['cohort']==1)&(master_cohort_middleschool_df['middleschooler']==1)]\n",
    "\n",
    "# 하위 25% 집단 중 중학생\n",
    "middleschool_lower25 = master_cohort_middleschool_df[(master_cohort_middleschool_df['cohort']==2)&(master_cohort_middleschool_df['middleschooler']==1)]\n"
   ]
  },
  {
   "cell_type": "code",
   "execution_count": 62,
   "id": "fe7428a9",
   "metadata": {},
   "outputs": [
    {
     "data": {
      "text/plain": [
       "first_vote_hour\n",
       "9     65\n",
       "10    43\n",
       "11    43\n",
       "12    43\n",
       "8     41\n",
       "14    40\n",
       "13    39\n",
       "15    30\n",
       "7     21\n",
       "6     20\n",
       "23    16\n",
       "4     15\n",
       "22    12\n",
       "16    10\n",
       "5      6\n",
       "3      4\n",
       "21     1\n",
       "18     1\n",
       "Name: count, dtype: int64"
      ]
     },
     "execution_count": 62,
     "metadata": {},
     "output_type": "execute_result"
    }
   ],
   "source": [
    "middleschool_upper25['first_vote_hour'].value_counts()"
   ]
  },
  {
   "cell_type": "code",
   "execution_count": 63,
   "id": "65b54d24",
   "metadata": {},
   "outputs": [
    {
     "data": {
      "text/plain": [
       "first_vote_hour\n",
       "13    10\n",
       "10     6\n",
       "8      6\n",
       "6      5\n",
       "11     5\n",
       "9      5\n",
       "7      4\n",
       "5      3\n",
       "12     3\n",
       "15     2\n",
       "23     2\n",
       "4      2\n",
       "14     1\n",
       "17     1\n",
       "16     1\n",
       "3      1\n",
       "Name: count, dtype: int64"
      ]
     },
     "execution_count": 63,
     "metadata": {},
     "output_type": "execute_result"
    }
   ],
   "source": [
    "middleschool_lower25['first_vote_hour'].value_counts()"
   ]
  },
  {
   "cell_type": "markdown",
   "id": "a9b16f66",
   "metadata": {},
   "source": [
    "---"
   ]
  },
  {
   "cell_type": "markdown",
   "id": "22916cd0",
   "metadata": {},
   "source": [
    "#### 리텐션이 높았던 집단의 중학생과 낮은 집단의 중학생 사이 투표받은 수는 차이가 있을까??"
   ]
  },
  {
   "cell_type": "code",
   "execution_count": 71,
   "id": "0c01ec42",
   "metadata": {},
   "outputs": [
    {
     "data": {
      "text/plain": [
       "8"
      ]
     },
     "execution_count": 71,
     "metadata": {},
     "output_type": "execute_result"
    }
   ],
   "source": [
    "middleschool_upper25['chosen_count'].isna().sum()"
   ]
  },
  {
   "cell_type": "code",
   "execution_count": 70,
   "id": "5e907037",
   "metadata": {},
   "outputs": [
    {
     "data": {
      "text/plain": [
       "5"
      ]
     },
     "execution_count": 70,
     "metadata": {},
     "output_type": "execute_result"
    }
   ],
   "source": [
    "middleschool_lower25['chosen_count'].isna().sum()"
   ]
  },
  {
   "cell_type": "code",
   "execution_count": 72,
   "id": "e676b85b",
   "metadata": {},
   "outputs": [
    {
     "name": "stdout",
     "output_type": "stream",
     "text": [
      "[Welch's t-test] t-stat: 10.110, p-value: 0.0000\n",
      "[Mann-Whitney U] U-stat: 17432.500, p-value: 0.0000\n"
     ]
    }
   ],
   "source": [
    "# t-test\n",
    "group1 = master_cohort_middleschool_df[(master_cohort_middleschool_df['cohort']==1)&(master_cohort_middleschool_df['middleschooler']==1)]['chosen_count']\n",
    "group2 = master_cohort_middleschool_df[(master_cohort_middleschool_df['cohort']==2)&(master_cohort_middleschool_df['middleschooler']==1)]['chosen_count']\n",
    "\n",
    "# 결측값 제거 \n",
    "group1 = group1.dropna()\n",
    "group2 = group2.dropna()\n",
    "\n",
    "# Welch's t-test (비등분산)\n",
    "tstat, pval = ttest_ind(group1, group2, equal_var=False)\n",
    "print(f\"[Welch's t-test] t-stat: {tstat:.3f}, p-value: {pval:.4f}\")\n",
    "\n",
    "# Mann-Whitney U test (비모수)\n",
    "u_stat, pval_u = mannwhitneyu(group1, group2, alternative='two-sided')\n",
    "print(f\"[Mann-Whitney U] U-stat: {u_stat:.3f}, p-value: {pval_u:.4f}\")"
   ]
  },
  {
   "cell_type": "markdown",
   "id": "43b966cd",
   "metadata": {},
   "source": [
    "- Welch’s t-test는 평균을 비교하는 검정이므로: “cohort 1과 2의 chosen_count 평균이 유의미하게 다르다”고 해석.\n",
    "- Mann-Whitney U test는 분포(특히 중위수)를 비교하는 비모수 검정이므로: “cohort 1과 2의 chosen_count 중앙값 또는 전체 분포가 유의미하게 다르다”고 해석."
   ]
  },
  {
   "cell_type": "code",
   "execution_count": 74,
   "id": "28c6be8a",
   "metadata": {},
   "outputs": [
    {
     "data": {
      "image/png": "[encoded data removed]",
      "text/plain": [
       "<Figure size 800x600 with 1 Axes>"
      ]
     },
     "metadata": {},
     "output_type": "display_data"
    }
   ],
   "source": [
    "# 시각화\n",
    "\n",
    "# 중학생 데이만 남기기\n",
    "middleschool_df = master_cohort_middleschool_df[master_cohort_middleschool_df['middleschooler']==1]\n",
    "# 박스플롯\n",
    "plt.figure(figsize=(8, 6))\n",
    "sns.boxplot(x='cohort', y='chosen_count', data=middleschool_df)\n",
    "plt.title('Chosen Count by Cohort (Boxplot)')\n",
    "plt.xlabel('Cohort Group')\n",
    "plt.ylabel('Chosen Count')\n",
    "plt.show()"
   ]
  },
  {
   "cell_type": "markdown",
   "id": "663c008c",
   "metadata": {},
   "source": [
    "---"
   ]
  },
  {
   "cell_type": "markdown",
   "id": "c2f88af2",
   "metadata": {},
   "source": []
  }
 ],
 "metadata": {
  "kernelspec": {
   "display_name": "google_cloud",
   "language": "python",
   "name": "python3"
  },
  "language_info": {
   "codemirror_mode": {
    "name": "ipython",
    "version": 3
   },
   "file_extension": ".py",
   "mimetype": "text/x-python",
   "name": "python",
   "nbconvert_exporter": "python",
   "pygments_lexer": "ipython3",
   "version": "3.12.3"
  }
 },
 "nbformat": 4,
 "nbformat_minor": 5
}
