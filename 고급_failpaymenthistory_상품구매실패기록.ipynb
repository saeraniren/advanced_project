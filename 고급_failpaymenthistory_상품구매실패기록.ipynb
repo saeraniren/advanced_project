{
 "cells": [
  {
   "cell_type": "code",
   "execution_count": 52,
   "id": "d7442246",
   "metadata": {},
   "outputs": [],
   "source": [
    "import pandas as pd\n",
    "import numpy as np\n",
    "import matplotlib.pyplot as plt\n",
    "import seaborn as sns\n",
    "import os\n",
    "import matplotlib.font_manager as fm\n",
    "import koreanize_matplotlib\n",
    "\n",
    "# 폰트 경로 확인 및 설정\n",
    "font_path = '/usr/share/fonts/truetype/nanum/NanumGothic.ttf'  # 설치된 폰트 경로\n",
    "font_name = fm.FontProperties(fname=font_path).get_name()\n",
    "plt.rc('font', family=font_name)\n",
    "\n",
    "# 한글 깨짐 방지 - 마이너스 기호 처리\n",
    "plt.rcParams['axes.unicode_minus'] = False"
   ]
  },
  {
   "cell_type": "code",
   "execution_count": 53,
   "id": "7828b197",
   "metadata": {},
   "outputs": [
    {
     "data": {
      "text/html": [
       "<div>\n",
       "<style scoped>\n",
       "    .dataframe tbody tr th:only-of-type {\n",
       "        vertical-align: middle;\n",
       "    }\n",
       "\n",
       "    .dataframe tbody tr th {\n",
       "        vertical-align: top;\n",
       "    }\n",
       "\n",
       "    .dataframe thead th {\n",
       "        text-align: right;\n",
       "    }\n",
       "</style>\n",
       "<table border=\"1\" class=\"dataframe\">\n",
       "  <thead>\n",
       "    <tr style=\"text-align: right;\">\n",
       "      <th></th>\n",
       "      <th>id</th>\n",
       "      <th>productId</th>\n",
       "      <th>phone_type</th>\n",
       "      <th>created_at</th>\n",
       "      <th>user_id</th>\n",
       "    </tr>\n",
       "  </thead>\n",
       "  <tbody>\n",
       "    <tr>\n",
       "      <th>0</th>\n",
       "      <td>6</td>\n",
       "      <td>heart.200</td>\n",
       "      <td>A</td>\n",
       "      <td>2023-05-14 05:49:22</td>\n",
       "      <td>1055891</td>\n",
       "    </tr>\n",
       "    <tr>\n",
       "      <th>1</th>\n",
       "      <td>7</td>\n",
       "      <td>heart.777</td>\n",
       "      <td>A</td>\n",
       "      <td>2023-05-14 08:17:21</td>\n",
       "      <td>1152151</td>\n",
       "    </tr>\n",
       "    <tr>\n",
       "      <th>2</th>\n",
       "      <td>8</td>\n",
       "      <td>heart.777</td>\n",
       "      <td>A</td>\n",
       "      <td>2023-05-14 10:11:46</td>\n",
       "      <td>986200</td>\n",
       "    </tr>\n",
       "    <tr>\n",
       "      <th>3</th>\n",
       "      <td>9</td>\n",
       "      <td>heart.1000</td>\n",
       "      <td>A</td>\n",
       "      <td>2023-05-14 11:53:09</td>\n",
       "      <td>1028261</td>\n",
       "    </tr>\n",
       "    <tr>\n",
       "      <th>4</th>\n",
       "      <td>10</td>\n",
       "      <td>heart.777</td>\n",
       "      <td>A</td>\n",
       "      <td>2023-05-14 12:30:47</td>\n",
       "      <td>1235730</td>\n",
       "    </tr>\n",
       "    <tr>\n",
       "      <th>...</th>\n",
       "      <td>...</td>\n",
       "      <td>...</td>\n",
       "      <td>...</td>\n",
       "      <td>...</td>\n",
       "      <td>...</td>\n",
       "    </tr>\n",
       "    <tr>\n",
       "      <th>158</th>\n",
       "      <td>170</td>\n",
       "      <td>heart.777</td>\n",
       "      <td>A</td>\n",
       "      <td>2023-07-28 08:31:19</td>\n",
       "      <td>1254708</td>\n",
       "    </tr>\n",
       "    <tr>\n",
       "      <th>159</th>\n",
       "      <td>171</td>\n",
       "      <td>None</td>\n",
       "      <td>I</td>\n",
       "      <td>2023-08-12 11:26:59</td>\n",
       "      <td>1556867</td>\n",
       "    </tr>\n",
       "    <tr>\n",
       "      <th>160</th>\n",
       "      <td>172</td>\n",
       "      <td>heart.777</td>\n",
       "      <td>A</td>\n",
       "      <td>2023-08-14 23:47:46</td>\n",
       "      <td>1282373</td>\n",
       "    </tr>\n",
       "    <tr>\n",
       "      <th>161</th>\n",
       "      <td>173</td>\n",
       "      <td>None</td>\n",
       "      <td>I</td>\n",
       "      <td>2023-09-17 09:12:53</td>\n",
       "      <td>927108</td>\n",
       "    </tr>\n",
       "    <tr>\n",
       "      <th>162</th>\n",
       "      <td>174</td>\n",
       "      <td>None</td>\n",
       "      <td>I</td>\n",
       "      <td>2023-09-17 09:12:53</td>\n",
       "      <td>927108</td>\n",
       "    </tr>\n",
       "  </tbody>\n",
       "</table>\n",
       "<p>163 rows × 5 columns</p>\n",
       "</div>"
      ],
      "text/plain": [
       "      id   productId phone_type          created_at  user_id\n",
       "0      6   heart.200          A 2023-05-14 05:49:22  1055891\n",
       "1      7   heart.777          A 2023-05-14 08:17:21  1152151\n",
       "2      8   heart.777          A 2023-05-14 10:11:46   986200\n",
       "3      9  heart.1000          A 2023-05-14 11:53:09  1028261\n",
       "4     10   heart.777          A 2023-05-14 12:30:47  1235730\n",
       "..   ...         ...        ...                 ...      ...\n",
       "158  170   heart.777          A 2023-07-28 08:31:19  1254708\n",
       "159  171        None          I 2023-08-12 11:26:59  1556867\n",
       "160  172   heart.777          A 2023-08-14 23:47:46  1282373\n",
       "161  173        None          I 2023-09-17 09:12:53   927108\n",
       "162  174        None          I 2023-09-17 09:12:53   927108\n",
       "\n",
       "[163 rows x 5 columns]"
      ]
     },
     "execution_count": 53,
     "metadata": {},
     "output_type": "execute_result"
    }
   ],
   "source": [
    "# 서비스 계정 키 경로 설정\n",
    "os.environ[\"GOOGLE_APPLICATION_CREDENTIALS\"] = r\"/home/eunyu/sprintda05-eunyu-a9946f7dea9c.json\"\n",
    "# GCS의 Parquet 파일 경로\n",
    "gcs_path = 'gs://final_project_enuyu/data/final_project/votes/accounts_failpaymenthistory.parquet'\n",
    "\n",
    "# 데이터 불러오기\n",
    "failpaymenthistory_df = pd.read_parquet(gcs_path, engine='pyarrow')\n",
    "failpaymenthistory_df"
   ]
  },
  {
   "cell_type": "code",
   "execution_count": 54,
   "id": "bcec2916",
   "metadata": {},
   "outputs": [
    {
     "name": "stdout",
     "output_type": "stream",
     "text": [
      "<class 'pandas.core.frame.DataFrame'>\n",
      "RangeIndex: 163 entries, 0 to 162\n",
      "Data columns (total 5 columns):\n",
      " #   Column      Non-Null Count  Dtype         \n",
      "---  ------      --------------  -----         \n",
      " 0   id          163 non-null    int64         \n",
      " 1   productId   56 non-null     object        \n",
      " 2   phone_type  163 non-null    object        \n",
      " 3   created_at  163 non-null    datetime64[ns]\n",
      " 4   user_id     163 non-null    int64         \n",
      "dtypes: datetime64[ns](1), int64(2), object(2)\n",
      "memory usage: 6.5+ KB\n"
     ]
    }
   ],
   "source": [
    "failpaymenthistory_df.info()"
   ]
  },
  {
   "cell_type": "code",
   "execution_count": 55,
   "id": "67589d88",
   "metadata": {},
   "outputs": [
    {
     "data": {
      "text/html": [
       "<div>\n",
       "<style scoped>\n",
       "    .dataframe tbody tr th:only-of-type {\n",
       "        vertical-align: middle;\n",
       "    }\n",
       "\n",
       "    .dataframe tbody tr th {\n",
       "        vertical-align: top;\n",
       "    }\n",
       "\n",
       "    .dataframe thead th {\n",
       "        text-align: right;\n",
       "    }\n",
       "</style>\n",
       "<table border=\"1\" class=\"dataframe\">\n",
       "  <thead>\n",
       "    <tr style=\"text-align: right;\">\n",
       "      <th></th>\n",
       "      <th>id</th>\n",
       "      <th>created_at</th>\n",
       "      <th>user_id</th>\n",
       "    </tr>\n",
       "  </thead>\n",
       "  <tbody>\n",
       "    <tr>\n",
       "      <th>count</th>\n",
       "      <td>163.000000</td>\n",
       "      <td>163</td>\n",
       "      <td>1.630000e+02</td>\n",
       "    </tr>\n",
       "    <tr>\n",
       "      <th>mean</th>\n",
       "      <td>89.828221</td>\n",
       "      <td>2023-05-27 11:32:20.828220672</td>\n",
       "      <td>1.263685e+06</td>\n",
       "    </tr>\n",
       "    <tr>\n",
       "      <th>min</th>\n",
       "      <td>6.000000</td>\n",
       "      <td>2023-05-14 05:49:22</td>\n",
       "      <td>8.341120e+05</td>\n",
       "    </tr>\n",
       "    <tr>\n",
       "      <th>25%</th>\n",
       "      <td>48.500000</td>\n",
       "      <td>2023-05-18 11:34:05</td>\n",
       "      <td>1.152704e+06</td>\n",
       "    </tr>\n",
       "    <tr>\n",
       "      <th>50%</th>\n",
       "      <td>89.000000</td>\n",
       "      <td>2023-05-22 08:54:33</td>\n",
       "      <td>1.273301e+06</td>\n",
       "    </tr>\n",
       "    <tr>\n",
       "      <th>75%</th>\n",
       "      <td>131.500000</td>\n",
       "      <td>2023-05-29 12:58:21.500000</td>\n",
       "      <td>1.398432e+06</td>\n",
       "    </tr>\n",
       "    <tr>\n",
       "      <th>max</th>\n",
       "      <td>174.000000</td>\n",
       "      <td>2023-09-17 09:12:53</td>\n",
       "      <td>1.575434e+06</td>\n",
       "    </tr>\n",
       "    <tr>\n",
       "      <th>std</th>\n",
       "      <td>48.494316</td>\n",
       "      <td>NaN</td>\n",
       "      <td>1.824636e+05</td>\n",
       "    </tr>\n",
       "  </tbody>\n",
       "</table>\n",
       "</div>"
      ],
      "text/plain": [
       "               id                     created_at       user_id\n",
       "count  163.000000                            163  1.630000e+02\n",
       "mean    89.828221  2023-05-27 11:32:20.828220672  1.263685e+06\n",
       "min      6.000000            2023-05-14 05:49:22  8.341120e+05\n",
       "25%     48.500000            2023-05-18 11:34:05  1.152704e+06\n",
       "50%     89.000000            2023-05-22 08:54:33  1.273301e+06\n",
       "75%    131.500000     2023-05-29 12:58:21.500000  1.398432e+06\n",
       "max    174.000000            2023-09-17 09:12:53  1.575434e+06\n",
       "std     48.494316                            NaN  1.824636e+05"
      ]
     },
     "execution_count": 55,
     "metadata": {},
     "output_type": "execute_result"
    }
   ],
   "source": [
    "failpaymenthistory_df.describe()"
   ]
  },
  {
   "cell_type": "code",
   "execution_count": 56,
   "id": "6eda835a",
   "metadata": {},
   "outputs": [
    {
     "data": {
      "text/plain": [
       "productId     65.644172\n",
       "id             0.000000\n",
       "phone_type     0.000000\n",
       "created_at     0.000000\n",
       "user_id        0.000000\n",
       "dtype: float64"
      ]
     },
     "execution_count": 56,
     "metadata": {},
     "output_type": "execute_result"
    }
   ],
   "source": [
    "failpaymenthistory_df.isnull().mean().sort_values(ascending=False) * 100"
   ]
  },
  {
   "cell_type": "code",
   "execution_count": 57,
   "id": "3ed1165c",
   "metadata": {},
   "outputs": [
    {
     "name": "stdout",
     "output_type": "stream",
     "text": [
      "\n",
      " [productId] 분포\n",
      "productId\n",
      "None          107\n",
      "heart.777      49\n",
      "heart.1000      4\n",
      "heart.200       3\n",
      "Name: count, dtype: int64\n",
      "\n",
      " [phone_type] 분포\n",
      "phone_type\n",
      "I    107\n",
      "A     56\n",
      "Name: count, dtype: int64\n"
     ]
    }
   ],
   "source": [
    "categorical_cols = failpaymenthistory_df.select_dtypes(include=['object', 'category']).columns\n",
    "\n",
    "for col in categorical_cols:\n",
    "    print(f\"\\n [{col}] 분포\")\n",
    "    print(failpaymenthistory_df[col].value_counts(dropna=False))"
   ]
  },
  {
   "cell_type": "code",
   "execution_count": null,
   "id": "23609ee5",
   "metadata": {},
   "outputs": [],
   "source": []
  },
  {
   "cell_type": "code",
   "execution_count": 58,
   "id": "644cf5d1",
   "metadata": {},
   "outputs": [],
   "source": [
    "numerical_cols = failpaymenthistory_df.select_dtypes(include=['int64', 'float64']).columns"
   ]
  },
  {
   "cell_type": "code",
   "execution_count": 59,
   "id": "13618105",
   "metadata": {},
   "outputs": [
    {
     "name": "stdout",
     "output_type": "stream",
     "text": [
      "id: 이상치 개수 = 0\n",
      "user_id: 이상치 개수 = 0\n"
     ]
    }
   ],
   "source": [
    "# IQR 기반 이상치 개수 확인\n",
    "for col in numerical_cols:\n",
    "    Q1 = failpaymenthistory_df[col].quantile(0.25)\n",
    "    Q3 = failpaymenthistory_df[col].quantile(0.75)\n",
    "    IQR = Q3 - Q1\n",
    "    outliers = failpaymenthistory_df[(failpaymenthistory_df[col] < Q1 - 1.5 * IQR) |\n",
    "                                     (failpaymenthistory_df[col] > Q3 + 1.5 * IQR)]\n",
    "    print(f\"{col}: 이상치 개수 = {len(outliers)}\")\n"
   ]
  },
  {
   "cell_type": "code",
   "execution_count": 60,
   "id": "7a6bb65b",
   "metadata": {},
   "outputs": [
    {
     "data": {
      "image/png": "[encoded data removed]",
      "text/plain": [
       "<Figure size 1000x600 with 2 Axes>"
      ]
     },
     "metadata": {},
     "output_type": "display_data"
    }
   ],
   "source": [
    "plt.figure(figsize=(10, 6))\n",
    "sns.heatmap(failpaymenthistory_df[numerical_cols].corr(), annot=True, cmap='coolwarm', fmt=\".2f\")\n",
    "plt.title(\"상관관계 히트맵\")\n",
    "plt.show()"
   ]
  },
  {
   "cell_type": "code",
   "execution_count": 61,
   "id": "e56bd76a",
   "metadata": {},
   "outputs": [
    {
     "name": "stdout",
     "output_type": "stream",
     "text": [
      "날짜형 컬럼: ['created_at']\n",
      "   year  month  dayofweek\n",
      "0  2023      5          6\n",
      "1  2023      5          6\n",
      "2  2023      5          6\n",
      "3  2023      5          6\n",
      "4  2023      5          6\n"
     ]
    }
   ],
   "source": [
    "# 날짜형 컬럼 확인\n",
    "datetime_cols = failpaymenthistory_df.select_dtypes(include=['datetime64[ns]', 'datetime']).columns\n",
    "print(\"날짜형 컬럼:\", list(datetime_cols))\n",
    "\n",
    "# 예시: 날짜 파생 변수 생성\n",
    "if len(datetime_cols) > 0:\n",
    "    dt_col = datetime_cols[0]\n",
    "    failpaymenthistory_df['year'] = failpaymenthistory_df[dt_col].dt.year\n",
    "    failpaymenthistory_df['month'] = failpaymenthistory_df[dt_col].dt.month\n",
    "    failpaymenthistory_df['dayofweek'] = failpaymenthistory_df[dt_col].dt.dayofweek\n",
    "    print(failpaymenthistory_df[['year', 'month', 'dayofweek']].head())\n"
   ]
  },
  {
   "cell_type": "code",
   "execution_count": null,
   "id": "7490ca4f",
   "metadata": {},
   "outputs": [],
   "source": []
  },
  {
   "cell_type": "markdown",
   "id": "6247a02f",
   "metadata": {},
   "source": [
    "#### 1. 유저별 실패 결제 건수 집계"
   ]
  },
  {
   "cell_type": "code",
   "execution_count": 62,
   "id": "37ec050a",
   "metadata": {},
   "outputs": [
    {
     "name": "stdout",
     "output_type": "stream",
     "text": [
      "상위 10명 유저의 실패 결제 횟수:\n"
     ]
    },
    {
     "data": {
      "text/html": [
       "<div>\n",
       "<style scoped>\n",
       "    .dataframe tbody tr th:only-of-type {\n",
       "        vertical-align: middle;\n",
       "    }\n",
       "\n",
       "    .dataframe tbody tr th {\n",
       "        vertical-align: top;\n",
       "    }\n",
       "\n",
       "    .dataframe thead th {\n",
       "        text-align: right;\n",
       "    }\n",
       "</style>\n",
       "<table border=\"1\" class=\"dataframe\">\n",
       "  <thead>\n",
       "    <tr style=\"text-align: right;\">\n",
       "      <th></th>\n",
       "      <th>user_id</th>\n",
       "      <th>fail_count</th>\n",
       "    </tr>\n",
       "  </thead>\n",
       "  <tbody>\n",
       "    <tr>\n",
       "      <th>0</th>\n",
       "      <td>927108</td>\n",
       "      <td>2</td>\n",
       "    </tr>\n",
       "    <tr>\n",
       "      <th>1</th>\n",
       "      <td>1211047</td>\n",
       "      <td>2</td>\n",
       "    </tr>\n",
       "    <tr>\n",
       "      <th>2</th>\n",
       "      <td>1322662</td>\n",
       "      <td>2</td>\n",
       "    </tr>\n",
       "    <tr>\n",
       "      <th>3</th>\n",
       "      <td>1236620</td>\n",
       "      <td>1</td>\n",
       "    </tr>\n",
       "    <tr>\n",
       "      <th>4</th>\n",
       "      <td>1129520</td>\n",
       "      <td>1</td>\n",
       "    </tr>\n",
       "    <tr>\n",
       "      <th>5</th>\n",
       "      <td>1464003</td>\n",
       "      <td>1</td>\n",
       "    </tr>\n",
       "    <tr>\n",
       "      <th>6</th>\n",
       "      <td>1310450</td>\n",
       "      <td>1</td>\n",
       "    </tr>\n",
       "    <tr>\n",
       "      <th>7</th>\n",
       "      <td>1505705</td>\n",
       "      <td>1</td>\n",
       "    </tr>\n",
       "    <tr>\n",
       "      <th>8</th>\n",
       "      <td>1297332</td>\n",
       "      <td>1</td>\n",
       "    </tr>\n",
       "    <tr>\n",
       "      <th>9</th>\n",
       "      <td>1298182</td>\n",
       "      <td>1</td>\n",
       "    </tr>\n",
       "  </tbody>\n",
       "</table>\n",
       "</div>"
      ],
      "text/plain": [
       "   user_id  fail_count\n",
       "0   927108           2\n",
       "1  1211047           2\n",
       "2  1322662           2\n",
       "3  1236620           1\n",
       "4  1129520           1\n",
       "5  1464003           1\n",
       "6  1310450           1\n",
       "7  1505705           1\n",
       "8  1297332           1\n",
       "9  1298182           1"
      ]
     },
     "metadata": {},
     "output_type": "display_data"
    }
   ],
   "source": [
    "user_fail_count = failpaymenthistory_df['user_id'].value_counts().reset_index()\n",
    "user_fail_count.columns = ['user_id', 'fail_count']\n",
    "\n",
    "print(\"상위 10명 유저의 실패 결제 횟수:\")\n",
    "display(user_fail_count.head(10))\n"
   ]
  },
  {
   "cell_type": "markdown",
   "id": "a1dfe902",
   "metadata": {},
   "source": [
    "#### 2. 유저별 첫 실패일 / 마지막 실패일"
   ]
  },
  {
   "cell_type": "code",
   "execution_count": 63,
   "id": "92be28bb",
   "metadata": {},
   "outputs": [
    {
     "name": "stdout",
     "output_type": "stream",
     "text": [
      "Index(['id', 'productId', 'phone_type', 'created_at', 'user_id', 'year',\n",
      "       'month', 'dayofweek'],\n",
      "      dtype='object')\n"
     ]
    }
   ],
   "source": [
    "print(failpaymenthistory_df.columns)"
   ]
  },
  {
   "cell_type": "code",
   "execution_count": 64,
   "id": "77e373a1",
   "metadata": {},
   "outputs": [
    {
     "name": "stdout",
     "output_type": "stream",
     "text": [
      "유저별 첫/마지막 실패 결제일:\n"
     ]
    },
    {
     "data": {
      "text/html": [
       "<div>\n",
       "<style scoped>\n",
       "    .dataframe tbody tr th:only-of-type {\n",
       "        vertical-align: middle;\n",
       "    }\n",
       "\n",
       "    .dataframe tbody tr th {\n",
       "        vertical-align: top;\n",
       "    }\n",
       "\n",
       "    .dataframe thead th {\n",
       "        text-align: right;\n",
       "    }\n",
       "</style>\n",
       "<table border=\"1\" class=\"dataframe\">\n",
       "  <thead>\n",
       "    <tr style=\"text-align: right;\">\n",
       "      <th></th>\n",
       "      <th>user_id</th>\n",
       "      <th>first_fail_date</th>\n",
       "      <th>last_fail_date</th>\n",
       "    </tr>\n",
       "  </thead>\n",
       "  <tbody>\n",
       "    <tr>\n",
       "      <th>0</th>\n",
       "      <td>834112</td>\n",
       "      <td>2023-05-21 23:55:48</td>\n",
       "      <td>2023-05-21 23:55:48</td>\n",
       "    </tr>\n",
       "    <tr>\n",
       "      <th>1</th>\n",
       "      <td>877422</td>\n",
       "      <td>2023-05-24 06:49:30</td>\n",
       "      <td>2023-05-24 06:49:30</td>\n",
       "    </tr>\n",
       "    <tr>\n",
       "      <th>2</th>\n",
       "      <td>878664</td>\n",
       "      <td>2023-05-16 13:51:35</td>\n",
       "      <td>2023-05-16 13:51:35</td>\n",
       "    </tr>\n",
       "    <tr>\n",
       "      <th>3</th>\n",
       "      <td>892843</td>\n",
       "      <td>2023-05-30 13:22:05</td>\n",
       "      <td>2023-05-30 13:22:05</td>\n",
       "    </tr>\n",
       "    <tr>\n",
       "      <th>4</th>\n",
       "      <td>894196</td>\n",
       "      <td>2023-06-04 15:01:04</td>\n",
       "      <td>2023-06-04 15:01:04</td>\n",
       "    </tr>\n",
       "  </tbody>\n",
       "</table>\n",
       "</div>"
      ],
      "text/plain": [
       "   user_id     first_fail_date      last_fail_date\n",
       "0   834112 2023-05-21 23:55:48 2023-05-21 23:55:48\n",
       "1   877422 2023-05-24 06:49:30 2023-05-24 06:49:30\n",
       "2   878664 2023-05-16 13:51:35 2023-05-16 13:51:35\n",
       "3   892843 2023-05-30 13:22:05 2023-05-30 13:22:05\n",
       "4   894196 2023-06-04 15:01:04 2023-06-04 15:01:04"
      ]
     },
     "metadata": {},
     "output_type": "display_data"
    }
   ],
   "source": [
    "# created_at을 기준으로 분석\n",
    "failpaymenthistory_df['created_at'] = pd.to_datetime(failpaymenthistory_df['created_at'], errors='coerce')\n",
    "\n",
    "user_date_range = failpaymenthistory_df.groupby('user_id')['created_at'].agg(['min', 'max']).reset_index()\n",
    "user_date_range.columns = ['user_id', 'first_fail_date', 'last_fail_date']\n",
    "\n",
    "print(\"유저별 첫/마지막 실패 결제일:\")\n",
    "display(user_date_range.head())\n",
    "\n"
   ]
  },
  {
   "cell_type": "code",
   "execution_count": null,
   "id": "b2a1a59b",
   "metadata": {},
   "outputs": [],
   "source": []
  },
  {
   "cell_type": "markdown",
   "id": "ee5e0f3e",
   "metadata": {},
   "source": [
    "#### 3. 상위 1% 유저가 전체 실패의 몇 %를 차지하는가?"
   ]
  },
  {
   "cell_type": "code",
   "execution_count": 65,
   "id": "f56c642c",
   "metadata": {},
   "outputs": [
    {
     "name": "stdout",
     "output_type": "stream",
     "text": [
      "상위 1% 유저 수: 1\n",
      "상위 1% 유저가 차지하는 실패 결제 비중: 1.23%\n"
     ]
    }
   ],
   "source": [
    "# 유저 수 상위 1%\n",
    "n_users = len(user_fail_count)\n",
    "top_1_percent_threshold = int(n_users * 0.01)\n",
    "\n",
    "top_users = user_fail_count.head(top_1_percent_threshold)\n",
    "top_users_total_fails = top_users['fail_count'].sum()\n",
    "total_fails = len(failpaymenthistory_df)\n",
    "\n",
    "print(f\"상위 1% 유저 수: {top_1_percent_threshold}\")\n",
    "print(f\"상위 1% 유저가 차지하는 실패 결제 비중: {top_users_total_fails / total_fails * 100:.2f}%\")"
   ]
  },
  {
   "cell_type": "markdown",
   "id": "08ec1f62",
   "metadata": {},
   "source": [
    "#### 4. 실패 건수 1회 vs 다회 유저 분포"
   ]
  },
  {
   "cell_type": "code",
   "execution_count": 66,
   "id": "13e2351e",
   "metadata": {},
   "outputs": [
    {
     "name": "stdout",
     "output_type": "stream",
     "text": [
      "유저별 실패 건수 분포:\n",
      "fail_count\n",
      "1    157\n",
      "2      3\n",
      "Name: count, dtype: int64\n"
     ]
    },
    {
     "data": {
      "image/png": "[encoded data removed]",
      "text/plain": [
       "<Figure size 1000x500 with 1 Axes>"
      ]
     },
     "metadata": {},
     "output_type": "display_data"
    }
   ],
   "source": [
    "fail_distribution = user_fail_count['fail_count'].value_counts().sort_index()\n",
    "print(\"유저별 실패 건수 분포:\")\n",
    "print(fail_distribution)\n",
    "\n",
    "# 시각화\n",
    "import matplotlib.pyplot as plt\n",
    "\n",
    "plt.figure(figsize=(10, 5))\n",
    "fail_distribution.plot(kind='bar')\n",
    "plt.title(\"유저별 실패 결제 건수 분포\")\n",
    "plt.xlabel(\"실패 결제 횟수\")\n",
    "plt.ylabel(\"유저 수\")\n",
    "plt.show()\n"
   ]
  },
  {
   "cell_type": "markdown",
   "id": "e2751b0a",
   "metadata": {},
   "source": [
    "#### 유저 생애주기 중 언제 실패가 잦은지"
   ]
  },
  {
   "cell_type": "code",
   "execution_count": 67,
   "id": "2d1650f4",
   "metadata": {},
   "outputs": [],
   "source": [
    "# created_at은 실패 결제 발생일\n",
    "failpaymenthistory_df['created_at'] = pd.to_datetime(failpaymenthistory_df['created_at'], errors='coerce')\n",
    "\n",
    "# 유저별 첫 실패일을 merge\n",
    "user_first_fail = user_date_range[['user_id', 'first_fail_date']]\n",
    "failpaymenthistory_df = failpaymenthistory_df.merge(user_first_fail, on='user_id', how='left')\n",
    "\n",
    "# 생애주기 일수 (life_day) 계산\n",
    "failpaymenthistory_df['life_day'] = (failpaymenthistory_df['created_at'] - failpaymenthistory_df['first_fail_date']).dt.days\n"
   ]
  },
  {
   "cell_type": "code",
   "execution_count": 68,
   "id": "49d0dadf",
   "metadata": {},
   "outputs": [],
   "source": [
    "# 생애주기 구간 설정\n",
    "bins = [-1, 7, 30, 90, 180, 365, 10000]\n",
    "labels = ['0~7일', '8~30일', '31~90일', '91~180일', '181~365일', '1년 이상']\n",
    "\n",
    "failpaymenthistory_df['life_stage'] = pd.cut(failpaymenthistory_df['life_day'], bins=bins, labels=labels)\n"
   ]
  },
  {
   "cell_type": "code",
   "execution_count": 69,
   "id": "41a4b85d",
   "metadata": {},
   "outputs": [
    {
     "name": "stdout",
     "output_type": "stream",
     "text": [
      "생애주기 구간별 실패 결제 수:\n",
      "life_stage\n",
      "0~7일        163\n",
      "8~30일         0\n",
      "31~90일        0\n",
      "91~180일       0\n",
      "181~365일      0\n",
      "1년 이상         0\n",
      "Name: count, dtype: int64\n"
     ]
    }
   ],
   "source": [
    "# 구간별 실패 건수 집계\n",
    "life_stage_counts = failpaymenthistory_df['life_stage'].value_counts().sort_index()\n",
    "\n",
    "print(\"생애주기 구간별 실패 결제 수:\")\n",
    "print(life_stage_counts)\n"
   ]
  },
  {
   "cell_type": "code",
   "execution_count": 70,
   "id": "eb1b403a",
   "metadata": {},
   "outputs": [
    {
     "data": {
      "image/png": "[encoded data removed]",
      "text/plain": [
       "<Figure size 800x500 with 1 Axes>"
      ]
     },
     "metadata": {},
     "output_type": "display_data"
    }
   ],
   "source": [
    "\n",
    "plt.figure(figsize=(8, 5))\n",
    "life_stage_counts.plot(kind='bar')\n",
    "plt.title(\"유저 생애주기별 실패 결제 발생 분포\")\n",
    "plt.xlabel(\"생애주기 구간\")\n",
    "plt.ylabel(\"실패 결제 수\")\n",
    "plt.xticks(rotation=45)\n",
    "plt.grid(True, axis='y')\n",
    "plt.tight_layout()\n",
    "plt.show()\n"
   ]
  },
  {
   "cell_type": "code",
   "execution_count": null,
   "id": "5350ba4f",
   "metadata": {},
   "outputs": [],
   "source": []
  },
  {
   "cell_type": "code",
   "execution_count": null,
   "id": "5cadf3d6",
   "metadata": {},
   "outputs": [],
   "source": []
  }
 ],
 "metadata": {
  "kernelspec": {
   "display_name": "Python 3",
   "language": "python",
   "name": "python3"
  },
  "language_info": {
   "codemirror_mode": {
    "name": "ipython",
    "version": 3
   },
   "file_extension": ".py",
   "mimetype": "text/x-python",
   "name": "python",
   "nbconvert_exporter": "python",
   "pygments_lexer": "ipython3",
   "version": "3.12.3"
  }
 },
 "nbformat": 4,
 "nbformat_minor": 5
}
